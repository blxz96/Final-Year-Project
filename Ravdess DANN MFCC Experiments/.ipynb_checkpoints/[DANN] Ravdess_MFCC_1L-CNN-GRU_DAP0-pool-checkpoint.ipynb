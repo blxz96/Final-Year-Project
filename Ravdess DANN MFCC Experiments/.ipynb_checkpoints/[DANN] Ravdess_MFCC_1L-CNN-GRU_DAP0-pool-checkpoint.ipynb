{
 "cells": [
  {
   "cell_type": "code",
   "execution_count": 1,
   "id": "binding-crime",
   "metadata": {
    "execution": {
     "iopub.execute_input": "2021-03-21T08:02:16.662770Z",
     "iopub.status.busy": "2021-03-21T08:02:16.661966Z",
     "iopub.status.idle": "2021-03-21T08:02:22.685237Z",
     "shell.execute_reply": "2021-03-21T08:02:22.685984Z"
    },
    "papermill": {
     "duration": 6.06174,
     "end_time": "2021-03-21T08:02:22.686274",
     "exception": false,
     "start_time": "2021-03-21T08:02:16.624534",
     "status": "completed"
    },
    "tags": []
   },
   "outputs": [],
   "source": [
    "import os\n",
    "import torch\n",
    "import torchaudio\n",
    "torchaudio.set_audio_backend(\"sox_io\")\n",
    "import pandas as pd\n",
    "import numpy as np\n",
    "import torch.nn.functional as F\n",
    "import random\n",
    "import scipy\n",
    "import math\n",
    "from scipy import signal\n",
    "import librosa.display\n",
    "import torch.nn as nn\n",
    "from torch.utils.data import DataLoader\n",
    "\n",
    "GAMMA = 1.25\n",
    "DATA = 'ravdess_MFCC'\n",
    "LAYERS = 1\n",
    "ROOT = './Dataset/{}'.format(DATA)\n",
    "os.environ[\"CUDA_DEVICE_ORDER\"] = \"PCI_BUS_ID\"\n",
    "os.environ[\"CUDA_VISIBLE_DEVICES\"] = \"0\"\n",
    "MODEL_PATH = './model/{}_DANN_{}L-CNN-GRU_DAP{}_CV'.format(DATA,LAYERS,GAMMA)\n",
    "NPARR_PATH = './array/{}_DANN_{}L-CNN-GRU_DAP{}_CV accuracies.npz'.format(DATA,LAYERS,GAMMA)"
   ]
  },
  {
   "cell_type": "code",
   "execution_count": 2,
   "id": "consistent-christianity",
   "metadata": {
    "execution": {
     "iopub.execute_input": "2021-03-21T08:02:22.763424Z",
     "iopub.status.busy": "2021-03-21T08:02:22.762769Z",
     "iopub.status.idle": "2021-03-21T08:02:22.765280Z",
     "shell.execute_reply": "2021-03-21T08:02:22.765802Z"
    },
    "papermill": {
     "duration": 0.051392,
     "end_time": "2021-03-21T08:02:22.765975",
     "exception": false,
     "start_time": "2021-03-21T08:02:22.714583",
     "status": "completed"
    },
    "tags": []
   },
   "outputs": [
    {
     "name": "stdout",
     "output_type": "stream",
     "text": [
      "Seed set to:42\n"
     ]
    }
   ],
   "source": [
    "def set_seed(sd):\n",
    "    np.random.seed(sd)\n",
    "    random.seed(sd)\n",
    "    random.Random(sd)\n",
    "    torch.manual_seed(sd)\n",
    "    torch.cuda.manual_seed(sd)\n",
    "    torch.cuda.manual_seed_all(sd)\n",
    "    torch.backends.cudnn.enabled = False\n",
    "    torch.backends.cudnn.benchmark = False\n",
    "    torch.backends.cudnn.deterministic = True\n",
    "    print(\"Seed set to:{}\".format(sd))\n",
    "# also set worker_init_fn=np.random.seed(0),num_workers=0 in dataloader   \n",
    "\n",
    "set_seed(42)"
   ]
  },
  {
   "cell_type": "markdown",
   "id": "animated-connectivity",
   "metadata": {
    "papermill": {
     "duration": 0.041699,
     "end_time": "2021-03-21T08:02:22.877378",
     "exception": false,
     "start_time": "2021-03-21T08:02:22.835679",
     "status": "completed"
    },
    "tags": []
   },
   "source": [
    "## 1. CV Dataset for Ravdess"
   ]
  },
  {
   "cell_type": "code",
   "execution_count": 3,
   "id": "strange-asset",
   "metadata": {
    "execution": {
     "iopub.execute_input": "2021-03-21T08:02:22.988773Z",
     "iopub.status.busy": "2021-03-21T08:02:22.988050Z",
     "iopub.status.idle": "2021-03-21T08:02:23.031323Z",
     "shell.execute_reply": "2021-03-21T08:02:23.031948Z"
    },
    "papermill": {
     "duration": 0.098857,
     "end_time": "2021-03-21T08:02:23.032155",
     "exception": false,
     "start_time": "2021-03-21T08:02:22.933298",
     "status": "completed"
    },
    "tags": []
   },
   "outputs": [],
   "source": [
    "class RavdessDataset2(object):\n",
    "    \"\"\"\n",
    "        Create a Dataset for RAVDESS. Each item is a tuple of the form:\n",
    "        (feature, emotion, speaker)\n",
    "    \"\"\" \n",
    "    \n",
    "    # Emotion (01 = neutral, 02 = calm, 03 = happy, 04 = sad, 05 = angry, 06 = fearful, 07 = disgust, 08 = surprised)\n",
    "    _emotions = { '01': 0, '02': 1, '03': 2, '04': 3, '05': 4, '06': 5, '07': 6, '08': 7 }\n",
    " \n",
    "    _speaker = {'0'+ str(i+1): i for i in range(24) if i< 9}\n",
    "    _speaker.update({str(i+1): i for i in range(24) if i>= 9})\n",
    "\n",
    "    \n",
    "    def __init__(self, root, cv_index, split):\n",
    "        \"\"\"\n",
    "        Args:\n",
    "            root (string): Directory containing the wav files\n",
    "            split(string): Either train, validate or test set\n",
    "        \"\"\"\n",
    "        self.root = root\n",
    "        self.data = []\n",
    "        self.df = pd.DataFrame(self.data, columns=['Speaker', 'Emotion', 'File'])\n",
    "        self.allActors = ['0'+ str(i+1) for i in range(24)if i<9] + [str(i+1) for i in range(24)if i>=9]\n",
    "        \n",
    "        self.cv = { 0:  (['01','02'],['03','04']),\n",
    "                    1:  (['03','04'],['05','06']),\n",
    "                    2:  (['05','06'],['07','08']),\n",
    "                    3:  (['07','08'],['09','10']),\n",
    "                    4:  (['09','10'],['11','12']),\n",
    "                    5:  (['11','12'],['13','14']),\n",
    "                    6:  (['13','14'],['15','16']),\n",
    "                    7:  (['15','16'],['17','18']),\n",
    "                    8:  (['17','18'],['19','20']),\n",
    "                    9:  (['19','20'],['21','22']),\n",
    "                    10: (['21','22'],['23','24']),\n",
    "                    11: (['23','24'],['01','02'])\n",
    "                  }\n",
    "\n",
    "        # Iterate through all audio files\n",
    "        for root, dirs, files in os.walk(root):\n",
    "            for file in files: \n",
    "                \n",
    "                if split == 'train':\n",
    "                    if file[-5:-3] in [x for x in self.allActors if x not in (self.cv[cv_index][0]+ self.cv[cv_index][1])]:\n",
    "                        self.data.append([file[-5:-3],file[6:8],file])\n",
    "                        \n",
    "                elif split == 'validate':\n",
    "                    if file[-5:-3] in self.cv[cv_index][0]:\n",
    "                        self.data.append([file[-5:-3],file[6:8],file])\n",
    "                        \n",
    "                elif split == 'test':\n",
    "                    if file[-5:-3] in self.cv[cv_index][1]:\n",
    "                        self.data.append([file[-5:-3],file[6:8],file])\n",
    "                else:\n",
    "                    print(\"Error: Split can only be train, validate or test!\")\n",
    "\n",
    "        # Convert data to pandas dataframe\n",
    "        self.df = pd.DataFrame(self.data, columns=['Speaker', 'Emotion', 'File'])\n",
    "\n",
    "        # Map emotion labels to numeric values\n",
    "        self.df['Emotion'] = self.df['Emotion'].map(self._emotions).astype(np.long)\n",
    "        self.df['Speaker'] = self.df['Speaker'].map(self._speaker).astype(np.long)\n",
    "\n",
    "    def __len__(self):\n",
    "        return len(self.df)\n",
    "\n",
    "\n",
    "    def __getitem__(self, idx):\n",
    "\n",
    "        file_name = os.path.join(self.root, self.df.loc[idx, 'File'])\n",
    "        feature = torch.load(file_name )\n",
    "        emotion = self.df.loc[idx, 'Emotion']\n",
    "        speaker = self.df.loc[idx, 'Speaker']\n",
    "        \n",
    "        # return a tuple instead of a dictionary\n",
    "        sample = (feature,emotion,speaker)\n",
    "\n",
    "        return sample"
   ]
  },
  {
   "cell_type": "code",
   "execution_count": 4,
   "id": "convinced-gender",
   "metadata": {
    "execution": {
     "iopub.execute_input": "2021-03-21T08:02:23.103780Z",
     "iopub.status.busy": "2021-03-21T08:02:23.103039Z",
     "iopub.status.idle": "2021-03-21T08:02:23.106732Z",
     "shell.execute_reply": "2021-03-21T08:02:23.106140Z"
    },
    "papermill": {
     "duration": 0.04896,
     "end_time": "2021-03-21T08:02:23.106891",
     "exception": false,
     "start_time": "2021-03-21T08:02:23.057931",
     "status": "completed"
    },
    "tags": []
   },
   "outputs": [],
   "source": [
    "# # Initialize RavdessDataset\n",
    "# ravdess_dataset_train = RavdessDataset2(ROOT,cv_index = 4,split= 'train')\n",
    "# ravdess_dataset_test = RavdessDataset2(ROOT,cv_index = 4,split= 'test')\n",
    "# ravdess_dataset_validate = RavdessDataset2(ROOT,cv_index = 4, split= 'validate')\n",
    "\n",
    "# # To view dataframe, uncomment below: \n",
    "# ravdess_dataset_train.df"
   ]
  },
  {
   "cell_type": "code",
   "execution_count": 5,
   "id": "arbitrary-exhibit",
   "metadata": {
    "execution": {
     "iopub.execute_input": "2021-03-21T08:02:23.244565Z",
     "iopub.status.busy": "2021-03-21T08:02:23.243901Z",
     "iopub.status.idle": "2021-03-21T08:02:23.246488Z",
     "shell.execute_reply": "2021-03-21T08:02:23.245879Z"
    },
    "papermill": {
     "duration": 0.098408,
     "end_time": "2021-03-21T08:02:23.246626",
     "exception": false,
     "start_time": "2021-03-21T08:02:23.148218",
     "status": "completed"
    },
    "tags": []
   },
   "outputs": [],
   "source": [
    "# from torch.utils.data import DataLoader\n",
    "# TRAIN_BATCH_SIZE = 16\n",
    "# VALIDATE_BATCH_SIZE = len(ravdess_dataset_validate)\n",
    "# TEST_BATCH_SIZE = len(ravdess_dataset_test)\n",
    "# ravdess_train_loader = DataLoader(dataset=ravdess_dataset_train, batch_size= TRAIN_BATCH_SIZE, shuffle=True, drop_last=False,worker_init_fn=np.random.seed(42),num_workers=2, pin_memory=True)\n",
    "# ravdess_validate_loader = DataLoader(dataset=ravdess_dataset_validate, batch_size= VALIDATE_BATCH_SIZE, shuffle=True, drop_last=False,worker_init_fn=np.random.seed(42),num_workers=2, pin_memory=True)\n",
    "# ravdess_test_loader = DataLoader(dataset=ravdess_dataset_test, batch_size= TEST_BATCH_SIZE, shuffle=True, drop_last=False,worker_init_fn=np.random.seed(42),num_workers=2, pin_memory=True)"
   ]
  },
  {
   "cell_type": "code",
   "execution_count": 6,
   "id": "statutory-parking",
   "metadata": {
    "execution": {
     "iopub.execute_input": "2021-03-21T08:02:23.330932Z",
     "iopub.status.busy": "2021-03-21T08:02:23.330321Z",
     "iopub.status.idle": "2021-03-21T08:02:23.333360Z",
     "shell.execute_reply": "2021-03-21T08:02:23.332709Z"
    },
    "papermill": {
     "duration": 0.053945,
     "end_time": "2021-03-21T08:02:23.333538",
     "exception": false,
     "start_time": "2021-03-21T08:02:23.279593",
     "status": "completed"
    },
    "tags": []
   },
   "outputs": [],
   "source": [
    "# next(iter(ravdess_train_loader))"
   ]
  },
  {
   "cell_type": "markdown",
   "id": "successful-azerbaijan",
   "metadata": {
    "papermill": {
     "duration": 0.019818,
     "end_time": "2021-03-21T08:02:23.374542",
     "exception": false,
     "start_time": "2021-03-21T08:02:23.354724",
     "status": "completed"
    },
    "tags": []
   },
   "source": [
    "## 2. Network Architectures and Helper Functions"
   ]
  },
  {
   "cell_type": "markdown",
   "id": "incomplete-fluid",
   "metadata": {
    "papermill": {
     "duration": 0.020836,
     "end_time": "2021-03-21T08:02:23.415394",
     "exception": false,
     "start_time": "2021-03-21T08:02:23.394558",
     "status": "completed"
    },
    "tags": []
   },
   "source": [
    "### 2.1 Network Architectures"
   ]
  },
  {
   "cell_type": "code",
   "execution_count": 7,
   "id": "dense-gates",
   "metadata": {
    "execution": {
     "iopub.execute_input": "2021-03-21T08:02:23.538183Z",
     "iopub.status.busy": "2021-03-21T08:02:23.537472Z",
     "iopub.status.idle": "2021-03-21T08:02:23.562481Z",
     "shell.execute_reply": "2021-03-21T08:02:23.563195Z"
    },
    "papermill": {
     "duration": 0.104732,
     "end_time": "2021-03-21T08:02:23.563383",
     "exception": false,
     "start_time": "2021-03-21T08:02:23.458651",
     "status": "completed"
    },
    "tags": []
   },
   "outputs": [],
   "source": [
    "class FeatureExtractor(nn.Module):\n",
    "    def __init__(self):\n",
    "        # For same padding, P = ((S-1)*W-S+F)/2, with F = filter size, S = stride. If stride = 1, P = (F-1)/2\n",
    "        super().__init__()\n",
    "        self.conv_layers = nn.Sequential(\n",
    "            nn.Conv2d(in_channels=1, out_channels=64, kernel_size=(2, 2),padding=1,bias=False),  \n",
    "            nn.BatchNorm2d(64),\n",
    "            nn.Dropout2d(p=0.1),\n",
    "            nn.ELU(inplace=True),\n",
    "            nn.MaxPool2d(kernel_size=(2, 2), stride=(2, 2)),  \n",
    "                     \n",
    "        )\n",
    "        \n",
    "        self.GRU = nn.GRU(input_size= 640, hidden_size = 256 ,batch_first = True, bidirectional = True) #128\n",
    "        self.FC = nn.Linear(in_features = 512, out_features = 512) \n",
    "        \n",
    "        \n",
    "    def forward(self,x):\n",
    "        x = self.conv_layers(x)\n",
    "        # print(\"1-LFLB shape: {}\".format(x.shape))                     # batch_size, c_out, freq, time since we are using spectogram\n",
    "        x = x.view(x.size(0),-1,x.size(3)) \n",
    "        # print(\"Batch size, features, seq shape: {}\".format(x.shape))  # batch_size, features= c_out* freq , seq_len= time\n",
    "        x = x.permute(0,2,1)\n",
    "        # print(\"Batch size, seq, features shape: {}\".format(x.shape))  # batch_size, seq, features\n",
    "        output, hn = self.GRU(x)\n",
    "        # print(\"GRU output shape: {}\".format(output.shape))            # batch_size, seq, hidden size * 2 \n",
    "        x = self.FC(output)\n",
    "        # print(\"FC shape: {}\".format(x.shape)) # 32 * 141 * 512\n",
    "        mean = torch.mean(x,1)\n",
    "        stdev = torch.std(x,1)\n",
    "        x = torch.cat((mean,stdev),1)\n",
    "        #print(\"Statistical pooling shape: {}\".format(x.shape)) # 32 * 1024\n",
    "\n",
    "        return x\n"
   ]
  },
  {
   "cell_type": "code",
   "execution_count": 8,
   "id": "fixed-damage",
   "metadata": {
    "execution": {
     "iopub.execute_input": "2021-03-21T08:02:23.640137Z",
     "iopub.status.busy": "2021-03-21T08:02:23.639384Z",
     "iopub.status.idle": "2021-03-21T08:02:23.640963Z",
     "shell.execute_reply": "2021-03-21T08:02:23.641501Z"
    },
    "papermill": {
     "duration": 0.057879,
     "end_time": "2021-03-21T08:02:23.641674",
     "exception": false,
     "start_time": "2021-03-21T08:02:23.583795",
     "status": "completed"
    },
    "tags": []
   },
   "outputs": [],
   "source": [
    "class EmotionClassifier(nn.Module):\n",
    "    def __init__(self):\n",
    "        super(EmotionClassifier,self).__init__()\n",
    "        self.label_classifier = nn.Sequential(\n",
    "            \n",
    "            nn.Linear(1024, 128),\n",
    "            nn.BatchNorm1d(128),\n",
    "            nn.Dropout2d(p=0.5),\n",
    "            nn.ReLU(inplace=True),\n",
    "            nn.Linear(128, 128),\n",
    "            nn.BatchNorm1d(128),\n",
    "            nn.Dropout2d(p=0.5),\n",
    "            nn.ReLU(inplace=True),\n",
    "            nn.Linear(128, 8),\n",
    "\n",
    "        )\n",
    "        \n",
    "    def forward(self,x):\n",
    "        x = self.label_classifier(x)\n",
    "        return F.softmax(x)\n"
   ]
  },
  {
   "cell_type": "code",
   "execution_count": 9,
   "id": "intelligent-outside",
   "metadata": {
    "execution": {
     "iopub.execute_input": "2021-03-21T08:02:23.762989Z",
     "iopub.status.busy": "2021-03-21T08:02:23.761902Z",
     "iopub.status.idle": "2021-03-21T08:02:23.763532Z",
     "shell.execute_reply": "2021-03-21T08:02:23.762427Z"
    },
    "papermill": {
     "duration": 0.086091,
     "end_time": "2021-03-21T08:02:23.763671",
     "exception": false,
     "start_time": "2021-03-21T08:02:23.677580",
     "status": "completed"
    },
    "tags": []
   },
   "outputs": [],
   "source": [
    "class SpeakerClassifier(nn.Module):\n",
    "    def __init__(self):\n",
    "        super(SpeakerClassifier,self).__init__()\n",
    "        self.label_classifier = nn.Sequential(\n",
    "            nn.Linear(1024, 128),\n",
    "            nn.BatchNorm1d(128),\n",
    "            nn.Dropout2d(p=0.5),\n",
    "            nn.ReLU(inplace=True),\n",
    "            nn.Linear(128, 128),\n",
    "            nn.BatchNorm1d(128),\n",
    "            nn.Dropout2d(p=0.5),\n",
    "            nn.ReLU(inplace=True),\n",
    "            nn.Linear(128, 24),\n",
    "        )\n",
    "        \n",
    "    def forward(self,x):\n",
    "        x = self.label_classifier(x)\n",
    "        return F.softmax(x)\n"
   ]
  },
  {
   "cell_type": "markdown",
   "id": "collectible-legislature",
   "metadata": {
    "papermill": {
     "duration": 0.060462,
     "end_time": "2021-03-21T08:02:23.906641",
     "exception": false,
     "start_time": "2021-03-21T08:02:23.846179",
     "status": "completed"
    },
    "tags": []
   },
   "source": [
    "### 2.2 Helper Functions"
   ]
  },
  {
   "cell_type": "code",
   "execution_count": 10,
   "id": "ultimate-coalition",
   "metadata": {
    "execution": {
     "iopub.execute_input": "2021-03-21T08:02:23.991951Z",
     "iopub.status.busy": "2021-03-21T08:02:23.990864Z",
     "iopub.status.idle": "2021-03-21T08:02:23.993133Z",
     "shell.execute_reply": "2021-03-21T08:02:23.992571Z"
    },
    "papermill": {
     "duration": 0.059976,
     "end_time": "2021-03-21T08:02:23.993274",
     "exception": false,
     "start_time": "2021-03-21T08:02:23.933298",
     "status": "completed"
    },
    "tags": []
   },
   "outputs": [],
   "source": [
    "import numpy as np\n",
    "\n",
    "def domain_adaptation_parameter(p):\n",
    "    lambda_p = 2. / (1. + np.exp(-GAMMA*p)) - 1\n",
    "    return lambda_p"
   ]
  },
  {
   "cell_type": "code",
   "execution_count": 11,
   "id": "separate-preparation",
   "metadata": {
    "execution": {
     "iopub.execute_input": "2021-03-21T08:02:24.078829Z",
     "iopub.status.busy": "2021-03-21T08:02:24.077923Z",
     "iopub.status.idle": "2021-03-21T08:02:24.079284Z",
     "shell.execute_reply": "2021-03-21T08:02:24.078359Z"
    },
    "papermill": {
     "duration": 0.050951,
     "end_time": "2021-03-21T08:02:24.079403",
     "exception": false,
     "start_time": "2021-03-21T08:02:24.028452",
     "status": "completed"
    },
    "tags": []
   },
   "outputs": [],
   "source": [
    "def save_parameters(PATH):\n",
    "    torch.save({\n",
    "                'encoder_state_dict': encoder.state_dict(),\n",
    "                'emotion_classifier_state_dict': emotion_classifier.state_dict(),\n",
    "                'speaker_classifier_state_dict': speaker_classifier.state_dict(),\n",
    "                'encoder_optimizer_state_dict': encoder_optimizer.state_dict(),\n",
    "                'emotion_optimizer_state_dict': emotion_optimizer.state_dict(),\n",
    "                'speaker_optimizer_state_dict': speaker_optimizer.state_dict(),\n",
    "                }, PATH)\n",
    "    print(\"Models' parameters and optimisers' parameters saved.\")"
   ]
  },
  {
   "cell_type": "code",
   "execution_count": 12,
   "id": "amended-warrant",
   "metadata": {
    "execution": {
     "iopub.execute_input": "2021-03-21T08:02:24.135379Z",
     "iopub.status.busy": "2021-03-21T08:02:24.133972Z",
     "iopub.status.idle": "2021-03-21T08:02:24.136108Z",
     "shell.execute_reply": "2021-03-21T08:02:24.134649Z"
    },
    "papermill": {
     "duration": 0.028877,
     "end_time": "2021-03-21T08:02:24.136281",
     "exception": false,
     "start_time": "2021-03-21T08:02:24.107404",
     "status": "completed"
    },
    "tags": []
   },
   "outputs": [],
   "source": [
    "def save_accuracies_and_losses(PATH):\n",
    "    np.savez(PATH, \n",
    "         emoClassLoss = fold_emotion_class_losses,\n",
    "         emoTrain_acc = fold_emotion_training_accuracies, \n",
    "         emoValidate_acc = fold_emotion_validating_accuracies,\n",
    "         spkClassLoss = fold_speaker_class_losses,\n",
    "         spkTrain_acc = fold_speaker_training_accuracies,\n",
    "         spkValidate_acc = fold_speaker_validating_accuracies,\n",
    "        \n",
    "    )"
   ]
  },
  {
   "cell_type": "markdown",
   "id": "curious-roads",
   "metadata": {
    "papermill": {
     "duration": 0.025694,
     "end_time": "2021-03-21T08:02:24.187533",
     "exception": false,
     "start_time": "2021-03-21T08:02:24.161839",
     "status": "completed"
    },
    "tags": []
   },
   "source": [
    "## 4. Model Training"
   ]
  },
  {
   "cell_type": "code",
   "execution_count": 13,
   "id": "lyric-elephant",
   "metadata": {
    "execution": {
     "iopub.execute_input": "2021-03-21T08:02:24.278979Z",
     "iopub.status.busy": "2021-03-21T08:02:24.278020Z",
     "iopub.status.idle": "2021-03-11T15:30:04.184492Z",
     "shell.execute_reply": "2021-03-11T15:30:04.186384Z"
    },
    "papermill": {
     "duration": null,
     "end_time": null,
     "exception": false,
     "start_time": "2021-03-21T08:02:24.237069",
     "status": "running"
    },
    "scrolled": true,
    "tags": []
   },
   "outputs": [
    {
     "name": "stdout",
     "output_type": "stream",
     "text": [
      "\n",
      "Current Fold: 0 | Epoch: 0\n"
     ]
    },
    {
     "name": "stdout",
     "output_type": "stream",
     "text": [
      "Emotion Training Correct: 303/1184 \n",
      "Emotion Training Accuracy: 25.59122%\n",
      "Speaker Training Correct: 0/1184 \n",
      "Speaker Training Accuracy: 0.00000%\n"
     ]
    },
    {
     "name": "stdout",
     "output_type": "stream",
     "text": [
      "\n",
      "Emotion Validating Correct: 35/120 \n",
      "Emotion Validating Accuracy: 29.16667%\n",
      "Speaker Validating Correct: 7/120 \n",
      "Speaker Validating Accuracy: 5.83333%\n",
      "\n",
      "Current Fold: 0 | Epoch: 1\n"
     ]
    },
    {
     "name": "stdout",
     "output_type": "stream",
     "text": [
      "Emotion Training Correct: 267/1184 \n",
      "Emotion Training Accuracy: 22.55068%\n",
      "Speaker Training Correct: 0/1184 \n",
      "Speaker Training Accuracy: 0.00000%\n"
     ]
    },
    {
     "name": "stdout",
     "output_type": "stream",
     "text": [
      "\n",
      "Emotion Validating Correct: 27/120 \n",
      "Emotion Validating Accuracy: 22.50000%\n",
      "Speaker Validating Correct: 56/120 \n",
      "Speaker Validating Accuracy: 46.66667%\n",
      "\n",
      "Current Fold: 0 | Epoch: 2\n"
     ]
    },
    {
     "name": "stdout",
     "output_type": "stream",
     "text": [
      "Emotion Training Correct: 376/1184 \n",
      "Emotion Training Accuracy: 31.75676%\n",
      "Speaker Training Correct: 0/1184 \n",
      "Speaker Training Accuracy: 0.00000%\n"
     ]
    },
    {
     "name": "stdout",
     "output_type": "stream",
     "text": [
      "\n",
      "Emotion Validating Correct: 33/120 \n",
      "Emotion Validating Accuracy: 27.50000%\n",
      "Speaker Validating Correct: 56/120 \n",
      "Speaker Validating Accuracy: 46.66667%\n",
      "\n",
      "Current Fold: 0 | Epoch: 3\n"
     ]
    },
    {
     "name": "stdout",
     "output_type": "stream",
     "text": [
      "Emotion Training Correct: 447/1184 \n",
      "Emotion Training Accuracy: 37.75338%\n",
      "Speaker Training Correct: 0/1184 \n",
      "Speaker Training Accuracy: 0.00000%\n"
     ]
    },
    {
     "name": "stdout",
     "output_type": "stream",
     "text": [
      "\n",
      "Emotion Validating Correct: 38/120 \n",
      "Emotion Validating Accuracy: 31.66667%\n",
      "Speaker Validating Correct: 43/120 \n",
      "Speaker Validating Accuracy: 35.83333%\n"
     ]
    },
    {
     "name": "stdout",
     "output_type": "stream",
     "text": [
      "Models' parameters and optimisers' parameters saved.\n",
      "\n",
      "Current Fold: 0 | Epoch: 4\n"
     ]
    },
    {
     "name": "stdout",
     "output_type": "stream",
     "text": [
      "Emotion Training Correct: 501/1184 \n",
      "Emotion Training Accuracy: 42.31419%\n",
      "Speaker Training Correct: 0/1184 \n",
      "Speaker Training Accuracy: 0.00000%\n"
     ]
    },
    {
     "name": "stdout",
     "output_type": "stream",
     "text": [
      "\n",
      "Emotion Validating Correct: 47/120 \n",
      "Emotion Validating Accuracy: 39.16667%\n",
      "Speaker Validating Correct: 39/120 \n",
      "Speaker Validating Accuracy: 32.50000%\n"
     ]
    },
    {
     "name": "stdout",
     "output_type": "stream",
     "text": [
      "Models' parameters and optimisers' parameters saved.\n",
      "\n",
      "Current Fold: 0 | Epoch: 5\n"
     ]
    },
    {
     "name": "stdout",
     "output_type": "stream",
     "text": [
      "Emotion Training Correct: 519/1184 \n",
      "Emotion Training Accuracy: 43.83446%\n",
      "Speaker Training Correct: 0/1184 \n",
      "Speaker Training Accuracy: 0.00000%\n"
     ]
    },
    {
     "name": "stdout",
     "output_type": "stream",
     "text": [
      "\n",
      "Emotion Validating Correct: 42/120 \n",
      "Emotion Validating Accuracy: 35.00000%\n",
      "Speaker Validating Correct: 58/120 \n",
      "Speaker Validating Accuracy: 48.33333%\n",
      "\n",
      "Current Fold: 0 | Epoch: 6\n"
     ]
    },
    {
     "name": "stdout",
     "output_type": "stream",
     "text": [
      "Emotion Training Correct: 614/1184 \n",
      "Emotion Training Accuracy: 51.85811%\n",
      "Speaker Training Correct: 0/1184 \n",
      "Speaker Training Accuracy: 0.00000%\n"
     ]
    },
    {
     "name": "stdout",
     "output_type": "stream",
     "text": [
      "\n",
      "Emotion Validating Correct: 63/120 \n",
      "Emotion Validating Accuracy: 52.50000%\n",
      "Speaker Validating Correct: 53/120 \n",
      "Speaker Validating Accuracy: 44.16667%\n",
      "Models' parameters and optimisers' parameters saved.\n",
      "\n",
      "Current Fold: 0 | Epoch: 7\n"
     ]
    },
    {
     "name": "stdout",
     "output_type": "stream",
     "text": [
      "Emotion Training Correct: 578/1184 \n",
      "Emotion Training Accuracy: 48.81757%\n",
      "Speaker Training Correct: 0/1184 \n",
      "Speaker Training Accuracy: 0.00000%\n"
     ]
    },
    {
     "name": "stdout",
     "output_type": "stream",
     "text": [
      "\n",
      "Emotion Validating Correct: 52/120 \n",
      "Emotion Validating Accuracy: 43.33333%\n",
      "Speaker Validating Correct: 42/120 \n",
      "Speaker Validating Accuracy: 35.00000%\n",
      "\n",
      "Current Fold: 0 | Epoch: 8\n"
     ]
    },
    {
     "name": "stdout",
     "output_type": "stream",
     "text": [
      "Emotion Training Correct: 578/1184 \n",
      "Emotion Training Accuracy: 48.81757%\n",
      "Speaker Training Correct: 0/1184 \n",
      "Speaker Training Accuracy: 0.00000%\n"
     ]
    },
    {
     "name": "stdout",
     "output_type": "stream",
     "text": [
      "\n",
      "Emotion Validating Correct: 58/120 \n",
      "Emotion Validating Accuracy: 48.33333%\n",
      "Speaker Validating Correct: 39/120 \n",
      "Speaker Validating Accuracy: 32.50000%\n",
      "\n",
      "Current Fold: 0 | Epoch: 9\n"
     ]
    },
    {
     "name": "stdout",
     "output_type": "stream",
     "text": [
      "Emotion Training Correct: 605/1184 \n",
      "Emotion Training Accuracy: 51.09797%\n",
      "Speaker Training Correct: 0/1184 \n",
      "Speaker Training Accuracy: 0.00000%\n"
     ]
    },
    {
     "name": "stdout",
     "output_type": "stream",
     "text": [
      "\n",
      "Emotion Validating Correct: 52/120 \n",
      "Emotion Validating Accuracy: 43.33333%\n",
      "Speaker Validating Correct: 31/120 \n",
      "Speaker Validating Accuracy: 25.83333%\n",
      "\n",
      "Current Fold: 0 | Epoch: 10\n"
     ]
    },
    {
     "name": "stdout",
     "output_type": "stream",
     "text": [
      "Emotion Training Correct: 646/1184 \n",
      "Emotion Training Accuracy: 54.56081%\n",
      "Speaker Training Correct: 0/1184 \n",
      "Speaker Training Accuracy: 0.00000%\n"
     ]
    },
    {
     "name": "stdout",
     "output_type": "stream",
     "text": [
      "\n",
      "Emotion Validating Correct: 55/120 \n",
      "Emotion Validating Accuracy: 45.83333%\n",
      "Speaker Validating Correct: 37/120 \n",
      "Speaker Validating Accuracy: 30.83333%\n",
      "\n",
      "Current Fold: 0 | Epoch: 11\n"
     ]
    },
    {
     "name": "stdout",
     "output_type": "stream",
     "text": [
      "Emotion Training Correct: 649/1184 \n",
      "Emotion Training Accuracy: 54.81419%\n",
      "Speaker Training Correct: 0/1184 \n",
      "Speaker Training Accuracy: 0.00000%\n"
     ]
    },
    {
     "name": "stdout",
     "output_type": "stream",
     "text": [
      "\n",
      "Emotion Validating Correct: 55/120 \n",
      "Emotion Validating Accuracy: 45.83333%\n",
      "Speaker Validating Correct: 33/120 \n",
      "Speaker Validating Accuracy: 27.50000%\n",
      "\n",
      "Current Fold: 0 | Epoch: 12\n"
     ]
    },
    {
     "name": "stdout",
     "output_type": "stream",
     "text": [
      "Emotion Training Correct: 576/1184 \n",
      "Emotion Training Accuracy: 48.64865%\n",
      "Speaker Training Correct: 0/1184 \n",
      "Speaker Training Accuracy: 0.00000%\n"
     ]
    },
    {
     "name": "stdout",
     "output_type": "stream",
     "text": [
      "\n",
      "Emotion Validating Correct: 59/120 \n",
      "Emotion Validating Accuracy: 49.16667%\n",
      "Speaker Validating Correct: 43/120 \n",
      "Speaker Validating Accuracy: 35.83333%\n",
      "\n",
      "Current Fold: 0 | Epoch: 13\n"
     ]
    },
    {
     "name": "stdout",
     "output_type": "stream",
     "text": [
      "Emotion Training Correct: 721/1184 \n",
      "Emotion Training Accuracy: 60.89527%\n",
      "Speaker Training Correct: 0/1184 \n",
      "Speaker Training Accuracy: 0.00000%\n"
     ]
    },
    {
     "name": "stdout",
     "output_type": "stream",
     "text": [
      "\n",
      "Emotion Validating Correct: 68/120 \n",
      "Emotion Validating Accuracy: 56.66667%\n",
      "Speaker Validating Correct: 47/120 \n",
      "Speaker Validating Accuracy: 39.16667%\n"
     ]
    },
    {
     "name": "stdout",
     "output_type": "stream",
     "text": [
      "Models' parameters and optimisers' parameters saved.\n",
      "\n",
      "Current Fold: 0 | Epoch: 14\n"
     ]
    },
    {
     "name": "stdout",
     "output_type": "stream",
     "text": [
      "Emotion Training Correct: 752/1184 \n",
      "Emotion Training Accuracy: 63.51351%\n",
      "Speaker Training Correct: 0/1184 \n",
      "Speaker Training Accuracy: 0.00000%\n"
     ]
    },
    {
     "name": "stdout",
     "output_type": "stream",
     "text": [
      "\n",
      "Emotion Validating Correct: 57/120 \n",
      "Emotion Validating Accuracy: 47.50000%\n",
      "Speaker Validating Correct: 34/120 \n",
      "Speaker Validating Accuracy: 28.33333%\n",
      "\n",
      "Current Fold: 0 | Epoch: 15\n"
     ]
    },
    {
     "name": "stdout",
     "output_type": "stream",
     "text": [
      "Emotion Training Correct: 816/1184 \n",
      "Emotion Training Accuracy: 68.91892%\n",
      "Speaker Training Correct: 0/1184 \n",
      "Speaker Training Accuracy: 0.00000%\n"
     ]
    },
    {
     "name": "stdout",
     "output_type": "stream",
     "text": [
      "\n",
      "Emotion Validating Correct: 68/120 \n",
      "Emotion Validating Accuracy: 56.66667%\n",
      "Speaker Validating Correct: 29/120 \n",
      "Speaker Validating Accuracy: 24.16667%\n"
     ]
    },
    {
     "name": "stdout",
     "output_type": "stream",
     "text": [
      "Models' parameters and optimisers' parameters saved.\n",
      "\n",
      "Current Fold: 0 | Epoch: 16\n"
     ]
    },
    {
     "name": "stdout",
     "output_type": "stream",
     "text": [
      "Emotion Training Correct: 763/1184 \n",
      "Emotion Training Accuracy: 64.44257%\n",
      "Speaker Training Correct: 0/1184 \n",
      "Speaker Training Accuracy: 0.00000%\n"
     ]
    },
    {
     "name": "stdout",
     "output_type": "stream",
     "text": [
      "\n",
      "Emotion Validating Correct: 58/120 \n",
      "Emotion Validating Accuracy: 48.33333%\n",
      "Speaker Validating Correct: 32/120 \n",
      "Speaker Validating Accuracy: 26.66667%\n",
      "\n",
      "Current Fold: 0 | Epoch: 17\n"
     ]
    },
    {
     "name": "stdout",
     "output_type": "stream",
     "text": [
      "Emotion Training Correct: 874/1184 \n",
      "Emotion Training Accuracy: 73.81757%\n",
      "Speaker Training Correct: 0/1184 \n",
      "Speaker Training Accuracy: 0.00000%\n"
     ]
    },
    {
     "name": "stdout",
     "output_type": "stream",
     "text": [
      "\n",
      "Emotion Validating Correct: 71/120 \n",
      "Emotion Validating Accuracy: 59.16667%\n",
      "Speaker Validating Correct: 39/120 \n",
      "Speaker Validating Accuracy: 32.50000%\n"
     ]
    },
    {
     "name": "stdout",
     "output_type": "stream",
     "text": [
      "Models' parameters and optimisers' parameters saved.\n",
      "\n",
      "Current Fold: 0 | Epoch: 18\n"
     ]
    },
    {
     "name": "stdout",
     "output_type": "stream",
     "text": [
      "Emotion Training Correct: 881/1184 \n",
      "Emotion Training Accuracy: 74.40878%\n",
      "Speaker Training Correct: 0/1184 \n",
      "Speaker Training Accuracy: 0.00000%\n"
     ]
    },
    {
     "name": "stdout",
     "output_type": "stream",
     "text": [
      "\n",
      "Emotion Validating Correct: 65/120 \n",
      "Emotion Validating Accuracy: 54.16667%\n",
      "Speaker Validating Correct: 44/120 \n",
      "Speaker Validating Accuracy: 36.66667%\n",
      "\n",
      "Current Fold: 0 | Epoch: 19\n"
     ]
    },
    {
     "name": "stdout",
     "output_type": "stream",
     "text": [
      "Emotion Training Correct: 844/1184 \n",
      "Emotion Training Accuracy: 71.28378%\n",
      "Speaker Training Correct: 0/1184 \n",
      "Speaker Training Accuracy: 0.00000%\n"
     ]
    },
    {
     "name": "stdout",
     "output_type": "stream",
     "text": [
      "\n",
      "Emotion Validating Correct: 58/120 \n",
      "Emotion Validating Accuracy: 48.33333%\n",
      "Speaker Validating Correct: 33/120 \n",
      "Speaker Validating Accuracy: 27.50000%\n",
      "\n",
      "Current Fold: 0 | Epoch: 20\n"
     ]
    },
    {
     "name": "stdout",
     "output_type": "stream",
     "text": [
      "Emotion Training Correct: 789/1184 \n",
      "Emotion Training Accuracy: 66.63851%\n",
      "Speaker Training Correct: 0/1184 \n",
      "Speaker Training Accuracy: 0.00000%\n"
     ]
    },
    {
     "name": "stdout",
     "output_type": "stream",
     "text": [
      "\n",
      "Emotion Validating Correct: 53/120 \n",
      "Emotion Validating Accuracy: 44.16667%\n",
      "Speaker Validating Correct: 33/120 \n",
      "Speaker Validating Accuracy: 27.50000%\n",
      "\n",
      "Current Fold: 0 | Epoch: 21\n"
     ]
    },
    {
     "name": "stdout",
     "output_type": "stream",
     "text": [
      "Emotion Training Correct: 819/1184 \n",
      "Emotion Training Accuracy: 69.17230%\n",
      "Speaker Training Correct: 0/1184 \n",
      "Speaker Training Accuracy: 0.00000%\n"
     ]
    },
    {
     "name": "stdout",
     "output_type": "stream",
     "text": [
      "\n",
      "Emotion Validating Correct: 80/120 \n",
      "Emotion Validating Accuracy: 66.66667%\n",
      "Speaker Validating Correct: 39/120 \n",
      "Speaker Validating Accuracy: 32.50000%\n"
     ]
    },
    {
     "name": "stdout",
     "output_type": "stream",
     "text": [
      "Models' parameters and optimisers' parameters saved.\n",
      "\n",
      "Current Fold: 0 | Epoch: 22\n"
     ]
    },
    {
     "name": "stdout",
     "output_type": "stream",
     "text": [
      "Emotion Training Correct: 917/1184 \n",
      "Emotion Training Accuracy: 77.44932%\n",
      "Speaker Training Correct: 0/1184 \n",
      "Speaker Training Accuracy: 0.00000%\n"
     ]
    },
    {
     "name": "stdout",
     "output_type": "stream",
     "text": [
      "\n",
      "Emotion Validating Correct: 74/120 \n",
      "Emotion Validating Accuracy: 61.66667%\n",
      "Speaker Validating Correct: 37/120 \n",
      "Speaker Validating Accuracy: 30.83333%\n",
      "\n",
      "Current Fold: 0 | Epoch: 23\n"
     ]
    },
    {
     "name": "stdout",
     "output_type": "stream",
     "text": [
      "Emotion Training Correct: 877/1184 \n",
      "Emotion Training Accuracy: 74.07095%\n",
      "Speaker Training Correct: 0/1184 \n",
      "Speaker Training Accuracy: 0.00000%\n"
     ]
    },
    {
     "name": "stdout",
     "output_type": "stream",
     "text": [
      "\n",
      "Emotion Validating Correct: 71/120 \n",
      "Emotion Validating Accuracy: 59.16667%\n",
      "Speaker Validating Correct: 27/120 \n",
      "Speaker Validating Accuracy: 22.50000%\n",
      "\n",
      "Current Fold: 0 | Epoch: 24\n"
     ]
    },
    {
     "name": "stdout",
     "output_type": "stream",
     "text": [
      "Emotion Training Correct: 935/1184 \n",
      "Emotion Training Accuracy: 78.96959%\n",
      "Speaker Training Correct: 0/1184 \n",
      "Speaker Training Accuracy: 0.00000%\n"
     ]
    },
    {
     "name": "stdout",
     "output_type": "stream",
     "text": [
      "\n",
      "Emotion Validating Correct: 72/120 \n",
      "Emotion Validating Accuracy: 60.00000%\n",
      "Speaker Validating Correct: 31/120 \n",
      "Speaker Validating Accuracy: 25.83333%\n",
      "\n",
      "Current Fold: 0 | Epoch: 25\n"
     ]
    },
    {
     "name": "stdout",
     "output_type": "stream",
     "text": [
      "Emotion Training Correct: 871/1184 \n",
      "Emotion Training Accuracy: 73.56419%\n",
      "Speaker Training Correct: 0/1184 \n",
      "Speaker Training Accuracy: 0.00000%\n"
     ]
    },
    {
     "name": "stdout",
     "output_type": "stream",
     "text": [
      "\n",
      "Emotion Validating Correct: 63/120 \n",
      "Emotion Validating Accuracy: 52.50000%\n",
      "Speaker Validating Correct: 31/120 \n",
      "Speaker Validating Accuracy: 25.83333%\n",
      "\n",
      "Current Fold: 0 | Epoch: 26\n"
     ]
    },
    {
     "name": "stdout",
     "output_type": "stream",
     "text": [
      "Emotion Training Correct: 930/1184 \n",
      "Emotion Training Accuracy: 78.54730%\n",
      "Speaker Training Correct: 0/1184 \n",
      "Speaker Training Accuracy: 0.00000%\n"
     ]
    },
    {
     "name": "stdout",
     "output_type": "stream",
     "text": [
      "\n",
      "Emotion Validating Correct: 73/120 \n",
      "Emotion Validating Accuracy: 60.83333%\n",
      "Speaker Validating Correct: 38/120 \n",
      "Speaker Validating Accuracy: 31.66667%\n",
      "\n",
      "Current Fold: 0 | Epoch: 27\n"
     ]
    },
    {
     "name": "stdout",
     "output_type": "stream",
     "text": [
      "Emotion Training Correct: 976/1184 \n",
      "Emotion Training Accuracy: 82.43243%\n",
      "Speaker Training Correct: 0/1184 \n",
      "Speaker Training Accuracy: 0.00000%\n"
     ]
    },
    {
     "name": "stdout",
     "output_type": "stream",
     "text": [
      "\n",
      "Emotion Validating Correct: 67/120 \n",
      "Emotion Validating Accuracy: 55.83333%\n",
      "Speaker Validating Correct: 30/120 \n",
      "Speaker Validating Accuracy: 25.00000%\n",
      "\n",
      "Current Fold: 0 | Epoch: 28\n"
     ]
    },
    {
     "name": "stdout",
     "output_type": "stream",
     "text": [
      "Emotion Training Correct: 1004/1184 \n",
      "Emotion Training Accuracy: 84.79730%\n",
      "Speaker Training Correct: 0/1184 \n",
      "Speaker Training Accuracy: 0.00000%\n"
     ]
    },
    {
     "name": "stdout",
     "output_type": "stream",
     "text": [
      "\n",
      "Emotion Validating Correct: 64/120 \n",
      "Emotion Validating Accuracy: 53.33333%\n",
      "Speaker Validating Correct: 30/120 \n",
      "Speaker Validating Accuracy: 25.00000%\n",
      "\n",
      "Current Fold: 0 | Epoch: 29\n"
     ]
    },
    {
     "name": "stdout",
     "output_type": "stream",
     "text": [
      "Emotion Training Correct: 829/1184 \n",
      "Emotion Training Accuracy: 70.01689%\n",
      "Speaker Training Correct: 0/1184 \n",
      "Speaker Training Accuracy: 0.00000%\n"
     ]
    },
    {
     "name": "stdout",
     "output_type": "stream",
     "text": [
      "\n",
      "Emotion Validating Correct: 64/120 \n",
      "Emotion Validating Accuracy: 53.33333%\n",
      "Speaker Validating Correct: 31/120 \n",
      "Speaker Validating Accuracy: 25.83333%\n",
      "\n",
      "Current Fold: 0 | Epoch: 30\n"
     ]
    },
    {
     "name": "stdout",
     "output_type": "stream",
     "text": [
      "Emotion Training Correct: 1013/1184 \n",
      "Emotion Training Accuracy: 85.55743%\n",
      "Speaker Training Correct: 0/1184 \n",
      "Speaker Training Accuracy: 0.00000%\n"
     ]
    },
    {
     "name": "stdout",
     "output_type": "stream",
     "text": [
      "\n",
      "Emotion Validating Correct: 79/120 \n",
      "Emotion Validating Accuracy: 65.83333%\n",
      "Speaker Validating Correct: 39/120 \n",
      "Speaker Validating Accuracy: 32.50000%\n",
      "\n",
      "Current Fold: 0 | Epoch: 31\n"
     ]
    },
    {
     "name": "stdout",
     "output_type": "stream",
     "text": [
      "Emotion Training Correct: 930/1184 \n",
      "Emotion Training Accuracy: 78.54730%\n",
      "Speaker Training Correct: 0/1184 \n",
      "Speaker Training Accuracy: 0.00000%\n"
     ]
    },
    {
     "name": "stdout",
     "output_type": "stream",
     "text": [
      "\n",
      "Emotion Validating Correct: 65/120 \n",
      "Emotion Validating Accuracy: 54.16667%\n",
      "Speaker Validating Correct: 30/120 \n",
      "Speaker Validating Accuracy: 25.00000%\n",
      "\n",
      "Current Fold: 0 | Epoch: 32\n"
     ]
    },
    {
     "name": "stdout",
     "output_type": "stream",
     "text": [
      "Emotion Training Correct: 904/1184 \n",
      "Emotion Training Accuracy: 76.35135%\n",
      "Speaker Training Correct: 0/1184 \n",
      "Speaker Training Accuracy: 0.00000%\n"
     ]
    },
    {
     "name": "stdout",
     "output_type": "stream",
     "text": [
      "\n",
      "Emotion Validating Correct: 81/120 \n",
      "Emotion Validating Accuracy: 67.50000%\n",
      "Speaker Validating Correct: 35/120 \n",
      "Speaker Validating Accuracy: 29.16667%\n"
     ]
    },
    {
     "name": "stdout",
     "output_type": "stream",
     "text": [
      "Models' parameters and optimisers' parameters saved.\n",
      "\n",
      "Current Fold: 0 | Epoch: 33\n"
     ]
    },
    {
     "name": "stdout",
     "output_type": "stream",
     "text": [
      "Emotion Training Correct: 1009/1184 \n",
      "Emotion Training Accuracy: 85.21959%\n",
      "Speaker Training Correct: 0/1184 \n",
      "Speaker Training Accuracy: 0.00000%\n"
     ]
    },
    {
     "name": "stdout",
     "output_type": "stream",
     "text": [
      "\n",
      "Emotion Validating Correct: 72/120 \n",
      "Emotion Validating Accuracy: 60.00000%\n",
      "Speaker Validating Correct: 31/120 \n",
      "Speaker Validating Accuracy: 25.83333%\n",
      "\n",
      "Current Fold: 0 | Epoch: 34\n"
     ]
    },
    {
     "name": "stdout",
     "output_type": "stream",
     "text": [
      "Emotion Training Correct: 896/1184 \n",
      "Emotion Training Accuracy: 75.67568%\n",
      "Speaker Training Correct: 0/1184 \n",
      "Speaker Training Accuracy: 0.00000%\n"
     ]
    },
    {
     "name": "stdout",
     "output_type": "stream",
     "text": [
      "\n",
      "Emotion Validating Correct: 59/120 \n",
      "Emotion Validating Accuracy: 49.16667%\n",
      "Speaker Validating Correct: 27/120 \n",
      "Speaker Validating Accuracy: 22.50000%\n",
      "\n",
      "Current Fold: 0 | Epoch: 35\n"
     ]
    },
    {
     "name": "stdout",
     "output_type": "stream",
     "text": [
      "Emotion Training Correct: 903/1184 \n",
      "Emotion Training Accuracy: 76.26689%\n",
      "Speaker Training Correct: 0/1184 \n",
      "Speaker Training Accuracy: 0.00000%\n"
     ]
    },
    {
     "name": "stdout",
     "output_type": "stream",
     "text": [
      "\n",
      "Emotion Validating Correct: 64/120 \n",
      "Emotion Validating Accuracy: 53.33333%\n",
      "Speaker Validating Correct: 46/120 \n",
      "Speaker Validating Accuracy: 38.33333%\n",
      "\n",
      "Current Fold: 0 | Epoch: 36\n"
     ]
    },
    {
     "name": "stdout",
     "output_type": "stream",
     "text": [
      "Emotion Training Correct: 891/1184 \n",
      "Emotion Training Accuracy: 75.25338%\n",
      "Speaker Training Correct: 0/1184 \n",
      "Speaker Training Accuracy: 0.00000%\n"
     ]
    },
    {
     "name": "stdout",
     "output_type": "stream",
     "text": [
      "\n",
      "Emotion Validating Correct: 54/120 \n",
      "Emotion Validating Accuracy: 45.00000%\n",
      "Speaker Validating Correct: 32/120 \n",
      "Speaker Validating Accuracy: 26.66667%\n",
      "\n",
      "Current Fold: 0 | Epoch: 37\n"
     ]
    },
    {
     "name": "stdout",
     "output_type": "stream",
     "text": [
      "Emotion Training Correct: 962/1184 \n",
      "Emotion Training Accuracy: 81.25000%\n",
      "Speaker Training Correct: 0/1184 \n",
      "Speaker Training Accuracy: 0.00000%\n"
     ]
    },
    {
     "name": "stdout",
     "output_type": "stream",
     "text": [
      "\n",
      "Emotion Validating Correct: 69/120 \n",
      "Emotion Validating Accuracy: 57.50000%\n",
      "Speaker Validating Correct: 33/120 \n",
      "Speaker Validating Accuracy: 27.50000%\n",
      "\n",
      "Current Fold: 0 | Epoch: 38\n"
     ]
    },
    {
     "name": "stdout",
     "output_type": "stream",
     "text": [
      "Emotion Training Correct: 987/1184 \n",
      "Emotion Training Accuracy: 83.36149%\n",
      "Speaker Training Correct: 0/1184 \n",
      "Speaker Training Accuracy: 0.00000%\n"
     ]
    },
    {
     "name": "stdout",
     "output_type": "stream",
     "text": [
      "\n",
      "Emotion Validating Correct: 63/120 \n",
      "Emotion Validating Accuracy: 52.50000%\n",
      "Speaker Validating Correct: 35/120 \n",
      "Speaker Validating Accuracy: 29.16667%\n",
      "\n",
      "Current Fold: 0 | Epoch: 39\n"
     ]
    },
    {
     "name": "stdout",
     "output_type": "stream",
     "text": [
      "Emotion Training Correct: 1030/1184 \n",
      "Emotion Training Accuracy: 86.99324%\n",
      "Speaker Training Correct: 0/1184 \n",
      "Speaker Training Accuracy: 0.00000%\n"
     ]
    },
    {
     "name": "stdout",
     "output_type": "stream",
     "text": [
      "\n",
      "Emotion Validating Correct: 80/120 \n",
      "Emotion Validating Accuracy: 66.66667%\n",
      "Speaker Validating Correct: 33/120 \n",
      "Speaker Validating Accuracy: 27.50000%\n",
      "\n",
      "Current Fold: 0 | Epoch: 40\n"
     ]
    },
    {
     "name": "stdout",
     "output_type": "stream",
     "text": [
      "Emotion Training Correct: 1042/1184 \n",
      "Emotion Training Accuracy: 88.00676%\n",
      "Speaker Training Correct: 0/1184 \n",
      "Speaker Training Accuracy: 0.00000%\n"
     ]
    },
    {
     "name": "stdout",
     "output_type": "stream",
     "text": [
      "\n",
      "Emotion Validating Correct: 81/120 \n",
      "Emotion Validating Accuracy: 67.50000%\n",
      "Speaker Validating Correct: 41/120 \n",
      "Speaker Validating Accuracy: 34.16667%\n"
     ]
    },
    {
     "name": "stdout",
     "output_type": "stream",
     "text": [
      "Models' parameters and optimisers' parameters saved.\n",
      "\n",
      "Current Fold: 0 | Epoch: 41\n"
     ]
    },
    {
     "name": "stdout",
     "output_type": "stream",
     "text": [
      "Emotion Training Correct: 935/1184 \n",
      "Emotion Training Accuracy: 78.96959%\n",
      "Speaker Training Correct: 0/1184 \n",
      "Speaker Training Accuracy: 0.00000%\n"
     ]
    },
    {
     "name": "stdout",
     "output_type": "stream",
     "text": [
      "\n",
      "Emotion Validating Correct: 50/120 \n",
      "Emotion Validating Accuracy: 41.66667%\n",
      "Speaker Validating Correct: 29/120 \n",
      "Speaker Validating Accuracy: 24.16667%\n",
      "\n",
      "Current Fold: 0 | Epoch: 42\n"
     ]
    },
    {
     "name": "stdout",
     "output_type": "stream",
     "text": [
      "Emotion Training Correct: 1030/1184 \n",
      "Emotion Training Accuracy: 86.99324%\n",
      "Speaker Training Correct: 0/1184 \n",
      "Speaker Training Accuracy: 0.00000%\n"
     ]
    },
    {
     "name": "stdout",
     "output_type": "stream",
     "text": [
      "\n",
      "Emotion Validating Correct: 66/120 \n",
      "Emotion Validating Accuracy: 55.00000%\n",
      "Speaker Validating Correct: 36/120 \n",
      "Speaker Validating Accuracy: 30.00000%\n",
      "\n",
      "Current Fold: 0 | Epoch: 43\n"
     ]
    },
    {
     "name": "stdout",
     "output_type": "stream",
     "text": [
      "Emotion Training Correct: 990/1184 \n",
      "Emotion Training Accuracy: 83.61486%\n",
      "Speaker Training Correct: 0/1184 \n",
      "Speaker Training Accuracy: 0.00000%\n"
     ]
    },
    {
     "name": "stdout",
     "output_type": "stream",
     "text": [
      "\n",
      "Emotion Validating Correct: 67/120 \n",
      "Emotion Validating Accuracy: 55.83333%\n",
      "Speaker Validating Correct: 26/120 \n",
      "Speaker Validating Accuracy: 21.66667%\n",
      "\n",
      "Current Fold: 0 | Epoch: 44\n"
     ]
    },
    {
     "name": "stdout",
     "output_type": "stream",
     "text": [
      "Emotion Training Correct: 1025/1184 \n",
      "Emotion Training Accuracy: 86.57095%\n",
      "Speaker Training Correct: 0/1184 \n",
      "Speaker Training Accuracy: 0.00000%\n"
     ]
    },
    {
     "name": "stdout",
     "output_type": "stream",
     "text": [
      "\n",
      "Emotion Validating Correct: 76/120 \n",
      "Emotion Validating Accuracy: 63.33333%\n",
      "Speaker Validating Correct: 36/120 \n",
      "Speaker Validating Accuracy: 30.00000%\n",
      "\n",
      "Current Fold: 0 | Epoch: 45\n"
     ]
    },
    {
     "name": "stdout",
     "output_type": "stream",
     "text": [
      "Emotion Training Correct: 1077/1184 \n",
      "Emotion Training Accuracy: 90.96284%\n",
      "Speaker Training Correct: 0/1184 \n",
      "Speaker Training Accuracy: 0.00000%\n"
     ]
    },
    {
     "name": "stdout",
     "output_type": "stream",
     "text": [
      "\n",
      "Emotion Validating Correct: 78/120 \n",
      "Emotion Validating Accuracy: 65.00000%\n",
      "Speaker Validating Correct: 35/120 \n",
      "Speaker Validating Accuracy: 29.16667%\n",
      "\n",
      "Current Fold: 0 | Epoch: 46\n"
     ]
    },
    {
     "name": "stdout",
     "output_type": "stream",
     "text": [
      "Emotion Training Correct: 1031/1184 \n",
      "Emotion Training Accuracy: 87.07770%\n",
      "Speaker Training Correct: 0/1184 \n",
      "Speaker Training Accuracy: 0.00000%\n"
     ]
    },
    {
     "name": "stdout",
     "output_type": "stream",
     "text": [
      "\n",
      "Emotion Validating Correct: 51/120 \n",
      "Emotion Validating Accuracy: 42.50000%\n",
      "Speaker Validating Correct: 27/120 \n",
      "Speaker Validating Accuracy: 22.50000%\n",
      "\n",
      "Current Fold: 0 | Epoch: 47\n"
     ]
    },
    {
     "name": "stdout",
     "output_type": "stream",
     "text": [
      "Emotion Training Correct: 1074/1184 \n",
      "Emotion Training Accuracy: 90.70946%\n",
      "Speaker Training Correct: 0/1184 \n",
      "Speaker Training Accuracy: 0.00000%\n"
     ]
    },
    {
     "name": "stdout",
     "output_type": "stream",
     "text": [
      "\n",
      "Emotion Validating Correct: 79/120 \n",
      "Emotion Validating Accuracy: 65.83333%\n",
      "Speaker Validating Correct: 31/120 \n",
      "Speaker Validating Accuracy: 25.83333%\n",
      "\n",
      "Current Fold: 0 | Epoch: 48\n"
     ]
    },
    {
     "name": "stdout",
     "output_type": "stream",
     "text": [
      "Emotion Training Correct: 1075/1184 \n",
      "Emotion Training Accuracy: 90.79392%\n",
      "Speaker Training Correct: 0/1184 \n",
      "Speaker Training Accuracy: 0.00000%\n"
     ]
    },
    {
     "name": "stdout",
     "output_type": "stream",
     "text": [
      "\n",
      "Emotion Validating Correct: 79/120 \n",
      "Emotion Validating Accuracy: 65.83333%\n",
      "Speaker Validating Correct: 33/120 \n",
      "Speaker Validating Accuracy: 27.50000%\n",
      "\n",
      "Current Fold: 0 | Epoch: 49\n"
     ]
    },
    {
     "name": "stdout",
     "output_type": "stream",
     "text": [
      "Emotion Training Correct: 1082/1184 \n",
      "Emotion Training Accuracy: 91.38514%\n",
      "Speaker Training Correct: 0/1184 \n",
      "Speaker Training Accuracy: 0.00000%\n"
     ]
    },
    {
     "name": "stdout",
     "output_type": "stream",
     "text": [
      "\n",
      "Emotion Validating Correct: 73/120 \n",
      "Emotion Validating Accuracy: 60.83333%\n",
      "Speaker Validating Correct: 30/120 \n",
      "Speaker Validating Accuracy: 25.00000%\n",
      "\n",
      "Current Fold: 0 | Epoch: 50\n"
     ]
    },
    {
     "name": "stdout",
     "output_type": "stream",
     "text": [
      "Emotion Training Correct: 1048/1184 \n",
      "Emotion Training Accuracy: 88.51351%\n",
      "Speaker Training Correct: 0/1184 \n",
      "Speaker Training Accuracy: 0.00000%\n"
     ]
    },
    {
     "name": "stdout",
     "output_type": "stream",
     "text": [
      "\n",
      "Emotion Validating Correct: 67/120 \n",
      "Emotion Validating Accuracy: 55.83333%\n",
      "Speaker Validating Correct: 28/120 \n",
      "Speaker Validating Accuracy: 23.33333%\n",
      "\n",
      "Current Fold: 0 | Epoch: 51\n"
     ]
    },
    {
     "name": "stdout",
     "output_type": "stream",
     "text": [
      "Emotion Training Correct: 1069/1184 \n",
      "Emotion Training Accuracy: 90.28716%\n",
      "Speaker Training Correct: 0/1184 \n",
      "Speaker Training Accuracy: 0.00000%\n"
     ]
    },
    {
     "name": "stdout",
     "output_type": "stream",
     "text": [
      "\n",
      "Emotion Validating Correct: 85/120 \n",
      "Emotion Validating Accuracy: 70.83333%\n",
      "Speaker Validating Correct: 31/120 \n",
      "Speaker Validating Accuracy: 25.83333%\n"
     ]
    },
    {
     "name": "stdout",
     "output_type": "stream",
     "text": [
      "Models' parameters and optimisers' parameters saved.\n",
      "\n",
      "Current Fold: 0 | Epoch: 52\n"
     ]
    },
    {
     "name": "stdout",
     "output_type": "stream",
     "text": [
      "Emotion Training Correct: 1120/1184 \n",
      "Emotion Training Accuracy: 94.59459%\n",
      "Speaker Training Correct: 0/1184 \n",
      "Speaker Training Accuracy: 0.00000%\n"
     ]
    },
    {
     "name": "stdout",
     "output_type": "stream",
     "text": [
      "\n",
      "Emotion Validating Correct: 84/120 \n",
      "Emotion Validating Accuracy: 70.00000%\n",
      "Speaker Validating Correct: 33/120 \n",
      "Speaker Validating Accuracy: 27.50000%\n",
      "\n",
      "Current Fold: 0 | Epoch: 53\n"
     ]
    },
    {
     "name": "stdout",
     "output_type": "stream",
     "text": [
      "Emotion Training Correct: 1092/1184 \n",
      "Emotion Training Accuracy: 92.22973%\n",
      "Speaker Training Correct: 0/1184 \n",
      "Speaker Training Accuracy: 0.00000%\n"
     ]
    },
    {
     "name": "stdout",
     "output_type": "stream",
     "text": [
      "\n",
      "Emotion Validating Correct: 73/120 \n",
      "Emotion Validating Accuracy: 60.83333%\n",
      "Speaker Validating Correct: 31/120 \n",
      "Speaker Validating Accuracy: 25.83333%\n",
      "\n",
      "Current Fold: 0 | Epoch: 54\n"
     ]
    },
    {
     "name": "stdout",
     "output_type": "stream",
     "text": [
      "Emotion Training Correct: 1100/1184 \n",
      "Emotion Training Accuracy: 92.90541%\n",
      "Speaker Training Correct: 0/1184 \n",
      "Speaker Training Accuracy: 0.00000%\n"
     ]
    },
    {
     "name": "stdout",
     "output_type": "stream",
     "text": [
      "\n",
      "Emotion Validating Correct: 78/120 \n",
      "Emotion Validating Accuracy: 65.00000%\n",
      "Speaker Validating Correct: 30/120 \n",
      "Speaker Validating Accuracy: 25.00000%\n",
      "\n",
      "Current Fold: 0 | Epoch: 55\n"
     ]
    },
    {
     "name": "stdout",
     "output_type": "stream",
     "text": [
      "Emotion Training Correct: 1111/1184 \n",
      "Emotion Training Accuracy: 93.83446%\n",
      "Speaker Training Correct: 0/1184 \n",
      "Speaker Training Accuracy: 0.00000%\n"
     ]
    },
    {
     "name": "stdout",
     "output_type": "stream",
     "text": [
      "\n",
      "Emotion Validating Correct: 79/120 \n",
      "Emotion Validating Accuracy: 65.83333%\n",
      "Speaker Validating Correct: 37/120 \n",
      "Speaker Validating Accuracy: 30.83333%\n",
      "\n",
      "Current Fold: 0 | Epoch: 56\n"
     ]
    },
    {
     "name": "stdout",
     "output_type": "stream",
     "text": [
      "Emotion Training Correct: 1108/1184 \n",
      "Emotion Training Accuracy: 93.58108%\n",
      "Speaker Training Correct: 0/1184 \n",
      "Speaker Training Accuracy: 0.00000%\n"
     ]
    },
    {
     "name": "stdout",
     "output_type": "stream",
     "text": [
      "\n",
      "Emotion Validating Correct: 70/120 \n",
      "Emotion Validating Accuracy: 58.33333%\n",
      "Speaker Validating Correct: 30/120 \n",
      "Speaker Validating Accuracy: 25.00000%\n",
      "\n",
      "Current Fold: 0 | Epoch: 57\n"
     ]
    },
    {
     "name": "stdout",
     "output_type": "stream",
     "text": [
      "Emotion Training Correct: 1108/1184 \n",
      "Emotion Training Accuracy: 93.58108%\n",
      "Speaker Training Correct: 0/1184 \n",
      "Speaker Training Accuracy: 0.00000%\n"
     ]
    },
    {
     "name": "stdout",
     "output_type": "stream",
     "text": [
      "\n",
      "Emotion Validating Correct: 79/120 \n",
      "Emotion Validating Accuracy: 65.83333%\n",
      "Speaker Validating Correct: 29/120 \n",
      "Speaker Validating Accuracy: 24.16667%\n",
      "\n",
      "Current Fold: 0 | Epoch: 58\n"
     ]
    },
    {
     "name": "stdout",
     "output_type": "stream",
     "text": [
      "Emotion Training Correct: 1110/1184 \n",
      "Emotion Training Accuracy: 93.75000%\n",
      "Speaker Training Correct: 0/1184 \n",
      "Speaker Training Accuracy: 0.00000%\n"
     ]
    },
    {
     "name": "stdout",
     "output_type": "stream",
     "text": [
      "\n",
      "Emotion Validating Correct: 67/120 \n",
      "Emotion Validating Accuracy: 55.83333%\n",
      "Speaker Validating Correct: 27/120 \n",
      "Speaker Validating Accuracy: 22.50000%\n",
      "\n",
      "Current Fold: 0 | Epoch: 59\n"
     ]
    },
    {
     "name": "stdout",
     "output_type": "stream",
     "text": [
      "Emotion Training Correct: 1109/1184 \n",
      "Emotion Training Accuracy: 93.66554%\n",
      "Speaker Training Correct: 0/1184 \n",
      "Speaker Training Accuracy: 0.00000%\n"
     ]
    },
    {
     "name": "stdout",
     "output_type": "stream",
     "text": [
      "\n",
      "Emotion Validating Correct: 82/120 \n",
      "Emotion Validating Accuracy: 68.33333%\n",
      "Speaker Validating Correct: 36/120 \n",
      "Speaker Validating Accuracy: 30.00000%\n",
      "\n",
      "Current Fold: 0 | Epoch: 60\n"
     ]
    },
    {
     "name": "stdout",
     "output_type": "stream",
     "text": [
      "Emotion Training Correct: 1113/1184 \n",
      "Emotion Training Accuracy: 94.00338%\n",
      "Speaker Training Correct: 0/1184 \n",
      "Speaker Training Accuracy: 0.00000%\n"
     ]
    },
    {
     "name": "stdout",
     "output_type": "stream",
     "text": [
      "\n",
      "Emotion Validating Correct: 82/120 \n",
      "Emotion Validating Accuracy: 68.33333%\n",
      "Speaker Validating Correct: 33/120 \n",
      "Speaker Validating Accuracy: 27.50000%\n",
      "\n",
      "Current Fold: 0 | Epoch: 61\n"
     ]
    },
    {
     "name": "stdout",
     "output_type": "stream",
     "text": [
      "Emotion Training Correct: 1123/1184 \n",
      "Emotion Training Accuracy: 94.84797%\n",
      "Speaker Training Correct: 0/1184 \n",
      "Speaker Training Accuracy: 0.00000%\n"
     ]
    },
    {
     "name": "stdout",
     "output_type": "stream",
     "text": [
      "\n",
      "Emotion Validating Correct: 80/120 \n",
      "Emotion Validating Accuracy: 66.66667%\n",
      "Speaker Validating Correct: 30/120 \n",
      "Speaker Validating Accuracy: 25.00000%\n",
      "\n",
      "Current Fold: 0 | Epoch: 62\n"
     ]
    },
    {
     "name": "stdout",
     "output_type": "stream",
     "text": [
      "Emotion Training Correct: 1118/1184 \n",
      "Emotion Training Accuracy: 94.42568%\n",
      "Speaker Training Correct: 0/1184 \n",
      "Speaker Training Accuracy: 0.00000%\n"
     ]
    },
    {
     "name": "stdout",
     "output_type": "stream",
     "text": [
      "\n",
      "Emotion Validating Correct: 77/120 \n",
      "Emotion Validating Accuracy: 64.16667%\n",
      "Speaker Validating Correct: 30/120 \n",
      "Speaker Validating Accuracy: 25.00000%\n",
      "\n",
      "Current Fold: 0 | Epoch: 63\n"
     ]
    },
    {
     "name": "stdout",
     "output_type": "stream",
     "text": [
      "Emotion Training Correct: 1133/1184 \n",
      "Emotion Training Accuracy: 95.69257%\n",
      "Speaker Training Correct: 0/1184 \n",
      "Speaker Training Accuracy: 0.00000%\n"
     ]
    },
    {
     "name": "stdout",
     "output_type": "stream",
     "text": [
      "\n",
      "Emotion Validating Correct: 79/120 \n",
      "Emotion Validating Accuracy: 65.83333%\n",
      "Speaker Validating Correct: 26/120 \n",
      "Speaker Validating Accuracy: 21.66667%\n",
      "\n",
      "Current Fold: 0 | Epoch: 64\n"
     ]
    },
    {
     "name": "stdout",
     "output_type": "stream",
     "text": [
      "Emotion Training Correct: 1087/1184 \n",
      "Emotion Training Accuracy: 91.80743%\n",
      "Speaker Training Correct: 0/1184 \n",
      "Speaker Training Accuracy: 0.00000%\n"
     ]
    },
    {
     "name": "stdout",
     "output_type": "stream",
     "text": [
      "\n",
      "Emotion Validating Correct: 69/120 \n",
      "Emotion Validating Accuracy: 57.50000%\n",
      "Speaker Validating Correct: 40/120 \n",
      "Speaker Validating Accuracy: 33.33333%\n",
      "\n",
      "Current Fold: 0 | Epoch: 65\n"
     ]
    },
    {
     "name": "stdout",
     "output_type": "stream",
     "text": [
      "Emotion Training Correct: 1120/1184 \n",
      "Emotion Training Accuracy: 94.59459%\n",
      "Speaker Training Correct: 0/1184 \n",
      "Speaker Training Accuracy: 0.00000%\n"
     ]
    },
    {
     "name": "stdout",
     "output_type": "stream",
     "text": [
      "\n",
      "Emotion Validating Correct: 76/120 \n",
      "Emotion Validating Accuracy: 63.33333%\n",
      "Speaker Validating Correct: 36/120 \n",
      "Speaker Validating Accuracy: 30.00000%\n",
      "\n",
      "Current Fold: 0 | Epoch: 66\n"
     ]
    },
    {
     "name": "stdout",
     "output_type": "stream",
     "text": [
      "Emotion Training Correct: 1101/1184 \n",
      "Emotion Training Accuracy: 92.98986%\n",
      "Speaker Training Correct: 0/1184 \n",
      "Speaker Training Accuracy: 0.00000%\n"
     ]
    },
    {
     "name": "stdout",
     "output_type": "stream",
     "text": [
      "\n",
      "Emotion Validating Correct: 68/120 \n",
      "Emotion Validating Accuracy: 56.66667%\n",
      "Speaker Validating Correct: 26/120 \n",
      "Speaker Validating Accuracy: 21.66667%\n",
      "\n",
      "Current Fold: 0 | Epoch: 67\n"
     ]
    },
    {
     "name": "stdout",
     "output_type": "stream",
     "text": [
      "Emotion Training Correct: 1121/1184 \n",
      "Emotion Training Accuracy: 94.67905%\n",
      "Speaker Training Correct: 0/1184 \n",
      "Speaker Training Accuracy: 0.00000%\n"
     ]
    },
    {
     "name": "stdout",
     "output_type": "stream",
     "text": [
      "\n",
      "Emotion Validating Correct: 74/120 \n",
      "Emotion Validating Accuracy: 61.66667%\n",
      "Speaker Validating Correct: 25/120 \n",
      "Speaker Validating Accuracy: 20.83333%\n",
      "\n",
      "Current Fold: 0 | Epoch: 68\n"
     ]
    },
    {
     "name": "stdout",
     "output_type": "stream",
     "text": [
      "Emotion Training Correct: 1138/1184 \n",
      "Emotion Training Accuracy: 96.11486%\n",
      "Speaker Training Correct: 0/1184 \n",
      "Speaker Training Accuracy: 0.00000%\n"
     ]
    },
    {
     "name": "stdout",
     "output_type": "stream",
     "text": [
      "\n",
      "Emotion Validating Correct: 79/120 \n",
      "Emotion Validating Accuracy: 65.83333%\n",
      "Speaker Validating Correct: 29/120 \n",
      "Speaker Validating Accuracy: 24.16667%\n",
      "\n",
      "Current Fold: 0 | Epoch: 69\n"
     ]
    },
    {
     "name": "stdout",
     "output_type": "stream",
     "text": [
      "Emotion Training Correct: 1148/1184 \n",
      "Emotion Training Accuracy: 96.95946%\n",
      "Speaker Training Correct: 0/1184 \n",
      "Speaker Training Accuracy: 0.00000%\n"
     ]
    },
    {
     "name": "stdout",
     "output_type": "stream",
     "text": [
      "\n",
      "Emotion Validating Correct: 76/120 \n",
      "Emotion Validating Accuracy: 63.33333%\n",
      "Speaker Validating Correct: 30/120 \n",
      "Speaker Validating Accuracy: 25.00000%\n",
      "\n",
      "Current Fold: 0 | Epoch: 70\n"
     ]
    },
    {
     "name": "stdout",
     "output_type": "stream",
     "text": [
      "Emotion Training Correct: 1061/1184 \n",
      "Emotion Training Accuracy: 89.61149%\n",
      "Speaker Training Correct: 0/1184 \n",
      "Speaker Training Accuracy: 0.00000%\n"
     ]
    },
    {
     "name": "stdout",
     "output_type": "stream",
     "text": [
      "\n",
      "Emotion Validating Correct: 75/120 \n",
      "Emotion Validating Accuracy: 62.50000%\n",
      "Speaker Validating Correct: 27/120 \n",
      "Speaker Validating Accuracy: 22.50000%\n",
      "\n",
      "Current Fold: 0 | Epoch: 71\n"
     ]
    },
    {
     "name": "stdout",
     "output_type": "stream",
     "text": [
      "Emotion Training Correct: 1151/1184 \n",
      "Emotion Training Accuracy: 97.21284%\n",
      "Speaker Training Correct: 0/1184 \n",
      "Speaker Training Accuracy: 0.00000%\n"
     ]
    },
    {
     "name": "stdout",
     "output_type": "stream",
     "text": [
      "\n",
      "Emotion Validating Correct: 86/120 \n",
      "Emotion Validating Accuracy: 71.66667%\n",
      "Speaker Validating Correct: 36/120 \n",
      "Speaker Validating Accuracy: 30.00000%\n",
      "Models' parameters and optimisers' parameters saved.\n",
      "\n",
      "Current Fold: 0 | Epoch: 72\n"
     ]
    },
    {
     "name": "stdout",
     "output_type": "stream",
     "text": [
      "Emotion Training Correct: 1151/1184 \n",
      "Emotion Training Accuracy: 97.21284%\n",
      "Speaker Training Correct: 0/1184 \n",
      "Speaker Training Accuracy: 0.00000%\n"
     ]
    },
    {
     "name": "stdout",
     "output_type": "stream",
     "text": [
      "\n",
      "Emotion Validating Correct: 89/120 \n",
      "Emotion Validating Accuracy: 74.16667%\n",
      "Speaker Validating Correct: 32/120 \n",
      "Speaker Validating Accuracy: 26.66667%\n"
     ]
    },
    {
     "name": "stdout",
     "output_type": "stream",
     "text": [
      "Models' parameters and optimisers' parameters saved.\n",
      "\n",
      "Current Fold: 0 | Epoch: 73\n"
     ]
    },
    {
     "name": "stdout",
     "output_type": "stream",
     "text": [
      "Emotion Training Correct: 1142/1184 \n",
      "Emotion Training Accuracy: 96.45270%\n",
      "Speaker Training Correct: 0/1184 \n",
      "Speaker Training Accuracy: 0.00000%\n"
     ]
    },
    {
     "name": "stdout",
     "output_type": "stream",
     "text": [
      "\n",
      "Emotion Validating Correct: 80/120 \n",
      "Emotion Validating Accuracy: 66.66667%\n",
      "Speaker Validating Correct: 31/120 \n",
      "Speaker Validating Accuracy: 25.83333%\n",
      "\n",
      "Current Fold: 0 | Epoch: 74\n"
     ]
    },
    {
     "name": "stdout",
     "output_type": "stream",
     "text": [
      "Emotion Training Correct: 1131/1184 \n",
      "Emotion Training Accuracy: 95.52365%\n",
      "Speaker Training Correct: 0/1184 \n",
      "Speaker Training Accuracy: 0.00000%\n"
     ]
    },
    {
     "name": "stdout",
     "output_type": "stream",
     "text": [
      "\n",
      "Emotion Validating Correct: 77/120 \n",
      "Emotion Validating Accuracy: 64.16667%\n",
      "Speaker Validating Correct: 37/120 \n",
      "Speaker Validating Accuracy: 30.83333%\n",
      "\n",
      "Current Fold: 0 | Epoch: 75\n"
     ]
    },
    {
     "name": "stdout",
     "output_type": "stream",
     "text": [
      "Emotion Training Correct: 1152/1184 \n",
      "Emotion Training Accuracy: 97.29730%\n",
      "Speaker Training Correct: 0/1184 \n",
      "Speaker Training Accuracy: 0.00000%\n"
     ]
    },
    {
     "name": "stdout",
     "output_type": "stream",
     "text": [
      "\n",
      "Emotion Validating Correct: 78/120 \n",
      "Emotion Validating Accuracy: 65.00000%\n",
      "Speaker Validating Correct: 32/120 \n",
      "Speaker Validating Accuracy: 26.66667%\n",
      "\n",
      "Current Fold: 0 | Epoch: 76\n"
     ]
    },
    {
     "name": "stdout",
     "output_type": "stream",
     "text": [
      "Emotion Training Correct: 1123/1184 \n",
      "Emotion Training Accuracy: 94.84797%\n",
      "Speaker Training Correct: 0/1184 \n",
      "Speaker Training Accuracy: 0.00000%\n"
     ]
    },
    {
     "name": "stdout",
     "output_type": "stream",
     "text": [
      "\n",
      "Emotion Validating Correct: 82/120 \n",
      "Emotion Validating Accuracy: 68.33333%\n",
      "Speaker Validating Correct: 31/120 \n",
      "Speaker Validating Accuracy: 25.83333%\n",
      "\n",
      "Current Fold: 0 | Epoch: 77\n"
     ]
    },
    {
     "name": "stdout",
     "output_type": "stream",
     "text": [
      "Emotion Training Correct: 1148/1184 \n",
      "Emotion Training Accuracy: 96.95946%\n",
      "Speaker Training Correct: 0/1184 \n",
      "Speaker Training Accuracy: 0.00000%\n"
     ]
    },
    {
     "name": "stdout",
     "output_type": "stream",
     "text": [
      "\n",
      "Emotion Validating Correct: 78/120 \n",
      "Emotion Validating Accuracy: 65.00000%\n",
      "Speaker Validating Correct: 33/120 \n",
      "Speaker Validating Accuracy: 27.50000%\n",
      "\n",
      "Current Fold: 0 | Epoch: 78\n"
     ]
    },
    {
     "name": "stdout",
     "output_type": "stream",
     "text": [
      "Emotion Training Correct: 1136/1184 \n",
      "Emotion Training Accuracy: 95.94595%\n",
      "Speaker Training Correct: 0/1184 \n",
      "Speaker Training Accuracy: 0.00000%\n"
     ]
    },
    {
     "name": "stdout",
     "output_type": "stream",
     "text": [
      "\n",
      "Emotion Validating Correct: 90/120 \n",
      "Emotion Validating Accuracy: 75.00000%\n",
      "Speaker Validating Correct: 32/120 \n",
      "Speaker Validating Accuracy: 26.66667%\n",
      "Models' parameters and optimisers' parameters saved.\n",
      "\n",
      "Current Fold: 0 | Epoch: 79\n"
     ]
    },
    {
     "name": "stdout",
     "output_type": "stream",
     "text": [
      "Emotion Training Correct: 1133/1184 \n",
      "Emotion Training Accuracy: 95.69257%\n",
      "Speaker Training Correct: 0/1184 \n",
      "Speaker Training Accuracy: 0.00000%\n"
     ]
    },
    {
     "name": "stdout",
     "output_type": "stream",
     "text": [
      "\n",
      "Emotion Validating Correct: 83/120 \n",
      "Emotion Validating Accuracy: 69.16667%\n",
      "Speaker Validating Correct: 33/120 \n",
      "Speaker Validating Accuracy: 27.50000%\n",
      "\n",
      "Current Fold: 0 | Epoch: 80\n"
     ]
    },
    {
     "name": "stdout",
     "output_type": "stream",
     "text": [
      "Emotion Training Correct: 1142/1184 \n",
      "Emotion Training Accuracy: 96.45270%\n",
      "Speaker Training Correct: 0/1184 \n",
      "Speaker Training Accuracy: 0.00000%\n"
     ]
    },
    {
     "name": "stdout",
     "output_type": "stream",
     "text": [
      "\n",
      "Emotion Validating Correct: 72/120 \n",
      "Emotion Validating Accuracy: 60.00000%\n",
      "Speaker Validating Correct: 23/120 \n",
      "Speaker Validating Accuracy: 19.16667%\n",
      "\n",
      "Current Fold: 0 | Epoch: 81\n"
     ]
    },
    {
     "name": "stdout",
     "output_type": "stream",
     "text": [
      "Emotion Training Correct: 1126/1184 \n",
      "Emotion Training Accuracy: 95.10135%\n",
      "Speaker Training Correct: 0/1184 \n",
      "Speaker Training Accuracy: 0.00000%\n"
     ]
    },
    {
     "name": "stdout",
     "output_type": "stream",
     "text": [
      "\n",
      "Emotion Validating Correct: 83/120 \n",
      "Emotion Validating Accuracy: 69.16667%\n",
      "Speaker Validating Correct: 30/120 \n",
      "Speaker Validating Accuracy: 25.00000%\n",
      "\n",
      "Current Fold: 0 | Epoch: 82\n"
     ]
    },
    {
     "name": "stdout",
     "output_type": "stream",
     "text": [
      "Emotion Training Correct: 1152/1184 \n",
      "Emotion Training Accuracy: 97.29730%\n",
      "Speaker Training Correct: 0/1184 \n",
      "Speaker Training Accuracy: 0.00000%\n"
     ]
    },
    {
     "name": "stdout",
     "output_type": "stream",
     "text": [
      "\n",
      "Emotion Validating Correct: 83/120 \n",
      "Emotion Validating Accuracy: 69.16667%\n",
      "Speaker Validating Correct: 37/120 \n",
      "Speaker Validating Accuracy: 30.83333%\n",
      "\n",
      "Current Fold: 0 | Epoch: 83\n"
     ]
    },
    {
     "name": "stdout",
     "output_type": "stream",
     "text": [
      "Emotion Training Correct: 1155/1184 \n",
      "Emotion Training Accuracy: 97.55068%\n",
      "Speaker Training Correct: 0/1184 \n",
      "Speaker Training Accuracy: 0.00000%\n"
     ]
    },
    {
     "name": "stdout",
     "output_type": "stream",
     "text": [
      "\n",
      "Emotion Validating Correct: 74/120 \n",
      "Emotion Validating Accuracy: 61.66667%\n",
      "Speaker Validating Correct: 29/120 \n",
      "Speaker Validating Accuracy: 24.16667%\n",
      "\n",
      "Current Fold: 0 | Epoch: 84\n"
     ]
    },
    {
     "name": "stdout",
     "output_type": "stream",
     "text": [
      "Emotion Training Correct: 1130/1184 \n",
      "Emotion Training Accuracy: 95.43919%\n",
      "Speaker Training Correct: 0/1184 \n",
      "Speaker Training Accuracy: 0.00000%\n"
     ]
    },
    {
     "name": "stdout",
     "output_type": "stream",
     "text": [
      "\n",
      "Emotion Validating Correct: 84/120 \n",
      "Emotion Validating Accuracy: 70.00000%\n",
      "Speaker Validating Correct: 34/120 \n",
      "Speaker Validating Accuracy: 28.33333%\n",
      "\n",
      "Current Fold: 0 | Epoch: 85\n"
     ]
    },
    {
     "name": "stdout",
     "output_type": "stream",
     "text": [
      "Emotion Training Correct: 1147/1184 \n",
      "Emotion Training Accuracy: 96.87500%\n",
      "Speaker Training Correct: 0/1184 \n",
      "Speaker Training Accuracy: 0.00000%\n"
     ]
    },
    {
     "name": "stdout",
     "output_type": "stream",
     "text": [
      "\n",
      "Emotion Validating Correct: 80/120 \n",
      "Emotion Validating Accuracy: 66.66667%\n",
      "Speaker Validating Correct: 35/120 \n",
      "Speaker Validating Accuracy: 29.16667%\n",
      "\n",
      "Current Fold: 0 | Epoch: 86\n"
     ]
    },
    {
     "name": "stdout",
     "output_type": "stream",
     "text": [
      "Emotion Training Correct: 1148/1184 \n",
      "Emotion Training Accuracy: 96.95946%\n",
      "Speaker Training Correct: 0/1184 \n",
      "Speaker Training Accuracy: 0.00000%\n"
     ]
    },
    {
     "name": "stdout",
     "output_type": "stream",
     "text": [
      "\n",
      "Emotion Validating Correct: 78/120 \n",
      "Emotion Validating Accuracy: 65.00000%\n",
      "Speaker Validating Correct: 37/120 \n",
      "Speaker Validating Accuracy: 30.83333%\n",
      "\n",
      "Current Fold: 0 | Epoch: 87\n"
     ]
    },
    {
     "name": "stdout",
     "output_type": "stream",
     "text": [
      "Emotion Training Correct: 1150/1184 \n",
      "Emotion Training Accuracy: 97.12838%\n",
      "Speaker Training Correct: 0/1184 \n",
      "Speaker Training Accuracy: 0.00000%\n"
     ]
    },
    {
     "name": "stdout",
     "output_type": "stream",
     "text": [
      "\n",
      "Emotion Validating Correct: 71/120 \n",
      "Emotion Validating Accuracy: 59.16667%\n",
      "Speaker Validating Correct: 23/120 \n",
      "Speaker Validating Accuracy: 19.16667%\n",
      "\n",
      "Current Fold: 0 | Epoch: 88\n"
     ]
    },
    {
     "name": "stdout",
     "output_type": "stream",
     "text": [
      "Emotion Training Correct: 1139/1184 \n",
      "Emotion Training Accuracy: 96.19932%\n",
      "Speaker Training Correct: 0/1184 \n",
      "Speaker Training Accuracy: 0.00000%\n"
     ]
    },
    {
     "name": "stdout",
     "output_type": "stream",
     "text": [
      "\n",
      "Emotion Validating Correct: 81/120 \n",
      "Emotion Validating Accuracy: 67.50000%\n",
      "Speaker Validating Correct: 34/120 \n",
      "Speaker Validating Accuracy: 28.33333%\n",
      "\n",
      "Current Fold: 0 | Epoch: 89\n"
     ]
    },
    {
     "name": "stdout",
     "output_type": "stream",
     "text": [
      "Emotion Training Correct: 1146/1184 \n",
      "Emotion Training Accuracy: 96.79054%\n",
      "Speaker Training Correct: 0/1184 \n",
      "Speaker Training Accuracy: 0.00000%\n"
     ]
    },
    {
     "name": "stdout",
     "output_type": "stream",
     "text": [
      "\n",
      "Emotion Validating Correct: 78/120 \n",
      "Emotion Validating Accuracy: 65.00000%\n",
      "Speaker Validating Correct: 33/120 \n",
      "Speaker Validating Accuracy: 27.50000%\n",
      "\n",
      "Current Fold: 0 | Epoch: 90\n"
     ]
    },
    {
     "name": "stdout",
     "output_type": "stream",
     "text": [
      "Emotion Training Correct: 1122/1184 \n",
      "Emotion Training Accuracy: 94.76351%\n",
      "Speaker Training Correct: 0/1184 \n",
      "Speaker Training Accuracy: 0.00000%\n"
     ]
    },
    {
     "name": "stdout",
     "output_type": "stream",
     "text": [
      "\n",
      "Emotion Validating Correct: 69/120 \n",
      "Emotion Validating Accuracy: 57.50000%\n",
      "Speaker Validating Correct: 35/120 \n",
      "Speaker Validating Accuracy: 29.16667%\n",
      "\n",
      "Current Fold: 0 | Epoch: 91\n"
     ]
    },
    {
     "name": "stdout",
     "output_type": "stream",
     "text": [
      "Emotion Training Correct: 1159/1184 \n",
      "Emotion Training Accuracy: 97.88851%\n",
      "Speaker Training Correct: 0/1184 \n",
      "Speaker Training Accuracy: 0.00000%\n"
     ]
    },
    {
     "name": "stdout",
     "output_type": "stream",
     "text": [
      "\n",
      "Emotion Validating Correct: 79/120 \n",
      "Emotion Validating Accuracy: 65.83333%\n",
      "Speaker Validating Correct: 33/120 \n",
      "Speaker Validating Accuracy: 27.50000%\n",
      "\n",
      "Current Fold: 0 | Epoch: 92\n"
     ]
    },
    {
     "name": "stdout",
     "output_type": "stream",
     "text": [
      "Emotion Training Correct: 1149/1184 \n",
      "Emotion Training Accuracy: 97.04392%\n",
      "Speaker Training Correct: 0/1184 \n",
      "Speaker Training Accuracy: 0.00000%\n"
     ]
    },
    {
     "name": "stdout",
     "output_type": "stream",
     "text": [
      "\n",
      "Emotion Validating Correct: 74/120 \n",
      "Emotion Validating Accuracy: 61.66667%\n",
      "Speaker Validating Correct: 36/120 \n",
      "Speaker Validating Accuracy: 30.00000%\n",
      "\n",
      "Current Fold: 0 | Epoch: 93\n"
     ]
    },
    {
     "name": "stdout",
     "output_type": "stream",
     "text": [
      "Emotion Training Correct: 1148/1184 \n",
      "Emotion Training Accuracy: 96.95946%\n",
      "Speaker Training Correct: 0/1184 \n",
      "Speaker Training Accuracy: 0.00000%\n"
     ]
    },
    {
     "name": "stdout",
     "output_type": "stream",
     "text": [
      "\n",
      "Emotion Validating Correct: 72/120 \n",
      "Emotion Validating Accuracy: 60.00000%\n",
      "Speaker Validating Correct: 33/120 \n",
      "Speaker Validating Accuracy: 27.50000%\n",
      "\n",
      "Current Fold: 0 | Epoch: 94\n"
     ]
    },
    {
     "name": "stdout",
     "output_type": "stream",
     "text": [
      "Emotion Training Correct: 1149/1184 \n",
      "Emotion Training Accuracy: 97.04392%\n",
      "Speaker Training Correct: 0/1184 \n",
      "Speaker Training Accuracy: 0.00000%\n"
     ]
    },
    {
     "name": "stdout",
     "output_type": "stream",
     "text": [
      "\n",
      "Emotion Validating Correct: 70/120 \n",
      "Emotion Validating Accuracy: 58.33333%\n",
      "Speaker Validating Correct: 21/120 \n",
      "Speaker Validating Accuracy: 17.50000%\n",
      "\n",
      "Current Fold: 0 | Epoch: 95\n"
     ]
    },
    {
     "name": "stdout",
     "output_type": "stream",
     "text": [
      "Emotion Training Correct: 1149/1184 \n",
      "Emotion Training Accuracy: 97.04392%\n",
      "Speaker Training Correct: 0/1184 \n",
      "Speaker Training Accuracy: 0.00000%\n"
     ]
    },
    {
     "name": "stdout",
     "output_type": "stream",
     "text": [
      "\n",
      "Emotion Validating Correct: 72/120 \n",
      "Emotion Validating Accuracy: 60.00000%\n",
      "Speaker Validating Correct: 32/120 \n",
      "Speaker Validating Accuracy: 26.66667%\n",
      "\n",
      "Current Fold: 0 | Epoch: 96\n"
     ]
    },
    {
     "name": "stdout",
     "output_type": "stream",
     "text": [
      "Emotion Training Correct: 1139/1184 \n",
      "Emotion Training Accuracy: 96.19932%\n",
      "Speaker Training Correct: 0/1184 \n",
      "Speaker Training Accuracy: 0.00000%\n"
     ]
    },
    {
     "name": "stdout",
     "output_type": "stream",
     "text": [
      "\n",
      "Emotion Validating Correct: 84/120 \n",
      "Emotion Validating Accuracy: 70.00000%\n",
      "Speaker Validating Correct: 31/120 \n",
      "Speaker Validating Accuracy: 25.83333%\n",
      "\n",
      "Current Fold: 0 | Epoch: 97\n"
     ]
    },
    {
     "name": "stdout",
     "output_type": "stream",
     "text": [
      "Emotion Training Correct: 1154/1184 \n",
      "Emotion Training Accuracy: 97.46622%\n",
      "Speaker Training Correct: 0/1184 \n",
      "Speaker Training Accuracy: 0.00000%\n"
     ]
    },
    {
     "name": "stdout",
     "output_type": "stream",
     "text": [
      "\n",
      "Emotion Validating Correct: 75/120 \n",
      "Emotion Validating Accuracy: 62.50000%\n",
      "Speaker Validating Correct: 30/120 \n",
      "Speaker Validating Accuracy: 25.00000%\n",
      "\n",
      "Current Fold: 0 | Epoch: 98\n"
     ]
    },
    {
     "name": "stdout",
     "output_type": "stream",
     "text": [
      "Emotion Training Correct: 1154/1184 \n",
      "Emotion Training Accuracy: 97.46622%\n",
      "Speaker Training Correct: 0/1184 \n",
      "Speaker Training Accuracy: 0.00000%\n"
     ]
    },
    {
     "name": "stdout",
     "output_type": "stream",
     "text": [
      "\n",
      "Emotion Validating Correct: 79/120 \n",
      "Emotion Validating Accuracy: 65.83333%\n",
      "Speaker Validating Correct: 27/120 \n",
      "Speaker Validating Accuracy: 22.50000%\n",
      "\n",
      "Current Fold: 0 | Epoch: 99\n"
     ]
    },
    {
     "name": "stdout",
     "output_type": "stream",
     "text": [
      "Emotion Training Correct: 1155/1184 \n",
      "Emotion Training Accuracy: 97.55068%\n",
      "Speaker Training Correct: 0/1184 \n",
      "Speaker Training Accuracy: 0.00000%\n"
     ]
    },
    {
     "name": "stdout",
     "output_type": "stream",
     "text": [
      "\n",
      "Emotion Validating Correct: 78/120 \n",
      "Emotion Validating Accuracy: 65.00000%\n",
      "Speaker Validating Correct: 29/120 \n",
      "Speaker Validating Accuracy: 24.16667%\n"
     ]
    },
    {
     "name": "stdout",
     "output_type": "stream",
     "text": [
      "\n",
      "Current Fold: 1 | Epoch: 0\n"
     ]
    },
    {
     "name": "stdout",
     "output_type": "stream",
     "text": [
      "Emotion Training Correct: 353/1184 \n",
      "Emotion Training Accuracy: 29.81419%\n",
      "Speaker Training Correct: 0/1184 \n",
      "Speaker Training Accuracy: 0.00000%\n"
     ]
    },
    {
     "name": "stdout",
     "output_type": "stream",
     "text": [
      "\n",
      "Emotion Validating Correct: 29/120 \n",
      "Emotion Validating Accuracy: 24.16667%\n",
      "Speaker Validating Correct: 52/120 \n",
      "Speaker Validating Accuracy: 43.33333%\n",
      "\n",
      "Current Fold: 1 | Epoch: 1\n"
     ]
    },
    {
     "name": "stdout",
     "output_type": "stream",
     "text": [
      "Emotion Training Correct: 320/1184 \n",
      "Emotion Training Accuracy: 27.02703%\n",
      "Speaker Training Correct: 0/1184 \n",
      "Speaker Training Accuracy: 0.00000%\n"
     ]
    },
    {
     "name": "stdout",
     "output_type": "stream",
     "text": [
      "\n",
      "Emotion Validating Correct: 23/120 \n",
      "Emotion Validating Accuracy: 19.16667%\n",
      "Speaker Validating Correct: 10/120 \n",
      "Speaker Validating Accuracy: 8.33333%\n",
      "\n",
      "Current Fold: 1 | Epoch: 2\n"
     ]
    },
    {
     "name": "stdout",
     "output_type": "stream",
     "text": [
      "Emotion Training Correct: 359/1184 \n",
      "Emotion Training Accuracy: 30.32095%\n",
      "Speaker Training Correct: 0/1184 \n",
      "Speaker Training Accuracy: 0.00000%\n"
     ]
    },
    {
     "name": "stdout",
     "output_type": "stream",
     "text": [
      "\n",
      "Emotion Validating Correct: 27/120 \n",
      "Emotion Validating Accuracy: 22.50000%\n",
      "Speaker Validating Correct: 0/120 \n",
      "Speaker Validating Accuracy: 0.00000%\n",
      "\n",
      "Current Fold: 1 | Epoch: 3\n"
     ]
    },
    {
     "name": "stdout",
     "output_type": "stream",
     "text": [
      "Emotion Training Correct: 411/1184 \n",
      "Emotion Training Accuracy: 34.71284%\n",
      "Speaker Training Correct: 0/1184 \n",
      "Speaker Training Accuracy: 0.00000%\n"
     ]
    },
    {
     "name": "stdout",
     "output_type": "stream",
     "text": [
      "\n",
      "Emotion Validating Correct: 31/120 \n",
      "Emotion Validating Accuracy: 25.83333%\n",
      "Speaker Validating Correct: 11/120 \n",
      "Speaker Validating Accuracy: 9.16667%\n",
      "Models' parameters and optimisers' parameters saved.\n",
      "\n",
      "Current Fold: 1 | Epoch: 4\n"
     ]
    },
    {
     "name": "stdout",
     "output_type": "stream",
     "text": [
      "Emotion Training Correct: 508/1184 \n",
      "Emotion Training Accuracy: 42.90541%\n",
      "Speaker Training Correct: 0/1184 \n",
      "Speaker Training Accuracy: 0.00000%\n"
     ]
    },
    {
     "name": "stdout",
     "output_type": "stream",
     "text": [
      "\n",
      "Emotion Validating Correct: 38/120 \n",
      "Emotion Validating Accuracy: 31.66667%\n",
      "Speaker Validating Correct: 15/120 \n",
      "Speaker Validating Accuracy: 12.50000%\n",
      "Models' parameters and optimisers' parameters saved.\n",
      "\n",
      "Current Fold: 1 | Epoch: 5\n"
     ]
    },
    {
     "name": "stdout",
     "output_type": "stream",
     "text": [
      "Emotion Training Correct: 593/1184 \n",
      "Emotion Training Accuracy: 50.08446%\n",
      "Speaker Training Correct: 0/1184 \n",
      "Speaker Training Accuracy: 0.00000%\n"
     ]
    },
    {
     "name": "stdout",
     "output_type": "stream",
     "text": [
      "\n",
      "Emotion Validating Correct: 51/120 \n",
      "Emotion Validating Accuracy: 42.50000%\n",
      "Speaker Validating Correct: 28/120 \n",
      "Speaker Validating Accuracy: 23.33333%\n",
      "Models' parameters and optimisers' parameters saved.\n",
      "\n",
      "Current Fold: 1 | Epoch: 6\n"
     ]
    },
    {
     "name": "stdout",
     "output_type": "stream",
     "text": [
      "Emotion Training Correct: 641/1184 \n",
      "Emotion Training Accuracy: 54.13851%\n",
      "Speaker Training Correct: 0/1184 \n",
      "Speaker Training Accuracy: 0.00000%\n"
     ]
    },
    {
     "name": "stdout",
     "output_type": "stream",
     "text": [
      "\n",
      "Emotion Validating Correct: 54/120 \n",
      "Emotion Validating Accuracy: 45.00000%\n",
      "Speaker Validating Correct: 28/120 \n",
      "Speaker Validating Accuracy: 23.33333%\n",
      "Models' parameters and optimisers' parameters saved.\n",
      "\n",
      "Current Fold: 1 | Epoch: 7\n"
     ]
    },
    {
     "name": "stdout",
     "output_type": "stream",
     "text": [
      "Emotion Training Correct: 693/1184 \n",
      "Emotion Training Accuracy: 58.53041%\n",
      "Speaker Training Correct: 0/1184 \n",
      "Speaker Training Accuracy: 0.00000%\n"
     ]
    },
    {
     "name": "stdout",
     "output_type": "stream",
     "text": [
      "\n",
      "Emotion Validating Correct: 48/120 \n",
      "Emotion Validating Accuracy: 40.00000%\n",
      "Speaker Validating Correct: 21/120 \n",
      "Speaker Validating Accuracy: 17.50000%\n",
      "\n",
      "Current Fold: 1 | Epoch: 8\n"
     ]
    },
    {
     "name": "stdout",
     "output_type": "stream",
     "text": [
      "Emotion Training Correct: 683/1184 \n",
      "Emotion Training Accuracy: 57.68581%\n",
      "Speaker Training Correct: 0/1184 \n",
      "Speaker Training Accuracy: 0.00000%\n"
     ]
    },
    {
     "name": "stdout",
     "output_type": "stream",
     "text": [
      "\n",
      "Emotion Validating Correct: 43/120 \n",
      "Emotion Validating Accuracy: 35.83333%\n",
      "Speaker Validating Correct: 17/120 \n",
      "Speaker Validating Accuracy: 14.16667%\n",
      "\n",
      "Current Fold: 1 | Epoch: 9\n"
     ]
    },
    {
     "name": "stdout",
     "output_type": "stream",
     "text": [
      "Emotion Training Correct: 632/1184 \n",
      "Emotion Training Accuracy: 53.37838%\n",
      "Speaker Training Correct: 0/1184 \n",
      "Speaker Training Accuracy: 0.00000%\n"
     ]
    },
    {
     "name": "stdout",
     "output_type": "stream",
     "text": [
      "\n",
      "Emotion Validating Correct: 61/120 \n",
      "Emotion Validating Accuracy: 50.83333%\n",
      "Speaker Validating Correct: 25/120 \n",
      "Speaker Validating Accuracy: 20.83333%\n",
      "Models' parameters and optimisers' parameters saved.\n",
      "\n",
      "Current Fold: 1 | Epoch: 10\n"
     ]
    },
    {
     "name": "stdout",
     "output_type": "stream",
     "text": [
      "Emotion Training Correct: 539/1184 \n",
      "Emotion Training Accuracy: 45.52365%\n",
      "Speaker Training Correct: 0/1184 \n",
      "Speaker Training Accuracy: 0.00000%\n"
     ]
    },
    {
     "name": "stdout",
     "output_type": "stream",
     "text": [
      "\n",
      "Emotion Validating Correct: 38/120 \n",
      "Emotion Validating Accuracy: 31.66667%\n",
      "Speaker Validating Correct: 28/120 \n",
      "Speaker Validating Accuracy: 23.33333%\n",
      "\n",
      "Current Fold: 1 | Epoch: 11\n"
     ]
    },
    {
     "name": "stdout",
     "output_type": "stream",
     "text": [
      "Emotion Training Correct: 664/1184 \n",
      "Emotion Training Accuracy: 56.08108%\n",
      "Speaker Training Correct: 0/1184 \n",
      "Speaker Training Accuracy: 0.00000%\n"
     ]
    },
    {
     "name": "stdout",
     "output_type": "stream",
     "text": [
      "\n",
      "Emotion Validating Correct: 50/120 \n",
      "Emotion Validating Accuracy: 41.66667%\n",
      "Speaker Validating Correct: 32/120 \n",
      "Speaker Validating Accuracy: 26.66667%\n",
      "\n",
      "Current Fold: 1 | Epoch: 12\n"
     ]
    },
    {
     "name": "stdout",
     "output_type": "stream",
     "text": [
      "Emotion Training Correct: 776/1184 \n",
      "Emotion Training Accuracy: 65.54054%\n",
      "Speaker Training Correct: 0/1184 \n",
      "Speaker Training Accuracy: 0.00000%\n"
     ]
    },
    {
     "name": "stdout",
     "output_type": "stream",
     "text": [
      "\n",
      "Emotion Validating Correct: 49/120 \n",
      "Emotion Validating Accuracy: 40.83333%\n",
      "Speaker Validating Correct: 23/120 \n",
      "Speaker Validating Accuracy: 19.16667%\n",
      "\n",
      "Current Fold: 1 | Epoch: 13\n"
     ]
    },
    {
     "name": "stdout",
     "output_type": "stream",
     "text": [
      "Emotion Training Correct: 859/1184 \n",
      "Emotion Training Accuracy: 72.55068%\n",
      "Speaker Training Correct: 0/1184 \n",
      "Speaker Training Accuracy: 0.00000%\n"
     ]
    },
    {
     "name": "stdout",
     "output_type": "stream",
     "text": [
      "\n",
      "Emotion Validating Correct: 61/120 \n",
      "Emotion Validating Accuracy: 50.83333%\n",
      "Speaker Validating Correct: 25/120 \n",
      "Speaker Validating Accuracy: 20.83333%\n",
      "Models' parameters and optimisers' parameters saved.\n",
      "\n",
      "Current Fold: 1 | Epoch: 14\n"
     ]
    },
    {
     "name": "stdout",
     "output_type": "stream",
     "text": [
      "Emotion Training Correct: 703/1184 \n",
      "Emotion Training Accuracy: 59.37500%\n",
      "Speaker Training Correct: 0/1184 \n",
      "Speaker Training Accuracy: 0.00000%\n"
     ]
    },
    {
     "name": "stdout",
     "output_type": "stream",
     "text": [
      "\n",
      "Emotion Validating Correct: 44/120 \n",
      "Emotion Validating Accuracy: 36.66667%\n",
      "Speaker Validating Correct: 25/120 \n",
      "Speaker Validating Accuracy: 20.83333%\n",
      "\n",
      "Current Fold: 1 | Epoch: 15\n"
     ]
    },
    {
     "name": "stdout",
     "output_type": "stream",
     "text": [
      "Emotion Training Correct: 763/1184 \n",
      "Emotion Training Accuracy: 64.44257%\n",
      "Speaker Training Correct: 0/1184 \n",
      "Speaker Training Accuracy: 0.00000%\n"
     ]
    },
    {
     "name": "stdout",
     "output_type": "stream",
     "text": [
      "\n",
      "Emotion Validating Correct: 46/120 \n",
      "Emotion Validating Accuracy: 38.33333%\n",
      "Speaker Validating Correct: 8/120 \n",
      "Speaker Validating Accuracy: 6.66667%\n",
      "\n",
      "Current Fold: 1 | Epoch: 16\n"
     ]
    },
    {
     "name": "stdout",
     "output_type": "stream",
     "text": [
      "Emotion Training Correct: 788/1184 \n",
      "Emotion Training Accuracy: 66.55405%\n",
      "Speaker Training Correct: 0/1184 \n",
      "Speaker Training Accuracy: 0.00000%\n"
     ]
    },
    {
     "name": "stdout",
     "output_type": "stream",
     "text": [
      "\n",
      "Emotion Validating Correct: 51/120 \n",
      "Emotion Validating Accuracy: 42.50000%\n",
      "Speaker Validating Correct: 34/120 \n",
      "Speaker Validating Accuracy: 28.33333%\n",
      "\n",
      "Current Fold: 1 | Epoch: 17\n"
     ]
    },
    {
     "name": "stdout",
     "output_type": "stream",
     "text": [
      "Emotion Training Correct: 694/1184 \n",
      "Emotion Training Accuracy: 58.61486%\n",
      "Speaker Training Correct: 0/1184 \n",
      "Speaker Training Accuracy: 0.00000%\n"
     ]
    },
    {
     "name": "stdout",
     "output_type": "stream",
     "text": [
      "\n",
      "Emotion Validating Correct: 51/120 \n",
      "Emotion Validating Accuracy: 42.50000%\n",
      "Speaker Validating Correct: 41/120 \n",
      "Speaker Validating Accuracy: 34.16667%\n",
      "\n",
      "Current Fold: 1 | Epoch: 18\n"
     ]
    },
    {
     "name": "stdout",
     "output_type": "stream",
     "text": [
      "Emotion Training Correct: 890/1184 \n",
      "Emotion Training Accuracy: 75.16892%\n",
      "Speaker Training Correct: 0/1184 \n",
      "Speaker Training Accuracy: 0.00000%\n"
     ]
    },
    {
     "name": "stdout",
     "output_type": "stream",
     "text": [
      "\n",
      "Emotion Validating Correct: 56/120 \n",
      "Emotion Validating Accuracy: 46.66667%\n",
      "Speaker Validating Correct: 20/120 \n",
      "Speaker Validating Accuracy: 16.66667%\n",
      "\n",
      "Current Fold: 1 | Epoch: 19\n"
     ]
    },
    {
     "name": "stdout",
     "output_type": "stream",
     "text": [
      "Emotion Training Correct: 876/1184 \n",
      "Emotion Training Accuracy: 73.98649%\n",
      "Speaker Training Correct: 0/1184 \n",
      "Speaker Training Accuracy: 0.00000%\n"
     ]
    },
    {
     "name": "stdout",
     "output_type": "stream",
     "text": [
      "\n",
      "Emotion Validating Correct: 56/120 \n",
      "Emotion Validating Accuracy: 46.66667%\n",
      "Speaker Validating Correct: 21/120 \n",
      "Speaker Validating Accuracy: 17.50000%\n",
      "\n",
      "Current Fold: 1 | Epoch: 20\n"
     ]
    },
    {
     "name": "stdout",
     "output_type": "stream",
     "text": [
      "Emotion Training Correct: 885/1184 \n",
      "Emotion Training Accuracy: 74.74662%\n",
      "Speaker Training Correct: 0/1184 \n",
      "Speaker Training Accuracy: 0.00000%\n"
     ]
    },
    {
     "name": "stdout",
     "output_type": "stream",
     "text": [
      "\n",
      "Emotion Validating Correct: 62/120 \n",
      "Emotion Validating Accuracy: 51.66667%\n",
      "Speaker Validating Correct: 20/120 \n",
      "Speaker Validating Accuracy: 16.66667%\n",
      "Models' parameters and optimisers' parameters saved.\n",
      "\n",
      "Current Fold: 1 | Epoch: 21\n"
     ]
    },
    {
     "name": "stdout",
     "output_type": "stream",
     "text": [
      "Emotion Training Correct: 853/1184 \n",
      "Emotion Training Accuracy: 72.04392%\n",
      "Speaker Training Correct: 0/1184 \n",
      "Speaker Training Accuracy: 0.00000%\n"
     ]
    },
    {
     "name": "stdout",
     "output_type": "stream",
     "text": [
      "\n",
      "Emotion Validating Correct: 57/120 \n",
      "Emotion Validating Accuracy: 47.50000%\n",
      "Speaker Validating Correct: 46/120 \n",
      "Speaker Validating Accuracy: 38.33333%\n",
      "\n",
      "Current Fold: 1 | Epoch: 22\n"
     ]
    },
    {
     "name": "stdout",
     "output_type": "stream",
     "text": [
      "Emotion Training Correct: 899/1184 \n",
      "Emotion Training Accuracy: 75.92905%\n",
      "Speaker Training Correct: 0/1184 \n",
      "Speaker Training Accuracy: 0.00000%\n"
     ]
    },
    {
     "name": "stdout",
     "output_type": "stream",
     "text": [
      "\n",
      "Emotion Validating Correct: 61/120 \n",
      "Emotion Validating Accuracy: 50.83333%\n",
      "Speaker Validating Correct: 33/120 \n",
      "Speaker Validating Accuracy: 27.50000%\n",
      "\n",
      "Current Fold: 1 | Epoch: 23\n"
     ]
    },
    {
     "name": "stdout",
     "output_type": "stream",
     "text": [
      "Emotion Training Correct: 915/1184 \n",
      "Emotion Training Accuracy: 77.28041%\n",
      "Speaker Training Correct: 0/1184 \n",
      "Speaker Training Accuracy: 0.00000%\n"
     ]
    },
    {
     "name": "stdout",
     "output_type": "stream",
     "text": [
      "\n",
      "Emotion Validating Correct: 59/120 \n",
      "Emotion Validating Accuracy: 49.16667%\n",
      "Speaker Validating Correct: 20/120 \n",
      "Speaker Validating Accuracy: 16.66667%\n",
      "\n",
      "Current Fold: 1 | Epoch: 24\n"
     ]
    },
    {
     "name": "stdout",
     "output_type": "stream",
     "text": [
      "Emotion Training Correct: 889/1184 \n",
      "Emotion Training Accuracy: 75.08446%\n",
      "Speaker Training Correct: 0/1184 \n",
      "Speaker Training Accuracy: 0.00000%\n"
     ]
    },
    {
     "name": "stdout",
     "output_type": "stream",
     "text": [
      "\n",
      "Emotion Validating Correct: 74/120 \n",
      "Emotion Validating Accuracy: 61.66667%\n",
      "Speaker Validating Correct: 22/120 \n",
      "Speaker Validating Accuracy: 18.33333%\n",
      "Models' parameters and optimisers' parameters saved.\n",
      "\n",
      "Current Fold: 1 | Epoch: 25\n"
     ]
    },
    {
     "name": "stdout",
     "output_type": "stream",
     "text": [
      "Emotion Training Correct: 850/1184 \n",
      "Emotion Training Accuracy: 71.79054%\n",
      "Speaker Training Correct: 0/1184 \n",
      "Speaker Training Accuracy: 0.00000%\n"
     ]
    },
    {
     "name": "stdout",
     "output_type": "stream",
     "text": [
      "\n",
      "Emotion Validating Correct: 54/120 \n",
      "Emotion Validating Accuracy: 45.00000%\n",
      "Speaker Validating Correct: 12/120 \n",
      "Speaker Validating Accuracy: 10.00000%\n",
      "\n",
      "Current Fold: 1 | Epoch: 26\n"
     ]
    },
    {
     "name": "stdout",
     "output_type": "stream",
     "text": [
      "Emotion Training Correct: 868/1184 \n",
      "Emotion Training Accuracy: 73.31081%\n",
      "Speaker Training Correct: 0/1184 \n",
      "Speaker Training Accuracy: 0.00000%\n"
     ]
    },
    {
     "name": "stdout",
     "output_type": "stream",
     "text": [
      "\n",
      "Emotion Validating Correct: 50/120 \n",
      "Emotion Validating Accuracy: 41.66667%\n",
      "Speaker Validating Correct: 13/120 \n",
      "Speaker Validating Accuracy: 10.83333%\n",
      "\n",
      "Current Fold: 1 | Epoch: 27\n"
     ]
    },
    {
     "name": "stdout",
     "output_type": "stream",
     "text": [
      "Emotion Training Correct: 980/1184 \n",
      "Emotion Training Accuracy: 82.77027%\n",
      "Speaker Training Correct: 0/1184 \n",
      "Speaker Training Accuracy: 0.00000%\n"
     ]
    },
    {
     "name": "stdout",
     "output_type": "stream",
     "text": [
      "\n",
      "Emotion Validating Correct: 70/120 \n",
      "Emotion Validating Accuracy: 58.33333%\n",
      "Speaker Validating Correct: 29/120 \n",
      "Speaker Validating Accuracy: 24.16667%\n",
      "\n",
      "Current Fold: 1 | Epoch: 28\n"
     ]
    },
    {
     "name": "stdout",
     "output_type": "stream",
     "text": [
      "Emotion Training Correct: 819/1184 \n",
      "Emotion Training Accuracy: 69.17230%\n",
      "Speaker Training Correct: 0/1184 \n",
      "Speaker Training Accuracy: 0.00000%\n"
     ]
    },
    {
     "name": "stdout",
     "output_type": "stream",
     "text": [
      "\n",
      "Emotion Validating Correct: 53/120 \n",
      "Emotion Validating Accuracy: 44.16667%\n",
      "Speaker Validating Correct: 41/120 \n",
      "Speaker Validating Accuracy: 34.16667%\n",
      "\n",
      "Current Fold: 1 | Epoch: 29\n"
     ]
    },
    {
     "name": "stdout",
     "output_type": "stream",
     "text": [
      "Emotion Training Correct: 955/1184 \n",
      "Emotion Training Accuracy: 80.65878%\n",
      "Speaker Training Correct: 0/1184 \n",
      "Speaker Training Accuracy: 0.00000%\n"
     ]
    },
    {
     "name": "stdout",
     "output_type": "stream",
     "text": [
      "\n",
      "Emotion Validating Correct: 63/120 \n",
      "Emotion Validating Accuracy: 52.50000%\n",
      "Speaker Validating Correct: 13/120 \n",
      "Speaker Validating Accuracy: 10.83333%\n",
      "\n",
      "Current Fold: 1 | Epoch: 30\n"
     ]
    },
    {
     "name": "stdout",
     "output_type": "stream",
     "text": [
      "Emotion Training Correct: 945/1184 \n",
      "Emotion Training Accuracy: 79.81419%\n",
      "Speaker Training Correct: 0/1184 \n",
      "Speaker Training Accuracy: 0.00000%\n"
     ]
    },
    {
     "name": "stdout",
     "output_type": "stream",
     "text": [
      "\n",
      "Emotion Validating Correct: 70/120 \n",
      "Emotion Validating Accuracy: 58.33333%\n",
      "Speaker Validating Correct: 13/120 \n",
      "Speaker Validating Accuracy: 10.83333%\n",
      "\n",
      "Current Fold: 1 | Epoch: 31\n"
     ]
    },
    {
     "name": "stdout",
     "output_type": "stream",
     "text": [
      "Emotion Training Correct: 990/1184 \n",
      "Emotion Training Accuracy: 83.61486%\n",
      "Speaker Training Correct: 0/1184 \n",
      "Speaker Training Accuracy: 0.00000%\n"
     ]
    },
    {
     "name": "stdout",
     "output_type": "stream",
     "text": [
      "\n",
      "Emotion Validating Correct: 65/120 \n",
      "Emotion Validating Accuracy: 54.16667%\n",
      "Speaker Validating Correct: 21/120 \n",
      "Speaker Validating Accuracy: 17.50000%\n",
      "\n",
      "Current Fold: 1 | Epoch: 32\n"
     ]
    },
    {
     "name": "stdout",
     "output_type": "stream",
     "text": [
      "Emotion Training Correct: 927/1184 \n",
      "Emotion Training Accuracy: 78.29392%\n",
      "Speaker Training Correct: 0/1184 \n",
      "Speaker Training Accuracy: 0.00000%\n"
     ]
    },
    {
     "name": "stdout",
     "output_type": "stream",
     "text": [
      "\n",
      "Emotion Validating Correct: 67/120 \n",
      "Emotion Validating Accuracy: 55.83333%\n",
      "Speaker Validating Correct: 33/120 \n",
      "Speaker Validating Accuracy: 27.50000%\n",
      "\n",
      "Current Fold: 1 | Epoch: 33\n"
     ]
    },
    {
     "name": "stdout",
     "output_type": "stream",
     "text": [
      "Emotion Training Correct: 974/1184 \n",
      "Emotion Training Accuracy: 82.26351%\n",
      "Speaker Training Correct: 0/1184 \n",
      "Speaker Training Accuracy: 0.00000%\n"
     ]
    },
    {
     "name": "stdout",
     "output_type": "stream",
     "text": [
      "\n",
      "Emotion Validating Correct: 76/120 \n",
      "Emotion Validating Accuracy: 63.33333%\n",
      "Speaker Validating Correct: 39/120 \n",
      "Speaker Validating Accuracy: 32.50000%\n",
      "Models' parameters and optimisers' parameters saved.\n",
      "\n",
      "Current Fold: 1 | Epoch: 34\n"
     ]
    },
    {
     "name": "stdout",
     "output_type": "stream",
     "text": [
      "Emotion Training Correct: 930/1184 \n",
      "Emotion Training Accuracy: 78.54730%\n",
      "Speaker Training Correct: 0/1184 \n",
      "Speaker Training Accuracy: 0.00000%\n"
     ]
    },
    {
     "name": "stdout",
     "output_type": "stream",
     "text": [
      "\n",
      "Emotion Validating Correct: 58/120 \n",
      "Emotion Validating Accuracy: 48.33333%\n",
      "Speaker Validating Correct: 23/120 \n",
      "Speaker Validating Accuracy: 19.16667%\n",
      "\n",
      "Current Fold: 1 | Epoch: 35\n"
     ]
    },
    {
     "name": "stdout",
     "output_type": "stream",
     "text": [
      "Emotion Training Correct: 834/1184 \n",
      "Emotion Training Accuracy: 70.43919%\n",
      "Speaker Training Correct: 0/1184 \n",
      "Speaker Training Accuracy: 0.00000%\n"
     ]
    },
    {
     "name": "stdout",
     "output_type": "stream",
     "text": [
      "\n",
      "Emotion Validating Correct: 76/120 \n",
      "Emotion Validating Accuracy: 63.33333%\n",
      "Speaker Validating Correct: 31/120 \n",
      "Speaker Validating Accuracy: 25.83333%\n",
      "Models' parameters and optimisers' parameters saved.\n",
      "\n",
      "Current Fold: 1 | Epoch: 36\n"
     ]
    },
    {
     "name": "stdout",
     "output_type": "stream",
     "text": [
      "Emotion Training Correct: 830/1184 \n",
      "Emotion Training Accuracy: 70.10135%\n",
      "Speaker Training Correct: 0/1184 \n",
      "Speaker Training Accuracy: 0.00000%\n"
     ]
    },
    {
     "name": "stdout",
     "output_type": "stream",
     "text": [
      "\n",
      "Emotion Validating Correct: 49/120 \n",
      "Emotion Validating Accuracy: 40.83333%\n",
      "Speaker Validating Correct: 27/120 \n",
      "Speaker Validating Accuracy: 22.50000%\n",
      "\n",
      "Current Fold: 1 | Epoch: 37\n"
     ]
    },
    {
     "name": "stdout",
     "output_type": "stream",
     "text": [
      "Emotion Training Correct: 930/1184 \n",
      "Emotion Training Accuracy: 78.54730%\n",
      "Speaker Training Correct: 0/1184 \n",
      "Speaker Training Accuracy: 0.00000%\n"
     ]
    },
    {
     "name": "stdout",
     "output_type": "stream",
     "text": [
      "\n",
      "Emotion Validating Correct: 69/120 \n",
      "Emotion Validating Accuracy: 57.50000%\n",
      "Speaker Validating Correct: 21/120 \n",
      "Speaker Validating Accuracy: 17.50000%\n",
      "\n",
      "Current Fold: 1 | Epoch: 38\n"
     ]
    },
    {
     "name": "stdout",
     "output_type": "stream",
     "text": [
      "Emotion Training Correct: 950/1184 \n",
      "Emotion Training Accuracy: 80.23649%\n",
      "Speaker Training Correct: 0/1184 \n",
      "Speaker Training Accuracy: 0.00000%\n"
     ]
    },
    {
     "name": "stdout",
     "output_type": "stream",
     "text": [
      "\n",
      "Emotion Validating Correct: 65/120 \n",
      "Emotion Validating Accuracy: 54.16667%\n",
      "Speaker Validating Correct: 26/120 \n",
      "Speaker Validating Accuracy: 21.66667%\n",
      "\n",
      "Current Fold: 1 | Epoch: 39\n"
     ]
    },
    {
     "name": "stdout",
     "output_type": "stream",
     "text": [
      "Emotion Training Correct: 1011/1184 \n",
      "Emotion Training Accuracy: 85.38851%\n",
      "Speaker Training Correct: 0/1184 \n",
      "Speaker Training Accuracy: 0.00000%\n"
     ]
    },
    {
     "name": "stdout",
     "output_type": "stream",
     "text": [
      "\n",
      "Emotion Validating Correct: 68/120 \n",
      "Emotion Validating Accuracy: 56.66667%\n",
      "Speaker Validating Correct: 27/120 \n",
      "Speaker Validating Accuracy: 22.50000%\n",
      "\n",
      "Current Fold: 1 | Epoch: 40\n"
     ]
    },
    {
     "name": "stdout",
     "output_type": "stream",
     "text": [
      "Emotion Training Correct: 1018/1184 \n",
      "Emotion Training Accuracy: 85.97973%\n",
      "Speaker Training Correct: 0/1184 \n",
      "Speaker Training Accuracy: 0.00000%\n"
     ]
    },
    {
     "name": "stdout",
     "output_type": "stream",
     "text": [
      "\n",
      "Emotion Validating Correct: 60/120 \n",
      "Emotion Validating Accuracy: 50.00000%\n",
      "Speaker Validating Correct: 23/120 \n",
      "Speaker Validating Accuracy: 19.16667%\n",
      "\n",
      "Current Fold: 1 | Epoch: 41\n"
     ]
    },
    {
     "name": "stdout",
     "output_type": "stream",
     "text": [
      "Emotion Training Correct: 1052/1184 \n",
      "Emotion Training Accuracy: 88.85135%\n",
      "Speaker Training Correct: 0/1184 \n",
      "Speaker Training Accuracy: 0.00000%\n"
     ]
    },
    {
     "name": "stdout",
     "output_type": "stream",
     "text": [
      "\n",
      "Emotion Validating Correct: 67/120 \n",
      "Emotion Validating Accuracy: 55.83333%\n",
      "Speaker Validating Correct: 26/120 \n",
      "Speaker Validating Accuracy: 21.66667%\n",
      "\n",
      "Current Fold: 1 | Epoch: 42\n"
     ]
    },
    {
     "name": "stdout",
     "output_type": "stream",
     "text": [
      "Emotion Training Correct: 1039/1184 \n",
      "Emotion Training Accuracy: 87.75338%\n",
      "Speaker Training Correct: 0/1184 \n",
      "Speaker Training Accuracy: 0.00000%\n"
     ]
    },
    {
     "name": "stdout",
     "output_type": "stream",
     "text": [
      "\n",
      "Emotion Validating Correct: 67/120 \n",
      "Emotion Validating Accuracy: 55.83333%\n",
      "Speaker Validating Correct: 25/120 \n",
      "Speaker Validating Accuracy: 20.83333%\n",
      "\n",
      "Current Fold: 1 | Epoch: 43\n"
     ]
    },
    {
     "name": "stdout",
     "output_type": "stream",
     "text": [
      "Emotion Training Correct: 1058/1184 \n",
      "Emotion Training Accuracy: 89.35811%\n",
      "Speaker Training Correct: 0/1184 \n",
      "Speaker Training Accuracy: 0.00000%\n"
     ]
    },
    {
     "name": "stdout",
     "output_type": "stream",
     "text": [
      "\n",
      "Emotion Validating Correct: 66/120 \n",
      "Emotion Validating Accuracy: 55.00000%\n",
      "Speaker Validating Correct: 35/120 \n",
      "Speaker Validating Accuracy: 29.16667%\n",
      "\n",
      "Current Fold: 1 | Epoch: 44\n"
     ]
    },
    {
     "name": "stdout",
     "output_type": "stream",
     "text": [
      "Emotion Training Correct: 1039/1184 \n",
      "Emotion Training Accuracy: 87.75338%\n",
      "Speaker Training Correct: 0/1184 \n",
      "Speaker Training Accuracy: 0.00000%\n"
     ]
    },
    {
     "name": "stdout",
     "output_type": "stream",
     "text": [
      "\n",
      "Emotion Validating Correct: 67/120 \n",
      "Emotion Validating Accuracy: 55.83333%\n",
      "Speaker Validating Correct: 43/120 \n",
      "Speaker Validating Accuracy: 35.83333%\n",
      "\n",
      "Current Fold: 1 | Epoch: 45\n"
     ]
    },
    {
     "name": "stdout",
     "output_type": "stream",
     "text": [
      "Emotion Training Correct: 1062/1184 \n",
      "Emotion Training Accuracy: 89.69595%\n",
      "Speaker Training Correct: 0/1184 \n",
      "Speaker Training Accuracy: 0.00000%\n"
     ]
    },
    {
     "name": "stdout",
     "output_type": "stream",
     "text": [
      "\n",
      "Emotion Validating Correct: 64/120 \n",
      "Emotion Validating Accuracy: 53.33333%\n",
      "Speaker Validating Correct: 36/120 \n",
      "Speaker Validating Accuracy: 30.00000%\n",
      "\n",
      "Current Fold: 1 | Epoch: 46\n"
     ]
    },
    {
     "name": "stdout",
     "output_type": "stream",
     "text": [
      "Emotion Training Correct: 1033/1184 \n",
      "Emotion Training Accuracy: 87.24662%\n",
      "Speaker Training Correct: 0/1184 \n",
      "Speaker Training Accuracy: 0.00000%\n"
     ]
    },
    {
     "name": "stdout",
     "output_type": "stream",
     "text": [
      "\n",
      "Emotion Validating Correct: 58/120 \n",
      "Emotion Validating Accuracy: 48.33333%\n",
      "Speaker Validating Correct: 38/120 \n",
      "Speaker Validating Accuracy: 31.66667%\n",
      "\n",
      "Current Fold: 1 | Epoch: 47\n"
     ]
    },
    {
     "name": "stdout",
     "output_type": "stream",
     "text": [
      "Emotion Training Correct: 1015/1184 \n",
      "Emotion Training Accuracy: 85.72635%\n",
      "Speaker Training Correct: 0/1184 \n",
      "Speaker Training Accuracy: 0.00000%\n"
     ]
    },
    {
     "name": "stdout",
     "output_type": "stream",
     "text": [
      "\n",
      "Emotion Validating Correct: 66/120 \n",
      "Emotion Validating Accuracy: 55.00000%\n",
      "Speaker Validating Correct: 36/120 \n",
      "Speaker Validating Accuracy: 30.00000%\n",
      "\n",
      "Current Fold: 1 | Epoch: 48\n"
     ]
    },
    {
     "name": "stdout",
     "output_type": "stream",
     "text": [
      "Emotion Training Correct: 1090/1184 \n",
      "Emotion Training Accuracy: 92.06081%\n",
      "Speaker Training Correct: 0/1184 \n",
      "Speaker Training Accuracy: 0.00000%\n"
     ]
    },
    {
     "name": "stdout",
     "output_type": "stream",
     "text": [
      "\n",
      "Emotion Validating Correct: 71/120 \n",
      "Emotion Validating Accuracy: 59.16667%\n",
      "Speaker Validating Correct: 33/120 \n",
      "Speaker Validating Accuracy: 27.50000%\n",
      "\n",
      "Current Fold: 1 | Epoch: 49\n"
     ]
    },
    {
     "name": "stdout",
     "output_type": "stream",
     "text": [
      "Emotion Training Correct: 1073/1184 \n",
      "Emotion Training Accuracy: 90.62500%\n",
      "Speaker Training Correct: 0/1184 \n",
      "Speaker Training Accuracy: 0.00000%\n"
     ]
    },
    {
     "name": "stdout",
     "output_type": "stream",
     "text": [
      "\n",
      "Emotion Validating Correct: 65/120 \n",
      "Emotion Validating Accuracy: 54.16667%\n",
      "Speaker Validating Correct: 28/120 \n",
      "Speaker Validating Accuracy: 23.33333%\n",
      "\n",
      "Current Fold: 1 | Epoch: 50\n"
     ]
    },
    {
     "name": "stdout",
     "output_type": "stream",
     "text": [
      "Emotion Training Correct: 1058/1184 \n",
      "Emotion Training Accuracy: 89.35811%\n",
      "Speaker Training Correct: 0/1184 \n",
      "Speaker Training Accuracy: 0.00000%\n"
     ]
    },
    {
     "name": "stdout",
     "output_type": "stream",
     "text": [
      "\n",
      "Emotion Validating Correct: 63/120 \n",
      "Emotion Validating Accuracy: 52.50000%\n",
      "Speaker Validating Correct: 40/120 \n",
      "Speaker Validating Accuracy: 33.33333%\n",
      "\n",
      "Current Fold: 1 | Epoch: 51\n"
     ]
    },
    {
     "name": "stdout",
     "output_type": "stream",
     "text": [
      "Emotion Training Correct: 1100/1184 \n",
      "Emotion Training Accuracy: 92.90541%\n",
      "Speaker Training Correct: 0/1184 \n",
      "Speaker Training Accuracy: 0.00000%\n"
     ]
    },
    {
     "name": "stdout",
     "output_type": "stream",
     "text": [
      "\n",
      "Emotion Validating Correct: 67/120 \n",
      "Emotion Validating Accuracy: 55.83333%\n",
      "Speaker Validating Correct: 42/120 \n",
      "Speaker Validating Accuracy: 35.00000%\n",
      "\n",
      "Current Fold: 1 | Epoch: 52\n"
     ]
    },
    {
     "name": "stdout",
     "output_type": "stream",
     "text": [
      "Emotion Training Correct: 1084/1184 \n",
      "Emotion Training Accuracy: 91.55405%\n",
      "Speaker Training Correct: 0/1184 \n",
      "Speaker Training Accuracy: 0.00000%\n"
     ]
    },
    {
     "name": "stdout",
     "output_type": "stream",
     "text": [
      "\n",
      "Emotion Validating Correct: 69/120 \n",
      "Emotion Validating Accuracy: 57.50000%\n",
      "Speaker Validating Correct: 52/120 \n",
      "Speaker Validating Accuracy: 43.33333%\n",
      "\n",
      "Current Fold: 1 | Epoch: 53\n"
     ]
    },
    {
     "name": "stdout",
     "output_type": "stream",
     "text": [
      "Emotion Training Correct: 1104/1184 \n",
      "Emotion Training Accuracy: 93.24324%\n",
      "Speaker Training Correct: 0/1184 \n",
      "Speaker Training Accuracy: 0.00000%\n"
     ]
    },
    {
     "name": "stdout",
     "output_type": "stream",
     "text": [
      "\n",
      "Emotion Validating Correct: 72/120 \n",
      "Emotion Validating Accuracy: 60.00000%\n",
      "Speaker Validating Correct: 54/120 \n",
      "Speaker Validating Accuracy: 45.00000%\n",
      "\n",
      "Current Fold: 1 | Epoch: 54\n"
     ]
    },
    {
     "name": "stdout",
     "output_type": "stream",
     "text": [
      "Emotion Training Correct: 1121/1184 \n",
      "Emotion Training Accuracy: 94.67905%\n",
      "Speaker Training Correct: 0/1184 \n",
      "Speaker Training Accuracy: 0.00000%\n"
     ]
    },
    {
     "name": "stdout",
     "output_type": "stream",
     "text": [
      "\n",
      "Emotion Validating Correct: 75/120 \n",
      "Emotion Validating Accuracy: 62.50000%\n",
      "Speaker Validating Correct: 53/120 \n",
      "Speaker Validating Accuracy: 44.16667%\n",
      "\n",
      "Current Fold: 1 | Epoch: 55\n"
     ]
    },
    {
     "name": "stdout",
     "output_type": "stream",
     "text": [
      "Emotion Training Correct: 1077/1184 \n",
      "Emotion Training Accuracy: 90.96284%\n",
      "Speaker Training Correct: 0/1184 \n",
      "Speaker Training Accuracy: 0.00000%\n"
     ]
    },
    {
     "name": "stdout",
     "output_type": "stream",
     "text": [
      "\n",
      "Emotion Validating Correct: 64/120 \n",
      "Emotion Validating Accuracy: 53.33333%\n",
      "Speaker Validating Correct: 55/120 \n",
      "Speaker Validating Accuracy: 45.83333%\n",
      "\n",
      "Current Fold: 1 | Epoch: 56\n"
     ]
    },
    {
     "name": "stdout",
     "output_type": "stream",
     "text": [
      "Emotion Training Correct: 1137/1184 \n",
      "Emotion Training Accuracy: 96.03041%\n",
      "Speaker Training Correct: 0/1184 \n",
      "Speaker Training Accuracy: 0.00000%\n"
     ]
    },
    {
     "name": "stdout",
     "output_type": "stream",
     "text": [
      "\n",
      "Emotion Validating Correct: 67/120 \n",
      "Emotion Validating Accuracy: 55.83333%\n",
      "Speaker Validating Correct: 52/120 \n",
      "Speaker Validating Accuracy: 43.33333%\n",
      "\n",
      "Current Fold: 1 | Epoch: 57\n"
     ]
    },
    {
     "name": "stdout",
     "output_type": "stream",
     "text": [
      "Emotion Training Correct: 1122/1184 \n",
      "Emotion Training Accuracy: 94.76351%\n",
      "Speaker Training Correct: 0/1184 \n",
      "Speaker Training Accuracy: 0.00000%\n"
     ]
    },
    {
     "name": "stdout",
     "output_type": "stream",
     "text": [
      "\n",
      "Emotion Validating Correct: 65/120 \n",
      "Emotion Validating Accuracy: 54.16667%\n",
      "Speaker Validating Correct: 53/120 \n",
      "Speaker Validating Accuracy: 44.16667%\n",
      "\n",
      "Current Fold: 1 | Epoch: 58\n"
     ]
    },
    {
     "name": "stdout",
     "output_type": "stream",
     "text": [
      "Emotion Training Correct: 1061/1184 \n",
      "Emotion Training Accuracy: 89.61149%\n",
      "Speaker Training Correct: 0/1184 \n",
      "Speaker Training Accuracy: 0.00000%\n"
     ]
    },
    {
     "name": "stdout",
     "output_type": "stream",
     "text": [
      "\n",
      "Emotion Validating Correct: 63/120 \n",
      "Emotion Validating Accuracy: 52.50000%\n",
      "Speaker Validating Correct: 47/120 \n",
      "Speaker Validating Accuracy: 39.16667%\n",
      "\n",
      "Current Fold: 1 | Epoch: 59\n"
     ]
    },
    {
     "name": "stdout",
     "output_type": "stream",
     "text": [
      "Emotion Training Correct: 1155/1184 \n",
      "Emotion Training Accuracy: 97.55068%\n",
      "Speaker Training Correct: 0/1184 \n",
      "Speaker Training Accuracy: 0.00000%\n"
     ]
    },
    {
     "name": "stdout",
     "output_type": "stream",
     "text": [
      "\n",
      "Emotion Validating Correct: 77/120 \n",
      "Emotion Validating Accuracy: 64.16667%\n",
      "Speaker Validating Correct: 47/120 \n",
      "Speaker Validating Accuracy: 39.16667%\n",
      "Models' parameters and optimisers' parameters saved.\n",
      "\n",
      "Current Fold: 1 | Epoch: 60\n"
     ]
    },
    {
     "name": "stdout",
     "output_type": "stream",
     "text": [
      "Emotion Training Correct: 1113/1184 \n",
      "Emotion Training Accuracy: 94.00338%\n",
      "Speaker Training Correct: 0/1184 \n",
      "Speaker Training Accuracy: 0.00000%\n"
     ]
    },
    {
     "name": "stdout",
     "output_type": "stream",
     "text": [
      "\n",
      "Emotion Validating Correct: 62/120 \n",
      "Emotion Validating Accuracy: 51.66667%\n",
      "Speaker Validating Correct: 54/120 \n",
      "Speaker Validating Accuracy: 45.00000%\n",
      "\n",
      "Current Fold: 1 | Epoch: 61\n"
     ]
    },
    {
     "name": "stdout",
     "output_type": "stream",
     "text": [
      "Emotion Training Correct: 1075/1184 \n",
      "Emotion Training Accuracy: 90.79392%\n",
      "Speaker Training Correct: 0/1184 \n",
      "Speaker Training Accuracy: 0.00000%\n"
     ]
    },
    {
     "name": "stdout",
     "output_type": "stream",
     "text": [
      "\n",
      "Emotion Validating Correct: 74/120 \n",
      "Emotion Validating Accuracy: 61.66667%\n",
      "Speaker Validating Correct: 47/120 \n",
      "Speaker Validating Accuracy: 39.16667%\n",
      "\n",
      "Current Fold: 1 | Epoch: 62\n"
     ]
    },
    {
     "name": "stdout",
     "output_type": "stream",
     "text": [
      "Emotion Training Correct: 1107/1184 \n",
      "Emotion Training Accuracy: 93.49662%\n",
      "Speaker Training Correct: 0/1184 \n",
      "Speaker Training Accuracy: 0.00000%\n"
     ]
    },
    {
     "name": "stdout",
     "output_type": "stream",
     "text": [
      "\n",
      "Emotion Validating Correct: 79/120 \n",
      "Emotion Validating Accuracy: 65.83333%\n",
      "Speaker Validating Correct: 48/120 \n",
      "Speaker Validating Accuracy: 40.00000%\n",
      "Models' parameters and optimisers' parameters saved.\n",
      "\n",
      "Current Fold: 1 | Epoch: 63\n"
     ]
    },
    {
     "name": "stdout",
     "output_type": "stream",
     "text": [
      "Emotion Training Correct: 1125/1184 \n",
      "Emotion Training Accuracy: 95.01689%\n",
      "Speaker Training Correct: 0/1184 \n",
      "Speaker Training Accuracy: 0.00000%\n"
     ]
    },
    {
     "name": "stdout",
     "output_type": "stream",
     "text": [
      "\n",
      "Emotion Validating Correct: 65/120 \n",
      "Emotion Validating Accuracy: 54.16667%\n",
      "Speaker Validating Correct: 50/120 \n",
      "Speaker Validating Accuracy: 41.66667%\n",
      "\n",
      "Current Fold: 1 | Epoch: 64\n"
     ]
    },
    {
     "name": "stdout",
     "output_type": "stream",
     "text": [
      "Emotion Training Correct: 1118/1184 \n",
      "Emotion Training Accuracy: 94.42568%\n",
      "Speaker Training Correct: 0/1184 \n",
      "Speaker Training Accuracy: 0.00000%\n"
     ]
    },
    {
     "name": "stdout",
     "output_type": "stream",
     "text": [
      "\n",
      "Emotion Validating Correct: 71/120 \n",
      "Emotion Validating Accuracy: 59.16667%\n",
      "Speaker Validating Correct: 55/120 \n",
      "Speaker Validating Accuracy: 45.83333%\n",
      "\n",
      "Current Fold: 1 | Epoch: 65\n"
     ]
    },
    {
     "name": "stdout",
     "output_type": "stream",
     "text": [
      "Emotion Training Correct: 1078/1184 \n",
      "Emotion Training Accuracy: 91.04730%\n",
      "Speaker Training Correct: 0/1184 \n",
      "Speaker Training Accuracy: 0.00000%\n"
     ]
    },
    {
     "name": "stdout",
     "output_type": "stream",
     "text": [
      "\n",
      "Emotion Validating Correct: 69/120 \n",
      "Emotion Validating Accuracy: 57.50000%\n",
      "Speaker Validating Correct: 56/120 \n",
      "Speaker Validating Accuracy: 46.66667%\n",
      "\n",
      "Current Fold: 1 | Epoch: 66\n"
     ]
    },
    {
     "name": "stdout",
     "output_type": "stream",
     "text": [
      "Emotion Training Correct: 1120/1184 \n",
      "Emotion Training Accuracy: 94.59459%\n",
      "Speaker Training Correct: 0/1184 \n",
      "Speaker Training Accuracy: 0.00000%\n"
     ]
    },
    {
     "name": "stdout",
     "output_type": "stream",
     "text": [
      "\n",
      "Emotion Validating Correct: 72/120 \n",
      "Emotion Validating Accuracy: 60.00000%\n",
      "Speaker Validating Correct: 55/120 \n",
      "Speaker Validating Accuracy: 45.83333%\n",
      "\n",
      "Current Fold: 1 | Epoch: 67\n"
     ]
    },
    {
     "name": "stdout",
     "output_type": "stream",
     "text": [
      "Emotion Training Correct: 1128/1184 \n",
      "Emotion Training Accuracy: 95.27027%\n",
      "Speaker Training Correct: 0/1184 \n",
      "Speaker Training Accuracy: 0.00000%\n"
     ]
    },
    {
     "name": "stdout",
     "output_type": "stream",
     "text": [
      "\n",
      "Emotion Validating Correct: 77/120 \n",
      "Emotion Validating Accuracy: 64.16667%\n",
      "Speaker Validating Correct: 55/120 \n",
      "Speaker Validating Accuracy: 45.83333%\n",
      "\n",
      "Current Fold: 1 | Epoch: 68\n"
     ]
    },
    {
     "name": "stdout",
     "output_type": "stream",
     "text": [
      "Emotion Training Correct: 1116/1184 \n",
      "Emotion Training Accuracy: 94.25676%\n",
      "Speaker Training Correct: 0/1184 \n",
      "Speaker Training Accuracy: 0.00000%\n"
     ]
    },
    {
     "name": "stdout",
     "output_type": "stream",
     "text": [
      "\n",
      "Emotion Validating Correct: 73/120 \n",
      "Emotion Validating Accuracy: 60.83333%\n",
      "Speaker Validating Correct: 46/120 \n",
      "Speaker Validating Accuracy: 38.33333%\n",
      "\n",
      "Current Fold: 1 | Epoch: 69\n"
     ]
    },
    {
     "name": "stdout",
     "output_type": "stream",
     "text": [
      "Emotion Training Correct: 1128/1184 \n",
      "Emotion Training Accuracy: 95.27027%\n",
      "Speaker Training Correct: 0/1184 \n",
      "Speaker Training Accuracy: 0.00000%\n"
     ]
    },
    {
     "name": "stdout",
     "output_type": "stream",
     "text": [
      "\n",
      "Emotion Validating Correct: 58/120 \n",
      "Emotion Validating Accuracy: 48.33333%\n",
      "Speaker Validating Correct: 45/120 \n",
      "Speaker Validating Accuracy: 37.50000%\n",
      "\n",
      "Current Fold: 1 | Epoch: 70\n"
     ]
    },
    {
     "name": "stdout",
     "output_type": "stream",
     "text": [
      "Emotion Training Correct: 1104/1184 \n",
      "Emotion Training Accuracy: 93.24324%\n",
      "Speaker Training Correct: 0/1184 \n",
      "Speaker Training Accuracy: 0.00000%\n"
     ]
    },
    {
     "name": "stdout",
     "output_type": "stream",
     "text": [
      "\n",
      "Emotion Validating Correct: 74/120 \n",
      "Emotion Validating Accuracy: 61.66667%\n",
      "Speaker Validating Correct: 54/120 \n",
      "Speaker Validating Accuracy: 45.00000%\n",
      "\n",
      "Current Fold: 1 | Epoch: 71\n"
     ]
    },
    {
     "name": "stdout",
     "output_type": "stream",
     "text": [
      "Emotion Training Correct: 1136/1184 \n",
      "Emotion Training Accuracy: 95.94595%\n",
      "Speaker Training Correct: 0/1184 \n",
      "Speaker Training Accuracy: 0.00000%\n"
     ]
    },
    {
     "name": "stdout",
     "output_type": "stream",
     "text": [
      "\n",
      "Emotion Validating Correct: 69/120 \n",
      "Emotion Validating Accuracy: 57.50000%\n",
      "Speaker Validating Correct: 57/120 \n",
      "Speaker Validating Accuracy: 47.50000%\n",
      "\n",
      "Current Fold: 1 | Epoch: 72\n"
     ]
    },
    {
     "name": "stdout",
     "output_type": "stream",
     "text": [
      "Emotion Training Correct: 1117/1184 \n",
      "Emotion Training Accuracy: 94.34122%\n",
      "Speaker Training Correct: 0/1184 \n",
      "Speaker Training Accuracy: 0.00000%\n"
     ]
    },
    {
     "name": "stdout",
     "output_type": "stream",
     "text": [
      "\n",
      "Emotion Validating Correct: 65/120 \n",
      "Emotion Validating Accuracy: 54.16667%\n",
      "Speaker Validating Correct: 56/120 \n",
      "Speaker Validating Accuracy: 46.66667%\n",
      "\n",
      "Current Fold: 1 | Epoch: 73\n"
     ]
    },
    {
     "name": "stdout",
     "output_type": "stream",
     "text": [
      "Emotion Training Correct: 1106/1184 \n",
      "Emotion Training Accuracy: 93.41216%\n",
      "Speaker Training Correct: 0/1184 \n",
      "Speaker Training Accuracy: 0.00000%\n"
     ]
    },
    {
     "name": "stdout",
     "output_type": "stream",
     "text": [
      "\n",
      "Emotion Validating Correct: 71/120 \n",
      "Emotion Validating Accuracy: 59.16667%\n",
      "Speaker Validating Correct: 55/120 \n",
      "Speaker Validating Accuracy: 45.83333%\n",
      "\n",
      "Current Fold: 1 | Epoch: 74\n"
     ]
    },
    {
     "name": "stdout",
     "output_type": "stream",
     "text": [
      "Emotion Training Correct: 1148/1184 \n",
      "Emotion Training Accuracy: 96.95946%\n",
      "Speaker Training Correct: 0/1184 \n",
      "Speaker Training Accuracy: 0.00000%\n"
     ]
    },
    {
     "name": "stdout",
     "output_type": "stream",
     "text": [
      "\n",
      "Emotion Validating Correct: 73/120 \n",
      "Emotion Validating Accuracy: 60.83333%\n",
      "Speaker Validating Correct: 56/120 \n",
      "Speaker Validating Accuracy: 46.66667%\n",
      "\n",
      "Current Fold: 1 | Epoch: 75\n"
     ]
    },
    {
     "name": "stdout",
     "output_type": "stream",
     "text": [
      "Emotion Training Correct: 1136/1184 \n",
      "Emotion Training Accuracy: 95.94595%\n",
      "Speaker Training Correct: 0/1184 \n",
      "Speaker Training Accuracy: 0.00000%\n"
     ]
    },
    {
     "name": "stdout",
     "output_type": "stream",
     "text": [
      "\n",
      "Emotion Validating Correct: 72/120 \n",
      "Emotion Validating Accuracy: 60.00000%\n",
      "Speaker Validating Correct: 57/120 \n",
      "Speaker Validating Accuracy: 47.50000%\n",
      "\n",
      "Current Fold: 1 | Epoch: 76\n"
     ]
    },
    {
     "name": "stdout",
     "output_type": "stream",
     "text": [
      "Emotion Training Correct: 1150/1184 \n",
      "Emotion Training Accuracy: 97.12838%\n",
      "Speaker Training Correct: 0/1184 \n",
      "Speaker Training Accuracy: 0.00000%\n"
     ]
    },
    {
     "name": "stdout",
     "output_type": "stream",
     "text": [
      "\n",
      "Emotion Validating Correct: 68/120 \n",
      "Emotion Validating Accuracy: 56.66667%\n",
      "Speaker Validating Correct: 54/120 \n",
      "Speaker Validating Accuracy: 45.00000%\n",
      "\n",
      "Current Fold: 1 | Epoch: 77\n"
     ]
    },
    {
     "name": "stdout",
     "output_type": "stream",
     "text": [
      "Emotion Training Correct: 1129/1184 \n",
      "Emotion Training Accuracy: 95.35473%\n",
      "Speaker Training Correct: 0/1184 \n",
      "Speaker Training Accuracy: 0.00000%\n"
     ]
    },
    {
     "name": "stdout",
     "output_type": "stream",
     "text": [
      "\n",
      "Emotion Validating Correct: 65/120 \n",
      "Emotion Validating Accuracy: 54.16667%\n",
      "Speaker Validating Correct: 53/120 \n",
      "Speaker Validating Accuracy: 44.16667%\n",
      "\n",
      "Current Fold: 1 | Epoch: 78\n"
     ]
    },
    {
     "name": "stdout",
     "output_type": "stream",
     "text": [
      "Emotion Training Correct: 1156/1184 \n",
      "Emotion Training Accuracy: 97.63514%\n",
      "Speaker Training Correct: 0/1184 \n",
      "Speaker Training Accuracy: 0.00000%\n"
     ]
    },
    {
     "name": "stdout",
     "output_type": "stream",
     "text": [
      "\n",
      "Emotion Validating Correct: 71/120 \n",
      "Emotion Validating Accuracy: 59.16667%\n",
      "Speaker Validating Correct: 55/120 \n",
      "Speaker Validating Accuracy: 45.83333%\n",
      "\n",
      "Current Fold: 1 | Epoch: 79\n"
     ]
    },
    {
     "name": "stdout",
     "output_type": "stream",
     "text": [
      "Emotion Training Correct: 1156/1184 \n",
      "Emotion Training Accuracy: 97.63514%\n",
      "Speaker Training Correct: 0/1184 \n",
      "Speaker Training Accuracy: 0.00000%\n"
     ]
    },
    {
     "name": "stdout",
     "output_type": "stream",
     "text": [
      "\n",
      "Emotion Validating Correct: 66/120 \n",
      "Emotion Validating Accuracy: 55.00000%\n",
      "Speaker Validating Correct: 56/120 \n",
      "Speaker Validating Accuracy: 46.66667%\n",
      "\n",
      "Current Fold: 1 | Epoch: 80\n"
     ]
    },
    {
     "name": "stdout",
     "output_type": "stream",
     "text": [
      "Emotion Training Correct: 1158/1184 \n",
      "Emotion Training Accuracy: 97.80405%\n",
      "Speaker Training Correct: 0/1184 \n",
      "Speaker Training Accuracy: 0.00000%\n"
     ]
    },
    {
     "name": "stdout",
     "output_type": "stream",
     "text": [
      "\n",
      "Emotion Validating Correct: 68/120 \n",
      "Emotion Validating Accuracy: 56.66667%\n",
      "Speaker Validating Correct: 54/120 \n",
      "Speaker Validating Accuracy: 45.00000%\n",
      "\n",
      "Current Fold: 1 | Epoch: 81\n"
     ]
    },
    {
     "name": "stdout",
     "output_type": "stream",
     "text": [
      "Emotion Training Correct: 1162/1184 \n",
      "Emotion Training Accuracy: 98.14189%\n",
      "Speaker Training Correct: 0/1184 \n",
      "Speaker Training Accuracy: 0.00000%\n"
     ]
    }
   ],
   "source": [
    "import warnings\n",
    "warnings.filterwarnings('ignore')\n",
    "import torch.optim as optim\n",
    "import pylab as plt\n",
    "\n",
    "# Read this to understand how GRL works: \n",
    "# https://christineai.blog/category/domain-adaptation/\n",
    "\n",
    "FOLDS = 12\n",
    "EPOCHS = 100\n",
    "\n",
    "############### To comment this section out if disrupted #############\n",
    "fold_emotion_class_losses = np.zeros((FOLDS,EPOCHS))\n",
    "fold_emotion_training_accuracies = np.zeros((FOLDS,EPOCHS))\n",
    "fold_emotion_validating_accuracies = np.zeros((FOLDS,EPOCHS))\n",
    "fold_speaker_class_losses = np.zeros((FOLDS,EPOCHS))\n",
    "fold_speaker_training_accuracies = np.zeros((FOLDS,EPOCHS))\n",
    "fold_speaker_validating_accuracies = np.zeros((FOLDS,EPOCHS))\n",
    "\n",
    "\n",
    "######### To uncomment if trying to continue disrupted training ######\n",
    "# fold_emotion_class_losses, fold_emotion_training_accuracies, fold_emotion_validating_accuracies， fold_speaker_class_losses，fold_speaker_training_accuracies，fold_speaker_validating_accuracies= np.load(NPARR_PATH)\n",
    "\n",
    "###################################################################\n",
    "\n",
    "# 12-fold cross validation\n",
    "for fold in range(0,FOLDS):\n",
    "\n",
    "    # Selecting CPU or GPU\n",
    "    DEVICE = torch.device(\"cuda\" if torch.cuda.is_available() else \"cpu\")\n",
    "    # DEVICE = torch.device(\"cpu\")\n",
    "\n",
    "    # Selecting the type of encoder, label classifier\n",
    "    encoder = FeatureExtractor().to(DEVICE).train()\n",
    "    emotion_classifier = EmotionClassifier().to(DEVICE).train()\n",
    "    speaker_classifier = SpeakerClassifier().to(DEVICE).train()\n",
    "\n",
    "    # Optimizer \n",
    "    encoder_optimizer = torch.optim.Adam(encoder.parameters())\n",
    "    emotion_optimizer = torch.optim.Adam(emotion_classifier.parameters())\n",
    "    speaker_optimizer = torch.optim.Adam(speaker_classifier.parameters())\n",
    "\n",
    "    cross_entropy_loss = nn.CrossEntropyLoss().to(DEVICE)\n",
    "    \n",
    "    ravdess_dataset_train = RavdessDataset2(ROOT,cv_index = fold ,split= 'train')\n",
    "    ravdess_dataset_test = RavdessDataset2(ROOT,cv_index = fold, split= 'test')\n",
    "    ravdess_dataset_validate = RavdessDataset2(ROOT,cv_index = fold, split= 'validate')\n",
    "    \n",
    "    # DANN should be trained on labelled data from the source domain and unlabelled data from the target domain\n",
    "    TRAIN_BATCH_SIZE = 32\n",
    "    ravdess_train_loader = DataLoader(dataset=ravdess_dataset_train, batch_size= TRAIN_BATCH_SIZE, shuffle=True, drop_last=True,worker_init_fn=np.random.seed(42),num_workers=4, pin_memory= True)\n",
    "    \n",
    "    # For evaluation purposes\n",
    "    VALIDATE_BATCH_SIZE = len(ravdess_dataset_validate)\n",
    "    ravdess_validate_loader = DataLoader(dataset=ravdess_dataset_validate, batch_size= VALIDATE_BATCH_SIZE, shuffle=True, drop_last=False,worker_init_fn=np.random.seed(42),num_workers=4, pin_memory= True)\n",
    "    \n",
    "    epoch_emotion_class_losses = []\n",
    "    emotion_training_accuracies = []\n",
    "    emotion_validating_accuracies = []\n",
    "\n",
    "    epoch_speaker_class_losses = []\n",
    "    speaker_training_accuracies = []\n",
    "    speaker_validating_accuracies = []\n",
    "\n",
    "    STEP = 0\n",
    "    for epoch in range(EPOCHS):\n",
    "        print(\"\\nCurrent Fold: {} | Epoch: {}\".format(fold, epoch))\n",
    "\n",
    "        completed_start_steps = epoch * len(ravdess_train_loader)\n",
    "        total_steps = EPOCHS * len(ravdess_train_loader)\n",
    "\n",
    "        batch_emotion_class_losses = []\n",
    "        batch_speaker_class_losses = []\n",
    "\n",
    "\n",
    "        for batch_idx, (feature, emotion, speaker) in enumerate(ravdess_train_loader):\n",
    "\n",
    "            # Assigned to DEVICE. \n",
    "            features, emotion, speaker = feature.to(DEVICE),emotion.to(DEVICE), speaker.to(DEVICE)\n",
    "            \n",
    "            # Computing the training progress\n",
    "            p = (batch_idx + completed_start_steps) / total_steps\n",
    "            lambda_p = domain_adaptation_parameter(p)\n",
    "\n",
    "            # Calculate speaker and emotion classification prediction \n",
    "            conv_features = encoder(features)\n",
    "            emotion_preds = emotion_classifier(conv_features)\n",
    "            emotion_class_loss = cross_entropy_loss(emotion_preds, emotion)\n",
    "            speaker_preds = speaker_classifier(conv_features)\n",
    "            speaker_class_loss = cross_entropy_loss(speaker_preds, speaker)\n",
    "\n",
    "            # Calculate total loss\n",
    "            total_loss = emotion_class_loss - lambda_p * speaker_class_loss \n",
    "\n",
    "            # Clear the gradient to prevent gradient accumulation\n",
    "            encoder.zero_grad(set_to_none= True)\n",
    "            emotion_classifier.zero_grad(set_to_none= True)\n",
    "            speaker_classifier.zero_grad(set_to_none= True)\n",
    "\n",
    "            # Computing the gradient\n",
    "            total_loss.backward()\n",
    "\n",
    "            # Update the weight\n",
    "            emotion_optimizer.step()\n",
    "            speaker_optimizer.step()\n",
    "            encoder_optimizer.step()\n",
    "\n",
    "            batch_emotion_class_losses.append(emotion_class_loss.detach())\n",
    "            batch_speaker_class_losses.append(speaker_class_loss.detach())\n",
    "\n",
    "\n",
    "        # Enter evaluation mode at the end of each epoch\n",
    "        encoder.eval()\n",
    "        emotion_classifier.eval()\n",
    "        speaker_classifier.eval()\n",
    "\n",
    "        emotion_training_correct, emotion_validating_correct, speaker_training_correct, speaker_validating_correct = 0 , 0 , 0 , 0\n",
    "\n",
    "        with torch.no_grad():\n",
    "\n",
    "        # 1. Training Classification\n",
    "          for index, (features, emotion, speaker) in enumerate(ravdess_train_loader):\n",
    "            features, emotion, speaker = features.to(DEVICE),emotion.to(DEVICE), speaker.to(DEVICE) \n",
    "            conv_features = encoder(features)\n",
    "            emotion_output = emotion_classifier(conv_features)\n",
    "            speaker_output = speaker_classifier(conv_features)\n",
    "            _, emotion_preds = torch.max(emotion_output,1)\n",
    "            _, speaker_preds = torch.max(speaker_output,1)\n",
    "            emotion_training_correct += (emotion_preds == emotion).sum() \n",
    "            speaker_training_correct += (speaker_preds == speaker).sum() \n",
    "          #source_accuracy = torch.true_divide(source_correct, len(svhn_test_loader.dataset))\n",
    "          emotion_training_accuracy = emotion_training_correct.item()/(len(ravdess_train_loader)*TRAIN_BATCH_SIZE)\n",
    "          emotion_training_accuracies.append(emotion_training_accuracy)\n",
    "          speaker_training_accuracy = speaker_training_correct.item()/(len(ravdess_train_loader)*TRAIN_BATCH_SIZE)\n",
    "          speaker_training_accuracies.append(speaker_training_accuracy)\n",
    "          print(\"Emotion Training Correct: {}/{} \\nEmotion Training Accuracy: {:.5f}%\".format(emotion_training_correct,(len(ravdess_train_loader)*TRAIN_BATCH_SIZE),emotion_training_accuracy*100))\n",
    "          print(\"Speaker Training Correct: {}/{} \\nSpeaker Training Accuracy: {:.5f}%\".format(speaker_training_correct,(len(ravdess_train_loader)*TRAIN_BATCH_SIZE),speaker_training_accuracy*100))\n",
    "\n",
    "        # 2. Validating Classification\n",
    "          for index, (features, emotion, speaker) in enumerate(ravdess_validate_loader):\n",
    "            features, emotion, speaker = features.to(DEVICE),emotion.to(DEVICE), speaker.to(DEVICE) \n",
    "            conv_features = encoder(features)\n",
    "            emotion_output = emotion_classifier(conv_features)\n",
    "            speaker_output = speaker_classifier(conv_features)\n",
    "            _, emotion_preds = torch.max(emotion_output,1)\n",
    "            _, speaker_preds = torch.max(speaker_output,1)\n",
    "            emotion_validating_correct += (emotion_preds == emotion).sum() \n",
    "            speaker_validating_correct += (speaker_preds == speaker).sum() \n",
    "          #source_accuracy = torch.true_divide(source_correct, len(svhn_test_loader.dataset))\n",
    "          emotion_validating_accuracy = emotion_validating_correct.item()/(len(ravdess_validate_loader)*VALIDATE_BATCH_SIZE)\n",
    "          emotion_validating_accuracies.append(emotion_validating_accuracy)\n",
    "          speaker_validating_accuracy = speaker_validating_correct.item()/(len(ravdess_validate_loader)*VALIDATE_BATCH_SIZE)\n",
    "          speaker_validating_accuracies.append(speaker_validating_accuracy)\n",
    "          print(\"\\nEmotion Validating Correct: {}/{} \\nEmotion Validating Accuracy: {:.5f}%\".format(emotion_validating_correct,(len(ravdess_validate_loader)*VALIDATE_BATCH_SIZE),emotion_validating_accuracy*100))\n",
    "          print(\"Speaker Validating Correct: {}/{} \\nSpeaker Validating Accuracy: {:.5f}%\".format(speaker_validating_correct,(len(ravdess_validate_loader)*VALIDATE_BATCH_SIZE),speaker_validating_accuracy*100))\n",
    "\n",
    "          if (len(emotion_validating_accuracies)> 1 and emotion_validating_accuracy >= max(emotion_validating_accuracies[:-1])):\n",
    "                save_parameters(MODEL_PATH + 'fold' + str(fold))\n",
    "\n",
    "\n",
    "        encoder.train()\n",
    "        emotion_classifier.train()\n",
    "        speaker_classifier.train()\n",
    "\n",
    "\n",
    "        epoch_emotion_class_loss = torch.mean(torch.stack(batch_emotion_class_losses), dim=0)\n",
    "        epoch_emotion_class_losses.append(epoch_emotion_class_loss)\n",
    "        epoch_speaker_class_loss = torch.mean(torch.stack(batch_speaker_class_losses), dim=0)\n",
    "        epoch_speaker_class_losses.append(epoch_speaker_class_loss)\n",
    "        \n",
    "    fold_emotion_class_losses[fold] = epoch_emotion_class_losses\n",
    "    fold_emotion_training_accuracies[fold] = emotion_training_accuracies\n",
    "    fold_emotion_validating_accuracies[fold] = emotion_validating_accuracies\n",
    "    fold_speaker_class_losses[fold] = epoch_speaker_class_losses\n",
    "    fold_speaker_training_accuracies[fold] = speaker_training_accuracies\n",
    "    fold_speaker_validating_accuracies[fold] = speaker_validating_accuracies\n",
    "    \n",
    "    save_accuracies_and_losses(NPARR_PATH)\n",
    "    \n",
    "    \n",
    "    \n"
   ]
  },
  {
   "cell_type": "code",
   "execution_count": null,
   "id": "going-xerox",
   "metadata": {
    "execution": {
     "iopub.execute_input": "2021-03-11T15:30:05.328458Z",
     "iopub.status.busy": "2021-03-11T15:30:05.285032Z",
     "iopub.status.idle": "2021-03-11T15:30:06.319027Z",
     "shell.execute_reply": "2021-03-11T15:30:06.319419Z"
    },
    "papermill": {
     "duration": null,
     "end_time": null,
     "exception": null,
     "start_time": null,
     "status": "pending"
    },
    "tags": []
   },
   "outputs": [],
   "source": [
    "plt.figure(figsize=(20,5))\n",
    "plt.title('Losses vs. epochs')\n",
    "plt.xlabel('epochs')\n",
    "plt.ylabel('Losses')\n",
    "\n",
    "for i in range(FOLDS):\n",
    "    plt.plot(range(EPOCHS), fold_emotion_class_losses[i],label='emotion classification loss fold {}'.format(i))\n",
    "    plt.plot(range(EPOCHS), fold_speaker_class_losses[i],label='speaker classification loss fold {}'.format(i))\n",
    "\n",
    "plt.legend(loc='best')\n",
    "plt.show() "
   ]
  },
  {
   "cell_type": "code",
   "execution_count": null,
   "id": "backed-mission",
   "metadata": {
    "execution": {
     "iopub.execute_input": "2021-03-11T15:30:07.373224Z",
     "iopub.status.busy": "2021-03-11T15:30:07.372574Z",
     "iopub.status.idle": "2021-03-11T15:30:07.374792Z",
     "shell.execute_reply": "2021-03-11T15:30:07.374217Z"
    },
    "papermill": {
     "duration": null,
     "end_time": null,
     "exception": null,
     "start_time": null,
     "status": "pending"
    },
    "tags": []
   },
   "outputs": [],
   "source": [
    "def plot_accuracies_vs_epochs(fold):\n",
    "    plt.figure(figsize=(20,5))\n",
    "    plt.title('Accuracies vs. epochs')\n",
    "    plt.xlabel('epochs')\n",
    "    plt.ylabel('Losses')\n",
    "    plt.plot(range(EPOCHS), fold_emotion_training_accuracies[fold],label='emotion_training_accuracies fold {}'.format(fold))\n",
    "    plt.plot(range(EPOCHS), fold_emotion_validating_accuracies[fold],label='emotion_validating_accuracies fold {}'.format(fold))\n",
    "    plt.plot(range(EPOCHS), fold_speaker_training_accuracies[fold],label='speaker_training_accuracies fold {}'.format(fold))\n",
    "    plt.plot(range(EPOCHS), fold_speaker_validating_accuracies[fold],label='speaker_validating_accuracies fold {}'.format(fold))\n",
    "    plt.legend(loc='best')\n",
    "    plt.show() \n",
    "    print(\"Maximum emotion training accuracy:{:.2f}%\".format(max(fold_emotion_training_accuracies[fold])*100))\n",
    "    print(\"Maximum emotion validating accuracy:{:.2f}%\".format(max(fold_emotion_validating_accuracies[fold])*100))\n",
    "    print(\"Maximum speaker training accuracy:{:.2f}%\".format(max(fold_speaker_training_accuracies[fold])*100))\n",
    "    print(\"Maximum speaker validating accuracy:{:.2f}%\".format(max(fold_speaker_validating_accuracies[fold])*100))"
   ]
  },
  {
   "cell_type": "code",
   "execution_count": null,
   "id": "alone-capacity",
   "metadata": {
    "execution": {
     "iopub.execute_input": "2021-03-11T15:30:08.449697Z",
     "iopub.status.busy": "2021-03-11T15:30:08.448907Z",
     "iopub.status.idle": "2021-03-11T15:30:13.106108Z",
     "shell.execute_reply": "2021-03-11T15:30:13.106465Z"
    },
    "papermill": {
     "duration": null,
     "end_time": null,
     "exception": null,
     "start_time": null,
     "status": "pending"
    },
    "tags": []
   },
   "outputs": [],
   "source": [
    "for i in range(FOLDS):\n",
    "    plot_accuracies_vs_epochs(i)"
   ]
  },
  {
   "cell_type": "markdown",
   "id": "miniature-exploration",
   "metadata": {
    "papermill": {
     "duration": null,
     "end_time": null,
     "exception": null,
     "start_time": null,
     "status": "pending"
    },
    "tags": []
   },
   "source": [
    "## 5. Loading and evaluating the model"
   ]
  },
  {
   "cell_type": "code",
   "execution_count": null,
   "id": "level-involvement",
   "metadata": {
    "execution": {
     "iopub.execute_input": "2021-03-11T15:30:15.330336Z",
     "iopub.status.busy": "2021-03-11T15:30:15.326989Z",
     "iopub.status.idle": "2021-03-11T15:30:19.571347Z",
     "shell.execute_reply": "2021-03-11T15:30:19.570954Z"
    },
    "papermill": {
     "duration": null,
     "end_time": null,
     "exception": null,
     "start_time": null,
     "status": "pending"
    },
    "scrolled": true,
    "tags": []
   },
   "outputs": [],
   "source": [
    "import warnings\n",
    "warnings.filterwarnings('ignore')\n",
    "from statistics import mean , stdev\n",
    "\n",
    "\n",
    "lfold_emotion_training_accuracies, lfold_emotion_validating_accuracies, lfold_emotion_testing_accuracies = [] , [] , []\n",
    "lfold_speaker_training_accuracies, lfold_speaker_validating_accuracies, lfold_speaker_testing_accuracies = [] , [] , []\n",
    "\n",
    "for fold in range(12):\n",
    "    print(\"\\nEvaluation for fold {}\".format(fold))\n",
    "    checkpoint = torch.load(MODEL_PATH + 'fold' + str(fold))\n",
    "    \n",
    "    DEVICE = torch.device(\"cuda\" if torch.cuda.is_available() else \"cpu\")\n",
    "\n",
    "    encoder = FeatureExtractor().to(DEVICE).train()\n",
    "    emotion_classifier = EmotionClassifier().to(DEVICE).train()\n",
    "    speaker_classifier = SpeakerClassifier().to(DEVICE)\n",
    "\n",
    "    encoder_optimizer = torch.optim.Adam(encoder.parameters())\n",
    "    emotion_optimizer = torch.optim.Adam(emotion_classifier.parameters())\n",
    "    speaker_optimizer = torch.optim.Adam(speaker_classifier.parameters())\n",
    "    \n",
    "    encoder.load_state_dict(checkpoint['encoder_state_dict'])\n",
    "    emotion_classifier.load_state_dict(checkpoint['emotion_classifier_state_dict'])\n",
    "    speaker_classifier.load_state_dict(checkpoint['speaker_classifier_state_dict'])\n",
    "    \n",
    "    encoder_optimizer.load_state_dict(checkpoint['encoder_optimizer_state_dict'])\n",
    "    emotion_optimizer.load_state_dict(checkpoint['emotion_optimizer_state_dict'])\n",
    "    speaker_optimizer.load_state_dict(checkpoint['speaker_optimizer_state_dict'])\n",
    "    \n",
    "    ravdess_dataset_train = RavdessDataset2(ROOT,cv_index = fold ,split= 'train')\n",
    "    ravdess_dataset_test = RavdessDataset2(ROOT,cv_index = fold, split= 'test')\n",
    "    ravdess_dataset_validate = RavdessDataset2(ROOT,cv_index = fold, split= 'validate')\n",
    "    \n",
    "    TRAIN_BATCH_SIZE = len(ravdess_dataset_train)\n",
    "    VALIDATE_BATCH_SIZE = len(ravdess_dataset_validate)\n",
    "    TEST_BATCH_SIZE = len(ravdess_dataset_test)\n",
    "    \n",
    "    ravdess_train_loader = DataLoader(dataset=ravdess_dataset_train, batch_size= TRAIN_BATCH_SIZE, shuffle=True, drop_last=False,worker_init_fn=np.random.seed(42),num_workers=0)\n",
    "    ravdess_validate_loader = DataLoader(dataset=ravdess_dataset_validate, batch_size= VALIDATE_BATCH_SIZE, shuffle=True, drop_last=False,worker_init_fn=np.random.seed(42),num_workers=0)\n",
    "    ravdess_test_loader = DataLoader(dataset=ravdess_dataset_test, batch_size= TEST_BATCH_SIZE, shuffle=True, drop_last=False,worker_init_fn=np.random.seed(42),num_workers=0)\n",
    "    \n",
    "    encoder.eval()\n",
    "    emotion_classifier.eval()\n",
    "\n",
    "    lemotion_training_correct, lemotion_validating_correct, lemotion_testing_correct = 0 , 0 , 0\n",
    "    lspeaker_training_correct, lspeaker_validating_correct, lspeaker_testing_correct = 0 , 0 , 0\n",
    "\n",
    "    with torch.no_grad():\n",
    "        \n",
    "\n",
    "        # 1. Training Classification\n",
    "        for index, (features, emotion, speaker) in enumerate(ravdess_train_loader):\n",
    "            features, emotion, speaker = features.to(DEVICE),emotion.to(DEVICE), speaker.to(DEVICE) \n",
    "            conv_features = encoder(features)\n",
    "            emotion_output = emotion_classifier(conv_features)\n",
    "            speaker_output = speaker_classifier(conv_features)\n",
    "            _, emotion_preds = torch.max(emotion_output,1)\n",
    "            _, speaker_preds = torch.max(speaker_output,1)\n",
    "            lemotion_training_correct += (emotion_preds == emotion).sum() \n",
    "            lspeaker_training_correct += (speaker_preds == speaker).sum()\n",
    "        emotion_training_accuracy = lemotion_training_correct.item()/(len(ravdess_train_loader)*TRAIN_BATCH_SIZE)\n",
    "        speaker_training_accuracy = lspeaker_training_correct.item()/(len(ravdess_train_loader)*TRAIN_BATCH_SIZE)\n",
    "        print(\"\\nEmotion Training Correct: {}/{} \\nEmotion Training Accuracy: {:.5f}%\".format(lemotion_training_correct,(len(ravdess_train_loader)*TRAIN_BATCH_SIZE),emotion_training_accuracy*100))\n",
    "        print(\"Speaker Training Correct: {}/{} \\nSpeaker Training Accuracy: {:.5f}%\".format(lspeaker_training_correct,(len(ravdess_train_loader)*TRAIN_BATCH_SIZE),speaker_training_accuracy*100)) \n",
    "        \n",
    "        # 2. Validating Classification\n",
    "        for index, (features, emotion, speaker) in enumerate(ravdess_validate_loader):\n",
    "            features, emotion, speaker = features.to(DEVICE),emotion.to(DEVICE), speaker.to(DEVICE) \n",
    "            conv_features = encoder(features)\n",
    "            emotion_output = emotion_classifier(conv_features)\n",
    "            speaker_output = speaker_classifier(conv_features)\n",
    "            _, emotion_preds = torch.max(emotion_output,1)\n",
    "            _, speaker_preds = torch.max(speaker_output,1)\n",
    "            lemotion_validating_correct += (emotion_preds == emotion).sum() \n",
    "            lspeaker_validating_correct += (speaker_preds == speaker).sum()\n",
    "        emotion_validating_accuracy = lemotion_validating_correct.item()/(len(ravdess_validate_loader)*VALIDATE_BATCH_SIZE)\n",
    "        speaker_validating_accuracy = lspeaker_validating_correct.item()/(len(ravdess_validate_loader)*VALIDATE_BATCH_SIZE)\n",
    "        print(\"\\nEmotion Validating Correct: {}/{} \\nEmotion Validating Accuracy: {:.5f}%\".format(lemotion_validating_correct,(len(ravdess_validate_loader)*VALIDATE_BATCH_SIZE),emotion_validating_accuracy*100))\n",
    "        print(\"Speaker Validating Correct: {}/{} \\nSpeaker Validating Accuracy: {:.5f}%\".format(lspeaker_validating_correct,(len(ravdess_validate_loader)*VALIDATE_BATCH_SIZE),speaker_validating_accuracy*100)) \n",
    "        \n",
    "\n",
    "        # 3. Testing Classification\n",
    "        for index, (features, emotion, speaker) in enumerate(ravdess_test_loader):\n",
    "            features, emotion, speaker = features.to(DEVICE),emotion.to(DEVICE), speaker.to(DEVICE) \n",
    "            conv_features = encoder(features)\n",
    "            emotion_output = emotion_classifier(conv_features)\n",
    "            speaker_output = speaker_classifier(conv_features)\n",
    "            _, emotion_preds = torch.max(emotion_output,1)\n",
    "            _, speaker_preds = torch.max(speaker_output,1)\n",
    "            lemotion_testing_correct += (emotion_preds == emotion).sum() \n",
    "            lspeaker_testing_correct += (speaker_preds == speaker).sum()\n",
    "        emotion_testing_accuracy = lemotion_testing_correct.item()/(len(ravdess_test_loader)*TEST_BATCH_SIZE)\n",
    "        speaker_testing_accuracy = lspeaker_testing_correct.item()/(len(ravdess_test_loader)*TEST_BATCH_SIZE)\n",
    "        print(\"\\nEmotion Testing Correct: {}/{} \\nEmotion Testing Accuracy: {:.5f}%\".format(lemotion_testing_correct,(len(ravdess_test_loader)*TEST_BATCH_SIZE),emotion_testing_accuracy*100))\n",
    "        print(\"Speaker Testing Correct: {}/{} \\nSpeaker Testing Accuracy: {:.5f}%\".format(lspeaker_testing_correct,(len(ravdess_test_loader)*TEST_BATCH_SIZE),speaker_testing_accuracy*100)) \n",
    "\n",
    "        lfold_emotion_training_accuracies.append(emotion_training_accuracy)\n",
    "        lfold_emotion_validating_accuracies.append(emotion_validating_accuracy)\n",
    "        lfold_emotion_testing_accuracies.append(emotion_testing_accuracy)\n",
    "        lfold_speaker_training_accuracies.append(speaker_training_accuracy)\n",
    "        lfold_speaker_validating_accuracies.append(speaker_validating_accuracy)\n",
    "        lfold_speaker_testing_accuracies.append(speaker_testing_accuracy)\n",
    "\n",
    "print('\\nSUMMARY:')\n",
    "print('\\nCV Emotion Training accuracies \\nMean: {} \\nS.D: {}'.format(mean(lfold_emotion_training_accuracies), stdev(lfold_emotion_training_accuracies)))\n",
    "print('\\nCV Emotion Validating accuracies \\nMean: {} \\nS.D: {}'.format(mean(lfold_emotion_validating_accuracies), stdev(lfold_emotion_validating_accuracies)))\n",
    "print('\\nCV Emotion Testing accuracies \\nMean: {} \\nS.D: {}'.format(mean(lfold_emotion_testing_accuracies), stdev(lfold_emotion_testing_accuracies)))\n",
    "\n",
    "print('\\nCV Speaker Training accuracies \\nMean: {} \\nS.D: {}'.format(mean(lfold_speaker_training_accuracies), stdev(lfold_speaker_training_accuracies)))\n",
    "print('\\nCV Speaker Validating accuracies \\nMean: {} \\nS.D: {}'.format(mean(lfold_speaker_validating_accuracies), stdev(lfold_speaker_validating_accuracies)))\n",
    "print('\\nCV Speaker Testing accuracies \\nMean: {} \\nS.D: {}'.format(mean(lfold_speaker_testing_accuracies), stdev(lfold_speaker_testing_accuracies)))"
   ]
  }
 ],
 "metadata": {
  "kernelspec": {
   "display_name": "Python 3",
   "language": "python",
   "name": "python3"
  },
  "language_info": {
   "codemirror_mode": {
    "name": "ipython",
    "version": 3
   },
   "file_extension": ".py",
   "mimetype": "text/x-python",
   "name": "python",
   "nbconvert_exporter": "python",
   "pygments_lexer": "ipython3",
   "version": "3.8.8"
  },
  "papermill": {
   "default_parameters": {},
   "duration": null,
   "end_time": null,
   "environment_variables": {},
   "exception": null,
   "input_path": "[DANN] Ravdess_MFCC_1L-CNN-GRU_DAP1.25-pool.ipynb",
   "output_path": "[DANN] Ravdess_MFCC_1L-CNN-GRU_DAP1.25-pool.ipynb",
   "parameters": {},
   "start_time": "2021-03-21T08:02:13.901656",
   "version": "2.3.1"
  }
 },
 "nbformat": 4,
 "nbformat_minor": 5
}
