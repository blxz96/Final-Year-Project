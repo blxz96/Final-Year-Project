{
 "cells": [
  {
   "cell_type": "code",
   "execution_count": 1,
   "id": "binding-crime",
   "metadata": {
    "execution": {
     "iopub.execute_input": "2021-03-21T07:42:18.821761Z",
     "iopub.status.busy": "2021-03-21T07:42:18.821028Z",
     "iopub.status.idle": "2021-03-21T07:42:20.842917Z",
     "shell.execute_reply": "2021-03-21T07:42:20.844230Z"
    },
    "papermill": {
     "duration": 2.050544,
     "end_time": "2021-03-21T07:42:20.844853",
     "exception": false,
     "start_time": "2021-03-21T07:42:18.794309",
     "status": "completed"
    },
    "tags": []
   },
   "outputs": [],
   "source": [
    "import os\n",
    "import torch\n",
    "import torchaudio\n",
    "torchaudio.set_audio_backend(\"sox_io\")\n",
    "import pandas as pd\n",
    "import numpy as np\n",
    "import torch.nn.functional as F\n",
    "import random\n",
    "import scipy\n",
    "import math\n",
    "from scipy import signal\n",
    "import librosa.display\n",
    "import torch.nn as nn\n",
    "from torch.utils.data import DataLoader\n",
    "\n",
    "GAMMA = 3.33\n",
    "DATA = 'emodb_MFCC'\n",
    "LAYERS = 1\n",
    "ROOT = './Dataset/{}'.format(DATA)\n",
    "os.environ[\"CUDA_DEVICE_ORDER\"] = \"PCI_BUS_ID\"\n",
    "os.environ[\"CUDA_VISIBLE_DEVICES\"] = \"1\"\n",
    "MODEL_PATH = './model/{}_DANN_{}L-CNN-GRU_DAP{}_CV'.format(DATA,LAYERS,GAMMA)\n",
    "NPARR_PATH = './array/{}_DANN_{}L-CNN-GRU_DAP{}_CV accuracies.npz'.format(DATA,LAYERS,GAMMA)"
   ]
  },
  {
   "cell_type": "code",
   "execution_count": 2,
   "id": "consistent-christianity",
   "metadata": {
    "execution": {
     "iopub.execute_input": "2021-03-21T07:42:20.891352Z",
     "iopub.status.busy": "2021-03-21T07:42:20.890682Z",
     "iopub.status.idle": "2021-03-21T07:42:20.895024Z",
     "shell.execute_reply": "2021-03-21T07:42:20.895500Z"
    },
    "papermill": {
     "duration": 0.027531,
     "end_time": "2021-03-21T07:42:20.895679",
     "exception": false,
     "start_time": "2021-03-21T07:42:20.868148",
     "status": "completed"
    },
    "tags": []
   },
   "outputs": [
    {
     "name": "stdout",
     "output_type": "stream",
     "text": [
      "Seed set to:42\n"
     ]
    }
   ],
   "source": [
    "def set_seed(sd):\n",
    "    np.random.seed(sd)\n",
    "    random.seed(sd)\n",
    "    random.Random(sd)\n",
    "    torch.manual_seed(sd)\n",
    "    torch.cuda.manual_seed(sd)\n",
    "    torch.cuda.manual_seed_all(sd)\n",
    "    torch.backends.cudnn.enabled = False\n",
    "    torch.backends.cudnn.benchmark = False\n",
    "    torch.backends.cudnn.deterministic = True\n",
    "    print(\"Seed set to:{}\".format(sd))\n",
    "# also set worker_init_fn=np.random.seed(0),num_workers=0 in dataloader   \n",
    "\n",
    "set_seed(42)"
   ]
  },
  {
   "cell_type": "markdown",
   "id": "animated-connectivity",
   "metadata": {
    "papermill": {
     "duration": 0.020782,
     "end_time": "2021-03-21T07:42:20.935212",
     "exception": false,
     "start_time": "2021-03-21T07:42:20.914430",
     "status": "completed"
    },
    "tags": []
   },
   "source": [
    "## 1. CV Dataset for EMODB"
   ]
  },
  {
   "cell_type": "code",
   "execution_count": 3,
   "id": "strange-asset",
   "metadata": {
    "execution": {
     "iopub.execute_input": "2021-03-21T07:42:20.976629Z",
     "iopub.status.busy": "2021-03-21T07:42:20.975692Z",
     "iopub.status.idle": "2021-03-21T07:42:20.977624Z",
     "shell.execute_reply": "2021-03-21T07:42:20.978230Z"
    },
    "papermill": {
     "duration": 0.03001,
     "end_time": "2021-03-21T07:42:20.978407",
     "exception": false,
     "start_time": "2021-03-21T07:42:20.948397",
     "status": "completed"
    },
    "tags": []
   },
   "outputs": [],
   "source": [
    "class EmoDBDataset2(object):\n",
    "    \"\"\"\n",
    "        Create a Dataset for EmoDB. Each item is a tuple of the form:\n",
    "        (feature, sample_rate, emotion, speaker)\n",
    "    \"\"\"\n",
    "    _emotions = { 'W': 0, 'L': 1, 'E': 2, 'A': 3, 'F': 4, 'T': 5, 'N': 6 } \n",
    "    # W = anger, L = boredom, E = disgust, A = anxiety/fear, F = happiness, T = sadness, N = neutral\n",
    "    \n",
    "    _speaker = {'03': 0, '08': 1, '09': 2,'10': 3,'11': 4,'12': 5,'13': 6,'14': 7,'15': 8,'16': 9}\n",
    "\n",
    "    def __init__(self, root, cv_index, split):\n",
    "        \"\"\"\n",
    "        Args:\n",
    "            root (string): Directory containing the features files\n",
    "            split(string): Either train, validate or test set\n",
    "        \"\"\"\n",
    "        self.root = root\n",
    "        self.data = []\n",
    "        self.df = pd.DataFrame(self.data, columns=['Speaker', 'Emotion', 'File'])\n",
    "        self.cv = { 0: (['12','13','03','08','10','14'],['15','09'],['11','16']),\n",
    "                    1: (['15','09','03','08','10','14'],['11','16'],['12','13']),\n",
    "                    2: (['15','09','11','16','10','14'],['12','13'],['03','08']),\n",
    "                    3: (['15','09','11','16','12','13'],['03','08'],['10','14']),\n",
    "                    4: (['11','16','12','13','03','08'],['10','14'],['15','09'])\n",
    "                  }\n",
    "\n",
    "        # Iterate through all audio files\n",
    "        for root, dirs, files in os.walk(root):\n",
    "            for file in files:\n",
    "                \n",
    "#                 Every utterance is named according to the same scheme:\n",
    "#                 Positions 1-2: speaker_id; \n",
    "#                 Positions 3-5: code for text; \n",
    "#                 Position 6: emotion; \n",
    "#                 Position 7: if there are more than two versions, these are numbered a, b, c\n",
    "                \n",
    "#                 03 - male, 31 years old\n",
    "#                 08 - female, 34 years\n",
    "#                 09 - female, 21 years\n",
    "#                 10 - male, 32 years\n",
    "#                 11 - male, 26 years\n",
    "#                 12 - male, 30 years\n",
    "#                 13 - female, 32 years\n",
    "#                 14 - female, 35 years\n",
    "#                 15 - male, 25 years\n",
    "#                 16 - female, 31 years\n",
    "                \n",
    "                if split == 'train':\n",
    "                    if file[0:2] in self.cv[cv_index][0]:\n",
    "                        self.data.append([file[0:2], file[5], file])\n",
    "                elif split == 'validate':\n",
    "                    if file[0:2] in self.cv[cv_index][1]:\n",
    "                        self.data.append([file[0:2], file[5], file])\n",
    "                elif split == 'test':\n",
    "                    if file[0:2] in self.cv[cv_index][2]:\n",
    "                        self.data.append([file[0:2], file[5], file])\n",
    "                else:\n",
    "                    print(\"Error: Split can only be train, validate or test!\")\n",
    "                        \n",
    "                #self.data.append([file[0:2], file[5], file])\n",
    "\n",
    "        # Convert data to pandas dataframe\n",
    "        self.df = pd.DataFrame(self.data, columns=['Speaker', 'Emotion', 'File'])\n",
    "\n",
    "        # Map emotion labels to numeric values\n",
    "        self.df['Emotion'] = self.df['Emotion'].map(self._emotions).astype(np.long)\n",
    "        self.df['Speaker'] = self.df['Speaker'].map(self._speaker).astype(np.long)\n",
    "\n",
    "    def __len__(self):\n",
    "        return len(self.df)\n",
    "\n",
    "    def __getitem__(self, idx):\n",
    "        \n",
    "        file_name = os.path.join(self.root, self.df.loc[idx, 'File'])\n",
    "        feature = torch.load(file_name)\n",
    "        emotion = self.df.loc[idx, 'Emotion']\n",
    "        speaker = self.df.loc[idx, 'Speaker']\n",
    "        \n",
    "        # return a tuple instead of a dictionary\n",
    "        sample = (feature,emotion,speaker)\n",
    "\n",
    "        return sample"
   ]
  },
  {
   "cell_type": "code",
   "execution_count": 4,
   "id": "convinced-gender",
   "metadata": {
    "execution": {
     "iopub.execute_input": "2021-03-21T07:42:21.011197Z",
     "iopub.status.busy": "2021-03-21T07:42:21.010755Z",
     "iopub.status.idle": "2021-03-21T07:42:21.070143Z",
     "shell.execute_reply": "2021-03-21T07:42:21.069428Z"
    },
    "papermill": {
     "duration": 0.077373,
     "end_time": "2021-03-21T07:42:21.070304",
     "exception": false,
     "start_time": "2021-03-21T07:42:20.992931",
     "status": "completed"
    },
    "tags": []
   },
   "outputs": [
    {
     "data": {
      "text/html": [
       "<div>\n",
       "<style scoped>\n",
       "    .dataframe tbody tr th:only-of-type {\n",
       "        vertical-align: middle;\n",
       "    }\n",
       "\n",
       "    .dataframe tbody tr th {\n",
       "        vertical-align: top;\n",
       "    }\n",
       "\n",
       "    .dataframe thead th {\n",
       "        text-align: right;\n",
       "    }\n",
       "</style>\n",
       "<table border=\"1\" class=\"dataframe\">\n",
       "  <thead>\n",
       "    <tr style=\"text-align: right;\">\n",
       "      <th></th>\n",
       "      <th>Speaker</th>\n",
       "      <th>Emotion</th>\n",
       "      <th>File</th>\n",
       "    </tr>\n",
       "  </thead>\n",
       "  <tbody>\n",
       "    <tr>\n",
       "      <th>0</th>\n",
       "      <td>0</td>\n",
       "      <td>0</td>\n",
       "      <td>03a07Wc.pt</td>\n",
       "    </tr>\n",
       "    <tr>\n",
       "      <th>1</th>\n",
       "      <td>1</td>\n",
       "      <td>4</td>\n",
       "      <td>08b09Fd.pt</td>\n",
       "    </tr>\n",
       "    <tr>\n",
       "      <th>2</th>\n",
       "      <td>6</td>\n",
       "      <td>5</td>\n",
       "      <td>13a07Tc.pt</td>\n",
       "    </tr>\n",
       "    <tr>\n",
       "      <th>3</th>\n",
       "      <td>9</td>\n",
       "      <td>2</td>\n",
       "      <td>16a05Ea.pt</td>\n",
       "    </tr>\n",
       "    <tr>\n",
       "      <th>4</th>\n",
       "      <td>6</td>\n",
       "      <td>4</td>\n",
       "      <td>13b09Fc.pt</td>\n",
       "    </tr>\n",
       "    <tr>\n",
       "      <th>...</th>\n",
       "      <td>...</td>\n",
       "      <td>...</td>\n",
       "      <td>...</td>\n",
       "    </tr>\n",
       "    <tr>\n",
       "      <th>324</th>\n",
       "      <td>9</td>\n",
       "      <td>1</td>\n",
       "      <td>16b01La.pt</td>\n",
       "    </tr>\n",
       "    <tr>\n",
       "      <th>325</th>\n",
       "      <td>0</td>\n",
       "      <td>3</td>\n",
       "      <td>03b02Aa.pt</td>\n",
       "    </tr>\n",
       "    <tr>\n",
       "      <th>326</th>\n",
       "      <td>9</td>\n",
       "      <td>3</td>\n",
       "      <td>16b01Aa.pt</td>\n",
       "    </tr>\n",
       "    <tr>\n",
       "      <th>327</th>\n",
       "      <td>9</td>\n",
       "      <td>5</td>\n",
       "      <td>16a07Td.pt</td>\n",
       "    </tr>\n",
       "    <tr>\n",
       "      <th>328</th>\n",
       "      <td>9</td>\n",
       "      <td>2</td>\n",
       "      <td>16a02Ea.pt</td>\n",
       "    </tr>\n",
       "  </tbody>\n",
       "</table>\n",
       "<p>329 rows × 3 columns</p>\n",
       "</div>"
      ],
      "text/plain": [
       "     Speaker  Emotion        File\n",
       "0          0        0  03a07Wc.pt\n",
       "1          1        4  08b09Fd.pt\n",
       "2          6        5  13a07Tc.pt\n",
       "3          9        2  16a05Ea.pt\n",
       "4          6        4  13b09Fc.pt\n",
       "..       ...      ...         ...\n",
       "324        9        1  16b01La.pt\n",
       "325        0        3  03b02Aa.pt\n",
       "326        9        3  16b01Aa.pt\n",
       "327        9        5  16a07Td.pt\n",
       "328        9        2  16a02Ea.pt\n",
       "\n",
       "[329 rows x 3 columns]"
      ]
     },
     "execution_count": 4,
     "metadata": {},
     "output_type": "execute_result"
    }
   ],
   "source": [
    "# Initialize RavdessDataset\n",
    "emodb_dataset_train = EmoDBDataset2(ROOT,cv_index = 4,split= 'train')\n",
    "emodb_dataset_test = EmoDBDataset2(ROOT,cv_index = 4,split= 'test')\n",
    "emodb_dataset_validate = EmoDBDataset2(ROOT,cv_index = 4, split= 'validate')\n",
    "\n",
    "# To view dataframe, uncomment below: \n",
    "emodb_dataset_train.df"
   ]
  },
  {
   "cell_type": "code",
   "execution_count": 5,
   "id": "arbitrary-exhibit",
   "metadata": {
    "execution": {
     "iopub.execute_input": "2021-03-21T07:42:21.102740Z",
     "iopub.status.busy": "2021-03-21T07:42:21.102274Z",
     "iopub.status.idle": "2021-03-21T07:42:21.104418Z",
     "shell.execute_reply": "2021-03-21T07:42:21.105401Z"
    },
    "papermill": {
     "duration": 0.018864,
     "end_time": "2021-03-21T07:42:21.105576",
     "exception": false,
     "start_time": "2021-03-21T07:42:21.086712",
     "status": "completed"
    },
    "tags": []
   },
   "outputs": [],
   "source": [
    "# from torch.utils.data import DataLoader\n",
    "# TRAIN_BATCH_SIZE = 16\n",
    "# VALIDATE_BATCH_SIZE = len(emodb_dataset_validate)\n",
    "# TEST_BATCH_SIZE = len(emodb_dataset_test)\n",
    "# emodb_train_loader = DataLoader(dataset=emodb_dataset_train, batch_size= TRAIN_BATCH_SIZE, shuffle=True, drop_last=False,worker_init_fn=np.random.seed(42),num_workers=2, pin_memory=True)\n",
    "# emodb_validate_loader = DataLoader(dataset=emodb_dataset_validate, batch_size= VALIDATE_BATCH_SIZE, shuffle=True, drop_last=False,worker_init_fn=np.random.seed(42),num_workers=2, pin_memory=True)\n",
    "# emodb_test_loader = DataLoader(dataset=emodb_dataset_test, batch_size= TEST_BATCH_SIZE, shuffle=True, drop_last=False,worker_init_fn=np.random.seed(42),num_workers=2, pin_memory=True)"
   ]
  },
  {
   "cell_type": "code",
   "execution_count": 6,
   "id": "statutory-parking",
   "metadata": {
    "execution": {
     "iopub.execute_input": "2021-03-21T07:42:21.147224Z",
     "iopub.status.busy": "2021-03-21T07:42:21.146475Z",
     "iopub.status.idle": "2021-03-21T07:42:21.148626Z",
     "shell.execute_reply": "2021-03-21T07:42:21.148157Z"
    },
    "papermill": {
     "duration": 0.025503,
     "end_time": "2021-03-21T07:42:21.148767",
     "exception": false,
     "start_time": "2021-03-21T07:42:21.123264",
     "status": "completed"
    },
    "tags": []
   },
   "outputs": [],
   "source": [
    "# next(iter(emodb_train_loader))"
   ]
  },
  {
   "cell_type": "markdown",
   "id": "successful-azerbaijan",
   "metadata": {
    "papermill": {
     "duration": 0.017206,
     "end_time": "2021-03-21T07:42:21.183954",
     "exception": false,
     "start_time": "2021-03-21T07:42:21.166748",
     "status": "completed"
    },
    "tags": []
   },
   "source": [
    "## 2. Network Architectures and Helper Functions"
   ]
  },
  {
   "cell_type": "markdown",
   "id": "incomplete-fluid",
   "metadata": {
    "papermill": {
     "duration": 0.017155,
     "end_time": "2021-03-21T07:42:21.218753",
     "exception": false,
     "start_time": "2021-03-21T07:42:21.201598",
     "status": "completed"
    },
    "tags": []
   },
   "source": [
    "### 2.1 Network Architectures"
   ]
  },
  {
   "cell_type": "code",
   "execution_count": 7,
   "id": "dense-gates",
   "metadata": {
    "execution": {
     "iopub.execute_input": "2021-03-21T07:42:21.253530Z",
     "iopub.status.busy": "2021-03-21T07:42:21.252716Z",
     "iopub.status.idle": "2021-03-21T07:42:21.254484Z",
     "shell.execute_reply": "2021-03-21T07:42:21.254822Z"
    },
    "papermill": {
     "duration": 0.022767,
     "end_time": "2021-03-21T07:42:21.254957",
     "exception": false,
     "start_time": "2021-03-21T07:42:21.232190",
     "status": "completed"
    },
    "tags": []
   },
   "outputs": [],
   "source": [
    "class FeatureExtractor(nn.Module):\n",
    "    def __init__(self):\n",
    "        # For same padding, P = ((S-1)*W-S+F)/2, with F = filter size, S = stride. If stride = 1, P = (F-1)/2\n",
    "        super().__init__()\n",
    "        self.conv_layers = nn.Sequential(\n",
    "            nn.Conv2d(in_channels=1, out_channels=64, kernel_size=(2, 2),padding=1,bias=False),  \n",
    "            nn.BatchNorm2d(64),\n",
    "            nn.Dropout2d(p=0.1),\n",
    "            nn.ELU(inplace=True),\n",
    "            nn.MaxPool2d(kernel_size=(2, 2), stride=(2, 2)),  \n",
    "                     \n",
    "        )\n",
    "        \n",
    "        self.GRU = nn.GRU(input_size= 640, hidden_size = 256 ,batch_first = True, bidirectional = True) #128\n",
    "        self.FC = nn.Linear(in_features = 512, out_features = 512) \n",
    "        \n",
    "        \n",
    "    def forward(self,x):\n",
    "        x = self.conv_layers(x)\n",
    "        # print(\"1-LFLB shape: {}\".format(x.shape))                     # batch_size, c_out, freq, time since we are using spectogram\n",
    "        x = x.view(x.size(0),-1,x.size(3)) \n",
    "        # print(\"Batch size, features, seq shape: {}\".format(x.shape))  # batch_size, features= c_out* freq , seq_len= time\n",
    "        x = x.permute(0,2,1)\n",
    "        # print(\"Batch size, seq, features shape: {}\".format(x.shape))  # batch_size, seq, features\n",
    "        output, hn = self.GRU(x)\n",
    "        # print(\"GRU output shape: {}\".format(output.shape))            # batch_size, seq, hidden size * 2 \n",
    "        x = self.FC(output)\n",
    "        # print(\"FC shape: {}\".format(x.shape)) # 32 * 141 * 512\n",
    "        mean = torch.mean(x,1)\n",
    "        stdev = torch.std(x,1)\n",
    "        x = torch.cat((mean,stdev),1)\n",
    "        #print(\"Statistical pooling shape: {}\".format(x.shape)) # 32 * 1024\n",
    "\n",
    "        return x\n"
   ]
  },
  {
   "cell_type": "code",
   "execution_count": 8,
   "id": "fixed-damage",
   "metadata": {
    "execution": {
     "iopub.execute_input": "2021-03-21T07:42:21.300239Z",
     "iopub.status.busy": "2021-03-21T07:42:21.299462Z",
     "iopub.status.idle": "2021-03-21T07:42:21.300981Z",
     "shell.execute_reply": "2021-03-21T07:42:21.301572Z"
    },
    "papermill": {
     "duration": 0.033013,
     "end_time": "2021-03-21T07:42:21.301768",
     "exception": false,
     "start_time": "2021-03-21T07:42:21.268755",
     "status": "completed"
    },
    "tags": []
   },
   "outputs": [],
   "source": [
    "class EmotionClassifier(nn.Module):\n",
    "    def __init__(self):\n",
    "        super(EmotionClassifier,self).__init__()\n",
    "        self.label_classifier = nn.Sequential(\n",
    "            \n",
    "            nn.Linear(1024, 128),\n",
    "            nn.BatchNorm1d(128),\n",
    "            nn.Dropout2d(p=0.5),\n",
    "            nn.ReLU(inplace=True),\n",
    "            nn.Linear(128, 128),\n",
    "            nn.BatchNorm1d(128),\n",
    "            nn.Dropout2d(p=0.5),\n",
    "            nn.ReLU(inplace=True),\n",
    "            nn.Linear(128, 7),\n",
    "\n",
    "        )\n",
    "        \n",
    "    def forward(self,x):\n",
    "        x = self.label_classifier(x)\n",
    "        return F.softmax(x)\n"
   ]
  },
  {
   "cell_type": "code",
   "execution_count": 9,
   "id": "intelligent-outside",
   "metadata": {
    "execution": {
     "iopub.execute_input": "2021-03-21T07:42:21.352897Z",
     "iopub.status.busy": "2021-03-21T07:42:21.352230Z",
     "iopub.status.idle": "2021-03-21T07:42:21.354095Z",
     "shell.execute_reply": "2021-03-21T07:42:21.354692Z"
    },
    "papermill": {
     "duration": 0.031227,
     "end_time": "2021-03-21T07:42:21.354863",
     "exception": false,
     "start_time": "2021-03-21T07:42:21.323636",
     "status": "completed"
    },
    "tags": []
   },
   "outputs": [],
   "source": [
    "class SpeakerClassifier(nn.Module):\n",
    "    def __init__(self):\n",
    "        super(SpeakerClassifier,self).__init__()\n",
    "        self.label_classifier = nn.Sequential(\n",
    "            nn.Linear(1024, 128),\n",
    "            nn.BatchNorm1d(128),\n",
    "            nn.Dropout2d(p=0.5),\n",
    "            nn.ReLU(inplace=True),\n",
    "            nn.Linear(128, 128),\n",
    "            nn.BatchNorm1d(128),\n",
    "            nn.Dropout2d(p=0.5),\n",
    "            nn.ReLU(inplace=True),\n",
    "            nn.Linear(128, 10),\n",
    "        )\n",
    "        \n",
    "    def forward(self,x):\n",
    "        x = self.label_classifier(x)\n",
    "        return F.softmax(x)\n"
   ]
  },
  {
   "cell_type": "markdown",
   "id": "collectible-legislature",
   "metadata": {
    "papermill": {
     "duration": 0.020204,
     "end_time": "2021-03-21T07:42:21.396431",
     "exception": false,
     "start_time": "2021-03-21T07:42:21.376227",
     "status": "completed"
    },
    "tags": []
   },
   "source": [
    "### 2.2 Helper Functions"
   ]
  },
  {
   "cell_type": "code",
   "execution_count": 10,
   "id": "ultimate-coalition",
   "metadata": {
    "execution": {
     "iopub.execute_input": "2021-03-21T07:42:21.441776Z",
     "iopub.status.busy": "2021-03-21T07:42:21.441170Z",
     "iopub.status.idle": "2021-03-21T07:42:21.442895Z",
     "shell.execute_reply": "2021-03-21T07:42:21.443371Z"
    },
    "papermill": {
     "duration": 0.026657,
     "end_time": "2021-03-21T07:42:21.443522",
     "exception": false,
     "start_time": "2021-03-21T07:42:21.416865",
     "status": "completed"
    },
    "tags": []
   },
   "outputs": [],
   "source": [
    "import numpy as np\n",
    "\n",
    "def domain_adaptation_parameter(p):\n",
    "    lambda_p = 2. / (1. + np.exp(-GAMMA*p)) - 1\n",
    "    return lambda_p"
   ]
  },
  {
   "cell_type": "code",
   "execution_count": 11,
   "id": "separate-preparation",
   "metadata": {
    "execution": {
     "iopub.execute_input": "2021-03-21T07:42:21.482793Z",
     "iopub.status.busy": "2021-03-21T07:42:21.482311Z",
     "iopub.status.idle": "2021-03-21T07:42:21.484377Z",
     "shell.execute_reply": "2021-03-21T07:42:21.484000Z"
    },
    "papermill": {
     "duration": 0.021089,
     "end_time": "2021-03-21T07:42:21.484478",
     "exception": false,
     "start_time": "2021-03-21T07:42:21.463389",
     "status": "completed"
    },
    "tags": []
   },
   "outputs": [],
   "source": [
    "def save_parameters(PATH):\n",
    "    torch.save({\n",
    "                'encoder_state_dict': encoder.state_dict(),\n",
    "                'emotion_classifier_state_dict': emotion_classifier.state_dict(),\n",
    "                'speaker_classifier_state_dict': speaker_classifier.state_dict(),\n",
    "                'encoder_optimizer_state_dict': encoder_optimizer.state_dict(),\n",
    "                'emotion_optimizer_state_dict': emotion_optimizer.state_dict(),\n",
    "                'speaker_optimizer_state_dict': speaker_optimizer.state_dict(),\n",
    "                }, PATH)\n",
    "    print(\"Models' parameters and optimisers' parameters saved.\")"
   ]
  },
  {
   "cell_type": "code",
   "execution_count": 12,
   "id": "amended-warrant",
   "metadata": {
    "execution": {
     "iopub.execute_input": "2021-03-21T07:42:21.513194Z",
     "iopub.status.busy": "2021-03-21T07:42:21.512537Z",
     "iopub.status.idle": "2021-03-21T07:42:21.514314Z",
     "shell.execute_reply": "2021-03-21T07:42:21.514657Z"
    },
    "papermill": {
     "duration": 0.017692,
     "end_time": "2021-03-21T07:42:21.514781",
     "exception": false,
     "start_time": "2021-03-21T07:42:21.497089",
     "status": "completed"
    },
    "tags": []
   },
   "outputs": [],
   "source": [
    "def save_accuracies_and_losses(PATH):\n",
    "    np.savez(PATH, \n",
    "         emoClassLoss = fold_emotion_class_losses,\n",
    "         emoTrain_acc = fold_emotion_training_accuracies, \n",
    "         emoValidate_acc = fold_emotion_validating_accuracies,\n",
    "         spkClassLoss = fold_speaker_class_losses,\n",
    "         spkTrain_acc = fold_speaker_training_accuracies,\n",
    "         spkValidate_acc = fold_speaker_validating_accuracies,\n",
    "        \n",
    "    )"
   ]
  },
  {
   "cell_type": "markdown",
   "id": "curious-roads",
   "metadata": {
    "papermill": {
     "duration": 0.020467,
     "end_time": "2021-03-21T07:42:21.549433",
     "exception": false,
     "start_time": "2021-03-21T07:42:21.528966",
     "status": "completed"
    },
    "tags": []
   },
   "source": [
    "## 4. Model Training"
   ]
  },
  {
   "cell_type": "code",
   "execution_count": 13,
   "id": "lyric-elephant",
   "metadata": {
    "execution": {
     "iopub.execute_input": "2021-03-21T07:42:21.623844Z",
     "iopub.status.busy": "2021-03-21T07:42:21.623015Z",
     "iopub.status.idle": "2021-03-21T08:40:39.976427Z",
     "shell.execute_reply": "2021-03-21T08:40:39.978170Z"
    },
    "papermill": {
     "duration": 3498.409412,
     "end_time": "2021-03-21T08:40:39.978755",
     "exception": false,
     "start_time": "2021-03-21T07:42:21.569343",
     "status": "completed"
    },
    "scrolled": true,
    "tags": []
   },
   "outputs": [
    {
     "name": "stdout",
     "output_type": "stream",
     "text": [
      "\n",
      "Current Fold: 0 | Epoch: 0\n"
     ]
    },
    {
     "name": "stdout",
     "output_type": "stream",
     "text": [
      "Emotion Training Correct: 113/288 \n",
      "Emotion Training Accuracy: 39.23611%\n",
      "Speaker Training Correct: 58/288 \n",
      "Speaker Training Accuracy: 20.13889%\n"
     ]
    },
    {
     "name": "stdout",
     "output_type": "stream",
     "text": [
      "\n",
      "Emotion Validating Correct: 43/99 \n",
      "Emotion Validating Accuracy: 43.43434%\n",
      "Speaker Validating Correct: 0/99 \n",
      "Speaker Validating Accuracy: 0.00000%\n",
      "\n",
      "Current Fold: 0 | Epoch: 1\n"
     ]
    },
    {
     "name": "stdout",
     "output_type": "stream",
     "text": [
      "Emotion Training Correct: 132/288 \n",
      "Emotion Training Accuracy: 45.83333%\n",
      "Speaker Training Correct: 36/288 \n",
      "Speaker Training Accuracy: 12.50000%\n"
     ]
    },
    {
     "name": "stdout",
     "output_type": "stream",
     "text": [
      "\n",
      "Emotion Validating Correct: 50/99 \n",
      "Emotion Validating Accuracy: 50.50505%\n",
      "Speaker Validating Correct: 7/99 \n",
      "Speaker Validating Accuracy: 7.07071%\n",
      "Models' parameters and optimisers' parameters saved.\n",
      "\n",
      "Current Fold: 0 | Epoch: 2\n"
     ]
    },
    {
     "name": "stdout",
     "output_type": "stream",
     "text": [
      "Emotion Training Correct: 132/288 \n",
      "Emotion Training Accuracy: 45.83333%\n",
      "Speaker Training Correct: 0/288 \n",
      "Speaker Training Accuracy: 0.00000%\n"
     ]
    },
    {
     "name": "stdout",
     "output_type": "stream",
     "text": [
      "\n",
      "Emotion Validating Correct: 49/99 \n",
      "Emotion Validating Accuracy: 49.49495%\n",
      "Speaker Validating Correct: 6/99 \n",
      "Speaker Validating Accuracy: 6.06061%\n",
      "\n",
      "Current Fold: 0 | Epoch: 3\n"
     ]
    },
    {
     "name": "stdout",
     "output_type": "stream",
     "text": [
      "Emotion Training Correct: 135/288 \n",
      "Emotion Training Accuracy: 46.87500%\n",
      "Speaker Training Correct: 0/288 \n",
      "Speaker Training Accuracy: 0.00000%\n"
     ]
    },
    {
     "name": "stdout",
     "output_type": "stream",
     "text": [
      "\n",
      "Emotion Validating Correct: 43/99 \n",
      "Emotion Validating Accuracy: 43.43434%\n",
      "Speaker Validating Correct: 10/99 \n",
      "Speaker Validating Accuracy: 10.10101%\n",
      "\n",
      "Current Fold: 0 | Epoch: 4\n"
     ]
    },
    {
     "name": "stdout",
     "output_type": "stream",
     "text": [
      "Emotion Training Correct: 140/288 \n",
      "Emotion Training Accuracy: 48.61111%\n",
      "Speaker Training Correct: 0/288 \n",
      "Speaker Training Accuracy: 0.00000%\n"
     ]
    },
    {
     "name": "stdout",
     "output_type": "stream",
     "text": [
      "\n",
      "Emotion Validating Correct: 45/99 \n",
      "Emotion Validating Accuracy: 45.45455%\n",
      "Speaker Validating Correct: 20/99 \n",
      "Speaker Validating Accuracy: 20.20202%\n",
      "\n",
      "Current Fold: 0 | Epoch: 5\n"
     ]
    },
    {
     "name": "stdout",
     "output_type": "stream",
     "text": [
      "Emotion Training Correct: 153/288 \n",
      "Emotion Training Accuracy: 53.12500%\n",
      "Speaker Training Correct: 0/288 \n",
      "Speaker Training Accuracy: 0.00000%\n"
     ]
    },
    {
     "name": "stdout",
     "output_type": "stream",
     "text": [
      "\n",
      "Emotion Validating Correct: 45/99 \n",
      "Emotion Validating Accuracy: 45.45455%\n",
      "Speaker Validating Correct: 31/99 \n",
      "Speaker Validating Accuracy: 31.31313%\n",
      "\n",
      "Current Fold: 0 | Epoch: 6\n"
     ]
    },
    {
     "name": "stdout",
     "output_type": "stream",
     "text": [
      "Emotion Training Correct: 159/288 \n",
      "Emotion Training Accuracy: 55.20833%\n",
      "Speaker Training Correct: 0/288 \n",
      "Speaker Training Accuracy: 0.00000%\n"
     ]
    },
    {
     "name": "stdout",
     "output_type": "stream",
     "text": [
      "\n",
      "Emotion Validating Correct: 51/99 \n",
      "Emotion Validating Accuracy: 51.51515%\n",
      "Speaker Validating Correct: 34/99 \n",
      "Speaker Validating Accuracy: 34.34343%\n",
      "Models' parameters and optimisers' parameters saved.\n",
      "\n",
      "Current Fold: 0 | Epoch: 7\n"
     ]
    },
    {
     "name": "stdout",
     "output_type": "stream",
     "text": [
      "Emotion Training Correct: 160/288 \n",
      "Emotion Training Accuracy: 55.55556%\n",
      "Speaker Training Correct: 0/288 \n",
      "Speaker Training Accuracy: 0.00000%\n"
     ]
    },
    {
     "name": "stdout",
     "output_type": "stream",
     "text": [
      "\n",
      "Emotion Validating Correct: 52/99 \n",
      "Emotion Validating Accuracy: 52.52525%\n",
      "Speaker Validating Correct: 35/99 \n",
      "Speaker Validating Accuracy: 35.35354%\n",
      "Models' parameters and optimisers' parameters saved.\n",
      "\n",
      "Current Fold: 0 | Epoch: 8\n"
     ]
    },
    {
     "name": "stdout",
     "output_type": "stream",
     "text": [
      "Emotion Training Correct: 188/288 \n",
      "Emotion Training Accuracy: 65.27778%\n",
      "Speaker Training Correct: 0/288 \n",
      "Speaker Training Accuracy: 0.00000%\n"
     ]
    },
    {
     "name": "stdout",
     "output_type": "stream",
     "text": [
      "\n",
      "Emotion Validating Correct: 42/99 \n",
      "Emotion Validating Accuracy: 42.42424%\n",
      "Speaker Validating Correct: 34/99 \n",
      "Speaker Validating Accuracy: 34.34343%\n",
      "\n",
      "Current Fold: 0 | Epoch: 9\n"
     ]
    },
    {
     "name": "stdout",
     "output_type": "stream",
     "text": [
      "Emotion Training Correct: 194/288 \n",
      "Emotion Training Accuracy: 67.36111%\n",
      "Speaker Training Correct: 0/288 \n",
      "Speaker Training Accuracy: 0.00000%\n"
     ]
    },
    {
     "name": "stdout",
     "output_type": "stream",
     "text": [
      "\n",
      "Emotion Validating Correct: 50/99 \n",
      "Emotion Validating Accuracy: 50.50505%\n",
      "Speaker Validating Correct: 34/99 \n",
      "Speaker Validating Accuracy: 34.34343%\n",
      "\n",
      "Current Fold: 0 | Epoch: 10\n"
     ]
    },
    {
     "name": "stdout",
     "output_type": "stream",
     "text": [
      "Emotion Training Correct: 203/288 \n",
      "Emotion Training Accuracy: 70.48611%\n",
      "Speaker Training Correct: 0/288 \n",
      "Speaker Training Accuracy: 0.00000%\n"
     ]
    },
    {
     "name": "stdout",
     "output_type": "stream",
     "text": [
      "\n",
      "Emotion Validating Correct: 43/99 \n",
      "Emotion Validating Accuracy: 43.43434%\n",
      "Speaker Validating Correct: 31/99 \n",
      "Speaker Validating Accuracy: 31.31313%\n",
      "\n",
      "Current Fold: 0 | Epoch: 11\n"
     ]
    },
    {
     "name": "stdout",
     "output_type": "stream",
     "text": [
      "Emotion Training Correct: 213/288 \n",
      "Emotion Training Accuracy: 73.95833%\n",
      "Speaker Training Correct: 0/288 \n",
      "Speaker Training Accuracy: 0.00000%\n"
     ]
    },
    {
     "name": "stdout",
     "output_type": "stream",
     "text": [
      "\n",
      "Emotion Validating Correct: 52/99 \n",
      "Emotion Validating Accuracy: 52.52525%\n",
      "Speaker Validating Correct: 33/99 \n",
      "Speaker Validating Accuracy: 33.33333%\n",
      "Models' parameters and optimisers' parameters saved.\n",
      "\n",
      "Current Fold: 0 | Epoch: 12\n"
     ]
    },
    {
     "name": "stdout",
     "output_type": "stream",
     "text": [
      "Emotion Training Correct: 191/288 \n",
      "Emotion Training Accuracy: 66.31944%\n",
      "Speaker Training Correct: 0/288 \n",
      "Speaker Training Accuracy: 0.00000%\n"
     ]
    },
    {
     "name": "stdout",
     "output_type": "stream",
     "text": [
      "\n",
      "Emotion Validating Correct: 57/99 \n",
      "Emotion Validating Accuracy: 57.57576%\n",
      "Speaker Validating Correct: 29/99 \n",
      "Speaker Validating Accuracy: 29.29293%\n",
      "Models' parameters and optimisers' parameters saved.\n",
      "\n",
      "Current Fold: 0 | Epoch: 13\n"
     ]
    },
    {
     "name": "stdout",
     "output_type": "stream",
     "text": [
      "Emotion Training Correct: 194/288 \n",
      "Emotion Training Accuracy: 67.36111%\n",
      "Speaker Training Correct: 0/288 \n",
      "Speaker Training Accuracy: 0.00000%\n"
     ]
    },
    {
     "name": "stdout",
     "output_type": "stream",
     "text": [
      "\n",
      "Emotion Validating Correct: 53/99 \n",
      "Emotion Validating Accuracy: 53.53535%\n",
      "Speaker Validating Correct: 35/99 \n",
      "Speaker Validating Accuracy: 35.35354%\n",
      "\n",
      "Current Fold: 0 | Epoch: 14\n"
     ]
    },
    {
     "name": "stdout",
     "output_type": "stream",
     "text": [
      "Emotion Training Correct: 231/288 \n",
      "Emotion Training Accuracy: 80.20833%\n",
      "Speaker Training Correct: 0/288 \n",
      "Speaker Training Accuracy: 0.00000%\n"
     ]
    },
    {
     "name": "stdout",
     "output_type": "stream",
     "text": [
      "\n",
      "Emotion Validating Correct: 53/99 \n",
      "Emotion Validating Accuracy: 53.53535%\n",
      "Speaker Validating Correct: 39/99 \n",
      "Speaker Validating Accuracy: 39.39394%\n",
      "\n",
      "Current Fold: 0 | Epoch: 15\n"
     ]
    },
    {
     "name": "stdout",
     "output_type": "stream",
     "text": [
      "Emotion Training Correct: 253/288 \n",
      "Emotion Training Accuracy: 87.84722%\n",
      "Speaker Training Correct: 0/288 \n",
      "Speaker Training Accuracy: 0.00000%\n"
     ]
    },
    {
     "name": "stdout",
     "output_type": "stream",
     "text": [
      "\n",
      "Emotion Validating Correct: 53/99 \n",
      "Emotion Validating Accuracy: 53.53535%\n",
      "Speaker Validating Correct: 32/99 \n",
      "Speaker Validating Accuracy: 32.32323%\n",
      "\n",
      "Current Fold: 0 | Epoch: 16\n"
     ]
    },
    {
     "name": "stdout",
     "output_type": "stream",
     "text": [
      "Emotion Training Correct: 235/288 \n",
      "Emotion Training Accuracy: 81.59722%\n",
      "Speaker Training Correct: 0/288 \n",
      "Speaker Training Accuracy: 0.00000%\n"
     ]
    },
    {
     "name": "stdout",
     "output_type": "stream",
     "text": [
      "\n",
      "Emotion Validating Correct: 59/99 \n",
      "Emotion Validating Accuracy: 59.59596%\n",
      "Speaker Validating Correct: 25/99 \n",
      "Speaker Validating Accuracy: 25.25253%\n",
      "Models' parameters and optimisers' parameters saved.\n",
      "\n",
      "Current Fold: 0 | Epoch: 17\n"
     ]
    },
    {
     "name": "stdout",
     "output_type": "stream",
     "text": [
      "Emotion Training Correct: 242/288 \n",
      "Emotion Training Accuracy: 84.02778%\n",
      "Speaker Training Correct: 0/288 \n",
      "Speaker Training Accuracy: 0.00000%\n"
     ]
    },
    {
     "name": "stdout",
     "output_type": "stream",
     "text": [
      "\n",
      "Emotion Validating Correct: 55/99 \n",
      "Emotion Validating Accuracy: 55.55556%\n",
      "Speaker Validating Correct: 40/99 \n",
      "Speaker Validating Accuracy: 40.40404%\n",
      "\n",
      "Current Fold: 0 | Epoch: 18\n"
     ]
    },
    {
     "name": "stdout",
     "output_type": "stream",
     "text": [
      "Emotion Training Correct: 227/288 \n",
      "Emotion Training Accuracy: 78.81944%\n",
      "Speaker Training Correct: 0/288 \n",
      "Speaker Training Accuracy: 0.00000%\n"
     ]
    },
    {
     "name": "stdout",
     "output_type": "stream",
     "text": [
      "\n",
      "Emotion Validating Correct: 60/99 \n",
      "Emotion Validating Accuracy: 60.60606%\n",
      "Speaker Validating Correct: 27/99 \n",
      "Speaker Validating Accuracy: 27.27273%\n",
      "Models' parameters and optimisers' parameters saved.\n",
      "\n",
      "Current Fold: 0 | Epoch: 19\n"
     ]
    },
    {
     "name": "stdout",
     "output_type": "stream",
     "text": [
      "Emotion Training Correct: 247/288 \n",
      "Emotion Training Accuracy: 85.76389%\n",
      "Speaker Training Correct: 0/288 \n",
      "Speaker Training Accuracy: 0.00000%\n"
     ]
    },
    {
     "name": "stdout",
     "output_type": "stream",
     "text": [
      "\n",
      "Emotion Validating Correct: 51/99 \n",
      "Emotion Validating Accuracy: 51.51515%\n",
      "Speaker Validating Correct: 40/99 \n",
      "Speaker Validating Accuracy: 40.40404%\n",
      "\n",
      "Current Fold: 0 | Epoch: 20\n"
     ]
    },
    {
     "name": "stdout",
     "output_type": "stream",
     "text": [
      "Emotion Training Correct: 256/288 \n",
      "Emotion Training Accuracy: 88.88889%\n",
      "Speaker Training Correct: 0/288 \n",
      "Speaker Training Accuracy: 0.00000%\n"
     ]
    },
    {
     "name": "stdout",
     "output_type": "stream",
     "text": [
      "\n",
      "Emotion Validating Correct: 57/99 \n",
      "Emotion Validating Accuracy: 57.57576%\n",
      "Speaker Validating Correct: 31/99 \n",
      "Speaker Validating Accuracy: 31.31313%\n",
      "\n",
      "Current Fold: 0 | Epoch: 21\n"
     ]
    },
    {
     "name": "stdout",
     "output_type": "stream",
     "text": [
      "Emotion Training Correct: 263/288 \n",
      "Emotion Training Accuracy: 91.31944%\n",
      "Speaker Training Correct: 0/288 \n",
      "Speaker Training Accuracy: 0.00000%\n"
     ]
    },
    {
     "name": "stdout",
     "output_type": "stream",
     "text": [
      "\n",
      "Emotion Validating Correct: 66/99 \n",
      "Emotion Validating Accuracy: 66.66667%\n",
      "Speaker Validating Correct: 39/99 \n",
      "Speaker Validating Accuracy: 39.39394%\n",
      "Models' parameters and optimisers' parameters saved.\n",
      "\n",
      "Current Fold: 0 | Epoch: 22\n"
     ]
    },
    {
     "name": "stdout",
     "output_type": "stream",
     "text": [
      "Emotion Training Correct: 247/288 \n",
      "Emotion Training Accuracy: 85.76389%\n",
      "Speaker Training Correct: 0/288 \n",
      "Speaker Training Accuracy: 0.00000%\n"
     ]
    },
    {
     "name": "stdout",
     "output_type": "stream",
     "text": [
      "\n",
      "Emotion Validating Correct: 57/99 \n",
      "Emotion Validating Accuracy: 57.57576%\n",
      "Speaker Validating Correct: 33/99 \n",
      "Speaker Validating Accuracy: 33.33333%\n",
      "\n",
      "Current Fold: 0 | Epoch: 23\n"
     ]
    },
    {
     "name": "stdout",
     "output_type": "stream",
     "text": [
      "Emotion Training Correct: 267/288 \n",
      "Emotion Training Accuracy: 92.70833%\n",
      "Speaker Training Correct: 0/288 \n",
      "Speaker Training Accuracy: 0.00000%\n"
     ]
    },
    {
     "name": "stdout",
     "output_type": "stream",
     "text": [
      "\n",
      "Emotion Validating Correct: 64/99 \n",
      "Emotion Validating Accuracy: 64.64646%\n",
      "Speaker Validating Correct: 21/99 \n",
      "Speaker Validating Accuracy: 21.21212%\n",
      "\n",
      "Current Fold: 0 | Epoch: 24\n"
     ]
    },
    {
     "name": "stdout",
     "output_type": "stream",
     "text": [
      "Emotion Training Correct: 264/288 \n",
      "Emotion Training Accuracy: 91.66667%\n",
      "Speaker Training Correct: 0/288 \n",
      "Speaker Training Accuracy: 0.00000%\n"
     ]
    },
    {
     "name": "stdout",
     "output_type": "stream",
     "text": [
      "\n",
      "Emotion Validating Correct: 64/99 \n",
      "Emotion Validating Accuracy: 64.64646%\n",
      "Speaker Validating Correct: 23/99 \n",
      "Speaker Validating Accuracy: 23.23232%\n",
      "\n",
      "Current Fold: 0 | Epoch: 25\n"
     ]
    },
    {
     "name": "stdout",
     "output_type": "stream",
     "text": [
      "Emotion Training Correct: 266/288 \n",
      "Emotion Training Accuracy: 92.36111%\n",
      "Speaker Training Correct: 0/288 \n",
      "Speaker Training Accuracy: 0.00000%\n"
     ]
    },
    {
     "name": "stdout",
     "output_type": "stream",
     "text": [
      "\n",
      "Emotion Validating Correct: 55/99 \n",
      "Emotion Validating Accuracy: 55.55556%\n",
      "Speaker Validating Correct: 25/99 \n",
      "Speaker Validating Accuracy: 25.25253%\n",
      "\n",
      "Current Fold: 0 | Epoch: 26\n"
     ]
    },
    {
     "name": "stdout",
     "output_type": "stream",
     "text": [
      "Emotion Training Correct: 266/288 \n",
      "Emotion Training Accuracy: 92.36111%\n",
      "Speaker Training Correct: 0/288 \n",
      "Speaker Training Accuracy: 0.00000%\n"
     ]
    },
    {
     "name": "stdout",
     "output_type": "stream",
     "text": [
      "\n",
      "Emotion Validating Correct: 64/99 \n",
      "Emotion Validating Accuracy: 64.64646%\n",
      "Speaker Validating Correct: 30/99 \n",
      "Speaker Validating Accuracy: 30.30303%\n",
      "\n",
      "Current Fold: 0 | Epoch: 27\n"
     ]
    },
    {
     "name": "stdout",
     "output_type": "stream",
     "text": [
      "Emotion Training Correct: 265/288 \n",
      "Emotion Training Accuracy: 92.01389%\n",
      "Speaker Training Correct: 0/288 \n",
      "Speaker Training Accuracy: 0.00000%\n"
     ]
    },
    {
     "name": "stdout",
     "output_type": "stream",
     "text": [
      "\n",
      "Emotion Validating Correct: 52/99 \n",
      "Emotion Validating Accuracy: 52.52525%\n",
      "Speaker Validating Correct: 21/99 \n",
      "Speaker Validating Accuracy: 21.21212%\n",
      "\n",
      "Current Fold: 0 | Epoch: 28\n"
     ]
    },
    {
     "name": "stdout",
     "output_type": "stream",
     "text": [
      "Emotion Training Correct: 268/288 \n",
      "Emotion Training Accuracy: 93.05556%\n",
      "Speaker Training Correct: 0/288 \n",
      "Speaker Training Accuracy: 0.00000%\n"
     ]
    },
    {
     "name": "stdout",
     "output_type": "stream",
     "text": [
      "\n",
      "Emotion Validating Correct: 55/99 \n",
      "Emotion Validating Accuracy: 55.55556%\n",
      "Speaker Validating Correct: 19/99 \n",
      "Speaker Validating Accuracy: 19.19192%\n",
      "\n",
      "Current Fold: 0 | Epoch: 29\n"
     ]
    },
    {
     "name": "stdout",
     "output_type": "stream",
     "text": [
      "Emotion Training Correct: 264/288 \n",
      "Emotion Training Accuracy: 91.66667%\n",
      "Speaker Training Correct: 0/288 \n",
      "Speaker Training Accuracy: 0.00000%\n"
     ]
    },
    {
     "name": "stdout",
     "output_type": "stream",
     "text": [
      "\n",
      "Emotion Validating Correct: 58/99 \n",
      "Emotion Validating Accuracy: 58.58586%\n",
      "Speaker Validating Correct: 19/99 \n",
      "Speaker Validating Accuracy: 19.19192%\n",
      "\n",
      "Current Fold: 0 | Epoch: 30\n"
     ]
    },
    {
     "name": "stdout",
     "output_type": "stream",
     "text": [
      "Emotion Training Correct: 268/288 \n",
      "Emotion Training Accuracy: 93.05556%\n",
      "Speaker Training Correct: 0/288 \n",
      "Speaker Training Accuracy: 0.00000%\n"
     ]
    },
    {
     "name": "stdout",
     "output_type": "stream",
     "text": [
      "\n",
      "Emotion Validating Correct: 58/99 \n",
      "Emotion Validating Accuracy: 58.58586%\n",
      "Speaker Validating Correct: 33/99 \n",
      "Speaker Validating Accuracy: 33.33333%\n",
      "\n",
      "Current Fold: 0 | Epoch: 31\n"
     ]
    },
    {
     "name": "stdout",
     "output_type": "stream",
     "text": [
      "Emotion Training Correct: 262/288 \n",
      "Emotion Training Accuracy: 90.97222%\n",
      "Speaker Training Correct: 0/288 \n",
      "Speaker Training Accuracy: 0.00000%\n"
     ]
    },
    {
     "name": "stdout",
     "output_type": "stream",
     "text": [
      "\n",
      "Emotion Validating Correct: 67/99 \n",
      "Emotion Validating Accuracy: 67.67677%\n",
      "Speaker Validating Correct: 29/99 \n",
      "Speaker Validating Accuracy: 29.29293%\n",
      "Models' parameters and optimisers' parameters saved.\n",
      "\n",
      "Current Fold: 0 | Epoch: 32\n"
     ]
    },
    {
     "name": "stdout",
     "output_type": "stream",
     "text": [
      "Emotion Training Correct: 267/288 \n",
      "Emotion Training Accuracy: 92.70833%\n",
      "Speaker Training Correct: 0/288 \n",
      "Speaker Training Accuracy: 0.00000%\n"
     ]
    },
    {
     "name": "stdout",
     "output_type": "stream",
     "text": [
      "\n",
      "Emotion Validating Correct: 66/99 \n",
      "Emotion Validating Accuracy: 66.66667%\n",
      "Speaker Validating Correct: 32/99 \n",
      "Speaker Validating Accuracy: 32.32323%\n",
      "\n",
      "Current Fold: 0 | Epoch: 33\n"
     ]
    },
    {
     "name": "stdout",
     "output_type": "stream",
     "text": [
      "Emotion Training Correct: 267/288 \n",
      "Emotion Training Accuracy: 92.70833%\n",
      "Speaker Training Correct: 0/288 \n",
      "Speaker Training Accuracy: 0.00000%\n"
     ]
    },
    {
     "name": "stdout",
     "output_type": "stream",
     "text": [
      "\n",
      "Emotion Validating Correct: 64/99 \n",
      "Emotion Validating Accuracy: 64.64646%\n",
      "Speaker Validating Correct: 29/99 \n",
      "Speaker Validating Accuracy: 29.29293%\n",
      "\n",
      "Current Fold: 0 | Epoch: 34\n"
     ]
    },
    {
     "name": "stdout",
     "output_type": "stream",
     "text": [
      "Emotion Training Correct: 268/288 \n",
      "Emotion Training Accuracy: 93.05556%\n",
      "Speaker Training Correct: 0/288 \n",
      "Speaker Training Accuracy: 0.00000%\n"
     ]
    },
    {
     "name": "stdout",
     "output_type": "stream",
     "text": [
      "\n",
      "Emotion Validating Correct: 65/99 \n",
      "Emotion Validating Accuracy: 65.65657%\n",
      "Speaker Validating Correct: 36/99 \n",
      "Speaker Validating Accuracy: 36.36364%\n",
      "\n",
      "Current Fold: 0 | Epoch: 35\n"
     ]
    },
    {
     "name": "stdout",
     "output_type": "stream",
     "text": [
      "Emotion Training Correct: 269/288 \n",
      "Emotion Training Accuracy: 93.40278%\n",
      "Speaker Training Correct: 0/288 \n",
      "Speaker Training Accuracy: 0.00000%\n"
     ]
    },
    {
     "name": "stdout",
     "output_type": "stream",
     "text": [
      "\n",
      "Emotion Validating Correct: 64/99 \n",
      "Emotion Validating Accuracy: 64.64646%\n",
      "Speaker Validating Correct: 31/99 \n",
      "Speaker Validating Accuracy: 31.31313%\n",
      "\n",
      "Current Fold: 0 | Epoch: 36\n"
     ]
    },
    {
     "name": "stdout",
     "output_type": "stream",
     "text": [
      "Emotion Training Correct: 267/288 \n",
      "Emotion Training Accuracy: 92.70833%\n",
      "Speaker Training Correct: 0/288 \n",
      "Speaker Training Accuracy: 0.00000%\n"
     ]
    },
    {
     "name": "stdout",
     "output_type": "stream",
     "text": [
      "\n",
      "Emotion Validating Correct: 69/99 \n",
      "Emotion Validating Accuracy: 69.69697%\n",
      "Speaker Validating Correct: 28/99 \n",
      "Speaker Validating Accuracy: 28.28283%\n",
      "Models' parameters and optimisers' parameters saved.\n",
      "\n",
      "Current Fold: 0 | Epoch: 37\n"
     ]
    },
    {
     "name": "stdout",
     "output_type": "stream",
     "text": [
      "Emotion Training Correct: 270/288 \n",
      "Emotion Training Accuracy: 93.75000%\n",
      "Speaker Training Correct: 0/288 \n",
      "Speaker Training Accuracy: 0.00000%\n"
     ]
    },
    {
     "name": "stdout",
     "output_type": "stream",
     "text": [
      "\n",
      "Emotion Validating Correct: 64/99 \n",
      "Emotion Validating Accuracy: 64.64646%\n",
      "Speaker Validating Correct: 28/99 \n",
      "Speaker Validating Accuracy: 28.28283%\n",
      "\n",
      "Current Fold: 0 | Epoch: 38\n"
     ]
    },
    {
     "name": "stdout",
     "output_type": "stream",
     "text": [
      "Emotion Training Correct: 267/288 \n",
      "Emotion Training Accuracy: 92.70833%\n",
      "Speaker Training Correct: 0/288 \n",
      "Speaker Training Accuracy: 0.00000%\n"
     ]
    },
    {
     "name": "stdout",
     "output_type": "stream",
     "text": [
      "\n",
      "Emotion Validating Correct: 64/99 \n",
      "Emotion Validating Accuracy: 64.64646%\n",
      "Speaker Validating Correct: 30/99 \n",
      "Speaker Validating Accuracy: 30.30303%\n",
      "\n",
      "Current Fold: 0 | Epoch: 39\n"
     ]
    },
    {
     "name": "stdout",
     "output_type": "stream",
     "text": [
      "Emotion Training Correct: 269/288 \n",
      "Emotion Training Accuracy: 93.40278%\n",
      "Speaker Training Correct: 0/288 \n",
      "Speaker Training Accuracy: 0.00000%\n"
     ]
    },
    {
     "name": "stdout",
     "output_type": "stream",
     "text": [
      "\n",
      "Emotion Validating Correct: 66/99 \n",
      "Emotion Validating Accuracy: 66.66667%\n",
      "Speaker Validating Correct: 32/99 \n",
      "Speaker Validating Accuracy: 32.32323%\n",
      "\n",
      "Current Fold: 0 | Epoch: 40\n"
     ]
    },
    {
     "name": "stdout",
     "output_type": "stream",
     "text": [
      "Emotion Training Correct: 268/288 \n",
      "Emotion Training Accuracy: 93.05556%\n",
      "Speaker Training Correct: 0/288 \n",
      "Speaker Training Accuracy: 0.00000%\n"
     ]
    },
    {
     "name": "stdout",
     "output_type": "stream",
     "text": [
      "\n",
      "Emotion Validating Correct: 64/99 \n",
      "Emotion Validating Accuracy: 64.64646%\n",
      "Speaker Validating Correct: 27/99 \n",
      "Speaker Validating Accuracy: 27.27273%\n",
      "\n",
      "Current Fold: 0 | Epoch: 41\n"
     ]
    },
    {
     "name": "stdout",
     "output_type": "stream",
     "text": [
      "Emotion Training Correct: 268/288 \n",
      "Emotion Training Accuracy: 93.05556%\n",
      "Speaker Training Correct: 0/288 \n",
      "Speaker Training Accuracy: 0.00000%\n"
     ]
    },
    {
     "name": "stdout",
     "output_type": "stream",
     "text": [
      "\n",
      "Emotion Validating Correct: 62/99 \n",
      "Emotion Validating Accuracy: 62.62626%\n",
      "Speaker Validating Correct: 26/99 \n",
      "Speaker Validating Accuracy: 26.26263%\n",
      "\n",
      "Current Fold: 0 | Epoch: 42\n"
     ]
    },
    {
     "name": "stdout",
     "output_type": "stream",
     "text": [
      "Emotion Training Correct: 270/288 \n",
      "Emotion Training Accuracy: 93.75000%\n",
      "Speaker Training Correct: 0/288 \n",
      "Speaker Training Accuracy: 0.00000%\n"
     ]
    },
    {
     "name": "stdout",
     "output_type": "stream",
     "text": [
      "\n",
      "Emotion Validating Correct: 64/99 \n",
      "Emotion Validating Accuracy: 64.64646%\n",
      "Speaker Validating Correct: 26/99 \n",
      "Speaker Validating Accuracy: 26.26263%\n",
      "\n",
      "Current Fold: 0 | Epoch: 43\n"
     ]
    },
    {
     "name": "stdout",
     "output_type": "stream",
     "text": [
      "Emotion Training Correct: 268/288 \n",
      "Emotion Training Accuracy: 93.05556%\n",
      "Speaker Training Correct: 0/288 \n",
      "Speaker Training Accuracy: 0.00000%\n"
     ]
    },
    {
     "name": "stdout",
     "output_type": "stream",
     "text": [
      "\n",
      "Emotion Validating Correct: 58/99 \n",
      "Emotion Validating Accuracy: 58.58586%\n",
      "Speaker Validating Correct: 30/99 \n",
      "Speaker Validating Accuracy: 30.30303%\n",
      "\n",
      "Current Fold: 0 | Epoch: 44\n"
     ]
    },
    {
     "name": "stdout",
     "output_type": "stream",
     "text": [
      "Emotion Training Correct: 266/288 \n",
      "Emotion Training Accuracy: 92.36111%\n",
      "Speaker Training Correct: 0/288 \n",
      "Speaker Training Accuracy: 0.00000%\n"
     ]
    },
    {
     "name": "stdout",
     "output_type": "stream",
     "text": [
      "\n",
      "Emotion Validating Correct: 54/99 \n",
      "Emotion Validating Accuracy: 54.54545%\n",
      "Speaker Validating Correct: 29/99 \n",
      "Speaker Validating Accuracy: 29.29293%\n",
      "\n",
      "Current Fold: 0 | Epoch: 45\n"
     ]
    },
    {
     "name": "stdout",
     "output_type": "stream",
     "text": [
      "Emotion Training Correct: 268/288 \n",
      "Emotion Training Accuracy: 93.05556%\n",
      "Speaker Training Correct: 0/288 \n",
      "Speaker Training Accuracy: 0.00000%\n"
     ]
    },
    {
     "name": "stdout",
     "output_type": "stream",
     "text": [
      "\n",
      "Emotion Validating Correct: 61/99 \n",
      "Emotion Validating Accuracy: 61.61616%\n",
      "Speaker Validating Correct: 30/99 \n",
      "Speaker Validating Accuracy: 30.30303%\n",
      "\n",
      "Current Fold: 0 | Epoch: 46\n"
     ]
    },
    {
     "name": "stdout",
     "output_type": "stream",
     "text": [
      "Emotion Training Correct: 264/288 \n",
      "Emotion Training Accuracy: 91.66667%\n",
      "Speaker Training Correct: 0/288 \n",
      "Speaker Training Accuracy: 0.00000%\n"
     ]
    },
    {
     "name": "stdout",
     "output_type": "stream",
     "text": [
      "\n",
      "Emotion Validating Correct: 57/99 \n",
      "Emotion Validating Accuracy: 57.57576%\n",
      "Speaker Validating Correct: 34/99 \n",
      "Speaker Validating Accuracy: 34.34343%\n",
      "\n",
      "Current Fold: 0 | Epoch: 47\n"
     ]
    },
    {
     "name": "stdout",
     "output_type": "stream",
     "text": [
      "Emotion Training Correct: 269/288 \n",
      "Emotion Training Accuracy: 93.40278%\n",
      "Speaker Training Correct: 0/288 \n",
      "Speaker Training Accuracy: 0.00000%\n"
     ]
    },
    {
     "name": "stdout",
     "output_type": "stream",
     "text": [
      "\n",
      "Emotion Validating Correct: 56/99 \n",
      "Emotion Validating Accuracy: 56.56566%\n",
      "Speaker Validating Correct: 22/99 \n",
      "Speaker Validating Accuracy: 22.22222%\n",
      "\n",
      "Current Fold: 0 | Epoch: 48\n"
     ]
    },
    {
     "name": "stdout",
     "output_type": "stream",
     "text": [
      "Emotion Training Correct: 271/288 \n",
      "Emotion Training Accuracy: 94.09722%\n",
      "Speaker Training Correct: 0/288 \n",
      "Speaker Training Accuracy: 0.00000%\n"
     ]
    },
    {
     "name": "stdout",
     "output_type": "stream",
     "text": [
      "\n",
      "Emotion Validating Correct: 54/99 \n",
      "Emotion Validating Accuracy: 54.54545%\n",
      "Speaker Validating Correct: 26/99 \n",
      "Speaker Validating Accuracy: 26.26263%\n",
      "\n",
      "Current Fold: 0 | Epoch: 49\n"
     ]
    },
    {
     "name": "stdout",
     "output_type": "stream",
     "text": [
      "Emotion Training Correct: 268/288 \n",
      "Emotion Training Accuracy: 93.05556%\n",
      "Speaker Training Correct: 0/288 \n",
      "Speaker Training Accuracy: 0.00000%\n"
     ]
    },
    {
     "name": "stdout",
     "output_type": "stream",
     "text": [
      "\n",
      "Emotion Validating Correct: 62/99 \n",
      "Emotion Validating Accuracy: 62.62626%\n",
      "Speaker Validating Correct: 26/99 \n",
      "Speaker Validating Accuracy: 26.26263%\n",
      "\n",
      "Current Fold: 0 | Epoch: 50\n"
     ]
    },
    {
     "name": "stdout",
     "output_type": "stream",
     "text": [
      "Emotion Training Correct: 270/288 \n",
      "Emotion Training Accuracy: 93.75000%\n",
      "Speaker Training Correct: 0/288 \n",
      "Speaker Training Accuracy: 0.00000%\n"
     ]
    },
    {
     "name": "stdout",
     "output_type": "stream",
     "text": [
      "\n",
      "Emotion Validating Correct: 63/99 \n",
      "Emotion Validating Accuracy: 63.63636%\n",
      "Speaker Validating Correct: 34/99 \n",
      "Speaker Validating Accuracy: 34.34343%\n",
      "\n",
      "Current Fold: 0 | Epoch: 51\n"
     ]
    },
    {
     "name": "stdout",
     "output_type": "stream",
     "text": [
      "Emotion Training Correct: 268/288 \n",
      "Emotion Training Accuracy: 93.05556%\n",
      "Speaker Training Correct: 0/288 \n",
      "Speaker Training Accuracy: 0.00000%\n"
     ]
    },
    {
     "name": "stdout",
     "output_type": "stream",
     "text": [
      "\n",
      "Emotion Validating Correct: 63/99 \n",
      "Emotion Validating Accuracy: 63.63636%\n",
      "Speaker Validating Correct: 42/99 \n",
      "Speaker Validating Accuracy: 42.42424%\n",
      "\n",
      "Current Fold: 0 | Epoch: 52\n"
     ]
    },
    {
     "name": "stdout",
     "output_type": "stream",
     "text": [
      "Emotion Training Correct: 269/288 \n",
      "Emotion Training Accuracy: 93.40278%\n",
      "Speaker Training Correct: 0/288 \n",
      "Speaker Training Accuracy: 0.00000%\n"
     ]
    },
    {
     "name": "stdout",
     "output_type": "stream",
     "text": [
      "\n",
      "Emotion Validating Correct: 62/99 \n",
      "Emotion Validating Accuracy: 62.62626%\n",
      "Speaker Validating Correct: 34/99 \n",
      "Speaker Validating Accuracy: 34.34343%\n",
      "\n",
      "Current Fold: 0 | Epoch: 53\n"
     ]
    },
    {
     "name": "stdout",
     "output_type": "stream",
     "text": [
      "Emotion Training Correct: 268/288 \n",
      "Emotion Training Accuracy: 93.05556%\n",
      "Speaker Training Correct: 0/288 \n",
      "Speaker Training Accuracy: 0.00000%\n"
     ]
    },
    {
     "name": "stdout",
     "output_type": "stream",
     "text": [
      "\n",
      "Emotion Validating Correct: 62/99 \n",
      "Emotion Validating Accuracy: 62.62626%\n",
      "Speaker Validating Correct: 23/99 \n",
      "Speaker Validating Accuracy: 23.23232%\n",
      "\n",
      "Current Fold: 0 | Epoch: 54\n"
     ]
    },
    {
     "name": "stdout",
     "output_type": "stream",
     "text": [
      "Emotion Training Correct: 266/288 \n",
      "Emotion Training Accuracy: 92.36111%\n",
      "Speaker Training Correct: 0/288 \n",
      "Speaker Training Accuracy: 0.00000%\n"
     ]
    },
    {
     "name": "stdout",
     "output_type": "stream",
     "text": [
      "\n",
      "Emotion Validating Correct: 58/99 \n",
      "Emotion Validating Accuracy: 58.58586%\n",
      "Speaker Validating Correct: 24/99 \n",
      "Speaker Validating Accuracy: 24.24242%\n",
      "\n",
      "Current Fold: 0 | Epoch: 55\n"
     ]
    },
    {
     "name": "stdout",
     "output_type": "stream",
     "text": [
      "Emotion Training Correct: 262/288 \n",
      "Emotion Training Accuracy: 90.97222%\n",
      "Speaker Training Correct: 0/288 \n",
      "Speaker Training Accuracy: 0.00000%\n"
     ]
    },
    {
     "name": "stdout",
     "output_type": "stream",
     "text": [
      "\n",
      "Emotion Validating Correct: 57/99 \n",
      "Emotion Validating Accuracy: 57.57576%\n",
      "Speaker Validating Correct: 30/99 \n",
      "Speaker Validating Accuracy: 30.30303%\n",
      "\n",
      "Current Fold: 0 | Epoch: 56\n"
     ]
    },
    {
     "name": "stdout",
     "output_type": "stream",
     "text": [
      "Emotion Training Correct: 257/288 \n",
      "Emotion Training Accuracy: 89.23611%\n",
      "Speaker Training Correct: 0/288 \n",
      "Speaker Training Accuracy: 0.00000%\n"
     ]
    },
    {
     "name": "stdout",
     "output_type": "stream",
     "text": [
      "\n",
      "Emotion Validating Correct: 62/99 \n",
      "Emotion Validating Accuracy: 62.62626%\n",
      "Speaker Validating Correct: 32/99 \n",
      "Speaker Validating Accuracy: 32.32323%\n",
      "\n",
      "Current Fold: 0 | Epoch: 57\n"
     ]
    },
    {
     "name": "stdout",
     "output_type": "stream",
     "text": [
      "Emotion Training Correct: 270/288 \n",
      "Emotion Training Accuracy: 93.75000%\n",
      "Speaker Training Correct: 0/288 \n",
      "Speaker Training Accuracy: 0.00000%\n"
     ]
    },
    {
     "name": "stdout",
     "output_type": "stream",
     "text": [
      "\n",
      "Emotion Validating Correct: 58/99 \n",
      "Emotion Validating Accuracy: 58.58586%\n",
      "Speaker Validating Correct: 32/99 \n",
      "Speaker Validating Accuracy: 32.32323%\n",
      "\n",
      "Current Fold: 0 | Epoch: 58\n"
     ]
    },
    {
     "name": "stdout",
     "output_type": "stream",
     "text": [
      "Emotion Training Correct: 267/288 \n",
      "Emotion Training Accuracy: 92.70833%\n",
      "Speaker Training Correct: 0/288 \n",
      "Speaker Training Accuracy: 0.00000%\n"
     ]
    },
    {
     "name": "stdout",
     "output_type": "stream",
     "text": [
      "\n",
      "Emotion Validating Correct: 58/99 \n",
      "Emotion Validating Accuracy: 58.58586%\n",
      "Speaker Validating Correct: 27/99 \n",
      "Speaker Validating Accuracy: 27.27273%\n",
      "\n",
      "Current Fold: 0 | Epoch: 59\n"
     ]
    },
    {
     "name": "stdout",
     "output_type": "stream",
     "text": [
      "Emotion Training Correct: 267/288 \n",
      "Emotion Training Accuracy: 92.70833%\n",
      "Speaker Training Correct: 0/288 \n",
      "Speaker Training Accuracy: 0.00000%\n"
     ]
    },
    {
     "name": "stdout",
     "output_type": "stream",
     "text": [
      "\n",
      "Emotion Validating Correct: 54/99 \n",
      "Emotion Validating Accuracy: 54.54545%\n",
      "Speaker Validating Correct: 25/99 \n",
      "Speaker Validating Accuracy: 25.25253%\n",
      "\n",
      "Current Fold: 0 | Epoch: 60\n"
     ]
    },
    {
     "name": "stdout",
     "output_type": "stream",
     "text": [
      "Emotion Training Correct: 268/288 \n",
      "Emotion Training Accuracy: 93.05556%\n",
      "Speaker Training Correct: 0/288 \n",
      "Speaker Training Accuracy: 0.00000%\n"
     ]
    },
    {
     "name": "stdout",
     "output_type": "stream",
     "text": [
      "\n",
      "Emotion Validating Correct: 60/99 \n",
      "Emotion Validating Accuracy: 60.60606%\n",
      "Speaker Validating Correct: 36/99 \n",
      "Speaker Validating Accuracy: 36.36364%\n",
      "\n",
      "Current Fold: 0 | Epoch: 61\n"
     ]
    },
    {
     "name": "stdout",
     "output_type": "stream",
     "text": [
      "Emotion Training Correct: 274/288 \n",
      "Emotion Training Accuracy: 95.13889%\n",
      "Speaker Training Correct: 0/288 \n",
      "Speaker Training Accuracy: 0.00000%\n"
     ]
    },
    {
     "name": "stdout",
     "output_type": "stream",
     "text": [
      "\n",
      "Emotion Validating Correct: 63/99 \n",
      "Emotion Validating Accuracy: 63.63636%\n",
      "Speaker Validating Correct: 29/99 \n",
      "Speaker Validating Accuracy: 29.29293%\n",
      "\n",
      "Current Fold: 0 | Epoch: 62\n"
     ]
    },
    {
     "name": "stdout",
     "output_type": "stream",
     "text": [
      "Emotion Training Correct: 274/288 \n",
      "Emotion Training Accuracy: 95.13889%\n",
      "Speaker Training Correct: 0/288 \n",
      "Speaker Training Accuracy: 0.00000%\n"
     ]
    },
    {
     "name": "stdout",
     "output_type": "stream",
     "text": [
      "\n",
      "Emotion Validating Correct: 64/99 \n",
      "Emotion Validating Accuracy: 64.64646%\n",
      "Speaker Validating Correct: 28/99 \n",
      "Speaker Validating Accuracy: 28.28283%\n",
      "\n",
      "Current Fold: 0 | Epoch: 63\n"
     ]
    },
    {
     "name": "stdout",
     "output_type": "stream",
     "text": [
      "Emotion Training Correct: 279/288 \n",
      "Emotion Training Accuracy: 96.87500%\n",
      "Speaker Training Correct: 0/288 \n",
      "Speaker Training Accuracy: 0.00000%\n"
     ]
    },
    {
     "name": "stdout",
     "output_type": "stream",
     "text": [
      "\n",
      "Emotion Validating Correct: 61/99 \n",
      "Emotion Validating Accuracy: 61.61616%\n",
      "Speaker Validating Correct: 25/99 \n",
      "Speaker Validating Accuracy: 25.25253%\n",
      "\n",
      "Current Fold: 0 | Epoch: 64\n"
     ]
    },
    {
     "name": "stdout",
     "output_type": "stream",
     "text": [
      "Emotion Training Correct: 281/288 \n",
      "Emotion Training Accuracy: 97.56944%\n",
      "Speaker Training Correct: 0/288 \n",
      "Speaker Training Accuracy: 0.00000%\n"
     ]
    },
    {
     "name": "stdout",
     "output_type": "stream",
     "text": [
      "\n",
      "Emotion Validating Correct: 58/99 \n",
      "Emotion Validating Accuracy: 58.58586%\n",
      "Speaker Validating Correct: 28/99 \n",
      "Speaker Validating Accuracy: 28.28283%\n",
      "\n",
      "Current Fold: 0 | Epoch: 65\n"
     ]
    },
    {
     "name": "stdout",
     "output_type": "stream",
     "text": [
      "Emotion Training Correct: 284/288 \n",
      "Emotion Training Accuracy: 98.61111%\n",
      "Speaker Training Correct: 0/288 \n",
      "Speaker Training Accuracy: 0.00000%\n"
     ]
    },
    {
     "name": "stdout",
     "output_type": "stream",
     "text": [
      "\n",
      "Emotion Validating Correct: 65/99 \n",
      "Emotion Validating Accuracy: 65.65657%\n",
      "Speaker Validating Correct: 29/99 \n",
      "Speaker Validating Accuracy: 29.29293%\n",
      "\n",
      "Current Fold: 0 | Epoch: 66\n"
     ]
    },
    {
     "name": "stdout",
     "output_type": "stream",
     "text": [
      "Emotion Training Correct: 287/288 \n",
      "Emotion Training Accuracy: 99.65278%\n",
      "Speaker Training Correct: 0/288 \n",
      "Speaker Training Accuracy: 0.00000%\n"
     ]
    },
    {
     "name": "stdout",
     "output_type": "stream",
     "text": [
      "\n",
      "Emotion Validating Correct: 64/99 \n",
      "Emotion Validating Accuracy: 64.64646%\n",
      "Speaker Validating Correct: 28/99 \n",
      "Speaker Validating Accuracy: 28.28283%\n",
      "\n",
      "Current Fold: 0 | Epoch: 67\n"
     ]
    },
    {
     "name": "stdout",
     "output_type": "stream",
     "text": [
      "Emotion Training Correct: 288/288 \n",
      "Emotion Training Accuracy: 100.00000%\n",
      "Speaker Training Correct: 0/288 \n",
      "Speaker Training Accuracy: 0.00000%\n"
     ]
    },
    {
     "name": "stdout",
     "output_type": "stream",
     "text": [
      "\n",
      "Emotion Validating Correct: 62/99 \n",
      "Emotion Validating Accuracy: 62.62626%\n",
      "Speaker Validating Correct: 28/99 \n",
      "Speaker Validating Accuracy: 28.28283%\n",
      "\n",
      "Current Fold: 0 | Epoch: 68\n"
     ]
    },
    {
     "name": "stdout",
     "output_type": "stream",
     "text": [
      "Emotion Training Correct: 280/288 \n",
      "Emotion Training Accuracy: 97.22222%\n",
      "Speaker Training Correct: 0/288 \n",
      "Speaker Training Accuracy: 0.00000%\n"
     ]
    },
    {
     "name": "stdout",
     "output_type": "stream",
     "text": [
      "\n",
      "Emotion Validating Correct: 62/99 \n",
      "Emotion Validating Accuracy: 62.62626%\n",
      "Speaker Validating Correct: 36/99 \n",
      "Speaker Validating Accuracy: 36.36364%\n",
      "\n",
      "Current Fold: 0 | Epoch: 69\n"
     ]
    },
    {
     "name": "stdout",
     "output_type": "stream",
     "text": [
      "Emotion Training Correct: 286/288 \n",
      "Emotion Training Accuracy: 99.30556%\n",
      "Speaker Training Correct: 0/288 \n",
      "Speaker Training Accuracy: 0.00000%\n"
     ]
    },
    {
     "name": "stdout",
     "output_type": "stream",
     "text": [
      "\n",
      "Emotion Validating Correct: 65/99 \n",
      "Emotion Validating Accuracy: 65.65657%\n",
      "Speaker Validating Correct: 28/99 \n",
      "Speaker Validating Accuracy: 28.28283%\n",
      "\n",
      "Current Fold: 0 | Epoch: 70\n"
     ]
    },
    {
     "name": "stdout",
     "output_type": "stream",
     "text": [
      "Emotion Training Correct: 288/288 \n",
      "Emotion Training Accuracy: 100.00000%\n",
      "Speaker Training Correct: 0/288 \n",
      "Speaker Training Accuracy: 0.00000%\n"
     ]
    },
    {
     "name": "stdout",
     "output_type": "stream",
     "text": [
      "\n",
      "Emotion Validating Correct: 72/99 \n",
      "Emotion Validating Accuracy: 72.72727%\n",
      "Speaker Validating Correct: 28/99 \n",
      "Speaker Validating Accuracy: 28.28283%\n",
      "Models' parameters and optimisers' parameters saved.\n",
      "\n",
      "Current Fold: 0 | Epoch: 71\n"
     ]
    },
    {
     "name": "stdout",
     "output_type": "stream",
     "text": [
      "Emotion Training Correct: 288/288 \n",
      "Emotion Training Accuracy: 100.00000%\n",
      "Speaker Training Correct: 0/288 \n",
      "Speaker Training Accuracy: 0.00000%\n"
     ]
    },
    {
     "name": "stdout",
     "output_type": "stream",
     "text": [
      "\n",
      "Emotion Validating Correct: 72/99 \n",
      "Emotion Validating Accuracy: 72.72727%\n",
      "Speaker Validating Correct: 29/99 \n",
      "Speaker Validating Accuracy: 29.29293%\n",
      "Models' parameters and optimisers' parameters saved.\n",
      "\n",
      "Current Fold: 0 | Epoch: 72\n"
     ]
    },
    {
     "name": "stdout",
     "output_type": "stream",
     "text": [
      "Emotion Training Correct: 283/288 \n",
      "Emotion Training Accuracy: 98.26389%\n",
      "Speaker Training Correct: 0/288 \n",
      "Speaker Training Accuracy: 0.00000%\n"
     ]
    },
    {
     "name": "stdout",
     "output_type": "stream",
     "text": [
      "\n",
      "Emotion Validating Correct: 72/99 \n",
      "Emotion Validating Accuracy: 72.72727%\n",
      "Speaker Validating Correct: 34/99 \n",
      "Speaker Validating Accuracy: 34.34343%\n",
      "Models' parameters and optimisers' parameters saved.\n",
      "\n",
      "Current Fold: 0 | Epoch: 73\n"
     ]
    },
    {
     "name": "stdout",
     "output_type": "stream",
     "text": [
      "Emotion Training Correct: 288/288 \n",
      "Emotion Training Accuracy: 100.00000%\n",
      "Speaker Training Correct: 0/288 \n",
      "Speaker Training Accuracy: 0.00000%\n"
     ]
    },
    {
     "name": "stdout",
     "output_type": "stream",
     "text": [
      "\n",
      "Emotion Validating Correct: 67/99 \n",
      "Emotion Validating Accuracy: 67.67677%\n",
      "Speaker Validating Correct: 31/99 \n",
      "Speaker Validating Accuracy: 31.31313%\n",
      "\n",
      "Current Fold: 0 | Epoch: 74\n"
     ]
    },
    {
     "name": "stdout",
     "output_type": "stream",
     "text": [
      "Emotion Training Correct: 288/288 \n",
      "Emotion Training Accuracy: 100.00000%\n",
      "Speaker Training Correct: 0/288 \n",
      "Speaker Training Accuracy: 0.00000%\n"
     ]
    },
    {
     "name": "stdout",
     "output_type": "stream",
     "text": [
      "\n",
      "Emotion Validating Correct: 65/99 \n",
      "Emotion Validating Accuracy: 65.65657%\n",
      "Speaker Validating Correct: 35/99 \n",
      "Speaker Validating Accuracy: 35.35354%\n",
      "\n",
      "Current Fold: 0 | Epoch: 75\n"
     ]
    },
    {
     "name": "stdout",
     "output_type": "stream",
     "text": [
      "Emotion Training Correct: 288/288 \n",
      "Emotion Training Accuracy: 100.00000%\n",
      "Speaker Training Correct: 0/288 \n",
      "Speaker Training Accuracy: 0.00000%\n"
     ]
    },
    {
     "name": "stdout",
     "output_type": "stream",
     "text": [
      "\n",
      "Emotion Validating Correct: 66/99 \n",
      "Emotion Validating Accuracy: 66.66667%\n",
      "Speaker Validating Correct: 35/99 \n",
      "Speaker Validating Accuracy: 35.35354%\n",
      "\n",
      "Current Fold: 0 | Epoch: 76\n"
     ]
    },
    {
     "name": "stdout",
     "output_type": "stream",
     "text": [
      "Emotion Training Correct: 288/288 \n",
      "Emotion Training Accuracy: 100.00000%\n",
      "Speaker Training Correct: 0/288 \n",
      "Speaker Training Accuracy: 0.00000%\n"
     ]
    },
    {
     "name": "stdout",
     "output_type": "stream",
     "text": [
      "\n",
      "Emotion Validating Correct: 71/99 \n",
      "Emotion Validating Accuracy: 71.71717%\n",
      "Speaker Validating Correct: 34/99 \n",
      "Speaker Validating Accuracy: 34.34343%\n",
      "\n",
      "Current Fold: 0 | Epoch: 77\n"
     ]
    },
    {
     "name": "stdout",
     "output_type": "stream",
     "text": [
      "Emotion Training Correct: 288/288 \n",
      "Emotion Training Accuracy: 100.00000%\n",
      "Speaker Training Correct: 0/288 \n",
      "Speaker Training Accuracy: 0.00000%\n"
     ]
    },
    {
     "name": "stdout",
     "output_type": "stream",
     "text": [
      "\n",
      "Emotion Validating Correct: 68/99 \n",
      "Emotion Validating Accuracy: 68.68687%\n",
      "Speaker Validating Correct: 28/99 \n",
      "Speaker Validating Accuracy: 28.28283%\n",
      "\n",
      "Current Fold: 0 | Epoch: 78\n"
     ]
    },
    {
     "name": "stdout",
     "output_type": "stream",
     "text": [
      "Emotion Training Correct: 288/288 \n",
      "Emotion Training Accuracy: 100.00000%\n",
      "Speaker Training Correct: 0/288 \n",
      "Speaker Training Accuracy: 0.00000%\n"
     ]
    },
    {
     "name": "stdout",
     "output_type": "stream",
     "text": [
      "\n",
      "Emotion Validating Correct: 65/99 \n",
      "Emotion Validating Accuracy: 65.65657%\n",
      "Speaker Validating Correct: 28/99 \n",
      "Speaker Validating Accuracy: 28.28283%\n",
      "\n",
      "Current Fold: 0 | Epoch: 79\n"
     ]
    },
    {
     "name": "stdout",
     "output_type": "stream",
     "text": [
      "Emotion Training Correct: 288/288 \n",
      "Emotion Training Accuracy: 100.00000%\n",
      "Speaker Training Correct: 0/288 \n",
      "Speaker Training Accuracy: 0.00000%\n"
     ]
    },
    {
     "name": "stdout",
     "output_type": "stream",
     "text": [
      "\n",
      "Emotion Validating Correct: 65/99 \n",
      "Emotion Validating Accuracy: 65.65657%\n",
      "Speaker Validating Correct: 27/99 \n",
      "Speaker Validating Accuracy: 27.27273%\n",
      "\n",
      "Current Fold: 0 | Epoch: 80\n"
     ]
    },
    {
     "name": "stdout",
     "output_type": "stream",
     "text": [
      "Emotion Training Correct: 288/288 \n",
      "Emotion Training Accuracy: 100.00000%\n",
      "Speaker Training Correct: 0/288 \n",
      "Speaker Training Accuracy: 0.00000%\n"
     ]
    },
    {
     "name": "stdout",
     "output_type": "stream",
     "text": [
      "\n",
      "Emotion Validating Correct: 66/99 \n",
      "Emotion Validating Accuracy: 66.66667%\n",
      "Speaker Validating Correct: 27/99 \n",
      "Speaker Validating Accuracy: 27.27273%\n",
      "\n",
      "Current Fold: 0 | Epoch: 81\n"
     ]
    },
    {
     "name": "stdout",
     "output_type": "stream",
     "text": [
      "Emotion Training Correct: 287/288 \n",
      "Emotion Training Accuracy: 99.65278%\n",
      "Speaker Training Correct: 0/288 \n",
      "Speaker Training Accuracy: 0.00000%\n"
     ]
    },
    {
     "name": "stdout",
     "output_type": "stream",
     "text": [
      "\n",
      "Emotion Validating Correct: 70/99 \n",
      "Emotion Validating Accuracy: 70.70707%\n",
      "Speaker Validating Correct: 28/99 \n",
      "Speaker Validating Accuracy: 28.28283%\n",
      "\n",
      "Current Fold: 0 | Epoch: 82\n"
     ]
    },
    {
     "name": "stdout",
     "output_type": "stream",
     "text": [
      "Emotion Training Correct: 288/288 \n",
      "Emotion Training Accuracy: 100.00000%\n",
      "Speaker Training Correct: 0/288 \n",
      "Speaker Training Accuracy: 0.00000%\n"
     ]
    },
    {
     "name": "stdout",
     "output_type": "stream",
     "text": [
      "\n",
      "Emotion Validating Correct: 73/99 \n",
      "Emotion Validating Accuracy: 73.73737%\n",
      "Speaker Validating Correct: 28/99 \n",
      "Speaker Validating Accuracy: 28.28283%\n",
      "Models' parameters and optimisers' parameters saved.\n",
      "\n",
      "Current Fold: 0 | Epoch: 83\n"
     ]
    },
    {
     "name": "stdout",
     "output_type": "stream",
     "text": [
      "Emotion Training Correct: 288/288 \n",
      "Emotion Training Accuracy: 100.00000%\n",
      "Speaker Training Correct: 0/288 \n",
      "Speaker Training Accuracy: 0.00000%\n"
     ]
    },
    {
     "name": "stdout",
     "output_type": "stream",
     "text": [
      "\n",
      "Emotion Validating Correct: 59/99 \n",
      "Emotion Validating Accuracy: 59.59596%\n",
      "Speaker Validating Correct: 34/99 \n",
      "Speaker Validating Accuracy: 34.34343%\n",
      "\n",
      "Current Fold: 0 | Epoch: 84\n"
     ]
    },
    {
     "name": "stdout",
     "output_type": "stream",
     "text": [
      "Emotion Training Correct: 288/288 \n",
      "Emotion Training Accuracy: 100.00000%\n",
      "Speaker Training Correct: 0/288 \n",
      "Speaker Training Accuracy: 0.00000%\n"
     ]
    },
    {
     "name": "stdout",
     "output_type": "stream",
     "text": [
      "\n",
      "Emotion Validating Correct: 64/99 \n",
      "Emotion Validating Accuracy: 64.64646%\n",
      "Speaker Validating Correct: 31/99 \n",
      "Speaker Validating Accuracy: 31.31313%\n",
      "\n",
      "Current Fold: 0 | Epoch: 85\n"
     ]
    },
    {
     "name": "stdout",
     "output_type": "stream",
     "text": [
      "Emotion Training Correct: 288/288 \n",
      "Emotion Training Accuracy: 100.00000%\n",
      "Speaker Training Correct: 0/288 \n",
      "Speaker Training Accuracy: 0.00000%\n"
     ]
    },
    {
     "name": "stdout",
     "output_type": "stream",
     "text": [
      "\n",
      "Emotion Validating Correct: 66/99 \n",
      "Emotion Validating Accuracy: 66.66667%\n",
      "Speaker Validating Correct: 29/99 \n",
      "Speaker Validating Accuracy: 29.29293%\n",
      "\n",
      "Current Fold: 0 | Epoch: 86\n"
     ]
    },
    {
     "name": "stdout",
     "output_type": "stream",
     "text": [
      "Emotion Training Correct: 288/288 \n",
      "Emotion Training Accuracy: 100.00000%\n",
      "Speaker Training Correct: 0/288 \n",
      "Speaker Training Accuracy: 0.00000%\n"
     ]
    },
    {
     "name": "stdout",
     "output_type": "stream",
     "text": [
      "\n",
      "Emotion Validating Correct: 68/99 \n",
      "Emotion Validating Accuracy: 68.68687%\n",
      "Speaker Validating Correct: 28/99 \n",
      "Speaker Validating Accuracy: 28.28283%\n",
      "\n",
      "Current Fold: 0 | Epoch: 87\n"
     ]
    },
    {
     "name": "stdout",
     "output_type": "stream",
     "text": [
      "Emotion Training Correct: 288/288 \n",
      "Emotion Training Accuracy: 100.00000%\n",
      "Speaker Training Correct: 0/288 \n",
      "Speaker Training Accuracy: 0.00000%\n"
     ]
    },
    {
     "name": "stdout",
     "output_type": "stream",
     "text": [
      "\n",
      "Emotion Validating Correct: 69/99 \n",
      "Emotion Validating Accuracy: 69.69697%\n",
      "Speaker Validating Correct: 30/99 \n",
      "Speaker Validating Accuracy: 30.30303%\n",
      "\n",
      "Current Fold: 0 | Epoch: 88\n"
     ]
    },
    {
     "name": "stdout",
     "output_type": "stream",
     "text": [
      "Emotion Training Correct: 288/288 \n",
      "Emotion Training Accuracy: 100.00000%\n",
      "Speaker Training Correct: 0/288 \n",
      "Speaker Training Accuracy: 0.00000%\n"
     ]
    },
    {
     "name": "stdout",
     "output_type": "stream",
     "text": [
      "\n",
      "Emotion Validating Correct: 75/99 \n",
      "Emotion Validating Accuracy: 75.75758%\n",
      "Speaker Validating Correct: 30/99 \n",
      "Speaker Validating Accuracy: 30.30303%\n"
     ]
    },
    {
     "name": "stdout",
     "output_type": "stream",
     "text": [
      "Models' parameters and optimisers' parameters saved.\n",
      "\n",
      "Current Fold: 0 | Epoch: 89\n"
     ]
    },
    {
     "name": "stdout",
     "output_type": "stream",
     "text": [
      "Emotion Training Correct: 288/288 \n",
      "Emotion Training Accuracy: 100.00000%\n",
      "Speaker Training Correct: 0/288 \n",
      "Speaker Training Accuracy: 0.00000%\n"
     ]
    },
    {
     "name": "stdout",
     "output_type": "stream",
     "text": [
      "\n",
      "Emotion Validating Correct: 70/99 \n",
      "Emotion Validating Accuracy: 70.70707%\n",
      "Speaker Validating Correct: 31/99 \n",
      "Speaker Validating Accuracy: 31.31313%\n",
      "\n",
      "Current Fold: 0 | Epoch: 90\n"
     ]
    },
    {
     "name": "stdout",
     "output_type": "stream",
     "text": [
      "Emotion Training Correct: 288/288 \n",
      "Emotion Training Accuracy: 100.00000%\n",
      "Speaker Training Correct: 0/288 \n",
      "Speaker Training Accuracy: 0.00000%\n"
     ]
    },
    {
     "name": "stdout",
     "output_type": "stream",
     "text": [
      "\n",
      "Emotion Validating Correct: 67/99 \n",
      "Emotion Validating Accuracy: 67.67677%\n",
      "Speaker Validating Correct: 28/99 \n",
      "Speaker Validating Accuracy: 28.28283%\n",
      "\n",
      "Current Fold: 0 | Epoch: 91\n"
     ]
    },
    {
     "name": "stdout",
     "output_type": "stream",
     "text": [
      "Emotion Training Correct: 288/288 \n",
      "Emotion Training Accuracy: 100.00000%\n",
      "Speaker Training Correct: 0/288 \n",
      "Speaker Training Accuracy: 0.00000%\n"
     ]
    },
    {
     "name": "stdout",
     "output_type": "stream",
     "text": [
      "\n",
      "Emotion Validating Correct: 71/99 \n",
      "Emotion Validating Accuracy: 71.71717%\n",
      "Speaker Validating Correct: 34/99 \n",
      "Speaker Validating Accuracy: 34.34343%\n",
      "\n",
      "Current Fold: 0 | Epoch: 92\n"
     ]
    },
    {
     "name": "stdout",
     "output_type": "stream",
     "text": [
      "Emotion Training Correct: 288/288 \n",
      "Emotion Training Accuracy: 100.00000%\n",
      "Speaker Training Correct: 0/288 \n",
      "Speaker Training Accuracy: 0.00000%\n"
     ]
    },
    {
     "name": "stdout",
     "output_type": "stream",
     "text": [
      "\n",
      "Emotion Validating Correct: 69/99 \n",
      "Emotion Validating Accuracy: 69.69697%\n",
      "Speaker Validating Correct: 36/99 \n",
      "Speaker Validating Accuracy: 36.36364%\n",
      "\n",
      "Current Fold: 0 | Epoch: 93\n"
     ]
    },
    {
     "name": "stdout",
     "output_type": "stream",
     "text": [
      "Emotion Training Correct: 273/288 \n",
      "Emotion Training Accuracy: 94.79167%\n",
      "Speaker Training Correct: 0/288 \n",
      "Speaker Training Accuracy: 0.00000%\n"
     ]
    },
    {
     "name": "stdout",
     "output_type": "stream",
     "text": [
      "\n",
      "Emotion Validating Correct: 60/99 \n",
      "Emotion Validating Accuracy: 60.60606%\n",
      "Speaker Validating Correct: 29/99 \n",
      "Speaker Validating Accuracy: 29.29293%\n",
      "\n",
      "Current Fold: 0 | Epoch: 94\n"
     ]
    },
    {
     "name": "stdout",
     "output_type": "stream",
     "text": [
      "Emotion Training Correct: 287/288 \n",
      "Emotion Training Accuracy: 99.65278%\n",
      "Speaker Training Correct: 0/288 \n",
      "Speaker Training Accuracy: 0.00000%\n"
     ]
    },
    {
     "name": "stdout",
     "output_type": "stream",
     "text": [
      "\n",
      "Emotion Validating Correct: 62/99 \n",
      "Emotion Validating Accuracy: 62.62626%\n",
      "Speaker Validating Correct: 29/99 \n",
      "Speaker Validating Accuracy: 29.29293%\n",
      "\n",
      "Current Fold: 0 | Epoch: 95\n"
     ]
    },
    {
     "name": "stdout",
     "output_type": "stream",
     "text": [
      "Emotion Training Correct: 287/288 \n",
      "Emotion Training Accuracy: 99.65278%\n",
      "Speaker Training Correct: 0/288 \n",
      "Speaker Training Accuracy: 0.00000%\n"
     ]
    },
    {
     "name": "stdout",
     "output_type": "stream",
     "text": [
      "\n",
      "Emotion Validating Correct: 71/99 \n",
      "Emotion Validating Accuracy: 71.71717%\n",
      "Speaker Validating Correct: 29/99 \n",
      "Speaker Validating Accuracy: 29.29293%\n",
      "\n",
      "Current Fold: 0 | Epoch: 96\n"
     ]
    },
    {
     "name": "stdout",
     "output_type": "stream",
     "text": [
      "Emotion Training Correct: 282/288 \n",
      "Emotion Training Accuracy: 97.91667%\n",
      "Speaker Training Correct: 0/288 \n",
      "Speaker Training Accuracy: 0.00000%\n"
     ]
    },
    {
     "name": "stdout",
     "output_type": "stream",
     "text": [
      "\n",
      "Emotion Validating Correct: 57/99 \n",
      "Emotion Validating Accuracy: 57.57576%\n",
      "Speaker Validating Correct: 27/99 \n",
      "Speaker Validating Accuracy: 27.27273%\n",
      "\n",
      "Current Fold: 0 | Epoch: 97\n"
     ]
    },
    {
     "name": "stdout",
     "output_type": "stream",
     "text": [
      "Emotion Training Correct: 288/288 \n",
      "Emotion Training Accuracy: 100.00000%\n",
      "Speaker Training Correct: 0/288 \n",
      "Speaker Training Accuracy: 0.00000%\n"
     ]
    },
    {
     "name": "stdout",
     "output_type": "stream",
     "text": [
      "\n",
      "Emotion Validating Correct: 67/99 \n",
      "Emotion Validating Accuracy: 67.67677%\n",
      "Speaker Validating Correct: 29/99 \n",
      "Speaker Validating Accuracy: 29.29293%\n",
      "\n",
      "Current Fold: 0 | Epoch: 98\n"
     ]
    },
    {
     "name": "stdout",
     "output_type": "stream",
     "text": [
      "Emotion Training Correct: 280/288 \n",
      "Emotion Training Accuracy: 97.22222%\n",
      "Speaker Training Correct: 0/288 \n",
      "Speaker Training Accuracy: 0.00000%\n"
     ]
    },
    {
     "name": "stdout",
     "output_type": "stream",
     "text": [
      "\n",
      "Emotion Validating Correct: 68/99 \n",
      "Emotion Validating Accuracy: 68.68687%\n",
      "Speaker Validating Correct: 32/99 \n",
      "Speaker Validating Accuracy: 32.32323%\n",
      "\n",
      "Current Fold: 0 | Epoch: 99\n"
     ]
    },
    {
     "name": "stdout",
     "output_type": "stream",
     "text": [
      "Emotion Training Correct: 287/288 \n",
      "Emotion Training Accuracy: 99.65278%\n",
      "Speaker Training Correct: 0/288 \n",
      "Speaker Training Accuracy: 0.00000%\n"
     ]
    },
    {
     "name": "stdout",
     "output_type": "stream",
     "text": [
      "\n",
      "Emotion Validating Correct: 64/99 \n",
      "Emotion Validating Accuracy: 64.64646%\n",
      "Speaker Validating Correct: 28/99 \n",
      "Speaker Validating Accuracy: 28.28283%\n"
     ]
    },
    {
     "name": "stdout",
     "output_type": "stream",
     "text": [
      "\n",
      "Current Fold: 1 | Epoch: 0\n"
     ]
    },
    {
     "name": "stdout",
     "output_type": "stream",
     "text": [
      "Emotion Training Correct: 115/288 \n",
      "Emotion Training Accuracy: 39.93056%\n",
      "Speaker Training Correct: 1/288 \n",
      "Speaker Training Accuracy: 0.34722%\n"
     ]
    },
    {
     "name": "stdout",
     "output_type": "stream",
     "text": [
      "\n",
      "Emotion Validating Correct: 34/126 \n",
      "Emotion Validating Accuracy: 26.98413%\n",
      "Speaker Validating Correct: 86/126 \n",
      "Speaker Validating Accuracy: 68.25397%\n",
      "\n",
      "Current Fold: 1 | Epoch: 1\n"
     ]
    },
    {
     "name": "stdout",
     "output_type": "stream",
     "text": [
      "Emotion Training Correct: 120/288 \n",
      "Emotion Training Accuracy: 41.66667%\n",
      "Speaker Training Correct: 0/288 \n",
      "Speaker Training Accuracy: 0.00000%\n"
     ]
    },
    {
     "name": "stdout",
     "output_type": "stream",
     "text": [
      "\n",
      "Emotion Validating Correct: 40/126 \n",
      "Emotion Validating Accuracy: 31.74603%\n",
      "Speaker Validating Correct: 84/126 \n",
      "Speaker Validating Accuracy: 66.66667%\n",
      "Models' parameters and optimisers' parameters saved.\n",
      "\n",
      "Current Fold: 1 | Epoch: 2\n"
     ]
    },
    {
     "name": "stdout",
     "output_type": "stream",
     "text": [
      "Emotion Training Correct: 121/288 \n",
      "Emotion Training Accuracy: 42.01389%\n",
      "Speaker Training Correct: 0/288 \n",
      "Speaker Training Accuracy: 0.00000%\n"
     ]
    },
    {
     "name": "stdout",
     "output_type": "stream",
     "text": [
      "\n",
      "Emotion Validating Correct: 49/126 \n",
      "Emotion Validating Accuracy: 38.88889%\n",
      "Speaker Validating Correct: 65/126 \n",
      "Speaker Validating Accuracy: 51.58730%\n"
     ]
    },
    {
     "name": "stdout",
     "output_type": "stream",
     "text": [
      "Models' parameters and optimisers' parameters saved.\n",
      "\n",
      "Current Fold: 1 | Epoch: 3\n"
     ]
    },
    {
     "name": "stdout",
     "output_type": "stream",
     "text": [
      "Emotion Training Correct: 131/288 \n",
      "Emotion Training Accuracy: 45.48611%\n",
      "Speaker Training Correct: 0/288 \n",
      "Speaker Training Accuracy: 0.00000%\n"
     ]
    },
    {
     "name": "stdout",
     "output_type": "stream",
     "text": [
      "\n",
      "Emotion Validating Correct: 50/126 \n",
      "Emotion Validating Accuracy: 39.68254%\n",
      "Speaker Validating Correct: 47/126 \n",
      "Speaker Validating Accuracy: 37.30159%\n",
      "Models' parameters and optimisers' parameters saved.\n",
      "\n",
      "Current Fold: 1 | Epoch: 4\n"
     ]
    },
    {
     "name": "stdout",
     "output_type": "stream",
     "text": [
      "Emotion Training Correct: 151/288 \n",
      "Emotion Training Accuracy: 52.43056%\n",
      "Speaker Training Correct: 0/288 \n",
      "Speaker Training Accuracy: 0.00000%\n"
     ]
    },
    {
     "name": "stdout",
     "output_type": "stream",
     "text": [
      "\n",
      "Emotion Validating Correct: 58/126 \n",
      "Emotion Validating Accuracy: 46.03175%\n",
      "Speaker Validating Correct: 41/126 \n",
      "Speaker Validating Accuracy: 32.53968%\n"
     ]
    },
    {
     "name": "stdout",
     "output_type": "stream",
     "text": [
      "Models' parameters and optimisers' parameters saved.\n",
      "\n",
      "Current Fold: 1 | Epoch: 5\n"
     ]
    },
    {
     "name": "stdout",
     "output_type": "stream",
     "text": [
      "Emotion Training Correct: 149/288 \n",
      "Emotion Training Accuracy: 51.73611%\n",
      "Speaker Training Correct: 0/288 \n",
      "Speaker Training Accuracy: 0.00000%\n"
     ]
    },
    {
     "name": "stdout",
     "output_type": "stream",
     "text": [
      "\n",
      "Emotion Validating Correct: 57/126 \n",
      "Emotion Validating Accuracy: 45.23810%\n",
      "Speaker Validating Correct: 37/126 \n",
      "Speaker Validating Accuracy: 29.36508%\n",
      "\n",
      "Current Fold: 1 | Epoch: 6\n"
     ]
    },
    {
     "name": "stdout",
     "output_type": "stream",
     "text": [
      "Emotion Training Correct: 119/288 \n",
      "Emotion Training Accuracy: 41.31944%\n",
      "Speaker Training Correct: 0/288 \n",
      "Speaker Training Accuracy: 0.00000%\n"
     ]
    },
    {
     "name": "stdout",
     "output_type": "stream",
     "text": [
      "\n",
      "Emotion Validating Correct: 42/126 \n",
      "Emotion Validating Accuracy: 33.33333%\n",
      "Speaker Validating Correct: 46/126 \n",
      "Speaker Validating Accuracy: 36.50794%\n",
      "\n",
      "Current Fold: 1 | Epoch: 7\n"
     ]
    },
    {
     "name": "stdout",
     "output_type": "stream",
     "text": [
      "Emotion Training Correct: 181/288 \n",
      "Emotion Training Accuracy: 62.84722%\n",
      "Speaker Training Correct: 0/288 \n",
      "Speaker Training Accuracy: 0.00000%\n"
     ]
    },
    {
     "name": "stdout",
     "output_type": "stream",
     "text": [
      "\n",
      "Emotion Validating Correct: 64/126 \n",
      "Emotion Validating Accuracy: 50.79365%\n",
      "Speaker Validating Correct: 43/126 \n",
      "Speaker Validating Accuracy: 34.12698%\n",
      "Models' parameters and optimisers' parameters saved.\n",
      "\n",
      "Current Fold: 1 | Epoch: 8\n"
     ]
    },
    {
     "name": "stdout",
     "output_type": "stream",
     "text": [
      "Emotion Training Correct: 197/288 \n",
      "Emotion Training Accuracy: 68.40278%\n",
      "Speaker Training Correct: 0/288 \n",
      "Speaker Training Accuracy: 0.00000%\n"
     ]
    },
    {
     "name": "stdout",
     "output_type": "stream",
     "text": [
      "\n",
      "Emotion Validating Correct: 62/126 \n",
      "Emotion Validating Accuracy: 49.20635%\n",
      "Speaker Validating Correct: 48/126 \n",
      "Speaker Validating Accuracy: 38.09524%\n",
      "\n",
      "Current Fold: 1 | Epoch: 9\n"
     ]
    },
    {
     "name": "stdout",
     "output_type": "stream",
     "text": [
      "Emotion Training Correct: 203/288 \n",
      "Emotion Training Accuracy: 70.48611%\n",
      "Speaker Training Correct: 0/288 \n",
      "Speaker Training Accuracy: 0.00000%\n"
     ]
    },
    {
     "name": "stdout",
     "output_type": "stream",
     "text": [
      "\n",
      "Emotion Validating Correct: 62/126 \n",
      "Emotion Validating Accuracy: 49.20635%\n",
      "Speaker Validating Correct: 52/126 \n",
      "Speaker Validating Accuracy: 41.26984%\n",
      "\n",
      "Current Fold: 1 | Epoch: 10\n"
     ]
    },
    {
     "name": "stdout",
     "output_type": "stream",
     "text": [
      "Emotion Training Correct: 210/288 \n",
      "Emotion Training Accuracy: 72.91667%\n",
      "Speaker Training Correct: 0/288 \n",
      "Speaker Training Accuracy: 0.00000%\n"
     ]
    },
    {
     "name": "stdout",
     "output_type": "stream",
     "text": [
      "\n",
      "Emotion Validating Correct: 67/126 \n",
      "Emotion Validating Accuracy: 53.17460%\n",
      "Speaker Validating Correct: 48/126 \n",
      "Speaker Validating Accuracy: 38.09524%\n"
     ]
    },
    {
     "name": "stdout",
     "output_type": "stream",
     "text": [
      "Models' parameters and optimisers' parameters saved.\n",
      "\n",
      "Current Fold: 1 | Epoch: 11\n"
     ]
    },
    {
     "name": "stdout",
     "output_type": "stream",
     "text": [
      "Emotion Training Correct: 205/288 \n",
      "Emotion Training Accuracy: 71.18056%\n",
      "Speaker Training Correct: 0/288 \n",
      "Speaker Training Accuracy: 0.00000%\n"
     ]
    },
    {
     "name": "stdout",
     "output_type": "stream",
     "text": [
      "\n",
      "Emotion Validating Correct: 64/126 \n",
      "Emotion Validating Accuracy: 50.79365%\n",
      "Speaker Validating Correct: 44/126 \n",
      "Speaker Validating Accuracy: 34.92063%\n",
      "\n",
      "Current Fold: 1 | Epoch: 12\n"
     ]
    },
    {
     "name": "stdout",
     "output_type": "stream",
     "text": [
      "Emotion Training Correct: 200/288 \n",
      "Emotion Training Accuracy: 69.44444%\n",
      "Speaker Training Correct: 0/288 \n",
      "Speaker Training Accuracy: 0.00000%\n"
     ]
    },
    {
     "name": "stdout",
     "output_type": "stream",
     "text": [
      "\n",
      "Emotion Validating Correct: 57/126 \n",
      "Emotion Validating Accuracy: 45.23810%\n",
      "Speaker Validating Correct: 62/126 \n",
      "Speaker Validating Accuracy: 49.20635%\n",
      "\n",
      "Current Fold: 1 | Epoch: 13\n"
     ]
    },
    {
     "name": "stdout",
     "output_type": "stream",
     "text": [
      "Emotion Training Correct: 220/288 \n",
      "Emotion Training Accuracy: 76.38889%\n",
      "Speaker Training Correct: 0/288 \n",
      "Speaker Training Accuracy: 0.00000%\n"
     ]
    },
    {
     "name": "stdout",
     "output_type": "stream",
     "text": [
      "\n",
      "Emotion Validating Correct: 60/126 \n",
      "Emotion Validating Accuracy: 47.61905%\n",
      "Speaker Validating Correct: 53/126 \n",
      "Speaker Validating Accuracy: 42.06349%\n",
      "\n",
      "Current Fold: 1 | Epoch: 14\n"
     ]
    },
    {
     "name": "stdout",
     "output_type": "stream",
     "text": [
      "Emotion Training Correct: 220/288 \n",
      "Emotion Training Accuracy: 76.38889%\n",
      "Speaker Training Correct: 0/288 \n",
      "Speaker Training Accuracy: 0.00000%\n"
     ]
    },
    {
     "name": "stdout",
     "output_type": "stream",
     "text": [
      "\n",
      "Emotion Validating Correct: 65/126 \n",
      "Emotion Validating Accuracy: 51.58730%\n",
      "Speaker Validating Correct: 52/126 \n",
      "Speaker Validating Accuracy: 41.26984%\n",
      "\n",
      "Current Fold: 1 | Epoch: 15\n"
     ]
    },
    {
     "name": "stdout",
     "output_type": "stream",
     "text": [
      "Emotion Training Correct: 239/288 \n",
      "Emotion Training Accuracy: 82.98611%\n",
      "Speaker Training Correct: 0/288 \n",
      "Speaker Training Accuracy: 0.00000%\n"
     ]
    },
    {
     "name": "stdout",
     "output_type": "stream",
     "text": [
      "\n",
      "Emotion Validating Correct: 62/126 \n",
      "Emotion Validating Accuracy: 49.20635%\n",
      "Speaker Validating Correct: 62/126 \n",
      "Speaker Validating Accuracy: 49.20635%\n",
      "\n",
      "Current Fold: 1 | Epoch: 16\n"
     ]
    },
    {
     "name": "stdout",
     "output_type": "stream",
     "text": [
      "Emotion Training Correct: 255/288 \n",
      "Emotion Training Accuracy: 88.54167%\n",
      "Speaker Training Correct: 0/288 \n",
      "Speaker Training Accuracy: 0.00000%\n"
     ]
    },
    {
     "name": "stdout",
     "output_type": "stream",
     "text": [
      "\n",
      "Emotion Validating Correct: 72/126 \n",
      "Emotion Validating Accuracy: 57.14286%\n",
      "Speaker Validating Correct: 50/126 \n",
      "Speaker Validating Accuracy: 39.68254%\n",
      "Models' parameters and optimisers' parameters saved.\n",
      "\n",
      "Current Fold: 1 | Epoch: 17\n"
     ]
    },
    {
     "name": "stdout",
     "output_type": "stream",
     "text": [
      "Emotion Training Correct: 248/288 \n",
      "Emotion Training Accuracy: 86.11111%\n",
      "Speaker Training Correct: 0/288 \n",
      "Speaker Training Accuracy: 0.00000%\n"
     ]
    },
    {
     "name": "stdout",
     "output_type": "stream",
     "text": [
      "\n",
      "Emotion Validating Correct: 76/126 \n",
      "Emotion Validating Accuracy: 60.31746%\n",
      "Speaker Validating Correct: 45/126 \n",
      "Speaker Validating Accuracy: 35.71429%\n",
      "Models' parameters and optimisers' parameters saved.\n",
      "\n",
      "Current Fold: 1 | Epoch: 18\n"
     ]
    },
    {
     "name": "stdout",
     "output_type": "stream",
     "text": [
      "Emotion Training Correct: 259/288 \n",
      "Emotion Training Accuracy: 89.93056%\n",
      "Speaker Training Correct: 0/288 \n",
      "Speaker Training Accuracy: 0.00000%\n"
     ]
    },
    {
     "name": "stdout",
     "output_type": "stream",
     "text": [
      "\n",
      "Emotion Validating Correct: 78/126 \n",
      "Emotion Validating Accuracy: 61.90476%\n",
      "Speaker Validating Correct: 52/126 \n",
      "Speaker Validating Accuracy: 41.26984%\n"
     ]
    },
    {
     "name": "stdout",
     "output_type": "stream",
     "text": [
      "Models' parameters and optimisers' parameters saved.\n",
      "\n",
      "Current Fold: 1 | Epoch: 19\n"
     ]
    },
    {
     "name": "stdout",
     "output_type": "stream",
     "text": [
      "Emotion Training Correct: 233/288 \n",
      "Emotion Training Accuracy: 80.90278%\n",
      "Speaker Training Correct: 0/288 \n",
      "Speaker Training Accuracy: 0.00000%\n"
     ]
    },
    {
     "name": "stdout",
     "output_type": "stream",
     "text": [
      "\n",
      "Emotion Validating Correct: 69/126 \n",
      "Emotion Validating Accuracy: 54.76190%\n",
      "Speaker Validating Correct: 44/126 \n",
      "Speaker Validating Accuracy: 34.92063%\n",
      "\n",
      "Current Fold: 1 | Epoch: 20\n"
     ]
    },
    {
     "name": "stdout",
     "output_type": "stream",
     "text": [
      "Emotion Training Correct: 236/288 \n",
      "Emotion Training Accuracy: 81.94444%\n",
      "Speaker Training Correct: 0/288 \n",
      "Speaker Training Accuracy: 0.00000%\n"
     ]
    },
    {
     "name": "stdout",
     "output_type": "stream",
     "text": [
      "\n",
      "Emotion Validating Correct: 72/126 \n",
      "Emotion Validating Accuracy: 57.14286%\n",
      "Speaker Validating Correct: 48/126 \n",
      "Speaker Validating Accuracy: 38.09524%\n",
      "\n",
      "Current Fold: 1 | Epoch: 21\n"
     ]
    },
    {
     "name": "stdout",
     "output_type": "stream",
     "text": [
      "Emotion Training Correct: 249/288 \n",
      "Emotion Training Accuracy: 86.45833%\n",
      "Speaker Training Correct: 0/288 \n",
      "Speaker Training Accuracy: 0.00000%\n"
     ]
    },
    {
     "name": "stdout",
     "output_type": "stream",
     "text": [
      "\n",
      "Emotion Validating Correct: 74/126 \n",
      "Emotion Validating Accuracy: 58.73016%\n",
      "Speaker Validating Correct: 55/126 \n",
      "Speaker Validating Accuracy: 43.65079%\n",
      "\n",
      "Current Fold: 1 | Epoch: 22\n"
     ]
    },
    {
     "name": "stdout",
     "output_type": "stream",
     "text": [
      "Emotion Training Correct: 255/288 \n",
      "Emotion Training Accuracy: 88.54167%\n",
      "Speaker Training Correct: 0/288 \n",
      "Speaker Training Accuracy: 0.00000%\n"
     ]
    },
    {
     "name": "stdout",
     "output_type": "stream",
     "text": [
      "\n",
      "Emotion Validating Correct: 73/126 \n",
      "Emotion Validating Accuracy: 57.93651%\n",
      "Speaker Validating Correct: 44/126 \n",
      "Speaker Validating Accuracy: 34.92063%\n",
      "\n",
      "Current Fold: 1 | Epoch: 23\n"
     ]
    },
    {
     "name": "stdout",
     "output_type": "stream",
     "text": [
      "Emotion Training Correct: 250/288 \n",
      "Emotion Training Accuracy: 86.80556%\n",
      "Speaker Training Correct: 0/288 \n",
      "Speaker Training Accuracy: 0.00000%\n"
     ]
    },
    {
     "name": "stdout",
     "output_type": "stream",
     "text": [
      "\n",
      "Emotion Validating Correct: 73/126 \n",
      "Emotion Validating Accuracy: 57.93651%\n",
      "Speaker Validating Correct: 50/126 \n",
      "Speaker Validating Accuracy: 39.68254%\n",
      "\n",
      "Current Fold: 1 | Epoch: 24\n"
     ]
    },
    {
     "name": "stdout",
     "output_type": "stream",
     "text": [
      "Emotion Training Correct: 259/288 \n",
      "Emotion Training Accuracy: 89.93056%\n",
      "Speaker Training Correct: 0/288 \n",
      "Speaker Training Accuracy: 0.00000%\n"
     ]
    },
    {
     "name": "stdout",
     "output_type": "stream",
     "text": [
      "\n",
      "Emotion Validating Correct: 76/126 \n",
      "Emotion Validating Accuracy: 60.31746%\n",
      "Speaker Validating Correct: 62/126 \n",
      "Speaker Validating Accuracy: 49.20635%\n",
      "\n",
      "Current Fold: 1 | Epoch: 25\n"
     ]
    },
    {
     "name": "stdout",
     "output_type": "stream",
     "text": [
      "Emotion Training Correct: 261/288 \n",
      "Emotion Training Accuracy: 90.62500%\n",
      "Speaker Training Correct: 0/288 \n",
      "Speaker Training Accuracy: 0.00000%\n"
     ]
    },
    {
     "name": "stdout",
     "output_type": "stream",
     "text": [
      "\n",
      "Emotion Validating Correct: 74/126 \n",
      "Emotion Validating Accuracy: 58.73016%\n",
      "Speaker Validating Correct: 59/126 \n",
      "Speaker Validating Accuracy: 46.82540%\n",
      "\n",
      "Current Fold: 1 | Epoch: 26\n"
     ]
    },
    {
     "name": "stdout",
     "output_type": "stream",
     "text": [
      "Emotion Training Correct: 264/288 \n",
      "Emotion Training Accuracy: 91.66667%\n",
      "Speaker Training Correct: 0/288 \n",
      "Speaker Training Accuracy: 0.00000%\n"
     ]
    },
    {
     "name": "stdout",
     "output_type": "stream",
     "text": [
      "\n",
      "Emotion Validating Correct: 80/126 \n",
      "Emotion Validating Accuracy: 63.49206%\n",
      "Speaker Validating Correct: 51/126 \n",
      "Speaker Validating Accuracy: 40.47619%\n"
     ]
    },
    {
     "name": "stdout",
     "output_type": "stream",
     "text": [
      "Models' parameters and optimisers' parameters saved.\n",
      "\n",
      "Current Fold: 1 | Epoch: 27\n"
     ]
    },
    {
     "name": "stdout",
     "output_type": "stream",
     "text": [
      "Emotion Training Correct: 240/288 \n",
      "Emotion Training Accuracy: 83.33333%\n",
      "Speaker Training Correct: 0/288 \n",
      "Speaker Training Accuracy: 0.00000%\n"
     ]
    },
    {
     "name": "stdout",
     "output_type": "stream",
     "text": [
      "\n",
      "Emotion Validating Correct: 73/126 \n",
      "Emotion Validating Accuracy: 57.93651%\n",
      "Speaker Validating Correct: 46/126 \n",
      "Speaker Validating Accuracy: 36.50794%\n",
      "\n",
      "Current Fold: 1 | Epoch: 28\n"
     ]
    },
    {
     "name": "stdout",
     "output_type": "stream",
     "text": [
      "Emotion Training Correct: 259/288 \n",
      "Emotion Training Accuracy: 89.93056%\n",
      "Speaker Training Correct: 0/288 \n",
      "Speaker Training Accuracy: 0.00000%\n"
     ]
    },
    {
     "name": "stdout",
     "output_type": "stream",
     "text": [
      "\n",
      "Emotion Validating Correct: 77/126 \n",
      "Emotion Validating Accuracy: 61.11111%\n",
      "Speaker Validating Correct: 55/126 \n",
      "Speaker Validating Accuracy: 43.65079%\n",
      "\n",
      "Current Fold: 1 | Epoch: 29\n"
     ]
    },
    {
     "name": "stdout",
     "output_type": "stream",
     "text": [
      "Emotion Training Correct: 256/288 \n",
      "Emotion Training Accuracy: 88.88889%\n",
      "Speaker Training Correct: 0/288 \n",
      "Speaker Training Accuracy: 0.00000%\n"
     ]
    },
    {
     "name": "stdout",
     "output_type": "stream",
     "text": [
      "\n",
      "Emotion Validating Correct: 80/126 \n",
      "Emotion Validating Accuracy: 63.49206%\n",
      "Speaker Validating Correct: 54/126 \n",
      "Speaker Validating Accuracy: 42.85714%\n",
      "Models' parameters and optimisers' parameters saved.\n",
      "\n",
      "Current Fold: 1 | Epoch: 30\n"
     ]
    },
    {
     "name": "stdout",
     "output_type": "stream",
     "text": [
      "Emotion Training Correct: 266/288 \n",
      "Emotion Training Accuracy: 92.36111%\n",
      "Speaker Training Correct: 0/288 \n",
      "Speaker Training Accuracy: 0.00000%\n"
     ]
    },
    {
     "name": "stdout",
     "output_type": "stream",
     "text": [
      "\n",
      "Emotion Validating Correct: 79/126 \n",
      "Emotion Validating Accuracy: 62.69841%\n",
      "Speaker Validating Correct: 54/126 \n",
      "Speaker Validating Accuracy: 42.85714%\n",
      "\n",
      "Current Fold: 1 | Epoch: 31\n"
     ]
    },
    {
     "name": "stdout",
     "output_type": "stream",
     "text": [
      "Emotion Training Correct: 268/288 \n",
      "Emotion Training Accuracy: 93.05556%\n",
      "Speaker Training Correct: 0/288 \n",
      "Speaker Training Accuracy: 0.00000%\n"
     ]
    },
    {
     "name": "stdout",
     "output_type": "stream",
     "text": [
      "\n",
      "Emotion Validating Correct: 73/126 \n",
      "Emotion Validating Accuracy: 57.93651%\n",
      "Speaker Validating Correct: 53/126 \n",
      "Speaker Validating Accuracy: 42.06349%\n",
      "\n",
      "Current Fold: 1 | Epoch: 32\n"
     ]
    },
    {
     "name": "stdout",
     "output_type": "stream",
     "text": [
      "Emotion Training Correct: 267/288 \n",
      "Emotion Training Accuracy: 92.70833%\n",
      "Speaker Training Correct: 0/288 \n",
      "Speaker Training Accuracy: 0.00000%\n"
     ]
    },
    {
     "name": "stdout",
     "output_type": "stream",
     "text": [
      "\n",
      "Emotion Validating Correct: 80/126 \n",
      "Emotion Validating Accuracy: 63.49206%\n",
      "Speaker Validating Correct: 53/126 \n",
      "Speaker Validating Accuracy: 42.06349%\n",
      "Models' parameters and optimisers' parameters saved.\n",
      "\n",
      "Current Fold: 1 | Epoch: 33\n"
     ]
    },
    {
     "name": "stdout",
     "output_type": "stream",
     "text": [
      "Emotion Training Correct: 268/288 \n",
      "Emotion Training Accuracy: 93.05556%\n",
      "Speaker Training Correct: 0/288 \n",
      "Speaker Training Accuracy: 0.00000%\n"
     ]
    },
    {
     "name": "stdout",
     "output_type": "stream",
     "text": [
      "\n",
      "Emotion Validating Correct: 75/126 \n",
      "Emotion Validating Accuracy: 59.52381%\n",
      "Speaker Validating Correct: 50/126 \n",
      "Speaker Validating Accuracy: 39.68254%\n",
      "\n",
      "Current Fold: 1 | Epoch: 34\n"
     ]
    },
    {
     "name": "stdout",
     "output_type": "stream",
     "text": [
      "Emotion Training Correct: 282/288 \n",
      "Emotion Training Accuracy: 97.91667%\n",
      "Speaker Training Correct: 0/288 \n",
      "Speaker Training Accuracy: 0.00000%\n"
     ]
    },
    {
     "name": "stdout",
     "output_type": "stream",
     "text": [
      "\n",
      "Emotion Validating Correct: 84/126 \n",
      "Emotion Validating Accuracy: 66.66667%\n",
      "Speaker Validating Correct: 49/126 \n",
      "Speaker Validating Accuracy: 38.88889%\n",
      "Models' parameters and optimisers' parameters saved.\n",
      "\n",
      "Current Fold: 1 | Epoch: 35\n"
     ]
    },
    {
     "name": "stdout",
     "output_type": "stream",
     "text": [
      "Emotion Training Correct: 284/288 \n",
      "Emotion Training Accuracy: 98.61111%\n",
      "Speaker Training Correct: 0/288 \n",
      "Speaker Training Accuracy: 0.00000%\n"
     ]
    },
    {
     "name": "stdout",
     "output_type": "stream",
     "text": [
      "\n",
      "Emotion Validating Correct: 86/126 \n",
      "Emotion Validating Accuracy: 68.25397%\n",
      "Speaker Validating Correct: 45/126 \n",
      "Speaker Validating Accuracy: 35.71429%\n"
     ]
    },
    {
     "name": "stdout",
     "output_type": "stream",
     "text": [
      "Models' parameters and optimisers' parameters saved.\n",
      "\n",
      "Current Fold: 1 | Epoch: 36\n"
     ]
    },
    {
     "name": "stdout",
     "output_type": "stream",
     "text": [
      "Emotion Training Correct: 273/288 \n",
      "Emotion Training Accuracy: 94.79167%\n",
      "Speaker Training Correct: 0/288 \n",
      "Speaker Training Accuracy: 0.00000%\n"
     ]
    },
    {
     "name": "stdout",
     "output_type": "stream",
     "text": [
      "\n",
      "Emotion Validating Correct: 81/126 \n",
      "Emotion Validating Accuracy: 64.28571%\n",
      "Speaker Validating Correct: 47/126 \n",
      "Speaker Validating Accuracy: 37.30159%\n",
      "\n",
      "Current Fold: 1 | Epoch: 37\n"
     ]
    },
    {
     "name": "stdout",
     "output_type": "stream",
     "text": [
      "Emotion Training Correct: 276/288 \n",
      "Emotion Training Accuracy: 95.83333%\n",
      "Speaker Training Correct: 0/288 \n",
      "Speaker Training Accuracy: 0.00000%\n"
     ]
    },
    {
     "name": "stdout",
     "output_type": "stream",
     "text": [
      "\n",
      "Emotion Validating Correct: 80/126 \n",
      "Emotion Validating Accuracy: 63.49206%\n",
      "Speaker Validating Correct: 55/126 \n",
      "Speaker Validating Accuracy: 43.65079%\n",
      "\n",
      "Current Fold: 1 | Epoch: 38\n"
     ]
    },
    {
     "name": "stdout",
     "output_type": "stream",
     "text": [
      "Emotion Training Correct: 282/288 \n",
      "Emotion Training Accuracy: 97.91667%\n",
      "Speaker Training Correct: 0/288 \n",
      "Speaker Training Accuracy: 0.00000%\n"
     ]
    },
    {
     "name": "stdout",
     "output_type": "stream",
     "text": [
      "\n",
      "Emotion Validating Correct: 89/126 \n",
      "Emotion Validating Accuracy: 70.63492%\n",
      "Speaker Validating Correct: 50/126 \n",
      "Speaker Validating Accuracy: 39.68254%\n",
      "Models' parameters and optimisers' parameters saved.\n",
      "\n",
      "Current Fold: 1 | Epoch: 39\n"
     ]
    },
    {
     "name": "stdout",
     "output_type": "stream",
     "text": [
      "Emotion Training Correct: 287/288 \n",
      "Emotion Training Accuracy: 99.65278%\n",
      "Speaker Training Correct: 0/288 \n",
      "Speaker Training Accuracy: 0.00000%\n"
     ]
    },
    {
     "name": "stdout",
     "output_type": "stream",
     "text": [
      "\n",
      "Emotion Validating Correct: 85/126 \n",
      "Emotion Validating Accuracy: 67.46032%\n",
      "Speaker Validating Correct: 60/126 \n",
      "Speaker Validating Accuracy: 47.61905%\n",
      "\n",
      "Current Fold: 1 | Epoch: 40\n"
     ]
    },
    {
     "name": "stdout",
     "output_type": "stream",
     "text": [
      "Emotion Training Correct: 284/288 \n",
      "Emotion Training Accuracy: 98.61111%\n",
      "Speaker Training Correct: 0/288 \n",
      "Speaker Training Accuracy: 0.00000%\n"
     ]
    },
    {
     "name": "stdout",
     "output_type": "stream",
     "text": [
      "\n",
      "Emotion Validating Correct: 78/126 \n",
      "Emotion Validating Accuracy: 61.90476%\n",
      "Speaker Validating Correct: 56/126 \n",
      "Speaker Validating Accuracy: 44.44444%\n",
      "\n",
      "Current Fold: 1 | Epoch: 41\n"
     ]
    },
    {
     "name": "stdout",
     "output_type": "stream",
     "text": [
      "Emotion Training Correct: 285/288 \n",
      "Emotion Training Accuracy: 98.95833%\n",
      "Speaker Training Correct: 0/288 \n",
      "Speaker Training Accuracy: 0.00000%\n"
     ]
    },
    {
     "name": "stdout",
     "output_type": "stream",
     "text": [
      "\n",
      "Emotion Validating Correct: 82/126 \n",
      "Emotion Validating Accuracy: 65.07937%\n",
      "Speaker Validating Correct: 50/126 \n",
      "Speaker Validating Accuracy: 39.68254%\n",
      "\n",
      "Current Fold: 1 | Epoch: 42\n"
     ]
    },
    {
     "name": "stdout",
     "output_type": "stream",
     "text": [
      "Emotion Training Correct: 284/288 \n",
      "Emotion Training Accuracy: 98.61111%\n",
      "Speaker Training Correct: 0/288 \n",
      "Speaker Training Accuracy: 0.00000%\n"
     ]
    },
    {
     "name": "stdout",
     "output_type": "stream",
     "text": [
      "\n",
      "Emotion Validating Correct: 78/126 \n",
      "Emotion Validating Accuracy: 61.90476%\n",
      "Speaker Validating Correct: 61/126 \n",
      "Speaker Validating Accuracy: 48.41270%\n",
      "\n",
      "Current Fold: 1 | Epoch: 43\n"
     ]
    },
    {
     "name": "stdout",
     "output_type": "stream",
     "text": [
      "Emotion Training Correct: 284/288 \n",
      "Emotion Training Accuracy: 98.61111%\n",
      "Speaker Training Correct: 0/288 \n",
      "Speaker Training Accuracy: 0.00000%\n"
     ]
    },
    {
     "name": "stdout",
     "output_type": "stream",
     "text": [
      "\n",
      "Emotion Validating Correct: 84/126 \n",
      "Emotion Validating Accuracy: 66.66667%\n",
      "Speaker Validating Correct: 53/126 \n",
      "Speaker Validating Accuracy: 42.06349%\n",
      "\n",
      "Current Fold: 1 | Epoch: 44\n"
     ]
    },
    {
     "name": "stdout",
     "output_type": "stream",
     "text": [
      "Emotion Training Correct: 284/288 \n",
      "Emotion Training Accuracy: 98.61111%\n",
      "Speaker Training Correct: 0/288 \n",
      "Speaker Training Accuracy: 0.00000%\n"
     ]
    },
    {
     "name": "stdout",
     "output_type": "stream",
     "text": [
      "\n",
      "Emotion Validating Correct: 84/126 \n",
      "Emotion Validating Accuracy: 66.66667%\n",
      "Speaker Validating Correct: 56/126 \n",
      "Speaker Validating Accuracy: 44.44444%\n",
      "\n",
      "Current Fold: 1 | Epoch: 45\n"
     ]
    },
    {
     "name": "stdout",
     "output_type": "stream",
     "text": [
      "Emotion Training Correct: 283/288 \n",
      "Emotion Training Accuracy: 98.26389%\n",
      "Speaker Training Correct: 0/288 \n",
      "Speaker Training Accuracy: 0.00000%\n"
     ]
    },
    {
     "name": "stdout",
     "output_type": "stream",
     "text": [
      "\n",
      "Emotion Validating Correct: 83/126 \n",
      "Emotion Validating Accuracy: 65.87302%\n",
      "Speaker Validating Correct: 51/126 \n",
      "Speaker Validating Accuracy: 40.47619%\n",
      "\n",
      "Current Fold: 1 | Epoch: 46\n"
     ]
    },
    {
     "name": "stdout",
     "output_type": "stream",
     "text": [
      "Emotion Training Correct: 277/288 \n",
      "Emotion Training Accuracy: 96.18056%\n",
      "Speaker Training Correct: 0/288 \n",
      "Speaker Training Accuracy: 0.00000%\n"
     ]
    },
    {
     "name": "stdout",
     "output_type": "stream",
     "text": [
      "\n",
      "Emotion Validating Correct: 84/126 \n",
      "Emotion Validating Accuracy: 66.66667%\n",
      "Speaker Validating Correct: 50/126 \n",
      "Speaker Validating Accuracy: 39.68254%\n",
      "\n",
      "Current Fold: 1 | Epoch: 47\n"
     ]
    },
    {
     "name": "stdout",
     "output_type": "stream",
     "text": [
      "Emotion Training Correct: 288/288 \n",
      "Emotion Training Accuracy: 100.00000%\n",
      "Speaker Training Correct: 0/288 \n",
      "Speaker Training Accuracy: 0.00000%\n"
     ]
    },
    {
     "name": "stdout",
     "output_type": "stream",
     "text": [
      "\n",
      "Emotion Validating Correct: 86/126 \n",
      "Emotion Validating Accuracy: 68.25397%\n",
      "Speaker Validating Correct: 55/126 \n",
      "Speaker Validating Accuracy: 43.65079%\n",
      "\n",
      "Current Fold: 1 | Epoch: 48\n"
     ]
    },
    {
     "name": "stdout",
     "output_type": "stream",
     "text": [
      "Emotion Training Correct: 288/288 \n",
      "Emotion Training Accuracy: 100.00000%\n",
      "Speaker Training Correct: 0/288 \n",
      "Speaker Training Accuracy: 0.00000%\n"
     ]
    },
    {
     "name": "stdout",
     "output_type": "stream",
     "text": [
      "\n",
      "Emotion Validating Correct: 89/126 \n",
      "Emotion Validating Accuracy: 70.63492%\n",
      "Speaker Validating Correct: 57/126 \n",
      "Speaker Validating Accuracy: 45.23810%\n",
      "Models' parameters and optimisers' parameters saved.\n",
      "\n",
      "Current Fold: 1 | Epoch: 49\n"
     ]
    },
    {
     "name": "stdout",
     "output_type": "stream",
     "text": [
      "Emotion Training Correct: 287/288 \n",
      "Emotion Training Accuracy: 99.65278%\n",
      "Speaker Training Correct: 0/288 \n",
      "Speaker Training Accuracy: 0.00000%\n"
     ]
    },
    {
     "name": "stdout",
     "output_type": "stream",
     "text": [
      "\n",
      "Emotion Validating Correct: 89/126 \n",
      "Emotion Validating Accuracy: 70.63492%\n",
      "Speaker Validating Correct: 49/126 \n",
      "Speaker Validating Accuracy: 38.88889%\n"
     ]
    },
    {
     "name": "stdout",
     "output_type": "stream",
     "text": [
      "Models' parameters and optimisers' parameters saved.\n",
      "\n",
      "Current Fold: 1 | Epoch: 50\n"
     ]
    },
    {
     "name": "stdout",
     "output_type": "stream",
     "text": [
      "Emotion Training Correct: 287/288 \n",
      "Emotion Training Accuracy: 99.65278%\n",
      "Speaker Training Correct: 0/288 \n",
      "Speaker Training Accuracy: 0.00000%\n"
     ]
    },
    {
     "name": "stdout",
     "output_type": "stream",
     "text": [
      "\n",
      "Emotion Validating Correct: 89/126 \n",
      "Emotion Validating Accuracy: 70.63492%\n",
      "Speaker Validating Correct: 47/126 \n",
      "Speaker Validating Accuracy: 37.30159%\n",
      "Models' parameters and optimisers' parameters saved.\n",
      "\n",
      "Current Fold: 1 | Epoch: 51\n"
     ]
    },
    {
     "name": "stdout",
     "output_type": "stream",
     "text": [
      "Emotion Training Correct: 288/288 \n",
      "Emotion Training Accuracy: 100.00000%\n",
      "Speaker Training Correct: 0/288 \n",
      "Speaker Training Accuracy: 0.00000%\n"
     ]
    },
    {
     "name": "stdout",
     "output_type": "stream",
     "text": [
      "\n",
      "Emotion Validating Correct: 86/126 \n",
      "Emotion Validating Accuracy: 68.25397%\n",
      "Speaker Validating Correct: 50/126 \n",
      "Speaker Validating Accuracy: 39.68254%\n",
      "\n",
      "Current Fold: 1 | Epoch: 52\n"
     ]
    },
    {
     "name": "stdout",
     "output_type": "stream",
     "text": [
      "Emotion Training Correct: 288/288 \n",
      "Emotion Training Accuracy: 100.00000%\n",
      "Speaker Training Correct: 0/288 \n",
      "Speaker Training Accuracy: 0.00000%\n"
     ]
    },
    {
     "name": "stdout",
     "output_type": "stream",
     "text": [
      "\n",
      "Emotion Validating Correct: 93/126 \n",
      "Emotion Validating Accuracy: 73.80952%\n",
      "Speaker Validating Correct: 50/126 \n",
      "Speaker Validating Accuracy: 39.68254%\n",
      "Models' parameters and optimisers' parameters saved.\n",
      "\n",
      "Current Fold: 1 | Epoch: 53\n"
     ]
    },
    {
     "name": "stdout",
     "output_type": "stream",
     "text": [
      "Emotion Training Correct: 288/288 \n",
      "Emotion Training Accuracy: 100.00000%\n",
      "Speaker Training Correct: 0/288 \n",
      "Speaker Training Accuracy: 0.00000%\n"
     ]
    },
    {
     "name": "stdout",
     "output_type": "stream",
     "text": [
      "\n",
      "Emotion Validating Correct: 92/126 \n",
      "Emotion Validating Accuracy: 73.01587%\n",
      "Speaker Validating Correct: 49/126 \n",
      "Speaker Validating Accuracy: 38.88889%\n",
      "\n",
      "Current Fold: 1 | Epoch: 54\n"
     ]
    },
    {
     "name": "stdout",
     "output_type": "stream",
     "text": [
      "Emotion Training Correct: 285/288 \n",
      "Emotion Training Accuracy: 98.95833%\n",
      "Speaker Training Correct: 0/288 \n",
      "Speaker Training Accuracy: 0.00000%\n"
     ]
    },
    {
     "name": "stdout",
     "output_type": "stream",
     "text": [
      "\n",
      "Emotion Validating Correct: 89/126 \n",
      "Emotion Validating Accuracy: 70.63492%\n",
      "Speaker Validating Correct: 52/126 \n",
      "Speaker Validating Accuracy: 41.26984%\n",
      "\n",
      "Current Fold: 1 | Epoch: 55\n"
     ]
    },
    {
     "name": "stdout",
     "output_type": "stream",
     "text": [
      "Emotion Training Correct: 288/288 \n",
      "Emotion Training Accuracy: 100.00000%\n",
      "Speaker Training Correct: 0/288 \n",
      "Speaker Training Accuracy: 0.00000%\n"
     ]
    },
    {
     "name": "stdout",
     "output_type": "stream",
     "text": [
      "\n",
      "Emotion Validating Correct: 92/126 \n",
      "Emotion Validating Accuracy: 73.01587%\n",
      "Speaker Validating Correct: 48/126 \n",
      "Speaker Validating Accuracy: 38.09524%\n",
      "\n",
      "Current Fold: 1 | Epoch: 56\n"
     ]
    },
    {
     "name": "stdout",
     "output_type": "stream",
     "text": [
      "Emotion Training Correct: 288/288 \n",
      "Emotion Training Accuracy: 100.00000%\n",
      "Speaker Training Correct: 0/288 \n",
      "Speaker Training Accuracy: 0.00000%\n"
     ]
    },
    {
     "name": "stdout",
     "output_type": "stream",
     "text": [
      "\n",
      "Emotion Validating Correct: 89/126 \n",
      "Emotion Validating Accuracy: 70.63492%\n",
      "Speaker Validating Correct: 52/126 \n",
      "Speaker Validating Accuracy: 41.26984%\n",
      "\n",
      "Current Fold: 1 | Epoch: 57\n"
     ]
    },
    {
     "name": "stdout",
     "output_type": "stream",
     "text": [
      "Emotion Training Correct: 288/288 \n",
      "Emotion Training Accuracy: 100.00000%\n",
      "Speaker Training Correct: 0/288 \n",
      "Speaker Training Accuracy: 0.00000%\n"
     ]
    },
    {
     "name": "stdout",
     "output_type": "stream",
     "text": [
      "\n",
      "Emotion Validating Correct: 88/126 \n",
      "Emotion Validating Accuracy: 69.84127%\n",
      "Speaker Validating Correct: 55/126 \n",
      "Speaker Validating Accuracy: 43.65079%\n",
      "\n",
      "Current Fold: 1 | Epoch: 58\n"
     ]
    },
    {
     "name": "stdout",
     "output_type": "stream",
     "text": [
      "Emotion Training Correct: 288/288 \n",
      "Emotion Training Accuracy: 100.00000%\n",
      "Speaker Training Correct: 0/288 \n",
      "Speaker Training Accuracy: 0.00000%\n"
     ]
    },
    {
     "name": "stdout",
     "output_type": "stream",
     "text": [
      "\n",
      "Emotion Validating Correct: 83/126 \n",
      "Emotion Validating Accuracy: 65.87302%\n",
      "Speaker Validating Correct: 54/126 \n",
      "Speaker Validating Accuracy: 42.85714%\n",
      "\n",
      "Current Fold: 1 | Epoch: 59\n"
     ]
    },
    {
     "name": "stdout",
     "output_type": "stream",
     "text": [
      "Emotion Training Correct: 288/288 \n",
      "Emotion Training Accuracy: 100.00000%\n",
      "Speaker Training Correct: 0/288 \n",
      "Speaker Training Accuracy: 0.00000%\n"
     ]
    },
    {
     "name": "stdout",
     "output_type": "stream",
     "text": [
      "\n",
      "Emotion Validating Correct: 88/126 \n",
      "Emotion Validating Accuracy: 69.84127%\n",
      "Speaker Validating Correct: 50/126 \n",
      "Speaker Validating Accuracy: 39.68254%\n",
      "\n",
      "Current Fold: 1 | Epoch: 60\n"
     ]
    },
    {
     "name": "stdout",
     "output_type": "stream",
     "text": [
      "Emotion Training Correct: 288/288 \n",
      "Emotion Training Accuracy: 100.00000%\n",
      "Speaker Training Correct: 0/288 \n",
      "Speaker Training Accuracy: 0.00000%\n"
     ]
    },
    {
     "name": "stdout",
     "output_type": "stream",
     "text": [
      "\n",
      "Emotion Validating Correct: 92/126 \n",
      "Emotion Validating Accuracy: 73.01587%\n",
      "Speaker Validating Correct: 52/126 \n",
      "Speaker Validating Accuracy: 41.26984%\n",
      "\n",
      "Current Fold: 1 | Epoch: 61\n"
     ]
    },
    {
     "name": "stdout",
     "output_type": "stream",
     "text": [
      "Emotion Training Correct: 288/288 \n",
      "Emotion Training Accuracy: 100.00000%\n",
      "Speaker Training Correct: 0/288 \n",
      "Speaker Training Accuracy: 0.00000%\n"
     ]
    },
    {
     "name": "stdout",
     "output_type": "stream",
     "text": [
      "\n",
      "Emotion Validating Correct: 92/126 \n",
      "Emotion Validating Accuracy: 73.01587%\n",
      "Speaker Validating Correct: 48/126 \n",
      "Speaker Validating Accuracy: 38.09524%\n",
      "\n",
      "Current Fold: 1 | Epoch: 62\n"
     ]
    },
    {
     "name": "stdout",
     "output_type": "stream",
     "text": [
      "Emotion Training Correct: 288/288 \n",
      "Emotion Training Accuracy: 100.00000%\n",
      "Speaker Training Correct: 0/288 \n",
      "Speaker Training Accuracy: 0.00000%\n"
     ]
    },
    {
     "name": "stdout",
     "output_type": "stream",
     "text": [
      "\n",
      "Emotion Validating Correct: 92/126 \n",
      "Emotion Validating Accuracy: 73.01587%\n",
      "Speaker Validating Correct: 54/126 \n",
      "Speaker Validating Accuracy: 42.85714%\n",
      "\n",
      "Current Fold: 1 | Epoch: 63\n"
     ]
    },
    {
     "name": "stdout",
     "output_type": "stream",
     "text": [
      "Emotion Training Correct: 288/288 \n",
      "Emotion Training Accuracy: 100.00000%\n",
      "Speaker Training Correct: 0/288 \n",
      "Speaker Training Accuracy: 0.00000%\n"
     ]
    },
    {
     "name": "stdout",
     "output_type": "stream",
     "text": [
      "\n",
      "Emotion Validating Correct: 91/126 \n",
      "Emotion Validating Accuracy: 72.22222%\n",
      "Speaker Validating Correct: 60/126 \n",
      "Speaker Validating Accuracy: 47.61905%\n",
      "\n",
      "Current Fold: 1 | Epoch: 64\n"
     ]
    },
    {
     "name": "stdout",
     "output_type": "stream",
     "text": [
      "Emotion Training Correct: 287/288 \n",
      "Emotion Training Accuracy: 99.65278%\n",
      "Speaker Training Correct: 0/288 \n",
      "Speaker Training Accuracy: 0.00000%\n"
     ]
    },
    {
     "name": "stdout",
     "output_type": "stream",
     "text": [
      "\n",
      "Emotion Validating Correct: 92/126 \n",
      "Emotion Validating Accuracy: 73.01587%\n",
      "Speaker Validating Correct: 60/126 \n",
      "Speaker Validating Accuracy: 47.61905%\n",
      "\n",
      "Current Fold: 1 | Epoch: 65\n"
     ]
    },
    {
     "name": "stdout",
     "output_type": "stream",
     "text": [
      "Emotion Training Correct: 288/288 \n",
      "Emotion Training Accuracy: 100.00000%\n",
      "Speaker Training Correct: 0/288 \n",
      "Speaker Training Accuracy: 0.00000%\n"
     ]
    },
    {
     "name": "stdout",
     "output_type": "stream",
     "text": [
      "\n",
      "Emotion Validating Correct: 94/126 \n",
      "Emotion Validating Accuracy: 74.60317%\n",
      "Speaker Validating Correct: 53/126 \n",
      "Speaker Validating Accuracy: 42.06349%\n",
      "Models' parameters and optimisers' parameters saved.\n",
      "\n",
      "Current Fold: 1 | Epoch: 66\n"
     ]
    },
    {
     "name": "stdout",
     "output_type": "stream",
     "text": [
      "Emotion Training Correct: 288/288 \n",
      "Emotion Training Accuracy: 100.00000%\n",
      "Speaker Training Correct: 0/288 \n",
      "Speaker Training Accuracy: 0.00000%\n"
     ]
    },
    {
     "name": "stdout",
     "output_type": "stream",
     "text": [
      "\n",
      "Emotion Validating Correct: 94/126 \n",
      "Emotion Validating Accuracy: 74.60317%\n",
      "Speaker Validating Correct: 53/126 \n",
      "Speaker Validating Accuracy: 42.06349%\n"
     ]
    },
    {
     "name": "stdout",
     "output_type": "stream",
     "text": [
      "Models' parameters and optimisers' parameters saved.\n",
      "\n",
      "Current Fold: 1 | Epoch: 67\n"
     ]
    },
    {
     "name": "stdout",
     "output_type": "stream",
     "text": [
      "Emotion Training Correct: 284/288 \n",
      "Emotion Training Accuracy: 98.61111%\n",
      "Speaker Training Correct: 0/288 \n",
      "Speaker Training Accuracy: 0.00000%\n"
     ]
    },
    {
     "name": "stdout",
     "output_type": "stream",
     "text": [
      "\n",
      "Emotion Validating Correct: 86/126 \n",
      "Emotion Validating Accuracy: 68.25397%\n",
      "Speaker Validating Correct: 56/126 \n",
      "Speaker Validating Accuracy: 44.44444%\n",
      "\n",
      "Current Fold: 1 | Epoch: 68\n"
     ]
    },
    {
     "name": "stdout",
     "output_type": "stream",
     "text": [
      "Emotion Training Correct: 287/288 \n",
      "Emotion Training Accuracy: 99.65278%\n",
      "Speaker Training Correct: 0/288 \n",
      "Speaker Training Accuracy: 0.00000%\n"
     ]
    },
    {
     "name": "stdout",
     "output_type": "stream",
     "text": [
      "\n",
      "Emotion Validating Correct: 82/126 \n",
      "Emotion Validating Accuracy: 65.07937%\n",
      "Speaker Validating Correct: 59/126 \n",
      "Speaker Validating Accuracy: 46.82540%\n",
      "\n",
      "Current Fold: 1 | Epoch: 69\n"
     ]
    },
    {
     "name": "stdout",
     "output_type": "stream",
     "text": [
      "Emotion Training Correct: 288/288 \n",
      "Emotion Training Accuracy: 100.00000%\n",
      "Speaker Training Correct: 0/288 \n",
      "Speaker Training Accuracy: 0.00000%\n"
     ]
    },
    {
     "name": "stdout",
     "output_type": "stream",
     "text": [
      "\n",
      "Emotion Validating Correct: 88/126 \n",
      "Emotion Validating Accuracy: 69.84127%\n",
      "Speaker Validating Correct: 56/126 \n",
      "Speaker Validating Accuracy: 44.44444%\n",
      "\n",
      "Current Fold: 1 | Epoch: 70\n"
     ]
    },
    {
     "name": "stdout",
     "output_type": "stream",
     "text": [
      "Emotion Training Correct: 288/288 \n",
      "Emotion Training Accuracy: 100.00000%\n",
      "Speaker Training Correct: 0/288 \n",
      "Speaker Training Accuracy: 0.00000%\n"
     ]
    },
    {
     "name": "stdout",
     "output_type": "stream",
     "text": [
      "\n",
      "Emotion Validating Correct: 86/126 \n",
      "Emotion Validating Accuracy: 68.25397%\n",
      "Speaker Validating Correct: 50/126 \n",
      "Speaker Validating Accuracy: 39.68254%\n",
      "\n",
      "Current Fold: 1 | Epoch: 71\n"
     ]
    },
    {
     "name": "stdout",
     "output_type": "stream",
     "text": [
      "Emotion Training Correct: 288/288 \n",
      "Emotion Training Accuracy: 100.00000%\n",
      "Speaker Training Correct: 0/288 \n",
      "Speaker Training Accuracy: 0.00000%\n"
     ]
    },
    {
     "name": "stdout",
     "output_type": "stream",
     "text": [
      "\n",
      "Emotion Validating Correct: 85/126 \n",
      "Emotion Validating Accuracy: 67.46032%\n",
      "Speaker Validating Correct: 47/126 \n",
      "Speaker Validating Accuracy: 37.30159%\n",
      "\n",
      "Current Fold: 1 | Epoch: 72\n"
     ]
    },
    {
     "name": "stdout",
     "output_type": "stream",
     "text": [
      "Emotion Training Correct: 288/288 \n",
      "Emotion Training Accuracy: 100.00000%\n",
      "Speaker Training Correct: 0/288 \n",
      "Speaker Training Accuracy: 0.00000%\n"
     ]
    },
    {
     "name": "stdout",
     "output_type": "stream",
     "text": [
      "\n",
      "Emotion Validating Correct: 89/126 \n",
      "Emotion Validating Accuracy: 70.63492%\n",
      "Speaker Validating Correct: 46/126 \n",
      "Speaker Validating Accuracy: 36.50794%\n",
      "\n",
      "Current Fold: 1 | Epoch: 73\n"
     ]
    },
    {
     "name": "stdout",
     "output_type": "stream",
     "text": [
      "Emotion Training Correct: 288/288 \n",
      "Emotion Training Accuracy: 100.00000%\n",
      "Speaker Training Correct: 0/288 \n",
      "Speaker Training Accuracy: 0.00000%\n"
     ]
    },
    {
     "name": "stdout",
     "output_type": "stream",
     "text": [
      "\n",
      "Emotion Validating Correct: 95/126 \n",
      "Emotion Validating Accuracy: 75.39683%\n",
      "Speaker Validating Correct: 52/126 \n",
      "Speaker Validating Accuracy: 41.26984%\n",
      "Models' parameters and optimisers' parameters saved.\n",
      "\n",
      "Current Fold: 1 | Epoch: 74\n"
     ]
    },
    {
     "name": "stdout",
     "output_type": "stream",
     "text": [
      "Emotion Training Correct: 288/288 \n",
      "Emotion Training Accuracy: 100.00000%\n",
      "Speaker Training Correct: 0/288 \n",
      "Speaker Training Accuracy: 0.00000%\n"
     ]
    },
    {
     "name": "stdout",
     "output_type": "stream",
     "text": [
      "\n",
      "Emotion Validating Correct: 92/126 \n",
      "Emotion Validating Accuracy: 73.01587%\n",
      "Speaker Validating Correct: 56/126 \n",
      "Speaker Validating Accuracy: 44.44444%\n",
      "\n",
      "Current Fold: 1 | Epoch: 75\n"
     ]
    },
    {
     "name": "stdout",
     "output_type": "stream",
     "text": [
      "Emotion Training Correct: 288/288 \n",
      "Emotion Training Accuracy: 100.00000%\n",
      "Speaker Training Correct: 0/288 \n",
      "Speaker Training Accuracy: 0.00000%\n"
     ]
    },
    {
     "name": "stdout",
     "output_type": "stream",
     "text": [
      "\n",
      "Emotion Validating Correct: 91/126 \n",
      "Emotion Validating Accuracy: 72.22222%\n",
      "Speaker Validating Correct: 50/126 \n",
      "Speaker Validating Accuracy: 39.68254%\n",
      "\n",
      "Current Fold: 1 | Epoch: 76\n"
     ]
    },
    {
     "name": "stdout",
     "output_type": "stream",
     "text": [
      "Emotion Training Correct: 288/288 \n",
      "Emotion Training Accuracy: 100.00000%\n",
      "Speaker Training Correct: 0/288 \n",
      "Speaker Training Accuracy: 0.00000%\n"
     ]
    },
    {
     "name": "stdout",
     "output_type": "stream",
     "text": [
      "\n",
      "Emotion Validating Correct: 93/126 \n",
      "Emotion Validating Accuracy: 73.80952%\n",
      "Speaker Validating Correct: 55/126 \n",
      "Speaker Validating Accuracy: 43.65079%\n",
      "\n",
      "Current Fold: 1 | Epoch: 77\n"
     ]
    },
    {
     "name": "stdout",
     "output_type": "stream",
     "text": [
      "Emotion Training Correct: 288/288 \n",
      "Emotion Training Accuracy: 100.00000%\n",
      "Speaker Training Correct: 0/288 \n",
      "Speaker Training Accuracy: 0.00000%\n"
     ]
    },
    {
     "name": "stdout",
     "output_type": "stream",
     "text": [
      "\n",
      "Emotion Validating Correct: 92/126 \n",
      "Emotion Validating Accuracy: 73.01587%\n",
      "Speaker Validating Correct: 62/126 \n",
      "Speaker Validating Accuracy: 49.20635%\n",
      "\n",
      "Current Fold: 1 | Epoch: 78\n"
     ]
    },
    {
     "name": "stdout",
     "output_type": "stream",
     "text": [
      "Emotion Training Correct: 288/288 \n",
      "Emotion Training Accuracy: 100.00000%\n",
      "Speaker Training Correct: 0/288 \n",
      "Speaker Training Accuracy: 0.00000%\n"
     ]
    },
    {
     "name": "stdout",
     "output_type": "stream",
     "text": [
      "\n",
      "Emotion Validating Correct: 95/126 \n",
      "Emotion Validating Accuracy: 75.39683%\n",
      "Speaker Validating Correct: 49/126 \n",
      "Speaker Validating Accuracy: 38.88889%\n",
      "Models' parameters and optimisers' parameters saved.\n",
      "\n",
      "Current Fold: 1 | Epoch: 79\n"
     ]
    },
    {
     "name": "stdout",
     "output_type": "stream",
     "text": [
      "Emotion Training Correct: 288/288 \n",
      "Emotion Training Accuracy: 100.00000%\n",
      "Speaker Training Correct: 0/288 \n",
      "Speaker Training Accuracy: 0.00000%\n"
     ]
    },
    {
     "name": "stdout",
     "output_type": "stream",
     "text": [
      "\n",
      "Emotion Validating Correct: 94/126 \n",
      "Emotion Validating Accuracy: 74.60317%\n",
      "Speaker Validating Correct: 47/126 \n",
      "Speaker Validating Accuracy: 37.30159%\n",
      "\n",
      "Current Fold: 1 | Epoch: 80\n"
     ]
    },
    {
     "name": "stdout",
     "output_type": "stream",
     "text": [
      "Emotion Training Correct: 288/288 \n",
      "Emotion Training Accuracy: 100.00000%\n",
      "Speaker Training Correct: 0/288 \n",
      "Speaker Training Accuracy: 0.00000%\n"
     ]
    },
    {
     "name": "stdout",
     "output_type": "stream",
     "text": [
      "\n",
      "Emotion Validating Correct: 90/126 \n",
      "Emotion Validating Accuracy: 71.42857%\n",
      "Speaker Validating Correct: 55/126 \n",
      "Speaker Validating Accuracy: 43.65079%\n",
      "\n",
      "Current Fold: 1 | Epoch: 81\n"
     ]
    },
    {
     "name": "stdout",
     "output_type": "stream",
     "text": [
      "Emotion Training Correct: 280/288 \n",
      "Emotion Training Accuracy: 97.22222%\n",
      "Speaker Training Correct: 0/288 \n",
      "Speaker Training Accuracy: 0.00000%\n"
     ]
    },
    {
     "name": "stdout",
     "output_type": "stream",
     "text": [
      "\n",
      "Emotion Validating Correct: 89/126 \n",
      "Emotion Validating Accuracy: 70.63492%\n",
      "Speaker Validating Correct: 50/126 \n",
      "Speaker Validating Accuracy: 39.68254%\n",
      "\n",
      "Current Fold: 1 | Epoch: 82\n"
     ]
    },
    {
     "name": "stdout",
     "output_type": "stream",
     "text": [
      "Emotion Training Correct: 281/288 \n",
      "Emotion Training Accuracy: 97.56944%\n",
      "Speaker Training Correct: 0/288 \n",
      "Speaker Training Accuracy: 0.00000%\n"
     ]
    },
    {
     "name": "stdout",
     "output_type": "stream",
     "text": [
      "\n",
      "Emotion Validating Correct: 85/126 \n",
      "Emotion Validating Accuracy: 67.46032%\n",
      "Speaker Validating Correct: 60/126 \n",
      "Speaker Validating Accuracy: 47.61905%\n",
      "\n",
      "Current Fold: 1 | Epoch: 83\n"
     ]
    },
    {
     "name": "stdout",
     "output_type": "stream",
     "text": [
      "Emotion Training Correct: 286/288 \n",
      "Emotion Training Accuracy: 99.30556%\n",
      "Speaker Training Correct: 0/288 \n",
      "Speaker Training Accuracy: 0.00000%\n"
     ]
    },
    {
     "name": "stdout",
     "output_type": "stream",
     "text": [
      "\n",
      "Emotion Validating Correct: 90/126 \n",
      "Emotion Validating Accuracy: 71.42857%\n",
      "Speaker Validating Correct: 58/126 \n",
      "Speaker Validating Accuracy: 46.03175%\n",
      "\n",
      "Current Fold: 1 | Epoch: 84\n"
     ]
    },
    {
     "name": "stdout",
     "output_type": "stream",
     "text": [
      "Emotion Training Correct: 288/288 \n",
      "Emotion Training Accuracy: 100.00000%\n",
      "Speaker Training Correct: 0/288 \n",
      "Speaker Training Accuracy: 0.00000%\n"
     ]
    },
    {
     "name": "stdout",
     "output_type": "stream",
     "text": [
      "\n",
      "Emotion Validating Correct: 88/126 \n",
      "Emotion Validating Accuracy: 69.84127%\n",
      "Speaker Validating Correct: 51/126 \n",
      "Speaker Validating Accuracy: 40.47619%\n",
      "\n",
      "Current Fold: 1 | Epoch: 85\n"
     ]
    },
    {
     "name": "stdout",
     "output_type": "stream",
     "text": [
      "Emotion Training Correct: 283/288 \n",
      "Emotion Training Accuracy: 98.26389%\n",
      "Speaker Training Correct: 0/288 \n",
      "Speaker Training Accuracy: 0.00000%\n"
     ]
    },
    {
     "name": "stdout",
     "output_type": "stream",
     "text": [
      "\n",
      "Emotion Validating Correct: 85/126 \n",
      "Emotion Validating Accuracy: 67.46032%\n",
      "Speaker Validating Correct: 52/126 \n",
      "Speaker Validating Accuracy: 41.26984%\n",
      "\n",
      "Current Fold: 1 | Epoch: 86\n"
     ]
    },
    {
     "name": "stdout",
     "output_type": "stream",
     "text": [
      "Emotion Training Correct: 280/288 \n",
      "Emotion Training Accuracy: 97.22222%\n",
      "Speaker Training Correct: 0/288 \n",
      "Speaker Training Accuracy: 0.00000%\n"
     ]
    },
    {
     "name": "stdout",
     "output_type": "stream",
     "text": [
      "\n",
      "Emotion Validating Correct: 83/126 \n",
      "Emotion Validating Accuracy: 65.87302%\n",
      "Speaker Validating Correct: 51/126 \n",
      "Speaker Validating Accuracy: 40.47619%\n",
      "\n",
      "Current Fold: 1 | Epoch: 87\n"
     ]
    },
    {
     "name": "stdout",
     "output_type": "stream",
     "text": [
      "Emotion Training Correct: 287/288 \n",
      "Emotion Training Accuracy: 99.65278%\n",
      "Speaker Training Correct: 0/288 \n",
      "Speaker Training Accuracy: 0.00000%\n"
     ]
    },
    {
     "name": "stdout",
     "output_type": "stream",
     "text": [
      "\n",
      "Emotion Validating Correct: 83/126 \n",
      "Emotion Validating Accuracy: 65.87302%\n",
      "Speaker Validating Correct: 49/126 \n",
      "Speaker Validating Accuracy: 38.88889%\n",
      "\n",
      "Current Fold: 1 | Epoch: 88\n"
     ]
    },
    {
     "name": "stdout",
     "output_type": "stream",
     "text": [
      "Emotion Training Correct: 286/288 \n",
      "Emotion Training Accuracy: 99.30556%\n",
      "Speaker Training Correct: 0/288 \n",
      "Speaker Training Accuracy: 0.00000%\n"
     ]
    },
    {
     "name": "stdout",
     "output_type": "stream",
     "text": [
      "\n",
      "Emotion Validating Correct: 86/126 \n",
      "Emotion Validating Accuracy: 68.25397%\n",
      "Speaker Validating Correct: 52/126 \n",
      "Speaker Validating Accuracy: 41.26984%\n",
      "\n",
      "Current Fold: 1 | Epoch: 89\n"
     ]
    },
    {
     "name": "stdout",
     "output_type": "stream",
     "text": [
      "Emotion Training Correct: 287/288 \n",
      "Emotion Training Accuracy: 99.65278%\n",
      "Speaker Training Correct: 0/288 \n",
      "Speaker Training Accuracy: 0.00000%\n"
     ]
    },
    {
     "name": "stdout",
     "output_type": "stream",
     "text": [
      "\n",
      "Emotion Validating Correct: 87/126 \n",
      "Emotion Validating Accuracy: 69.04762%\n",
      "Speaker Validating Correct: 48/126 \n",
      "Speaker Validating Accuracy: 38.09524%\n",
      "\n",
      "Current Fold: 1 | Epoch: 90\n"
     ]
    },
    {
     "name": "stdout",
     "output_type": "stream",
     "text": [
      "Emotion Training Correct: 286/288 \n",
      "Emotion Training Accuracy: 99.30556%\n",
      "Speaker Training Correct: 0/288 \n",
      "Speaker Training Accuracy: 0.00000%\n"
     ]
    },
    {
     "name": "stdout",
     "output_type": "stream",
     "text": [
      "\n",
      "Emotion Validating Correct: 91/126 \n",
      "Emotion Validating Accuracy: 72.22222%\n",
      "Speaker Validating Correct: 49/126 \n",
      "Speaker Validating Accuracy: 38.88889%\n",
      "\n",
      "Current Fold: 1 | Epoch: 91\n"
     ]
    },
    {
     "name": "stdout",
     "output_type": "stream",
     "text": [
      "Emotion Training Correct: 288/288 \n",
      "Emotion Training Accuracy: 100.00000%\n",
      "Speaker Training Correct: 0/288 \n",
      "Speaker Training Accuracy: 0.00000%\n"
     ]
    },
    {
     "name": "stdout",
     "output_type": "stream",
     "text": [
      "\n",
      "Emotion Validating Correct: 91/126 \n",
      "Emotion Validating Accuracy: 72.22222%\n",
      "Speaker Validating Correct: 54/126 \n",
      "Speaker Validating Accuracy: 42.85714%\n",
      "\n",
      "Current Fold: 1 | Epoch: 92\n"
     ]
    },
    {
     "name": "stdout",
     "output_type": "stream",
     "text": [
      "Emotion Training Correct: 288/288 \n",
      "Emotion Training Accuracy: 100.00000%\n",
      "Speaker Training Correct: 0/288 \n",
      "Speaker Training Accuracy: 0.00000%\n"
     ]
    },
    {
     "name": "stdout",
     "output_type": "stream",
     "text": [
      "\n",
      "Emotion Validating Correct: 92/126 \n",
      "Emotion Validating Accuracy: 73.01587%\n",
      "Speaker Validating Correct: 56/126 \n",
      "Speaker Validating Accuracy: 44.44444%\n",
      "\n",
      "Current Fold: 1 | Epoch: 93\n"
     ]
    },
    {
     "name": "stdout",
     "output_type": "stream",
     "text": [
      "Emotion Training Correct: 284/288 \n",
      "Emotion Training Accuracy: 98.61111%\n",
      "Speaker Training Correct: 0/288 \n",
      "Speaker Training Accuracy: 0.00000%\n"
     ]
    },
    {
     "name": "stdout",
     "output_type": "stream",
     "text": [
      "\n",
      "Emotion Validating Correct: 84/126 \n",
      "Emotion Validating Accuracy: 66.66667%\n",
      "Speaker Validating Correct: 60/126 \n",
      "Speaker Validating Accuracy: 47.61905%\n",
      "\n",
      "Current Fold: 1 | Epoch: 94\n"
     ]
    },
    {
     "name": "stdout",
     "output_type": "stream",
     "text": [
      "Emotion Training Correct: 288/288 \n",
      "Emotion Training Accuracy: 100.00000%\n",
      "Speaker Training Correct: 0/288 \n",
      "Speaker Training Accuracy: 0.00000%\n"
     ]
    },
    {
     "name": "stdout",
     "output_type": "stream",
     "text": [
      "\n",
      "Emotion Validating Correct: 90/126 \n",
      "Emotion Validating Accuracy: 71.42857%\n",
      "Speaker Validating Correct: 56/126 \n",
      "Speaker Validating Accuracy: 44.44444%\n",
      "\n",
      "Current Fold: 1 | Epoch: 95\n"
     ]
    },
    {
     "name": "stdout",
     "output_type": "stream",
     "text": [
      "Emotion Training Correct: 288/288 \n",
      "Emotion Training Accuracy: 100.00000%\n",
      "Speaker Training Correct: 0/288 \n",
      "Speaker Training Accuracy: 0.00000%\n"
     ]
    },
    {
     "name": "stdout",
     "output_type": "stream",
     "text": [
      "\n",
      "Emotion Validating Correct: 91/126 \n",
      "Emotion Validating Accuracy: 72.22222%\n",
      "Speaker Validating Correct: 54/126 \n",
      "Speaker Validating Accuracy: 42.85714%\n",
      "\n",
      "Current Fold: 1 | Epoch: 96\n"
     ]
    },
    {
     "name": "stdout",
     "output_type": "stream",
     "text": [
      "Emotion Training Correct: 288/288 \n",
      "Emotion Training Accuracy: 100.00000%\n",
      "Speaker Training Correct: 0/288 \n",
      "Speaker Training Accuracy: 0.00000%\n"
     ]
    },
    {
     "name": "stdout",
     "output_type": "stream",
     "text": [
      "\n",
      "Emotion Validating Correct: 89/126 \n",
      "Emotion Validating Accuracy: 70.63492%\n",
      "Speaker Validating Correct: 61/126 \n",
      "Speaker Validating Accuracy: 48.41270%\n",
      "\n",
      "Current Fold: 1 | Epoch: 97\n"
     ]
    },
    {
     "name": "stdout",
     "output_type": "stream",
     "text": [
      "Emotion Training Correct: 288/288 \n",
      "Emotion Training Accuracy: 100.00000%\n",
      "Speaker Training Correct: 0/288 \n",
      "Speaker Training Accuracy: 0.00000%\n"
     ]
    },
    {
     "name": "stdout",
     "output_type": "stream",
     "text": [
      "\n",
      "Emotion Validating Correct: 92/126 \n",
      "Emotion Validating Accuracy: 73.01587%\n",
      "Speaker Validating Correct: 58/126 \n",
      "Speaker Validating Accuracy: 46.03175%\n",
      "\n",
      "Current Fold: 1 | Epoch: 98\n"
     ]
    },
    {
     "name": "stdout",
     "output_type": "stream",
     "text": [
      "Emotion Training Correct: 288/288 \n",
      "Emotion Training Accuracy: 100.00000%\n",
      "Speaker Training Correct: 0/288 \n",
      "Speaker Training Accuracy: 0.00000%\n"
     ]
    },
    {
     "name": "stdout",
     "output_type": "stream",
     "text": [
      "\n",
      "Emotion Validating Correct: 86/126 \n",
      "Emotion Validating Accuracy: 68.25397%\n",
      "Speaker Validating Correct: 55/126 \n",
      "Speaker Validating Accuracy: 43.65079%\n",
      "\n",
      "Current Fold: 1 | Epoch: 99\n"
     ]
    },
    {
     "name": "stdout",
     "output_type": "stream",
     "text": [
      "Emotion Training Correct: 288/288 \n",
      "Emotion Training Accuracy: 100.00000%\n",
      "Speaker Training Correct: 0/288 \n",
      "Speaker Training Accuracy: 0.00000%\n"
     ]
    },
    {
     "name": "stdout",
     "output_type": "stream",
     "text": [
      "\n",
      "Emotion Validating Correct: 90/126 \n",
      "Emotion Validating Accuracy: 71.42857%\n",
      "Speaker Validating Correct: 55/126 \n",
      "Speaker Validating Accuracy: 43.65079%\n"
     ]
    },
    {
     "name": "stdout",
     "output_type": "stream",
     "text": [
      "\n",
      "Current Fold: 2 | Epoch: 0\n"
     ]
    },
    {
     "name": "stdout",
     "output_type": "stream",
     "text": [
      "Emotion Training Correct: 133/320 \n",
      "Emotion Training Accuracy: 41.56250%\n",
      "Speaker Training Correct: 1/320 \n",
      "Speaker Training Accuracy: 0.31250%\n"
     ]
    },
    {
     "name": "stdout",
     "output_type": "stream",
     "text": [
      "\n",
      "Emotion Validating Correct: 42/96 \n",
      "Emotion Validating Accuracy: 43.75000%\n",
      "Speaker Validating Correct: 0/96 \n",
      "Speaker Validating Accuracy: 0.00000%\n",
      "\n",
      "Current Fold: 2 | Epoch: 1\n"
     ]
    },
    {
     "name": "stdout",
     "output_type": "stream",
     "text": [
      "Emotion Training Correct: 135/320 \n",
      "Emotion Training Accuracy: 42.18750%\n",
      "Speaker Training Correct: 0/320 \n",
      "Speaker Training Accuracy: 0.00000%\n"
     ]
    },
    {
     "name": "stdout",
     "output_type": "stream",
     "text": [
      "\n",
      "Emotion Validating Correct: 42/96 \n",
      "Emotion Validating Accuracy: 43.75000%\n",
      "Speaker Validating Correct: 1/96 \n",
      "Speaker Validating Accuracy: 1.04167%\n"
     ]
    },
    {
     "name": "stdout",
     "output_type": "stream",
     "text": [
      "Models' parameters and optimisers' parameters saved.\n",
      "\n",
      "Current Fold: 2 | Epoch: 2\n"
     ]
    },
    {
     "name": "stdout",
     "output_type": "stream",
     "text": [
      "Emotion Training Correct: 138/320 \n",
      "Emotion Training Accuracy: 43.12500%\n",
      "Speaker Training Correct: 0/320 \n",
      "Speaker Training Accuracy: 0.00000%\n"
     ]
    },
    {
     "name": "stdout",
     "output_type": "stream",
     "text": [
      "\n",
      "Emotion Validating Correct: 41/96 \n",
      "Emotion Validating Accuracy: 42.70833%\n",
      "Speaker Validating Correct: 8/96 \n",
      "Speaker Validating Accuracy: 8.33333%\n",
      "\n",
      "Current Fold: 2 | Epoch: 3\n"
     ]
    },
    {
     "name": "stdout",
     "output_type": "stream",
     "text": [
      "Emotion Training Correct: 150/320 \n",
      "Emotion Training Accuracy: 46.87500%\n",
      "Speaker Training Correct: 0/320 \n",
      "Speaker Training Accuracy: 0.00000%\n"
     ]
    },
    {
     "name": "stdout",
     "output_type": "stream",
     "text": [
      "\n",
      "Emotion Validating Correct: 39/96 \n",
      "Emotion Validating Accuracy: 40.62500%\n",
      "Speaker Validating Correct: 15/96 \n",
      "Speaker Validating Accuracy: 15.62500%\n",
      "\n",
      "Current Fold: 2 | Epoch: 4\n"
     ]
    },
    {
     "name": "stdout",
     "output_type": "stream",
     "text": [
      "Emotion Training Correct: 158/320 \n",
      "Emotion Training Accuracy: 49.37500%\n",
      "Speaker Training Correct: 0/320 \n",
      "Speaker Training Accuracy: 0.00000%\n"
     ]
    },
    {
     "name": "stdout",
     "output_type": "stream",
     "text": [
      "\n",
      "Emotion Validating Correct: 41/96 \n",
      "Emotion Validating Accuracy: 42.70833%\n",
      "Speaker Validating Correct: 14/96 \n",
      "Speaker Validating Accuracy: 14.58333%\n",
      "\n",
      "Current Fold: 2 | Epoch: 5\n"
     ]
    },
    {
     "name": "stdout",
     "output_type": "stream",
     "text": [
      "Emotion Training Correct: 180/320 \n",
      "Emotion Training Accuracy: 56.25000%\n",
      "Speaker Training Correct: 0/320 \n",
      "Speaker Training Accuracy: 0.00000%\n"
     ]
    },
    {
     "name": "stdout",
     "output_type": "stream",
     "text": [
      "\n",
      "Emotion Validating Correct: 40/96 \n",
      "Emotion Validating Accuracy: 41.66667%\n",
      "Speaker Validating Correct: 13/96 \n",
      "Speaker Validating Accuracy: 13.54167%\n",
      "\n",
      "Current Fold: 2 | Epoch: 6\n"
     ]
    },
    {
     "name": "stdout",
     "output_type": "stream",
     "text": [
      "Emotion Training Correct: 166/320 \n",
      "Emotion Training Accuracy: 51.87500%\n",
      "Speaker Training Correct: 0/320 \n",
      "Speaker Training Accuracy: 0.00000%\n"
     ]
    },
    {
     "name": "stdout",
     "output_type": "stream",
     "text": [
      "\n",
      "Emotion Validating Correct: 48/96 \n",
      "Emotion Validating Accuracy: 50.00000%\n",
      "Speaker Validating Correct: 14/96 \n",
      "Speaker Validating Accuracy: 14.58333%\n"
     ]
    },
    {
     "name": "stdout",
     "output_type": "stream",
     "text": [
      "Models' parameters and optimisers' parameters saved.\n",
      "\n",
      "Current Fold: 2 | Epoch: 7\n"
     ]
    },
    {
     "name": "stdout",
     "output_type": "stream",
     "text": [
      "Emotion Training Correct: 197/320 \n",
      "Emotion Training Accuracy: 61.56250%\n",
      "Speaker Training Correct: 0/320 \n",
      "Speaker Training Accuracy: 0.00000%\n"
     ]
    },
    {
     "name": "stdout",
     "output_type": "stream",
     "text": [
      "\n",
      "Emotion Validating Correct: 46/96 \n",
      "Emotion Validating Accuracy: 47.91667%\n",
      "Speaker Validating Correct: 13/96 \n",
      "Speaker Validating Accuracy: 13.54167%\n",
      "\n",
      "Current Fold: 2 | Epoch: 8\n"
     ]
    },
    {
     "name": "stdout",
     "output_type": "stream",
     "text": [
      "Emotion Training Correct: 214/320 \n",
      "Emotion Training Accuracy: 66.87500%\n",
      "Speaker Training Correct: 0/320 \n",
      "Speaker Training Accuracy: 0.00000%\n"
     ]
    },
    {
     "name": "stdout",
     "output_type": "stream",
     "text": [
      "\n",
      "Emotion Validating Correct: 45/96 \n",
      "Emotion Validating Accuracy: 46.87500%\n",
      "Speaker Validating Correct: 11/96 \n",
      "Speaker Validating Accuracy: 11.45833%\n",
      "\n",
      "Current Fold: 2 | Epoch: 9\n"
     ]
    },
    {
     "name": "stdout",
     "output_type": "stream",
     "text": [
      "Emotion Training Correct: 231/320 \n",
      "Emotion Training Accuracy: 72.18750%\n",
      "Speaker Training Correct: 0/320 \n",
      "Speaker Training Accuracy: 0.00000%\n"
     ]
    },
    {
     "name": "stdout",
     "output_type": "stream",
     "text": [
      "\n",
      "Emotion Validating Correct: 61/96 \n",
      "Emotion Validating Accuracy: 63.54167%\n",
      "Speaker Validating Correct: 15/96 \n",
      "Speaker Validating Accuracy: 15.62500%\n"
     ]
    },
    {
     "name": "stdout",
     "output_type": "stream",
     "text": [
      "Models' parameters and optimisers' parameters saved.\n",
      "\n",
      "Current Fold: 2 | Epoch: 10\n"
     ]
    },
    {
     "name": "stdout",
     "output_type": "stream",
     "text": [
      "Emotion Training Correct: 155/320 \n",
      "Emotion Training Accuracy: 48.43750%\n",
      "Speaker Training Correct: 0/320 \n",
      "Speaker Training Accuracy: 0.00000%\n"
     ]
    },
    {
     "name": "stdout",
     "output_type": "stream",
     "text": [
      "\n",
      "Emotion Validating Correct: 34/96 \n",
      "Emotion Validating Accuracy: 35.41667%\n",
      "Speaker Validating Correct: 13/96 \n",
      "Speaker Validating Accuracy: 13.54167%\n",
      "\n",
      "Current Fold: 2 | Epoch: 11\n"
     ]
    },
    {
     "name": "stdout",
     "output_type": "stream",
     "text": [
      "Emotion Training Correct: 244/320 \n",
      "Emotion Training Accuracy: 76.25000%\n",
      "Speaker Training Correct: 0/320 \n",
      "Speaker Training Accuracy: 0.00000%\n"
     ]
    },
    {
     "name": "stdout",
     "output_type": "stream",
     "text": [
      "\n",
      "Emotion Validating Correct: 60/96 \n",
      "Emotion Validating Accuracy: 62.50000%\n",
      "Speaker Validating Correct: 18/96 \n",
      "Speaker Validating Accuracy: 18.75000%\n",
      "\n",
      "Current Fold: 2 | Epoch: 12\n"
     ]
    },
    {
     "name": "stdout",
     "output_type": "stream",
     "text": [
      "Emotion Training Correct: 267/320 \n",
      "Emotion Training Accuracy: 83.43750%\n",
      "Speaker Training Correct: 0/320 \n",
      "Speaker Training Accuracy: 0.00000%\n"
     ]
    },
    {
     "name": "stdout",
     "output_type": "stream",
     "text": [
      "\n",
      "Emotion Validating Correct: 53/96 \n",
      "Emotion Validating Accuracy: 55.20833%\n",
      "Speaker Validating Correct: 11/96 \n",
      "Speaker Validating Accuracy: 11.45833%\n",
      "\n",
      "Current Fold: 2 | Epoch: 13\n"
     ]
    },
    {
     "name": "stdout",
     "output_type": "stream",
     "text": [
      "Emotion Training Correct: 245/320 \n",
      "Emotion Training Accuracy: 76.56250%\n",
      "Speaker Training Correct: 0/320 \n",
      "Speaker Training Accuracy: 0.00000%\n"
     ]
    },
    {
     "name": "stdout",
     "output_type": "stream",
     "text": [
      "\n",
      "Emotion Validating Correct: 62/96 \n",
      "Emotion Validating Accuracy: 64.58333%\n",
      "Speaker Validating Correct: 14/96 \n",
      "Speaker Validating Accuracy: 14.58333%\n"
     ]
    },
    {
     "name": "stdout",
     "output_type": "stream",
     "text": [
      "Models' parameters and optimisers' parameters saved.\n",
      "\n",
      "Current Fold: 2 | Epoch: 14\n"
     ]
    },
    {
     "name": "stdout",
     "output_type": "stream",
     "text": [
      "Emotion Training Correct: 239/320 \n",
      "Emotion Training Accuracy: 74.68750%\n",
      "Speaker Training Correct: 0/320 \n",
      "Speaker Training Accuracy: 0.00000%\n"
     ]
    },
    {
     "name": "stdout",
     "output_type": "stream",
     "text": [
      "\n",
      "Emotion Validating Correct: 55/96 \n",
      "Emotion Validating Accuracy: 57.29167%\n",
      "Speaker Validating Correct: 13/96 \n",
      "Speaker Validating Accuracy: 13.54167%\n",
      "\n",
      "Current Fold: 2 | Epoch: 15\n"
     ]
    },
    {
     "name": "stdout",
     "output_type": "stream",
     "text": [
      "Emotion Training Correct: 249/320 \n",
      "Emotion Training Accuracy: 77.81250%\n",
      "Speaker Training Correct: 0/320 \n",
      "Speaker Training Accuracy: 0.00000%\n"
     ]
    },
    {
     "name": "stdout",
     "output_type": "stream",
     "text": [
      "\n",
      "Emotion Validating Correct: 52/96 \n",
      "Emotion Validating Accuracy: 54.16667%\n",
      "Speaker Validating Correct: 13/96 \n",
      "Speaker Validating Accuracy: 13.54167%\n",
      "\n",
      "Current Fold: 2 | Epoch: 16\n"
     ]
    },
    {
     "name": "stdout",
     "output_type": "stream",
     "text": [
      "Emotion Training Correct: 261/320 \n",
      "Emotion Training Accuracy: 81.56250%\n",
      "Speaker Training Correct: 0/320 \n",
      "Speaker Training Accuracy: 0.00000%\n"
     ]
    },
    {
     "name": "stdout",
     "output_type": "stream",
     "text": [
      "\n",
      "Emotion Validating Correct: 55/96 \n",
      "Emotion Validating Accuracy: 57.29167%\n",
      "Speaker Validating Correct: 13/96 \n",
      "Speaker Validating Accuracy: 13.54167%\n",
      "\n",
      "Current Fold: 2 | Epoch: 17\n"
     ]
    },
    {
     "name": "stdout",
     "output_type": "stream",
     "text": [
      "Emotion Training Correct: 274/320 \n",
      "Emotion Training Accuracy: 85.62500%\n",
      "Speaker Training Correct: 0/320 \n",
      "Speaker Training Accuracy: 0.00000%\n"
     ]
    },
    {
     "name": "stdout",
     "output_type": "stream",
     "text": [
      "\n",
      "Emotion Validating Correct: 66/96 \n",
      "Emotion Validating Accuracy: 68.75000%\n",
      "Speaker Validating Correct: 14/96 \n",
      "Speaker Validating Accuracy: 14.58333%\n"
     ]
    },
    {
     "name": "stdout",
     "output_type": "stream",
     "text": [
      "Models' parameters and optimisers' parameters saved.\n",
      "\n",
      "Current Fold: 2 | Epoch: 18\n"
     ]
    },
    {
     "name": "stdout",
     "output_type": "stream",
     "text": [
      "Emotion Training Correct: 282/320 \n",
      "Emotion Training Accuracy: 88.12500%\n",
      "Speaker Training Correct: 0/320 \n",
      "Speaker Training Accuracy: 0.00000%\n"
     ]
    },
    {
     "name": "stdout",
     "output_type": "stream",
     "text": [
      "\n",
      "Emotion Validating Correct: 65/96 \n",
      "Emotion Validating Accuracy: 67.70833%\n",
      "Speaker Validating Correct: 13/96 \n",
      "Speaker Validating Accuracy: 13.54167%\n",
      "\n",
      "Current Fold: 2 | Epoch: 19\n"
     ]
    },
    {
     "name": "stdout",
     "output_type": "stream",
     "text": [
      "Emotion Training Correct: 287/320 \n",
      "Emotion Training Accuracy: 89.68750%\n",
      "Speaker Training Correct: 0/320 \n",
      "Speaker Training Accuracy: 0.00000%\n"
     ]
    },
    {
     "name": "stdout",
     "output_type": "stream",
     "text": [
      "\n",
      "Emotion Validating Correct: 62/96 \n",
      "Emotion Validating Accuracy: 64.58333%\n",
      "Speaker Validating Correct: 13/96 \n",
      "Speaker Validating Accuracy: 13.54167%\n",
      "\n",
      "Current Fold: 2 | Epoch: 20\n"
     ]
    },
    {
     "name": "stdout",
     "output_type": "stream",
     "text": [
      "Emotion Training Correct: 237/320 \n",
      "Emotion Training Accuracy: 74.06250%\n",
      "Speaker Training Correct: 0/320 \n",
      "Speaker Training Accuracy: 0.00000%\n"
     ]
    },
    {
     "name": "stdout",
     "output_type": "stream",
     "text": [
      "\n",
      "Emotion Validating Correct: 44/96 \n",
      "Emotion Validating Accuracy: 45.83333%\n",
      "Speaker Validating Correct: 11/96 \n",
      "Speaker Validating Accuracy: 11.45833%\n",
      "\n",
      "Current Fold: 2 | Epoch: 21\n"
     ]
    },
    {
     "name": "stdout",
     "output_type": "stream",
     "text": [
      "Emotion Training Correct: 303/320 \n",
      "Emotion Training Accuracy: 94.68750%\n",
      "Speaker Training Correct: 0/320 \n",
      "Speaker Training Accuracy: 0.00000%\n"
     ]
    },
    {
     "name": "stdout",
     "output_type": "stream",
     "text": [
      "\n",
      "Emotion Validating Correct: 70/96 \n",
      "Emotion Validating Accuracy: 72.91667%\n",
      "Speaker Validating Correct: 19/96 \n",
      "Speaker Validating Accuracy: 19.79167%\n"
     ]
    },
    {
     "name": "stdout",
     "output_type": "stream",
     "text": [
      "Models' parameters and optimisers' parameters saved.\n",
      "\n",
      "Current Fold: 2 | Epoch: 22\n"
     ]
    },
    {
     "name": "stdout",
     "output_type": "stream",
     "text": [
      "Emotion Training Correct: 302/320 \n",
      "Emotion Training Accuracy: 94.37500%\n",
      "Speaker Training Correct: 0/320 \n",
      "Speaker Training Accuracy: 0.00000%\n"
     ]
    },
    {
     "name": "stdout",
     "output_type": "stream",
     "text": [
      "\n",
      "Emotion Validating Correct: 66/96 \n",
      "Emotion Validating Accuracy: 68.75000%\n",
      "Speaker Validating Correct: 13/96 \n",
      "Speaker Validating Accuracy: 13.54167%\n",
      "\n",
      "Current Fold: 2 | Epoch: 23\n"
     ]
    },
    {
     "name": "stdout",
     "output_type": "stream",
     "text": [
      "Emotion Training Correct: 306/320 \n",
      "Emotion Training Accuracy: 95.62500%\n",
      "Speaker Training Correct: 0/320 \n",
      "Speaker Training Accuracy: 0.00000%\n"
     ]
    },
    {
     "name": "stdout",
     "output_type": "stream",
     "text": [
      "\n",
      "Emotion Validating Correct: 66/96 \n",
      "Emotion Validating Accuracy: 68.75000%\n",
      "Speaker Validating Correct: 13/96 \n",
      "Speaker Validating Accuracy: 13.54167%\n",
      "\n",
      "Current Fold: 2 | Epoch: 24\n"
     ]
    },
    {
     "name": "stdout",
     "output_type": "stream",
     "text": [
      "Emotion Training Correct: 296/320 \n",
      "Emotion Training Accuracy: 92.50000%\n",
      "Speaker Training Correct: 0/320 \n",
      "Speaker Training Accuracy: 0.00000%\n"
     ]
    },
    {
     "name": "stdout",
     "output_type": "stream",
     "text": [
      "\n",
      "Emotion Validating Correct: 62/96 \n",
      "Emotion Validating Accuracy: 64.58333%\n",
      "Speaker Validating Correct: 13/96 \n",
      "Speaker Validating Accuracy: 13.54167%\n",
      "\n",
      "Current Fold: 2 | Epoch: 25\n"
     ]
    },
    {
     "name": "stdout",
     "output_type": "stream",
     "text": [
      "Emotion Training Correct: 256/320 \n",
      "Emotion Training Accuracy: 80.00000%\n",
      "Speaker Training Correct: 0/320 \n",
      "Speaker Training Accuracy: 0.00000%\n"
     ]
    },
    {
     "name": "stdout",
     "output_type": "stream",
     "text": [
      "\n",
      "Emotion Validating Correct: 53/96 \n",
      "Emotion Validating Accuracy: 55.20833%\n",
      "Speaker Validating Correct: 9/96 \n",
      "Speaker Validating Accuracy: 9.37500%\n",
      "\n",
      "Current Fold: 2 | Epoch: 26\n"
     ]
    },
    {
     "name": "stdout",
     "output_type": "stream",
     "text": [
      "Emotion Training Correct: 311/320 \n",
      "Emotion Training Accuracy: 97.18750%\n",
      "Speaker Training Correct: 0/320 \n",
      "Speaker Training Accuracy: 0.00000%\n"
     ]
    },
    {
     "name": "stdout",
     "output_type": "stream",
     "text": [
      "\n",
      "Emotion Validating Correct: 59/96 \n",
      "Emotion Validating Accuracy: 61.45833%\n",
      "Speaker Validating Correct: 12/96 \n",
      "Speaker Validating Accuracy: 12.50000%\n",
      "\n",
      "Current Fold: 2 | Epoch: 27\n"
     ]
    },
    {
     "name": "stdout",
     "output_type": "stream",
     "text": [
      "Emotion Training Correct: 311/320 \n",
      "Emotion Training Accuracy: 97.18750%\n",
      "Speaker Training Correct: 0/320 \n",
      "Speaker Training Accuracy: 0.00000%\n"
     ]
    },
    {
     "name": "stdout",
     "output_type": "stream",
     "text": [
      "\n",
      "Emotion Validating Correct: 60/96 \n",
      "Emotion Validating Accuracy: 62.50000%\n",
      "Speaker Validating Correct: 13/96 \n",
      "Speaker Validating Accuracy: 13.54167%\n",
      "\n",
      "Current Fold: 2 | Epoch: 28\n"
     ]
    },
    {
     "name": "stdout",
     "output_type": "stream",
     "text": [
      "Emotion Training Correct: 317/320 \n",
      "Emotion Training Accuracy: 99.06250%\n",
      "Speaker Training Correct: 0/320 \n",
      "Speaker Training Accuracy: 0.00000%\n"
     ]
    },
    {
     "name": "stdout",
     "output_type": "stream",
     "text": [
      "\n",
      "Emotion Validating Correct: 69/96 \n",
      "Emotion Validating Accuracy: 71.87500%\n",
      "Speaker Validating Correct: 13/96 \n",
      "Speaker Validating Accuracy: 13.54167%\n",
      "\n",
      "Current Fold: 2 | Epoch: 29\n"
     ]
    },
    {
     "name": "stdout",
     "output_type": "stream",
     "text": [
      "Emotion Training Correct: 317/320 \n",
      "Emotion Training Accuracy: 99.06250%\n",
      "Speaker Training Correct: 0/320 \n",
      "Speaker Training Accuracy: 0.00000%\n"
     ]
    },
    {
     "name": "stdout",
     "output_type": "stream",
     "text": [
      "\n",
      "Emotion Validating Correct: 65/96 \n",
      "Emotion Validating Accuracy: 67.70833%\n",
      "Speaker Validating Correct: 12/96 \n",
      "Speaker Validating Accuracy: 12.50000%\n",
      "\n",
      "Current Fold: 2 | Epoch: 30\n"
     ]
    },
    {
     "name": "stdout",
     "output_type": "stream",
     "text": [
      "Emotion Training Correct: 319/320 \n",
      "Emotion Training Accuracy: 99.68750%\n",
      "Speaker Training Correct: 0/320 \n",
      "Speaker Training Accuracy: 0.00000%\n"
     ]
    },
    {
     "name": "stdout",
     "output_type": "stream",
     "text": [
      "\n",
      "Emotion Validating Correct: 63/96 \n",
      "Emotion Validating Accuracy: 65.62500%\n",
      "Speaker Validating Correct: 12/96 \n",
      "Speaker Validating Accuracy: 12.50000%\n",
      "\n",
      "Current Fold: 2 | Epoch: 31\n"
     ]
    },
    {
     "name": "stdout",
     "output_type": "stream",
     "text": [
      "Emotion Training Correct: 301/320 \n",
      "Emotion Training Accuracy: 94.06250%\n",
      "Speaker Training Correct: 0/320 \n",
      "Speaker Training Accuracy: 0.00000%\n"
     ]
    },
    {
     "name": "stdout",
     "output_type": "stream",
     "text": [
      "\n",
      "Emotion Validating Correct: 71/96 \n",
      "Emotion Validating Accuracy: 73.95833%\n",
      "Speaker Validating Correct: 14/96 \n",
      "Speaker Validating Accuracy: 14.58333%\n"
     ]
    },
    {
     "name": "stdout",
     "output_type": "stream",
     "text": [
      "Models' parameters and optimisers' parameters saved.\n",
      "\n",
      "Current Fold: 2 | Epoch: 32\n"
     ]
    },
    {
     "name": "stdout",
     "output_type": "stream",
     "text": [
      "Emotion Training Correct: 311/320 \n",
      "Emotion Training Accuracy: 97.18750%\n",
      "Speaker Training Correct: 0/320 \n",
      "Speaker Training Accuracy: 0.00000%\n"
     ]
    },
    {
     "name": "stdout",
     "output_type": "stream",
     "text": [
      "\n",
      "Emotion Validating Correct: 56/96 \n",
      "Emotion Validating Accuracy: 58.33333%\n",
      "Speaker Validating Correct: 11/96 \n",
      "Speaker Validating Accuracy: 11.45833%\n",
      "\n",
      "Current Fold: 2 | Epoch: 33\n"
     ]
    },
    {
     "name": "stdout",
     "output_type": "stream",
     "text": [
      "Emotion Training Correct: 320/320 \n",
      "Emotion Training Accuracy: 100.00000%\n",
      "Speaker Training Correct: 0/320 \n",
      "Speaker Training Accuracy: 0.00000%\n"
     ]
    },
    {
     "name": "stdout",
     "output_type": "stream",
     "text": [
      "\n",
      "Emotion Validating Correct: 64/96 \n",
      "Emotion Validating Accuracy: 66.66667%\n",
      "Speaker Validating Correct: 11/96 \n",
      "Speaker Validating Accuracy: 11.45833%\n",
      "\n",
      "Current Fold: 2 | Epoch: 34\n"
     ]
    },
    {
     "name": "stdout",
     "output_type": "stream",
     "text": [
      "Emotion Training Correct: 318/320 \n",
      "Emotion Training Accuracy: 99.37500%\n",
      "Speaker Training Correct: 0/320 \n",
      "Speaker Training Accuracy: 0.00000%\n"
     ]
    },
    {
     "name": "stdout",
     "output_type": "stream",
     "text": [
      "\n",
      "Emotion Validating Correct: 63/96 \n",
      "Emotion Validating Accuracy: 65.62500%\n",
      "Speaker Validating Correct: 13/96 \n",
      "Speaker Validating Accuracy: 13.54167%\n",
      "\n",
      "Current Fold: 2 | Epoch: 35\n"
     ]
    },
    {
     "name": "stdout",
     "output_type": "stream",
     "text": [
      "Emotion Training Correct: 320/320 \n",
      "Emotion Training Accuracy: 100.00000%\n",
      "Speaker Training Correct: 0/320 \n",
      "Speaker Training Accuracy: 0.00000%\n"
     ]
    },
    {
     "name": "stdout",
     "output_type": "stream",
     "text": [
      "\n",
      "Emotion Validating Correct: 64/96 \n",
      "Emotion Validating Accuracy: 66.66667%\n",
      "Speaker Validating Correct: 11/96 \n",
      "Speaker Validating Accuracy: 11.45833%\n",
      "\n",
      "Current Fold: 2 | Epoch: 36\n"
     ]
    },
    {
     "name": "stdout",
     "output_type": "stream",
     "text": [
      "Emotion Training Correct: 320/320 \n",
      "Emotion Training Accuracy: 100.00000%\n",
      "Speaker Training Correct: 0/320 \n",
      "Speaker Training Accuracy: 0.00000%\n"
     ]
    },
    {
     "name": "stdout",
     "output_type": "stream",
     "text": [
      "\n",
      "Emotion Validating Correct: 71/96 \n",
      "Emotion Validating Accuracy: 73.95833%\n",
      "Speaker Validating Correct: 15/96 \n",
      "Speaker Validating Accuracy: 15.62500%\n"
     ]
    },
    {
     "name": "stdout",
     "output_type": "stream",
     "text": [
      "Models' parameters and optimisers' parameters saved.\n",
      "\n",
      "Current Fold: 2 | Epoch: 37\n"
     ]
    },
    {
     "name": "stdout",
     "output_type": "stream",
     "text": [
      "Emotion Training Correct: 319/320 \n",
      "Emotion Training Accuracy: 99.68750%\n",
      "Speaker Training Correct: 0/320 \n",
      "Speaker Training Accuracy: 0.00000%\n"
     ]
    },
    {
     "name": "stdout",
     "output_type": "stream",
     "text": [
      "\n",
      "Emotion Validating Correct: 63/96 \n",
      "Emotion Validating Accuracy: 65.62500%\n",
      "Speaker Validating Correct: 11/96 \n",
      "Speaker Validating Accuracy: 11.45833%\n",
      "\n",
      "Current Fold: 2 | Epoch: 38\n"
     ]
    },
    {
     "name": "stdout",
     "output_type": "stream",
     "text": [
      "Emotion Training Correct: 318/320 \n",
      "Emotion Training Accuracy: 99.37500%\n",
      "Speaker Training Correct: 0/320 \n",
      "Speaker Training Accuracy: 0.00000%\n"
     ]
    },
    {
     "name": "stdout",
     "output_type": "stream",
     "text": [
      "\n",
      "Emotion Validating Correct: 63/96 \n",
      "Emotion Validating Accuracy: 65.62500%\n",
      "Speaker Validating Correct: 12/96 \n",
      "Speaker Validating Accuracy: 12.50000%\n",
      "\n",
      "Current Fold: 2 | Epoch: 39\n"
     ]
    },
    {
     "name": "stdout",
     "output_type": "stream",
     "text": [
      "Emotion Training Correct: 315/320 \n",
      "Emotion Training Accuracy: 98.43750%\n",
      "Speaker Training Correct: 0/320 \n",
      "Speaker Training Accuracy: 0.00000%\n"
     ]
    },
    {
     "name": "stdout",
     "output_type": "stream",
     "text": [
      "\n",
      "Emotion Validating Correct: 57/96 \n",
      "Emotion Validating Accuracy: 59.37500%\n",
      "Speaker Validating Correct: 13/96 \n",
      "Speaker Validating Accuracy: 13.54167%\n",
      "\n",
      "Current Fold: 2 | Epoch: 40\n"
     ]
    },
    {
     "name": "stdout",
     "output_type": "stream",
     "text": [
      "Emotion Training Correct: 315/320 \n",
      "Emotion Training Accuracy: 98.43750%\n",
      "Speaker Training Correct: 0/320 \n",
      "Speaker Training Accuracy: 0.00000%\n"
     ]
    },
    {
     "name": "stdout",
     "output_type": "stream",
     "text": [
      "\n",
      "Emotion Validating Correct: 73/96 \n",
      "Emotion Validating Accuracy: 76.04167%\n",
      "Speaker Validating Correct: 14/96 \n",
      "Speaker Validating Accuracy: 14.58333%\n"
     ]
    },
    {
     "name": "stdout",
     "output_type": "stream",
     "text": [
      "Models' parameters and optimisers' parameters saved.\n",
      "\n",
      "Current Fold: 2 | Epoch: 41\n"
     ]
    },
    {
     "name": "stdout",
     "output_type": "stream",
     "text": [
      "Emotion Training Correct: 319/320 \n",
      "Emotion Training Accuracy: 99.68750%\n",
      "Speaker Training Correct: 0/320 \n",
      "Speaker Training Accuracy: 0.00000%\n"
     ]
    },
    {
     "name": "stdout",
     "output_type": "stream",
     "text": [
      "\n",
      "Emotion Validating Correct: 62/96 \n",
      "Emotion Validating Accuracy: 64.58333%\n",
      "Speaker Validating Correct: 11/96 \n",
      "Speaker Validating Accuracy: 11.45833%\n",
      "\n",
      "Current Fold: 2 | Epoch: 42\n"
     ]
    },
    {
     "name": "stdout",
     "output_type": "stream",
     "text": [
      "Emotion Training Correct: 320/320 \n",
      "Emotion Training Accuracy: 100.00000%\n",
      "Speaker Training Correct: 0/320 \n",
      "Speaker Training Accuracy: 0.00000%\n"
     ]
    },
    {
     "name": "stdout",
     "output_type": "stream",
     "text": [
      "\n",
      "Emotion Validating Correct: 66/96 \n",
      "Emotion Validating Accuracy: 68.75000%\n",
      "Speaker Validating Correct: 12/96 \n",
      "Speaker Validating Accuracy: 12.50000%\n",
      "\n",
      "Current Fold: 2 | Epoch: 43\n"
     ]
    },
    {
     "name": "stdout",
     "output_type": "stream",
     "text": [
      "Emotion Training Correct: 320/320 \n",
      "Emotion Training Accuracy: 100.00000%\n",
      "Speaker Training Correct: 0/320 \n",
      "Speaker Training Accuracy: 0.00000%\n"
     ]
    },
    {
     "name": "stdout",
     "output_type": "stream",
     "text": [
      "\n",
      "Emotion Validating Correct: 66/96 \n",
      "Emotion Validating Accuracy: 68.75000%\n",
      "Speaker Validating Correct: 11/96 \n",
      "Speaker Validating Accuracy: 11.45833%\n",
      "\n",
      "Current Fold: 2 | Epoch: 44\n"
     ]
    },
    {
     "name": "stdout",
     "output_type": "stream",
     "text": [
      "Emotion Training Correct: 320/320 \n",
      "Emotion Training Accuracy: 100.00000%\n",
      "Speaker Training Correct: 0/320 \n",
      "Speaker Training Accuracy: 0.00000%\n"
     ]
    },
    {
     "name": "stdout",
     "output_type": "stream",
     "text": [
      "\n",
      "Emotion Validating Correct: 72/96 \n",
      "Emotion Validating Accuracy: 75.00000%\n",
      "Speaker Validating Correct: 11/96 \n",
      "Speaker Validating Accuracy: 11.45833%\n",
      "\n",
      "Current Fold: 2 | Epoch: 45\n"
     ]
    },
    {
     "name": "stdout",
     "output_type": "stream",
     "text": [
      "Emotion Training Correct: 319/320 \n",
      "Emotion Training Accuracy: 99.68750%\n",
      "Speaker Training Correct: 0/320 \n",
      "Speaker Training Accuracy: 0.00000%\n"
     ]
    },
    {
     "name": "stdout",
     "output_type": "stream",
     "text": [
      "\n",
      "Emotion Validating Correct: 54/96 \n",
      "Emotion Validating Accuracy: 56.25000%\n",
      "Speaker Validating Correct: 9/96 \n",
      "Speaker Validating Accuracy: 9.37500%\n",
      "\n",
      "Current Fold: 2 | Epoch: 46\n"
     ]
    },
    {
     "name": "stdout",
     "output_type": "stream",
     "text": [
      "Emotion Training Correct: 316/320 \n",
      "Emotion Training Accuracy: 98.75000%\n",
      "Speaker Training Correct: 0/320 \n",
      "Speaker Training Accuracy: 0.00000%\n"
     ]
    },
    {
     "name": "stdout",
     "output_type": "stream",
     "text": [
      "\n",
      "Emotion Validating Correct: 68/96 \n",
      "Emotion Validating Accuracy: 70.83333%\n",
      "Speaker Validating Correct: 13/96 \n",
      "Speaker Validating Accuracy: 13.54167%\n",
      "\n",
      "Current Fold: 2 | Epoch: 47\n"
     ]
    },
    {
     "name": "stdout",
     "output_type": "stream",
     "text": [
      "Emotion Training Correct: 320/320 \n",
      "Emotion Training Accuracy: 100.00000%\n",
      "Speaker Training Correct: 0/320 \n",
      "Speaker Training Accuracy: 0.00000%\n"
     ]
    },
    {
     "name": "stdout",
     "output_type": "stream",
     "text": [
      "\n",
      "Emotion Validating Correct: 63/96 \n",
      "Emotion Validating Accuracy: 65.62500%\n",
      "Speaker Validating Correct: 10/96 \n",
      "Speaker Validating Accuracy: 10.41667%\n",
      "\n",
      "Current Fold: 2 | Epoch: 48\n"
     ]
    },
    {
     "name": "stdout",
     "output_type": "stream",
     "text": [
      "Emotion Training Correct: 317/320 \n",
      "Emotion Training Accuracy: 99.06250%\n",
      "Speaker Training Correct: 0/320 \n",
      "Speaker Training Accuracy: 0.00000%\n"
     ]
    },
    {
     "name": "stdout",
     "output_type": "stream",
     "text": [
      "\n",
      "Emotion Validating Correct: 64/96 \n",
      "Emotion Validating Accuracy: 66.66667%\n",
      "Speaker Validating Correct: 12/96 \n",
      "Speaker Validating Accuracy: 12.50000%\n",
      "\n",
      "Current Fold: 2 | Epoch: 49\n"
     ]
    },
    {
     "name": "stdout",
     "output_type": "stream",
     "text": [
      "Emotion Training Correct: 318/320 \n",
      "Emotion Training Accuracy: 99.37500%\n",
      "Speaker Training Correct: 0/320 \n",
      "Speaker Training Accuracy: 0.00000%\n"
     ]
    },
    {
     "name": "stdout",
     "output_type": "stream",
     "text": [
      "\n",
      "Emotion Validating Correct: 69/96 \n",
      "Emotion Validating Accuracy: 71.87500%\n",
      "Speaker Validating Correct: 16/96 \n",
      "Speaker Validating Accuracy: 16.66667%\n",
      "\n",
      "Current Fold: 2 | Epoch: 50\n"
     ]
    },
    {
     "name": "stdout",
     "output_type": "stream",
     "text": [
      "Emotion Training Correct: 319/320 \n",
      "Emotion Training Accuracy: 99.68750%\n",
      "Speaker Training Correct: 0/320 \n",
      "Speaker Training Accuracy: 0.00000%\n"
     ]
    },
    {
     "name": "stdout",
     "output_type": "stream",
     "text": [
      "\n",
      "Emotion Validating Correct: 66/96 \n",
      "Emotion Validating Accuracy: 68.75000%\n",
      "Speaker Validating Correct: 16/96 \n",
      "Speaker Validating Accuracy: 16.66667%\n",
      "\n",
      "Current Fold: 2 | Epoch: 51\n"
     ]
    },
    {
     "name": "stdout",
     "output_type": "stream",
     "text": [
      "Emotion Training Correct: 318/320 \n",
      "Emotion Training Accuracy: 99.37500%\n",
      "Speaker Training Correct: 0/320 \n",
      "Speaker Training Accuracy: 0.00000%\n"
     ]
    },
    {
     "name": "stdout",
     "output_type": "stream",
     "text": [
      "\n",
      "Emotion Validating Correct: 61/96 \n",
      "Emotion Validating Accuracy: 63.54167%\n",
      "Speaker Validating Correct: 15/96 \n",
      "Speaker Validating Accuracy: 15.62500%\n",
      "\n",
      "Current Fold: 2 | Epoch: 52\n"
     ]
    },
    {
     "name": "stdout",
     "output_type": "stream",
     "text": [
      "Emotion Training Correct: 317/320 \n",
      "Emotion Training Accuracy: 99.06250%\n",
      "Speaker Training Correct: 0/320 \n",
      "Speaker Training Accuracy: 0.00000%\n"
     ]
    },
    {
     "name": "stdout",
     "output_type": "stream",
     "text": [
      "\n",
      "Emotion Validating Correct: 62/96 \n",
      "Emotion Validating Accuracy: 64.58333%\n",
      "Speaker Validating Correct: 10/96 \n",
      "Speaker Validating Accuracy: 10.41667%\n",
      "\n",
      "Current Fold: 2 | Epoch: 53\n"
     ]
    },
    {
     "name": "stdout",
     "output_type": "stream",
     "text": [
      "Emotion Training Correct: 320/320 \n",
      "Emotion Training Accuracy: 100.00000%\n",
      "Speaker Training Correct: 0/320 \n",
      "Speaker Training Accuracy: 0.00000%\n"
     ]
    },
    {
     "name": "stdout",
     "output_type": "stream",
     "text": [
      "\n",
      "Emotion Validating Correct: 63/96 \n",
      "Emotion Validating Accuracy: 65.62500%\n",
      "Speaker Validating Correct: 11/96 \n",
      "Speaker Validating Accuracy: 11.45833%\n",
      "\n",
      "Current Fold: 2 | Epoch: 54\n"
     ]
    },
    {
     "name": "stdout",
     "output_type": "stream",
     "text": [
      "Emotion Training Correct: 320/320 \n",
      "Emotion Training Accuracy: 100.00000%\n",
      "Speaker Training Correct: 0/320 \n",
      "Speaker Training Accuracy: 0.00000%\n"
     ]
    },
    {
     "name": "stdout",
     "output_type": "stream",
     "text": [
      "\n",
      "Emotion Validating Correct: 67/96 \n",
      "Emotion Validating Accuracy: 69.79167%\n",
      "Speaker Validating Correct: 11/96 \n",
      "Speaker Validating Accuracy: 11.45833%\n",
      "\n",
      "Current Fold: 2 | Epoch: 55\n"
     ]
    },
    {
     "name": "stdout",
     "output_type": "stream",
     "text": [
      "Emotion Training Correct: 317/320 \n",
      "Emotion Training Accuracy: 99.06250%\n",
      "Speaker Training Correct: 0/320 \n",
      "Speaker Training Accuracy: 0.00000%\n"
     ]
    },
    {
     "name": "stdout",
     "output_type": "stream",
     "text": [
      "\n",
      "Emotion Validating Correct: 56/96 \n",
      "Emotion Validating Accuracy: 58.33333%\n",
      "Speaker Validating Correct: 11/96 \n",
      "Speaker Validating Accuracy: 11.45833%\n",
      "\n",
      "Current Fold: 2 | Epoch: 56\n"
     ]
    },
    {
     "name": "stdout",
     "output_type": "stream",
     "text": [
      "Emotion Training Correct: 320/320 \n",
      "Emotion Training Accuracy: 100.00000%\n",
      "Speaker Training Correct: 0/320 \n",
      "Speaker Training Accuracy: 0.00000%\n"
     ]
    },
    {
     "name": "stdout",
     "output_type": "stream",
     "text": [
      "\n",
      "Emotion Validating Correct: 61/96 \n",
      "Emotion Validating Accuracy: 63.54167%\n",
      "Speaker Validating Correct: 12/96 \n",
      "Speaker Validating Accuracy: 12.50000%\n",
      "\n",
      "Current Fold: 2 | Epoch: 57\n"
     ]
    },
    {
     "name": "stdout",
     "output_type": "stream",
     "text": [
      "Emotion Training Correct: 320/320 \n",
      "Emotion Training Accuracy: 100.00000%\n",
      "Speaker Training Correct: 0/320 \n",
      "Speaker Training Accuracy: 0.00000%\n"
     ]
    },
    {
     "name": "stdout",
     "output_type": "stream",
     "text": [
      "\n",
      "Emotion Validating Correct: 67/96 \n",
      "Emotion Validating Accuracy: 69.79167%\n",
      "Speaker Validating Correct: 11/96 \n",
      "Speaker Validating Accuracy: 11.45833%\n",
      "\n",
      "Current Fold: 2 | Epoch: 58\n"
     ]
    },
    {
     "name": "stdout",
     "output_type": "stream",
     "text": [
      "Emotion Training Correct: 320/320 \n",
      "Emotion Training Accuracy: 100.00000%\n",
      "Speaker Training Correct: 0/320 \n",
      "Speaker Training Accuracy: 0.00000%\n"
     ]
    },
    {
     "name": "stdout",
     "output_type": "stream",
     "text": [
      "\n",
      "Emotion Validating Correct: 65/96 \n",
      "Emotion Validating Accuracy: 67.70833%\n",
      "Speaker Validating Correct: 12/96 \n",
      "Speaker Validating Accuracy: 12.50000%\n",
      "\n",
      "Current Fold: 2 | Epoch: 59\n"
     ]
    },
    {
     "name": "stdout",
     "output_type": "stream",
     "text": [
      "Emotion Training Correct: 320/320 \n",
      "Emotion Training Accuracy: 100.00000%\n",
      "Speaker Training Correct: 0/320 \n",
      "Speaker Training Accuracy: 0.00000%\n"
     ]
    },
    {
     "name": "stdout",
     "output_type": "stream",
     "text": [
      "\n",
      "Emotion Validating Correct: 63/96 \n",
      "Emotion Validating Accuracy: 65.62500%\n",
      "Speaker Validating Correct: 9/96 \n",
      "Speaker Validating Accuracy: 9.37500%\n",
      "\n",
      "Current Fold: 2 | Epoch: 60\n"
     ]
    },
    {
     "name": "stdout",
     "output_type": "stream",
     "text": [
      "Emotion Training Correct: 320/320 \n",
      "Emotion Training Accuracy: 100.00000%\n",
      "Speaker Training Correct: 0/320 \n",
      "Speaker Training Accuracy: 0.00000%\n"
     ]
    },
    {
     "name": "stdout",
     "output_type": "stream",
     "text": [
      "\n",
      "Emotion Validating Correct: 52/96 \n",
      "Emotion Validating Accuracy: 54.16667%\n",
      "Speaker Validating Correct: 9/96 \n",
      "Speaker Validating Accuracy: 9.37500%\n",
      "\n",
      "Current Fold: 2 | Epoch: 61\n"
     ]
    },
    {
     "name": "stdout",
     "output_type": "stream",
     "text": [
      "Emotion Training Correct: 320/320 \n",
      "Emotion Training Accuracy: 100.00000%\n",
      "Speaker Training Correct: 0/320 \n",
      "Speaker Training Accuracy: 0.00000%\n"
     ]
    },
    {
     "name": "stdout",
     "output_type": "stream",
     "text": [
      "\n",
      "Emotion Validating Correct: 63/96 \n",
      "Emotion Validating Accuracy: 65.62500%\n",
      "Speaker Validating Correct: 13/96 \n",
      "Speaker Validating Accuracy: 13.54167%\n",
      "\n",
      "Current Fold: 2 | Epoch: 62\n"
     ]
    },
    {
     "name": "stdout",
     "output_type": "stream",
     "text": [
      "Emotion Training Correct: 320/320 \n",
      "Emotion Training Accuracy: 100.00000%\n",
      "Speaker Training Correct: 0/320 \n",
      "Speaker Training Accuracy: 0.00000%\n"
     ]
    },
    {
     "name": "stdout",
     "output_type": "stream",
     "text": [
      "\n",
      "Emotion Validating Correct: 67/96 \n",
      "Emotion Validating Accuracy: 69.79167%\n",
      "Speaker Validating Correct: 13/96 \n",
      "Speaker Validating Accuracy: 13.54167%\n",
      "\n",
      "Current Fold: 2 | Epoch: 63\n"
     ]
    },
    {
     "name": "stdout",
     "output_type": "stream",
     "text": [
      "Emotion Training Correct: 320/320 \n",
      "Emotion Training Accuracy: 100.00000%\n",
      "Speaker Training Correct: 0/320 \n",
      "Speaker Training Accuracy: 0.00000%\n"
     ]
    },
    {
     "name": "stdout",
     "output_type": "stream",
     "text": [
      "\n",
      "Emotion Validating Correct: 68/96 \n",
      "Emotion Validating Accuracy: 70.83333%\n",
      "Speaker Validating Correct: 11/96 \n",
      "Speaker Validating Accuracy: 11.45833%\n",
      "\n",
      "Current Fold: 2 | Epoch: 64\n"
     ]
    },
    {
     "name": "stdout",
     "output_type": "stream",
     "text": [
      "Emotion Training Correct: 320/320 \n",
      "Emotion Training Accuracy: 100.00000%\n",
      "Speaker Training Correct: 0/320 \n",
      "Speaker Training Accuracy: 0.00000%\n"
     ]
    },
    {
     "name": "stdout",
     "output_type": "stream",
     "text": [
      "\n",
      "Emotion Validating Correct: 65/96 \n",
      "Emotion Validating Accuracy: 67.70833%\n",
      "Speaker Validating Correct: 11/96 \n",
      "Speaker Validating Accuracy: 11.45833%\n",
      "\n",
      "Current Fold: 2 | Epoch: 65\n"
     ]
    },
    {
     "name": "stdout",
     "output_type": "stream",
     "text": [
      "Emotion Training Correct: 320/320 \n",
      "Emotion Training Accuracy: 100.00000%\n",
      "Speaker Training Correct: 0/320 \n",
      "Speaker Training Accuracy: 0.00000%\n"
     ]
    },
    {
     "name": "stdout",
     "output_type": "stream",
     "text": [
      "\n",
      "Emotion Validating Correct: 68/96 \n",
      "Emotion Validating Accuracy: 70.83333%\n",
      "Speaker Validating Correct: 14/96 \n",
      "Speaker Validating Accuracy: 14.58333%\n",
      "\n",
      "Current Fold: 2 | Epoch: 66\n"
     ]
    },
    {
     "name": "stdout",
     "output_type": "stream",
     "text": [
      "Emotion Training Correct: 319/320 \n",
      "Emotion Training Accuracy: 99.68750%\n",
      "Speaker Training Correct: 0/320 \n",
      "Speaker Training Accuracy: 0.00000%\n"
     ]
    },
    {
     "name": "stdout",
     "output_type": "stream",
     "text": [
      "\n",
      "Emotion Validating Correct: 64/96 \n",
      "Emotion Validating Accuracy: 66.66667%\n",
      "Speaker Validating Correct: 15/96 \n",
      "Speaker Validating Accuracy: 15.62500%\n",
      "\n",
      "Current Fold: 2 | Epoch: 67\n"
     ]
    },
    {
     "name": "stdout",
     "output_type": "stream",
     "text": [
      "Emotion Training Correct: 318/320 \n",
      "Emotion Training Accuracy: 99.37500%\n",
      "Speaker Training Correct: 0/320 \n",
      "Speaker Training Accuracy: 0.00000%\n"
     ]
    },
    {
     "name": "stdout",
     "output_type": "stream",
     "text": [
      "\n",
      "Emotion Validating Correct: 56/96 \n",
      "Emotion Validating Accuracy: 58.33333%\n",
      "Speaker Validating Correct: 13/96 \n",
      "Speaker Validating Accuracy: 13.54167%\n",
      "\n",
      "Current Fold: 2 | Epoch: 68\n"
     ]
    },
    {
     "name": "stdout",
     "output_type": "stream",
     "text": [
      "Emotion Training Correct: 319/320 \n",
      "Emotion Training Accuracy: 99.68750%\n",
      "Speaker Training Correct: 0/320 \n",
      "Speaker Training Accuracy: 0.00000%\n"
     ]
    },
    {
     "name": "stdout",
     "output_type": "stream",
     "text": [
      "\n",
      "Emotion Validating Correct: 52/96 \n",
      "Emotion Validating Accuracy: 54.16667%\n",
      "Speaker Validating Correct: 12/96 \n",
      "Speaker Validating Accuracy: 12.50000%\n",
      "\n",
      "Current Fold: 2 | Epoch: 69\n"
     ]
    },
    {
     "name": "stdout",
     "output_type": "stream",
     "text": [
      "Emotion Training Correct: 320/320 \n",
      "Emotion Training Accuracy: 100.00000%\n",
      "Speaker Training Correct: 0/320 \n",
      "Speaker Training Accuracy: 0.00000%\n"
     ]
    },
    {
     "name": "stdout",
     "output_type": "stream",
     "text": [
      "\n",
      "Emotion Validating Correct: 62/96 \n",
      "Emotion Validating Accuracy: 64.58333%\n",
      "Speaker Validating Correct: 13/96 \n",
      "Speaker Validating Accuracy: 13.54167%\n",
      "\n",
      "Current Fold: 2 | Epoch: 70\n"
     ]
    },
    {
     "name": "stdout",
     "output_type": "stream",
     "text": [
      "Emotion Training Correct: 320/320 \n",
      "Emotion Training Accuracy: 100.00000%\n",
      "Speaker Training Correct: 0/320 \n",
      "Speaker Training Accuracy: 0.00000%\n"
     ]
    },
    {
     "name": "stdout",
     "output_type": "stream",
     "text": [
      "\n",
      "Emotion Validating Correct: 64/96 \n",
      "Emotion Validating Accuracy: 66.66667%\n",
      "Speaker Validating Correct: 13/96 \n",
      "Speaker Validating Accuracy: 13.54167%\n",
      "\n",
      "Current Fold: 2 | Epoch: 71\n"
     ]
    },
    {
     "name": "stdout",
     "output_type": "stream",
     "text": [
      "Emotion Training Correct: 320/320 \n",
      "Emotion Training Accuracy: 100.00000%\n",
      "Speaker Training Correct: 0/320 \n",
      "Speaker Training Accuracy: 0.00000%\n"
     ]
    },
    {
     "name": "stdout",
     "output_type": "stream",
     "text": [
      "\n",
      "Emotion Validating Correct: 70/96 \n",
      "Emotion Validating Accuracy: 72.91667%\n",
      "Speaker Validating Correct: 13/96 \n",
      "Speaker Validating Accuracy: 13.54167%\n",
      "\n",
      "Current Fold: 2 | Epoch: 72\n"
     ]
    },
    {
     "name": "stdout",
     "output_type": "stream",
     "text": [
      "Emotion Training Correct: 320/320 \n",
      "Emotion Training Accuracy: 100.00000%\n",
      "Speaker Training Correct: 0/320 \n",
      "Speaker Training Accuracy: 0.00000%\n"
     ]
    },
    {
     "name": "stdout",
     "output_type": "stream",
     "text": [
      "\n",
      "Emotion Validating Correct: 67/96 \n",
      "Emotion Validating Accuracy: 69.79167%\n",
      "Speaker Validating Correct: 11/96 \n",
      "Speaker Validating Accuracy: 11.45833%\n",
      "\n",
      "Current Fold: 2 | Epoch: 73\n"
     ]
    },
    {
     "name": "stdout",
     "output_type": "stream",
     "text": [
      "Emotion Training Correct: 320/320 \n",
      "Emotion Training Accuracy: 100.00000%\n",
      "Speaker Training Correct: 0/320 \n",
      "Speaker Training Accuracy: 0.00000%\n"
     ]
    },
    {
     "name": "stdout",
     "output_type": "stream",
     "text": [
      "\n",
      "Emotion Validating Correct: 64/96 \n",
      "Emotion Validating Accuracy: 66.66667%\n",
      "Speaker Validating Correct: 11/96 \n",
      "Speaker Validating Accuracy: 11.45833%\n",
      "\n",
      "Current Fold: 2 | Epoch: 74\n"
     ]
    },
    {
     "name": "stdout",
     "output_type": "stream",
     "text": [
      "Emotion Training Correct: 320/320 \n",
      "Emotion Training Accuracy: 100.00000%\n",
      "Speaker Training Correct: 0/320 \n",
      "Speaker Training Accuracy: 0.00000%\n"
     ]
    },
    {
     "name": "stdout",
     "output_type": "stream",
     "text": [
      "\n",
      "Emotion Validating Correct: 61/96 \n",
      "Emotion Validating Accuracy: 63.54167%\n",
      "Speaker Validating Correct: 12/96 \n",
      "Speaker Validating Accuracy: 12.50000%\n",
      "\n",
      "Current Fold: 2 | Epoch: 75\n"
     ]
    },
    {
     "name": "stdout",
     "output_type": "stream",
     "text": [
      "Emotion Training Correct: 320/320 \n",
      "Emotion Training Accuracy: 100.00000%\n",
      "Speaker Training Correct: 0/320 \n",
      "Speaker Training Accuracy: 0.00000%\n"
     ]
    },
    {
     "name": "stdout",
     "output_type": "stream",
     "text": [
      "\n",
      "Emotion Validating Correct: 62/96 \n",
      "Emotion Validating Accuracy: 64.58333%\n",
      "Speaker Validating Correct: 12/96 \n",
      "Speaker Validating Accuracy: 12.50000%\n",
      "\n",
      "Current Fold: 2 | Epoch: 76\n"
     ]
    },
    {
     "name": "stdout",
     "output_type": "stream",
     "text": [
      "Emotion Training Correct: 320/320 \n",
      "Emotion Training Accuracy: 100.00000%\n",
      "Speaker Training Correct: 0/320 \n",
      "Speaker Training Accuracy: 0.00000%\n"
     ]
    },
    {
     "name": "stdout",
     "output_type": "stream",
     "text": [
      "\n",
      "Emotion Validating Correct: 66/96 \n",
      "Emotion Validating Accuracy: 68.75000%\n",
      "Speaker Validating Correct: 11/96 \n",
      "Speaker Validating Accuracy: 11.45833%\n",
      "\n",
      "Current Fold: 2 | Epoch: 77\n"
     ]
    },
    {
     "name": "stdout",
     "output_type": "stream",
     "text": [
      "Emotion Training Correct: 320/320 \n",
      "Emotion Training Accuracy: 100.00000%\n",
      "Speaker Training Correct: 0/320 \n",
      "Speaker Training Accuracy: 0.00000%\n"
     ]
    },
    {
     "name": "stdout",
     "output_type": "stream",
     "text": [
      "\n",
      "Emotion Validating Correct: 70/96 \n",
      "Emotion Validating Accuracy: 72.91667%\n",
      "Speaker Validating Correct: 13/96 \n",
      "Speaker Validating Accuracy: 13.54167%\n",
      "\n",
      "Current Fold: 2 | Epoch: 78\n"
     ]
    },
    {
     "name": "stdout",
     "output_type": "stream",
     "text": [
      "Emotion Training Correct: 320/320 \n",
      "Emotion Training Accuracy: 100.00000%\n",
      "Speaker Training Correct: 0/320 \n",
      "Speaker Training Accuracy: 0.00000%\n"
     ]
    },
    {
     "name": "stdout",
     "output_type": "stream",
     "text": [
      "\n",
      "Emotion Validating Correct: 69/96 \n",
      "Emotion Validating Accuracy: 71.87500%\n",
      "Speaker Validating Correct: 11/96 \n",
      "Speaker Validating Accuracy: 11.45833%\n",
      "\n",
      "Current Fold: 2 | Epoch: 79\n"
     ]
    },
    {
     "name": "stdout",
     "output_type": "stream",
     "text": [
      "Emotion Training Correct: 320/320 \n",
      "Emotion Training Accuracy: 100.00000%\n",
      "Speaker Training Correct: 0/320 \n",
      "Speaker Training Accuracy: 0.00000%\n"
     ]
    },
    {
     "name": "stdout",
     "output_type": "stream",
     "text": [
      "\n",
      "Emotion Validating Correct: 62/96 \n",
      "Emotion Validating Accuracy: 64.58333%\n",
      "Speaker Validating Correct: 11/96 \n",
      "Speaker Validating Accuracy: 11.45833%\n",
      "\n",
      "Current Fold: 2 | Epoch: 80\n"
     ]
    },
    {
     "name": "stdout",
     "output_type": "stream",
     "text": [
      "Emotion Training Correct: 320/320 \n",
      "Emotion Training Accuracy: 100.00000%\n",
      "Speaker Training Correct: 0/320 \n",
      "Speaker Training Accuracy: 0.00000%\n"
     ]
    },
    {
     "name": "stdout",
     "output_type": "stream",
     "text": [
      "\n",
      "Emotion Validating Correct: 65/96 \n",
      "Emotion Validating Accuracy: 67.70833%\n",
      "Speaker Validating Correct: 12/96 \n",
      "Speaker Validating Accuracy: 12.50000%\n",
      "\n",
      "Current Fold: 2 | Epoch: 81\n"
     ]
    },
    {
     "name": "stdout",
     "output_type": "stream",
     "text": [
      "Emotion Training Correct: 320/320 \n",
      "Emotion Training Accuracy: 100.00000%\n",
      "Speaker Training Correct: 0/320 \n",
      "Speaker Training Accuracy: 0.00000%\n"
     ]
    },
    {
     "name": "stdout",
     "output_type": "stream",
     "text": [
      "\n",
      "Emotion Validating Correct: 67/96 \n",
      "Emotion Validating Accuracy: 69.79167%\n",
      "Speaker Validating Correct: 11/96 \n",
      "Speaker Validating Accuracy: 11.45833%\n",
      "\n",
      "Current Fold: 2 | Epoch: 82\n"
     ]
    },
    {
     "name": "stdout",
     "output_type": "stream",
     "text": [
      "Emotion Training Correct: 320/320 \n",
      "Emotion Training Accuracy: 100.00000%\n",
      "Speaker Training Correct: 0/320 \n",
      "Speaker Training Accuracy: 0.00000%\n"
     ]
    },
    {
     "name": "stdout",
     "output_type": "stream",
     "text": [
      "\n",
      "Emotion Validating Correct: 63/96 \n",
      "Emotion Validating Accuracy: 65.62500%\n",
      "Speaker Validating Correct: 12/96 \n",
      "Speaker Validating Accuracy: 12.50000%\n",
      "\n",
      "Current Fold: 2 | Epoch: 83\n"
     ]
    },
    {
     "name": "stdout",
     "output_type": "stream",
     "text": [
      "Emotion Training Correct: 320/320 \n",
      "Emotion Training Accuracy: 100.00000%\n",
      "Speaker Training Correct: 0/320 \n",
      "Speaker Training Accuracy: 0.00000%\n"
     ]
    },
    {
     "name": "stdout",
     "output_type": "stream",
     "text": [
      "\n",
      "Emotion Validating Correct: 65/96 \n",
      "Emotion Validating Accuracy: 67.70833%\n",
      "Speaker Validating Correct: 11/96 \n",
      "Speaker Validating Accuracy: 11.45833%\n",
      "\n",
      "Current Fold: 2 | Epoch: 84\n"
     ]
    },
    {
     "name": "stdout",
     "output_type": "stream",
     "text": [
      "Emotion Training Correct: 320/320 \n",
      "Emotion Training Accuracy: 100.00000%\n",
      "Speaker Training Correct: 0/320 \n",
      "Speaker Training Accuracy: 0.00000%\n"
     ]
    },
    {
     "name": "stdout",
     "output_type": "stream",
     "text": [
      "\n",
      "Emotion Validating Correct: 66/96 \n",
      "Emotion Validating Accuracy: 68.75000%\n",
      "Speaker Validating Correct: 11/96 \n",
      "Speaker Validating Accuracy: 11.45833%\n",
      "\n",
      "Current Fold: 2 | Epoch: 85\n"
     ]
    },
    {
     "name": "stdout",
     "output_type": "stream",
     "text": [
      "Emotion Training Correct: 320/320 \n",
      "Emotion Training Accuracy: 100.00000%\n",
      "Speaker Training Correct: 0/320 \n",
      "Speaker Training Accuracy: 0.00000%\n"
     ]
    },
    {
     "name": "stdout",
     "output_type": "stream",
     "text": [
      "\n",
      "Emotion Validating Correct: 69/96 \n",
      "Emotion Validating Accuracy: 71.87500%\n",
      "Speaker Validating Correct: 11/96 \n",
      "Speaker Validating Accuracy: 11.45833%\n",
      "\n",
      "Current Fold: 2 | Epoch: 86\n"
     ]
    },
    {
     "name": "stdout",
     "output_type": "stream",
     "text": [
      "Emotion Training Correct: 320/320 \n",
      "Emotion Training Accuracy: 100.00000%\n",
      "Speaker Training Correct: 0/320 \n",
      "Speaker Training Accuracy: 0.00000%\n"
     ]
    },
    {
     "name": "stdout",
     "output_type": "stream",
     "text": [
      "\n",
      "Emotion Validating Correct: 70/96 \n",
      "Emotion Validating Accuracy: 72.91667%\n",
      "Speaker Validating Correct: 11/96 \n",
      "Speaker Validating Accuracy: 11.45833%\n",
      "\n",
      "Current Fold: 2 | Epoch: 87\n"
     ]
    },
    {
     "name": "stdout",
     "output_type": "stream",
     "text": [
      "Emotion Training Correct: 320/320 \n",
      "Emotion Training Accuracy: 100.00000%\n",
      "Speaker Training Correct: 0/320 \n",
      "Speaker Training Accuracy: 0.00000%\n"
     ]
    },
    {
     "name": "stdout",
     "output_type": "stream",
     "text": [
      "\n",
      "Emotion Validating Correct: 64/96 \n",
      "Emotion Validating Accuracy: 66.66667%\n",
      "Speaker Validating Correct: 11/96 \n",
      "Speaker Validating Accuracy: 11.45833%\n",
      "\n",
      "Current Fold: 2 | Epoch: 88\n"
     ]
    },
    {
     "name": "stdout",
     "output_type": "stream",
     "text": [
      "Emotion Training Correct: 320/320 \n",
      "Emotion Training Accuracy: 100.00000%\n",
      "Speaker Training Correct: 0/320 \n",
      "Speaker Training Accuracy: 0.00000%\n"
     ]
    },
    {
     "name": "stdout",
     "output_type": "stream",
     "text": [
      "\n",
      "Emotion Validating Correct: 69/96 \n",
      "Emotion Validating Accuracy: 71.87500%\n",
      "Speaker Validating Correct: 12/96 \n",
      "Speaker Validating Accuracy: 12.50000%\n",
      "\n",
      "Current Fold: 2 | Epoch: 89\n"
     ]
    },
    {
     "name": "stdout",
     "output_type": "stream",
     "text": [
      "Emotion Training Correct: 320/320 \n",
      "Emotion Training Accuracy: 100.00000%\n",
      "Speaker Training Correct: 0/320 \n",
      "Speaker Training Accuracy: 0.00000%\n"
     ]
    },
    {
     "name": "stdout",
     "output_type": "stream",
     "text": [
      "\n",
      "Emotion Validating Correct: 73/96 \n",
      "Emotion Validating Accuracy: 76.04167%\n",
      "Speaker Validating Correct: 12/96 \n",
      "Speaker Validating Accuracy: 12.50000%\n"
     ]
    },
    {
     "name": "stdout",
     "output_type": "stream",
     "text": [
      "Models' parameters and optimisers' parameters saved.\n",
      "\n",
      "Current Fold: 2 | Epoch: 90\n"
     ]
    },
    {
     "name": "stdout",
     "output_type": "stream",
     "text": [
      "Emotion Training Correct: 320/320 \n",
      "Emotion Training Accuracy: 100.00000%\n",
      "Speaker Training Correct: 0/320 \n",
      "Speaker Training Accuracy: 0.00000%\n"
     ]
    },
    {
     "name": "stdout",
     "output_type": "stream",
     "text": [
      "\n",
      "Emotion Validating Correct: 72/96 \n",
      "Emotion Validating Accuracy: 75.00000%\n",
      "Speaker Validating Correct: 12/96 \n",
      "Speaker Validating Accuracy: 12.50000%\n",
      "\n",
      "Current Fold: 2 | Epoch: 91\n"
     ]
    },
    {
     "name": "stdout",
     "output_type": "stream",
     "text": [
      "Emotion Training Correct: 320/320 \n",
      "Emotion Training Accuracy: 100.00000%\n",
      "Speaker Training Correct: 0/320 \n",
      "Speaker Training Accuracy: 0.00000%\n"
     ]
    },
    {
     "name": "stdout",
     "output_type": "stream",
     "text": [
      "\n",
      "Emotion Validating Correct: 71/96 \n",
      "Emotion Validating Accuracy: 73.95833%\n",
      "Speaker Validating Correct: 12/96 \n",
      "Speaker Validating Accuracy: 12.50000%\n",
      "\n",
      "Current Fold: 2 | Epoch: 92\n"
     ]
    },
    {
     "name": "stdout",
     "output_type": "stream",
     "text": [
      "Emotion Training Correct: 320/320 \n",
      "Emotion Training Accuracy: 100.00000%\n",
      "Speaker Training Correct: 0/320 \n",
      "Speaker Training Accuracy: 0.00000%\n"
     ]
    },
    {
     "name": "stdout",
     "output_type": "stream",
     "text": [
      "\n",
      "Emotion Validating Correct: 66/96 \n",
      "Emotion Validating Accuracy: 68.75000%\n",
      "Speaker Validating Correct: 13/96 \n",
      "Speaker Validating Accuracy: 13.54167%\n",
      "\n",
      "Current Fold: 2 | Epoch: 93\n"
     ]
    },
    {
     "name": "stdout",
     "output_type": "stream",
     "text": [
      "Emotion Training Correct: 320/320 \n",
      "Emotion Training Accuracy: 100.00000%\n",
      "Speaker Training Correct: 0/320 \n",
      "Speaker Training Accuracy: 0.00000%\n"
     ]
    },
    {
     "name": "stdout",
     "output_type": "stream",
     "text": [
      "\n",
      "Emotion Validating Correct: 72/96 \n",
      "Emotion Validating Accuracy: 75.00000%\n",
      "Speaker Validating Correct: 13/96 \n",
      "Speaker Validating Accuracy: 13.54167%\n",
      "\n",
      "Current Fold: 2 | Epoch: 94\n"
     ]
    },
    {
     "name": "stdout",
     "output_type": "stream",
     "text": [
      "Emotion Training Correct: 320/320 \n",
      "Emotion Training Accuracy: 100.00000%\n",
      "Speaker Training Correct: 0/320 \n",
      "Speaker Training Accuracy: 0.00000%\n"
     ]
    },
    {
     "name": "stdout",
     "output_type": "stream",
     "text": [
      "\n",
      "Emotion Validating Correct: 68/96 \n",
      "Emotion Validating Accuracy: 70.83333%\n",
      "Speaker Validating Correct: 12/96 \n",
      "Speaker Validating Accuracy: 12.50000%\n",
      "\n",
      "Current Fold: 2 | Epoch: 95\n"
     ]
    },
    {
     "name": "stdout",
     "output_type": "stream",
     "text": [
      "Emotion Training Correct: 320/320 \n",
      "Emotion Training Accuracy: 100.00000%\n",
      "Speaker Training Correct: 0/320 \n",
      "Speaker Training Accuracy: 0.00000%\n"
     ]
    },
    {
     "name": "stdout",
     "output_type": "stream",
     "text": [
      "\n",
      "Emotion Validating Correct: 70/96 \n",
      "Emotion Validating Accuracy: 72.91667%\n",
      "Speaker Validating Correct: 12/96 \n",
      "Speaker Validating Accuracy: 12.50000%\n",
      "\n",
      "Current Fold: 2 | Epoch: 96\n"
     ]
    },
    {
     "name": "stdout",
     "output_type": "stream",
     "text": [
      "Emotion Training Correct: 320/320 \n",
      "Emotion Training Accuracy: 100.00000%\n",
      "Speaker Training Correct: 0/320 \n",
      "Speaker Training Accuracy: 0.00000%\n"
     ]
    },
    {
     "name": "stdout",
     "output_type": "stream",
     "text": [
      "\n",
      "Emotion Validating Correct: 66/96 \n",
      "Emotion Validating Accuracy: 68.75000%\n",
      "Speaker Validating Correct: 12/96 \n",
      "Speaker Validating Accuracy: 12.50000%\n",
      "\n",
      "Current Fold: 2 | Epoch: 97\n"
     ]
    },
    {
     "name": "stdout",
     "output_type": "stream",
     "text": [
      "Emotion Training Correct: 320/320 \n",
      "Emotion Training Accuracy: 100.00000%\n",
      "Speaker Training Correct: 0/320 \n",
      "Speaker Training Accuracy: 0.00000%\n"
     ]
    },
    {
     "name": "stdout",
     "output_type": "stream",
     "text": [
      "\n",
      "Emotion Validating Correct: 62/96 \n",
      "Emotion Validating Accuracy: 64.58333%\n",
      "Speaker Validating Correct: 12/96 \n",
      "Speaker Validating Accuracy: 12.50000%\n",
      "\n",
      "Current Fold: 2 | Epoch: 98\n"
     ]
    },
    {
     "name": "stdout",
     "output_type": "stream",
     "text": [
      "Emotion Training Correct: 317/320 \n",
      "Emotion Training Accuracy: 99.06250%\n",
      "Speaker Training Correct: 0/320 \n",
      "Speaker Training Accuracy: 0.00000%\n"
     ]
    },
    {
     "name": "stdout",
     "output_type": "stream",
     "text": [
      "\n",
      "Emotion Validating Correct: 69/96 \n",
      "Emotion Validating Accuracy: 71.87500%\n",
      "Speaker Validating Correct: 15/96 \n",
      "Speaker Validating Accuracy: 15.62500%\n",
      "\n",
      "Current Fold: 2 | Epoch: 99\n"
     ]
    },
    {
     "name": "stdout",
     "output_type": "stream",
     "text": [
      "Emotion Training Correct: 318/320 \n",
      "Emotion Training Accuracy: 99.37500%\n",
      "Speaker Training Correct: 0/320 \n",
      "Speaker Training Accuracy: 0.00000%\n"
     ]
    },
    {
     "name": "stdout",
     "output_type": "stream",
     "text": [
      "\n",
      "Emotion Validating Correct: 57/96 \n",
      "Emotion Validating Accuracy: 59.37500%\n",
      "Speaker Validating Correct: 12/96 \n",
      "Speaker Validating Accuracy: 12.50000%\n"
     ]
    },
    {
     "name": "stdout",
     "output_type": "stream",
     "text": [
      "\n",
      "Current Fold: 3 | Epoch: 0\n"
     ]
    },
    {
     "name": "stdout",
     "output_type": "stream",
     "text": [
      "Emotion Training Correct: 116/320 \n",
      "Emotion Training Accuracy: 36.25000%\n",
      "Speaker Training Correct: 0/320 \n",
      "Speaker Training Accuracy: 0.00000%\n"
     ]
    },
    {
     "name": "stdout",
     "output_type": "stream",
     "text": [
      "\n",
      "Emotion Validating Correct: 48/107 \n",
      "Emotion Validating Accuracy: 44.85981%\n",
      "Speaker Validating Correct: 30/107 \n",
      "Speaker Validating Accuracy: 28.03738%\n",
      "\n",
      "Current Fold: 3 | Epoch: 1\n"
     ]
    },
    {
     "name": "stdout",
     "output_type": "stream",
     "text": [
      "Emotion Training Correct: 132/320 \n",
      "Emotion Training Accuracy: 41.25000%\n",
      "Speaker Training Correct: 0/320 \n",
      "Speaker Training Accuracy: 0.00000%\n"
     ]
    },
    {
     "name": "stdout",
     "output_type": "stream",
     "text": [
      "\n",
      "Emotion Validating Correct: 50/107 \n",
      "Emotion Validating Accuracy: 46.72897%\n",
      "Speaker Validating Correct: 21/107 \n",
      "Speaker Validating Accuracy: 19.62617%\n"
     ]
    },
    {
     "name": "stdout",
     "output_type": "stream",
     "text": [
      "Models' parameters and optimisers' parameters saved.\n",
      "\n",
      "Current Fold: 3 | Epoch: 2\n"
     ]
    },
    {
     "name": "stdout",
     "output_type": "stream",
     "text": [
      "Emotion Training Correct: 143/320 \n",
      "Emotion Training Accuracy: 44.68750%\n",
      "Speaker Training Correct: 0/320 \n",
      "Speaker Training Accuracy: 0.00000%\n"
     ]
    },
    {
     "name": "stdout",
     "output_type": "stream",
     "text": [
      "\n",
      "Emotion Validating Correct: 58/107 \n",
      "Emotion Validating Accuracy: 54.20561%\n",
      "Speaker Validating Correct: 0/107 \n",
      "Speaker Validating Accuracy: 0.00000%\n"
     ]
    },
    {
     "name": "stdout",
     "output_type": "stream",
     "text": [
      "Models' parameters and optimisers' parameters saved.\n",
      "\n",
      "Current Fold: 3 | Epoch: 3\n"
     ]
    },
    {
     "name": "stdout",
     "output_type": "stream",
     "text": [
      "Emotion Training Correct: 155/320 \n",
      "Emotion Training Accuracy: 48.43750%\n",
      "Speaker Training Correct: 0/320 \n",
      "Speaker Training Accuracy: 0.00000%\n"
     ]
    },
    {
     "name": "stdout",
     "output_type": "stream",
     "text": [
      "\n",
      "Emotion Validating Correct: 61/107 \n",
      "Emotion Validating Accuracy: 57.00935%\n",
      "Speaker Validating Correct: 0/107 \n",
      "Speaker Validating Accuracy: 0.00000%\n"
     ]
    },
    {
     "name": "stdout",
     "output_type": "stream",
     "text": [
      "Models' parameters and optimisers' parameters saved.\n",
      "\n",
      "Current Fold: 3 | Epoch: 4\n"
     ]
    },
    {
     "name": "stdout",
     "output_type": "stream",
     "text": [
      "Emotion Training Correct: 153/320 \n",
      "Emotion Training Accuracy: 47.81250%\n",
      "Speaker Training Correct: 0/320 \n",
      "Speaker Training Accuracy: 0.00000%\n"
     ]
    },
    {
     "name": "stdout",
     "output_type": "stream",
     "text": [
      "\n",
      "Emotion Validating Correct: 62/107 \n",
      "Emotion Validating Accuracy: 57.94393%\n",
      "Speaker Validating Correct: 2/107 \n",
      "Speaker Validating Accuracy: 1.86916%\n"
     ]
    },
    {
     "name": "stdout",
     "output_type": "stream",
     "text": [
      "Models' parameters and optimisers' parameters saved.\n",
      "\n",
      "Current Fold: 3 | Epoch: 5\n"
     ]
    },
    {
     "name": "stdout",
     "output_type": "stream",
     "text": [
      "Emotion Training Correct: 170/320 \n",
      "Emotion Training Accuracy: 53.12500%\n",
      "Speaker Training Correct: 0/320 \n",
      "Speaker Training Accuracy: 0.00000%\n"
     ]
    },
    {
     "name": "stdout",
     "output_type": "stream",
     "text": [
      "\n",
      "Emotion Validating Correct: 67/107 \n",
      "Emotion Validating Accuracy: 62.61682%\n",
      "Speaker Validating Correct: 0/107 \n",
      "Speaker Validating Accuracy: 0.00000%\n"
     ]
    },
    {
     "name": "stdout",
     "output_type": "stream",
     "text": [
      "Models' parameters and optimisers' parameters saved.\n",
      "\n",
      "Current Fold: 3 | Epoch: 6\n"
     ]
    },
    {
     "name": "stdout",
     "output_type": "stream",
     "text": [
      "Emotion Training Correct: 167/320 \n",
      "Emotion Training Accuracy: 52.18750%\n",
      "Speaker Training Correct: 0/320 \n",
      "Speaker Training Accuracy: 0.00000%\n"
     ]
    },
    {
     "name": "stdout",
     "output_type": "stream",
     "text": [
      "\n",
      "Emotion Validating Correct: 74/107 \n",
      "Emotion Validating Accuracy: 69.15888%\n",
      "Speaker Validating Correct: 0/107 \n",
      "Speaker Validating Accuracy: 0.00000%\n"
     ]
    },
    {
     "name": "stdout",
     "output_type": "stream",
     "text": [
      "Models' parameters and optimisers' parameters saved.\n",
      "\n",
      "Current Fold: 3 | Epoch: 7\n"
     ]
    },
    {
     "name": "stdout",
     "output_type": "stream",
     "text": [
      "Emotion Training Correct: 187/320 \n",
      "Emotion Training Accuracy: 58.43750%\n",
      "Speaker Training Correct: 0/320 \n",
      "Speaker Training Accuracy: 0.00000%\n"
     ]
    },
    {
     "name": "stdout",
     "output_type": "stream",
     "text": [
      "\n",
      "Emotion Validating Correct: 78/107 \n",
      "Emotion Validating Accuracy: 72.89720%\n",
      "Speaker Validating Correct: 0/107 \n",
      "Speaker Validating Accuracy: 0.00000%\n"
     ]
    },
    {
     "name": "stdout",
     "output_type": "stream",
     "text": [
      "Models' parameters and optimisers' parameters saved.\n",
      "\n",
      "Current Fold: 3 | Epoch: 8\n"
     ]
    },
    {
     "name": "stdout",
     "output_type": "stream",
     "text": [
      "Emotion Training Correct: 177/320 \n",
      "Emotion Training Accuracy: 55.31250%\n",
      "Speaker Training Correct: 0/320 \n",
      "Speaker Training Accuracy: 0.00000%\n"
     ]
    },
    {
     "name": "stdout",
     "output_type": "stream",
     "text": [
      "\n",
      "Emotion Validating Correct: 51/107 \n",
      "Emotion Validating Accuracy: 47.66355%\n",
      "Speaker Validating Correct: 0/107 \n",
      "Speaker Validating Accuracy: 0.00000%\n",
      "\n",
      "Current Fold: 3 | Epoch: 9\n"
     ]
    },
    {
     "name": "stdout",
     "output_type": "stream",
     "text": [
      "Emotion Training Correct: 213/320 \n",
      "Emotion Training Accuracy: 66.56250%\n",
      "Speaker Training Correct: 0/320 \n",
      "Speaker Training Accuracy: 0.00000%\n"
     ]
    },
    {
     "name": "stdout",
     "output_type": "stream",
     "text": [
      "\n",
      "Emotion Validating Correct: 68/107 \n",
      "Emotion Validating Accuracy: 63.55140%\n",
      "Speaker Validating Correct: 0/107 \n",
      "Speaker Validating Accuracy: 0.00000%\n",
      "\n",
      "Current Fold: 3 | Epoch: 10\n"
     ]
    },
    {
     "name": "stdout",
     "output_type": "stream",
     "text": [
      "Emotion Training Correct: 206/320 \n",
      "Emotion Training Accuracy: 64.37500%\n",
      "Speaker Training Correct: 0/320 \n",
      "Speaker Training Accuracy: 0.00000%\n"
     ]
    },
    {
     "name": "stdout",
     "output_type": "stream",
     "text": [
      "\n",
      "Emotion Validating Correct: 78/107 \n",
      "Emotion Validating Accuracy: 72.89720%\n",
      "Speaker Validating Correct: 0/107 \n",
      "Speaker Validating Accuracy: 0.00000%\n"
     ]
    },
    {
     "name": "stdout",
     "output_type": "stream",
     "text": [
      "Models' parameters and optimisers' parameters saved.\n",
      "\n",
      "Current Fold: 3 | Epoch: 11\n"
     ]
    },
    {
     "name": "stdout",
     "output_type": "stream",
     "text": [
      "Emotion Training Correct: 218/320 \n",
      "Emotion Training Accuracy: 68.12500%\n",
      "Speaker Training Correct: 0/320 \n",
      "Speaker Training Accuracy: 0.00000%\n"
     ]
    },
    {
     "name": "stdout",
     "output_type": "stream",
     "text": [
      "\n",
      "Emotion Validating Correct: 75/107 \n",
      "Emotion Validating Accuracy: 70.09346%\n",
      "Speaker Validating Correct: 0/107 \n",
      "Speaker Validating Accuracy: 0.00000%\n",
      "\n",
      "Current Fold: 3 | Epoch: 12\n"
     ]
    },
    {
     "name": "stdout",
     "output_type": "stream",
     "text": [
      "Emotion Training Correct: 223/320 \n",
      "Emotion Training Accuracy: 69.68750%\n",
      "Speaker Training Correct: 0/320 \n",
      "Speaker Training Accuracy: 0.00000%\n"
     ]
    },
    {
     "name": "stdout",
     "output_type": "stream",
     "text": [
      "\n",
      "Emotion Validating Correct: 77/107 \n",
      "Emotion Validating Accuracy: 71.96262%\n",
      "Speaker Validating Correct: 0/107 \n",
      "Speaker Validating Accuracy: 0.00000%\n",
      "\n",
      "Current Fold: 3 | Epoch: 13\n"
     ]
    },
    {
     "name": "stdout",
     "output_type": "stream",
     "text": [
      "Emotion Training Correct: 232/320 \n",
      "Emotion Training Accuracy: 72.50000%\n",
      "Speaker Training Correct: 0/320 \n",
      "Speaker Training Accuracy: 0.00000%\n"
     ]
    },
    {
     "name": "stdout",
     "output_type": "stream",
     "text": [
      "\n",
      "Emotion Validating Correct: 79/107 \n",
      "Emotion Validating Accuracy: 73.83178%\n",
      "Speaker Validating Correct: 0/107 \n",
      "Speaker Validating Accuracy: 0.00000%\n"
     ]
    },
    {
     "name": "stdout",
     "output_type": "stream",
     "text": [
      "Models' parameters and optimisers' parameters saved.\n",
      "\n",
      "Current Fold: 3 | Epoch: 14\n"
     ]
    },
    {
     "name": "stdout",
     "output_type": "stream",
     "text": [
      "Emotion Training Correct: 230/320 \n",
      "Emotion Training Accuracy: 71.87500%\n",
      "Speaker Training Correct: 0/320 \n",
      "Speaker Training Accuracy: 0.00000%\n"
     ]
    },
    {
     "name": "stdout",
     "output_type": "stream",
     "text": [
      "\n",
      "Emotion Validating Correct: 67/107 \n",
      "Emotion Validating Accuracy: 62.61682%\n",
      "Speaker Validating Correct: 0/107 \n",
      "Speaker Validating Accuracy: 0.00000%\n",
      "\n",
      "Current Fold: 3 | Epoch: 15\n"
     ]
    },
    {
     "name": "stdout",
     "output_type": "stream",
     "text": [
      "Emotion Training Correct: 238/320 \n",
      "Emotion Training Accuracy: 74.37500%\n",
      "Speaker Training Correct: 0/320 \n",
      "Speaker Training Accuracy: 0.00000%\n"
     ]
    },
    {
     "name": "stdout",
     "output_type": "stream",
     "text": [
      "\n",
      "Emotion Validating Correct: 60/107 \n",
      "Emotion Validating Accuracy: 56.07477%\n",
      "Speaker Validating Correct: 0/107 \n",
      "Speaker Validating Accuracy: 0.00000%\n",
      "\n",
      "Current Fold: 3 | Epoch: 16\n"
     ]
    },
    {
     "name": "stdout",
     "output_type": "stream",
     "text": [
      "Emotion Training Correct: 244/320 \n",
      "Emotion Training Accuracy: 76.25000%\n",
      "Speaker Training Correct: 0/320 \n",
      "Speaker Training Accuracy: 0.00000%\n"
     ]
    },
    {
     "name": "stdout",
     "output_type": "stream",
     "text": [
      "\n",
      "Emotion Validating Correct: 78/107 \n",
      "Emotion Validating Accuracy: 72.89720%\n",
      "Speaker Validating Correct: 0/107 \n",
      "Speaker Validating Accuracy: 0.00000%\n",
      "\n",
      "Current Fold: 3 | Epoch: 17\n"
     ]
    },
    {
     "name": "stdout",
     "output_type": "stream",
     "text": [
      "Emotion Training Correct: 273/320 \n",
      "Emotion Training Accuracy: 85.31250%\n",
      "Speaker Training Correct: 0/320 \n",
      "Speaker Training Accuracy: 0.00000%\n"
     ]
    },
    {
     "name": "stdout",
     "output_type": "stream",
     "text": [
      "\n",
      "Emotion Validating Correct: 71/107 \n",
      "Emotion Validating Accuracy: 66.35514%\n",
      "Speaker Validating Correct: 0/107 \n",
      "Speaker Validating Accuracy: 0.00000%\n",
      "\n",
      "Current Fold: 3 | Epoch: 18\n"
     ]
    },
    {
     "name": "stdout",
     "output_type": "stream",
     "text": [
      "Emotion Training Correct: 269/320 \n",
      "Emotion Training Accuracy: 84.06250%\n",
      "Speaker Training Correct: 0/320 \n",
      "Speaker Training Accuracy: 0.00000%\n"
     ]
    },
    {
     "name": "stdout",
     "output_type": "stream",
     "text": [
      "\n",
      "Emotion Validating Correct: 68/107 \n",
      "Emotion Validating Accuracy: 63.55140%\n",
      "Speaker Validating Correct: 0/107 \n",
      "Speaker Validating Accuracy: 0.00000%\n",
      "\n",
      "Current Fold: 3 | Epoch: 19\n"
     ]
    },
    {
     "name": "stdout",
     "output_type": "stream",
     "text": [
      "Emotion Training Correct: 262/320 \n",
      "Emotion Training Accuracy: 81.87500%\n",
      "Speaker Training Correct: 0/320 \n",
      "Speaker Training Accuracy: 0.00000%\n"
     ]
    },
    {
     "name": "stdout",
     "output_type": "stream",
     "text": [
      "\n",
      "Emotion Validating Correct: 63/107 \n",
      "Emotion Validating Accuracy: 58.87850%\n",
      "Speaker Validating Correct: 0/107 \n",
      "Speaker Validating Accuracy: 0.00000%\n",
      "\n",
      "Current Fold: 3 | Epoch: 20\n"
     ]
    },
    {
     "name": "stdout",
     "output_type": "stream",
     "text": [
      "Emotion Training Correct: 259/320 \n",
      "Emotion Training Accuracy: 80.93750%\n",
      "Speaker Training Correct: 0/320 \n",
      "Speaker Training Accuracy: 0.00000%\n"
     ]
    },
    {
     "name": "stdout",
     "output_type": "stream",
     "text": [
      "\n",
      "Emotion Validating Correct: 56/107 \n",
      "Emotion Validating Accuracy: 52.33645%\n",
      "Speaker Validating Correct: 0/107 \n",
      "Speaker Validating Accuracy: 0.00000%\n",
      "\n",
      "Current Fold: 3 | Epoch: 21\n"
     ]
    },
    {
     "name": "stdout",
     "output_type": "stream",
     "text": [
      "Emotion Training Correct: 223/320 \n",
      "Emotion Training Accuracy: 69.68750%\n",
      "Speaker Training Correct: 0/320 \n",
      "Speaker Training Accuracy: 0.00000%\n"
     ]
    },
    {
     "name": "stdout",
     "output_type": "stream",
     "text": [
      "\n",
      "Emotion Validating Correct: 63/107 \n",
      "Emotion Validating Accuracy: 58.87850%\n",
      "Speaker Validating Correct: 0/107 \n",
      "Speaker Validating Accuracy: 0.00000%\n",
      "\n",
      "Current Fold: 3 | Epoch: 22\n"
     ]
    },
    {
     "name": "stdout",
     "output_type": "stream",
     "text": [
      "Emotion Training Correct: 292/320 \n",
      "Emotion Training Accuracy: 91.25000%\n",
      "Speaker Training Correct: 0/320 \n",
      "Speaker Training Accuracy: 0.00000%\n"
     ]
    },
    {
     "name": "stdout",
     "output_type": "stream",
     "text": [
      "\n",
      "Emotion Validating Correct: 67/107 \n",
      "Emotion Validating Accuracy: 62.61682%\n",
      "Speaker Validating Correct: 0/107 \n",
      "Speaker Validating Accuracy: 0.00000%\n",
      "\n",
      "Current Fold: 3 | Epoch: 23\n"
     ]
    },
    {
     "name": "stdout",
     "output_type": "stream",
     "text": [
      "Emotion Training Correct: 304/320 \n",
      "Emotion Training Accuracy: 95.00000%\n",
      "Speaker Training Correct: 0/320 \n",
      "Speaker Training Accuracy: 0.00000%\n"
     ]
    },
    {
     "name": "stdout",
     "output_type": "stream",
     "text": [
      "\n",
      "Emotion Validating Correct: 75/107 \n",
      "Emotion Validating Accuracy: 70.09346%\n",
      "Speaker Validating Correct: 0/107 \n",
      "Speaker Validating Accuracy: 0.00000%\n",
      "\n",
      "Current Fold: 3 | Epoch: 24\n"
     ]
    },
    {
     "name": "stdout",
     "output_type": "stream",
     "text": [
      "Emotion Training Correct: 307/320 \n",
      "Emotion Training Accuracy: 95.93750%\n",
      "Speaker Training Correct: 0/320 \n",
      "Speaker Training Accuracy: 0.00000%\n"
     ]
    },
    {
     "name": "stdout",
     "output_type": "stream",
     "text": [
      "\n",
      "Emotion Validating Correct: 66/107 \n",
      "Emotion Validating Accuracy: 61.68224%\n",
      "Speaker Validating Correct: 0/107 \n",
      "Speaker Validating Accuracy: 0.00000%\n",
      "\n",
      "Current Fold: 3 | Epoch: 25\n"
     ]
    },
    {
     "name": "stdout",
     "output_type": "stream",
     "text": [
      "Emotion Training Correct: 318/320 \n",
      "Emotion Training Accuracy: 99.37500%\n",
      "Speaker Training Correct: 0/320 \n",
      "Speaker Training Accuracy: 0.00000%\n"
     ]
    },
    {
     "name": "stdout",
     "output_type": "stream",
     "text": [
      "\n",
      "Emotion Validating Correct: 80/107 \n",
      "Emotion Validating Accuracy: 74.76636%\n",
      "Speaker Validating Correct: 0/107 \n",
      "Speaker Validating Accuracy: 0.00000%\n"
     ]
    },
    {
     "name": "stdout",
     "output_type": "stream",
     "text": [
      "Models' parameters and optimisers' parameters saved.\n",
      "\n",
      "Current Fold: 3 | Epoch: 26\n"
     ]
    },
    {
     "name": "stdout",
     "output_type": "stream",
     "text": [
      "Emotion Training Correct: 277/320 \n",
      "Emotion Training Accuracy: 86.56250%\n",
      "Speaker Training Correct: 0/320 \n",
      "Speaker Training Accuracy: 0.00000%\n"
     ]
    },
    {
     "name": "stdout",
     "output_type": "stream",
     "text": [
      "\n",
      "Emotion Validating Correct: 63/107 \n",
      "Emotion Validating Accuracy: 58.87850%\n",
      "Speaker Validating Correct: 0/107 \n",
      "Speaker Validating Accuracy: 0.00000%\n",
      "\n",
      "Current Fold: 3 | Epoch: 27\n"
     ]
    },
    {
     "name": "stdout",
     "output_type": "stream",
     "text": [
      "Emotion Training Correct: 307/320 \n",
      "Emotion Training Accuracy: 95.93750%\n",
      "Speaker Training Correct: 0/320 \n",
      "Speaker Training Accuracy: 0.00000%\n"
     ]
    },
    {
     "name": "stdout",
     "output_type": "stream",
     "text": [
      "\n",
      "Emotion Validating Correct: 71/107 \n",
      "Emotion Validating Accuracy: 66.35514%\n",
      "Speaker Validating Correct: 0/107 \n",
      "Speaker Validating Accuracy: 0.00000%\n",
      "\n",
      "Current Fold: 3 | Epoch: 28\n"
     ]
    },
    {
     "name": "stdout",
     "output_type": "stream",
     "text": [
      "Emotion Training Correct: 319/320 \n",
      "Emotion Training Accuracy: 99.68750%\n",
      "Speaker Training Correct: 0/320 \n",
      "Speaker Training Accuracy: 0.00000%\n"
     ]
    },
    {
     "name": "stdout",
     "output_type": "stream",
     "text": [
      "\n",
      "Emotion Validating Correct: 70/107 \n",
      "Emotion Validating Accuracy: 65.42056%\n",
      "Speaker Validating Correct: 0/107 \n",
      "Speaker Validating Accuracy: 0.00000%\n",
      "\n",
      "Current Fold: 3 | Epoch: 29\n"
     ]
    },
    {
     "name": "stdout",
     "output_type": "stream",
     "text": [
      "Emotion Training Correct: 315/320 \n",
      "Emotion Training Accuracy: 98.43750%\n",
      "Speaker Training Correct: 0/320 \n",
      "Speaker Training Accuracy: 0.00000%\n"
     ]
    },
    {
     "name": "stdout",
     "output_type": "stream",
     "text": [
      "\n",
      "Emotion Validating Correct: 74/107 \n",
      "Emotion Validating Accuracy: 69.15888%\n",
      "Speaker Validating Correct: 0/107 \n",
      "Speaker Validating Accuracy: 0.00000%\n",
      "\n",
      "Current Fold: 3 | Epoch: 30\n"
     ]
    },
    {
     "name": "stdout",
     "output_type": "stream",
     "text": [
      "Emotion Training Correct: 312/320 \n",
      "Emotion Training Accuracy: 97.50000%\n",
      "Speaker Training Correct: 0/320 \n",
      "Speaker Training Accuracy: 0.00000%\n"
     ]
    },
    {
     "name": "stdout",
     "output_type": "stream",
     "text": [
      "\n",
      "Emotion Validating Correct: 66/107 \n",
      "Emotion Validating Accuracy: 61.68224%\n",
      "Speaker Validating Correct: 0/107 \n",
      "Speaker Validating Accuracy: 0.00000%\n",
      "\n",
      "Current Fold: 3 | Epoch: 31\n"
     ]
    },
    {
     "name": "stdout",
     "output_type": "stream",
     "text": [
      "Emotion Training Correct: 317/320 \n",
      "Emotion Training Accuracy: 99.06250%\n",
      "Speaker Training Correct: 0/320 \n",
      "Speaker Training Accuracy: 0.00000%\n"
     ]
    },
    {
     "name": "stdout",
     "output_type": "stream",
     "text": [
      "\n",
      "Emotion Validating Correct: 80/107 \n",
      "Emotion Validating Accuracy: 74.76636%\n",
      "Speaker Validating Correct: 0/107 \n",
      "Speaker Validating Accuracy: 0.00000%\n"
     ]
    },
    {
     "name": "stdout",
     "output_type": "stream",
     "text": [
      "Models' parameters and optimisers' parameters saved.\n",
      "\n",
      "Current Fold: 3 | Epoch: 32\n"
     ]
    },
    {
     "name": "stdout",
     "output_type": "stream",
     "text": [
      "Emotion Training Correct: 312/320 \n",
      "Emotion Training Accuracy: 97.50000%\n",
      "Speaker Training Correct: 0/320 \n",
      "Speaker Training Accuracy: 0.00000%\n"
     ]
    },
    {
     "name": "stdout",
     "output_type": "stream",
     "text": [
      "\n",
      "Emotion Validating Correct: 70/107 \n",
      "Emotion Validating Accuracy: 65.42056%\n",
      "Speaker Validating Correct: 0/107 \n",
      "Speaker Validating Accuracy: 0.00000%\n",
      "\n",
      "Current Fold: 3 | Epoch: 33\n"
     ]
    },
    {
     "name": "stdout",
     "output_type": "stream",
     "text": [
      "Emotion Training Correct: 311/320 \n",
      "Emotion Training Accuracy: 97.18750%\n",
      "Speaker Training Correct: 0/320 \n",
      "Speaker Training Accuracy: 0.00000%\n"
     ]
    },
    {
     "name": "stdout",
     "output_type": "stream",
     "text": [
      "\n",
      "Emotion Validating Correct: 72/107 \n",
      "Emotion Validating Accuracy: 67.28972%\n",
      "Speaker Validating Correct: 0/107 \n",
      "Speaker Validating Accuracy: 0.00000%\n",
      "\n",
      "Current Fold: 3 | Epoch: 34\n"
     ]
    },
    {
     "name": "stdout",
     "output_type": "stream",
     "text": [
      "Emotion Training Correct: 318/320 \n",
      "Emotion Training Accuracy: 99.37500%\n",
      "Speaker Training Correct: 0/320 \n",
      "Speaker Training Accuracy: 0.00000%\n"
     ]
    },
    {
     "name": "stdout",
     "output_type": "stream",
     "text": [
      "\n",
      "Emotion Validating Correct: 81/107 \n",
      "Emotion Validating Accuracy: 75.70093%\n",
      "Speaker Validating Correct: 0/107 \n",
      "Speaker Validating Accuracy: 0.00000%\n"
     ]
    },
    {
     "name": "stdout",
     "output_type": "stream",
     "text": [
      "Models' parameters and optimisers' parameters saved.\n",
      "\n",
      "Current Fold: 3 | Epoch: 35\n"
     ]
    },
    {
     "name": "stdout",
     "output_type": "stream",
     "text": [
      "Emotion Training Correct: 313/320 \n",
      "Emotion Training Accuracy: 97.81250%\n",
      "Speaker Training Correct: 0/320 \n",
      "Speaker Training Accuracy: 0.00000%\n"
     ]
    },
    {
     "name": "stdout",
     "output_type": "stream",
     "text": [
      "\n",
      "Emotion Validating Correct: 78/107 \n",
      "Emotion Validating Accuracy: 72.89720%\n",
      "Speaker Validating Correct: 0/107 \n",
      "Speaker Validating Accuracy: 0.00000%\n",
      "\n",
      "Current Fold: 3 | Epoch: 36\n"
     ]
    },
    {
     "name": "stdout",
     "output_type": "stream",
     "text": [
      "Emotion Training Correct: 313/320 \n",
      "Emotion Training Accuracy: 97.81250%\n",
      "Speaker Training Correct: 0/320 \n",
      "Speaker Training Accuracy: 0.00000%\n"
     ]
    },
    {
     "name": "stdout",
     "output_type": "stream",
     "text": [
      "\n",
      "Emotion Validating Correct: 64/107 \n",
      "Emotion Validating Accuracy: 59.81308%\n",
      "Speaker Validating Correct: 0/107 \n",
      "Speaker Validating Accuracy: 0.00000%\n",
      "\n",
      "Current Fold: 3 | Epoch: 37\n"
     ]
    },
    {
     "name": "stdout",
     "output_type": "stream",
     "text": [
      "Emotion Training Correct: 320/320 \n",
      "Emotion Training Accuracy: 100.00000%\n",
      "Speaker Training Correct: 0/320 \n",
      "Speaker Training Accuracy: 0.00000%\n"
     ]
    },
    {
     "name": "stdout",
     "output_type": "stream",
     "text": [
      "\n",
      "Emotion Validating Correct: 82/107 \n",
      "Emotion Validating Accuracy: 76.63551%\n",
      "Speaker Validating Correct: 0/107 \n",
      "Speaker Validating Accuracy: 0.00000%\n"
     ]
    },
    {
     "name": "stdout",
     "output_type": "stream",
     "text": [
      "Models' parameters and optimisers' parameters saved.\n",
      "\n",
      "Current Fold: 3 | Epoch: 38\n"
     ]
    },
    {
     "name": "stdout",
     "output_type": "stream",
     "text": [
      "Emotion Training Correct: 319/320 \n",
      "Emotion Training Accuracy: 99.68750%\n",
      "Speaker Training Correct: 0/320 \n",
      "Speaker Training Accuracy: 0.00000%\n"
     ]
    },
    {
     "name": "stdout",
     "output_type": "stream",
     "text": [
      "\n",
      "Emotion Validating Correct: 69/107 \n",
      "Emotion Validating Accuracy: 64.48598%\n",
      "Speaker Validating Correct: 0/107 \n",
      "Speaker Validating Accuracy: 0.00000%\n",
      "\n",
      "Current Fold: 3 | Epoch: 39\n"
     ]
    },
    {
     "name": "stdout",
     "output_type": "stream",
     "text": [
      "Emotion Training Correct: 320/320 \n",
      "Emotion Training Accuracy: 100.00000%\n",
      "Speaker Training Correct: 0/320 \n",
      "Speaker Training Accuracy: 0.00000%\n"
     ]
    },
    {
     "name": "stdout",
     "output_type": "stream",
     "text": [
      "\n",
      "Emotion Validating Correct: 77/107 \n",
      "Emotion Validating Accuracy: 71.96262%\n",
      "Speaker Validating Correct: 0/107 \n",
      "Speaker Validating Accuracy: 0.00000%\n",
      "\n",
      "Current Fold: 3 | Epoch: 40\n"
     ]
    },
    {
     "name": "stdout",
     "output_type": "stream",
     "text": [
      "Emotion Training Correct: 320/320 \n",
      "Emotion Training Accuracy: 100.00000%\n",
      "Speaker Training Correct: 0/320 \n",
      "Speaker Training Accuracy: 0.00000%\n"
     ]
    },
    {
     "name": "stdout",
     "output_type": "stream",
     "text": [
      "\n",
      "Emotion Validating Correct: 81/107 \n",
      "Emotion Validating Accuracy: 75.70093%\n",
      "Speaker Validating Correct: 0/107 \n",
      "Speaker Validating Accuracy: 0.00000%\n",
      "\n",
      "Current Fold: 3 | Epoch: 41\n"
     ]
    },
    {
     "name": "stdout",
     "output_type": "stream",
     "text": [
      "Emotion Training Correct: 320/320 \n",
      "Emotion Training Accuracy: 100.00000%\n",
      "Speaker Training Correct: 0/320 \n",
      "Speaker Training Accuracy: 0.00000%\n"
     ]
    },
    {
     "name": "stdout",
     "output_type": "stream",
     "text": [
      "\n",
      "Emotion Validating Correct: 78/107 \n",
      "Emotion Validating Accuracy: 72.89720%\n",
      "Speaker Validating Correct: 0/107 \n",
      "Speaker Validating Accuracy: 0.00000%\n",
      "\n",
      "Current Fold: 3 | Epoch: 42\n"
     ]
    },
    {
     "name": "stdout",
     "output_type": "stream",
     "text": [
      "Emotion Training Correct: 320/320 \n",
      "Emotion Training Accuracy: 100.00000%\n",
      "Speaker Training Correct: 0/320 \n",
      "Speaker Training Accuracy: 0.00000%\n"
     ]
    },
    {
     "name": "stdout",
     "output_type": "stream",
     "text": [
      "\n",
      "Emotion Validating Correct: 80/107 \n",
      "Emotion Validating Accuracy: 74.76636%\n",
      "Speaker Validating Correct: 0/107 \n",
      "Speaker Validating Accuracy: 0.00000%\n",
      "\n",
      "Current Fold: 3 | Epoch: 43\n"
     ]
    },
    {
     "name": "stdout",
     "output_type": "stream",
     "text": [
      "Emotion Training Correct: 317/320 \n",
      "Emotion Training Accuracy: 99.06250%\n",
      "Speaker Training Correct: 0/320 \n",
      "Speaker Training Accuracy: 0.00000%\n"
     ]
    },
    {
     "name": "stdout",
     "output_type": "stream",
     "text": [
      "\n",
      "Emotion Validating Correct: 71/107 \n",
      "Emotion Validating Accuracy: 66.35514%\n",
      "Speaker Validating Correct: 0/107 \n",
      "Speaker Validating Accuracy: 0.00000%\n",
      "\n",
      "Current Fold: 3 | Epoch: 44\n"
     ]
    },
    {
     "name": "stdout",
     "output_type": "stream",
     "text": [
      "Emotion Training Correct: 319/320 \n",
      "Emotion Training Accuracy: 99.68750%\n",
      "Speaker Training Correct: 0/320 \n",
      "Speaker Training Accuracy: 0.00000%\n"
     ]
    },
    {
     "name": "stdout",
     "output_type": "stream",
     "text": [
      "\n",
      "Emotion Validating Correct: 74/107 \n",
      "Emotion Validating Accuracy: 69.15888%\n",
      "Speaker Validating Correct: 0/107 \n",
      "Speaker Validating Accuracy: 0.00000%\n",
      "\n",
      "Current Fold: 3 | Epoch: 45\n"
     ]
    },
    {
     "name": "stdout",
     "output_type": "stream",
     "text": [
      "Emotion Training Correct: 306/320 \n",
      "Emotion Training Accuracy: 95.62500%\n",
      "Speaker Training Correct: 0/320 \n",
      "Speaker Training Accuracy: 0.00000%\n"
     ]
    },
    {
     "name": "stdout",
     "output_type": "stream",
     "text": [
      "\n",
      "Emotion Validating Correct: 66/107 \n",
      "Emotion Validating Accuracy: 61.68224%\n",
      "Speaker Validating Correct: 0/107 \n",
      "Speaker Validating Accuracy: 0.00000%\n",
      "\n",
      "Current Fold: 3 | Epoch: 46\n"
     ]
    },
    {
     "name": "stdout",
     "output_type": "stream",
     "text": [
      "Emotion Training Correct: 320/320 \n",
      "Emotion Training Accuracy: 100.00000%\n",
      "Speaker Training Correct: 0/320 \n",
      "Speaker Training Accuracy: 0.00000%\n"
     ]
    },
    {
     "name": "stdout",
     "output_type": "stream",
     "text": [
      "\n",
      "Emotion Validating Correct: 71/107 \n",
      "Emotion Validating Accuracy: 66.35514%\n",
      "Speaker Validating Correct: 0/107 \n",
      "Speaker Validating Accuracy: 0.00000%\n",
      "\n",
      "Current Fold: 3 | Epoch: 47\n"
     ]
    },
    {
     "name": "stdout",
     "output_type": "stream",
     "text": [
      "Emotion Training Correct: 320/320 \n",
      "Emotion Training Accuracy: 100.00000%\n",
      "Speaker Training Correct: 0/320 \n",
      "Speaker Training Accuracy: 0.00000%\n"
     ]
    },
    {
     "name": "stdout",
     "output_type": "stream",
     "text": [
      "\n",
      "Emotion Validating Correct: 74/107 \n",
      "Emotion Validating Accuracy: 69.15888%\n",
      "Speaker Validating Correct: 0/107 \n",
      "Speaker Validating Accuracy: 0.00000%\n",
      "\n",
      "Current Fold: 3 | Epoch: 48\n"
     ]
    },
    {
     "name": "stdout",
     "output_type": "stream",
     "text": [
      "Emotion Training Correct: 320/320 \n",
      "Emotion Training Accuracy: 100.00000%\n",
      "Speaker Training Correct: 0/320 \n",
      "Speaker Training Accuracy: 0.00000%\n"
     ]
    },
    {
     "name": "stdout",
     "output_type": "stream",
     "text": [
      "\n",
      "Emotion Validating Correct: 70/107 \n",
      "Emotion Validating Accuracy: 65.42056%\n",
      "Speaker Validating Correct: 0/107 \n",
      "Speaker Validating Accuracy: 0.00000%\n",
      "\n",
      "Current Fold: 3 | Epoch: 49\n"
     ]
    },
    {
     "name": "stdout",
     "output_type": "stream",
     "text": [
      "Emotion Training Correct: 320/320 \n",
      "Emotion Training Accuracy: 100.00000%\n",
      "Speaker Training Correct: 0/320 \n",
      "Speaker Training Accuracy: 0.00000%\n"
     ]
    },
    {
     "name": "stdout",
     "output_type": "stream",
     "text": [
      "\n",
      "Emotion Validating Correct: 67/107 \n",
      "Emotion Validating Accuracy: 62.61682%\n",
      "Speaker Validating Correct: 0/107 \n",
      "Speaker Validating Accuracy: 0.00000%\n",
      "\n",
      "Current Fold: 3 | Epoch: 50\n"
     ]
    },
    {
     "name": "stdout",
     "output_type": "stream",
     "text": [
      "Emotion Training Correct: 320/320 \n",
      "Emotion Training Accuracy: 100.00000%\n",
      "Speaker Training Correct: 0/320 \n",
      "Speaker Training Accuracy: 0.00000%\n"
     ]
    },
    {
     "name": "stdout",
     "output_type": "stream",
     "text": [
      "\n",
      "Emotion Validating Correct: 82/107 \n",
      "Emotion Validating Accuracy: 76.63551%\n",
      "Speaker Validating Correct: 0/107 \n",
      "Speaker Validating Accuracy: 0.00000%\n"
     ]
    },
    {
     "name": "stdout",
     "output_type": "stream",
     "text": [
      "Models' parameters and optimisers' parameters saved.\n",
      "\n",
      "Current Fold: 3 | Epoch: 51\n"
     ]
    },
    {
     "name": "stdout",
     "output_type": "stream",
     "text": [
      "Emotion Training Correct: 320/320 \n",
      "Emotion Training Accuracy: 100.00000%\n",
      "Speaker Training Correct: 0/320 \n",
      "Speaker Training Accuracy: 0.00000%\n"
     ]
    },
    {
     "name": "stdout",
     "output_type": "stream",
     "text": [
      "\n",
      "Emotion Validating Correct: 84/107 \n",
      "Emotion Validating Accuracy: 78.50467%\n",
      "Speaker Validating Correct: 0/107 \n",
      "Speaker Validating Accuracy: 0.00000%\n"
     ]
    },
    {
     "name": "stdout",
     "output_type": "stream",
     "text": [
      "Models' parameters and optimisers' parameters saved.\n",
      "\n",
      "Current Fold: 3 | Epoch: 52\n"
     ]
    },
    {
     "name": "stdout",
     "output_type": "stream",
     "text": [
      "Emotion Training Correct: 320/320 \n",
      "Emotion Training Accuracy: 100.00000%\n",
      "Speaker Training Correct: 0/320 \n",
      "Speaker Training Accuracy: 0.00000%\n"
     ]
    },
    {
     "name": "stdout",
     "output_type": "stream",
     "text": [
      "\n",
      "Emotion Validating Correct: 78/107 \n",
      "Emotion Validating Accuracy: 72.89720%\n",
      "Speaker Validating Correct: 0/107 \n",
      "Speaker Validating Accuracy: 0.00000%\n",
      "\n",
      "Current Fold: 3 | Epoch: 53\n"
     ]
    },
    {
     "name": "stdout",
     "output_type": "stream",
     "text": [
      "Emotion Training Correct: 320/320 \n",
      "Emotion Training Accuracy: 100.00000%\n",
      "Speaker Training Correct: 0/320 \n",
      "Speaker Training Accuracy: 0.00000%\n"
     ]
    },
    {
     "name": "stdout",
     "output_type": "stream",
     "text": [
      "\n",
      "Emotion Validating Correct: 78/107 \n",
      "Emotion Validating Accuracy: 72.89720%\n",
      "Speaker Validating Correct: 0/107 \n",
      "Speaker Validating Accuracy: 0.00000%\n",
      "\n",
      "Current Fold: 3 | Epoch: 54\n"
     ]
    },
    {
     "name": "stdout",
     "output_type": "stream",
     "text": [
      "Emotion Training Correct: 320/320 \n",
      "Emotion Training Accuracy: 100.00000%\n",
      "Speaker Training Correct: 0/320 \n",
      "Speaker Training Accuracy: 0.00000%\n"
     ]
    },
    {
     "name": "stdout",
     "output_type": "stream",
     "text": [
      "\n",
      "Emotion Validating Correct: 79/107 \n",
      "Emotion Validating Accuracy: 73.83178%\n",
      "Speaker Validating Correct: 0/107 \n",
      "Speaker Validating Accuracy: 0.00000%\n",
      "\n",
      "Current Fold: 3 | Epoch: 55\n"
     ]
    },
    {
     "name": "stdout",
     "output_type": "stream",
     "text": [
      "Emotion Training Correct: 320/320 \n",
      "Emotion Training Accuracy: 100.00000%\n",
      "Speaker Training Correct: 0/320 \n",
      "Speaker Training Accuracy: 0.00000%\n"
     ]
    },
    {
     "name": "stdout",
     "output_type": "stream",
     "text": [
      "\n",
      "Emotion Validating Correct: 83/107 \n",
      "Emotion Validating Accuracy: 77.57009%\n",
      "Speaker Validating Correct: 0/107 \n",
      "Speaker Validating Accuracy: 0.00000%\n",
      "\n",
      "Current Fold: 3 | Epoch: 56\n"
     ]
    },
    {
     "name": "stdout",
     "output_type": "stream",
     "text": [
      "Emotion Training Correct: 320/320 \n",
      "Emotion Training Accuracy: 100.00000%\n",
      "Speaker Training Correct: 0/320 \n",
      "Speaker Training Accuracy: 0.00000%\n"
     ]
    },
    {
     "name": "stdout",
     "output_type": "stream",
     "text": [
      "\n",
      "Emotion Validating Correct: 70/107 \n",
      "Emotion Validating Accuracy: 65.42056%\n",
      "Speaker Validating Correct: 0/107 \n",
      "Speaker Validating Accuracy: 0.00000%\n",
      "\n",
      "Current Fold: 3 | Epoch: 57\n"
     ]
    },
    {
     "name": "stdout",
     "output_type": "stream",
     "text": [
      "Emotion Training Correct: 320/320 \n",
      "Emotion Training Accuracy: 100.00000%\n",
      "Speaker Training Correct: 0/320 \n",
      "Speaker Training Accuracy: 0.00000%\n"
     ]
    },
    {
     "name": "stdout",
     "output_type": "stream",
     "text": [
      "\n",
      "Emotion Validating Correct: 74/107 \n",
      "Emotion Validating Accuracy: 69.15888%\n",
      "Speaker Validating Correct: 0/107 \n",
      "Speaker Validating Accuracy: 0.00000%\n",
      "\n",
      "Current Fold: 3 | Epoch: 58\n"
     ]
    },
    {
     "name": "stdout",
     "output_type": "stream",
     "text": [
      "Emotion Training Correct: 315/320 \n",
      "Emotion Training Accuracy: 98.43750%\n",
      "Speaker Training Correct: 0/320 \n",
      "Speaker Training Accuracy: 0.00000%\n"
     ]
    },
    {
     "name": "stdout",
     "output_type": "stream",
     "text": [
      "\n",
      "Emotion Validating Correct: 82/107 \n",
      "Emotion Validating Accuracy: 76.63551%\n",
      "Speaker Validating Correct: 0/107 \n",
      "Speaker Validating Accuracy: 0.00000%\n",
      "\n",
      "Current Fold: 3 | Epoch: 59\n"
     ]
    },
    {
     "name": "stdout",
     "output_type": "stream",
     "text": [
      "Emotion Training Correct: 315/320 \n",
      "Emotion Training Accuracy: 98.43750%\n",
      "Speaker Training Correct: 0/320 \n",
      "Speaker Training Accuracy: 0.00000%\n"
     ]
    },
    {
     "name": "stdout",
     "output_type": "stream",
     "text": [
      "\n",
      "Emotion Validating Correct: 67/107 \n",
      "Emotion Validating Accuracy: 62.61682%\n",
      "Speaker Validating Correct: 0/107 \n",
      "Speaker Validating Accuracy: 0.00000%\n",
      "\n",
      "Current Fold: 3 | Epoch: 60\n"
     ]
    },
    {
     "name": "stdout",
     "output_type": "stream",
     "text": [
      "Emotion Training Correct: 318/320 \n",
      "Emotion Training Accuracy: 99.37500%\n",
      "Speaker Training Correct: 0/320 \n",
      "Speaker Training Accuracy: 0.00000%\n"
     ]
    },
    {
     "name": "stdout",
     "output_type": "stream",
     "text": [
      "\n",
      "Emotion Validating Correct: 84/107 \n",
      "Emotion Validating Accuracy: 78.50467%\n",
      "Speaker Validating Correct: 0/107 \n",
      "Speaker Validating Accuracy: 0.00000%\n"
     ]
    },
    {
     "name": "stdout",
     "output_type": "stream",
     "text": [
      "Models' parameters and optimisers' parameters saved.\n",
      "\n",
      "Current Fold: 3 | Epoch: 61\n"
     ]
    },
    {
     "name": "stdout",
     "output_type": "stream",
     "text": [
      "Emotion Training Correct: 315/320 \n",
      "Emotion Training Accuracy: 98.43750%\n",
      "Speaker Training Correct: 0/320 \n",
      "Speaker Training Accuracy: 0.00000%\n"
     ]
    },
    {
     "name": "stdout",
     "output_type": "stream",
     "text": [
      "\n",
      "Emotion Validating Correct: 78/107 \n",
      "Emotion Validating Accuracy: 72.89720%\n",
      "Speaker Validating Correct: 0/107 \n",
      "Speaker Validating Accuracy: 0.00000%\n",
      "\n",
      "Current Fold: 3 | Epoch: 62\n"
     ]
    },
    {
     "name": "stdout",
     "output_type": "stream",
     "text": [
      "Emotion Training Correct: 320/320 \n",
      "Emotion Training Accuracy: 100.00000%\n",
      "Speaker Training Correct: 0/320 \n",
      "Speaker Training Accuracy: 0.00000%\n"
     ]
    },
    {
     "name": "stdout",
     "output_type": "stream",
     "text": [
      "\n",
      "Emotion Validating Correct: 76/107 \n",
      "Emotion Validating Accuracy: 71.02804%\n",
      "Speaker Validating Correct: 0/107 \n",
      "Speaker Validating Accuracy: 0.00000%\n",
      "\n",
      "Current Fold: 3 | Epoch: 63\n"
     ]
    },
    {
     "name": "stdout",
     "output_type": "stream",
     "text": [
      "Emotion Training Correct: 320/320 \n",
      "Emotion Training Accuracy: 100.00000%\n",
      "Speaker Training Correct: 0/320 \n",
      "Speaker Training Accuracy: 0.00000%\n"
     ]
    },
    {
     "name": "stdout",
     "output_type": "stream",
     "text": [
      "\n",
      "Emotion Validating Correct: 69/107 \n",
      "Emotion Validating Accuracy: 64.48598%\n",
      "Speaker Validating Correct: 0/107 \n",
      "Speaker Validating Accuracy: 0.00000%\n",
      "\n",
      "Current Fold: 3 | Epoch: 64\n"
     ]
    },
    {
     "name": "stdout",
     "output_type": "stream",
     "text": [
      "Emotion Training Correct: 320/320 \n",
      "Emotion Training Accuracy: 100.00000%\n",
      "Speaker Training Correct: 0/320 \n",
      "Speaker Training Accuracy: 0.00000%\n"
     ]
    },
    {
     "name": "stdout",
     "output_type": "stream",
     "text": [
      "\n",
      "Emotion Validating Correct: 79/107 \n",
      "Emotion Validating Accuracy: 73.83178%\n",
      "Speaker Validating Correct: 0/107 \n",
      "Speaker Validating Accuracy: 0.00000%\n",
      "\n",
      "Current Fold: 3 | Epoch: 65\n"
     ]
    },
    {
     "name": "stdout",
     "output_type": "stream",
     "text": [
      "Emotion Training Correct: 320/320 \n",
      "Emotion Training Accuracy: 100.00000%\n",
      "Speaker Training Correct: 0/320 \n",
      "Speaker Training Accuracy: 0.00000%\n"
     ]
    },
    {
     "name": "stdout",
     "output_type": "stream",
     "text": [
      "\n",
      "Emotion Validating Correct: 78/107 \n",
      "Emotion Validating Accuracy: 72.89720%\n",
      "Speaker Validating Correct: 0/107 \n",
      "Speaker Validating Accuracy: 0.00000%\n",
      "\n",
      "Current Fold: 3 | Epoch: 66\n"
     ]
    },
    {
     "name": "stdout",
     "output_type": "stream",
     "text": [
      "Emotion Training Correct: 320/320 \n",
      "Emotion Training Accuracy: 100.00000%\n",
      "Speaker Training Correct: 0/320 \n",
      "Speaker Training Accuracy: 0.00000%\n"
     ]
    },
    {
     "name": "stdout",
     "output_type": "stream",
     "text": [
      "\n",
      "Emotion Validating Correct: 79/107 \n",
      "Emotion Validating Accuracy: 73.83178%\n",
      "Speaker Validating Correct: 0/107 \n",
      "Speaker Validating Accuracy: 0.00000%\n",
      "\n",
      "Current Fold: 3 | Epoch: 67\n"
     ]
    },
    {
     "name": "stdout",
     "output_type": "stream",
     "text": [
      "Emotion Training Correct: 320/320 \n",
      "Emotion Training Accuracy: 100.00000%\n",
      "Speaker Training Correct: 0/320 \n",
      "Speaker Training Accuracy: 0.00000%\n"
     ]
    },
    {
     "name": "stdout",
     "output_type": "stream",
     "text": [
      "\n",
      "Emotion Validating Correct: 85/107 \n",
      "Emotion Validating Accuracy: 79.43925%\n",
      "Speaker Validating Correct: 0/107 \n",
      "Speaker Validating Accuracy: 0.00000%\n"
     ]
    },
    {
     "name": "stdout",
     "output_type": "stream",
     "text": [
      "Models' parameters and optimisers' parameters saved.\n",
      "\n",
      "Current Fold: 3 | Epoch: 68\n"
     ]
    },
    {
     "name": "stdout",
     "output_type": "stream",
     "text": [
      "Emotion Training Correct: 320/320 \n",
      "Emotion Training Accuracy: 100.00000%\n",
      "Speaker Training Correct: 0/320 \n",
      "Speaker Training Accuracy: 0.00000%\n"
     ]
    },
    {
     "name": "stdout",
     "output_type": "stream",
     "text": [
      "\n",
      "Emotion Validating Correct: 85/107 \n",
      "Emotion Validating Accuracy: 79.43925%\n",
      "Speaker Validating Correct: 0/107 \n",
      "Speaker Validating Accuracy: 0.00000%\n"
     ]
    },
    {
     "name": "stdout",
     "output_type": "stream",
     "text": [
      "Models' parameters and optimisers' parameters saved.\n",
      "\n",
      "Current Fold: 3 | Epoch: 69\n"
     ]
    },
    {
     "name": "stdout",
     "output_type": "stream",
     "text": [
      "Emotion Training Correct: 313/320 \n",
      "Emotion Training Accuracy: 97.81250%\n",
      "Speaker Training Correct: 0/320 \n",
      "Speaker Training Accuracy: 0.00000%\n"
     ]
    },
    {
     "name": "stdout",
     "output_type": "stream",
     "text": [
      "\n",
      "Emotion Validating Correct: 73/107 \n",
      "Emotion Validating Accuracy: 68.22430%\n",
      "Speaker Validating Correct: 0/107 \n",
      "Speaker Validating Accuracy: 0.00000%\n",
      "\n",
      "Current Fold: 3 | Epoch: 70\n"
     ]
    },
    {
     "name": "stdout",
     "output_type": "stream",
     "text": [
      "Emotion Training Correct: 318/320 \n",
      "Emotion Training Accuracy: 99.37500%\n",
      "Speaker Training Correct: 0/320 \n",
      "Speaker Training Accuracy: 0.00000%\n"
     ]
    },
    {
     "name": "stdout",
     "output_type": "stream",
     "text": [
      "\n",
      "Emotion Validating Correct: 81/107 \n",
      "Emotion Validating Accuracy: 75.70093%\n",
      "Speaker Validating Correct: 0/107 \n",
      "Speaker Validating Accuracy: 0.00000%\n",
      "\n",
      "Current Fold: 3 | Epoch: 71\n"
     ]
    },
    {
     "name": "stdout",
     "output_type": "stream",
     "text": [
      "Emotion Training Correct: 320/320 \n",
      "Emotion Training Accuracy: 100.00000%\n",
      "Speaker Training Correct: 0/320 \n",
      "Speaker Training Accuracy: 0.00000%\n"
     ]
    },
    {
     "name": "stdout",
     "output_type": "stream",
     "text": [
      "\n",
      "Emotion Validating Correct: 84/107 \n",
      "Emotion Validating Accuracy: 78.50467%\n",
      "Speaker Validating Correct: 0/107 \n",
      "Speaker Validating Accuracy: 0.00000%\n",
      "\n",
      "Current Fold: 3 | Epoch: 72\n"
     ]
    },
    {
     "name": "stdout",
     "output_type": "stream",
     "text": [
      "Emotion Training Correct: 320/320 \n",
      "Emotion Training Accuracy: 100.00000%\n",
      "Speaker Training Correct: 0/320 \n",
      "Speaker Training Accuracy: 0.00000%\n"
     ]
    },
    {
     "name": "stdout",
     "output_type": "stream",
     "text": [
      "\n",
      "Emotion Validating Correct: 77/107 \n",
      "Emotion Validating Accuracy: 71.96262%\n",
      "Speaker Validating Correct: 0/107 \n",
      "Speaker Validating Accuracy: 0.00000%\n",
      "\n",
      "Current Fold: 3 | Epoch: 73\n"
     ]
    },
    {
     "name": "stdout",
     "output_type": "stream",
     "text": [
      "Emotion Training Correct: 320/320 \n",
      "Emotion Training Accuracy: 100.00000%\n",
      "Speaker Training Correct: 0/320 \n",
      "Speaker Training Accuracy: 0.00000%\n"
     ]
    },
    {
     "name": "stdout",
     "output_type": "stream",
     "text": [
      "\n",
      "Emotion Validating Correct: 79/107 \n",
      "Emotion Validating Accuracy: 73.83178%\n",
      "Speaker Validating Correct: 0/107 \n",
      "Speaker Validating Accuracy: 0.00000%\n",
      "\n",
      "Current Fold: 3 | Epoch: 74\n"
     ]
    },
    {
     "name": "stdout",
     "output_type": "stream",
     "text": [
      "Emotion Training Correct: 320/320 \n",
      "Emotion Training Accuracy: 100.00000%\n",
      "Speaker Training Correct: 0/320 \n",
      "Speaker Training Accuracy: 0.00000%\n"
     ]
    },
    {
     "name": "stdout",
     "output_type": "stream",
     "text": [
      "\n",
      "Emotion Validating Correct: 84/107 \n",
      "Emotion Validating Accuracy: 78.50467%\n",
      "Speaker Validating Correct: 0/107 \n",
      "Speaker Validating Accuracy: 0.00000%\n",
      "\n",
      "Current Fold: 3 | Epoch: 75\n"
     ]
    },
    {
     "name": "stdout",
     "output_type": "stream",
     "text": [
      "Emotion Training Correct: 320/320 \n",
      "Emotion Training Accuracy: 100.00000%\n",
      "Speaker Training Correct: 0/320 \n",
      "Speaker Training Accuracy: 0.00000%\n"
     ]
    },
    {
     "name": "stdout",
     "output_type": "stream",
     "text": [
      "\n",
      "Emotion Validating Correct: 80/107 \n",
      "Emotion Validating Accuracy: 74.76636%\n",
      "Speaker Validating Correct: 0/107 \n",
      "Speaker Validating Accuracy: 0.00000%\n",
      "\n",
      "Current Fold: 3 | Epoch: 76\n"
     ]
    },
    {
     "name": "stdout",
     "output_type": "stream",
     "text": [
      "Emotion Training Correct: 313/320 \n",
      "Emotion Training Accuracy: 97.81250%\n",
      "Speaker Training Correct: 0/320 \n",
      "Speaker Training Accuracy: 0.00000%\n"
     ]
    },
    {
     "name": "stdout",
     "output_type": "stream",
     "text": [
      "\n",
      "Emotion Validating Correct: 81/107 \n",
      "Emotion Validating Accuracy: 75.70093%\n",
      "Speaker Validating Correct: 0/107 \n",
      "Speaker Validating Accuracy: 0.00000%\n",
      "\n",
      "Current Fold: 3 | Epoch: 77\n"
     ]
    },
    {
     "name": "stdout",
     "output_type": "stream",
     "text": [
      "Emotion Training Correct: 320/320 \n",
      "Emotion Training Accuracy: 100.00000%\n",
      "Speaker Training Correct: 0/320 \n",
      "Speaker Training Accuracy: 0.00000%\n"
     ]
    },
    {
     "name": "stdout",
     "output_type": "stream",
     "text": [
      "\n",
      "Emotion Validating Correct: 82/107 \n",
      "Emotion Validating Accuracy: 76.63551%\n",
      "Speaker Validating Correct: 0/107 \n",
      "Speaker Validating Accuracy: 0.00000%\n",
      "\n",
      "Current Fold: 3 | Epoch: 78\n"
     ]
    },
    {
     "name": "stdout",
     "output_type": "stream",
     "text": [
      "Emotion Training Correct: 320/320 \n",
      "Emotion Training Accuracy: 100.00000%\n",
      "Speaker Training Correct: 0/320 \n",
      "Speaker Training Accuracy: 0.00000%\n"
     ]
    },
    {
     "name": "stdout",
     "output_type": "stream",
     "text": [
      "\n",
      "Emotion Validating Correct: 79/107 \n",
      "Emotion Validating Accuracy: 73.83178%\n",
      "Speaker Validating Correct: 0/107 \n",
      "Speaker Validating Accuracy: 0.00000%\n",
      "\n",
      "Current Fold: 3 | Epoch: 79\n"
     ]
    },
    {
     "name": "stdout",
     "output_type": "stream",
     "text": [
      "Emotion Training Correct: 319/320 \n",
      "Emotion Training Accuracy: 99.68750%\n",
      "Speaker Training Correct: 0/320 \n",
      "Speaker Training Accuracy: 0.00000%\n"
     ]
    },
    {
     "name": "stdout",
     "output_type": "stream",
     "text": [
      "\n",
      "Emotion Validating Correct: 78/107 \n",
      "Emotion Validating Accuracy: 72.89720%\n",
      "Speaker Validating Correct: 0/107 \n",
      "Speaker Validating Accuracy: 0.00000%\n",
      "\n",
      "Current Fold: 3 | Epoch: 80\n"
     ]
    },
    {
     "name": "stdout",
     "output_type": "stream",
     "text": [
      "Emotion Training Correct: 320/320 \n",
      "Emotion Training Accuracy: 100.00000%\n",
      "Speaker Training Correct: 0/320 \n",
      "Speaker Training Accuracy: 0.00000%\n"
     ]
    },
    {
     "name": "stdout",
     "output_type": "stream",
     "text": [
      "\n",
      "Emotion Validating Correct: 74/107 \n",
      "Emotion Validating Accuracy: 69.15888%\n",
      "Speaker Validating Correct: 0/107 \n",
      "Speaker Validating Accuracy: 0.00000%\n",
      "\n",
      "Current Fold: 3 | Epoch: 81\n"
     ]
    },
    {
     "name": "stdout",
     "output_type": "stream",
     "text": [
      "Emotion Training Correct: 317/320 \n",
      "Emotion Training Accuracy: 99.06250%\n",
      "Speaker Training Correct: 0/320 \n",
      "Speaker Training Accuracy: 0.00000%\n"
     ]
    },
    {
     "name": "stdout",
     "output_type": "stream",
     "text": [
      "\n",
      "Emotion Validating Correct: 80/107 \n",
      "Emotion Validating Accuracy: 74.76636%\n",
      "Speaker Validating Correct: 0/107 \n",
      "Speaker Validating Accuracy: 0.00000%\n",
      "\n",
      "Current Fold: 3 | Epoch: 82\n"
     ]
    },
    {
     "name": "stdout",
     "output_type": "stream",
     "text": [
      "Emotion Training Correct: 320/320 \n",
      "Emotion Training Accuracy: 100.00000%\n",
      "Speaker Training Correct: 0/320 \n",
      "Speaker Training Accuracy: 0.00000%\n"
     ]
    },
    {
     "name": "stdout",
     "output_type": "stream",
     "text": [
      "\n",
      "Emotion Validating Correct: 84/107 \n",
      "Emotion Validating Accuracy: 78.50467%\n",
      "Speaker Validating Correct: 0/107 \n",
      "Speaker Validating Accuracy: 0.00000%\n",
      "\n",
      "Current Fold: 3 | Epoch: 83\n"
     ]
    },
    {
     "name": "stdout",
     "output_type": "stream",
     "text": [
      "Emotion Training Correct: 320/320 \n",
      "Emotion Training Accuracy: 100.00000%\n",
      "Speaker Training Correct: 0/320 \n",
      "Speaker Training Accuracy: 0.00000%\n"
     ]
    },
    {
     "name": "stdout",
     "output_type": "stream",
     "text": [
      "\n",
      "Emotion Validating Correct: 77/107 \n",
      "Emotion Validating Accuracy: 71.96262%\n",
      "Speaker Validating Correct: 0/107 \n",
      "Speaker Validating Accuracy: 0.00000%\n",
      "\n",
      "Current Fold: 3 | Epoch: 84\n"
     ]
    },
    {
     "name": "stdout",
     "output_type": "stream",
     "text": [
      "Emotion Training Correct: 318/320 \n",
      "Emotion Training Accuracy: 99.37500%\n",
      "Speaker Training Correct: 0/320 \n",
      "Speaker Training Accuracy: 0.00000%\n"
     ]
    },
    {
     "name": "stdout",
     "output_type": "stream",
     "text": [
      "\n",
      "Emotion Validating Correct: 75/107 \n",
      "Emotion Validating Accuracy: 70.09346%\n",
      "Speaker Validating Correct: 0/107 \n",
      "Speaker Validating Accuracy: 0.00000%\n",
      "\n",
      "Current Fold: 3 | Epoch: 85\n"
     ]
    },
    {
     "name": "stdout",
     "output_type": "stream",
     "text": [
      "Emotion Training Correct: 303/320 \n",
      "Emotion Training Accuracy: 94.68750%\n",
      "Speaker Training Correct: 0/320 \n",
      "Speaker Training Accuracy: 0.00000%\n"
     ]
    },
    {
     "name": "stdout",
     "output_type": "stream",
     "text": [
      "\n",
      "Emotion Validating Correct: 67/107 \n",
      "Emotion Validating Accuracy: 62.61682%\n",
      "Speaker Validating Correct: 0/107 \n",
      "Speaker Validating Accuracy: 0.00000%\n",
      "\n",
      "Current Fold: 3 | Epoch: 86\n"
     ]
    },
    {
     "name": "stdout",
     "output_type": "stream",
     "text": [
      "Emotion Training Correct: 312/320 \n",
      "Emotion Training Accuracy: 97.50000%\n",
      "Speaker Training Correct: 0/320 \n",
      "Speaker Training Accuracy: 0.00000%\n"
     ]
    },
    {
     "name": "stdout",
     "output_type": "stream",
     "text": [
      "\n",
      "Emotion Validating Correct: 73/107 \n",
      "Emotion Validating Accuracy: 68.22430%\n",
      "Speaker Validating Correct: 0/107 \n",
      "Speaker Validating Accuracy: 0.00000%\n",
      "\n",
      "Current Fold: 3 | Epoch: 87\n"
     ]
    },
    {
     "name": "stdout",
     "output_type": "stream",
     "text": [
      "Emotion Training Correct: 310/320 \n",
      "Emotion Training Accuracy: 96.87500%\n",
      "Speaker Training Correct: 0/320 \n",
      "Speaker Training Accuracy: 0.00000%\n"
     ]
    },
    {
     "name": "stdout",
     "output_type": "stream",
     "text": [
      "\n",
      "Emotion Validating Correct: 69/107 \n",
      "Emotion Validating Accuracy: 64.48598%\n",
      "Speaker Validating Correct: 0/107 \n",
      "Speaker Validating Accuracy: 0.00000%\n",
      "\n",
      "Current Fold: 3 | Epoch: 88\n"
     ]
    },
    {
     "name": "stdout",
     "output_type": "stream",
     "text": [
      "Emotion Training Correct: 320/320 \n",
      "Emotion Training Accuracy: 100.00000%\n",
      "Speaker Training Correct: 0/320 \n",
      "Speaker Training Accuracy: 0.00000%\n"
     ]
    },
    {
     "name": "stdout",
     "output_type": "stream",
     "text": [
      "\n",
      "Emotion Validating Correct: 75/107 \n",
      "Emotion Validating Accuracy: 70.09346%\n",
      "Speaker Validating Correct: 0/107 \n",
      "Speaker Validating Accuracy: 0.00000%\n",
      "\n",
      "Current Fold: 3 | Epoch: 89\n"
     ]
    },
    {
     "name": "stdout",
     "output_type": "stream",
     "text": [
      "Emotion Training Correct: 320/320 \n",
      "Emotion Training Accuracy: 100.00000%\n",
      "Speaker Training Correct: 0/320 \n",
      "Speaker Training Accuracy: 0.00000%\n"
     ]
    },
    {
     "name": "stdout",
     "output_type": "stream",
     "text": [
      "\n",
      "Emotion Validating Correct: 77/107 \n",
      "Emotion Validating Accuracy: 71.96262%\n",
      "Speaker Validating Correct: 0/107 \n",
      "Speaker Validating Accuracy: 0.00000%\n",
      "\n",
      "Current Fold: 3 | Epoch: 90\n"
     ]
    },
    {
     "name": "stdout",
     "output_type": "stream",
     "text": [
      "Emotion Training Correct: 320/320 \n",
      "Emotion Training Accuracy: 100.00000%\n",
      "Speaker Training Correct: 0/320 \n",
      "Speaker Training Accuracy: 0.00000%\n"
     ]
    },
    {
     "name": "stdout",
     "output_type": "stream",
     "text": [
      "\n",
      "Emotion Validating Correct: 79/107 \n",
      "Emotion Validating Accuracy: 73.83178%\n",
      "Speaker Validating Correct: 0/107 \n",
      "Speaker Validating Accuracy: 0.00000%\n",
      "\n",
      "Current Fold: 3 | Epoch: 91\n"
     ]
    },
    {
     "name": "stdout",
     "output_type": "stream",
     "text": [
      "Emotion Training Correct: 320/320 \n",
      "Emotion Training Accuracy: 100.00000%\n",
      "Speaker Training Correct: 0/320 \n",
      "Speaker Training Accuracy: 0.00000%\n"
     ]
    },
    {
     "name": "stdout",
     "output_type": "stream",
     "text": [
      "\n",
      "Emotion Validating Correct: 84/107 \n",
      "Emotion Validating Accuracy: 78.50467%\n",
      "Speaker Validating Correct: 0/107 \n",
      "Speaker Validating Accuracy: 0.00000%\n",
      "\n",
      "Current Fold: 3 | Epoch: 92\n"
     ]
    },
    {
     "name": "stdout",
     "output_type": "stream",
     "text": [
      "Emotion Training Correct: 320/320 \n",
      "Emotion Training Accuracy: 100.00000%\n",
      "Speaker Training Correct: 0/320 \n",
      "Speaker Training Accuracy: 0.00000%\n"
     ]
    },
    {
     "name": "stdout",
     "output_type": "stream",
     "text": [
      "\n",
      "Emotion Validating Correct: 80/107 \n",
      "Emotion Validating Accuracy: 74.76636%\n",
      "Speaker Validating Correct: 0/107 \n",
      "Speaker Validating Accuracy: 0.00000%\n",
      "\n",
      "Current Fold: 3 | Epoch: 93\n"
     ]
    },
    {
     "name": "stdout",
     "output_type": "stream",
     "text": [
      "Emotion Training Correct: 320/320 \n",
      "Emotion Training Accuracy: 100.00000%\n",
      "Speaker Training Correct: 0/320 \n",
      "Speaker Training Accuracy: 0.00000%\n"
     ]
    },
    {
     "name": "stdout",
     "output_type": "stream",
     "text": [
      "\n",
      "Emotion Validating Correct: 80/107 \n",
      "Emotion Validating Accuracy: 74.76636%\n",
      "Speaker Validating Correct: 0/107 \n",
      "Speaker Validating Accuracy: 0.00000%\n",
      "\n",
      "Current Fold: 3 | Epoch: 94\n"
     ]
    },
    {
     "name": "stdout",
     "output_type": "stream",
     "text": [
      "Emotion Training Correct: 320/320 \n",
      "Emotion Training Accuracy: 100.00000%\n",
      "Speaker Training Correct: 0/320 \n",
      "Speaker Training Accuracy: 0.00000%\n"
     ]
    },
    {
     "name": "stdout",
     "output_type": "stream",
     "text": [
      "\n",
      "Emotion Validating Correct: 80/107 \n",
      "Emotion Validating Accuracy: 74.76636%\n",
      "Speaker Validating Correct: 0/107 \n",
      "Speaker Validating Accuracy: 0.00000%\n",
      "\n",
      "Current Fold: 3 | Epoch: 95\n"
     ]
    },
    {
     "name": "stdout",
     "output_type": "stream",
     "text": [
      "Emotion Training Correct: 320/320 \n",
      "Emotion Training Accuracy: 100.00000%\n",
      "Speaker Training Correct: 0/320 \n",
      "Speaker Training Accuracy: 0.00000%\n"
     ]
    },
    {
     "name": "stdout",
     "output_type": "stream",
     "text": [
      "\n",
      "Emotion Validating Correct: 77/107 \n",
      "Emotion Validating Accuracy: 71.96262%\n",
      "Speaker Validating Correct: 0/107 \n",
      "Speaker Validating Accuracy: 0.00000%\n",
      "\n",
      "Current Fold: 3 | Epoch: 96\n"
     ]
    },
    {
     "name": "stdout",
     "output_type": "stream",
     "text": [
      "Emotion Training Correct: 320/320 \n",
      "Emotion Training Accuracy: 100.00000%\n",
      "Speaker Training Correct: 0/320 \n",
      "Speaker Training Accuracy: 0.00000%\n"
     ]
    },
    {
     "name": "stdout",
     "output_type": "stream",
     "text": [
      "\n",
      "Emotion Validating Correct: 85/107 \n",
      "Emotion Validating Accuracy: 79.43925%\n",
      "Speaker Validating Correct: 0/107 \n",
      "Speaker Validating Accuracy: 0.00000%\n"
     ]
    },
    {
     "name": "stdout",
     "output_type": "stream",
     "text": [
      "Models' parameters and optimisers' parameters saved.\n",
      "\n",
      "Current Fold: 3 | Epoch: 97\n"
     ]
    },
    {
     "name": "stdout",
     "output_type": "stream",
     "text": [
      "Emotion Training Correct: 320/320 \n",
      "Emotion Training Accuracy: 100.00000%\n",
      "Speaker Training Correct: 0/320 \n",
      "Speaker Training Accuracy: 0.00000%\n"
     ]
    },
    {
     "name": "stdout",
     "output_type": "stream",
     "text": [
      "\n",
      "Emotion Validating Correct: 85/107 \n",
      "Emotion Validating Accuracy: 79.43925%\n",
      "Speaker Validating Correct: 0/107 \n",
      "Speaker Validating Accuracy: 0.00000%\n",
      "Models' parameters and optimisers' parameters saved.\n",
      "\n",
      "Current Fold: 3 | Epoch: 98\n"
     ]
    },
    {
     "name": "stdout",
     "output_type": "stream",
     "text": [
      "Emotion Training Correct: 320/320 \n",
      "Emotion Training Accuracy: 100.00000%\n",
      "Speaker Training Correct: 0/320 \n",
      "Speaker Training Accuracy: 0.00000%\n"
     ]
    },
    {
     "name": "stdout",
     "output_type": "stream",
     "text": [
      "\n",
      "Emotion Validating Correct: 80/107 \n",
      "Emotion Validating Accuracy: 74.76636%\n",
      "Speaker Validating Correct: 0/107 \n",
      "Speaker Validating Accuracy: 0.00000%\n",
      "\n",
      "Current Fold: 3 | Epoch: 99\n"
     ]
    },
    {
     "name": "stdout",
     "output_type": "stream",
     "text": [
      "Emotion Training Correct: 320/320 \n",
      "Emotion Training Accuracy: 100.00000%\n",
      "Speaker Training Correct: 0/320 \n",
      "Speaker Training Accuracy: 0.00000%\n"
     ]
    },
    {
     "name": "stdout",
     "output_type": "stream",
     "text": [
      "\n",
      "Emotion Validating Correct: 80/107 \n",
      "Emotion Validating Accuracy: 74.76636%\n",
      "Speaker Validating Correct: 0/107 \n",
      "Speaker Validating Accuracy: 0.00000%\n"
     ]
    },
    {
     "name": "stdout",
     "output_type": "stream",
     "text": [
      "\n",
      "Current Fold: 4 | Epoch: 0\n"
     ]
    },
    {
     "name": "stdout",
     "output_type": "stream",
     "text": [
      "Emotion Training Correct: 114/320 \n",
      "Emotion Training Accuracy: 35.62500%\n",
      "Speaker Training Correct: 0/320 \n",
      "Speaker Training Accuracy: 0.00000%\n"
     ]
    },
    {
     "name": "stdout",
     "output_type": "stream",
     "text": [
      "\n",
      "Emotion Validating Correct: 37/107 \n",
      "Emotion Validating Accuracy: 34.57944%\n",
      "Speaker Validating Correct: 0/107 \n",
      "Speaker Validating Accuracy: 0.00000%\n",
      "\n",
      "Current Fold: 4 | Epoch: 1\n"
     ]
    },
    {
     "name": "stdout",
     "output_type": "stream",
     "text": [
      "Emotion Training Correct: 127/320 \n",
      "Emotion Training Accuracy: 39.68750%\n",
      "Speaker Training Correct: 0/320 \n",
      "Speaker Training Accuracy: 0.00000%\n"
     ]
    },
    {
     "name": "stdout",
     "output_type": "stream",
     "text": [
      "\n",
      "Emotion Validating Correct: 40/107 \n",
      "Emotion Validating Accuracy: 37.38318%\n",
      "Speaker Validating Correct: 17/107 \n",
      "Speaker Validating Accuracy: 15.88785%\n"
     ]
    },
    {
     "name": "stdout",
     "output_type": "stream",
     "text": [
      "Models' parameters and optimisers' parameters saved.\n",
      "\n",
      "Current Fold: 4 | Epoch: 2\n"
     ]
    },
    {
     "name": "stdout",
     "output_type": "stream",
     "text": [
      "Emotion Training Correct: 145/320 \n",
      "Emotion Training Accuracy: 45.31250%\n",
      "Speaker Training Correct: 0/320 \n",
      "Speaker Training Accuracy: 0.00000%\n"
     ]
    },
    {
     "name": "stdout",
     "output_type": "stream",
     "text": [
      "\n",
      "Emotion Validating Correct: 45/107 \n",
      "Emotion Validating Accuracy: 42.05607%\n",
      "Speaker Validating Correct: 26/107 \n",
      "Speaker Validating Accuracy: 24.29907%\n"
     ]
    },
    {
     "name": "stdout",
     "output_type": "stream",
     "text": [
      "Models' parameters and optimisers' parameters saved.\n",
      "\n",
      "Current Fold: 4 | Epoch: 3\n"
     ]
    },
    {
     "name": "stdout",
     "output_type": "stream",
     "text": [
      "Emotion Training Correct: 156/320 \n",
      "Emotion Training Accuracy: 48.75000%\n",
      "Speaker Training Correct: 0/320 \n",
      "Speaker Training Accuracy: 0.00000%\n"
     ]
    },
    {
     "name": "stdout",
     "output_type": "stream",
     "text": [
      "\n",
      "Emotion Validating Correct: 48/107 \n",
      "Emotion Validating Accuracy: 44.85981%\n",
      "Speaker Validating Correct: 28/107 \n",
      "Speaker Validating Accuracy: 26.16822%\n"
     ]
    },
    {
     "name": "stdout",
     "output_type": "stream",
     "text": [
      "Models' parameters and optimisers' parameters saved.\n",
      "\n",
      "Current Fold: 4 | Epoch: 4\n"
     ]
    },
    {
     "name": "stdout",
     "output_type": "stream",
     "text": [
      "Emotion Training Correct: 167/320 \n",
      "Emotion Training Accuracy: 52.18750%\n",
      "Speaker Training Correct: 0/320 \n",
      "Speaker Training Accuracy: 0.00000%\n"
     ]
    },
    {
     "name": "stdout",
     "output_type": "stream",
     "text": [
      "\n",
      "Emotion Validating Correct: 50/107 \n",
      "Emotion Validating Accuracy: 46.72897%\n",
      "Speaker Validating Correct: 28/107 \n",
      "Speaker Validating Accuracy: 26.16822%\n"
     ]
    },
    {
     "name": "stdout",
     "output_type": "stream",
     "text": [
      "Models' parameters and optimisers' parameters saved.\n",
      "\n",
      "Current Fold: 4 | Epoch: 5\n"
     ]
    },
    {
     "name": "stdout",
     "output_type": "stream",
     "text": [
      "Emotion Training Correct: 176/320 \n",
      "Emotion Training Accuracy: 55.00000%\n",
      "Speaker Training Correct: 0/320 \n",
      "Speaker Training Accuracy: 0.00000%\n"
     ]
    },
    {
     "name": "stdout",
     "output_type": "stream",
     "text": [
      "\n",
      "Emotion Validating Correct: 57/107 \n",
      "Emotion Validating Accuracy: 53.27103%\n",
      "Speaker Validating Correct: 25/107 \n",
      "Speaker Validating Accuracy: 23.36449%\n",
      "Models' parameters and optimisers' parameters saved.\n",
      "\n",
      "Current Fold: 4 | Epoch: 6\n"
     ]
    },
    {
     "name": "stdout",
     "output_type": "stream",
     "text": [
      "Emotion Training Correct: 179/320 \n",
      "Emotion Training Accuracy: 55.93750%\n",
      "Speaker Training Correct: 0/320 \n",
      "Speaker Training Accuracy: 0.00000%\n"
     ]
    },
    {
     "name": "stdout",
     "output_type": "stream",
     "text": [
      "\n",
      "Emotion Validating Correct: 54/107 \n",
      "Emotion Validating Accuracy: 50.46729%\n",
      "Speaker Validating Correct: 29/107 \n",
      "Speaker Validating Accuracy: 27.10280%\n",
      "\n",
      "Current Fold: 4 | Epoch: 7\n"
     ]
    },
    {
     "name": "stdout",
     "output_type": "stream",
     "text": [
      "Emotion Training Correct: 182/320 \n",
      "Emotion Training Accuracy: 56.87500%\n",
      "Speaker Training Correct: 0/320 \n",
      "Speaker Training Accuracy: 0.00000%\n"
     ]
    },
    {
     "name": "stdout",
     "output_type": "stream",
     "text": [
      "\n",
      "Emotion Validating Correct: 54/107 \n",
      "Emotion Validating Accuracy: 50.46729%\n",
      "Speaker Validating Correct: 23/107 \n",
      "Speaker Validating Accuracy: 21.49533%\n",
      "\n",
      "Current Fold: 4 | Epoch: 8\n"
     ]
    },
    {
     "name": "stdout",
     "output_type": "stream",
     "text": [
      "Emotion Training Correct: 197/320 \n",
      "Emotion Training Accuracy: 61.56250%\n",
      "Speaker Training Correct: 0/320 \n",
      "Speaker Training Accuracy: 0.00000%\n"
     ]
    },
    {
     "name": "stdout",
     "output_type": "stream",
     "text": [
      "\n",
      "Emotion Validating Correct: 58/107 \n",
      "Emotion Validating Accuracy: 54.20561%\n",
      "Speaker Validating Correct: 28/107 \n",
      "Speaker Validating Accuracy: 26.16822%\n"
     ]
    },
    {
     "name": "stdout",
     "output_type": "stream",
     "text": [
      "Models' parameters and optimisers' parameters saved.\n",
      "\n",
      "Current Fold: 4 | Epoch: 9\n"
     ]
    },
    {
     "name": "stdout",
     "output_type": "stream",
     "text": [
      "Emotion Training Correct: 208/320 \n",
      "Emotion Training Accuracy: 65.00000%\n",
      "Speaker Training Correct: 0/320 \n",
      "Speaker Training Accuracy: 0.00000%\n"
     ]
    },
    {
     "name": "stdout",
     "output_type": "stream",
     "text": [
      "\n",
      "Emotion Validating Correct: 52/107 \n",
      "Emotion Validating Accuracy: 48.59813%\n",
      "Speaker Validating Correct: 27/107 \n",
      "Speaker Validating Accuracy: 25.23364%\n",
      "\n",
      "Current Fold: 4 | Epoch: 10\n"
     ]
    },
    {
     "name": "stdout",
     "output_type": "stream",
     "text": [
      "Emotion Training Correct: 199/320 \n",
      "Emotion Training Accuracy: 62.18750%\n",
      "Speaker Training Correct: 0/320 \n",
      "Speaker Training Accuracy: 0.00000%\n"
     ]
    },
    {
     "name": "stdout",
     "output_type": "stream",
     "text": [
      "\n",
      "Emotion Validating Correct: 56/107 \n",
      "Emotion Validating Accuracy: 52.33645%\n",
      "Speaker Validating Correct: 24/107 \n",
      "Speaker Validating Accuracy: 22.42991%\n",
      "\n",
      "Current Fold: 4 | Epoch: 11\n"
     ]
    },
    {
     "name": "stdout",
     "output_type": "stream",
     "text": [
      "Emotion Training Correct: 234/320 \n",
      "Emotion Training Accuracy: 73.12500%\n",
      "Speaker Training Correct: 0/320 \n",
      "Speaker Training Accuracy: 0.00000%\n"
     ]
    },
    {
     "name": "stdout",
     "output_type": "stream",
     "text": [
      "\n",
      "Emotion Validating Correct: 58/107 \n",
      "Emotion Validating Accuracy: 54.20561%\n",
      "Speaker Validating Correct: 21/107 \n",
      "Speaker Validating Accuracy: 19.62617%\n",
      "Models' parameters and optimisers' parameters saved.\n",
      "\n",
      "Current Fold: 4 | Epoch: 12\n"
     ]
    },
    {
     "name": "stdout",
     "output_type": "stream",
     "text": [
      "Emotion Training Correct: 246/320 \n",
      "Emotion Training Accuracy: 76.87500%\n",
      "Speaker Training Correct: 0/320 \n",
      "Speaker Training Accuracy: 0.00000%\n"
     ]
    },
    {
     "name": "stdout",
     "output_type": "stream",
     "text": [
      "\n",
      "Emotion Validating Correct: 55/107 \n",
      "Emotion Validating Accuracy: 51.40187%\n",
      "Speaker Validating Correct: 20/107 \n",
      "Speaker Validating Accuracy: 18.69159%\n",
      "\n",
      "Current Fold: 4 | Epoch: 13\n"
     ]
    },
    {
     "name": "stdout",
     "output_type": "stream",
     "text": [
      "Emotion Training Correct: 198/320 \n",
      "Emotion Training Accuracy: 61.87500%\n",
      "Speaker Training Correct: 0/320 \n",
      "Speaker Training Accuracy: 0.00000%\n"
     ]
    },
    {
     "name": "stdout",
     "output_type": "stream",
     "text": [
      "\n",
      "Emotion Validating Correct: 52/107 \n",
      "Emotion Validating Accuracy: 48.59813%\n",
      "Speaker Validating Correct: 17/107 \n",
      "Speaker Validating Accuracy: 15.88785%\n",
      "\n",
      "Current Fold: 4 | Epoch: 14\n"
     ]
    },
    {
     "name": "stdout",
     "output_type": "stream",
     "text": [
      "Emotion Training Correct: 223/320 \n",
      "Emotion Training Accuracy: 69.68750%\n",
      "Speaker Training Correct: 0/320 \n",
      "Speaker Training Accuracy: 0.00000%\n"
     ]
    },
    {
     "name": "stdout",
     "output_type": "stream",
     "text": [
      "\n",
      "Emotion Validating Correct: 60/107 \n",
      "Emotion Validating Accuracy: 56.07477%\n",
      "Speaker Validating Correct: 21/107 \n",
      "Speaker Validating Accuracy: 19.62617%\n"
     ]
    },
    {
     "name": "stdout",
     "output_type": "stream",
     "text": [
      "Models' parameters and optimisers' parameters saved.\n",
      "\n",
      "Current Fold: 4 | Epoch: 15\n"
     ]
    },
    {
     "name": "stdout",
     "output_type": "stream",
     "text": [
      "Emotion Training Correct: 231/320 \n",
      "Emotion Training Accuracy: 72.18750%\n",
      "Speaker Training Correct: 0/320 \n",
      "Speaker Training Accuracy: 0.00000%\n"
     ]
    },
    {
     "name": "stdout",
     "output_type": "stream",
     "text": [
      "\n",
      "Emotion Validating Correct: 53/107 \n",
      "Emotion Validating Accuracy: 49.53271%\n",
      "Speaker Validating Correct: 16/107 \n",
      "Speaker Validating Accuracy: 14.95327%\n",
      "\n",
      "Current Fold: 4 | Epoch: 16\n"
     ]
    },
    {
     "name": "stdout",
     "output_type": "stream",
     "text": [
      "Emotion Training Correct: 249/320 \n",
      "Emotion Training Accuracy: 77.81250%\n",
      "Speaker Training Correct: 0/320 \n",
      "Speaker Training Accuracy: 0.00000%\n"
     ]
    },
    {
     "name": "stdout",
     "output_type": "stream",
     "text": [
      "\n",
      "Emotion Validating Correct: 57/107 \n",
      "Emotion Validating Accuracy: 53.27103%\n",
      "Speaker Validating Correct: 20/107 \n",
      "Speaker Validating Accuracy: 18.69159%\n",
      "\n",
      "Current Fold: 4 | Epoch: 17\n"
     ]
    },
    {
     "name": "stdout",
     "output_type": "stream",
     "text": [
      "Emotion Training Correct: 241/320 \n",
      "Emotion Training Accuracy: 75.31250%\n",
      "Speaker Training Correct: 0/320 \n",
      "Speaker Training Accuracy: 0.00000%\n"
     ]
    },
    {
     "name": "stdout",
     "output_type": "stream",
     "text": [
      "\n",
      "Emotion Validating Correct: 62/107 \n",
      "Emotion Validating Accuracy: 57.94393%\n",
      "Speaker Validating Correct: 22/107 \n",
      "Speaker Validating Accuracy: 20.56075%\n"
     ]
    },
    {
     "name": "stdout",
     "output_type": "stream",
     "text": [
      "Models' parameters and optimisers' parameters saved.\n",
      "\n",
      "Current Fold: 4 | Epoch: 18\n"
     ]
    },
    {
     "name": "stdout",
     "output_type": "stream",
     "text": [
      "Emotion Training Correct: 241/320 \n",
      "Emotion Training Accuracy: 75.31250%\n",
      "Speaker Training Correct: 0/320 \n",
      "Speaker Training Accuracy: 0.00000%\n"
     ]
    },
    {
     "name": "stdout",
     "output_type": "stream",
     "text": [
      "\n",
      "Emotion Validating Correct: 53/107 \n",
      "Emotion Validating Accuracy: 49.53271%\n",
      "Speaker Validating Correct: 27/107 \n",
      "Speaker Validating Accuracy: 25.23364%\n",
      "\n",
      "Current Fold: 4 | Epoch: 19\n"
     ]
    },
    {
     "name": "stdout",
     "output_type": "stream",
     "text": [
      "Emotion Training Correct: 224/320 \n",
      "Emotion Training Accuracy: 70.00000%\n",
      "Speaker Training Correct: 0/320 \n",
      "Speaker Training Accuracy: 0.00000%\n"
     ]
    },
    {
     "name": "stdout",
     "output_type": "stream",
     "text": [
      "\n",
      "Emotion Validating Correct: 51/107 \n",
      "Emotion Validating Accuracy: 47.66355%\n",
      "Speaker Validating Correct: 27/107 \n",
      "Speaker Validating Accuracy: 25.23364%\n",
      "\n",
      "Current Fold: 4 | Epoch: 20\n"
     ]
    },
    {
     "name": "stdout",
     "output_type": "stream",
     "text": [
      "Emotion Training Correct: 258/320 \n",
      "Emotion Training Accuracy: 80.62500%\n",
      "Speaker Training Correct: 0/320 \n",
      "Speaker Training Accuracy: 0.00000%\n"
     ]
    },
    {
     "name": "stdout",
     "output_type": "stream",
     "text": [
      "\n",
      "Emotion Validating Correct: 66/107 \n",
      "Emotion Validating Accuracy: 61.68224%\n",
      "Speaker Validating Correct: 24/107 \n",
      "Speaker Validating Accuracy: 22.42991%\n"
     ]
    },
    {
     "name": "stdout",
     "output_type": "stream",
     "text": [
      "Models' parameters and optimisers' parameters saved.\n",
      "\n",
      "Current Fold: 4 | Epoch: 21\n"
     ]
    },
    {
     "name": "stdout",
     "output_type": "stream",
     "text": [
      "Emotion Training Correct: 256/320 \n",
      "Emotion Training Accuracy: 80.00000%\n",
      "Speaker Training Correct: 0/320 \n",
      "Speaker Training Accuracy: 0.00000%\n"
     ]
    },
    {
     "name": "stdout",
     "output_type": "stream",
     "text": [
      "\n",
      "Emotion Validating Correct: 68/107 \n",
      "Emotion Validating Accuracy: 63.55140%\n",
      "Speaker Validating Correct: 24/107 \n",
      "Speaker Validating Accuracy: 22.42991%\n"
     ]
    },
    {
     "name": "stdout",
     "output_type": "stream",
     "text": [
      "Models' parameters and optimisers' parameters saved.\n",
      "\n",
      "Current Fold: 4 | Epoch: 22\n"
     ]
    },
    {
     "name": "stdout",
     "output_type": "stream",
     "text": [
      "Emotion Training Correct: 267/320 \n",
      "Emotion Training Accuracy: 83.43750%\n",
      "Speaker Training Correct: 0/320 \n",
      "Speaker Training Accuracy: 0.00000%\n"
     ]
    },
    {
     "name": "stdout",
     "output_type": "stream",
     "text": [
      "\n",
      "Emotion Validating Correct: 69/107 \n",
      "Emotion Validating Accuracy: 64.48598%\n",
      "Speaker Validating Correct: 23/107 \n",
      "Speaker Validating Accuracy: 21.49533%\n",
      "Models' parameters and optimisers' parameters saved.\n",
      "\n",
      "Current Fold: 4 | Epoch: 23\n"
     ]
    },
    {
     "name": "stdout",
     "output_type": "stream",
     "text": [
      "Emotion Training Correct: 280/320 \n",
      "Emotion Training Accuracy: 87.50000%\n",
      "Speaker Training Correct: 0/320 \n",
      "Speaker Training Accuracy: 0.00000%\n"
     ]
    },
    {
     "name": "stdout",
     "output_type": "stream",
     "text": [
      "\n",
      "Emotion Validating Correct: 72/107 \n",
      "Emotion Validating Accuracy: 67.28972%\n",
      "Speaker Validating Correct: 23/107 \n",
      "Speaker Validating Accuracy: 21.49533%\n"
     ]
    },
    {
     "name": "stdout",
     "output_type": "stream",
     "text": [
      "Models' parameters and optimisers' parameters saved.\n",
      "\n",
      "Current Fold: 4 | Epoch: 24\n"
     ]
    },
    {
     "name": "stdout",
     "output_type": "stream",
     "text": [
      "Emotion Training Correct: 273/320 \n",
      "Emotion Training Accuracy: 85.31250%\n",
      "Speaker Training Correct: 0/320 \n",
      "Speaker Training Accuracy: 0.00000%\n"
     ]
    },
    {
     "name": "stdout",
     "output_type": "stream",
     "text": [
      "\n",
      "Emotion Validating Correct: 64/107 \n",
      "Emotion Validating Accuracy: 59.81308%\n",
      "Speaker Validating Correct: 23/107 \n",
      "Speaker Validating Accuracy: 21.49533%\n",
      "\n",
      "Current Fold: 4 | Epoch: 25\n"
     ]
    },
    {
     "name": "stdout",
     "output_type": "stream",
     "text": [
      "Emotion Training Correct: 292/320 \n",
      "Emotion Training Accuracy: 91.25000%\n",
      "Speaker Training Correct: 0/320 \n",
      "Speaker Training Accuracy: 0.00000%\n"
     ]
    },
    {
     "name": "stdout",
     "output_type": "stream",
     "text": [
      "\n",
      "Emotion Validating Correct: 71/107 \n",
      "Emotion Validating Accuracy: 66.35514%\n",
      "Speaker Validating Correct: 18/107 \n",
      "Speaker Validating Accuracy: 16.82243%\n",
      "\n",
      "Current Fold: 4 | Epoch: 26\n"
     ]
    },
    {
     "name": "stdout",
     "output_type": "stream",
     "text": [
      "Emotion Training Correct: 287/320 \n",
      "Emotion Training Accuracy: 89.68750%\n",
      "Speaker Training Correct: 0/320 \n",
      "Speaker Training Accuracy: 0.00000%\n"
     ]
    },
    {
     "name": "stdout",
     "output_type": "stream",
     "text": [
      "\n",
      "Emotion Validating Correct: 70/107 \n",
      "Emotion Validating Accuracy: 65.42056%\n",
      "Speaker Validating Correct: 17/107 \n",
      "Speaker Validating Accuracy: 15.88785%\n",
      "\n",
      "Current Fold: 4 | Epoch: 27\n"
     ]
    },
    {
     "name": "stdout",
     "output_type": "stream",
     "text": [
      "Emotion Training Correct: 273/320 \n",
      "Emotion Training Accuracy: 85.31250%\n",
      "Speaker Training Correct: 0/320 \n",
      "Speaker Training Accuracy: 0.00000%\n"
     ]
    },
    {
     "name": "stdout",
     "output_type": "stream",
     "text": [
      "\n",
      "Emotion Validating Correct: 65/107 \n",
      "Emotion Validating Accuracy: 60.74766%\n",
      "Speaker Validating Correct: 23/107 \n",
      "Speaker Validating Accuracy: 21.49533%\n",
      "\n",
      "Current Fold: 4 | Epoch: 28\n"
     ]
    },
    {
     "name": "stdout",
     "output_type": "stream",
     "text": [
      "Emotion Training Correct: 273/320 \n",
      "Emotion Training Accuracy: 85.31250%\n",
      "Speaker Training Correct: 0/320 \n",
      "Speaker Training Accuracy: 0.00000%\n"
     ]
    },
    {
     "name": "stdout",
     "output_type": "stream",
     "text": [
      "\n",
      "Emotion Validating Correct: 70/107 \n",
      "Emotion Validating Accuracy: 65.42056%\n",
      "Speaker Validating Correct: 17/107 \n",
      "Speaker Validating Accuracy: 15.88785%\n",
      "\n",
      "Current Fold: 4 | Epoch: 29\n"
     ]
    },
    {
     "name": "stdout",
     "output_type": "stream",
     "text": [
      "Emotion Training Correct: 280/320 \n",
      "Emotion Training Accuracy: 87.50000%\n",
      "Speaker Training Correct: 0/320 \n",
      "Speaker Training Accuracy: 0.00000%\n"
     ]
    },
    {
     "name": "stdout",
     "output_type": "stream",
     "text": [
      "\n",
      "Emotion Validating Correct: 66/107 \n",
      "Emotion Validating Accuracy: 61.68224%\n",
      "Speaker Validating Correct: 19/107 \n",
      "Speaker Validating Accuracy: 17.75701%\n",
      "\n",
      "Current Fold: 4 | Epoch: 30\n"
     ]
    },
    {
     "name": "stdout",
     "output_type": "stream",
     "text": [
      "Emotion Training Correct: 287/320 \n",
      "Emotion Training Accuracy: 89.68750%\n",
      "Speaker Training Correct: 0/320 \n",
      "Speaker Training Accuracy: 0.00000%\n"
     ]
    },
    {
     "name": "stdout",
     "output_type": "stream",
     "text": [
      "\n",
      "Emotion Validating Correct: 64/107 \n",
      "Emotion Validating Accuracy: 59.81308%\n",
      "Speaker Validating Correct: 18/107 \n",
      "Speaker Validating Accuracy: 16.82243%\n",
      "\n",
      "Current Fold: 4 | Epoch: 31\n"
     ]
    },
    {
     "name": "stdout",
     "output_type": "stream",
     "text": [
      "Emotion Training Correct: 293/320 \n",
      "Emotion Training Accuracy: 91.56250%\n",
      "Speaker Training Correct: 0/320 \n",
      "Speaker Training Accuracy: 0.00000%\n"
     ]
    },
    {
     "name": "stdout",
     "output_type": "stream",
     "text": [
      "\n",
      "Emotion Validating Correct: 70/107 \n",
      "Emotion Validating Accuracy: 65.42056%\n",
      "Speaker Validating Correct: 12/107 \n",
      "Speaker Validating Accuracy: 11.21495%\n",
      "\n",
      "Current Fold: 4 | Epoch: 32\n"
     ]
    },
    {
     "name": "stdout",
     "output_type": "stream",
     "text": [
      "Emotion Training Correct: 289/320 \n",
      "Emotion Training Accuracy: 90.31250%\n",
      "Speaker Training Correct: 0/320 \n",
      "Speaker Training Accuracy: 0.00000%\n"
     ]
    },
    {
     "name": "stdout",
     "output_type": "stream",
     "text": [
      "\n",
      "Emotion Validating Correct: 67/107 \n",
      "Emotion Validating Accuracy: 62.61682%\n",
      "Speaker Validating Correct: 16/107 \n",
      "Speaker Validating Accuracy: 14.95327%\n",
      "\n",
      "Current Fold: 4 | Epoch: 33\n"
     ]
    },
    {
     "name": "stdout",
     "output_type": "stream",
     "text": [
      "Emotion Training Correct: 283/320 \n",
      "Emotion Training Accuracy: 88.43750%\n",
      "Speaker Training Correct: 0/320 \n",
      "Speaker Training Accuracy: 0.00000%\n"
     ]
    },
    {
     "name": "stdout",
     "output_type": "stream",
     "text": [
      "\n",
      "Emotion Validating Correct: 59/107 \n",
      "Emotion Validating Accuracy: 55.14019%\n",
      "Speaker Validating Correct: 18/107 \n",
      "Speaker Validating Accuracy: 16.82243%\n",
      "\n",
      "Current Fold: 4 | Epoch: 34\n"
     ]
    },
    {
     "name": "stdout",
     "output_type": "stream",
     "text": [
      "Emotion Training Correct: 277/320 \n",
      "Emotion Training Accuracy: 86.56250%\n",
      "Speaker Training Correct: 0/320 \n",
      "Speaker Training Accuracy: 0.00000%\n"
     ]
    },
    {
     "name": "stdout",
     "output_type": "stream",
     "text": [
      "\n",
      "Emotion Validating Correct: 63/107 \n",
      "Emotion Validating Accuracy: 58.87850%\n",
      "Speaker Validating Correct: 21/107 \n",
      "Speaker Validating Accuracy: 19.62617%\n",
      "\n",
      "Current Fold: 4 | Epoch: 35\n"
     ]
    },
    {
     "name": "stdout",
     "output_type": "stream",
     "text": [
      "Emotion Training Correct: 257/320 \n",
      "Emotion Training Accuracy: 80.31250%\n",
      "Speaker Training Correct: 0/320 \n",
      "Speaker Training Accuracy: 0.00000%\n"
     ]
    },
    {
     "name": "stdout",
     "output_type": "stream",
     "text": [
      "\n",
      "Emotion Validating Correct: 58/107 \n",
      "Emotion Validating Accuracy: 54.20561%\n",
      "Speaker Validating Correct: 16/107 \n",
      "Speaker Validating Accuracy: 14.95327%\n",
      "\n",
      "Current Fold: 4 | Epoch: 36\n"
     ]
    },
    {
     "name": "stdout",
     "output_type": "stream",
     "text": [
      "Emotion Training Correct: 294/320 \n",
      "Emotion Training Accuracy: 91.87500%\n",
      "Speaker Training Correct: 0/320 \n",
      "Speaker Training Accuracy: 0.00000%\n"
     ]
    },
    {
     "name": "stdout",
     "output_type": "stream",
     "text": [
      "\n",
      "Emotion Validating Correct: 62/107 \n",
      "Emotion Validating Accuracy: 57.94393%\n",
      "Speaker Validating Correct: 17/107 \n",
      "Speaker Validating Accuracy: 15.88785%\n",
      "\n",
      "Current Fold: 4 | Epoch: 37\n"
     ]
    },
    {
     "name": "stdout",
     "output_type": "stream",
     "text": [
      "Emotion Training Correct: 313/320 \n",
      "Emotion Training Accuracy: 97.81250%\n",
      "Speaker Training Correct: 0/320 \n",
      "Speaker Training Accuracy: 0.00000%\n"
     ]
    },
    {
     "name": "stdout",
     "output_type": "stream",
     "text": [
      "\n",
      "Emotion Validating Correct: 77/107 \n",
      "Emotion Validating Accuracy: 71.96262%\n",
      "Speaker Validating Correct: 15/107 \n",
      "Speaker Validating Accuracy: 14.01869%\n"
     ]
    },
    {
     "name": "stdout",
     "output_type": "stream",
     "text": [
      "Models' parameters and optimisers' parameters saved.\n",
      "\n",
      "Current Fold: 4 | Epoch: 38\n"
     ]
    },
    {
     "name": "stdout",
     "output_type": "stream",
     "text": [
      "Emotion Training Correct: 316/320 \n",
      "Emotion Training Accuracy: 98.75000%\n",
      "Speaker Training Correct: 0/320 \n",
      "Speaker Training Accuracy: 0.00000%\n"
     ]
    },
    {
     "name": "stdout",
     "output_type": "stream",
     "text": [
      "\n",
      "Emotion Validating Correct: 78/107 \n",
      "Emotion Validating Accuracy: 72.89720%\n",
      "Speaker Validating Correct: 20/107 \n",
      "Speaker Validating Accuracy: 18.69159%\n"
     ]
    },
    {
     "name": "stdout",
     "output_type": "stream",
     "text": [
      "Models' parameters and optimisers' parameters saved.\n",
      "\n",
      "Current Fold: 4 | Epoch: 39\n"
     ]
    },
    {
     "name": "stdout",
     "output_type": "stream",
     "text": [
      "Emotion Training Correct: 319/320 \n",
      "Emotion Training Accuracy: 99.68750%\n",
      "Speaker Training Correct: 0/320 \n",
      "Speaker Training Accuracy: 0.00000%\n"
     ]
    },
    {
     "name": "stdout",
     "output_type": "stream",
     "text": [
      "\n",
      "Emotion Validating Correct: 77/107 \n",
      "Emotion Validating Accuracy: 71.96262%\n",
      "Speaker Validating Correct: 24/107 \n",
      "Speaker Validating Accuracy: 22.42991%\n",
      "\n",
      "Current Fold: 4 | Epoch: 40\n"
     ]
    },
    {
     "name": "stdout",
     "output_type": "stream",
     "text": [
      "Emotion Training Correct: 320/320 \n",
      "Emotion Training Accuracy: 100.00000%\n",
      "Speaker Training Correct: 0/320 \n",
      "Speaker Training Accuracy: 0.00000%\n"
     ]
    },
    {
     "name": "stdout",
     "output_type": "stream",
     "text": [
      "\n",
      "Emotion Validating Correct: 81/107 \n",
      "Emotion Validating Accuracy: 75.70093%\n",
      "Speaker Validating Correct: 24/107 \n",
      "Speaker Validating Accuracy: 22.42991%\n"
     ]
    },
    {
     "name": "stdout",
     "output_type": "stream",
     "text": [
      "Models' parameters and optimisers' parameters saved.\n",
      "\n",
      "Current Fold: 4 | Epoch: 41\n"
     ]
    },
    {
     "name": "stdout",
     "output_type": "stream",
     "text": [
      "Emotion Training Correct: 319/320 \n",
      "Emotion Training Accuracy: 99.68750%\n",
      "Speaker Training Correct: 0/320 \n",
      "Speaker Training Accuracy: 0.00000%\n"
     ]
    },
    {
     "name": "stdout",
     "output_type": "stream",
     "text": [
      "\n",
      "Emotion Validating Correct: 76/107 \n",
      "Emotion Validating Accuracy: 71.02804%\n",
      "Speaker Validating Correct: 24/107 \n",
      "Speaker Validating Accuracy: 22.42991%\n",
      "\n",
      "Current Fold: 4 | Epoch: 42\n"
     ]
    },
    {
     "name": "stdout",
     "output_type": "stream",
     "text": [
      "Emotion Training Correct: 319/320 \n",
      "Emotion Training Accuracy: 99.68750%\n",
      "Speaker Training Correct: 0/320 \n",
      "Speaker Training Accuracy: 0.00000%\n"
     ]
    },
    {
     "name": "stdout",
     "output_type": "stream",
     "text": [
      "\n",
      "Emotion Validating Correct: 75/107 \n",
      "Emotion Validating Accuracy: 70.09346%\n",
      "Speaker Validating Correct: 24/107 \n",
      "Speaker Validating Accuracy: 22.42991%\n",
      "\n",
      "Current Fold: 4 | Epoch: 43\n"
     ]
    },
    {
     "name": "stdout",
     "output_type": "stream",
     "text": [
      "Emotion Training Correct: 316/320 \n",
      "Emotion Training Accuracy: 98.75000%\n",
      "Speaker Training Correct: 0/320 \n",
      "Speaker Training Accuracy: 0.00000%\n"
     ]
    },
    {
     "name": "stdout",
     "output_type": "stream",
     "text": [
      "\n",
      "Emotion Validating Correct: 77/107 \n",
      "Emotion Validating Accuracy: 71.96262%\n",
      "Speaker Validating Correct: 19/107 \n",
      "Speaker Validating Accuracy: 17.75701%\n",
      "\n",
      "Current Fold: 4 | Epoch: 44\n"
     ]
    },
    {
     "name": "stdout",
     "output_type": "stream",
     "text": [
      "Emotion Training Correct: 317/320 \n",
      "Emotion Training Accuracy: 99.06250%\n",
      "Speaker Training Correct: 0/320 \n",
      "Speaker Training Accuracy: 0.00000%\n"
     ]
    },
    {
     "name": "stdout",
     "output_type": "stream",
     "text": [
      "\n",
      "Emotion Validating Correct: 78/107 \n",
      "Emotion Validating Accuracy: 72.89720%\n",
      "Speaker Validating Correct: 19/107 \n",
      "Speaker Validating Accuracy: 17.75701%\n",
      "\n",
      "Current Fold: 4 | Epoch: 45\n"
     ]
    },
    {
     "name": "stdout",
     "output_type": "stream",
     "text": [
      "Emotion Training Correct: 316/320 \n",
      "Emotion Training Accuracy: 98.75000%\n",
      "Speaker Training Correct: 0/320 \n",
      "Speaker Training Accuracy: 0.00000%\n"
     ]
    },
    {
     "name": "stdout",
     "output_type": "stream",
     "text": [
      "\n",
      "Emotion Validating Correct: 76/107 \n",
      "Emotion Validating Accuracy: 71.02804%\n",
      "Speaker Validating Correct: 16/107 \n",
      "Speaker Validating Accuracy: 14.95327%\n",
      "\n",
      "Current Fold: 4 | Epoch: 46\n"
     ]
    },
    {
     "name": "stdout",
     "output_type": "stream",
     "text": [
      "Emotion Training Correct: 320/320 \n",
      "Emotion Training Accuracy: 100.00000%\n",
      "Speaker Training Correct: 0/320 \n",
      "Speaker Training Accuracy: 0.00000%\n"
     ]
    },
    {
     "name": "stdout",
     "output_type": "stream",
     "text": [
      "\n",
      "Emotion Validating Correct: 77/107 \n",
      "Emotion Validating Accuracy: 71.96262%\n",
      "Speaker Validating Correct: 13/107 \n",
      "Speaker Validating Accuracy: 12.14953%\n",
      "\n",
      "Current Fold: 4 | Epoch: 47\n"
     ]
    },
    {
     "name": "stdout",
     "output_type": "stream",
     "text": [
      "Emotion Training Correct: 320/320 \n",
      "Emotion Training Accuracy: 100.00000%\n",
      "Speaker Training Correct: 0/320 \n",
      "Speaker Training Accuracy: 0.00000%\n"
     ]
    },
    {
     "name": "stdout",
     "output_type": "stream",
     "text": [
      "\n",
      "Emotion Validating Correct: 78/107 \n",
      "Emotion Validating Accuracy: 72.89720%\n",
      "Speaker Validating Correct: 19/107 \n",
      "Speaker Validating Accuracy: 17.75701%\n",
      "\n",
      "Current Fold: 4 | Epoch: 48\n"
     ]
    },
    {
     "name": "stdout",
     "output_type": "stream",
     "text": [
      "Emotion Training Correct: 320/320 \n",
      "Emotion Training Accuracy: 100.00000%\n",
      "Speaker Training Correct: 0/320 \n",
      "Speaker Training Accuracy: 0.00000%\n"
     ]
    },
    {
     "name": "stdout",
     "output_type": "stream",
     "text": [
      "\n",
      "Emotion Validating Correct: 74/107 \n",
      "Emotion Validating Accuracy: 69.15888%\n",
      "Speaker Validating Correct: 20/107 \n",
      "Speaker Validating Accuracy: 18.69159%\n",
      "\n",
      "Current Fold: 4 | Epoch: 49\n"
     ]
    },
    {
     "name": "stdout",
     "output_type": "stream",
     "text": [
      "Emotion Training Correct: 320/320 \n",
      "Emotion Training Accuracy: 100.00000%\n",
      "Speaker Training Correct: 0/320 \n",
      "Speaker Training Accuracy: 0.00000%\n"
     ]
    },
    {
     "name": "stdout",
     "output_type": "stream",
     "text": [
      "\n",
      "Emotion Validating Correct: 88/107 \n",
      "Emotion Validating Accuracy: 82.24299%\n",
      "Speaker Validating Correct: 19/107 \n",
      "Speaker Validating Accuracy: 17.75701%\n"
     ]
    },
    {
     "name": "stdout",
     "output_type": "stream",
     "text": [
      "Models' parameters and optimisers' parameters saved.\n",
      "\n",
      "Current Fold: 4 | Epoch: 50\n"
     ]
    },
    {
     "name": "stdout",
     "output_type": "stream",
     "text": [
      "Emotion Training Correct: 319/320 \n",
      "Emotion Training Accuracy: 99.68750%\n",
      "Speaker Training Correct: 0/320 \n",
      "Speaker Training Accuracy: 0.00000%\n"
     ]
    },
    {
     "name": "stdout",
     "output_type": "stream",
     "text": [
      "\n",
      "Emotion Validating Correct: 84/107 \n",
      "Emotion Validating Accuracy: 78.50467%\n",
      "Speaker Validating Correct: 19/107 \n",
      "Speaker Validating Accuracy: 17.75701%\n",
      "\n",
      "Current Fold: 4 | Epoch: 51\n"
     ]
    },
    {
     "name": "stdout",
     "output_type": "stream",
     "text": [
      "Emotion Training Correct: 319/320 \n",
      "Emotion Training Accuracy: 99.68750%\n",
      "Speaker Training Correct: 0/320 \n",
      "Speaker Training Accuracy: 0.00000%\n"
     ]
    },
    {
     "name": "stdout",
     "output_type": "stream",
     "text": [
      "\n",
      "Emotion Validating Correct: 76/107 \n",
      "Emotion Validating Accuracy: 71.02804%\n",
      "Speaker Validating Correct: 20/107 \n",
      "Speaker Validating Accuracy: 18.69159%\n",
      "\n",
      "Current Fold: 4 | Epoch: 52\n"
     ]
    },
    {
     "name": "stdout",
     "output_type": "stream",
     "text": [
      "Emotion Training Correct: 320/320 \n",
      "Emotion Training Accuracy: 100.00000%\n",
      "Speaker Training Correct: 0/320 \n",
      "Speaker Training Accuracy: 0.00000%\n"
     ]
    },
    {
     "name": "stdout",
     "output_type": "stream",
     "text": [
      "\n",
      "Emotion Validating Correct: 88/107 \n",
      "Emotion Validating Accuracy: 82.24299%\n",
      "Speaker Validating Correct: 17/107 \n",
      "Speaker Validating Accuracy: 15.88785%\n",
      "Models' parameters and optimisers' parameters saved.\n",
      "\n",
      "Current Fold: 4 | Epoch: 53\n"
     ]
    },
    {
     "name": "stdout",
     "output_type": "stream",
     "text": [
      "Emotion Training Correct: 319/320 \n",
      "Emotion Training Accuracy: 99.68750%\n",
      "Speaker Training Correct: 0/320 \n",
      "Speaker Training Accuracy: 0.00000%\n"
     ]
    },
    {
     "name": "stdout",
     "output_type": "stream",
     "text": [
      "\n",
      "Emotion Validating Correct: 80/107 \n",
      "Emotion Validating Accuracy: 74.76636%\n",
      "Speaker Validating Correct: 19/107 \n",
      "Speaker Validating Accuracy: 17.75701%\n",
      "\n",
      "Current Fold: 4 | Epoch: 54\n"
     ]
    },
    {
     "name": "stdout",
     "output_type": "stream",
     "text": [
      "Emotion Training Correct: 320/320 \n",
      "Emotion Training Accuracy: 100.00000%\n",
      "Speaker Training Correct: 0/320 \n",
      "Speaker Training Accuracy: 0.00000%\n"
     ]
    },
    {
     "name": "stdout",
     "output_type": "stream",
     "text": [
      "\n",
      "Emotion Validating Correct: 75/107 \n",
      "Emotion Validating Accuracy: 70.09346%\n",
      "Speaker Validating Correct: 20/107 \n",
      "Speaker Validating Accuracy: 18.69159%\n",
      "\n",
      "Current Fold: 4 | Epoch: 55\n"
     ]
    },
    {
     "name": "stdout",
     "output_type": "stream",
     "text": [
      "Emotion Training Correct: 319/320 \n",
      "Emotion Training Accuracy: 99.68750%\n",
      "Speaker Training Correct: 0/320 \n",
      "Speaker Training Accuracy: 0.00000%\n"
     ]
    },
    {
     "name": "stdout",
     "output_type": "stream",
     "text": [
      "\n",
      "Emotion Validating Correct: 75/107 \n",
      "Emotion Validating Accuracy: 70.09346%\n",
      "Speaker Validating Correct: 21/107 \n",
      "Speaker Validating Accuracy: 19.62617%\n",
      "\n",
      "Current Fold: 4 | Epoch: 56\n"
     ]
    },
    {
     "name": "stdout",
     "output_type": "stream",
     "text": [
      "Emotion Training Correct: 320/320 \n",
      "Emotion Training Accuracy: 100.00000%\n",
      "Speaker Training Correct: 0/320 \n",
      "Speaker Training Accuracy: 0.00000%\n"
     ]
    },
    {
     "name": "stdout",
     "output_type": "stream",
     "text": [
      "\n",
      "Emotion Validating Correct: 80/107 \n",
      "Emotion Validating Accuracy: 74.76636%\n",
      "Speaker Validating Correct: 20/107 \n",
      "Speaker Validating Accuracy: 18.69159%\n",
      "\n",
      "Current Fold: 4 | Epoch: 57\n"
     ]
    },
    {
     "name": "stdout",
     "output_type": "stream",
     "text": [
      "Emotion Training Correct: 320/320 \n",
      "Emotion Training Accuracy: 100.00000%\n",
      "Speaker Training Correct: 0/320 \n",
      "Speaker Training Accuracy: 0.00000%\n"
     ]
    },
    {
     "name": "stdout",
     "output_type": "stream",
     "text": [
      "\n",
      "Emotion Validating Correct: 77/107 \n",
      "Emotion Validating Accuracy: 71.96262%\n",
      "Speaker Validating Correct: 23/107 \n",
      "Speaker Validating Accuracy: 21.49533%\n",
      "\n",
      "Current Fold: 4 | Epoch: 58\n"
     ]
    },
    {
     "name": "stdout",
     "output_type": "stream",
     "text": [
      "Emotion Training Correct: 320/320 \n",
      "Emotion Training Accuracy: 100.00000%\n",
      "Speaker Training Correct: 0/320 \n",
      "Speaker Training Accuracy: 0.00000%\n"
     ]
    },
    {
     "name": "stdout",
     "output_type": "stream",
     "text": [
      "\n",
      "Emotion Validating Correct: 73/107 \n",
      "Emotion Validating Accuracy: 68.22430%\n",
      "Speaker Validating Correct: 22/107 \n",
      "Speaker Validating Accuracy: 20.56075%\n",
      "\n",
      "Current Fold: 4 | Epoch: 59\n"
     ]
    },
    {
     "name": "stdout",
     "output_type": "stream",
     "text": [
      "Emotion Training Correct: 319/320 \n",
      "Emotion Training Accuracy: 99.68750%\n",
      "Speaker Training Correct: 0/320 \n",
      "Speaker Training Accuracy: 0.00000%\n"
     ]
    },
    {
     "name": "stdout",
     "output_type": "stream",
     "text": [
      "\n",
      "Emotion Validating Correct: 78/107 \n",
      "Emotion Validating Accuracy: 72.89720%\n",
      "Speaker Validating Correct: 20/107 \n",
      "Speaker Validating Accuracy: 18.69159%\n",
      "\n",
      "Current Fold: 4 | Epoch: 60\n"
     ]
    },
    {
     "name": "stdout",
     "output_type": "stream",
     "text": [
      "Emotion Training Correct: 320/320 \n",
      "Emotion Training Accuracy: 100.00000%\n",
      "Speaker Training Correct: 0/320 \n",
      "Speaker Training Accuracy: 0.00000%\n"
     ]
    },
    {
     "name": "stdout",
     "output_type": "stream",
     "text": [
      "\n",
      "Emotion Validating Correct: 81/107 \n",
      "Emotion Validating Accuracy: 75.70093%\n",
      "Speaker Validating Correct: 13/107 \n",
      "Speaker Validating Accuracy: 12.14953%\n",
      "\n",
      "Current Fold: 4 | Epoch: 61\n"
     ]
    },
    {
     "name": "stdout",
     "output_type": "stream",
     "text": [
      "Emotion Training Correct: 320/320 \n",
      "Emotion Training Accuracy: 100.00000%\n",
      "Speaker Training Correct: 0/320 \n",
      "Speaker Training Accuracy: 0.00000%\n"
     ]
    },
    {
     "name": "stdout",
     "output_type": "stream",
     "text": [
      "\n",
      "Emotion Validating Correct: 72/107 \n",
      "Emotion Validating Accuracy: 67.28972%\n",
      "Speaker Validating Correct: 17/107 \n",
      "Speaker Validating Accuracy: 15.88785%\n",
      "\n",
      "Current Fold: 4 | Epoch: 62\n"
     ]
    },
    {
     "name": "stdout",
     "output_type": "stream",
     "text": [
      "Emotion Training Correct: 320/320 \n",
      "Emotion Training Accuracy: 100.00000%\n",
      "Speaker Training Correct: 0/320 \n",
      "Speaker Training Accuracy: 0.00000%\n"
     ]
    },
    {
     "name": "stdout",
     "output_type": "stream",
     "text": [
      "\n",
      "Emotion Validating Correct: 75/107 \n",
      "Emotion Validating Accuracy: 70.09346%\n",
      "Speaker Validating Correct: 18/107 \n",
      "Speaker Validating Accuracy: 16.82243%\n",
      "\n",
      "Current Fold: 4 | Epoch: 63\n"
     ]
    },
    {
     "name": "stdout",
     "output_type": "stream",
     "text": [
      "Emotion Training Correct: 320/320 \n",
      "Emotion Training Accuracy: 100.00000%\n",
      "Speaker Training Correct: 0/320 \n",
      "Speaker Training Accuracy: 0.00000%\n"
     ]
    },
    {
     "name": "stdout",
     "output_type": "stream",
     "text": [
      "\n",
      "Emotion Validating Correct: 83/107 \n",
      "Emotion Validating Accuracy: 77.57009%\n",
      "Speaker Validating Correct: 19/107 \n",
      "Speaker Validating Accuracy: 17.75701%\n",
      "\n",
      "Current Fold: 4 | Epoch: 64\n"
     ]
    },
    {
     "name": "stdout",
     "output_type": "stream",
     "text": [
      "Emotion Training Correct: 320/320 \n",
      "Emotion Training Accuracy: 100.00000%\n",
      "Speaker Training Correct: 0/320 \n",
      "Speaker Training Accuracy: 0.00000%\n"
     ]
    },
    {
     "name": "stdout",
     "output_type": "stream",
     "text": [
      "\n",
      "Emotion Validating Correct: 82/107 \n",
      "Emotion Validating Accuracy: 76.63551%\n",
      "Speaker Validating Correct: 19/107 \n",
      "Speaker Validating Accuracy: 17.75701%\n",
      "\n",
      "Current Fold: 4 | Epoch: 65\n"
     ]
    },
    {
     "name": "stdout",
     "output_type": "stream",
     "text": [
      "Emotion Training Correct: 320/320 \n",
      "Emotion Training Accuracy: 100.00000%\n",
      "Speaker Training Correct: 0/320 \n",
      "Speaker Training Accuracy: 0.00000%\n"
     ]
    },
    {
     "name": "stdout",
     "output_type": "stream",
     "text": [
      "\n",
      "Emotion Validating Correct: 77/107 \n",
      "Emotion Validating Accuracy: 71.96262%\n",
      "Speaker Validating Correct: 20/107 \n",
      "Speaker Validating Accuracy: 18.69159%\n",
      "\n",
      "Current Fold: 4 | Epoch: 66\n"
     ]
    },
    {
     "name": "stdout",
     "output_type": "stream",
     "text": [
      "Emotion Training Correct: 319/320 \n",
      "Emotion Training Accuracy: 99.68750%\n",
      "Speaker Training Correct: 0/320 \n",
      "Speaker Training Accuracy: 0.00000%\n"
     ]
    },
    {
     "name": "stdout",
     "output_type": "stream",
     "text": [
      "\n",
      "Emotion Validating Correct: 80/107 \n",
      "Emotion Validating Accuracy: 74.76636%\n",
      "Speaker Validating Correct: 19/107 \n",
      "Speaker Validating Accuracy: 17.75701%\n",
      "\n",
      "Current Fold: 4 | Epoch: 67\n"
     ]
    },
    {
     "name": "stdout",
     "output_type": "stream",
     "text": [
      "Emotion Training Correct: 304/320 \n",
      "Emotion Training Accuracy: 95.00000%\n",
      "Speaker Training Correct: 0/320 \n",
      "Speaker Training Accuracy: 0.00000%\n"
     ]
    },
    {
     "name": "stdout",
     "output_type": "stream",
     "text": [
      "\n",
      "Emotion Validating Correct: 74/107 \n",
      "Emotion Validating Accuracy: 69.15888%\n",
      "Speaker Validating Correct: 21/107 \n",
      "Speaker Validating Accuracy: 19.62617%\n",
      "\n",
      "Current Fold: 4 | Epoch: 68\n"
     ]
    },
    {
     "name": "stdout",
     "output_type": "stream",
     "text": [
      "Emotion Training Correct: 313/320 \n",
      "Emotion Training Accuracy: 97.81250%\n",
      "Speaker Training Correct: 0/320 \n",
      "Speaker Training Accuracy: 0.00000%\n"
     ]
    },
    {
     "name": "stdout",
     "output_type": "stream",
     "text": [
      "\n",
      "Emotion Validating Correct: 75/107 \n",
      "Emotion Validating Accuracy: 70.09346%\n",
      "Speaker Validating Correct: 23/107 \n",
      "Speaker Validating Accuracy: 21.49533%\n",
      "\n",
      "Current Fold: 4 | Epoch: 69\n"
     ]
    },
    {
     "name": "stdout",
     "output_type": "stream",
     "text": [
      "Emotion Training Correct: 320/320 \n",
      "Emotion Training Accuracy: 100.00000%\n",
      "Speaker Training Correct: 0/320 \n",
      "Speaker Training Accuracy: 0.00000%\n"
     ]
    },
    {
     "name": "stdout",
     "output_type": "stream",
     "text": [
      "\n",
      "Emotion Validating Correct: 81/107 \n",
      "Emotion Validating Accuracy: 75.70093%\n",
      "Speaker Validating Correct: 20/107 \n",
      "Speaker Validating Accuracy: 18.69159%\n",
      "\n",
      "Current Fold: 4 | Epoch: 70\n"
     ]
    },
    {
     "name": "stdout",
     "output_type": "stream",
     "text": [
      "Emotion Training Correct: 319/320 \n",
      "Emotion Training Accuracy: 99.68750%\n",
      "Speaker Training Correct: 0/320 \n",
      "Speaker Training Accuracy: 0.00000%\n"
     ]
    },
    {
     "name": "stdout",
     "output_type": "stream",
     "text": [
      "\n",
      "Emotion Validating Correct: 79/107 \n",
      "Emotion Validating Accuracy: 73.83178%\n",
      "Speaker Validating Correct: 19/107 \n",
      "Speaker Validating Accuracy: 17.75701%\n",
      "\n",
      "Current Fold: 4 | Epoch: 71\n"
     ]
    },
    {
     "name": "stdout",
     "output_type": "stream",
     "text": [
      "Emotion Training Correct: 320/320 \n",
      "Emotion Training Accuracy: 100.00000%\n",
      "Speaker Training Correct: 0/320 \n",
      "Speaker Training Accuracy: 0.00000%\n"
     ]
    },
    {
     "name": "stdout",
     "output_type": "stream",
     "text": [
      "\n",
      "Emotion Validating Correct: 78/107 \n",
      "Emotion Validating Accuracy: 72.89720%\n",
      "Speaker Validating Correct: 16/107 \n",
      "Speaker Validating Accuracy: 14.95327%\n",
      "\n",
      "Current Fold: 4 | Epoch: 72\n"
     ]
    },
    {
     "name": "stdout",
     "output_type": "stream",
     "text": [
      "Emotion Training Correct: 319/320 \n",
      "Emotion Training Accuracy: 99.68750%\n",
      "Speaker Training Correct: 0/320 \n",
      "Speaker Training Accuracy: 0.00000%\n"
     ]
    },
    {
     "name": "stdout",
     "output_type": "stream",
     "text": [
      "\n",
      "Emotion Validating Correct: 76/107 \n",
      "Emotion Validating Accuracy: 71.02804%\n",
      "Speaker Validating Correct: 20/107 \n",
      "Speaker Validating Accuracy: 18.69159%\n",
      "\n",
      "Current Fold: 4 | Epoch: 73\n"
     ]
    },
    {
     "name": "stdout",
     "output_type": "stream",
     "text": [
      "Emotion Training Correct: 320/320 \n",
      "Emotion Training Accuracy: 100.00000%\n",
      "Speaker Training Correct: 0/320 \n",
      "Speaker Training Accuracy: 0.00000%\n"
     ]
    },
    {
     "name": "stdout",
     "output_type": "stream",
     "text": [
      "\n",
      "Emotion Validating Correct: 79/107 \n",
      "Emotion Validating Accuracy: 73.83178%\n",
      "Speaker Validating Correct: 19/107 \n",
      "Speaker Validating Accuracy: 17.75701%\n",
      "\n",
      "Current Fold: 4 | Epoch: 74\n"
     ]
    },
    {
     "name": "stdout",
     "output_type": "stream",
     "text": [
      "Emotion Training Correct: 320/320 \n",
      "Emotion Training Accuracy: 100.00000%\n",
      "Speaker Training Correct: 0/320 \n",
      "Speaker Training Accuracy: 0.00000%\n"
     ]
    },
    {
     "name": "stdout",
     "output_type": "stream",
     "text": [
      "\n",
      "Emotion Validating Correct: 82/107 \n",
      "Emotion Validating Accuracy: 76.63551%\n",
      "Speaker Validating Correct: 18/107 \n",
      "Speaker Validating Accuracy: 16.82243%\n",
      "\n",
      "Current Fold: 4 | Epoch: 75\n"
     ]
    },
    {
     "name": "stdout",
     "output_type": "stream",
     "text": [
      "Emotion Training Correct: 320/320 \n",
      "Emotion Training Accuracy: 100.00000%\n",
      "Speaker Training Correct: 0/320 \n",
      "Speaker Training Accuracy: 0.00000%\n"
     ]
    },
    {
     "name": "stdout",
     "output_type": "stream",
     "text": [
      "\n",
      "Emotion Validating Correct: 86/107 \n",
      "Emotion Validating Accuracy: 80.37383%\n",
      "Speaker Validating Correct: 19/107 \n",
      "Speaker Validating Accuracy: 17.75701%\n",
      "\n",
      "Current Fold: 4 | Epoch: 76\n"
     ]
    },
    {
     "name": "stdout",
     "output_type": "stream",
     "text": [
      "Emotion Training Correct: 320/320 \n",
      "Emotion Training Accuracy: 100.00000%\n",
      "Speaker Training Correct: 0/320 \n",
      "Speaker Training Accuracy: 0.00000%\n"
     ]
    },
    {
     "name": "stdout",
     "output_type": "stream",
     "text": [
      "\n",
      "Emotion Validating Correct: 83/107 \n",
      "Emotion Validating Accuracy: 77.57009%\n",
      "Speaker Validating Correct: 19/107 \n",
      "Speaker Validating Accuracy: 17.75701%\n",
      "\n",
      "Current Fold: 4 | Epoch: 77\n"
     ]
    },
    {
     "name": "stdout",
     "output_type": "stream",
     "text": [
      "Emotion Training Correct: 319/320 \n",
      "Emotion Training Accuracy: 99.68750%\n",
      "Speaker Training Correct: 0/320 \n",
      "Speaker Training Accuracy: 0.00000%\n"
     ]
    },
    {
     "name": "stdout",
     "output_type": "stream",
     "text": [
      "\n",
      "Emotion Validating Correct: 85/107 \n",
      "Emotion Validating Accuracy: 79.43925%\n",
      "Speaker Validating Correct: 19/107 \n",
      "Speaker Validating Accuracy: 17.75701%\n",
      "\n",
      "Current Fold: 4 | Epoch: 78\n"
     ]
    },
    {
     "name": "stdout",
     "output_type": "stream",
     "text": [
      "Emotion Training Correct: 319/320 \n",
      "Emotion Training Accuracy: 99.68750%\n",
      "Speaker Training Correct: 0/320 \n",
      "Speaker Training Accuracy: 0.00000%\n"
     ]
    },
    {
     "name": "stdout",
     "output_type": "stream",
     "text": [
      "\n",
      "Emotion Validating Correct: 87/107 \n",
      "Emotion Validating Accuracy: 81.30841%\n",
      "Speaker Validating Correct: 19/107 \n",
      "Speaker Validating Accuracy: 17.75701%\n",
      "\n",
      "Current Fold: 4 | Epoch: 79\n"
     ]
    },
    {
     "name": "stdout",
     "output_type": "stream",
     "text": [
      "Emotion Training Correct: 320/320 \n",
      "Emotion Training Accuracy: 100.00000%\n",
      "Speaker Training Correct: 0/320 \n",
      "Speaker Training Accuracy: 0.00000%\n"
     ]
    },
    {
     "name": "stdout",
     "output_type": "stream",
     "text": [
      "\n",
      "Emotion Validating Correct: 80/107 \n",
      "Emotion Validating Accuracy: 74.76636%\n",
      "Speaker Validating Correct: 22/107 \n",
      "Speaker Validating Accuracy: 20.56075%\n",
      "\n",
      "Current Fold: 4 | Epoch: 80\n"
     ]
    },
    {
     "name": "stdout",
     "output_type": "stream",
     "text": [
      "Emotion Training Correct: 301/320 \n",
      "Emotion Training Accuracy: 94.06250%\n",
      "Speaker Training Correct: 0/320 \n",
      "Speaker Training Accuracy: 0.00000%\n"
     ]
    },
    {
     "name": "stdout",
     "output_type": "stream",
     "text": [
      "\n",
      "Emotion Validating Correct: 75/107 \n",
      "Emotion Validating Accuracy: 70.09346%\n",
      "Speaker Validating Correct: 24/107 \n",
      "Speaker Validating Accuracy: 22.42991%\n",
      "\n",
      "Current Fold: 4 | Epoch: 81\n"
     ]
    },
    {
     "name": "stdout",
     "output_type": "stream",
     "text": [
      "Emotion Training Correct: 319/320 \n",
      "Emotion Training Accuracy: 99.68750%\n",
      "Speaker Training Correct: 0/320 \n",
      "Speaker Training Accuracy: 0.00000%\n"
     ]
    },
    {
     "name": "stdout",
     "output_type": "stream",
     "text": [
      "\n",
      "Emotion Validating Correct: 82/107 \n",
      "Emotion Validating Accuracy: 76.63551%\n",
      "Speaker Validating Correct: 21/107 \n",
      "Speaker Validating Accuracy: 19.62617%\n",
      "\n",
      "Current Fold: 4 | Epoch: 82\n"
     ]
    },
    {
     "name": "stdout",
     "output_type": "stream",
     "text": [
      "Emotion Training Correct: 320/320 \n",
      "Emotion Training Accuracy: 100.00000%\n",
      "Speaker Training Correct: 0/320 \n",
      "Speaker Training Accuracy: 0.00000%\n"
     ]
    },
    {
     "name": "stdout",
     "output_type": "stream",
     "text": [
      "\n",
      "Emotion Validating Correct: 78/107 \n",
      "Emotion Validating Accuracy: 72.89720%\n",
      "Speaker Validating Correct: 21/107 \n",
      "Speaker Validating Accuracy: 19.62617%\n",
      "\n",
      "Current Fold: 4 | Epoch: 83\n"
     ]
    },
    {
     "name": "stdout",
     "output_type": "stream",
     "text": [
      "Emotion Training Correct: 319/320 \n",
      "Emotion Training Accuracy: 99.68750%\n",
      "Speaker Training Correct: 0/320 \n",
      "Speaker Training Accuracy: 0.00000%\n"
     ]
    },
    {
     "name": "stdout",
     "output_type": "stream",
     "text": [
      "\n",
      "Emotion Validating Correct: 83/107 \n",
      "Emotion Validating Accuracy: 77.57009%\n",
      "Speaker Validating Correct: 21/107 \n",
      "Speaker Validating Accuracy: 19.62617%\n",
      "\n",
      "Current Fold: 4 | Epoch: 84\n"
     ]
    },
    {
     "name": "stdout",
     "output_type": "stream",
     "text": [
      "Emotion Training Correct: 320/320 \n",
      "Emotion Training Accuracy: 100.00000%\n",
      "Speaker Training Correct: 0/320 \n",
      "Speaker Training Accuracy: 0.00000%\n"
     ]
    },
    {
     "name": "stdout",
     "output_type": "stream",
     "text": [
      "\n",
      "Emotion Validating Correct: 86/107 \n",
      "Emotion Validating Accuracy: 80.37383%\n",
      "Speaker Validating Correct: 21/107 \n",
      "Speaker Validating Accuracy: 19.62617%\n",
      "\n",
      "Current Fold: 4 | Epoch: 85\n"
     ]
    },
    {
     "name": "stdout",
     "output_type": "stream",
     "text": [
      "Emotion Training Correct: 320/320 \n",
      "Emotion Training Accuracy: 100.00000%\n",
      "Speaker Training Correct: 0/320 \n",
      "Speaker Training Accuracy: 0.00000%\n"
     ]
    },
    {
     "name": "stdout",
     "output_type": "stream",
     "text": [
      "\n",
      "Emotion Validating Correct: 88/107 \n",
      "Emotion Validating Accuracy: 82.24299%\n",
      "Speaker Validating Correct: 20/107 \n",
      "Speaker Validating Accuracy: 18.69159%\n",
      "Models' parameters and optimisers' parameters saved.\n",
      "\n",
      "Current Fold: 4 | Epoch: 86\n"
     ]
    },
    {
     "name": "stdout",
     "output_type": "stream",
     "text": [
      "Emotion Training Correct: 320/320 \n",
      "Emotion Training Accuracy: 100.00000%\n",
      "Speaker Training Correct: 0/320 \n",
      "Speaker Training Accuracy: 0.00000%\n"
     ]
    },
    {
     "name": "stdout",
     "output_type": "stream",
     "text": [
      "\n",
      "Emotion Validating Correct: 81/107 \n",
      "Emotion Validating Accuracy: 75.70093%\n",
      "Speaker Validating Correct: 20/107 \n",
      "Speaker Validating Accuracy: 18.69159%\n",
      "\n",
      "Current Fold: 4 | Epoch: 87\n"
     ]
    },
    {
     "name": "stdout",
     "output_type": "stream",
     "text": [
      "Emotion Training Correct: 320/320 \n",
      "Emotion Training Accuracy: 100.00000%\n",
      "Speaker Training Correct: 0/320 \n",
      "Speaker Training Accuracy: 0.00000%\n"
     ]
    },
    {
     "name": "stdout",
     "output_type": "stream",
     "text": [
      "\n",
      "Emotion Validating Correct: 82/107 \n",
      "Emotion Validating Accuracy: 76.63551%\n",
      "Speaker Validating Correct: 21/107 \n",
      "Speaker Validating Accuracy: 19.62617%\n",
      "\n",
      "Current Fold: 4 | Epoch: 88\n"
     ]
    },
    {
     "name": "stdout",
     "output_type": "stream",
     "text": [
      "Emotion Training Correct: 320/320 \n",
      "Emotion Training Accuracy: 100.00000%\n",
      "Speaker Training Correct: 0/320 \n",
      "Speaker Training Accuracy: 0.00000%\n"
     ]
    },
    {
     "name": "stdout",
     "output_type": "stream",
     "text": [
      "\n",
      "Emotion Validating Correct: 78/107 \n",
      "Emotion Validating Accuracy: 72.89720%\n",
      "Speaker Validating Correct: 21/107 \n",
      "Speaker Validating Accuracy: 19.62617%\n",
      "\n",
      "Current Fold: 4 | Epoch: 89\n"
     ]
    },
    {
     "name": "stdout",
     "output_type": "stream",
     "text": [
      "Emotion Training Correct: 320/320 \n",
      "Emotion Training Accuracy: 100.00000%\n",
      "Speaker Training Correct: 0/320 \n",
      "Speaker Training Accuracy: 0.00000%\n"
     ]
    },
    {
     "name": "stdout",
     "output_type": "stream",
     "text": [
      "\n",
      "Emotion Validating Correct: 77/107 \n",
      "Emotion Validating Accuracy: 71.96262%\n",
      "Speaker Validating Correct: 21/107 \n",
      "Speaker Validating Accuracy: 19.62617%\n",
      "\n",
      "Current Fold: 4 | Epoch: 90\n"
     ]
    },
    {
     "name": "stdout",
     "output_type": "stream",
     "text": [
      "Emotion Training Correct: 320/320 \n",
      "Emotion Training Accuracy: 100.00000%\n",
      "Speaker Training Correct: 0/320 \n",
      "Speaker Training Accuracy: 0.00000%\n"
     ]
    },
    {
     "name": "stdout",
     "output_type": "stream",
     "text": [
      "\n",
      "Emotion Validating Correct: 80/107 \n",
      "Emotion Validating Accuracy: 74.76636%\n",
      "Speaker Validating Correct: 21/107 \n",
      "Speaker Validating Accuracy: 19.62617%\n",
      "\n",
      "Current Fold: 4 | Epoch: 91\n"
     ]
    },
    {
     "name": "stdout",
     "output_type": "stream",
     "text": [
      "Emotion Training Correct: 320/320 \n",
      "Emotion Training Accuracy: 100.00000%\n",
      "Speaker Training Correct: 0/320 \n",
      "Speaker Training Accuracy: 0.00000%\n"
     ]
    },
    {
     "name": "stdout",
     "output_type": "stream",
     "text": [
      "\n",
      "Emotion Validating Correct: 79/107 \n",
      "Emotion Validating Accuracy: 73.83178%\n",
      "Speaker Validating Correct: 21/107 \n",
      "Speaker Validating Accuracy: 19.62617%\n",
      "\n",
      "Current Fold: 4 | Epoch: 92\n"
     ]
    },
    {
     "name": "stdout",
     "output_type": "stream",
     "text": [
      "Emotion Training Correct: 320/320 \n",
      "Emotion Training Accuracy: 100.00000%\n",
      "Speaker Training Correct: 0/320 \n",
      "Speaker Training Accuracy: 0.00000%\n"
     ]
    },
    {
     "name": "stdout",
     "output_type": "stream",
     "text": [
      "\n",
      "Emotion Validating Correct: 77/107 \n",
      "Emotion Validating Accuracy: 71.96262%\n",
      "Speaker Validating Correct: 20/107 \n",
      "Speaker Validating Accuracy: 18.69159%\n",
      "\n",
      "Current Fold: 4 | Epoch: 93\n"
     ]
    },
    {
     "name": "stdout",
     "output_type": "stream",
     "text": [
      "Emotion Training Correct: 320/320 \n",
      "Emotion Training Accuracy: 100.00000%\n",
      "Speaker Training Correct: 0/320 \n",
      "Speaker Training Accuracy: 0.00000%\n"
     ]
    },
    {
     "name": "stdout",
     "output_type": "stream",
     "text": [
      "\n",
      "Emotion Validating Correct: 82/107 \n",
      "Emotion Validating Accuracy: 76.63551%\n",
      "Speaker Validating Correct: 20/107 \n",
      "Speaker Validating Accuracy: 18.69159%\n",
      "\n",
      "Current Fold: 4 | Epoch: 94\n"
     ]
    },
    {
     "name": "stdout",
     "output_type": "stream",
     "text": [
      "Emotion Training Correct: 320/320 \n",
      "Emotion Training Accuracy: 100.00000%\n",
      "Speaker Training Correct: 0/320 \n",
      "Speaker Training Accuracy: 0.00000%\n"
     ]
    },
    {
     "name": "stdout",
     "output_type": "stream",
     "text": [
      "\n",
      "Emotion Validating Correct: 85/107 \n",
      "Emotion Validating Accuracy: 79.43925%\n",
      "Speaker Validating Correct: 20/107 \n",
      "Speaker Validating Accuracy: 18.69159%\n",
      "\n",
      "Current Fold: 4 | Epoch: 95\n"
     ]
    },
    {
     "name": "stdout",
     "output_type": "stream",
     "text": [
      "Emotion Training Correct: 320/320 \n",
      "Emotion Training Accuracy: 100.00000%\n",
      "Speaker Training Correct: 0/320 \n",
      "Speaker Training Accuracy: 0.00000%\n"
     ]
    },
    {
     "name": "stdout",
     "output_type": "stream",
     "text": [
      "\n",
      "Emotion Validating Correct: 86/107 \n",
      "Emotion Validating Accuracy: 80.37383%\n",
      "Speaker Validating Correct: 21/107 \n",
      "Speaker Validating Accuracy: 19.62617%\n",
      "\n",
      "Current Fold: 4 | Epoch: 96\n"
     ]
    },
    {
     "name": "stdout",
     "output_type": "stream",
     "text": [
      "Emotion Training Correct: 320/320 \n",
      "Emotion Training Accuracy: 100.00000%\n",
      "Speaker Training Correct: 0/320 \n",
      "Speaker Training Accuracy: 0.00000%\n"
     ]
    },
    {
     "name": "stdout",
     "output_type": "stream",
     "text": [
      "\n",
      "Emotion Validating Correct: 85/107 \n",
      "Emotion Validating Accuracy: 79.43925%\n",
      "Speaker Validating Correct: 21/107 \n",
      "Speaker Validating Accuracy: 19.62617%\n",
      "\n",
      "Current Fold: 4 | Epoch: 97\n"
     ]
    },
    {
     "name": "stdout",
     "output_type": "stream",
     "text": [
      "Emotion Training Correct: 320/320 \n",
      "Emotion Training Accuracy: 100.00000%\n",
      "Speaker Training Correct: 0/320 \n",
      "Speaker Training Accuracy: 0.00000%\n"
     ]
    },
    {
     "name": "stdout",
     "output_type": "stream",
     "text": [
      "\n",
      "Emotion Validating Correct: 85/107 \n",
      "Emotion Validating Accuracy: 79.43925%\n",
      "Speaker Validating Correct: 21/107 \n",
      "Speaker Validating Accuracy: 19.62617%\n",
      "\n",
      "Current Fold: 4 | Epoch: 98\n"
     ]
    },
    {
     "name": "stdout",
     "output_type": "stream",
     "text": [
      "Emotion Training Correct: 320/320 \n",
      "Emotion Training Accuracy: 100.00000%\n",
      "Speaker Training Correct: 0/320 \n",
      "Speaker Training Accuracy: 0.00000%\n"
     ]
    },
    {
     "name": "stdout",
     "output_type": "stream",
     "text": [
      "\n",
      "Emotion Validating Correct: 83/107 \n",
      "Emotion Validating Accuracy: 77.57009%\n",
      "Speaker Validating Correct: 19/107 \n",
      "Speaker Validating Accuracy: 17.75701%\n",
      "\n",
      "Current Fold: 4 | Epoch: 99\n"
     ]
    },
    {
     "name": "stdout",
     "output_type": "stream",
     "text": [
      "Emotion Training Correct: 320/320 \n",
      "Emotion Training Accuracy: 100.00000%\n",
      "Speaker Training Correct: 0/320 \n",
      "Speaker Training Accuracy: 0.00000%\n"
     ]
    },
    {
     "name": "stdout",
     "output_type": "stream",
     "text": [
      "\n",
      "Emotion Validating Correct: 84/107 \n",
      "Emotion Validating Accuracy: 78.50467%\n",
      "Speaker Validating Correct: 20/107 \n",
      "Speaker Validating Accuracy: 18.69159%\n"
     ]
    }
   ],
   "source": [
    "import warnings\n",
    "warnings.filterwarnings('ignore')\n",
    "import torch.optim as optim\n",
    "import pylab as plt\n",
    "\n",
    "# Read this to understand how GRL works: \n",
    "# https://christineai.blog/category/domain-adaptation/\n",
    "\n",
    "FOLDS = 5\n",
    "EPOCHS = 100\n",
    "\n",
    "############### To comment this section out if disrupted #############\n",
    "fold_emotion_class_losses = np.zeros((FOLDS,EPOCHS))\n",
    "fold_emotion_training_accuracies = np.zeros((FOLDS,EPOCHS))\n",
    "fold_emotion_validating_accuracies = np.zeros((FOLDS,EPOCHS))\n",
    "fold_speaker_class_losses = np.zeros((FOLDS,EPOCHS))\n",
    "fold_speaker_training_accuracies = np.zeros((FOLDS,EPOCHS))\n",
    "fold_speaker_validating_accuracies = np.zeros((FOLDS,EPOCHS))\n",
    "\n",
    "\n",
    "######### To uncomment if trying to continue disrupted training ######\n",
    "# fold_emotion_class_losses, fold_emotion_training_accuracies, fold_emotion_validating_accuracies， fold_speaker_class_losses，fold_speaker_training_accuracies，fold_speaker_validating_accuracies= np.load(NPARR_PATH)\n",
    "\n",
    "###################################################################\n",
    "\n",
    "# 5-fold cross validation\n",
    "for fold in range(0,FOLDS):\n",
    "\n",
    "    # Selecting CPU or GPU\n",
    "    DEVICE = torch.device(\"cuda\" if torch.cuda.is_available() else \"cpu\")\n",
    "    # DEVICE = torch.device(\"cpu\")\n",
    "\n",
    "    # Selecting the type of encoder, label classifier\n",
    "    encoder = FeatureExtractor().to(DEVICE).train()\n",
    "    emotion_classifier = EmotionClassifier().to(DEVICE).train()\n",
    "    speaker_classifier = SpeakerClassifier().to(DEVICE).train()\n",
    "    \n",
    "#     encoder = nn.DataParallel(encoder)\n",
    "#     emotion_classifier = nn.DataParallel(emotion_classifier)\n",
    "#     speaker_classifier = nn.DataParallel(speaker_classifier)\n",
    "\n",
    "    # Optimizer \n",
    "    encoder_optimizer = torch.optim.Adam(encoder.parameters())\n",
    "    emotion_optimizer = torch.optim.Adam(emotion_classifier.parameters())\n",
    "    speaker_optimizer = torch.optim.Adam(speaker_classifier.parameters())\n",
    "\n",
    "    cross_entropy_loss = nn.CrossEntropyLoss().to(DEVICE)\n",
    "    \n",
    "    emodb_dataset_train = EmoDBDataset2(ROOT,cv_index = fold ,split= 'train')\n",
    "    emodb_dataset_test = EmoDBDataset2(ROOT,cv_index = fold, split= 'test')\n",
    "    emodb_dataset_validate = EmoDBDataset2(ROOT,cv_index = fold, split= 'validate')\n",
    "    \n",
    "    # DANN should be trained on labelled data from the source domain and unlabelled data from the target domain\n",
    "    TRAIN_BATCH_SIZE = 32\n",
    "    emodb_train_loader = DataLoader(dataset=emodb_dataset_train, batch_size= TRAIN_BATCH_SIZE, shuffle=True, drop_last=True,worker_init_fn=np.random.seed(42),num_workers=4, pin_memory= True)\n",
    "    \n",
    "    # For evaluation purposes\n",
    "    VALIDATE_BATCH_SIZE = len(emodb_dataset_validate)\n",
    "    emodb_validate_loader = DataLoader(dataset=emodb_dataset_validate, batch_size= VALIDATE_BATCH_SIZE, shuffle=True, drop_last=False,worker_init_fn=np.random.seed(42),num_workers=4, pin_memory= True)\n",
    "    \n",
    "    epoch_emotion_class_losses = []\n",
    "    emotion_training_accuracies = []\n",
    "    emotion_validating_accuracies = []\n",
    "\n",
    "    epoch_speaker_class_losses = []\n",
    "    speaker_training_accuracies = []\n",
    "    speaker_validating_accuracies = []\n",
    "\n",
    "    STEP = 0\n",
    "    for epoch in range(EPOCHS):\n",
    "        print(\"\\nCurrent Fold: {} | Epoch: {}\".format(fold, epoch))\n",
    "\n",
    "        completed_start_steps = epoch * len(emodb_train_loader)\n",
    "        total_steps = EPOCHS * len(emodb_train_loader)\n",
    "\n",
    "        batch_emotion_class_losses = []\n",
    "        batch_speaker_class_losses = []\n",
    "\n",
    "\n",
    "        for batch_idx, (feature, emotion, speaker) in enumerate(emodb_train_loader):\n",
    "\n",
    "            # Assigned to DEVICE. \n",
    "            features, emotion, speaker = feature.to(DEVICE),emotion.to(DEVICE), speaker.to(DEVICE)\n",
    "            \n",
    "            # Computing the training progress\n",
    "            p = (batch_idx + completed_start_steps) / total_steps\n",
    "            lambda_p = domain_adaptation_parameter(p)\n",
    "\n",
    "            # Calculate speaker and emotion classification prediction \n",
    "            conv_features = encoder(features)\n",
    "            emotion_preds = emotion_classifier(conv_features)\n",
    "            emotion_class_loss = cross_entropy_loss(emotion_preds, emotion)\n",
    "            speaker_preds = speaker_classifier(conv_features)\n",
    "            speaker_class_loss = cross_entropy_loss(speaker_preds, speaker)\n",
    "\n",
    "            # Calculate total loss\n",
    "            total_loss = emotion_class_loss - lambda_p * speaker_class_loss \n",
    "\n",
    "            # Clear the gradient to prevent gradient accumulation\n",
    "            encoder.zero_grad(set_to_none= True)\n",
    "            emotion_classifier.zero_grad(set_to_none= True)\n",
    "            speaker_classifier.zero_grad(set_to_none= True)\n",
    "\n",
    "            # Computing the gradient\n",
    "            total_loss.backward()\n",
    "\n",
    "            # Update the weight\n",
    "            emotion_optimizer.step()\n",
    "            speaker_optimizer.step()\n",
    "            encoder_optimizer.step()\n",
    "\n",
    "            batch_emotion_class_losses.append(emotion_class_loss.detach())\n",
    "            batch_speaker_class_losses.append(speaker_class_loss.detach())\n",
    "\n",
    "\n",
    "        # Enter evaluation mode at the end of each epoch\n",
    "        encoder.eval()\n",
    "        emotion_classifier.eval()\n",
    "        speaker_classifier.eval()\n",
    "\n",
    "        emotion_training_correct, emotion_validating_correct, speaker_training_correct, speaker_validating_correct = 0 , 0 , 0 , 0\n",
    "\n",
    "        with torch.no_grad():\n",
    "\n",
    "        # 1. Training Classification\n",
    "          for index, (features, emotion, speaker) in enumerate(emodb_train_loader):\n",
    "            features, emotion, speaker = features.to(DEVICE),emotion.to(DEVICE), speaker.to(DEVICE) \n",
    "            conv_features = encoder(features)\n",
    "            emotion_output = emotion_classifier(conv_features)\n",
    "            speaker_output = speaker_classifier(conv_features)\n",
    "            _, emotion_preds = torch.max(emotion_output,1)\n",
    "            _, speaker_preds = torch.max(speaker_output,1)\n",
    "            emotion_training_correct += (emotion_preds == emotion).sum() \n",
    "            speaker_training_correct += (speaker_preds == speaker).sum() \n",
    "          #source_accuracy = torch.true_divide(source_correct, len(svhn_test_loader.dataset))\n",
    "          emotion_training_accuracy = emotion_training_correct.item()/(len(emodb_train_loader)*TRAIN_BATCH_SIZE)\n",
    "          emotion_training_accuracies.append(emotion_training_accuracy)\n",
    "          speaker_training_accuracy = speaker_training_correct.item()/(len(emodb_train_loader)*TRAIN_BATCH_SIZE)\n",
    "          speaker_training_accuracies.append(speaker_training_accuracy)\n",
    "          print(\"Emotion Training Correct: {}/{} \\nEmotion Training Accuracy: {:.5f}%\".format(emotion_training_correct,(len(emodb_train_loader)*TRAIN_BATCH_SIZE),emotion_training_accuracy*100))\n",
    "          print(\"Speaker Training Correct: {}/{} \\nSpeaker Training Accuracy: {:.5f}%\".format(speaker_training_correct,(len(emodb_train_loader)*TRAIN_BATCH_SIZE),speaker_training_accuracy*100))\n",
    "\n",
    "        # 2. Validating Classification\n",
    "          for index, (features, emotion, speaker) in enumerate(emodb_validate_loader):\n",
    "            features, emotion, speaker = features.to(DEVICE),emotion.to(DEVICE), speaker.to(DEVICE) \n",
    "            conv_features = encoder(features)\n",
    "            emotion_output = emotion_classifier(conv_features)\n",
    "            speaker_output = speaker_classifier(conv_features)\n",
    "            _, emotion_preds = torch.max(emotion_output,1)\n",
    "            _, speaker_preds = torch.max(speaker_output,1)\n",
    "            emotion_validating_correct += (emotion_preds == emotion).sum() \n",
    "            speaker_validating_correct += (speaker_preds == speaker).sum() \n",
    "          #source_accuracy = torch.true_divide(source_correct, len(svhn_test_loader.dataset))\n",
    "          emotion_validating_accuracy = emotion_validating_correct.item()/(len(emodb_validate_loader)*VALIDATE_BATCH_SIZE)\n",
    "          emotion_validating_accuracies.append(emotion_validating_accuracy)\n",
    "          speaker_validating_accuracy = speaker_validating_correct.item()/(len(emodb_validate_loader)*VALIDATE_BATCH_SIZE)\n",
    "          speaker_validating_accuracies.append(speaker_validating_accuracy)\n",
    "          print(\"\\nEmotion Validating Correct: {}/{} \\nEmotion Validating Accuracy: {:.5f}%\".format(emotion_validating_correct,(len(emodb_validate_loader)*VALIDATE_BATCH_SIZE),emotion_validating_accuracy*100))\n",
    "          print(\"Speaker Validating Correct: {}/{} \\nSpeaker Validating Accuracy: {:.5f}%\".format(speaker_validating_correct,(len(emodb_validate_loader)*VALIDATE_BATCH_SIZE),speaker_validating_accuracy*100))\n",
    "\n",
    "          if (len(emotion_validating_accuracies)> 1 and emotion_validating_accuracy >= max(emotion_validating_accuracies[:-1])):\n",
    "                save_parameters(MODEL_PATH + 'fold' + str(fold))\n",
    "\n",
    "\n",
    "        encoder.train()\n",
    "        emotion_classifier.train()\n",
    "        speaker_classifier.train()\n",
    "\n",
    "\n",
    "        epoch_emotion_class_loss = torch.mean(torch.stack(batch_emotion_class_losses), dim=0)\n",
    "        epoch_emotion_class_losses.append(epoch_emotion_class_loss)\n",
    "        epoch_speaker_class_loss = torch.mean(torch.stack(batch_speaker_class_losses), dim=0)\n",
    "        epoch_speaker_class_losses.append(epoch_speaker_class_loss)\n",
    "        \n",
    "    fold_emotion_class_losses[fold] = epoch_emotion_class_losses\n",
    "    fold_emotion_training_accuracies[fold] = emotion_training_accuracies\n",
    "    fold_emotion_validating_accuracies[fold] = emotion_validating_accuracies\n",
    "    fold_speaker_class_losses[fold] = epoch_speaker_class_losses\n",
    "    fold_speaker_training_accuracies[fold] = speaker_training_accuracies\n",
    "    fold_speaker_validating_accuracies[fold] = speaker_validating_accuracies\n",
    "    \n",
    "    save_accuracies_and_losses(NPARR_PATH)\n",
    "    \n",
    "    \n",
    "    \n"
   ]
  },
  {
   "cell_type": "code",
   "execution_count": 14,
   "id": "going-xerox",
   "metadata": {
    "execution": {
     "iopub.execute_input": "2021-03-21T08:40:41.060879Z",
     "iopub.status.busy": "2021-03-21T08:40:41.060217Z",
     "iopub.status.idle": "2021-03-21T08:40:42.145261Z",
     "shell.execute_reply": "2021-03-21T08:40:42.145873Z"
    },
    "papermill": {
     "duration": 1.712131,
     "end_time": "2021-03-21T08:40:42.146086",
     "exception": false,
     "start_time": "2021-03-21T08:40:40.433955",
     "status": "completed"
    },
    "tags": []
   },
   "outputs": [
    {
     "data": {
      "image/png": "[encoded data removed]",
      "text/plain": [
       "<Figure size 1440x360 with 1 Axes>"
      ]
     },
     "metadata": {
      "needs_background": "light"
     },
     "output_type": "display_data"
    }
   ],
   "source": [
    "plt.figure(figsize=(20,5))\n",
    "plt.title('Losses vs. epochs')\n",
    "plt.xlabel('epochs')\n",
    "plt.ylabel('Losses')\n",
    "\n",
    "for i in range(FOLDS):\n",
    "    plt.plot(range(EPOCHS), fold_emotion_class_losses[i],label='emotion classification loss fold {}'.format(i))\n",
    "    plt.plot(range(EPOCHS), fold_speaker_class_losses[i],label='speaker classification loss fold {}'.format(i))\n",
    "\n",
    "plt.legend(loc='best')\n",
    "plt.show() "
   ]
  },
  {
   "cell_type": "code",
   "execution_count": 15,
   "id": "backed-mission",
   "metadata": {
    "execution": {
     "iopub.execute_input": "2021-03-21T08:40:43.189889Z",
     "iopub.status.busy": "2021-03-21T08:40:43.189058Z",
     "iopub.status.idle": "2021-03-21T08:40:43.192984Z",
     "shell.execute_reply": "2021-03-21T08:40:43.192021Z"
    },
    "papermill": {
     "duration": 0.470867,
     "end_time": "2021-03-21T08:40:43.193153",
     "exception": false,
     "start_time": "2021-03-21T08:40:42.722286",
     "status": "completed"
    },
    "tags": []
   },
   "outputs": [],
   "source": [
    "def plot_accuracies_vs_epochs(fold):\n",
    "    plt.figure(figsize=(20,5))\n",
    "    plt.title('Accuracies vs. epochs')\n",
    "    plt.xlabel('epochs')\n",
    "    plt.ylabel('Losses')\n",
    "    plt.plot(range(EPOCHS), fold_emotion_training_accuracies[fold],label='emotion_training_accuracies fold {}'.format(fold))\n",
    "    plt.plot(range(EPOCHS), fold_emotion_validating_accuracies[fold],label='emotion_validating_accuracies fold {}'.format(fold))\n",
    "    plt.plot(range(EPOCHS), fold_speaker_training_accuracies[fold],label='speaker_training_accuracies fold {}'.format(fold))\n",
    "    plt.plot(range(EPOCHS), fold_speaker_validating_accuracies[fold],label='speaker_validating_accuracies fold {}'.format(fold))\n",
    "    plt.legend(loc='best')\n",
    "    plt.show() \n",
    "    print(\"Maximum emotion training accuracy:{:.2f}%\".format(max(fold_emotion_training_accuracies[fold])*100))\n",
    "    print(\"Maximum emotion validating accuracy:{:.2f}%\".format(max(fold_emotion_validating_accuracies[fold])*100))\n",
    "    print(\"Maximum speaker training accuracy:{:.2f}%\".format(max(fold_speaker_training_accuracies[fold])*100))\n",
    "    print(\"Maximum speaker validating accuracy:{:.2f}%\".format(max(fold_speaker_validating_accuracies[fold])*100))"
   ]
  },
  {
   "cell_type": "code",
   "execution_count": 16,
   "id": "alone-capacity",
   "metadata": {
    "execution": {
     "iopub.execute_input": "2021-03-21T08:40:44.341613Z",
     "iopub.status.busy": "2021-03-21T08:40:44.340863Z",
     "iopub.status.idle": "2021-03-21T08:40:48.528596Z",
     "shell.execute_reply": "2021-03-21T08:40:48.530588Z"
    },
    "papermill": {
     "duration": 4.821807,
     "end_time": "2021-03-21T08:40:48.530793",
     "exception": false,
     "start_time": "2021-03-21T08:40:43.708986",
     "status": "completed"
    },
    "tags": []
   },
   "outputs": [
    {
     "data": {
      "image/png": "[encoded data removed]",
      "text/plain": [
       "<Figure size 1440x360 with 1 Axes>"
      ]
     },
     "metadata": {
      "needs_background": "light"
     },
     "output_type": "display_data"
    },
    {
     "name": "stdout",
     "output_type": "stream",
     "text": [
      "Maximum emotion training accuracy:100.00%\n",
      "Maximum emotion validating accuracy:75.76%\n",
      "Maximum speaker training accuracy:20.14%\n",
      "Maximum speaker validating accuracy:42.42%\n"
     ]
    },
    {
     "data": {
      "image/png": "[encoded data removed]",
      "text/plain": [
       "<Figure size 1440x360 with 1 Axes>"
      ]
     },
     "metadata": {
      "needs_background": "light"
     },
     "output_type": "display_data"
    },
    {
     "name": "stdout",
     "output_type": "stream",
     "text": [
      "Maximum emotion training accuracy:100.00%\n",
      "Maximum emotion validating accuracy:75.40%\n",
      "Maximum speaker training accuracy:0.35%\n",
      "Maximum speaker validating accuracy:68.25%\n"
     ]
    },
    {
     "data": {
      "image/png": "[encoded data removed]",
      "text/plain": [
       "<Figure size 1440x360 with 1 Axes>"
      ]
     },
     "metadata": {
      "needs_background": "light"
     },
     "output_type": "display_data"
    },
    {
     "name": "stdout",
     "output_type": "stream",
     "text": [
      "Maximum emotion training accuracy:100.00%\n",
      "Maximum emotion validating accuracy:76.04%\n",
      "Maximum speaker training accuracy:0.31%\n",
      "Maximum speaker validating accuracy:19.79%\n"
     ]
    },
    {
     "data": {
      "image/png": "[encoded data removed]",
      "text/plain": [
       "<Figure size 1440x360 with 1 Axes>"
      ]
     },
     "metadata": {
      "needs_background": "light"
     },
     "output_type": "display_data"
    },
    {
     "name": "stdout",
     "output_type": "stream",
     "text": [
      "Maximum emotion training accuracy:100.00%\n",
      "Maximum emotion validating accuracy:79.44%\n",
      "Maximum speaker training accuracy:0.00%\n",
      "Maximum speaker validating accuracy:28.04%\n"
     ]
    },
    {
     "data": {
      "image/png": "[encoded data removed]",
      "text/plain": [
       "<Figure size 1440x360 with 1 Axes>"
      ]
     },
     "metadata": {
      "needs_background": "light"
     },
     "output_type": "display_data"
    },
    {
     "name": "stdout",
     "output_type": "stream",
     "text": [
      "Maximum emotion training accuracy:100.00%\n",
      "Maximum emotion validating accuracy:82.24%\n",
      "Maximum speaker training accuracy:0.00%\n",
      "Maximum speaker validating accuracy:27.10%\n"
     ]
    }
   ],
   "source": [
    "for i in range(FOLDS):\n",
    "    plot_accuracies_vs_epochs(i)"
   ]
  },
  {
   "cell_type": "markdown",
   "id": "miniature-exploration",
   "metadata": {
    "papermill": {
     "duration": 0.501149,
     "end_time": "2021-03-21T08:40:49.716828",
     "exception": false,
     "start_time": "2021-03-21T08:40:49.215679",
     "status": "completed"
    },
    "tags": []
   },
   "source": [
    "## 5. Loading and evaluating the model"
   ]
  },
  {
   "cell_type": "code",
   "execution_count": 17,
   "id": "level-involvement",
   "metadata": {
    "execution": {
     "iopub.execute_input": "2021-03-21T08:40:51.036143Z",
     "iopub.status.busy": "2021-03-21T08:40:51.035400Z",
     "iopub.status.idle": "2021-03-21T08:40:54.053932Z",
     "shell.execute_reply": "2021-03-21T08:40:54.054429Z"
    },
    "papermill": {
     "duration": 3.636302,
     "end_time": "2021-03-21T08:40:54.054640",
     "exception": false,
     "start_time": "2021-03-21T08:40:50.418338",
     "status": "completed"
    },
    "scrolled": false,
    "tags": []
   },
   "outputs": [
    {
     "name": "stdout",
     "output_type": "stream",
     "text": [
      "\n",
      "Evaluation for fold 0\n"
     ]
    },
    {
     "name": "stdout",
     "output_type": "stream",
     "text": [
      "\n",
      "Emotion Training Correct: 310/310 \n",
      "Emotion Training Accuracy: 100.00000%\n",
      "Speaker Training Correct: 0/310 \n",
      "Speaker Training Accuracy: 0.00000%\n",
      "\n",
      "Emotion Validating Correct: 75/99 \n",
      "Emotion Validating Accuracy: 75.75758%\n",
      "Speaker Validating Correct: 28/99 \n",
      "Speaker Validating Accuracy: 28.28283%\n",
      "\n",
      "Emotion Testing Correct: 80/126 \n",
      "Emotion Testing Accuracy: 63.49206%\n",
      "Speaker Testing Correct: 20/126 \n",
      "Speaker Testing Accuracy: 15.87302%\n",
      "\n",
      "Evaluation for fold 1\n"
     ]
    },
    {
     "name": "stdout",
     "output_type": "stream",
     "text": [
      "\n",
      "Emotion Training Correct: 313/313 \n",
      "Emotion Training Accuracy: 100.00000%\n",
      "Speaker Training Correct: 0/313 \n",
      "Speaker Training Accuracy: 0.00000%\n",
      "\n",
      "Emotion Validating Correct: 95/126 \n",
      "Emotion Validating Accuracy: 75.39683%\n",
      "Speaker Validating Correct: 50/126 \n",
      "Speaker Validating Accuracy: 39.68254%\n",
      "\n",
      "Emotion Testing Correct: 70/96 \n",
      "Emotion Testing Accuracy: 72.91667%\n",
      "Speaker Testing Correct: 15/96 \n",
      "Speaker Testing Accuracy: 15.62500%\n",
      "\n",
      "Evaluation for fold 2\n"
     ]
    },
    {
     "name": "stdout",
     "output_type": "stream",
     "text": [
      "\n",
      "Emotion Training Correct: 332/332 \n",
      "Emotion Training Accuracy: 100.00000%\n",
      "Speaker Training Correct: 0/332 \n",
      "Speaker Training Accuracy: 0.00000%\n",
      "\n",
      "Emotion Validating Correct: 73/96 \n",
      "Emotion Validating Accuracy: 76.04167%\n",
      "Speaker Validating Correct: 11/96 \n",
      "Speaker Validating Accuracy: 11.45833%\n",
      "\n",
      "Emotion Testing Correct: 76/107 \n",
      "Emotion Testing Accuracy: 71.02804%\n",
      "Speaker Testing Correct: 48/107 \n",
      "Speaker Testing Accuracy: 44.85981%\n",
      "\n",
      "Evaluation for fold 3\n"
     ]
    },
    {
     "name": "stdout",
     "output_type": "stream",
     "text": [
      "\n",
      "Emotion Training Correct: 321/321 \n",
      "Emotion Training Accuracy: 100.00000%\n",
      "Speaker Training Correct: 0/321 \n",
      "Speaker Training Accuracy: 0.00000%\n",
      "\n",
      "Emotion Validating Correct: 85/107 \n",
      "Emotion Validating Accuracy: 79.43925%\n",
      "Speaker Validating Correct: 0/107 \n",
      "Speaker Validating Accuracy: 0.00000%\n"
     ]
    },
    {
     "name": "stdout",
     "output_type": "stream",
     "text": [
      "\n",
      "Emotion Testing Correct: 84/107 \n",
      "Emotion Testing Accuracy: 78.50467%\n",
      "Speaker Testing Correct: 58/107 \n",
      "Speaker Testing Accuracy: 54.20561%\n",
      "\n",
      "Evaluation for fold 4\n"
     ]
    },
    {
     "name": "stdout",
     "output_type": "stream",
     "text": [
      "\n",
      "Emotion Training Correct: 329/329 \n",
      "Emotion Training Accuracy: 100.00000%\n",
      "Speaker Training Correct: 0/329 \n",
      "Speaker Training Accuracy: 0.00000%\n",
      "\n",
      "Emotion Validating Correct: 88/107 \n",
      "Emotion Validating Accuracy: 82.24299%\n",
      "Speaker Validating Correct: 19/107 \n",
      "Speaker Validating Accuracy: 17.75701%\n",
      "\n",
      "Emotion Testing Correct: 81/99 \n",
      "Emotion Testing Accuracy: 81.81818%\n",
      "Speaker Testing Correct: 21/99 \n",
      "Speaker Testing Accuracy: 21.21212%\n",
      "\n",
      "SUMMARY:\n",
      "\n",
      "CV Emotion Training accuracies \n",
      "Mean: 1.0 \n",
      "S.D: 0.0\n",
      "\n",
      "CV Emotion Validating accuracies \n",
      "Mean: 0.777756621623444 \n",
      "S.D: 0.029775339458475773\n",
      "\n",
      "CV Emotion Testing accuracies \n",
      "Mean: 0.7355192445145716 \n",
      "S.D: 0.07085814860137818\n",
      "\n",
      "CV Speaker Training accuracies \n",
      "Mean: 0.0 \n",
      "S.D: 0.0\n",
      "\n",
      "CV Speaker Validating accuracies \n",
      "Mean: 0.19436142128899137 \n",
      "S.D: 0.15267686553165608\n",
      "\n",
      "CV Speaker Testing accuracies \n",
      "Mean: 0.3035511152917695 \n",
      "S.D: 0.17955041606269276\n"
     ]
    }
   ],
   "source": [
    "import warnings\n",
    "warnings.filterwarnings('ignore')\n",
    "from statistics import mean , stdev\n",
    "\n",
    "\n",
    "lfold_emotion_training_accuracies, lfold_emotion_validating_accuracies, lfold_emotion_testing_accuracies = [] , [] , []\n",
    "lfold_speaker_training_accuracies, lfold_speaker_validating_accuracies, lfold_speaker_testing_accuracies = [] , [] , []\n",
    "\n",
    "for fold in range(5):\n",
    "    print(\"\\nEvaluation for fold {}\".format(fold))\n",
    "    checkpoint = torch.load(MODEL_PATH + 'fold' + str(fold))\n",
    "    \n",
    "    DEVICE = torch.device(\"cuda\" if torch.cuda.is_available() else \"cpu\")\n",
    "\n",
    "    encoder = FeatureExtractor().to(DEVICE).train()\n",
    "    emotion_classifier = EmotionClassifier().to(DEVICE).train()\n",
    "    speaker_classifier = SpeakerClassifier().to(DEVICE)\n",
    "\n",
    "    encoder_optimizer = torch.optim.Adam(encoder.parameters())\n",
    "    emotion_optimizer = torch.optim.Adam(emotion_classifier.parameters())\n",
    "    speaker_optimizer = torch.optim.Adam(speaker_classifier.parameters())\n",
    "    \n",
    "    encoder.load_state_dict(checkpoint['encoder_state_dict'])\n",
    "    emotion_classifier.load_state_dict(checkpoint['emotion_classifier_state_dict'])\n",
    "    speaker_classifier.load_state_dict(checkpoint['speaker_classifier_state_dict'])\n",
    "    \n",
    "    encoder_optimizer.load_state_dict(checkpoint['encoder_optimizer_state_dict'])\n",
    "    emotion_optimizer.load_state_dict(checkpoint['emotion_optimizer_state_dict'])\n",
    "    speaker_optimizer.load_state_dict(checkpoint['speaker_optimizer_state_dict'])\n",
    "    \n",
    "    emodb_dataset_train = EmoDBDataset2(ROOT,cv_index = fold ,split= 'train')\n",
    "    emodb_dataset_test = EmoDBDataset2(ROOT,cv_index = fold, split= 'test')\n",
    "    emodb_dataset_validate = EmoDBDataset2(ROOT,cv_index = fold, split= 'validate')\n",
    "    \n",
    "    TRAIN_BATCH_SIZE = len(emodb_dataset_train)\n",
    "    VALIDATE_BATCH_SIZE = len(emodb_dataset_validate)\n",
    "    TEST_BATCH_SIZE = len(emodb_dataset_test)\n",
    "    \n",
    "    emodb_train_loader = DataLoader(dataset=emodb_dataset_train, batch_size= TRAIN_BATCH_SIZE, shuffle=True, drop_last=False,worker_init_fn=np.random.seed(42),num_workers=0)\n",
    "    emodb_validate_loader = DataLoader(dataset=emodb_dataset_validate, batch_size= VALIDATE_BATCH_SIZE, shuffle=True, drop_last=False,worker_init_fn=np.random.seed(42),num_workers=0)\n",
    "    emodb_test_loader = DataLoader(dataset=emodb_dataset_test, batch_size= TEST_BATCH_SIZE, shuffle=True, drop_last=False,worker_init_fn=np.random.seed(42),num_workers=0)\n",
    "    \n",
    "    encoder.eval()\n",
    "    emotion_classifier.eval()\n",
    "\n",
    "    lemotion_training_correct, lemotion_validating_correct, lemotion_testing_correct = 0 , 0 , 0\n",
    "    lspeaker_training_correct, lspeaker_validating_correct, lspeaker_testing_correct = 0 , 0 , 0\n",
    "\n",
    "    with torch.no_grad():\n",
    "        \n",
    "\n",
    "        # 1. Training Classification\n",
    "        for index, (features, emotion, speaker) in enumerate(emodb_train_loader):\n",
    "            features, emotion, speaker = features.to(DEVICE),emotion.to(DEVICE), speaker.to(DEVICE) \n",
    "            conv_features = encoder(features)\n",
    "            emotion_output = emotion_classifier(conv_features)\n",
    "            speaker_output = speaker_classifier(conv_features)\n",
    "            _, emotion_preds = torch.max(emotion_output,1)\n",
    "            _, speaker_preds = torch.max(speaker_output,1)\n",
    "            lemotion_training_correct += (emotion_preds == emotion).sum() \n",
    "            lspeaker_training_correct += (speaker_preds == speaker).sum()\n",
    "        emotion_training_accuracy = lemotion_training_correct.item()/(len(emodb_train_loader)*TRAIN_BATCH_SIZE)\n",
    "        speaker_training_accuracy = lspeaker_training_correct.item()/(len(emodb_train_loader)*TRAIN_BATCH_SIZE)\n",
    "        print(\"\\nEmotion Training Correct: {}/{} \\nEmotion Training Accuracy: {:.5f}%\".format(lemotion_training_correct,(len(emodb_train_loader)*TRAIN_BATCH_SIZE),emotion_training_accuracy*100))\n",
    "        print(\"Speaker Training Correct: {}/{} \\nSpeaker Training Accuracy: {:.5f}%\".format(lspeaker_training_correct,(len(emodb_train_loader)*TRAIN_BATCH_SIZE),speaker_training_accuracy*100)) \n",
    "        \n",
    "        # 2. Validating Classification\n",
    "        for index, (features, emotion, speaker) in enumerate(emodb_validate_loader):\n",
    "            features, emotion, speaker = features.to(DEVICE),emotion.to(DEVICE), speaker.to(DEVICE) \n",
    "            conv_features = encoder(features)\n",
    "            emotion_output = emotion_classifier(conv_features)\n",
    "            speaker_output = speaker_classifier(conv_features)\n",
    "            _, emotion_preds = torch.max(emotion_output,1)\n",
    "            _, speaker_preds = torch.max(speaker_output,1)\n",
    "            lemotion_validating_correct += (emotion_preds == emotion).sum() \n",
    "            lspeaker_validating_correct += (speaker_preds == speaker).sum()\n",
    "        emotion_validating_accuracy = lemotion_validating_correct.item()/(len(emodb_validate_loader)*VALIDATE_BATCH_SIZE)\n",
    "        speaker_validating_accuracy = lspeaker_validating_correct.item()/(len(emodb_validate_loader)*VALIDATE_BATCH_SIZE)\n",
    "        print(\"\\nEmotion Validating Correct: {}/{} \\nEmotion Validating Accuracy: {:.5f}%\".format(lemotion_validating_correct,(len(emodb_validate_loader)*VALIDATE_BATCH_SIZE),emotion_validating_accuracy*100))\n",
    "        print(\"Speaker Validating Correct: {}/{} \\nSpeaker Validating Accuracy: {:.5f}%\".format(lspeaker_validating_correct,(len(emodb_validate_loader)*VALIDATE_BATCH_SIZE),speaker_validating_accuracy*100)) \n",
    "        \n",
    "\n",
    "        # 3. Testing Classification\n",
    "        for index, (features, emotion, speaker) in enumerate(emodb_test_loader):\n",
    "            features, emotion, speaker = features.to(DEVICE),emotion.to(DEVICE), speaker.to(DEVICE) \n",
    "            conv_features = encoder(features)\n",
    "            emotion_output = emotion_classifier(conv_features)\n",
    "            speaker_output = speaker_classifier(conv_features)\n",
    "            _, emotion_preds = torch.max(emotion_output,1)\n",
    "            _, speaker_preds = torch.max(speaker_output,1)\n",
    "            lemotion_testing_correct += (emotion_preds == emotion).sum() \n",
    "            lspeaker_testing_correct += (speaker_preds == speaker).sum()\n",
    "        emotion_testing_accuracy = lemotion_testing_correct.item()/(len(emodb_test_loader)*TEST_BATCH_SIZE)\n",
    "        speaker_testing_accuracy = lspeaker_testing_correct.item()/(len(emodb_test_loader)*TEST_BATCH_SIZE)\n",
    "        print(\"\\nEmotion Testing Correct: {}/{} \\nEmotion Testing Accuracy: {:.5f}%\".format(lemotion_testing_correct,(len(emodb_test_loader)*TEST_BATCH_SIZE),emotion_testing_accuracy*100))\n",
    "        print(\"Speaker Testing Correct: {}/{} \\nSpeaker Testing Accuracy: {:.5f}%\".format(lspeaker_testing_correct,(len(emodb_test_loader)*TEST_BATCH_SIZE),speaker_testing_accuracy*100)) \n",
    "\n",
    "        lfold_emotion_training_accuracies.append(emotion_training_accuracy)\n",
    "        lfold_emotion_validating_accuracies.append(emotion_validating_accuracy)\n",
    "        lfold_emotion_testing_accuracies.append(emotion_testing_accuracy)\n",
    "        lfold_speaker_training_accuracies.append(speaker_training_accuracy)\n",
    "        lfold_speaker_validating_accuracies.append(speaker_validating_accuracy)\n",
    "        lfold_speaker_testing_accuracies.append(speaker_testing_accuracy)\n",
    "\n",
    "print('\\nSUMMARY:')\n",
    "print('\\nCV Emotion Training accuracies \\nMean: {} \\nS.D: {}'.format(mean(lfold_emotion_training_accuracies), stdev(lfold_emotion_training_accuracies)))\n",
    "print('\\nCV Emotion Validating accuracies \\nMean: {} \\nS.D: {}'.format(mean(lfold_emotion_validating_accuracies), stdev(lfold_emotion_validating_accuracies)))\n",
    "print('\\nCV Emotion Testing accuracies \\nMean: {} \\nS.D: {}'.format(mean(lfold_emotion_testing_accuracies), stdev(lfold_emotion_testing_accuracies)))\n",
    "\n",
    "print('\\nCV Speaker Training accuracies \\nMean: {} \\nS.D: {}'.format(mean(lfold_speaker_training_accuracies), stdev(lfold_speaker_training_accuracies)))\n",
    "print('\\nCV Speaker Validating accuracies \\nMean: {} \\nS.D: {}'.format(mean(lfold_speaker_validating_accuracies), stdev(lfold_speaker_validating_accuracies)))\n",
    "print('\\nCV Speaker Testing accuracies \\nMean: {} \\nS.D: {}'.format(mean(lfold_speaker_testing_accuracies), stdev(lfold_speaker_testing_accuracies)))"
   ]
  }
 ],
 "metadata": {
  "kernelspec": {
   "display_name": "Python 3",
   "language": "python",
   "name": "python3"
  },
  "language_info": {
   "codemirror_mode": {
    "name": "ipython",
    "version": 3
   },
   "file_extension": ".py",
   "mimetype": "text/x-python",
   "name": "python",
   "nbconvert_exporter": "python",
   "pygments_lexer": "ipython3",
   "version": "3.8.8"
  },
  "papermill": {
   "default_parameters": {},
   "duration": 3521.04628,
   "end_time": "2021-03-21T08:40:58.797560",
   "environment_variables": {},
   "exception": null,
   "input_path": "[DANN] EmoDB_MFCC_1L-CNN-GRU_DAP3.33-pool.ipynb",
   "output_path": "[DANN] EmoDB_MFCC_1L-CNN-GRU_DAP3.33-pool.ipynb",
   "parameters": {},
   "start_time": "2021-03-21T07:42:17.751280",
   "version": "2.3.1"
  }
 },
 "nbformat": 4,
 "nbformat_minor": 5
}