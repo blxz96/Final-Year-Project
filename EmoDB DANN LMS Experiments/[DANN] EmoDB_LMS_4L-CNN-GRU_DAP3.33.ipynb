{
 "cells": [
  {
   "cell_type": "code",
   "execution_count": 1,
   "id": "binding-crime",
   "metadata": {
    "execution": {
     "iopub.execute_input": "2021-03-12T14:34:41.946177Z",
     "iopub.status.busy": "2021-03-12T14:34:41.940082Z",
     "iopub.status.idle": "2021-03-12T14:34:43.429921Z",
     "shell.execute_reply": "2021-03-12T14:34:43.430332Z"
    },
    "papermill": {
     "duration": 1.531341,
     "end_time": "2021-03-12T14:34:43.430553",
     "exception": false,
     "start_time": "2021-03-12T14:34:41.899212",
     "status": "completed"
    },
    "tags": []
   },
   "outputs": [
    {
     "name": "stderr",
     "output_type": "stream",
     "text": [
      "/home/bryan/miniconda3/envs/FYP/lib/python3.7/site-packages/torchaudio/backend/utils.py:54: UserWarning: \"sox\" backend is being deprecated. The default backend will be changed to \"sox_io\" backend in 0.8.0 and \"sox\" backend will be removed in 0.9.0. Please migrate to \"sox_io\" backend. Please refer to https://github.com/pytorch/audio/issues/903 for the detail.\n",
      "  '\"sox\" backend is being deprecated. '\n"
     ]
    }
   ],
   "source": [
    "import os\n",
    "import torch\n",
    "import torchaudio\n",
    "torchaudio.set_audio_backend(\"sox_io\")\n",
    "import pandas as pd\n",
    "import numpy as np\n",
    "import torch.nn.functional as F\n",
    "import random\n",
    "import scipy\n",
    "import math\n",
    "from scipy import signal\n",
    "import librosa.display\n",
    "import torch.nn as nn\n",
    "from torch.utils.data import DataLoader\n",
    "\n",
    "GAMMA = 3.33\n",
    "DATA = 'emodb_LMS'\n",
    "LAYERS = 4\n",
    "ROOT = './Dataset/{}'.format(DATA)\n",
    "os.environ[\"CUDA_DEVICE_ORDER\"] = \"PCI_BUS_ID\"\n",
    "os.environ[\"CUDA_VISIBLE_DEVICES\"] = \"0\"\n",
    "MODEL_PATH = './model/{}_DANN_{}L-CNN-GRU_DAP{}_CV'.format(DATA,LAYERS,GAMMA)\n",
    "NPARR_PATH = './array/{}_DANN_{}L-CNN-GRU_DAP{}_CV accuracies.npz'.format(DATA,LAYERS,GAMMA)"
   ]
  },
  {
   "cell_type": "code",
   "execution_count": 2,
   "id": "consistent-christianity",
   "metadata": {
    "execution": {
     "iopub.execute_input": "2021-03-12T14:34:43.462297Z",
     "iopub.status.busy": "2021-03-12T14:34:43.461534Z",
     "iopub.status.idle": "2021-03-12T14:34:43.465736Z",
     "shell.execute_reply": "2021-03-12T14:34:43.465292Z"
    },
    "papermill": {
     "duration": 0.021402,
     "end_time": "2021-03-12T14:34:43.465833",
     "exception": false,
     "start_time": "2021-03-12T14:34:43.444431",
     "status": "completed"
    },
    "tags": []
   },
   "outputs": [
    {
     "name": "stdout",
     "output_type": "stream",
     "text": [
      "Seed set to:42\n"
     ]
    }
   ],
   "source": [
    "def set_seed(sd):\n",
    "    np.random.seed(sd)\n",
    "    random.seed(sd)\n",
    "    random.Random(sd)\n",
    "    torch.manual_seed(sd)\n",
    "    torch.cuda.manual_seed(sd)\n",
    "    torch.cuda.manual_seed_all(sd)\n",
    "    torch.backends.cudnn.enabled = False\n",
    "    torch.backends.cudnn.benchmark = False\n",
    "    torch.backends.cudnn.deterministic = True\n",
    "    print(\"Seed set to:{}\".format(sd))\n",
    "# also set worker_init_fn=np.random.seed(0),num_workers=0 in dataloader   \n",
    "\n",
    "set_seed(42)"
   ]
  },
  {
   "cell_type": "markdown",
   "id": "animated-connectivity",
   "metadata": {
    "papermill": {
     "duration": 0.012029,
     "end_time": "2021-03-12T14:34:43.489948",
     "exception": false,
     "start_time": "2021-03-12T14:34:43.477919",
     "status": "completed"
    },
    "tags": []
   },
   "source": [
    "## 1. CV Dataset for EMODB"
   ]
  },
  {
   "cell_type": "code",
   "execution_count": 3,
   "id": "strange-asset",
   "metadata": {
    "execution": {
     "iopub.execute_input": "2021-03-12T14:34:43.599455Z",
     "iopub.status.busy": "2021-03-12T14:34:43.598902Z",
     "iopub.status.idle": "2021-03-12T14:34:43.601698Z",
     "shell.execute_reply": "2021-03-12T14:34:43.601235Z"
    },
    "papermill": {
     "duration": 0.099855,
     "end_time": "2021-03-12T14:34:43.601803",
     "exception": false,
     "start_time": "2021-03-12T14:34:43.501948",
     "status": "completed"
    },
    "tags": []
   },
   "outputs": [],
   "source": [
    "class EmoDBDataset2(object):\n",
    "    \"\"\"\n",
    "        Create a Dataset for EmoDB. Each item is a tuple of the form:\n",
    "        (feature, sample_rate, emotion, speaker)\n",
    "    \"\"\"\n",
    "    _emotions = { 'W': 0, 'L': 1, 'E': 2, 'A': 3, 'F': 4, 'T': 5, 'N': 6 } \n",
    "    # W = anger, L = boredom, E = disgust, A = anxiety/fear, F = happiness, T = sadness, N = neutral\n",
    "    \n",
    "    _speaker = {'03': 0, '08': 1, '09': 2,'10': 3,'11': 4,'12': 5,'13': 6,'14': 7,'15': 8,'16': 9}\n",
    "\n",
    "    def __init__(self, root, cv_index, split):\n",
    "        \"\"\"\n",
    "        Args:\n",
    "            root (string): Directory containing the features files\n",
    "            split(string): Either train, validate or test set\n",
    "        \"\"\"\n",
    "        self.root = root\n",
    "        self.data = []\n",
    "        self.df = pd.DataFrame(self.data, columns=['Speaker', 'Emotion', 'File'])\n",
    "        self.cv = { 0: (['12','13','03','08','10','14'],['15','09'],['11','16']),\n",
    "                    1: (['15','09','03','08','10','14'],['11','16'],['12','13']),\n",
    "                    2: (['15','09','11','16','10','14'],['12','13'],['03','08']),\n",
    "                    3: (['15','09','11','16','12','13'],['03','08'],['10','14']),\n",
    "                    4: (['11','16','12','13','03','08'],['10','14'],['15','09'])\n",
    "                  }\n",
    "\n",
    "        # Iterate through all audio files\n",
    "        for root, dirs, files in os.walk(root):\n",
    "            for file in files:\n",
    "                \n",
    "#                 Every utterance is named according to the same scheme:\n",
    "#                 Positions 1-2: speaker_id; \n",
    "#                 Positions 3-5: code for text; \n",
    "#                 Position 6: emotion; \n",
    "#                 Position 7: if there are more than two versions, these are numbered a, b, c\n",
    "                \n",
    "#                 03 - male, 31 years old\n",
    "#                 08 - female, 34 years\n",
    "#                 09 - female, 21 years\n",
    "#                 10 - male, 32 years\n",
    "#                 11 - male, 26 years\n",
    "#                 12 - male, 30 years\n",
    "#                 13 - female, 32 years\n",
    "#                 14 - female, 35 years\n",
    "#                 15 - male, 25 years\n",
    "#                 16 - female, 31 years\n",
    "                \n",
    "                if split == 'train':\n",
    "                    if file[0:2] in self.cv[cv_index][0]:\n",
    "                        self.data.append([file[0:2], file[5], file])\n",
    "                elif split == 'validate':\n",
    "                    if file[0:2] in self.cv[cv_index][1]:\n",
    "                        self.data.append([file[0:2], file[5], file])\n",
    "                elif split == 'test':\n",
    "                    if file[0:2] in self.cv[cv_index][2]:\n",
    "                        self.data.append([file[0:2], file[5], file])\n",
    "                else:\n",
    "                    print(\"Error: Split can only be train, validate or test!\")\n",
    "                        \n",
    "                #self.data.append([file[0:2], file[5], file])\n",
    "\n",
    "        # Convert data to pandas dataframe\n",
    "        self.df = pd.DataFrame(self.data, columns=['Speaker', 'Emotion', 'File'])\n",
    "\n",
    "        # Map emotion labels to numeric values\n",
    "        self.df['Emotion'] = self.df['Emotion'].map(self._emotions).astype(np.long)\n",
    "        self.df['Speaker'] = self.df['Speaker'].map(self._speaker).astype(np.long)\n",
    "\n",
    "    def __len__(self):\n",
    "        return len(self.df)\n",
    "\n",
    "    def __getitem__(self, idx):\n",
    "        \n",
    "        file_name = os.path.join(self.root, self.df.loc[idx, 'File'])\n",
    "        feature = torch.load(file_name)\n",
    "        emotion = self.df.loc[idx, 'Emotion']\n",
    "        speaker = self.df.loc[idx, 'Speaker']\n",
    "        \n",
    "        # return a tuple instead of a dictionary\n",
    "        sample = (feature,emotion,speaker)\n",
    "\n",
    "        return sample"
   ]
  },
  {
   "cell_type": "code",
   "execution_count": 4,
   "id": "convinced-gender",
   "metadata": {
    "execution": {
     "iopub.execute_input": "2021-03-12T14:34:43.634200Z",
     "iopub.status.busy": "2021-03-12T14:34:43.633522Z",
     "iopub.status.idle": "2021-03-12T14:34:43.661537Z",
     "shell.execute_reply": "2021-03-12T14:34:43.661080Z"
    },
    "papermill": {
     "duration": 0.045843,
     "end_time": "2021-03-12T14:34:43.661638",
     "exception": false,
     "start_time": "2021-03-12T14:34:43.615795",
     "status": "completed"
    },
    "tags": []
   },
   "outputs": [
    {
     "data": {
      "text/html": [
       "<div>\n",
       "<style scoped>\n",
       "    .dataframe tbody tr th:only-of-type {\n",
       "        vertical-align: middle;\n",
       "    }\n",
       "\n",
       "    .dataframe tbody tr th {\n",
       "        vertical-align: top;\n",
       "    }\n",
       "\n",
       "    .dataframe thead th {\n",
       "        text-align: right;\n",
       "    }\n",
       "</style>\n",
       "<table border=\"1\" class=\"dataframe\">\n",
       "  <thead>\n",
       "    <tr style=\"text-align: right;\">\n",
       "      <th></th>\n",
       "      <th>Speaker</th>\n",
       "      <th>Emotion</th>\n",
       "      <th>File</th>\n",
       "    </tr>\n",
       "  </thead>\n",
       "  <tbody>\n",
       "    <tr>\n",
       "      <th>0</th>\n",
       "      <td>0</td>\n",
       "      <td>0</td>\n",
       "      <td>03a07Wc.pt</td>\n",
       "    </tr>\n",
       "    <tr>\n",
       "      <th>1</th>\n",
       "      <td>1</td>\n",
       "      <td>4</td>\n",
       "      <td>08b09Fd.pt</td>\n",
       "    </tr>\n",
       "    <tr>\n",
       "      <th>2</th>\n",
       "      <td>6</td>\n",
       "      <td>5</td>\n",
       "      <td>13a07Tc.pt</td>\n",
       "    </tr>\n",
       "    <tr>\n",
       "      <th>3</th>\n",
       "      <td>9</td>\n",
       "      <td>2</td>\n",
       "      <td>16a05Ea.pt</td>\n",
       "    </tr>\n",
       "    <tr>\n",
       "      <th>4</th>\n",
       "      <td>6</td>\n",
       "      <td>4</td>\n",
       "      <td>13b09Fc.pt</td>\n",
       "    </tr>\n",
       "    <tr>\n",
       "      <th>...</th>\n",
       "      <td>...</td>\n",
       "      <td>...</td>\n",
       "      <td>...</td>\n",
       "    </tr>\n",
       "    <tr>\n",
       "      <th>324</th>\n",
       "      <td>9</td>\n",
       "      <td>1</td>\n",
       "      <td>16b01La.pt</td>\n",
       "    </tr>\n",
       "    <tr>\n",
       "      <th>325</th>\n",
       "      <td>0</td>\n",
       "      <td>3</td>\n",
       "      <td>03b02Aa.pt</td>\n",
       "    </tr>\n",
       "    <tr>\n",
       "      <th>326</th>\n",
       "      <td>9</td>\n",
       "      <td>3</td>\n",
       "      <td>16b01Aa.pt</td>\n",
       "    </tr>\n",
       "    <tr>\n",
       "      <th>327</th>\n",
       "      <td>9</td>\n",
       "      <td>5</td>\n",
       "      <td>16a07Td.pt</td>\n",
       "    </tr>\n",
       "    <tr>\n",
       "      <th>328</th>\n",
       "      <td>9</td>\n",
       "      <td>2</td>\n",
       "      <td>16a02Ea.pt</td>\n",
       "    </tr>\n",
       "  </tbody>\n",
       "</table>\n",
       "<p>329 rows × 3 columns</p>\n",
       "</div>"
      ],
      "text/plain": [
       "     Speaker  Emotion        File\n",
       "0          0        0  03a07Wc.pt\n",
       "1          1        4  08b09Fd.pt\n",
       "2          6        5  13a07Tc.pt\n",
       "3          9        2  16a05Ea.pt\n",
       "4          6        4  13b09Fc.pt\n",
       "..       ...      ...         ...\n",
       "324        9        1  16b01La.pt\n",
       "325        0        3  03b02Aa.pt\n",
       "326        9        3  16b01Aa.pt\n",
       "327        9        5  16a07Td.pt\n",
       "328        9        2  16a02Ea.pt\n",
       "\n",
       "[329 rows x 3 columns]"
      ]
     },
     "execution_count": 4,
     "metadata": {},
     "output_type": "execute_result"
    }
   ],
   "source": [
    "# Initialize RavdessDataset\n",
    "emodb_dataset_train = EmoDBDataset2(ROOT,cv_index = 4,split= 'train')\n",
    "emodb_dataset_test = EmoDBDataset2(ROOT,cv_index = 4,split= 'test')\n",
    "emodb_dataset_validate = EmoDBDataset2(ROOT,cv_index = 4, split= 'validate')\n",
    "\n",
    "# To view dataframe, uncomment below: \n",
    "emodb_dataset_train.df"
   ]
  },
  {
   "cell_type": "code",
   "execution_count": 5,
   "id": "arbitrary-exhibit",
   "metadata": {
    "execution": {
     "iopub.execute_input": "2021-03-12T14:34:43.691616Z",
     "iopub.status.busy": "2021-03-12T14:34:43.691128Z",
     "iopub.status.idle": "2021-03-12T14:34:43.693652Z",
     "shell.execute_reply": "2021-03-12T14:34:43.693211Z"
    },
    "papermill": {
     "duration": 0.017974,
     "end_time": "2021-03-12T14:34:43.693752",
     "exception": false,
     "start_time": "2021-03-12T14:34:43.675778",
     "status": "completed"
    },
    "tags": []
   },
   "outputs": [],
   "source": [
    "# from torch.utils.data import DataLoader\n",
    "# TRAIN_BATCH_SIZE = 16\n",
    "# VALIDATE_BATCH_SIZE = len(emodb_dataset_validate)\n",
    "# TEST_BATCH_SIZE = len(emodb_dataset_test)\n",
    "# emodb_train_loader = DataLoader(dataset=emodb_dataset_train, batch_size= TRAIN_BATCH_SIZE, shuffle=True, drop_last=False,worker_init_fn=np.random.seed(42),num_workers=2, pin_memory=True)\n",
    "# emodb_validate_loader = DataLoader(dataset=emodb_dataset_validate, batch_size= VALIDATE_BATCH_SIZE, shuffle=True, drop_last=False,worker_init_fn=np.random.seed(42),num_workers=2, pin_memory=True)\n",
    "# emodb_test_loader = DataLoader(dataset=emodb_dataset_test, batch_size= TEST_BATCH_SIZE, shuffle=True, drop_last=False,worker_init_fn=np.random.seed(42),num_workers=2, pin_memory=True)"
   ]
  },
  {
   "cell_type": "code",
   "execution_count": 6,
   "id": "statutory-parking",
   "metadata": {
    "execution": {
     "iopub.execute_input": "2021-03-12T14:34:43.721983Z",
     "iopub.status.busy": "2021-03-12T14:34:43.721499Z",
     "iopub.status.idle": "2021-03-12T14:34:43.724637Z",
     "shell.execute_reply": "2021-03-12T14:34:43.723620Z"
    },
    "papermill": {
     "duration": 0.018576,
     "end_time": "2021-03-12T14:34:43.724753",
     "exception": false,
     "start_time": "2021-03-12T14:34:43.706177",
     "status": "completed"
    },
    "tags": []
   },
   "outputs": [],
   "source": [
    "# next(iter(emodb_train_loader))"
   ]
  },
  {
   "cell_type": "markdown",
   "id": "successful-azerbaijan",
   "metadata": {
    "papermill": {
     "duration": 0.012845,
     "end_time": "2021-03-12T14:34:43.750593",
     "exception": false,
     "start_time": "2021-03-12T14:34:43.737748",
     "status": "completed"
    },
    "tags": []
   },
   "source": [
    "## 2. Network Architectures and Helper Functions"
   ]
  },
  {
   "cell_type": "markdown",
   "id": "incomplete-fluid",
   "metadata": {
    "papermill": {
     "duration": 0.012896,
     "end_time": "2021-03-12T14:34:43.776353",
     "exception": false,
     "start_time": "2021-03-12T14:34:43.763457",
     "status": "completed"
    },
    "tags": []
   },
   "source": [
    "### 2.1 Network Architectures"
   ]
  },
  {
   "cell_type": "code",
   "execution_count": 7,
   "id": "dense-gates",
   "metadata": {
    "execution": {
     "iopub.execute_input": "2021-03-12T14:34:43.819802Z",
     "iopub.status.busy": "2021-03-12T14:34:43.818552Z",
     "iopub.status.idle": "2021-03-12T14:34:43.821064Z",
     "shell.execute_reply": "2021-03-12T14:34:43.821948Z"
    },
    "papermill": {
     "duration": 0.032969,
     "end_time": "2021-03-12T14:34:43.822238",
     "exception": false,
     "start_time": "2021-03-12T14:34:43.789269",
     "status": "completed"
    },
    "tags": []
   },
   "outputs": [],
   "source": [
    "class FeatureExtractor(nn.Module):\n",
    "    def __init__(self):\n",
    "        # For same padding, P = ((S-1)*W-S+F)/2, with F = filter size, S = stride. If stride = 1, P = (F-1)/2\n",
    "        super().__init__()\n",
    "        self.conv_layers = nn.Sequential(\n",
    "            nn.Conv2d(in_channels=1, out_channels=64, kernel_size=(2, 2),padding=1,bias=False),  \n",
    "            nn.BatchNorm2d(64),\n",
    "            nn.Dropout2d(p=0.1),\n",
    "            nn.ELU(inplace=True),\n",
    "            nn.MaxPool2d(kernel_size=(2, 2), stride=(2, 2)),  \n",
    "            \n",
    "            nn.Conv2d(in_channels=64, out_channels=64, kernel_size=(2, 2),padding=1,bias= False),  \n",
    "            nn.BatchNorm2d(64),\n",
    "            nn.Dropout2d(p=0.1),\n",
    "            nn.ELU(inplace=True),\n",
    "            nn.MaxPool2d(kernel_size=(2, 2), stride=(2, 2)),  \n",
    "            \n",
    "            nn.Conv2d(in_channels=64, out_channels=128, kernel_size=(2, 2),padding=1,bias=False),  \n",
    "            nn.BatchNorm2d(128),\n",
    "            nn.Dropout2d(p=0.1),\n",
    "            nn.ELU(inplace=True),\n",
    "            nn.MaxPool2d(kernel_size=(2, 2), stride=(2, 2)),\n",
    "            \n",
    "            nn.Conv2d(in_channels=128, out_channels=128, kernel_size=(2, 2),padding=1,bias=False),  \n",
    "            nn.BatchNorm2d(128),\n",
    "            nn.Dropout2d(p=0.25),\n",
    "            nn.ELU(inplace=True),\n",
    "            nn.MaxPool2d(kernel_size=(2, 2), stride=(2, 2)),\n",
    "                     \n",
    "        )\n",
    "        \n",
    "        self.GRU = nn.GRU(input_size= 1024, hidden_size = 256 ,batch_first = True, bidirectional = True) #128\n",
    "        self.global_average_pooling = nn.AdaptiveAvgPool2d((8,8))\n",
    "        self.FC = nn.Linear(in_features = 8 * 8, out_features = 512) \n",
    "        \n",
    "        \n",
    "    def forward(self,x):\n",
    "        x = self.conv_layers(x)\n",
    "        # print(\"1-LFLB shape: {}\".format(x.shape))                     # batch_size, c_out, freq, time since we are using spectogram\n",
    "        x = x.view(x.size(0),-1,x.size(3)) \n",
    "        # print(\"Batch size, features, seq shape: {}\".format(x.shape))  # batch_size, features= c_out* freq , seq_len= time\n",
    "        x = x.permute(0,2,1)\n",
    "        # print(\"Batch size, seq, features shape: {}\".format(x.shape))  # batch_size, seq, features\n",
    "        output, hn = self.GRU(x)\n",
    "        # print(\"GRU output shape: {}\".format(output.shape))                # batch_size, seq, hidden size * 2 \n",
    "        x = self.global_average_pooling(output)\n",
    "        # print(\"Shape after global average pooling:{}\".format(x.shape))\n",
    "        x = torch.flatten(x,start_dim=1)\n",
    "        # print(\"Shape after flattening:{}\".format(x.shape))\n",
    "        x = self.FC(x)\n",
    "        # print(\"FC shape: {}\".format(x.shape))\n",
    "\n",
    "        return x\n"
   ]
  },
  {
   "cell_type": "code",
   "execution_count": 8,
   "id": "fixed-damage",
   "metadata": {
    "execution": {
     "iopub.execute_input": "2021-03-12T14:34:43.871259Z",
     "iopub.status.busy": "2021-03-12T14:34:43.869644Z",
     "iopub.status.idle": "2021-03-12T14:34:43.873687Z",
     "shell.execute_reply": "2021-03-12T14:34:43.872525Z"
    },
    "papermill": {
     "duration": 0.031864,
     "end_time": "2021-03-12T14:34:43.873969",
     "exception": false,
     "start_time": "2021-03-12T14:34:43.842105",
     "status": "completed"
    },
    "tags": []
   },
   "outputs": [],
   "source": [
    "class EmotionClassifier(nn.Module):\n",
    "    def __init__(self):\n",
    "        super(EmotionClassifier,self).__init__()\n",
    "        self.label_classifier = nn.Sequential(\n",
    "            \n",
    "            nn.Linear(512, 64),\n",
    "            nn.BatchNorm1d(64),\n",
    "            nn.Dropout2d(p=0.5),\n",
    "            nn.ReLU(inplace=True),\n",
    "            nn.Linear(64, 64),\n",
    "            nn.BatchNorm1d(64),\n",
    "            nn.Dropout2d(p=0.5),\n",
    "            nn.ReLU(inplace=True),\n",
    "            nn.Linear(64, 7),\n",
    "\n",
    "        )\n",
    "        \n",
    "    def forward(self,x):\n",
    "        x = self.label_classifier(x)\n",
    "        return F.softmax(x)\n"
   ]
  },
  {
   "cell_type": "code",
   "execution_count": 9,
   "id": "intelligent-outside",
   "metadata": {
    "execution": {
     "iopub.execute_input": "2021-03-12T14:34:43.915032Z",
     "iopub.status.busy": "2021-03-12T14:34:43.914365Z",
     "iopub.status.idle": "2021-03-12T14:34:43.916104Z",
     "shell.execute_reply": "2021-03-12T14:34:43.916594Z"
    },
    "papermill": {
     "duration": 0.020797,
     "end_time": "2021-03-12T14:34:43.916789",
     "exception": false,
     "start_time": "2021-03-12T14:34:43.895992",
     "status": "completed"
    },
    "tags": []
   },
   "outputs": [],
   "source": [
    "class SpeakerClassifier(nn.Module):\n",
    "    def __init__(self):\n",
    "        super(SpeakerClassifier,self).__init__()\n",
    "        self.label_classifier = nn.Sequential(\n",
    "            nn.Linear(512, 64),\n",
    "            nn.BatchNorm1d(64),\n",
    "            nn.Dropout2d(p=0.5),\n",
    "            nn.ReLU(inplace=True),\n",
    "            nn.Linear(64, 64),\n",
    "            nn.BatchNorm1d(64),\n",
    "            nn.Dropout2d(p=0.5),\n",
    "            nn.ReLU(inplace=True),\n",
    "            nn.Linear(64, 10),\n",
    "        )\n",
    "        \n",
    "    def forward(self,x):\n",
    "        x = self.label_classifier(x)\n",
    "        return F.softmax(x)\n"
   ]
  },
  {
   "cell_type": "markdown",
   "id": "collectible-legislature",
   "metadata": {
    "papermill": {
     "duration": 0.013616,
     "end_time": "2021-03-12T14:34:43.951914",
     "exception": false,
     "start_time": "2021-03-12T14:34:43.938298",
     "status": "completed"
    },
    "tags": []
   },
   "source": [
    "### 2.2 Helper Functions"
   ]
  },
  {
   "cell_type": "code",
   "execution_count": 10,
   "id": "ultimate-coalition",
   "metadata": {
    "execution": {
     "iopub.execute_input": "2021-03-12T14:34:43.984873Z",
     "iopub.status.busy": "2021-03-12T14:34:43.984420Z",
     "iopub.status.idle": "2021-03-12T14:34:43.987811Z",
     "shell.execute_reply": "2021-03-12T14:34:43.988282Z"
    },
    "papermill": {
     "duration": 0.022777,
     "end_time": "2021-03-12T14:34:43.988433",
     "exception": false,
     "start_time": "2021-03-12T14:34:43.965656",
     "status": "completed"
    },
    "tags": []
   },
   "outputs": [],
   "source": [
    "import numpy as np\n",
    "\n",
    "def domain_adaptation_parameter(p):\n",
    "    lambda_p = 2. / (1. + np.exp(-GAMMA*p)) - 1\n",
    "    return lambda_p"
   ]
  },
  {
   "cell_type": "code",
   "execution_count": 11,
   "id": "separate-preparation",
   "metadata": {
    "execution": {
     "iopub.execute_input": "2021-03-12T14:34:44.025857Z",
     "iopub.status.busy": "2021-03-12T14:34:44.025422Z",
     "iopub.status.idle": "2021-03-12T14:34:44.029480Z",
     "shell.execute_reply": "2021-03-12T14:34:44.029951Z"
    },
    "papermill": {
     "duration": 0.026364,
     "end_time": "2021-03-12T14:34:44.030107",
     "exception": false,
     "start_time": "2021-03-12T14:34:44.003743",
     "status": "completed"
    },
    "tags": []
   },
   "outputs": [],
   "source": [
    "def save_parameters(PATH):\n",
    "    torch.save({\n",
    "                'encoder_state_dict': encoder.state_dict(),\n",
    "                'emotion_classifier_state_dict': emotion_classifier.state_dict(),\n",
    "                'speaker_classifier_state_dict': speaker_classifier.state_dict(),\n",
    "                'encoder_optimizer_state_dict': encoder_optimizer.state_dict(),\n",
    "                'emotion_optimizer_state_dict': emotion_optimizer.state_dict(),\n",
    "                'speaker_optimizer_state_dict': speaker_optimizer.state_dict(),\n",
    "                }, PATH)\n",
    "    print(\"Models' parameters and optimisers' parameters saved.\")"
   ]
  },
  {
   "cell_type": "code",
   "execution_count": 12,
   "id": "amended-warrant",
   "metadata": {
    "execution": {
     "iopub.execute_input": "2021-03-12T14:34:44.067257Z",
     "iopub.status.busy": "2021-03-12T14:34:44.066791Z",
     "iopub.status.idle": "2021-03-12T14:34:44.071090Z",
     "shell.execute_reply": "2021-03-12T14:34:44.071559Z"
    },
    "papermill": {
     "duration": 0.025269,
     "end_time": "2021-03-12T14:34:44.071708",
     "exception": false,
     "start_time": "2021-03-12T14:34:44.046439",
     "status": "completed"
    },
    "tags": []
   },
   "outputs": [],
   "source": [
    "def save_accuracies_and_losses(PATH):\n",
    "    np.savez(PATH, \n",
    "         emoClassLoss = fold_emotion_class_losses,\n",
    "         emoTrain_acc = fold_emotion_training_accuracies, \n",
    "         emoValidate_acc = fold_emotion_validating_accuracies,\n",
    "         spkClassLoss = fold_speaker_class_losses,\n",
    "         spkTrain_acc = fold_speaker_training_accuracies,\n",
    "         spkValidate_acc = fold_speaker_validating_accuracies,\n",
    "        \n",
    "    )"
   ]
  },
  {
   "cell_type": "markdown",
   "id": "curious-roads",
   "metadata": {
    "papermill": {
     "duration": 0.012519,
     "end_time": "2021-03-12T14:34:44.100901",
     "exception": false,
     "start_time": "2021-03-12T14:34:44.088382",
     "status": "completed"
    },
    "tags": []
   },
   "source": [
    "## 4. Model Training"
   ]
  },
  {
   "cell_type": "code",
   "execution_count": 13,
   "id": "lyric-elephant",
   "metadata": {
    "execution": {
     "iopub.execute_input": "2021-03-12T14:34:44.164647Z",
     "iopub.status.busy": "2021-03-12T14:34:44.162029Z",
     "iopub.status.idle": "2021-03-12T15:15:01.872214Z",
     "shell.execute_reply": "2021-03-12T15:15:01.872806Z"
    },
    "papermill": {
     "duration": 2417.759787,
     "end_time": "2021-03-12T15:15:01.873008",
     "exception": false,
     "start_time": "2021-03-12T14:34:44.113221",
     "status": "completed"
    },
    "scrolled": true,
    "tags": []
   },
   "outputs": [
    {
     "name": "stdout",
     "output_type": "stream",
     "text": [
      "\n",
      "Current Fold: 0 | Epoch: 0\n"
     ]
    },
    {
     "name": "stdout",
     "output_type": "stream",
     "text": [
      "Emotion Training Correct: 24/288 \n",
      "Emotion Training Accuracy: 8.33333%\n",
      "Speaker Training Correct: 0/288 \n",
      "Speaker Training Accuracy: 0.00000%\n"
     ]
    },
    {
     "name": "stdout",
     "output_type": "stream",
     "text": [
      "\n",
      "Emotion Validating Correct: 12/99 \n",
      "Emotion Validating Accuracy: 12.12121%\n",
      "Speaker Validating Correct: 0/99 \n",
      "Speaker Validating Accuracy: 0.00000%\n",
      "\n",
      "Current Fold: 0 | Epoch: 1\n"
     ]
    },
    {
     "name": "stdout",
     "output_type": "stream",
     "text": [
      "Emotion Training Correct: 65/288 \n",
      "Emotion Training Accuracy: 22.56944%\n",
      "Speaker Training Correct: 0/288 \n",
      "Speaker Training Accuracy: 0.00000%\n"
     ]
    },
    {
     "name": "stdout",
     "output_type": "stream",
     "text": [
      "\n",
      "Emotion Validating Correct: 18/99 \n",
      "Emotion Validating Accuracy: 18.18182%\n",
      "Speaker Validating Correct: 1/99 \n",
      "Speaker Validating Accuracy: 1.01010%\n",
      "Models' parameters and optimisers' parameters saved.\n",
      "\n",
      "Current Fold: 0 | Epoch: 2\n"
     ]
    },
    {
     "name": "stdout",
     "output_type": "stream",
     "text": [
      "Emotion Training Correct: 60/288 \n",
      "Emotion Training Accuracy: 20.83333%\n",
      "Speaker Training Correct: 0/288 \n",
      "Speaker Training Accuracy: 0.00000%\n"
     ]
    },
    {
     "name": "stdout",
     "output_type": "stream",
     "text": [
      "\n",
      "Emotion Validating Correct: 15/99 \n",
      "Emotion Validating Accuracy: 15.15152%\n",
      "Speaker Validating Correct: 20/99 \n",
      "Speaker Validating Accuracy: 20.20202%\n",
      "\n",
      "Current Fold: 0 | Epoch: 3\n"
     ]
    },
    {
     "name": "stdout",
     "output_type": "stream",
     "text": [
      "Emotion Training Correct: 90/288 \n",
      "Emotion Training Accuracy: 31.25000%\n",
      "Speaker Training Correct: 0/288 \n",
      "Speaker Training Accuracy: 0.00000%\n"
     ]
    },
    {
     "name": "stdout",
     "output_type": "stream",
     "text": [
      "\n",
      "Emotion Validating Correct: 29/99 \n",
      "Emotion Validating Accuracy: 29.29293%\n",
      "Speaker Validating Correct: 29/99 \n",
      "Speaker Validating Accuracy: 29.29293%\n",
      "Models' parameters and optimisers' parameters saved.\n",
      "\n",
      "Current Fold: 0 | Epoch: 4\n"
     ]
    },
    {
     "name": "stdout",
     "output_type": "stream",
     "text": [
      "Emotion Training Correct: 83/288 \n",
      "Emotion Training Accuracy: 28.81944%\n",
      "Speaker Training Correct: 0/288 \n",
      "Speaker Training Accuracy: 0.00000%\n"
     ]
    },
    {
     "name": "stdout",
     "output_type": "stream",
     "text": [
      "\n",
      "Emotion Validating Correct: 28/99 \n",
      "Emotion Validating Accuracy: 28.28283%\n",
      "Speaker Validating Correct: 29/99 \n",
      "Speaker Validating Accuracy: 29.29293%\n",
      "\n",
      "Current Fold: 0 | Epoch: 5\n"
     ]
    },
    {
     "name": "stdout",
     "output_type": "stream",
     "text": [
      "Emotion Training Correct: 87/288 \n",
      "Emotion Training Accuracy: 30.20833%\n",
      "Speaker Training Correct: 0/288 \n",
      "Speaker Training Accuracy: 0.00000%\n"
     ]
    },
    {
     "name": "stdout",
     "output_type": "stream",
     "text": [
      "\n",
      "Emotion Validating Correct: 29/99 \n",
      "Emotion Validating Accuracy: 29.29293%\n",
      "Speaker Validating Correct: 22/99 \n",
      "Speaker Validating Accuracy: 22.22222%\n",
      "Models' parameters and optimisers' parameters saved.\n",
      "\n",
      "Current Fold: 0 | Epoch: 6\n"
     ]
    },
    {
     "name": "stdout",
     "output_type": "stream",
     "text": [
      "Emotion Training Correct: 86/288 \n",
      "Emotion Training Accuracy: 29.86111%\n",
      "Speaker Training Correct: 0/288 \n",
      "Speaker Training Accuracy: 0.00000%\n"
     ]
    },
    {
     "name": "stdout",
     "output_type": "stream",
     "text": [
      "\n",
      "Emotion Validating Correct: 30/99 \n",
      "Emotion Validating Accuracy: 30.30303%\n",
      "Speaker Validating Correct: 22/99 \n",
      "Speaker Validating Accuracy: 22.22222%\n",
      "Models' parameters and optimisers' parameters saved.\n",
      "\n",
      "Current Fold: 0 | Epoch: 7\n"
     ]
    },
    {
     "name": "stdout",
     "output_type": "stream",
     "text": [
      "Emotion Training Correct: 91/288 \n",
      "Emotion Training Accuracy: 31.59722%\n",
      "Speaker Training Correct: 0/288 \n",
      "Speaker Training Accuracy: 0.00000%\n"
     ]
    },
    {
     "name": "stdout",
     "output_type": "stream",
     "text": [
      "\n",
      "Emotion Validating Correct: 30/99 \n",
      "Emotion Validating Accuracy: 30.30303%\n",
      "Speaker Validating Correct: 22/99 \n",
      "Speaker Validating Accuracy: 22.22222%\n",
      "Models' parameters and optimisers' parameters saved.\n",
      "\n",
      "Current Fold: 0 | Epoch: 8\n"
     ]
    },
    {
     "name": "stdout",
     "output_type": "stream",
     "text": [
      "Emotion Training Correct: 90/288 \n",
      "Emotion Training Accuracy: 31.25000%\n",
      "Speaker Training Correct: 0/288 \n",
      "Speaker Training Accuracy: 0.00000%\n"
     ]
    },
    {
     "name": "stdout",
     "output_type": "stream",
     "text": [
      "\n",
      "Emotion Validating Correct: 29/99 \n",
      "Emotion Validating Accuracy: 29.29293%\n",
      "Speaker Validating Correct: 26/99 \n",
      "Speaker Validating Accuracy: 26.26263%\n",
      "\n",
      "Current Fold: 0 | Epoch: 9\n"
     ]
    },
    {
     "name": "stdout",
     "output_type": "stream",
     "text": [
      "Emotion Training Correct: 94/288 \n",
      "Emotion Training Accuracy: 32.63889%\n",
      "Speaker Training Correct: 0/288 \n",
      "Speaker Training Accuracy: 0.00000%\n"
     ]
    },
    {
     "name": "stdout",
     "output_type": "stream",
     "text": [
      "\n",
      "Emotion Validating Correct: 30/99 \n",
      "Emotion Validating Accuracy: 30.30303%\n",
      "Speaker Validating Correct: 33/99 \n",
      "Speaker Validating Accuracy: 33.33333%\n",
      "Models' parameters and optimisers' parameters saved.\n",
      "\n",
      "Current Fold: 0 | Epoch: 10\n"
     ]
    },
    {
     "name": "stdout",
     "output_type": "stream",
     "text": [
      "Emotion Training Correct: 87/288 \n",
      "Emotion Training Accuracy: 30.20833%\n",
      "Speaker Training Correct: 0/288 \n",
      "Speaker Training Accuracy: 0.00000%\n"
     ]
    },
    {
     "name": "stdout",
     "output_type": "stream",
     "text": [
      "\n",
      "Emotion Validating Correct: 27/99 \n",
      "Emotion Validating Accuracy: 27.27273%\n",
      "Speaker Validating Correct: 37/99 \n",
      "Speaker Validating Accuracy: 37.37374%\n",
      "\n",
      "Current Fold: 0 | Epoch: 11\n"
     ]
    },
    {
     "name": "stdout",
     "output_type": "stream",
     "text": [
      "Emotion Training Correct: 93/288 \n",
      "Emotion Training Accuracy: 32.29167%\n",
      "Speaker Training Correct: 0/288 \n",
      "Speaker Training Accuracy: 0.00000%\n"
     ]
    },
    {
     "name": "stdout",
     "output_type": "stream",
     "text": [
      "\n",
      "Emotion Validating Correct: 26/99 \n",
      "Emotion Validating Accuracy: 26.26263%\n",
      "Speaker Validating Correct: 40/99 \n",
      "Speaker Validating Accuracy: 40.40404%\n",
      "\n",
      "Current Fold: 0 | Epoch: 12\n"
     ]
    },
    {
     "name": "stdout",
     "output_type": "stream",
     "text": [
      "Emotion Training Correct: 85/288 \n",
      "Emotion Training Accuracy: 29.51389%\n",
      "Speaker Training Correct: 0/288 \n",
      "Speaker Training Accuracy: 0.00000%\n"
     ]
    },
    {
     "name": "stdout",
     "output_type": "stream",
     "text": [
      "\n",
      "Emotion Validating Correct: 27/99 \n",
      "Emotion Validating Accuracy: 27.27273%\n",
      "Speaker Validating Correct: 42/99 \n",
      "Speaker Validating Accuracy: 42.42424%\n",
      "\n",
      "Current Fold: 0 | Epoch: 13\n"
     ]
    },
    {
     "name": "stdout",
     "output_type": "stream",
     "text": [
      "Emotion Training Correct: 117/288 \n",
      "Emotion Training Accuracy: 40.62500%\n",
      "Speaker Training Correct: 0/288 \n",
      "Speaker Training Accuracy: 0.00000%\n"
     ]
    },
    {
     "name": "stdout",
     "output_type": "stream",
     "text": [
      "\n",
      "Emotion Validating Correct: 39/99 \n",
      "Emotion Validating Accuracy: 39.39394%\n",
      "Speaker Validating Correct: 41/99 \n",
      "Speaker Validating Accuracy: 41.41414%\n",
      "Models' parameters and optimisers' parameters saved.\n",
      "\n",
      "Current Fold: 0 | Epoch: 14\n"
     ]
    },
    {
     "name": "stdout",
     "output_type": "stream",
     "text": [
      "Emotion Training Correct: 136/288 \n",
      "Emotion Training Accuracy: 47.22222%\n",
      "Speaker Training Correct: 0/288 \n",
      "Speaker Training Accuracy: 0.00000%\n"
     ]
    },
    {
     "name": "stdout",
     "output_type": "stream",
     "text": [
      "\n",
      "Emotion Validating Correct: 47/99 \n",
      "Emotion Validating Accuracy: 47.47475%\n",
      "Speaker Validating Correct: 37/99 \n",
      "Speaker Validating Accuracy: 37.37374%\n",
      "Models' parameters and optimisers' parameters saved.\n",
      "\n",
      "Current Fold: 0 | Epoch: 15\n"
     ]
    },
    {
     "name": "stdout",
     "output_type": "stream",
     "text": [
      "Emotion Training Correct: 132/288 \n",
      "Emotion Training Accuracy: 45.83333%\n",
      "Speaker Training Correct: 0/288 \n",
      "Speaker Training Accuracy: 0.00000%\n"
     ]
    },
    {
     "name": "stdout",
     "output_type": "stream",
     "text": [
      "\n",
      "Emotion Validating Correct: 46/99 \n",
      "Emotion Validating Accuracy: 46.46465%\n",
      "Speaker Validating Correct: 33/99 \n",
      "Speaker Validating Accuracy: 33.33333%\n",
      "\n",
      "Current Fold: 0 | Epoch: 16\n"
     ]
    },
    {
     "name": "stdout",
     "output_type": "stream",
     "text": [
      "Emotion Training Correct: 134/288 \n",
      "Emotion Training Accuracy: 46.52778%\n",
      "Speaker Training Correct: 0/288 \n",
      "Speaker Training Accuracy: 0.00000%\n"
     ]
    },
    {
     "name": "stdout",
     "output_type": "stream",
     "text": [
      "\n",
      "Emotion Validating Correct: 45/99 \n",
      "Emotion Validating Accuracy: 45.45455%\n",
      "Speaker Validating Correct: 31/99 \n",
      "Speaker Validating Accuracy: 31.31313%\n",
      "\n",
      "Current Fold: 0 | Epoch: 17\n"
     ]
    },
    {
     "name": "stdout",
     "output_type": "stream",
     "text": [
      "Emotion Training Correct: 134/288 \n",
      "Emotion Training Accuracy: 46.52778%\n",
      "Speaker Training Correct: 0/288 \n",
      "Speaker Training Accuracy: 0.00000%\n"
     ]
    },
    {
     "name": "stdout",
     "output_type": "stream",
     "text": [
      "\n",
      "Emotion Validating Correct: 46/99 \n",
      "Emotion Validating Accuracy: 46.46465%\n",
      "Speaker Validating Correct: 30/99 \n",
      "Speaker Validating Accuracy: 30.30303%\n",
      "\n",
      "Current Fold: 0 | Epoch: 18\n"
     ]
    },
    {
     "name": "stdout",
     "output_type": "stream",
     "text": [
      "Emotion Training Correct: 143/288 \n",
      "Emotion Training Accuracy: 49.65278%\n",
      "Speaker Training Correct: 0/288 \n",
      "Speaker Training Accuracy: 0.00000%\n"
     ]
    },
    {
     "name": "stdout",
     "output_type": "stream",
     "text": [
      "\n",
      "Emotion Validating Correct: 50/99 \n",
      "Emotion Validating Accuracy: 50.50505%\n",
      "Speaker Validating Correct: 36/99 \n",
      "Speaker Validating Accuracy: 36.36364%\n",
      "Models' parameters and optimisers' parameters saved.\n",
      "\n",
      "Current Fold: 0 | Epoch: 19\n"
     ]
    },
    {
     "name": "stdout",
     "output_type": "stream",
     "text": [
      "Emotion Training Correct: 149/288 \n",
      "Emotion Training Accuracy: 51.73611%\n",
      "Speaker Training Correct: 0/288 \n",
      "Speaker Training Accuracy: 0.00000%\n"
     ]
    },
    {
     "name": "stdout",
     "output_type": "stream",
     "text": [
      "\n",
      "Emotion Validating Correct: 50/99 \n",
      "Emotion Validating Accuracy: 50.50505%\n",
      "Speaker Validating Correct: 36/99 \n",
      "Speaker Validating Accuracy: 36.36364%\n",
      "Models' parameters and optimisers' parameters saved.\n",
      "\n",
      "Current Fold: 0 | Epoch: 20\n"
     ]
    },
    {
     "name": "stdout",
     "output_type": "stream",
     "text": [
      "Emotion Training Correct: 142/288 \n",
      "Emotion Training Accuracy: 49.30556%\n",
      "Speaker Training Correct: 0/288 \n",
      "Speaker Training Accuracy: 0.00000%\n"
     ]
    },
    {
     "name": "stdout",
     "output_type": "stream",
     "text": [
      "\n",
      "Emotion Validating Correct: 48/99 \n",
      "Emotion Validating Accuracy: 48.48485%\n",
      "Speaker Validating Correct: 34/99 \n",
      "Speaker Validating Accuracy: 34.34343%\n",
      "\n",
      "Current Fold: 0 | Epoch: 21\n"
     ]
    },
    {
     "name": "stdout",
     "output_type": "stream",
     "text": [
      "Emotion Training Correct: 159/288 \n",
      "Emotion Training Accuracy: 55.20833%\n",
      "Speaker Training Correct: 0/288 \n",
      "Speaker Training Accuracy: 0.00000%\n"
     ]
    },
    {
     "name": "stdout",
     "output_type": "stream",
     "text": [
      "\n",
      "Emotion Validating Correct: 49/99 \n",
      "Emotion Validating Accuracy: 49.49495%\n",
      "Speaker Validating Correct: 37/99 \n",
      "Speaker Validating Accuracy: 37.37374%\n",
      "\n",
      "Current Fold: 0 | Epoch: 22\n"
     ]
    },
    {
     "name": "stdout",
     "output_type": "stream",
     "text": [
      "Emotion Training Correct: 152/288 \n",
      "Emotion Training Accuracy: 52.77778%\n",
      "Speaker Training Correct: 0/288 \n",
      "Speaker Training Accuracy: 0.00000%\n"
     ]
    },
    {
     "name": "stdout",
     "output_type": "stream",
     "text": [
      "\n",
      "Emotion Validating Correct: 41/99 \n",
      "Emotion Validating Accuracy: 41.41414%\n",
      "Speaker Validating Correct: 39/99 \n",
      "Speaker Validating Accuracy: 39.39394%\n",
      "\n",
      "Current Fold: 0 | Epoch: 23\n"
     ]
    },
    {
     "name": "stdout",
     "output_type": "stream",
     "text": [
      "Emotion Training Correct: 164/288 \n",
      "Emotion Training Accuracy: 56.94444%\n",
      "Speaker Training Correct: 0/288 \n",
      "Speaker Training Accuracy: 0.00000%\n"
     ]
    },
    {
     "name": "stdout",
     "output_type": "stream",
     "text": [
      "\n",
      "Emotion Validating Correct: 50/99 \n",
      "Emotion Validating Accuracy: 50.50505%\n",
      "Speaker Validating Correct: 38/99 \n",
      "Speaker Validating Accuracy: 38.38384%\n",
      "Models' parameters and optimisers' parameters saved.\n",
      "\n",
      "Current Fold: 0 | Epoch: 24\n"
     ]
    },
    {
     "name": "stdout",
     "output_type": "stream",
     "text": [
      "Emotion Training Correct: 162/288 \n",
      "Emotion Training Accuracy: 56.25000%\n",
      "Speaker Training Correct: 0/288 \n",
      "Speaker Training Accuracy: 0.00000%\n"
     ]
    },
    {
     "name": "stdout",
     "output_type": "stream",
     "text": [
      "\n",
      "Emotion Validating Correct: 44/99 \n",
      "Emotion Validating Accuracy: 44.44444%\n",
      "Speaker Validating Correct: 34/99 \n",
      "Speaker Validating Accuracy: 34.34343%\n",
      "\n",
      "Current Fold: 0 | Epoch: 25\n"
     ]
    },
    {
     "name": "stdout",
     "output_type": "stream",
     "text": [
      "Emotion Training Correct: 140/288 \n",
      "Emotion Training Accuracy: 48.61111%\n",
      "Speaker Training Correct: 0/288 \n",
      "Speaker Training Accuracy: 0.00000%\n"
     ]
    },
    {
     "name": "stdout",
     "output_type": "stream",
     "text": [
      "\n",
      "Emotion Validating Correct: 37/99 \n",
      "Emotion Validating Accuracy: 37.37374%\n",
      "Speaker Validating Correct: 36/99 \n",
      "Speaker Validating Accuracy: 36.36364%\n",
      "\n",
      "Current Fold: 0 | Epoch: 26\n"
     ]
    },
    {
     "name": "stdout",
     "output_type": "stream",
     "text": [
      "Emotion Training Correct: 154/288 \n",
      "Emotion Training Accuracy: 53.47222%\n",
      "Speaker Training Correct: 0/288 \n",
      "Speaker Training Accuracy: 0.00000%\n"
     ]
    },
    {
     "name": "stdout",
     "output_type": "stream",
     "text": [
      "\n",
      "Emotion Validating Correct: 41/99 \n",
      "Emotion Validating Accuracy: 41.41414%\n",
      "Speaker Validating Correct: 34/99 \n",
      "Speaker Validating Accuracy: 34.34343%\n",
      "\n",
      "Current Fold: 0 | Epoch: 27\n"
     ]
    },
    {
     "name": "stdout",
     "output_type": "stream",
     "text": [
      "Emotion Training Correct: 167/288 \n",
      "Emotion Training Accuracy: 57.98611%\n",
      "Speaker Training Correct: 0/288 \n",
      "Speaker Training Accuracy: 0.00000%\n"
     ]
    },
    {
     "name": "stdout",
     "output_type": "stream",
     "text": [
      "\n",
      "Emotion Validating Correct: 51/99 \n",
      "Emotion Validating Accuracy: 51.51515%\n",
      "Speaker Validating Correct: 41/99 \n",
      "Speaker Validating Accuracy: 41.41414%\n",
      "Models' parameters and optimisers' parameters saved.\n",
      "\n",
      "Current Fold: 0 | Epoch: 28\n"
     ]
    },
    {
     "name": "stdout",
     "output_type": "stream",
     "text": [
      "Emotion Training Correct: 159/288 \n",
      "Emotion Training Accuracy: 55.20833%\n",
      "Speaker Training Correct: 0/288 \n",
      "Speaker Training Accuracy: 0.00000%\n"
     ]
    },
    {
     "name": "stdout",
     "output_type": "stream",
     "text": [
      "\n",
      "Emotion Validating Correct: 55/99 \n",
      "Emotion Validating Accuracy: 55.55556%\n",
      "Speaker Validating Correct: 41/99 \n",
      "Speaker Validating Accuracy: 41.41414%\n",
      "Models' parameters and optimisers' parameters saved.\n",
      "\n",
      "Current Fold: 0 | Epoch: 29\n"
     ]
    },
    {
     "name": "stdout",
     "output_type": "stream",
     "text": [
      "Emotion Training Correct: 174/288 \n",
      "Emotion Training Accuracy: 60.41667%\n",
      "Speaker Training Correct: 0/288 \n",
      "Speaker Training Accuracy: 0.00000%\n"
     ]
    },
    {
     "name": "stdout",
     "output_type": "stream",
     "text": [
      "\n",
      "Emotion Validating Correct: 47/99 \n",
      "Emotion Validating Accuracy: 47.47475%\n",
      "Speaker Validating Correct: 40/99 \n",
      "Speaker Validating Accuracy: 40.40404%\n",
      "\n",
      "Current Fold: 0 | Epoch: 30\n"
     ]
    },
    {
     "name": "stdout",
     "output_type": "stream",
     "text": [
      "Emotion Training Correct: 173/288 \n",
      "Emotion Training Accuracy: 60.06944%\n",
      "Speaker Training Correct: 0/288 \n",
      "Speaker Training Accuracy: 0.00000%\n"
     ]
    },
    {
     "name": "stdout",
     "output_type": "stream",
     "text": [
      "\n",
      "Emotion Validating Correct: 42/99 \n",
      "Emotion Validating Accuracy: 42.42424%\n",
      "Speaker Validating Correct: 36/99 \n",
      "Speaker Validating Accuracy: 36.36364%\n",
      "\n",
      "Current Fold: 0 | Epoch: 31\n"
     ]
    },
    {
     "name": "stdout",
     "output_type": "stream",
     "text": [
      "Emotion Training Correct: 164/288 \n",
      "Emotion Training Accuracy: 56.94444%\n",
      "Speaker Training Correct: 0/288 \n",
      "Speaker Training Accuracy: 0.00000%\n"
     ]
    },
    {
     "name": "stdout",
     "output_type": "stream",
     "text": [
      "\n",
      "Emotion Validating Correct: 47/99 \n",
      "Emotion Validating Accuracy: 47.47475%\n",
      "Speaker Validating Correct: 38/99 \n",
      "Speaker Validating Accuracy: 38.38384%\n",
      "\n",
      "Current Fold: 0 | Epoch: 32\n"
     ]
    },
    {
     "name": "stdout",
     "output_type": "stream",
     "text": [
      "Emotion Training Correct: 184/288 \n",
      "Emotion Training Accuracy: 63.88889%\n",
      "Speaker Training Correct: 0/288 \n",
      "Speaker Training Accuracy: 0.00000%\n"
     ]
    },
    {
     "name": "stdout",
     "output_type": "stream",
     "text": [
      "\n",
      "Emotion Validating Correct: 49/99 \n",
      "Emotion Validating Accuracy: 49.49495%\n",
      "Speaker Validating Correct: 37/99 \n",
      "Speaker Validating Accuracy: 37.37374%\n",
      "\n",
      "Current Fold: 0 | Epoch: 33\n"
     ]
    },
    {
     "name": "stdout",
     "output_type": "stream",
     "text": [
      "Emotion Training Correct: 178/288 \n",
      "Emotion Training Accuracy: 61.80556%\n",
      "Speaker Training Correct: 0/288 \n",
      "Speaker Training Accuracy: 0.00000%\n"
     ]
    },
    {
     "name": "stdout",
     "output_type": "stream",
     "text": [
      "\n",
      "Emotion Validating Correct: 50/99 \n",
      "Emotion Validating Accuracy: 50.50505%\n",
      "Speaker Validating Correct: 38/99 \n",
      "Speaker Validating Accuracy: 38.38384%\n",
      "\n",
      "Current Fold: 0 | Epoch: 34\n"
     ]
    },
    {
     "name": "stdout",
     "output_type": "stream",
     "text": [
      "Emotion Training Correct: 187/288 \n",
      "Emotion Training Accuracy: 64.93056%\n",
      "Speaker Training Correct: 0/288 \n",
      "Speaker Training Accuracy: 0.00000%\n"
     ]
    },
    {
     "name": "stdout",
     "output_type": "stream",
     "text": [
      "\n",
      "Emotion Validating Correct: 57/99 \n",
      "Emotion Validating Accuracy: 57.57576%\n",
      "Speaker Validating Correct: 42/99 \n",
      "Speaker Validating Accuracy: 42.42424%\n",
      "Models' parameters and optimisers' parameters saved.\n",
      "\n",
      "Current Fold: 0 | Epoch: 35\n"
     ]
    },
    {
     "name": "stdout",
     "output_type": "stream",
     "text": [
      "Emotion Training Correct: 183/288 \n",
      "Emotion Training Accuracy: 63.54167%\n",
      "Speaker Training Correct: 0/288 \n",
      "Speaker Training Accuracy: 0.00000%\n"
     ]
    },
    {
     "name": "stdout",
     "output_type": "stream",
     "text": [
      "\n",
      "Emotion Validating Correct: 48/99 \n",
      "Emotion Validating Accuracy: 48.48485%\n",
      "Speaker Validating Correct: 43/99 \n",
      "Speaker Validating Accuracy: 43.43434%\n",
      "\n",
      "Current Fold: 0 | Epoch: 36\n"
     ]
    },
    {
     "name": "stdout",
     "output_type": "stream",
     "text": [
      "Emotion Training Correct: 191/288 \n",
      "Emotion Training Accuracy: 66.31944%\n",
      "Speaker Training Correct: 0/288 \n",
      "Speaker Training Accuracy: 0.00000%\n"
     ]
    },
    {
     "name": "stdout",
     "output_type": "stream",
     "text": [
      "\n",
      "Emotion Validating Correct: 56/99 \n",
      "Emotion Validating Accuracy: 56.56566%\n",
      "Speaker Validating Correct: 48/99 \n",
      "Speaker Validating Accuracy: 48.48485%\n",
      "\n",
      "Current Fold: 0 | Epoch: 37\n"
     ]
    },
    {
     "name": "stdout",
     "output_type": "stream",
     "text": [
      "Emotion Training Correct: 192/288 \n",
      "Emotion Training Accuracy: 66.66667%\n",
      "Speaker Training Correct: 0/288 \n",
      "Speaker Training Accuracy: 0.00000%\n"
     ]
    },
    {
     "name": "stdout",
     "output_type": "stream",
     "text": [
      "\n",
      "Emotion Validating Correct: 51/99 \n",
      "Emotion Validating Accuracy: 51.51515%\n",
      "Speaker Validating Correct: 37/99 \n",
      "Speaker Validating Accuracy: 37.37374%\n",
      "\n",
      "Current Fold: 0 | Epoch: 38\n"
     ]
    },
    {
     "name": "stdout",
     "output_type": "stream",
     "text": [
      "Emotion Training Correct: 197/288 \n",
      "Emotion Training Accuracy: 68.40278%\n",
      "Speaker Training Correct: 0/288 \n",
      "Speaker Training Accuracy: 0.00000%\n"
     ]
    },
    {
     "name": "stdout",
     "output_type": "stream",
     "text": [
      "\n",
      "Emotion Validating Correct: 47/99 \n",
      "Emotion Validating Accuracy: 47.47475%\n",
      "Speaker Validating Correct: 42/99 \n",
      "Speaker Validating Accuracy: 42.42424%\n",
      "\n",
      "Current Fold: 0 | Epoch: 39\n"
     ]
    },
    {
     "name": "stdout",
     "output_type": "stream",
     "text": [
      "Emotion Training Correct: 166/288 \n",
      "Emotion Training Accuracy: 57.63889%\n",
      "Speaker Training Correct: 0/288 \n",
      "Speaker Training Accuracy: 0.00000%\n"
     ]
    },
    {
     "name": "stdout",
     "output_type": "stream",
     "text": [
      "\n",
      "Emotion Validating Correct: 45/99 \n",
      "Emotion Validating Accuracy: 45.45455%\n",
      "Speaker Validating Correct: 41/99 \n",
      "Speaker Validating Accuracy: 41.41414%\n",
      "\n",
      "Current Fold: 0 | Epoch: 40\n"
     ]
    },
    {
     "name": "stdout",
     "output_type": "stream",
     "text": [
      "Emotion Training Correct: 194/288 \n",
      "Emotion Training Accuracy: 67.36111%\n",
      "Speaker Training Correct: 0/288 \n",
      "Speaker Training Accuracy: 0.00000%\n"
     ]
    },
    {
     "name": "stdout",
     "output_type": "stream",
     "text": [
      "\n",
      "Emotion Validating Correct: 56/99 \n",
      "Emotion Validating Accuracy: 56.56566%\n",
      "Speaker Validating Correct: 44/99 \n",
      "Speaker Validating Accuracy: 44.44444%\n",
      "\n",
      "Current Fold: 0 | Epoch: 41\n"
     ]
    },
    {
     "name": "stdout",
     "output_type": "stream",
     "text": [
      "Emotion Training Correct: 195/288 \n",
      "Emotion Training Accuracy: 67.70833%\n",
      "Speaker Training Correct: 0/288 \n",
      "Speaker Training Accuracy: 0.00000%\n"
     ]
    },
    {
     "name": "stdout",
     "output_type": "stream",
     "text": [
      "\n",
      "Emotion Validating Correct: 54/99 \n",
      "Emotion Validating Accuracy: 54.54545%\n",
      "Speaker Validating Correct: 44/99 \n",
      "Speaker Validating Accuracy: 44.44444%\n",
      "\n",
      "Current Fold: 0 | Epoch: 42\n"
     ]
    },
    {
     "name": "stdout",
     "output_type": "stream",
     "text": [
      "Emotion Training Correct: 195/288 \n",
      "Emotion Training Accuracy: 67.70833%\n",
      "Speaker Training Correct: 0/288 \n",
      "Speaker Training Accuracy: 0.00000%\n"
     ]
    },
    {
     "name": "stdout",
     "output_type": "stream",
     "text": [
      "\n",
      "Emotion Validating Correct: 54/99 \n",
      "Emotion Validating Accuracy: 54.54545%\n",
      "Speaker Validating Correct: 47/99 \n",
      "Speaker Validating Accuracy: 47.47475%\n",
      "\n",
      "Current Fold: 0 | Epoch: 43\n"
     ]
    },
    {
     "name": "stdout",
     "output_type": "stream",
     "text": [
      "Emotion Training Correct: 195/288 \n",
      "Emotion Training Accuracy: 67.70833%\n",
      "Speaker Training Correct: 0/288 \n",
      "Speaker Training Accuracy: 0.00000%\n"
     ]
    },
    {
     "name": "stdout",
     "output_type": "stream",
     "text": [
      "\n",
      "Emotion Validating Correct: 49/99 \n",
      "Emotion Validating Accuracy: 49.49495%\n",
      "Speaker Validating Correct: 49/99 \n",
      "Speaker Validating Accuracy: 49.49495%\n",
      "\n",
      "Current Fold: 0 | Epoch: 44\n"
     ]
    },
    {
     "name": "stdout",
     "output_type": "stream",
     "text": [
      "Emotion Training Correct: 173/288 \n",
      "Emotion Training Accuracy: 60.06944%\n",
      "Speaker Training Correct: 0/288 \n",
      "Speaker Training Accuracy: 0.00000%\n"
     ]
    },
    {
     "name": "stdout",
     "output_type": "stream",
     "text": [
      "\n",
      "Emotion Validating Correct: 45/99 \n",
      "Emotion Validating Accuracy: 45.45455%\n",
      "Speaker Validating Correct: 43/99 \n",
      "Speaker Validating Accuracy: 43.43434%\n",
      "\n",
      "Current Fold: 0 | Epoch: 45\n"
     ]
    },
    {
     "name": "stdout",
     "output_type": "stream",
     "text": [
      "Emotion Training Correct: 157/288 \n",
      "Emotion Training Accuracy: 54.51389%\n",
      "Speaker Training Correct: 0/288 \n",
      "Speaker Training Accuracy: 0.00000%\n"
     ]
    },
    {
     "name": "stdout",
     "output_type": "stream",
     "text": [
      "\n",
      "Emotion Validating Correct: 40/99 \n",
      "Emotion Validating Accuracy: 40.40404%\n",
      "Speaker Validating Correct: 44/99 \n",
      "Speaker Validating Accuracy: 44.44444%\n",
      "\n",
      "Current Fold: 0 | Epoch: 46\n"
     ]
    },
    {
     "name": "stdout",
     "output_type": "stream",
     "text": [
      "Emotion Training Correct: 150/288 \n",
      "Emotion Training Accuracy: 52.08333%\n",
      "Speaker Training Correct: 0/288 \n",
      "Speaker Training Accuracy: 0.00000%\n"
     ]
    },
    {
     "name": "stdout",
     "output_type": "stream",
     "text": [
      "\n",
      "Emotion Validating Correct: 37/99 \n",
      "Emotion Validating Accuracy: 37.37374%\n",
      "Speaker Validating Correct: 40/99 \n",
      "Speaker Validating Accuracy: 40.40404%\n",
      "\n",
      "Current Fold: 0 | Epoch: 47\n"
     ]
    },
    {
     "name": "stdout",
     "output_type": "stream",
     "text": [
      "Emotion Training Correct: 199/288 \n",
      "Emotion Training Accuracy: 69.09722%\n",
      "Speaker Training Correct: 0/288 \n",
      "Speaker Training Accuracy: 0.00000%\n"
     ]
    },
    {
     "name": "stdout",
     "output_type": "stream",
     "text": [
      "\n",
      "Emotion Validating Correct: 52/99 \n",
      "Emotion Validating Accuracy: 52.52525%\n",
      "Speaker Validating Correct: 37/99 \n",
      "Speaker Validating Accuracy: 37.37374%\n",
      "\n",
      "Current Fold: 0 | Epoch: 48\n"
     ]
    },
    {
     "name": "stdout",
     "output_type": "stream",
     "text": [
      "Emotion Training Correct: 184/288 \n",
      "Emotion Training Accuracy: 63.88889%\n",
      "Speaker Training Correct: 0/288 \n",
      "Speaker Training Accuracy: 0.00000%\n"
     ]
    },
    {
     "name": "stdout",
     "output_type": "stream",
     "text": [
      "\n",
      "Emotion Validating Correct: 40/99 \n",
      "Emotion Validating Accuracy: 40.40404%\n",
      "Speaker Validating Correct: 41/99 \n",
      "Speaker Validating Accuracy: 41.41414%\n",
      "\n",
      "Current Fold: 0 | Epoch: 49\n"
     ]
    },
    {
     "name": "stdout",
     "output_type": "stream",
     "text": [
      "Emotion Training Correct: 197/288 \n",
      "Emotion Training Accuracy: 68.40278%\n",
      "Speaker Training Correct: 0/288 \n",
      "Speaker Training Accuracy: 0.00000%\n"
     ]
    },
    {
     "name": "stdout",
     "output_type": "stream",
     "text": [
      "\n",
      "Emotion Validating Correct: 48/99 \n",
      "Emotion Validating Accuracy: 48.48485%\n",
      "Speaker Validating Correct: 44/99 \n",
      "Speaker Validating Accuracy: 44.44444%\n",
      "\n",
      "Current Fold: 0 | Epoch: 50\n"
     ]
    },
    {
     "name": "stdout",
     "output_type": "stream",
     "text": [
      "Emotion Training Correct: 199/288 \n",
      "Emotion Training Accuracy: 69.09722%\n",
      "Speaker Training Correct: 0/288 \n",
      "Speaker Training Accuracy: 0.00000%\n"
     ]
    },
    {
     "name": "stdout",
     "output_type": "stream",
     "text": [
      "\n",
      "Emotion Validating Correct: 41/99 \n",
      "Emotion Validating Accuracy: 41.41414%\n",
      "Speaker Validating Correct: 41/99 \n",
      "Speaker Validating Accuracy: 41.41414%\n",
      "\n",
      "Current Fold: 0 | Epoch: 51\n"
     ]
    },
    {
     "name": "stdout",
     "output_type": "stream",
     "text": [
      "Emotion Training Correct: 210/288 \n",
      "Emotion Training Accuracy: 72.91667%\n",
      "Speaker Training Correct: 0/288 \n",
      "Speaker Training Accuracy: 0.00000%\n"
     ]
    },
    {
     "name": "stdout",
     "output_type": "stream",
     "text": [
      "\n",
      "Emotion Validating Correct: 52/99 \n",
      "Emotion Validating Accuracy: 52.52525%\n",
      "Speaker Validating Correct: 40/99 \n",
      "Speaker Validating Accuracy: 40.40404%\n",
      "\n",
      "Current Fold: 0 | Epoch: 52\n"
     ]
    },
    {
     "name": "stdout",
     "output_type": "stream",
     "text": [
      "Emotion Training Correct: 211/288 \n",
      "Emotion Training Accuracy: 73.26389%\n",
      "Speaker Training Correct: 0/288 \n",
      "Speaker Training Accuracy: 0.00000%\n"
     ]
    },
    {
     "name": "stdout",
     "output_type": "stream",
     "text": [
      "\n",
      "Emotion Validating Correct: 47/99 \n",
      "Emotion Validating Accuracy: 47.47475%\n",
      "Speaker Validating Correct: 43/99 \n",
      "Speaker Validating Accuracy: 43.43434%\n",
      "\n",
      "Current Fold: 0 | Epoch: 53\n"
     ]
    },
    {
     "name": "stdout",
     "output_type": "stream",
     "text": [
      "Emotion Training Correct: 198/288 \n",
      "Emotion Training Accuracy: 68.75000%\n",
      "Speaker Training Correct: 0/288 \n",
      "Speaker Training Accuracy: 0.00000%\n"
     ]
    },
    {
     "name": "stdout",
     "output_type": "stream",
     "text": [
      "\n",
      "Emotion Validating Correct: 46/99 \n",
      "Emotion Validating Accuracy: 46.46465%\n",
      "Speaker Validating Correct: 44/99 \n",
      "Speaker Validating Accuracy: 44.44444%\n",
      "\n",
      "Current Fold: 0 | Epoch: 54\n"
     ]
    },
    {
     "name": "stdout",
     "output_type": "stream",
     "text": [
      "Emotion Training Correct: 220/288 \n",
      "Emotion Training Accuracy: 76.38889%\n",
      "Speaker Training Correct: 0/288 \n",
      "Speaker Training Accuracy: 0.00000%\n"
     ]
    },
    {
     "name": "stdout",
     "output_type": "stream",
     "text": [
      "\n",
      "Emotion Validating Correct: 58/99 \n",
      "Emotion Validating Accuracy: 58.58586%\n",
      "Speaker Validating Correct: 44/99 \n",
      "Speaker Validating Accuracy: 44.44444%\n",
      "Models' parameters and optimisers' parameters saved.\n",
      "\n",
      "Current Fold: 0 | Epoch: 55\n"
     ]
    },
    {
     "name": "stdout",
     "output_type": "stream",
     "text": [
      "Emotion Training Correct: 217/288 \n",
      "Emotion Training Accuracy: 75.34722%\n",
      "Speaker Training Correct: 0/288 \n",
      "Speaker Training Accuracy: 0.00000%\n"
     ]
    },
    {
     "name": "stdout",
     "output_type": "stream",
     "text": [
      "\n",
      "Emotion Validating Correct: 57/99 \n",
      "Emotion Validating Accuracy: 57.57576%\n",
      "Speaker Validating Correct: 45/99 \n",
      "Speaker Validating Accuracy: 45.45455%\n",
      "\n",
      "Current Fold: 0 | Epoch: 56\n"
     ]
    },
    {
     "name": "stdout",
     "output_type": "stream",
     "text": [
      "Emotion Training Correct: 212/288 \n",
      "Emotion Training Accuracy: 73.61111%\n",
      "Speaker Training Correct: 0/288 \n",
      "Speaker Training Accuracy: 0.00000%\n"
     ]
    },
    {
     "name": "stdout",
     "output_type": "stream",
     "text": [
      "\n",
      "Emotion Validating Correct: 57/99 \n",
      "Emotion Validating Accuracy: 57.57576%\n",
      "Speaker Validating Correct: 42/99 \n",
      "Speaker Validating Accuracy: 42.42424%\n",
      "\n",
      "Current Fold: 0 | Epoch: 57\n"
     ]
    },
    {
     "name": "stdout",
     "output_type": "stream",
     "text": [
      "Emotion Training Correct: 207/288 \n",
      "Emotion Training Accuracy: 71.87500%\n",
      "Speaker Training Correct: 0/288 \n",
      "Speaker Training Accuracy: 0.00000%\n"
     ]
    },
    {
     "name": "stdout",
     "output_type": "stream",
     "text": [
      "\n",
      "Emotion Validating Correct: 51/99 \n",
      "Emotion Validating Accuracy: 51.51515%\n",
      "Speaker Validating Correct: 47/99 \n",
      "Speaker Validating Accuracy: 47.47475%\n",
      "\n",
      "Current Fold: 0 | Epoch: 58\n"
     ]
    },
    {
     "name": "stdout",
     "output_type": "stream",
     "text": [
      "Emotion Training Correct: 203/288 \n",
      "Emotion Training Accuracy: 70.48611%\n",
      "Speaker Training Correct: 0/288 \n",
      "Speaker Training Accuracy: 0.00000%\n"
     ]
    },
    {
     "name": "stdout",
     "output_type": "stream",
     "text": [
      "\n",
      "Emotion Validating Correct: 51/99 \n",
      "Emotion Validating Accuracy: 51.51515%\n",
      "Speaker Validating Correct: 39/99 \n",
      "Speaker Validating Accuracy: 39.39394%\n",
      "\n",
      "Current Fold: 0 | Epoch: 59\n"
     ]
    },
    {
     "name": "stdout",
     "output_type": "stream",
     "text": [
      "Emotion Training Correct: 211/288 \n",
      "Emotion Training Accuracy: 73.26389%\n",
      "Speaker Training Correct: 0/288 \n",
      "Speaker Training Accuracy: 0.00000%\n"
     ]
    },
    {
     "name": "stdout",
     "output_type": "stream",
     "text": [
      "\n",
      "Emotion Validating Correct: 54/99 \n",
      "Emotion Validating Accuracy: 54.54545%\n",
      "Speaker Validating Correct: 42/99 \n",
      "Speaker Validating Accuracy: 42.42424%\n",
      "\n",
      "Current Fold: 0 | Epoch: 60\n"
     ]
    },
    {
     "name": "stdout",
     "output_type": "stream",
     "text": [
      "Emotion Training Correct: 217/288 \n",
      "Emotion Training Accuracy: 75.34722%\n",
      "Speaker Training Correct: 0/288 \n",
      "Speaker Training Accuracy: 0.00000%\n"
     ]
    },
    {
     "name": "stdout",
     "output_type": "stream",
     "text": [
      "\n",
      "Emotion Validating Correct: 55/99 \n",
      "Emotion Validating Accuracy: 55.55556%\n",
      "Speaker Validating Correct: 45/99 \n",
      "Speaker Validating Accuracy: 45.45455%\n",
      "\n",
      "Current Fold: 0 | Epoch: 61\n"
     ]
    },
    {
     "name": "stdout",
     "output_type": "stream",
     "text": [
      "Emotion Training Correct: 214/288 \n",
      "Emotion Training Accuracy: 74.30556%\n",
      "Speaker Training Correct: 0/288 \n",
      "Speaker Training Accuracy: 0.00000%\n"
     ]
    },
    {
     "name": "stdout",
     "output_type": "stream",
     "text": [
      "\n",
      "Emotion Validating Correct: 58/99 \n",
      "Emotion Validating Accuracy: 58.58586%\n",
      "Speaker Validating Correct: 44/99 \n",
      "Speaker Validating Accuracy: 44.44444%\n",
      "Models' parameters and optimisers' parameters saved.\n",
      "\n",
      "Current Fold: 0 | Epoch: 62\n"
     ]
    },
    {
     "name": "stdout",
     "output_type": "stream",
     "text": [
      "Emotion Training Correct: 208/288 \n",
      "Emotion Training Accuracy: 72.22222%\n",
      "Speaker Training Correct: 0/288 \n",
      "Speaker Training Accuracy: 0.00000%\n"
     ]
    },
    {
     "name": "stdout",
     "output_type": "stream",
     "text": [
      "\n",
      "Emotion Validating Correct: 56/99 \n",
      "Emotion Validating Accuracy: 56.56566%\n",
      "Speaker Validating Correct: 45/99 \n",
      "Speaker Validating Accuracy: 45.45455%\n",
      "\n",
      "Current Fold: 0 | Epoch: 63\n"
     ]
    },
    {
     "name": "stdout",
     "output_type": "stream",
     "text": [
      "Emotion Training Correct: 212/288 \n",
      "Emotion Training Accuracy: 73.61111%\n",
      "Speaker Training Correct: 0/288 \n",
      "Speaker Training Accuracy: 0.00000%\n"
     ]
    },
    {
     "name": "stdout",
     "output_type": "stream",
     "text": [
      "\n",
      "Emotion Validating Correct: 56/99 \n",
      "Emotion Validating Accuracy: 56.56566%\n",
      "Speaker Validating Correct: 41/99 \n",
      "Speaker Validating Accuracy: 41.41414%\n",
      "\n",
      "Current Fold: 0 | Epoch: 64\n"
     ]
    },
    {
     "name": "stdout",
     "output_type": "stream",
     "text": [
      "Emotion Training Correct: 216/288 \n",
      "Emotion Training Accuracy: 75.00000%\n",
      "Speaker Training Correct: 0/288 \n",
      "Speaker Training Accuracy: 0.00000%\n"
     ]
    },
    {
     "name": "stdout",
     "output_type": "stream",
     "text": [
      "\n",
      "Emotion Validating Correct: 51/99 \n",
      "Emotion Validating Accuracy: 51.51515%\n",
      "Speaker Validating Correct: 42/99 \n",
      "Speaker Validating Accuracy: 42.42424%\n",
      "\n",
      "Current Fold: 0 | Epoch: 65\n"
     ]
    },
    {
     "name": "stdout",
     "output_type": "stream",
     "text": [
      "Emotion Training Correct: 220/288 \n",
      "Emotion Training Accuracy: 76.38889%\n",
      "Speaker Training Correct: 0/288 \n",
      "Speaker Training Accuracy: 0.00000%\n"
     ]
    },
    {
     "name": "stdout",
     "output_type": "stream",
     "text": [
      "\n",
      "Emotion Validating Correct: 56/99 \n",
      "Emotion Validating Accuracy: 56.56566%\n",
      "Speaker Validating Correct: 33/99 \n",
      "Speaker Validating Accuracy: 33.33333%\n",
      "\n",
      "Current Fold: 0 | Epoch: 66\n"
     ]
    },
    {
     "name": "stdout",
     "output_type": "stream",
     "text": [
      "Emotion Training Correct: 220/288 \n",
      "Emotion Training Accuracy: 76.38889%\n",
      "Speaker Training Correct: 0/288 \n",
      "Speaker Training Accuracy: 0.00000%\n"
     ]
    },
    {
     "name": "stdout",
     "output_type": "stream",
     "text": [
      "\n",
      "Emotion Validating Correct: 48/99 \n",
      "Emotion Validating Accuracy: 48.48485%\n",
      "Speaker Validating Correct: 42/99 \n",
      "Speaker Validating Accuracy: 42.42424%\n",
      "\n",
      "Current Fold: 0 | Epoch: 67\n"
     ]
    },
    {
     "name": "stdout",
     "output_type": "stream",
     "text": [
      "Emotion Training Correct: 216/288 \n",
      "Emotion Training Accuracy: 75.00000%\n",
      "Speaker Training Correct: 0/288 \n",
      "Speaker Training Accuracy: 0.00000%\n"
     ]
    },
    {
     "name": "stdout",
     "output_type": "stream",
     "text": [
      "\n",
      "Emotion Validating Correct: 50/99 \n",
      "Emotion Validating Accuracy: 50.50505%\n",
      "Speaker Validating Correct: 35/99 \n",
      "Speaker Validating Accuracy: 35.35354%\n",
      "\n",
      "Current Fold: 0 | Epoch: 68\n"
     ]
    },
    {
     "name": "stdout",
     "output_type": "stream",
     "text": [
      "Emotion Training Correct: 220/288 \n",
      "Emotion Training Accuracy: 76.38889%\n",
      "Speaker Training Correct: 0/288 \n",
      "Speaker Training Accuracy: 0.00000%\n"
     ]
    },
    {
     "name": "stdout",
     "output_type": "stream",
     "text": [
      "\n",
      "Emotion Validating Correct: 53/99 \n",
      "Emotion Validating Accuracy: 53.53535%\n",
      "Speaker Validating Correct: 36/99 \n",
      "Speaker Validating Accuracy: 36.36364%\n",
      "\n",
      "Current Fold: 0 | Epoch: 69\n"
     ]
    },
    {
     "name": "stdout",
     "output_type": "stream",
     "text": [
      "Emotion Training Correct: 220/288 \n",
      "Emotion Training Accuracy: 76.38889%\n",
      "Speaker Training Correct: 0/288 \n",
      "Speaker Training Accuracy: 0.00000%\n"
     ]
    },
    {
     "name": "stdout",
     "output_type": "stream",
     "text": [
      "\n",
      "Emotion Validating Correct: 52/99 \n",
      "Emotion Validating Accuracy: 52.52525%\n",
      "Speaker Validating Correct: 41/99 \n",
      "Speaker Validating Accuracy: 41.41414%\n",
      "\n",
      "Current Fold: 0 | Epoch: 70\n"
     ]
    },
    {
     "name": "stdout",
     "output_type": "stream",
     "text": [
      "Emotion Training Correct: 197/288 \n",
      "Emotion Training Accuracy: 68.40278%\n",
      "Speaker Training Correct: 0/288 \n",
      "Speaker Training Accuracy: 0.00000%\n"
     ]
    },
    {
     "name": "stdout",
     "output_type": "stream",
     "text": [
      "\n",
      "Emotion Validating Correct: 43/99 \n",
      "Emotion Validating Accuracy: 43.43434%\n",
      "Speaker Validating Correct: 46/99 \n",
      "Speaker Validating Accuracy: 46.46465%\n",
      "\n",
      "Current Fold: 0 | Epoch: 71\n"
     ]
    },
    {
     "name": "stdout",
     "output_type": "stream",
     "text": [
      "Emotion Training Correct: 217/288 \n",
      "Emotion Training Accuracy: 75.34722%\n",
      "Speaker Training Correct: 0/288 \n",
      "Speaker Training Accuracy: 0.00000%\n"
     ]
    },
    {
     "name": "stdout",
     "output_type": "stream",
     "text": [
      "\n",
      "Emotion Validating Correct: 50/99 \n",
      "Emotion Validating Accuracy: 50.50505%\n",
      "Speaker Validating Correct: 41/99 \n",
      "Speaker Validating Accuracy: 41.41414%\n",
      "\n",
      "Current Fold: 0 | Epoch: 72\n"
     ]
    },
    {
     "name": "stdout",
     "output_type": "stream",
     "text": [
      "Emotion Training Correct: 230/288 \n",
      "Emotion Training Accuracy: 79.86111%\n",
      "Speaker Training Correct: 0/288 \n",
      "Speaker Training Accuracy: 0.00000%\n"
     ]
    },
    {
     "name": "stdout",
     "output_type": "stream",
     "text": [
      "\n",
      "Emotion Validating Correct: 55/99 \n",
      "Emotion Validating Accuracy: 55.55556%\n",
      "Speaker Validating Correct: 36/99 \n",
      "Speaker Validating Accuracy: 36.36364%\n",
      "\n",
      "Current Fold: 0 | Epoch: 73\n"
     ]
    },
    {
     "name": "stdout",
     "output_type": "stream",
     "text": [
      "Emotion Training Correct: 196/288 \n",
      "Emotion Training Accuracy: 68.05556%\n",
      "Speaker Training Correct: 0/288 \n",
      "Speaker Training Accuracy: 0.00000%\n"
     ]
    },
    {
     "name": "stdout",
     "output_type": "stream",
     "text": [
      "\n",
      "Emotion Validating Correct: 43/99 \n",
      "Emotion Validating Accuracy: 43.43434%\n",
      "Speaker Validating Correct: 46/99 \n",
      "Speaker Validating Accuracy: 46.46465%\n",
      "\n",
      "Current Fold: 0 | Epoch: 74\n"
     ]
    },
    {
     "name": "stdout",
     "output_type": "stream",
     "text": [
      "Emotion Training Correct: 222/288 \n",
      "Emotion Training Accuracy: 77.08333%\n",
      "Speaker Training Correct: 0/288 \n",
      "Speaker Training Accuracy: 0.00000%\n"
     ]
    },
    {
     "name": "stdout",
     "output_type": "stream",
     "text": [
      "\n",
      "Emotion Validating Correct: 54/99 \n",
      "Emotion Validating Accuracy: 54.54545%\n",
      "Speaker Validating Correct: 48/99 \n",
      "Speaker Validating Accuracy: 48.48485%\n",
      "\n",
      "Current Fold: 0 | Epoch: 75\n"
     ]
    },
    {
     "name": "stdout",
     "output_type": "stream",
     "text": [
      "Emotion Training Correct: 192/288 \n",
      "Emotion Training Accuracy: 66.66667%\n",
      "Speaker Training Correct: 0/288 \n",
      "Speaker Training Accuracy: 0.00000%\n"
     ]
    },
    {
     "name": "stdout",
     "output_type": "stream",
     "text": [
      "\n",
      "Emotion Validating Correct: 57/99 \n",
      "Emotion Validating Accuracy: 57.57576%\n",
      "Speaker Validating Correct: 45/99 \n",
      "Speaker Validating Accuracy: 45.45455%\n",
      "\n",
      "Current Fold: 0 | Epoch: 76\n"
     ]
    },
    {
     "name": "stdout",
     "output_type": "stream",
     "text": [
      "Emotion Training Correct: 218/288 \n",
      "Emotion Training Accuracy: 75.69444%\n",
      "Speaker Training Correct: 0/288 \n",
      "Speaker Training Accuracy: 0.00000%\n"
     ]
    },
    {
     "name": "stdout",
     "output_type": "stream",
     "text": [
      "\n",
      "Emotion Validating Correct: 62/99 \n",
      "Emotion Validating Accuracy: 62.62626%\n",
      "Speaker Validating Correct: 45/99 \n",
      "Speaker Validating Accuracy: 45.45455%\n",
      "Models' parameters and optimisers' parameters saved.\n",
      "\n",
      "Current Fold: 0 | Epoch: 77\n"
     ]
    },
    {
     "name": "stdout",
     "output_type": "stream",
     "text": [
      "Emotion Training Correct: 208/288 \n",
      "Emotion Training Accuracy: 72.22222%\n",
      "Speaker Training Correct: 0/288 \n",
      "Speaker Training Accuracy: 0.00000%\n"
     ]
    },
    {
     "name": "stdout",
     "output_type": "stream",
     "text": [
      "\n",
      "Emotion Validating Correct: 51/99 \n",
      "Emotion Validating Accuracy: 51.51515%\n",
      "Speaker Validating Correct: 46/99 \n",
      "Speaker Validating Accuracy: 46.46465%\n",
      "\n",
      "Current Fold: 0 | Epoch: 78\n"
     ]
    },
    {
     "name": "stdout",
     "output_type": "stream",
     "text": [
      "Emotion Training Correct: 214/288 \n",
      "Emotion Training Accuracy: 74.30556%\n",
      "Speaker Training Correct: 0/288 \n",
      "Speaker Training Accuracy: 0.00000%\n"
     ]
    },
    {
     "name": "stdout",
     "output_type": "stream",
     "text": [
      "\n",
      "Emotion Validating Correct: 48/99 \n",
      "Emotion Validating Accuracy: 48.48485%\n",
      "Speaker Validating Correct: 41/99 \n",
      "Speaker Validating Accuracy: 41.41414%\n",
      "\n",
      "Current Fold: 0 | Epoch: 79\n"
     ]
    },
    {
     "name": "stdout",
     "output_type": "stream",
     "text": [
      "Emotion Training Correct: 218/288 \n",
      "Emotion Training Accuracy: 75.69444%\n",
      "Speaker Training Correct: 0/288 \n",
      "Speaker Training Accuracy: 0.00000%\n"
     ]
    },
    {
     "name": "stdout",
     "output_type": "stream",
     "text": [
      "\n",
      "Emotion Validating Correct: 51/99 \n",
      "Emotion Validating Accuracy: 51.51515%\n",
      "Speaker Validating Correct: 40/99 \n",
      "Speaker Validating Accuracy: 40.40404%\n",
      "\n",
      "Current Fold: 0 | Epoch: 80\n"
     ]
    },
    {
     "name": "stdout",
     "output_type": "stream",
     "text": [
      "Emotion Training Correct: 219/288 \n",
      "Emotion Training Accuracy: 76.04167%\n",
      "Speaker Training Correct: 0/288 \n",
      "Speaker Training Accuracy: 0.00000%\n"
     ]
    },
    {
     "name": "stdout",
     "output_type": "stream",
     "text": [
      "\n",
      "Emotion Validating Correct: 53/99 \n",
      "Emotion Validating Accuracy: 53.53535%\n",
      "Speaker Validating Correct: 38/99 \n",
      "Speaker Validating Accuracy: 38.38384%\n",
      "\n",
      "Current Fold: 0 | Epoch: 81\n"
     ]
    },
    {
     "name": "stdout",
     "output_type": "stream",
     "text": [
      "Emotion Training Correct: 214/288 \n",
      "Emotion Training Accuracy: 74.30556%\n",
      "Speaker Training Correct: 0/288 \n",
      "Speaker Training Accuracy: 0.00000%\n"
     ]
    },
    {
     "name": "stdout",
     "output_type": "stream",
     "text": [
      "\n",
      "Emotion Validating Correct: 51/99 \n",
      "Emotion Validating Accuracy: 51.51515%\n",
      "Speaker Validating Correct: 41/99 \n",
      "Speaker Validating Accuracy: 41.41414%\n",
      "\n",
      "Current Fold: 0 | Epoch: 82\n"
     ]
    },
    {
     "name": "stdout",
     "output_type": "stream",
     "text": [
      "Emotion Training Correct: 195/288 \n",
      "Emotion Training Accuracy: 67.70833%\n",
      "Speaker Training Correct: 0/288 \n",
      "Speaker Training Accuracy: 0.00000%\n"
     ]
    },
    {
     "name": "stdout",
     "output_type": "stream",
     "text": [
      "\n",
      "Emotion Validating Correct: 54/99 \n",
      "Emotion Validating Accuracy: 54.54545%\n",
      "Speaker Validating Correct: 46/99 \n",
      "Speaker Validating Accuracy: 46.46465%\n",
      "\n",
      "Current Fold: 0 | Epoch: 83\n"
     ]
    },
    {
     "name": "stdout",
     "output_type": "stream",
     "text": [
      "Emotion Training Correct: 207/288 \n",
      "Emotion Training Accuracy: 71.87500%\n",
      "Speaker Training Correct: 0/288 \n",
      "Speaker Training Accuracy: 0.00000%\n"
     ]
    },
    {
     "name": "stdout",
     "output_type": "stream",
     "text": [
      "\n",
      "Emotion Validating Correct: 54/99 \n",
      "Emotion Validating Accuracy: 54.54545%\n",
      "Speaker Validating Correct: 45/99 \n",
      "Speaker Validating Accuracy: 45.45455%\n",
      "\n",
      "Current Fold: 0 | Epoch: 84\n"
     ]
    },
    {
     "name": "stdout",
     "output_type": "stream",
     "text": [
      "Emotion Training Correct: 221/288 \n",
      "Emotion Training Accuracy: 76.73611%\n",
      "Speaker Training Correct: 0/288 \n",
      "Speaker Training Accuracy: 0.00000%\n"
     ]
    },
    {
     "name": "stdout",
     "output_type": "stream",
     "text": [
      "\n",
      "Emotion Validating Correct: 56/99 \n",
      "Emotion Validating Accuracy: 56.56566%\n",
      "Speaker Validating Correct: 43/99 \n",
      "Speaker Validating Accuracy: 43.43434%\n",
      "\n",
      "Current Fold: 0 | Epoch: 85\n"
     ]
    },
    {
     "name": "stdout",
     "output_type": "stream",
     "text": [
      "Emotion Training Correct: 166/288 \n",
      "Emotion Training Accuracy: 57.63889%\n",
      "Speaker Training Correct: 0/288 \n",
      "Speaker Training Accuracy: 0.00000%\n"
     ]
    },
    {
     "name": "stdout",
     "output_type": "stream",
     "text": [
      "\n",
      "Emotion Validating Correct: 45/99 \n",
      "Emotion Validating Accuracy: 45.45455%\n",
      "Speaker Validating Correct: 42/99 \n",
      "Speaker Validating Accuracy: 42.42424%\n",
      "\n",
      "Current Fold: 0 | Epoch: 86\n"
     ]
    },
    {
     "name": "stdout",
     "output_type": "stream",
     "text": [
      "Emotion Training Correct: 216/288 \n",
      "Emotion Training Accuracy: 75.00000%\n",
      "Speaker Training Correct: 0/288 \n",
      "Speaker Training Accuracy: 0.00000%\n"
     ]
    },
    {
     "name": "stdout",
     "output_type": "stream",
     "text": [
      "\n",
      "Emotion Validating Correct: 55/99 \n",
      "Emotion Validating Accuracy: 55.55556%\n",
      "Speaker Validating Correct: 42/99 \n",
      "Speaker Validating Accuracy: 42.42424%\n",
      "\n",
      "Current Fold: 0 | Epoch: 87\n"
     ]
    },
    {
     "name": "stdout",
     "output_type": "stream",
     "text": [
      "Emotion Training Correct: 208/288 \n",
      "Emotion Training Accuracy: 72.22222%\n",
      "Speaker Training Correct: 0/288 \n",
      "Speaker Training Accuracy: 0.00000%\n"
     ]
    },
    {
     "name": "stdout",
     "output_type": "stream",
     "text": [
      "\n",
      "Emotion Validating Correct: 48/99 \n",
      "Emotion Validating Accuracy: 48.48485%\n",
      "Speaker Validating Correct: 34/99 \n",
      "Speaker Validating Accuracy: 34.34343%\n",
      "\n",
      "Current Fold: 0 | Epoch: 88\n"
     ]
    },
    {
     "name": "stdout",
     "output_type": "stream",
     "text": [
      "Emotion Training Correct: 209/288 \n",
      "Emotion Training Accuracy: 72.56944%\n",
      "Speaker Training Correct: 0/288 \n",
      "Speaker Training Accuracy: 0.00000%\n"
     ]
    },
    {
     "name": "stdout",
     "output_type": "stream",
     "text": [
      "\n",
      "Emotion Validating Correct: 50/99 \n",
      "Emotion Validating Accuracy: 50.50505%\n",
      "Speaker Validating Correct: 46/99 \n",
      "Speaker Validating Accuracy: 46.46465%\n",
      "\n",
      "Current Fold: 0 | Epoch: 89\n"
     ]
    },
    {
     "name": "stdout",
     "output_type": "stream",
     "text": [
      "Emotion Training Correct: 176/288 \n",
      "Emotion Training Accuracy: 61.11111%\n",
      "Speaker Training Correct: 0/288 \n",
      "Speaker Training Accuracy: 0.00000%\n"
     ]
    },
    {
     "name": "stdout",
     "output_type": "stream",
     "text": [
      "\n",
      "Emotion Validating Correct: 45/99 \n",
      "Emotion Validating Accuracy: 45.45455%\n",
      "Speaker Validating Correct: 43/99 \n",
      "Speaker Validating Accuracy: 43.43434%\n",
      "\n",
      "Current Fold: 0 | Epoch: 90\n"
     ]
    },
    {
     "name": "stdout",
     "output_type": "stream",
     "text": [
      "Emotion Training Correct: 190/288 \n",
      "Emotion Training Accuracy: 65.97222%\n",
      "Speaker Training Correct: 0/288 \n",
      "Speaker Training Accuracy: 0.00000%\n"
     ]
    },
    {
     "name": "stdout",
     "output_type": "stream",
     "text": [
      "\n",
      "Emotion Validating Correct: 46/99 \n",
      "Emotion Validating Accuracy: 46.46465%\n",
      "Speaker Validating Correct: 45/99 \n",
      "Speaker Validating Accuracy: 45.45455%\n",
      "\n",
      "Current Fold: 0 | Epoch: 91\n"
     ]
    },
    {
     "name": "stdout",
     "output_type": "stream",
     "text": [
      "Emotion Training Correct: 169/288 \n",
      "Emotion Training Accuracy: 58.68056%\n",
      "Speaker Training Correct: 0/288 \n",
      "Speaker Training Accuracy: 0.00000%\n"
     ]
    },
    {
     "name": "stdout",
     "output_type": "stream",
     "text": [
      "\n",
      "Emotion Validating Correct: 36/99 \n",
      "Emotion Validating Accuracy: 36.36364%\n",
      "Speaker Validating Correct: 38/99 \n",
      "Speaker Validating Accuracy: 38.38384%\n",
      "\n",
      "Current Fold: 0 | Epoch: 92\n"
     ]
    },
    {
     "name": "stdout",
     "output_type": "stream",
     "text": [
      "Emotion Training Correct: 220/288 \n",
      "Emotion Training Accuracy: 76.38889%\n",
      "Speaker Training Correct: 0/288 \n",
      "Speaker Training Accuracy: 0.00000%\n"
     ]
    },
    {
     "name": "stdout",
     "output_type": "stream",
     "text": [
      "\n",
      "Emotion Validating Correct: 56/99 \n",
      "Emotion Validating Accuracy: 56.56566%\n",
      "Speaker Validating Correct: 43/99 \n",
      "Speaker Validating Accuracy: 43.43434%\n",
      "\n",
      "Current Fold: 0 | Epoch: 93\n"
     ]
    },
    {
     "name": "stdout",
     "output_type": "stream",
     "text": [
      "Emotion Training Correct: 208/288 \n",
      "Emotion Training Accuracy: 72.22222%\n",
      "Speaker Training Correct: 0/288 \n",
      "Speaker Training Accuracy: 0.00000%\n"
     ]
    },
    {
     "name": "stdout",
     "output_type": "stream",
     "text": [
      "\n",
      "Emotion Validating Correct: 51/99 \n",
      "Emotion Validating Accuracy: 51.51515%\n",
      "Speaker Validating Correct: 49/99 \n",
      "Speaker Validating Accuracy: 49.49495%\n",
      "\n",
      "Current Fold: 0 | Epoch: 94\n"
     ]
    },
    {
     "name": "stdout",
     "output_type": "stream",
     "text": [
      "Emotion Training Correct: 201/288 \n",
      "Emotion Training Accuracy: 69.79167%\n",
      "Speaker Training Correct: 0/288 \n",
      "Speaker Training Accuracy: 0.00000%\n"
     ]
    },
    {
     "name": "stdout",
     "output_type": "stream",
     "text": [
      "\n",
      "Emotion Validating Correct: 53/99 \n",
      "Emotion Validating Accuracy: 53.53535%\n",
      "Speaker Validating Correct: 46/99 \n",
      "Speaker Validating Accuracy: 46.46465%\n",
      "\n",
      "Current Fold: 0 | Epoch: 95\n"
     ]
    },
    {
     "name": "stdout",
     "output_type": "stream",
     "text": [
      "Emotion Training Correct: 211/288 \n",
      "Emotion Training Accuracy: 73.26389%\n",
      "Speaker Training Correct: 0/288 \n",
      "Speaker Training Accuracy: 0.00000%\n"
     ]
    },
    {
     "name": "stdout",
     "output_type": "stream",
     "text": [
      "\n",
      "Emotion Validating Correct: 54/99 \n",
      "Emotion Validating Accuracy: 54.54545%\n",
      "Speaker Validating Correct: 39/99 \n",
      "Speaker Validating Accuracy: 39.39394%\n",
      "\n",
      "Current Fold: 0 | Epoch: 96\n"
     ]
    },
    {
     "name": "stdout",
     "output_type": "stream",
     "text": [
      "Emotion Training Correct: 182/288 \n",
      "Emotion Training Accuracy: 63.19444%\n",
      "Speaker Training Correct: 0/288 \n",
      "Speaker Training Accuracy: 0.00000%\n"
     ]
    },
    {
     "name": "stdout",
     "output_type": "stream",
     "text": [
      "\n",
      "Emotion Validating Correct: 48/99 \n",
      "Emotion Validating Accuracy: 48.48485%\n",
      "Speaker Validating Correct: 45/99 \n",
      "Speaker Validating Accuracy: 45.45455%\n",
      "\n",
      "Current Fold: 0 | Epoch: 97\n"
     ]
    },
    {
     "name": "stdout",
     "output_type": "stream",
     "text": [
      "Emotion Training Correct: 209/288 \n",
      "Emotion Training Accuracy: 72.56944%\n",
      "Speaker Training Correct: 0/288 \n",
      "Speaker Training Accuracy: 0.00000%\n"
     ]
    },
    {
     "name": "stdout",
     "output_type": "stream",
     "text": [
      "\n",
      "Emotion Validating Correct: 40/99 \n",
      "Emotion Validating Accuracy: 40.40404%\n",
      "Speaker Validating Correct: 40/99 \n",
      "Speaker Validating Accuracy: 40.40404%\n",
      "\n",
      "Current Fold: 0 | Epoch: 98\n"
     ]
    },
    {
     "name": "stdout",
     "output_type": "stream",
     "text": [
      "Emotion Training Correct: 198/288 \n",
      "Emotion Training Accuracy: 68.75000%\n",
      "Speaker Training Correct: 0/288 \n",
      "Speaker Training Accuracy: 0.00000%\n"
     ]
    },
    {
     "name": "stdout",
     "output_type": "stream",
     "text": [
      "\n",
      "Emotion Validating Correct: 48/99 \n",
      "Emotion Validating Accuracy: 48.48485%\n",
      "Speaker Validating Correct: 41/99 \n",
      "Speaker Validating Accuracy: 41.41414%\n",
      "\n",
      "Current Fold: 0 | Epoch: 99\n"
     ]
    },
    {
     "name": "stdout",
     "output_type": "stream",
     "text": [
      "Emotion Training Correct: 216/288 \n",
      "Emotion Training Accuracy: 75.00000%\n",
      "Speaker Training Correct: 0/288 \n",
      "Speaker Training Accuracy: 0.00000%\n"
     ]
    },
    {
     "name": "stdout",
     "output_type": "stream",
     "text": [
      "\n",
      "Emotion Validating Correct: 49/99 \n",
      "Emotion Validating Accuracy: 49.49495%\n",
      "Speaker Validating Correct: 42/99 \n",
      "Speaker Validating Accuracy: 42.42424%\n"
     ]
    },
    {
     "name": "stdout",
     "output_type": "stream",
     "text": [
      "\n",
      "Current Fold: 1 | Epoch: 0\n"
     ]
    },
    {
     "name": "stdout",
     "output_type": "stream",
     "text": [
      "Emotion Training Correct: 67/288 \n",
      "Emotion Training Accuracy: 23.26389%\n",
      "Speaker Training Correct: 0/288 \n",
      "Speaker Training Accuracy: 0.00000%\n"
     ]
    },
    {
     "name": "stdout",
     "output_type": "stream",
     "text": [
      "\n",
      "Emotion Validating Correct: 29/126 \n",
      "Emotion Validating Accuracy: 23.01587%\n",
      "Speaker Validating Correct: 0/126 \n",
      "Speaker Validating Accuracy: 0.00000%\n",
      "\n",
      "Current Fold: 1 | Epoch: 1\n"
     ]
    },
    {
     "name": "stdout",
     "output_type": "stream",
     "text": [
      "Emotion Training Correct: 78/288 \n",
      "Emotion Training Accuracy: 27.08333%\n",
      "Speaker Training Correct: 2/288 \n",
      "Speaker Training Accuracy: 0.69444%\n"
     ]
    },
    {
     "name": "stdout",
     "output_type": "stream",
     "text": [
      "\n",
      "Emotion Validating Correct: 31/126 \n",
      "Emotion Validating Accuracy: 24.60317%\n",
      "Speaker Validating Correct: 0/126 \n",
      "Speaker Validating Accuracy: 0.00000%\n",
      "Models' parameters and optimisers' parameters saved.\n",
      "\n",
      "Current Fold: 1 | Epoch: 2\n"
     ]
    },
    {
     "name": "stdout",
     "output_type": "stream",
     "text": [
      "Emotion Training Correct: 89/288 \n",
      "Emotion Training Accuracy: 30.90278%\n",
      "Speaker Training Correct: 3/288 \n",
      "Speaker Training Accuracy: 1.04167%\n"
     ]
    },
    {
     "name": "stdout",
     "output_type": "stream",
     "text": [
      "\n",
      "Emotion Validating Correct: 34/126 \n",
      "Emotion Validating Accuracy: 26.98413%\n",
      "Speaker Validating Correct: 38/126 \n",
      "Speaker Validating Accuracy: 30.15873%\n",
      "Models' parameters and optimisers' parameters saved.\n",
      "\n",
      "Current Fold: 1 | Epoch: 3\n"
     ]
    },
    {
     "name": "stdout",
     "output_type": "stream",
     "text": [
      "Emotion Training Correct: 78/288 \n",
      "Emotion Training Accuracy: 27.08333%\n",
      "Speaker Training Correct: 0/288 \n",
      "Speaker Training Accuracy: 0.00000%\n"
     ]
    },
    {
     "name": "stdout",
     "output_type": "stream",
     "text": [
      "\n",
      "Emotion Validating Correct: 31/126 \n",
      "Emotion Validating Accuracy: 24.60317%\n",
      "Speaker Validating Correct: 34/126 \n",
      "Speaker Validating Accuracy: 26.98413%\n",
      "\n",
      "Current Fold: 1 | Epoch: 4\n"
     ]
    },
    {
     "name": "stdout",
     "output_type": "stream",
     "text": [
      "Emotion Training Correct: 85/288 \n",
      "Emotion Training Accuracy: 29.51389%\n",
      "Speaker Training Correct: 0/288 \n",
      "Speaker Training Accuracy: 0.00000%\n"
     ]
    },
    {
     "name": "stdout",
     "output_type": "stream",
     "text": [
      "\n",
      "Emotion Validating Correct: 31/126 \n",
      "Emotion Validating Accuracy: 24.60317%\n",
      "Speaker Validating Correct: 14/126 \n",
      "Speaker Validating Accuracy: 11.11111%\n",
      "\n",
      "Current Fold: 1 | Epoch: 5\n"
     ]
    },
    {
     "name": "stdout",
     "output_type": "stream",
     "text": [
      "Emotion Training Correct: 97/288 \n",
      "Emotion Training Accuracy: 33.68056%\n",
      "Speaker Training Correct: 0/288 \n",
      "Speaker Training Accuracy: 0.00000%\n"
     ]
    },
    {
     "name": "stdout",
     "output_type": "stream",
     "text": [
      "\n",
      "Emotion Validating Correct: 36/126 \n",
      "Emotion Validating Accuracy: 28.57143%\n",
      "Speaker Validating Correct: 42/126 \n",
      "Speaker Validating Accuracy: 33.33333%\n",
      "Models' parameters and optimisers' parameters saved.\n",
      "\n",
      "Current Fold: 1 | Epoch: 6\n"
     ]
    },
    {
     "name": "stdout",
     "output_type": "stream",
     "text": [
      "Emotion Training Correct: 94/288 \n",
      "Emotion Training Accuracy: 32.63889%\n",
      "Speaker Training Correct: 0/288 \n",
      "Speaker Training Accuracy: 0.00000%\n"
     ]
    },
    {
     "name": "stdout",
     "output_type": "stream",
     "text": [
      "\n",
      "Emotion Validating Correct: 33/126 \n",
      "Emotion Validating Accuracy: 26.19048%\n",
      "Speaker Validating Correct: 30/126 \n",
      "Speaker Validating Accuracy: 23.80952%\n",
      "\n",
      "Current Fold: 1 | Epoch: 7\n"
     ]
    },
    {
     "name": "stdout",
     "output_type": "stream",
     "text": [
      "Emotion Training Correct: 96/288 \n",
      "Emotion Training Accuracy: 33.33333%\n",
      "Speaker Training Correct: 0/288 \n",
      "Speaker Training Accuracy: 0.00000%\n"
     ]
    },
    {
     "name": "stdout",
     "output_type": "stream",
     "text": [
      "\n",
      "Emotion Validating Correct: 34/126 \n",
      "Emotion Validating Accuracy: 26.98413%\n",
      "Speaker Validating Correct: 29/126 \n",
      "Speaker Validating Accuracy: 23.01587%\n",
      "\n",
      "Current Fold: 1 | Epoch: 8\n"
     ]
    },
    {
     "name": "stdout",
     "output_type": "stream",
     "text": [
      "Emotion Training Correct: 100/288 \n",
      "Emotion Training Accuracy: 34.72222%\n",
      "Speaker Training Correct: 0/288 \n",
      "Speaker Training Accuracy: 0.00000%\n"
     ]
    },
    {
     "name": "stdout",
     "output_type": "stream",
     "text": [
      "\n",
      "Emotion Validating Correct: 35/126 \n",
      "Emotion Validating Accuracy: 27.77778%\n",
      "Speaker Validating Correct: 26/126 \n",
      "Speaker Validating Accuracy: 20.63492%\n",
      "\n",
      "Current Fold: 1 | Epoch: 9\n"
     ]
    },
    {
     "name": "stdout",
     "output_type": "stream",
     "text": [
      "Emotion Training Correct: 118/288 \n",
      "Emotion Training Accuracy: 40.97222%\n",
      "Speaker Training Correct: 0/288 \n",
      "Speaker Training Accuracy: 0.00000%\n"
     ]
    },
    {
     "name": "stdout",
     "output_type": "stream",
     "text": [
      "\n",
      "Emotion Validating Correct: 40/126 \n",
      "Emotion Validating Accuracy: 31.74603%\n",
      "Speaker Validating Correct: 15/126 \n",
      "Speaker Validating Accuracy: 11.90476%\n",
      "Models' parameters and optimisers' parameters saved.\n",
      "\n",
      "Current Fold: 1 | Epoch: 10\n"
     ]
    },
    {
     "name": "stdout",
     "output_type": "stream",
     "text": [
      "Emotion Training Correct: 129/288 \n",
      "Emotion Training Accuracy: 44.79167%\n",
      "Speaker Training Correct: 0/288 \n",
      "Speaker Training Accuracy: 0.00000%\n"
     ]
    },
    {
     "name": "stdout",
     "output_type": "stream",
     "text": [
      "\n",
      "Emotion Validating Correct: 42/126 \n",
      "Emotion Validating Accuracy: 33.33333%\n",
      "Speaker Validating Correct: 19/126 \n",
      "Speaker Validating Accuracy: 15.07937%\n",
      "Models' parameters and optimisers' parameters saved.\n",
      "\n",
      "Current Fold: 1 | Epoch: 11\n"
     ]
    },
    {
     "name": "stdout",
     "output_type": "stream",
     "text": [
      "Emotion Training Correct: 130/288 \n",
      "Emotion Training Accuracy: 45.13889%\n",
      "Speaker Training Correct: 0/288 \n",
      "Speaker Training Accuracy: 0.00000%\n"
     ]
    },
    {
     "name": "stdout",
     "output_type": "stream",
     "text": [
      "\n",
      "Emotion Validating Correct: 41/126 \n",
      "Emotion Validating Accuracy: 32.53968%\n",
      "Speaker Validating Correct: 17/126 \n",
      "Speaker Validating Accuracy: 13.49206%\n",
      "\n",
      "Current Fold: 1 | Epoch: 12\n"
     ]
    },
    {
     "name": "stdout",
     "output_type": "stream",
     "text": [
      "Emotion Training Correct: 140/288 \n",
      "Emotion Training Accuracy: 48.61111%\n",
      "Speaker Training Correct: 0/288 \n",
      "Speaker Training Accuracy: 0.00000%\n"
     ]
    },
    {
     "name": "stdout",
     "output_type": "stream",
     "text": [
      "\n",
      "Emotion Validating Correct: 44/126 \n",
      "Emotion Validating Accuracy: 34.92063%\n",
      "Speaker Validating Correct: 16/126 \n",
      "Speaker Validating Accuracy: 12.69841%\n",
      "Models' parameters and optimisers' parameters saved.\n",
      "\n",
      "Current Fold: 1 | Epoch: 13\n"
     ]
    },
    {
     "name": "stdout",
     "output_type": "stream",
     "text": [
      "Emotion Training Correct: 142/288 \n",
      "Emotion Training Accuracy: 49.30556%\n",
      "Speaker Training Correct: 0/288 \n",
      "Speaker Training Accuracy: 0.00000%\n"
     ]
    },
    {
     "name": "stdout",
     "output_type": "stream",
     "text": [
      "\n",
      "Emotion Validating Correct: 45/126 \n",
      "Emotion Validating Accuracy: 35.71429%\n",
      "Speaker Validating Correct: 19/126 \n",
      "Speaker Validating Accuracy: 15.07937%\n",
      "Models' parameters and optimisers' parameters saved.\n",
      "\n",
      "Current Fold: 1 | Epoch: 14\n"
     ]
    },
    {
     "name": "stdout",
     "output_type": "stream",
     "text": [
      "Emotion Training Correct: 139/288 \n",
      "Emotion Training Accuracy: 48.26389%\n",
      "Speaker Training Correct: 0/288 \n",
      "Speaker Training Accuracy: 0.00000%\n"
     ]
    },
    {
     "name": "stdout",
     "output_type": "stream",
     "text": [
      "\n",
      "Emotion Validating Correct: 43/126 \n",
      "Emotion Validating Accuracy: 34.12698%\n",
      "Speaker Validating Correct: 18/126 \n",
      "Speaker Validating Accuracy: 14.28571%\n",
      "\n",
      "Current Fold: 1 | Epoch: 15\n"
     ]
    },
    {
     "name": "stdout",
     "output_type": "stream",
     "text": [
      "Emotion Training Correct: 144/288 \n",
      "Emotion Training Accuracy: 50.00000%\n",
      "Speaker Training Correct: 0/288 \n",
      "Speaker Training Accuracy: 0.00000%\n"
     ]
    },
    {
     "name": "stdout",
     "output_type": "stream",
     "text": [
      "\n",
      "Emotion Validating Correct: 45/126 \n",
      "Emotion Validating Accuracy: 35.71429%\n",
      "Speaker Validating Correct: 20/126 \n",
      "Speaker Validating Accuracy: 15.87302%\n",
      "Models' parameters and optimisers' parameters saved.\n",
      "\n",
      "Current Fold: 1 | Epoch: 16\n"
     ]
    },
    {
     "name": "stdout",
     "output_type": "stream",
     "text": [
      "Emotion Training Correct: 148/288 \n",
      "Emotion Training Accuracy: 51.38889%\n",
      "Speaker Training Correct: 0/288 \n",
      "Speaker Training Accuracy: 0.00000%\n"
     ]
    },
    {
     "name": "stdout",
     "output_type": "stream",
     "text": [
      "\n",
      "Emotion Validating Correct: 47/126 \n",
      "Emotion Validating Accuracy: 37.30159%\n",
      "Speaker Validating Correct: 17/126 \n",
      "Speaker Validating Accuracy: 13.49206%\n",
      "Models' parameters and optimisers' parameters saved.\n",
      "\n",
      "Current Fold: 1 | Epoch: 17\n"
     ]
    },
    {
     "name": "stdout",
     "output_type": "stream",
     "text": [
      "Emotion Training Correct: 150/288 \n",
      "Emotion Training Accuracy: 52.08333%\n",
      "Speaker Training Correct: 0/288 \n",
      "Speaker Training Accuracy: 0.00000%\n"
     ]
    },
    {
     "name": "stdout",
     "output_type": "stream",
     "text": [
      "\n",
      "Emotion Validating Correct: 46/126 \n",
      "Emotion Validating Accuracy: 36.50794%\n",
      "Speaker Validating Correct: 17/126 \n",
      "Speaker Validating Accuracy: 13.49206%\n",
      "\n",
      "Current Fold: 1 | Epoch: 18\n"
     ]
    },
    {
     "name": "stdout",
     "output_type": "stream",
     "text": [
      "Emotion Training Correct: 150/288 \n",
      "Emotion Training Accuracy: 52.08333%\n",
      "Speaker Training Correct: 0/288 \n",
      "Speaker Training Accuracy: 0.00000%\n"
     ]
    },
    {
     "name": "stdout",
     "output_type": "stream",
     "text": [
      "\n",
      "Emotion Validating Correct: 46/126 \n",
      "Emotion Validating Accuracy: 36.50794%\n",
      "Speaker Validating Correct: 17/126 \n",
      "Speaker Validating Accuracy: 13.49206%\n",
      "\n",
      "Current Fold: 1 | Epoch: 19\n"
     ]
    },
    {
     "name": "stdout",
     "output_type": "stream",
     "text": [
      "Emotion Training Correct: 155/288 \n",
      "Emotion Training Accuracy: 53.81944%\n",
      "Speaker Training Correct: 0/288 \n",
      "Speaker Training Accuracy: 0.00000%\n"
     ]
    },
    {
     "name": "stdout",
     "output_type": "stream",
     "text": [
      "\n",
      "Emotion Validating Correct: 49/126 \n",
      "Emotion Validating Accuracy: 38.88889%\n",
      "Speaker Validating Correct: 25/126 \n",
      "Speaker Validating Accuracy: 19.84127%\n",
      "Models' parameters and optimisers' parameters saved.\n",
      "\n",
      "Current Fold: 1 | Epoch: 20\n"
     ]
    },
    {
     "name": "stdout",
     "output_type": "stream",
     "text": [
      "Emotion Training Correct: 148/288 \n",
      "Emotion Training Accuracy: 51.38889%\n",
      "Speaker Training Correct: 0/288 \n",
      "Speaker Training Accuracy: 0.00000%\n"
     ]
    },
    {
     "name": "stdout",
     "output_type": "stream",
     "text": [
      "\n",
      "Emotion Validating Correct: 51/126 \n",
      "Emotion Validating Accuracy: 40.47619%\n",
      "Speaker Validating Correct: 19/126 \n",
      "Speaker Validating Accuracy: 15.07937%\n",
      "Models' parameters and optimisers' parameters saved.\n",
      "\n",
      "Current Fold: 1 | Epoch: 21\n"
     ]
    },
    {
     "name": "stdout",
     "output_type": "stream",
     "text": [
      "Emotion Training Correct: 153/288 \n",
      "Emotion Training Accuracy: 53.12500%\n",
      "Speaker Training Correct: 0/288 \n",
      "Speaker Training Accuracy: 0.00000%\n"
     ]
    },
    {
     "name": "stdout",
     "output_type": "stream",
     "text": [
      "\n",
      "Emotion Validating Correct: 50/126 \n",
      "Emotion Validating Accuracy: 39.68254%\n",
      "Speaker Validating Correct: 19/126 \n",
      "Speaker Validating Accuracy: 15.07937%\n",
      "\n",
      "Current Fold: 1 | Epoch: 22\n"
     ]
    },
    {
     "name": "stdout",
     "output_type": "stream",
     "text": [
      "Emotion Training Correct: 159/288 \n",
      "Emotion Training Accuracy: 55.20833%\n",
      "Speaker Training Correct: 0/288 \n",
      "Speaker Training Accuracy: 0.00000%\n"
     ]
    },
    {
     "name": "stdout",
     "output_type": "stream",
     "text": [
      "\n",
      "Emotion Validating Correct: 48/126 \n",
      "Emotion Validating Accuracy: 38.09524%\n",
      "Speaker Validating Correct: 19/126 \n",
      "Speaker Validating Accuracy: 15.07937%\n",
      "\n",
      "Current Fold: 1 | Epoch: 23\n"
     ]
    },
    {
     "name": "stdout",
     "output_type": "stream",
     "text": [
      "Emotion Training Correct: 153/288 \n",
      "Emotion Training Accuracy: 53.12500%\n",
      "Speaker Training Correct: 0/288 \n",
      "Speaker Training Accuracy: 0.00000%\n"
     ]
    },
    {
     "name": "stdout",
     "output_type": "stream",
     "text": [
      "\n",
      "Emotion Validating Correct: 49/126 \n",
      "Emotion Validating Accuracy: 38.88889%\n",
      "Speaker Validating Correct: 19/126 \n",
      "Speaker Validating Accuracy: 15.07937%\n",
      "\n",
      "Current Fold: 1 | Epoch: 24\n"
     ]
    },
    {
     "name": "stdout",
     "output_type": "stream",
     "text": [
      "Emotion Training Correct: 150/288 \n",
      "Emotion Training Accuracy: 52.08333%\n",
      "Speaker Training Correct: 0/288 \n",
      "Speaker Training Accuracy: 0.00000%\n"
     ]
    },
    {
     "name": "stdout",
     "output_type": "stream",
     "text": [
      "\n",
      "Emotion Validating Correct: 50/126 \n",
      "Emotion Validating Accuracy: 39.68254%\n",
      "Speaker Validating Correct: 18/126 \n",
      "Speaker Validating Accuracy: 14.28571%\n",
      "\n",
      "Current Fold: 1 | Epoch: 25\n"
     ]
    },
    {
     "name": "stdout",
     "output_type": "stream",
     "text": [
      "Emotion Training Correct: 158/288 \n",
      "Emotion Training Accuracy: 54.86111%\n",
      "Speaker Training Correct: 0/288 \n",
      "Speaker Training Accuracy: 0.00000%\n"
     ]
    },
    {
     "name": "stdout",
     "output_type": "stream",
     "text": [
      "\n",
      "Emotion Validating Correct: 49/126 \n",
      "Emotion Validating Accuracy: 38.88889%\n",
      "Speaker Validating Correct: 19/126 \n",
      "Speaker Validating Accuracy: 15.07937%\n",
      "\n",
      "Current Fold: 1 | Epoch: 26\n"
     ]
    },
    {
     "name": "stdout",
     "output_type": "stream",
     "text": [
      "Emotion Training Correct: 163/288 \n",
      "Emotion Training Accuracy: 56.59722%\n",
      "Speaker Training Correct: 0/288 \n",
      "Speaker Training Accuracy: 0.00000%\n"
     ]
    },
    {
     "name": "stdout",
     "output_type": "stream",
     "text": [
      "\n",
      "Emotion Validating Correct: 50/126 \n",
      "Emotion Validating Accuracy: 39.68254%\n",
      "Speaker Validating Correct: 19/126 \n",
      "Speaker Validating Accuracy: 15.07937%\n",
      "\n",
      "Current Fold: 1 | Epoch: 27\n"
     ]
    },
    {
     "name": "stdout",
     "output_type": "stream",
     "text": [
      "Emotion Training Correct: 156/288 \n",
      "Emotion Training Accuracy: 54.16667%\n",
      "Speaker Training Correct: 0/288 \n",
      "Speaker Training Accuracy: 0.00000%\n"
     ]
    },
    {
     "name": "stdout",
     "output_type": "stream",
     "text": [
      "\n",
      "Emotion Validating Correct: 49/126 \n",
      "Emotion Validating Accuracy: 38.88889%\n",
      "Speaker Validating Correct: 19/126 \n",
      "Speaker Validating Accuracy: 15.07937%\n",
      "\n",
      "Current Fold: 1 | Epoch: 28\n"
     ]
    },
    {
     "name": "stdout",
     "output_type": "stream",
     "text": [
      "Emotion Training Correct: 163/288 \n",
      "Emotion Training Accuracy: 56.59722%\n",
      "Speaker Training Correct: 0/288 \n",
      "Speaker Training Accuracy: 0.00000%\n"
     ]
    },
    {
     "name": "stdout",
     "output_type": "stream",
     "text": [
      "\n",
      "Emotion Validating Correct: 49/126 \n",
      "Emotion Validating Accuracy: 38.88889%\n",
      "Speaker Validating Correct: 19/126 \n",
      "Speaker Validating Accuracy: 15.07937%\n",
      "\n",
      "Current Fold: 1 | Epoch: 29\n"
     ]
    },
    {
     "name": "stdout",
     "output_type": "stream",
     "text": [
      "Emotion Training Correct: 167/288 \n",
      "Emotion Training Accuracy: 57.98611%\n",
      "Speaker Training Correct: 0/288 \n",
      "Speaker Training Accuracy: 0.00000%\n"
     ]
    },
    {
     "name": "stdout",
     "output_type": "stream",
     "text": [
      "\n",
      "Emotion Validating Correct: 47/126 \n",
      "Emotion Validating Accuracy: 37.30159%\n",
      "Speaker Validating Correct: 17/126 \n",
      "Speaker Validating Accuracy: 13.49206%\n",
      "\n",
      "Current Fold: 1 | Epoch: 30\n"
     ]
    },
    {
     "name": "stdout",
     "output_type": "stream",
     "text": [
      "Emotion Training Correct: 152/288 \n",
      "Emotion Training Accuracy: 52.77778%\n",
      "Speaker Training Correct: 0/288 \n",
      "Speaker Training Accuracy: 0.00000%\n"
     ]
    },
    {
     "name": "stdout",
     "output_type": "stream",
     "text": [
      "\n",
      "Emotion Validating Correct: 50/126 \n",
      "Emotion Validating Accuracy: 39.68254%\n",
      "Speaker Validating Correct: 18/126 \n",
      "Speaker Validating Accuracy: 14.28571%\n",
      "\n",
      "Current Fold: 1 | Epoch: 31\n"
     ]
    },
    {
     "name": "stdout",
     "output_type": "stream",
     "text": [
      "Emotion Training Correct: 160/288 \n",
      "Emotion Training Accuracy: 55.55556%\n",
      "Speaker Training Correct: 0/288 \n",
      "Speaker Training Accuracy: 0.00000%\n"
     ]
    },
    {
     "name": "stdout",
     "output_type": "stream",
     "text": [
      "\n",
      "Emotion Validating Correct: 45/126 \n",
      "Emotion Validating Accuracy: 35.71429%\n",
      "Speaker Validating Correct: 18/126 \n",
      "Speaker Validating Accuracy: 14.28571%\n",
      "\n",
      "Current Fold: 1 | Epoch: 32\n"
     ]
    },
    {
     "name": "stdout",
     "output_type": "stream",
     "text": [
      "Emotion Training Correct: 153/288 \n",
      "Emotion Training Accuracy: 53.12500%\n",
      "Speaker Training Correct: 0/288 \n",
      "Speaker Training Accuracy: 0.00000%\n"
     ]
    },
    {
     "name": "stdout",
     "output_type": "stream",
     "text": [
      "\n",
      "Emotion Validating Correct: 49/126 \n",
      "Emotion Validating Accuracy: 38.88889%\n",
      "Speaker Validating Correct: 18/126 \n",
      "Speaker Validating Accuracy: 14.28571%\n",
      "\n",
      "Current Fold: 1 | Epoch: 33\n"
     ]
    },
    {
     "name": "stdout",
     "output_type": "stream",
     "text": [
      "Emotion Training Correct: 157/288 \n",
      "Emotion Training Accuracy: 54.51389%\n",
      "Speaker Training Correct: 0/288 \n",
      "Speaker Training Accuracy: 0.00000%\n"
     ]
    },
    {
     "name": "stdout",
     "output_type": "stream",
     "text": [
      "\n",
      "Emotion Validating Correct: 45/126 \n",
      "Emotion Validating Accuracy: 35.71429%\n",
      "Speaker Validating Correct: 18/126 \n",
      "Speaker Validating Accuracy: 14.28571%\n",
      "\n",
      "Current Fold: 1 | Epoch: 34\n"
     ]
    },
    {
     "name": "stdout",
     "output_type": "stream",
     "text": [
      "Emotion Training Correct: 171/288 \n",
      "Emotion Training Accuracy: 59.37500%\n",
      "Speaker Training Correct: 0/288 \n",
      "Speaker Training Accuracy: 0.00000%\n"
     ]
    },
    {
     "name": "stdout",
     "output_type": "stream",
     "text": [
      "\n",
      "Emotion Validating Correct: 46/126 \n",
      "Emotion Validating Accuracy: 36.50794%\n",
      "Speaker Validating Correct: 19/126 \n",
      "Speaker Validating Accuracy: 15.07937%\n",
      "\n",
      "Current Fold: 1 | Epoch: 35\n"
     ]
    },
    {
     "name": "stdout",
     "output_type": "stream",
     "text": [
      "Emotion Training Correct: 169/288 \n",
      "Emotion Training Accuracy: 58.68056%\n",
      "Speaker Training Correct: 0/288 \n",
      "Speaker Training Accuracy: 0.00000%\n"
     ]
    },
    {
     "name": "stdout",
     "output_type": "stream",
     "text": [
      "\n",
      "Emotion Validating Correct: 51/126 \n",
      "Emotion Validating Accuracy: 40.47619%\n",
      "Speaker Validating Correct: 17/126 \n",
      "Speaker Validating Accuracy: 13.49206%\n",
      "Models' parameters and optimisers' parameters saved.\n",
      "\n",
      "Current Fold: 1 | Epoch: 36\n"
     ]
    },
    {
     "name": "stdout",
     "output_type": "stream",
     "text": [
      "Emotion Training Correct: 178/288 \n",
      "Emotion Training Accuracy: 61.80556%\n",
      "Speaker Training Correct: 0/288 \n",
      "Speaker Training Accuracy: 0.00000%\n"
     ]
    },
    {
     "name": "stdout",
     "output_type": "stream",
     "text": [
      "\n",
      "Emotion Validating Correct: 49/126 \n",
      "Emotion Validating Accuracy: 38.88889%\n",
      "Speaker Validating Correct: 17/126 \n",
      "Speaker Validating Accuracy: 13.49206%\n",
      "\n",
      "Current Fold: 1 | Epoch: 37\n"
     ]
    },
    {
     "name": "stdout",
     "output_type": "stream",
     "text": [
      "Emotion Training Correct: 183/288 \n",
      "Emotion Training Accuracy: 63.54167%\n",
      "Speaker Training Correct: 0/288 \n",
      "Speaker Training Accuracy: 0.00000%\n"
     ]
    },
    {
     "name": "stdout",
     "output_type": "stream",
     "text": [
      "\n",
      "Emotion Validating Correct: 50/126 \n",
      "Emotion Validating Accuracy: 39.68254%\n",
      "Speaker Validating Correct: 19/126 \n",
      "Speaker Validating Accuracy: 15.07937%\n",
      "\n",
      "Current Fold: 1 | Epoch: 38\n"
     ]
    },
    {
     "name": "stdout",
     "output_type": "stream",
     "text": [
      "Emotion Training Correct: 171/288 \n",
      "Emotion Training Accuracy: 59.37500%\n",
      "Speaker Training Correct: 0/288 \n",
      "Speaker Training Accuracy: 0.00000%\n"
     ]
    },
    {
     "name": "stdout",
     "output_type": "stream",
     "text": [
      "\n",
      "Emotion Validating Correct: 51/126 \n",
      "Emotion Validating Accuracy: 40.47619%\n",
      "Speaker Validating Correct: 18/126 \n",
      "Speaker Validating Accuracy: 14.28571%\n",
      "Models' parameters and optimisers' parameters saved.\n",
      "\n",
      "Current Fold: 1 | Epoch: 39\n"
     ]
    },
    {
     "name": "stdout",
     "output_type": "stream",
     "text": [
      "Emotion Training Correct: 175/288 \n",
      "Emotion Training Accuracy: 60.76389%\n",
      "Speaker Training Correct: 0/288 \n",
      "Speaker Training Accuracy: 0.00000%\n"
     ]
    },
    {
     "name": "stdout",
     "output_type": "stream",
     "text": [
      "\n",
      "Emotion Validating Correct: 50/126 \n",
      "Emotion Validating Accuracy: 39.68254%\n",
      "Speaker Validating Correct: 17/126 \n",
      "Speaker Validating Accuracy: 13.49206%\n",
      "\n",
      "Current Fold: 1 | Epoch: 40\n"
     ]
    },
    {
     "name": "stdout",
     "output_type": "stream",
     "text": [
      "Emotion Training Correct: 178/288 \n",
      "Emotion Training Accuracy: 61.80556%\n",
      "Speaker Training Correct: 0/288 \n",
      "Speaker Training Accuracy: 0.00000%\n"
     ]
    },
    {
     "name": "stdout",
     "output_type": "stream",
     "text": [
      "\n",
      "Emotion Validating Correct: 53/126 \n",
      "Emotion Validating Accuracy: 42.06349%\n",
      "Speaker Validating Correct: 17/126 \n",
      "Speaker Validating Accuracy: 13.49206%\n",
      "Models' parameters and optimisers' parameters saved.\n",
      "\n",
      "Current Fold: 1 | Epoch: 41\n"
     ]
    },
    {
     "name": "stdout",
     "output_type": "stream",
     "text": [
      "Emotion Training Correct: 179/288 \n",
      "Emotion Training Accuracy: 62.15278%\n",
      "Speaker Training Correct: 0/288 \n",
      "Speaker Training Accuracy: 0.00000%\n"
     ]
    },
    {
     "name": "stdout",
     "output_type": "stream",
     "text": [
      "\n",
      "Emotion Validating Correct: 46/126 \n",
      "Emotion Validating Accuracy: 36.50794%\n",
      "Speaker Validating Correct: 17/126 \n",
      "Speaker Validating Accuracy: 13.49206%\n",
      "\n",
      "Current Fold: 1 | Epoch: 42\n"
     ]
    },
    {
     "name": "stdout",
     "output_type": "stream",
     "text": [
      "Emotion Training Correct: 178/288 \n",
      "Emotion Training Accuracy: 61.80556%\n",
      "Speaker Training Correct: 0/288 \n",
      "Speaker Training Accuracy: 0.00000%\n"
     ]
    },
    {
     "name": "stdout",
     "output_type": "stream",
     "text": [
      "\n",
      "Emotion Validating Correct: 47/126 \n",
      "Emotion Validating Accuracy: 37.30159%\n",
      "Speaker Validating Correct: 18/126 \n",
      "Speaker Validating Accuracy: 14.28571%\n",
      "\n",
      "Current Fold: 1 | Epoch: 43\n"
     ]
    },
    {
     "name": "stdout",
     "output_type": "stream",
     "text": [
      "Emotion Training Correct: 172/288 \n",
      "Emotion Training Accuracy: 59.72222%\n",
      "Speaker Training Correct: 0/288 \n",
      "Speaker Training Accuracy: 0.00000%\n"
     ]
    },
    {
     "name": "stdout",
     "output_type": "stream",
     "text": [
      "\n",
      "Emotion Validating Correct: 50/126 \n",
      "Emotion Validating Accuracy: 39.68254%\n",
      "Speaker Validating Correct: 18/126 \n",
      "Speaker Validating Accuracy: 14.28571%\n",
      "\n",
      "Current Fold: 1 | Epoch: 44\n"
     ]
    },
    {
     "name": "stdout",
     "output_type": "stream",
     "text": [
      "Emotion Training Correct: 177/288 \n",
      "Emotion Training Accuracy: 61.45833%\n",
      "Speaker Training Correct: 0/288 \n",
      "Speaker Training Accuracy: 0.00000%\n"
     ]
    },
    {
     "name": "stdout",
     "output_type": "stream",
     "text": [
      "\n",
      "Emotion Validating Correct: 48/126 \n",
      "Emotion Validating Accuracy: 38.09524%\n",
      "Speaker Validating Correct: 17/126 \n",
      "Speaker Validating Accuracy: 13.49206%\n",
      "\n",
      "Current Fold: 1 | Epoch: 45\n"
     ]
    },
    {
     "name": "stdout",
     "output_type": "stream",
     "text": [
      "Emotion Training Correct: 177/288 \n",
      "Emotion Training Accuracy: 61.45833%\n",
      "Speaker Training Correct: 0/288 \n",
      "Speaker Training Accuracy: 0.00000%\n"
     ]
    },
    {
     "name": "stdout",
     "output_type": "stream",
     "text": [
      "\n",
      "Emotion Validating Correct: 45/126 \n",
      "Emotion Validating Accuracy: 35.71429%\n",
      "Speaker Validating Correct: 16/126 \n",
      "Speaker Validating Accuracy: 12.69841%\n",
      "\n",
      "Current Fold: 1 | Epoch: 46\n"
     ]
    },
    {
     "name": "stdout",
     "output_type": "stream",
     "text": [
      "Emotion Training Correct: 174/288 \n",
      "Emotion Training Accuracy: 60.41667%\n",
      "Speaker Training Correct: 0/288 \n",
      "Speaker Training Accuracy: 0.00000%\n"
     ]
    },
    {
     "name": "stdout",
     "output_type": "stream",
     "text": [
      "\n",
      "Emotion Validating Correct: 52/126 \n",
      "Emotion Validating Accuracy: 41.26984%\n",
      "Speaker Validating Correct: 18/126 \n",
      "Speaker Validating Accuracy: 14.28571%\n",
      "\n",
      "Current Fold: 1 | Epoch: 47\n"
     ]
    },
    {
     "name": "stdout",
     "output_type": "stream",
     "text": [
      "Emotion Training Correct: 182/288 \n",
      "Emotion Training Accuracy: 63.19444%\n",
      "Speaker Training Correct: 0/288 \n",
      "Speaker Training Accuracy: 0.00000%\n"
     ]
    },
    {
     "name": "stdout",
     "output_type": "stream",
     "text": [
      "\n",
      "Emotion Validating Correct: 48/126 \n",
      "Emotion Validating Accuracy: 38.09524%\n",
      "Speaker Validating Correct: 19/126 \n",
      "Speaker Validating Accuracy: 15.07937%\n",
      "\n",
      "Current Fold: 1 | Epoch: 48\n"
     ]
    },
    {
     "name": "stdout",
     "output_type": "stream",
     "text": [
      "Emotion Training Correct: 183/288 \n",
      "Emotion Training Accuracy: 63.54167%\n",
      "Speaker Training Correct: 0/288 \n",
      "Speaker Training Accuracy: 0.00000%\n"
     ]
    },
    {
     "name": "stdout",
     "output_type": "stream",
     "text": [
      "\n",
      "Emotion Validating Correct: 55/126 \n",
      "Emotion Validating Accuracy: 43.65079%\n",
      "Speaker Validating Correct: 18/126 \n",
      "Speaker Validating Accuracy: 14.28571%\n",
      "Models' parameters and optimisers' parameters saved.\n",
      "\n",
      "Current Fold: 1 | Epoch: 49\n"
     ]
    },
    {
     "name": "stdout",
     "output_type": "stream",
     "text": [
      "Emotion Training Correct: 178/288 \n",
      "Emotion Training Accuracy: 61.80556%\n",
      "Speaker Training Correct: 0/288 \n",
      "Speaker Training Accuracy: 0.00000%\n"
     ]
    },
    {
     "name": "stdout",
     "output_type": "stream",
     "text": [
      "\n",
      "Emotion Validating Correct: 51/126 \n",
      "Emotion Validating Accuracy: 40.47619%\n",
      "Speaker Validating Correct: 19/126 \n",
      "Speaker Validating Accuracy: 15.07937%\n",
      "\n",
      "Current Fold: 1 | Epoch: 50\n"
     ]
    },
    {
     "name": "stdout",
     "output_type": "stream",
     "text": [
      "Emotion Training Correct: 186/288 \n",
      "Emotion Training Accuracy: 64.58333%\n",
      "Speaker Training Correct: 0/288 \n",
      "Speaker Training Accuracy: 0.00000%\n"
     ]
    },
    {
     "name": "stdout",
     "output_type": "stream",
     "text": [
      "\n",
      "Emotion Validating Correct: 49/126 \n",
      "Emotion Validating Accuracy: 38.88889%\n",
      "Speaker Validating Correct: 17/126 \n",
      "Speaker Validating Accuracy: 13.49206%\n",
      "\n",
      "Current Fold: 1 | Epoch: 51\n"
     ]
    },
    {
     "name": "stdout",
     "output_type": "stream",
     "text": [
      "Emotion Training Correct: 187/288 \n",
      "Emotion Training Accuracy: 64.93056%\n",
      "Speaker Training Correct: 0/288 \n",
      "Speaker Training Accuracy: 0.00000%\n"
     ]
    },
    {
     "name": "stdout",
     "output_type": "stream",
     "text": [
      "\n",
      "Emotion Validating Correct: 50/126 \n",
      "Emotion Validating Accuracy: 39.68254%\n",
      "Speaker Validating Correct: 20/126 \n",
      "Speaker Validating Accuracy: 15.87302%\n",
      "\n",
      "Current Fold: 1 | Epoch: 52\n"
     ]
    },
    {
     "name": "stdout",
     "output_type": "stream",
     "text": [
      "Emotion Training Correct: 198/288 \n",
      "Emotion Training Accuracy: 68.75000%\n",
      "Speaker Training Correct: 0/288 \n",
      "Speaker Training Accuracy: 0.00000%\n"
     ]
    },
    {
     "name": "stdout",
     "output_type": "stream",
     "text": [
      "\n",
      "Emotion Validating Correct: 50/126 \n",
      "Emotion Validating Accuracy: 39.68254%\n",
      "Speaker Validating Correct: 18/126 \n",
      "Speaker Validating Accuracy: 14.28571%\n",
      "\n",
      "Current Fold: 1 | Epoch: 53\n"
     ]
    },
    {
     "name": "stdout",
     "output_type": "stream",
     "text": [
      "Emotion Training Correct: 174/288 \n",
      "Emotion Training Accuracy: 60.41667%\n",
      "Speaker Training Correct: 0/288 \n",
      "Speaker Training Accuracy: 0.00000%\n"
     ]
    },
    {
     "name": "stdout",
     "output_type": "stream",
     "text": [
      "\n",
      "Emotion Validating Correct: 49/126 \n",
      "Emotion Validating Accuracy: 38.88889%\n",
      "Speaker Validating Correct: 15/126 \n",
      "Speaker Validating Accuracy: 11.90476%\n",
      "\n",
      "Current Fold: 1 | Epoch: 54\n"
     ]
    },
    {
     "name": "stdout",
     "output_type": "stream",
     "text": [
      "Emotion Training Correct: 195/288 \n",
      "Emotion Training Accuracy: 67.70833%\n",
      "Speaker Training Correct: 0/288 \n",
      "Speaker Training Accuracy: 0.00000%\n"
     ]
    },
    {
     "name": "stdout",
     "output_type": "stream",
     "text": [
      "\n",
      "Emotion Validating Correct: 49/126 \n",
      "Emotion Validating Accuracy: 38.88889%\n",
      "Speaker Validating Correct: 19/126 \n",
      "Speaker Validating Accuracy: 15.07937%\n",
      "\n",
      "Current Fold: 1 | Epoch: 55\n"
     ]
    },
    {
     "name": "stdout",
     "output_type": "stream",
     "text": [
      "Emotion Training Correct: 181/288 \n",
      "Emotion Training Accuracy: 62.84722%\n",
      "Speaker Training Correct: 0/288 \n",
      "Speaker Training Accuracy: 0.00000%\n"
     ]
    },
    {
     "name": "stdout",
     "output_type": "stream",
     "text": [
      "\n",
      "Emotion Validating Correct: 52/126 \n",
      "Emotion Validating Accuracy: 41.26984%\n",
      "Speaker Validating Correct: 23/126 \n",
      "Speaker Validating Accuracy: 18.25397%\n",
      "\n",
      "Current Fold: 1 | Epoch: 56\n"
     ]
    },
    {
     "name": "stdout",
     "output_type": "stream",
     "text": [
      "Emotion Training Correct: 194/288 \n",
      "Emotion Training Accuracy: 67.36111%\n",
      "Speaker Training Correct: 0/288 \n",
      "Speaker Training Accuracy: 0.00000%\n"
     ]
    },
    {
     "name": "stdout",
     "output_type": "stream",
     "text": [
      "\n",
      "Emotion Validating Correct: 53/126 \n",
      "Emotion Validating Accuracy: 42.06349%\n",
      "Speaker Validating Correct: 18/126 \n",
      "Speaker Validating Accuracy: 14.28571%\n",
      "\n",
      "Current Fold: 1 | Epoch: 57\n"
     ]
    },
    {
     "name": "stdout",
     "output_type": "stream",
     "text": [
      "Emotion Training Correct: 193/288 \n",
      "Emotion Training Accuracy: 67.01389%\n",
      "Speaker Training Correct: 0/288 \n",
      "Speaker Training Accuracy: 0.00000%\n"
     ]
    },
    {
     "name": "stdout",
     "output_type": "stream",
     "text": [
      "\n",
      "Emotion Validating Correct: 48/126 \n",
      "Emotion Validating Accuracy: 38.09524%\n",
      "Speaker Validating Correct: 22/126 \n",
      "Speaker Validating Accuracy: 17.46032%\n",
      "\n",
      "Current Fold: 1 | Epoch: 58\n"
     ]
    },
    {
     "name": "stdout",
     "output_type": "stream",
     "text": [
      "Emotion Training Correct: 200/288 \n",
      "Emotion Training Accuracy: 69.44444%\n",
      "Speaker Training Correct: 0/288 \n",
      "Speaker Training Accuracy: 0.00000%\n"
     ]
    },
    {
     "name": "stdout",
     "output_type": "stream",
     "text": [
      "\n",
      "Emotion Validating Correct: 51/126 \n",
      "Emotion Validating Accuracy: 40.47619%\n",
      "Speaker Validating Correct: 19/126 \n",
      "Speaker Validating Accuracy: 15.07937%\n",
      "\n",
      "Current Fold: 1 | Epoch: 59\n"
     ]
    },
    {
     "name": "stdout",
     "output_type": "stream",
     "text": [
      "Emotion Training Correct: 200/288 \n",
      "Emotion Training Accuracy: 69.44444%\n",
      "Speaker Training Correct: 0/288 \n",
      "Speaker Training Accuracy: 0.00000%\n"
     ]
    },
    {
     "name": "stdout",
     "output_type": "stream",
     "text": [
      "\n",
      "Emotion Validating Correct: 48/126 \n",
      "Emotion Validating Accuracy: 38.09524%\n",
      "Speaker Validating Correct: 15/126 \n",
      "Speaker Validating Accuracy: 11.90476%\n",
      "\n",
      "Current Fold: 1 | Epoch: 60\n"
     ]
    },
    {
     "name": "stdout",
     "output_type": "stream",
     "text": [
      "Emotion Training Correct: 205/288 \n",
      "Emotion Training Accuracy: 71.18056%\n",
      "Speaker Training Correct: 0/288 \n",
      "Speaker Training Accuracy: 0.00000%\n"
     ]
    },
    {
     "name": "stdout",
     "output_type": "stream",
     "text": [
      "\n",
      "Emotion Validating Correct: 47/126 \n",
      "Emotion Validating Accuracy: 37.30159%\n",
      "Speaker Validating Correct: 17/126 \n",
      "Speaker Validating Accuracy: 13.49206%\n",
      "\n",
      "Current Fold: 1 | Epoch: 61\n"
     ]
    },
    {
     "name": "stdout",
     "output_type": "stream",
     "text": [
      "Emotion Training Correct: 209/288 \n",
      "Emotion Training Accuracy: 72.56944%\n",
      "Speaker Training Correct: 0/288 \n",
      "Speaker Training Accuracy: 0.00000%\n"
     ]
    },
    {
     "name": "stdout",
     "output_type": "stream",
     "text": [
      "\n",
      "Emotion Validating Correct: 50/126 \n",
      "Emotion Validating Accuracy: 39.68254%\n",
      "Speaker Validating Correct: 16/126 \n",
      "Speaker Validating Accuracy: 12.69841%\n",
      "\n",
      "Current Fold: 1 | Epoch: 62\n"
     ]
    },
    {
     "name": "stdout",
     "output_type": "stream",
     "text": [
      "Emotion Training Correct: 212/288 \n",
      "Emotion Training Accuracy: 73.61111%\n",
      "Speaker Training Correct: 0/288 \n",
      "Speaker Training Accuracy: 0.00000%\n"
     ]
    },
    {
     "name": "stdout",
     "output_type": "stream",
     "text": [
      "\n",
      "Emotion Validating Correct: 51/126 \n",
      "Emotion Validating Accuracy: 40.47619%\n",
      "Speaker Validating Correct: 17/126 \n",
      "Speaker Validating Accuracy: 13.49206%\n",
      "\n",
      "Current Fold: 1 | Epoch: 63\n"
     ]
    },
    {
     "name": "stdout",
     "output_type": "stream",
     "text": [
      "Emotion Training Correct: 196/288 \n",
      "Emotion Training Accuracy: 68.05556%\n",
      "Speaker Training Correct: 0/288 \n",
      "Speaker Training Accuracy: 0.00000%\n"
     ]
    },
    {
     "name": "stdout",
     "output_type": "stream",
     "text": [
      "\n",
      "Emotion Validating Correct: 50/126 \n",
      "Emotion Validating Accuracy: 39.68254%\n",
      "Speaker Validating Correct: 18/126 \n",
      "Speaker Validating Accuracy: 14.28571%\n",
      "\n",
      "Current Fold: 1 | Epoch: 64\n"
     ]
    },
    {
     "name": "stdout",
     "output_type": "stream",
     "text": [
      "Emotion Training Correct: 206/288 \n",
      "Emotion Training Accuracy: 71.52778%\n",
      "Speaker Training Correct: 0/288 \n",
      "Speaker Training Accuracy: 0.00000%\n"
     ]
    },
    {
     "name": "stdout",
     "output_type": "stream",
     "text": [
      "\n",
      "Emotion Validating Correct: 52/126 \n",
      "Emotion Validating Accuracy: 41.26984%\n",
      "Speaker Validating Correct: 20/126 \n",
      "Speaker Validating Accuracy: 15.87302%\n",
      "\n",
      "Current Fold: 1 | Epoch: 65\n"
     ]
    },
    {
     "name": "stdout",
     "output_type": "stream",
     "text": [
      "Emotion Training Correct: 160/288 \n",
      "Emotion Training Accuracy: 55.55556%\n",
      "Speaker Training Correct: 0/288 \n",
      "Speaker Training Accuracy: 0.00000%\n"
     ]
    },
    {
     "name": "stdout",
     "output_type": "stream",
     "text": [
      "\n",
      "Emotion Validating Correct: 42/126 \n",
      "Emotion Validating Accuracy: 33.33333%\n",
      "Speaker Validating Correct: 35/126 \n",
      "Speaker Validating Accuracy: 27.77778%\n",
      "\n",
      "Current Fold: 1 | Epoch: 66\n"
     ]
    },
    {
     "name": "stdout",
     "output_type": "stream",
     "text": [
      "Emotion Training Correct: 212/288 \n",
      "Emotion Training Accuracy: 73.61111%\n",
      "Speaker Training Correct: 0/288 \n",
      "Speaker Training Accuracy: 0.00000%\n"
     ]
    },
    {
     "name": "stdout",
     "output_type": "stream",
     "text": [
      "\n",
      "Emotion Validating Correct: 48/126 \n",
      "Emotion Validating Accuracy: 38.09524%\n",
      "Speaker Validating Correct: 11/126 \n",
      "Speaker Validating Accuracy: 8.73016%\n",
      "\n",
      "Current Fold: 1 | Epoch: 67\n"
     ]
    },
    {
     "name": "stdout",
     "output_type": "stream",
     "text": [
      "Emotion Training Correct: 204/288 \n",
      "Emotion Training Accuracy: 70.83333%\n",
      "Speaker Training Correct: 0/288 \n",
      "Speaker Training Accuracy: 0.00000%\n"
     ]
    },
    {
     "name": "stdout",
     "output_type": "stream",
     "text": [
      "\n",
      "Emotion Validating Correct: 48/126 \n",
      "Emotion Validating Accuracy: 38.09524%\n",
      "Speaker Validating Correct: 15/126 \n",
      "Speaker Validating Accuracy: 11.90476%\n",
      "\n",
      "Current Fold: 1 | Epoch: 68\n"
     ]
    },
    {
     "name": "stdout",
     "output_type": "stream",
     "text": [
      "Emotion Training Correct: 209/288 \n",
      "Emotion Training Accuracy: 72.56944%\n",
      "Speaker Training Correct: 0/288 \n",
      "Speaker Training Accuracy: 0.00000%\n"
     ]
    },
    {
     "name": "stdout",
     "output_type": "stream",
     "text": [
      "\n",
      "Emotion Validating Correct: 51/126 \n",
      "Emotion Validating Accuracy: 40.47619%\n",
      "Speaker Validating Correct: 25/126 \n",
      "Speaker Validating Accuracy: 19.84127%\n",
      "\n",
      "Current Fold: 1 | Epoch: 69\n"
     ]
    },
    {
     "name": "stdout",
     "output_type": "stream",
     "text": [
      "Emotion Training Correct: 221/288 \n",
      "Emotion Training Accuracy: 76.73611%\n",
      "Speaker Training Correct: 0/288 \n",
      "Speaker Training Accuracy: 0.00000%\n"
     ]
    },
    {
     "name": "stdout",
     "output_type": "stream",
     "text": [
      "\n",
      "Emotion Validating Correct: 51/126 \n",
      "Emotion Validating Accuracy: 40.47619%\n",
      "Speaker Validating Correct: 29/126 \n",
      "Speaker Validating Accuracy: 23.01587%\n",
      "\n",
      "Current Fold: 1 | Epoch: 70\n"
     ]
    },
    {
     "name": "stdout",
     "output_type": "stream",
     "text": [
      "Emotion Training Correct: 216/288 \n",
      "Emotion Training Accuracy: 75.00000%\n",
      "Speaker Training Correct: 0/288 \n",
      "Speaker Training Accuracy: 0.00000%\n"
     ]
    },
    {
     "name": "stdout",
     "output_type": "stream",
     "text": [
      "\n",
      "Emotion Validating Correct: 55/126 \n",
      "Emotion Validating Accuracy: 43.65079%\n",
      "Speaker Validating Correct: 30/126 \n",
      "Speaker Validating Accuracy: 23.80952%\n",
      "Models' parameters and optimisers' parameters saved.\n",
      "\n",
      "Current Fold: 1 | Epoch: 71\n"
     ]
    },
    {
     "name": "stdout",
     "output_type": "stream",
     "text": [
      "Emotion Training Correct: 214/288 \n",
      "Emotion Training Accuracy: 74.30556%\n",
      "Speaker Training Correct: 0/288 \n",
      "Speaker Training Accuracy: 0.00000%\n"
     ]
    },
    {
     "name": "stdout",
     "output_type": "stream",
     "text": [
      "\n",
      "Emotion Validating Correct: 53/126 \n",
      "Emotion Validating Accuracy: 42.06349%\n",
      "Speaker Validating Correct: 19/126 \n",
      "Speaker Validating Accuracy: 15.07937%\n",
      "\n",
      "Current Fold: 1 | Epoch: 72\n"
     ]
    },
    {
     "name": "stdout",
     "output_type": "stream",
     "text": [
      "Emotion Training Correct: 180/288 \n",
      "Emotion Training Accuracy: 62.50000%\n",
      "Speaker Training Correct: 0/288 \n",
      "Speaker Training Accuracy: 0.00000%\n"
     ]
    },
    {
     "name": "stdout",
     "output_type": "stream",
     "text": [
      "\n",
      "Emotion Validating Correct: 52/126 \n",
      "Emotion Validating Accuracy: 41.26984%\n",
      "Speaker Validating Correct: 7/126 \n",
      "Speaker Validating Accuracy: 5.55556%\n",
      "\n",
      "Current Fold: 1 | Epoch: 73\n"
     ]
    },
    {
     "name": "stdout",
     "output_type": "stream",
     "text": [
      "Emotion Training Correct: 200/288 \n",
      "Emotion Training Accuracy: 69.44444%\n",
      "Speaker Training Correct: 0/288 \n",
      "Speaker Training Accuracy: 0.00000%\n"
     ]
    },
    {
     "name": "stdout",
     "output_type": "stream",
     "text": [
      "\n",
      "Emotion Validating Correct: 48/126 \n",
      "Emotion Validating Accuracy: 38.09524%\n",
      "Speaker Validating Correct: 5/126 \n",
      "Speaker Validating Accuracy: 3.96825%\n",
      "\n",
      "Current Fold: 1 | Epoch: 74\n"
     ]
    },
    {
     "name": "stdout",
     "output_type": "stream",
     "text": [
      "Emotion Training Correct: 173/288 \n",
      "Emotion Training Accuracy: 60.06944%\n",
      "Speaker Training Correct: 0/288 \n",
      "Speaker Training Accuracy: 0.00000%\n"
     ]
    },
    {
     "name": "stdout",
     "output_type": "stream",
     "text": [
      "\n",
      "Emotion Validating Correct: 50/126 \n",
      "Emotion Validating Accuracy: 39.68254%\n",
      "Speaker Validating Correct: 7/126 \n",
      "Speaker Validating Accuracy: 5.55556%\n",
      "\n",
      "Current Fold: 1 | Epoch: 75\n"
     ]
    },
    {
     "name": "stdout",
     "output_type": "stream",
     "text": [
      "Emotion Training Correct: 180/288 \n",
      "Emotion Training Accuracy: 62.50000%\n",
      "Speaker Training Correct: 0/288 \n",
      "Speaker Training Accuracy: 0.00000%\n"
     ]
    },
    {
     "name": "stdout",
     "output_type": "stream",
     "text": [
      "\n",
      "Emotion Validating Correct: 48/126 \n",
      "Emotion Validating Accuracy: 38.09524%\n",
      "Speaker Validating Correct: 5/126 \n",
      "Speaker Validating Accuracy: 3.96825%\n",
      "\n",
      "Current Fold: 1 | Epoch: 76\n"
     ]
    },
    {
     "name": "stdout",
     "output_type": "stream",
     "text": [
      "Emotion Training Correct: 208/288 \n",
      "Emotion Training Accuracy: 72.22222%\n",
      "Speaker Training Correct: 0/288 \n",
      "Speaker Training Accuracy: 0.00000%\n"
     ]
    },
    {
     "name": "stdout",
     "output_type": "stream",
     "text": [
      "\n",
      "Emotion Validating Correct: 51/126 \n",
      "Emotion Validating Accuracy: 40.47619%\n",
      "Speaker Validating Correct: 15/126 \n",
      "Speaker Validating Accuracy: 11.90476%\n",
      "\n",
      "Current Fold: 1 | Epoch: 77\n"
     ]
    },
    {
     "name": "stdout",
     "output_type": "stream",
     "text": [
      "Emotion Training Correct: 224/288 \n",
      "Emotion Training Accuracy: 77.77778%\n",
      "Speaker Training Correct: 0/288 \n",
      "Speaker Training Accuracy: 0.00000%\n"
     ]
    },
    {
     "name": "stdout",
     "output_type": "stream",
     "text": [
      "\n",
      "Emotion Validating Correct: 54/126 \n",
      "Emotion Validating Accuracy: 42.85714%\n",
      "Speaker Validating Correct: 10/126 \n",
      "Speaker Validating Accuracy: 7.93651%\n",
      "\n",
      "Current Fold: 1 | Epoch: 78\n"
     ]
    },
    {
     "name": "stdout",
     "output_type": "stream",
     "text": [
      "Emotion Training Correct: 200/288 \n",
      "Emotion Training Accuracy: 69.44444%\n",
      "Speaker Training Correct: 0/288 \n",
      "Speaker Training Accuracy: 0.00000%\n"
     ]
    },
    {
     "name": "stdout",
     "output_type": "stream",
     "text": [
      "\n",
      "Emotion Validating Correct: 53/126 \n",
      "Emotion Validating Accuracy: 42.06349%\n",
      "Speaker Validating Correct: 15/126 \n",
      "Speaker Validating Accuracy: 11.90476%\n",
      "\n",
      "Current Fold: 1 | Epoch: 79\n"
     ]
    },
    {
     "name": "stdout",
     "output_type": "stream",
     "text": [
      "Emotion Training Correct: 201/288 \n",
      "Emotion Training Accuracy: 69.79167%\n",
      "Speaker Training Correct: 0/288 \n",
      "Speaker Training Accuracy: 0.00000%\n"
     ]
    },
    {
     "name": "stdout",
     "output_type": "stream",
     "text": [
      "\n",
      "Emotion Validating Correct: 51/126 \n",
      "Emotion Validating Accuracy: 40.47619%\n",
      "Speaker Validating Correct: 22/126 \n",
      "Speaker Validating Accuracy: 17.46032%\n",
      "\n",
      "Current Fold: 1 | Epoch: 80\n"
     ]
    },
    {
     "name": "stdout",
     "output_type": "stream",
     "text": [
      "Emotion Training Correct: 230/288 \n",
      "Emotion Training Accuracy: 79.86111%\n",
      "Speaker Training Correct: 0/288 \n",
      "Speaker Training Accuracy: 0.00000%\n"
     ]
    },
    {
     "name": "stdout",
     "output_type": "stream",
     "text": [
      "\n",
      "Emotion Validating Correct: 53/126 \n",
      "Emotion Validating Accuracy: 42.06349%\n",
      "Speaker Validating Correct: 14/126 \n",
      "Speaker Validating Accuracy: 11.11111%\n",
      "\n",
      "Current Fold: 1 | Epoch: 81\n"
     ]
    },
    {
     "name": "stdout",
     "output_type": "stream",
     "text": [
      "Emotion Training Correct: 231/288 \n",
      "Emotion Training Accuracy: 80.20833%\n",
      "Speaker Training Correct: 0/288 \n",
      "Speaker Training Accuracy: 0.00000%\n"
     ]
    },
    {
     "name": "stdout",
     "output_type": "stream",
     "text": [
      "\n",
      "Emotion Validating Correct: 56/126 \n",
      "Emotion Validating Accuracy: 44.44444%\n",
      "Speaker Validating Correct: 18/126 \n",
      "Speaker Validating Accuracy: 14.28571%\n",
      "Models' parameters and optimisers' parameters saved.\n",
      "\n",
      "Current Fold: 1 | Epoch: 82\n"
     ]
    },
    {
     "name": "stdout",
     "output_type": "stream",
     "text": [
      "Emotion Training Correct: 221/288 \n",
      "Emotion Training Accuracy: 76.73611%\n",
      "Speaker Training Correct: 0/288 \n",
      "Speaker Training Accuracy: 0.00000%\n"
     ]
    },
    {
     "name": "stdout",
     "output_type": "stream",
     "text": [
      "\n",
      "Emotion Validating Correct: 50/126 \n",
      "Emotion Validating Accuracy: 39.68254%\n",
      "Speaker Validating Correct: 12/126 \n",
      "Speaker Validating Accuracy: 9.52381%\n",
      "\n",
      "Current Fold: 1 | Epoch: 83\n"
     ]
    },
    {
     "name": "stdout",
     "output_type": "stream",
     "text": [
      "Emotion Training Correct: 216/288 \n",
      "Emotion Training Accuracy: 75.00000%\n",
      "Speaker Training Correct: 0/288 \n",
      "Speaker Training Accuracy: 0.00000%\n"
     ]
    },
    {
     "name": "stdout",
     "output_type": "stream",
     "text": [
      "\n",
      "Emotion Validating Correct: 55/126 \n",
      "Emotion Validating Accuracy: 43.65079%\n",
      "Speaker Validating Correct: 8/126 \n",
      "Speaker Validating Accuracy: 6.34921%\n",
      "\n",
      "Current Fold: 1 | Epoch: 84\n"
     ]
    },
    {
     "name": "stdout",
     "output_type": "stream",
     "text": [
      "Emotion Training Correct: 230/288 \n",
      "Emotion Training Accuracy: 79.86111%\n",
      "Speaker Training Correct: 0/288 \n",
      "Speaker Training Accuracy: 0.00000%\n"
     ]
    },
    {
     "name": "stdout",
     "output_type": "stream",
     "text": [
      "\n",
      "Emotion Validating Correct: 53/126 \n",
      "Emotion Validating Accuracy: 42.06349%\n",
      "Speaker Validating Correct: 11/126 \n",
      "Speaker Validating Accuracy: 8.73016%\n",
      "\n",
      "Current Fold: 1 | Epoch: 85\n"
     ]
    },
    {
     "name": "stdout",
     "output_type": "stream",
     "text": [
      "Emotion Training Correct: 234/288 \n",
      "Emotion Training Accuracy: 81.25000%\n",
      "Speaker Training Correct: 0/288 \n",
      "Speaker Training Accuracy: 0.00000%\n"
     ]
    },
    {
     "name": "stdout",
     "output_type": "stream",
     "text": [
      "\n",
      "Emotion Validating Correct: 53/126 \n",
      "Emotion Validating Accuracy: 42.06349%\n",
      "Speaker Validating Correct: 12/126 \n",
      "Speaker Validating Accuracy: 9.52381%\n",
      "\n",
      "Current Fold: 1 | Epoch: 86\n"
     ]
    },
    {
     "name": "stdout",
     "output_type": "stream",
     "text": [
      "Emotion Training Correct: 222/288 \n",
      "Emotion Training Accuracy: 77.08333%\n",
      "Speaker Training Correct: 0/288 \n",
      "Speaker Training Accuracy: 0.00000%\n"
     ]
    },
    {
     "name": "stdout",
     "output_type": "stream",
     "text": [
      "\n",
      "Emotion Validating Correct: 55/126 \n",
      "Emotion Validating Accuracy: 43.65079%\n",
      "Speaker Validating Correct: 14/126 \n",
      "Speaker Validating Accuracy: 11.11111%\n",
      "\n",
      "Current Fold: 1 | Epoch: 87\n"
     ]
    },
    {
     "name": "stdout",
     "output_type": "stream",
     "text": [
      "Emotion Training Correct: 223/288 \n",
      "Emotion Training Accuracy: 77.43056%\n",
      "Speaker Training Correct: 0/288 \n",
      "Speaker Training Accuracy: 0.00000%\n"
     ]
    },
    {
     "name": "stdout",
     "output_type": "stream",
     "text": [
      "\n",
      "Emotion Validating Correct: 52/126 \n",
      "Emotion Validating Accuracy: 41.26984%\n",
      "Speaker Validating Correct: 25/126 \n",
      "Speaker Validating Accuracy: 19.84127%\n",
      "\n",
      "Current Fold: 1 | Epoch: 88\n"
     ]
    },
    {
     "name": "stdout",
     "output_type": "stream",
     "text": [
      "Emotion Training Correct: 214/288 \n",
      "Emotion Training Accuracy: 74.30556%\n",
      "Speaker Training Correct: 0/288 \n",
      "Speaker Training Accuracy: 0.00000%\n"
     ]
    },
    {
     "name": "stdout",
     "output_type": "stream",
     "text": [
      "\n",
      "Emotion Validating Correct: 48/126 \n",
      "Emotion Validating Accuracy: 38.09524%\n",
      "Speaker Validating Correct: 7/126 \n",
      "Speaker Validating Accuracy: 5.55556%\n",
      "\n",
      "Current Fold: 1 | Epoch: 89\n"
     ]
    },
    {
     "name": "stdout",
     "output_type": "stream",
     "text": [
      "Emotion Training Correct: 221/288 \n",
      "Emotion Training Accuracy: 76.73611%\n",
      "Speaker Training Correct: 0/288 \n",
      "Speaker Training Accuracy: 0.00000%\n"
     ]
    },
    {
     "name": "stdout",
     "output_type": "stream",
     "text": [
      "\n",
      "Emotion Validating Correct: 53/126 \n",
      "Emotion Validating Accuracy: 42.06349%\n",
      "Speaker Validating Correct: 9/126 \n",
      "Speaker Validating Accuracy: 7.14286%\n",
      "\n",
      "Current Fold: 1 | Epoch: 90\n"
     ]
    },
    {
     "name": "stdout",
     "output_type": "stream",
     "text": [
      "Emotion Training Correct: 221/288 \n",
      "Emotion Training Accuracy: 76.73611%\n",
      "Speaker Training Correct: 0/288 \n",
      "Speaker Training Accuracy: 0.00000%\n"
     ]
    },
    {
     "name": "stdout",
     "output_type": "stream",
     "text": [
      "\n",
      "Emotion Validating Correct: 49/126 \n",
      "Emotion Validating Accuracy: 38.88889%\n",
      "Speaker Validating Correct: 10/126 \n",
      "Speaker Validating Accuracy: 7.93651%\n",
      "\n",
      "Current Fold: 1 | Epoch: 91\n"
     ]
    },
    {
     "name": "stdout",
     "output_type": "stream",
     "text": [
      "Emotion Training Correct: 229/288 \n",
      "Emotion Training Accuracy: 79.51389%\n",
      "Speaker Training Correct: 0/288 \n",
      "Speaker Training Accuracy: 0.00000%\n"
     ]
    },
    {
     "name": "stdout",
     "output_type": "stream",
     "text": [
      "\n",
      "Emotion Validating Correct: 51/126 \n",
      "Emotion Validating Accuracy: 40.47619%\n",
      "Speaker Validating Correct: 11/126 \n",
      "Speaker Validating Accuracy: 8.73016%\n",
      "\n",
      "Current Fold: 1 | Epoch: 92\n"
     ]
    },
    {
     "name": "stdout",
     "output_type": "stream",
     "text": [
      "Emotion Training Correct: 220/288 \n",
      "Emotion Training Accuracy: 76.38889%\n",
      "Speaker Training Correct: 0/288 \n",
      "Speaker Training Accuracy: 0.00000%\n"
     ]
    },
    {
     "name": "stdout",
     "output_type": "stream",
     "text": [
      "\n",
      "Emotion Validating Correct: 49/126 \n",
      "Emotion Validating Accuracy: 38.88889%\n",
      "Speaker Validating Correct: 21/126 \n",
      "Speaker Validating Accuracy: 16.66667%\n",
      "\n",
      "Current Fold: 1 | Epoch: 93\n"
     ]
    },
    {
     "name": "stdout",
     "output_type": "stream",
     "text": [
      "Emotion Training Correct: 221/288 \n",
      "Emotion Training Accuracy: 76.73611%\n",
      "Speaker Training Correct: 0/288 \n",
      "Speaker Training Accuracy: 0.00000%\n"
     ]
    },
    {
     "name": "stdout",
     "output_type": "stream",
     "text": [
      "\n",
      "Emotion Validating Correct: 50/126 \n",
      "Emotion Validating Accuracy: 39.68254%\n",
      "Speaker Validating Correct: 13/126 \n",
      "Speaker Validating Accuracy: 10.31746%\n",
      "\n",
      "Current Fold: 1 | Epoch: 94\n"
     ]
    },
    {
     "name": "stdout",
     "output_type": "stream",
     "text": [
      "Emotion Training Correct: 210/288 \n",
      "Emotion Training Accuracy: 72.91667%\n",
      "Speaker Training Correct: 0/288 \n",
      "Speaker Training Accuracy: 0.00000%\n"
     ]
    },
    {
     "name": "stdout",
     "output_type": "stream",
     "text": [
      "\n",
      "Emotion Validating Correct: 52/126 \n",
      "Emotion Validating Accuracy: 41.26984%\n",
      "Speaker Validating Correct: 17/126 \n",
      "Speaker Validating Accuracy: 13.49206%\n",
      "\n",
      "Current Fold: 1 | Epoch: 95\n"
     ]
    },
    {
     "name": "stdout",
     "output_type": "stream",
     "text": [
      "Emotion Training Correct: 219/288 \n",
      "Emotion Training Accuracy: 76.04167%\n",
      "Speaker Training Correct: 0/288 \n",
      "Speaker Training Accuracy: 0.00000%\n"
     ]
    },
    {
     "name": "stdout",
     "output_type": "stream",
     "text": [
      "\n",
      "Emotion Validating Correct: 52/126 \n",
      "Emotion Validating Accuracy: 41.26984%\n",
      "Speaker Validating Correct: 7/126 \n",
      "Speaker Validating Accuracy: 5.55556%\n",
      "\n",
      "Current Fold: 1 | Epoch: 96\n"
     ]
    },
    {
     "name": "stdout",
     "output_type": "stream",
     "text": [
      "Emotion Training Correct: 218/288 \n",
      "Emotion Training Accuracy: 75.69444%\n",
      "Speaker Training Correct: 0/288 \n",
      "Speaker Training Accuracy: 0.00000%\n"
     ]
    },
    {
     "name": "stdout",
     "output_type": "stream",
     "text": [
      "\n",
      "Emotion Validating Correct: 52/126 \n",
      "Emotion Validating Accuracy: 41.26984%\n",
      "Speaker Validating Correct: 8/126 \n",
      "Speaker Validating Accuracy: 6.34921%\n",
      "\n",
      "Current Fold: 1 | Epoch: 97\n"
     ]
    },
    {
     "name": "stdout",
     "output_type": "stream",
     "text": [
      "Emotion Training Correct: 213/288 \n",
      "Emotion Training Accuracy: 73.95833%\n",
      "Speaker Training Correct: 0/288 \n",
      "Speaker Training Accuracy: 0.00000%\n"
     ]
    },
    {
     "name": "stdout",
     "output_type": "stream",
     "text": [
      "\n",
      "Emotion Validating Correct: 48/126 \n",
      "Emotion Validating Accuracy: 38.09524%\n",
      "Speaker Validating Correct: 16/126 \n",
      "Speaker Validating Accuracy: 12.69841%\n",
      "\n",
      "Current Fold: 1 | Epoch: 98\n"
     ]
    },
    {
     "name": "stdout",
     "output_type": "stream",
     "text": [
      "Emotion Training Correct: 219/288 \n",
      "Emotion Training Accuracy: 76.04167%\n",
      "Speaker Training Correct: 0/288 \n",
      "Speaker Training Accuracy: 0.00000%\n"
     ]
    },
    {
     "name": "stdout",
     "output_type": "stream",
     "text": [
      "\n",
      "Emotion Validating Correct: 50/126 \n",
      "Emotion Validating Accuracy: 39.68254%\n",
      "Speaker Validating Correct: 11/126 \n",
      "Speaker Validating Accuracy: 8.73016%\n",
      "\n",
      "Current Fold: 1 | Epoch: 99\n"
     ]
    },
    {
     "name": "stdout",
     "output_type": "stream",
     "text": [
      "Emotion Training Correct: 198/288 \n",
      "Emotion Training Accuracy: 68.75000%\n",
      "Speaker Training Correct: 0/288 \n",
      "Speaker Training Accuracy: 0.00000%\n"
     ]
    },
    {
     "name": "stdout",
     "output_type": "stream",
     "text": [
      "\n",
      "Emotion Validating Correct: 49/126 \n",
      "Emotion Validating Accuracy: 38.88889%\n",
      "Speaker Validating Correct: 11/126 \n",
      "Speaker Validating Accuracy: 8.73016%\n"
     ]
    },
    {
     "name": "stdout",
     "output_type": "stream",
     "text": [
      "\n",
      "Current Fold: 2 | Epoch: 0\n"
     ]
    },
    {
     "name": "stdout",
     "output_type": "stream",
     "text": [
      "Emotion Training Correct: 44/320 \n",
      "Emotion Training Accuracy: 13.75000%\n",
      "Speaker Training Correct: 52/320 \n",
      "Speaker Training Accuracy: 16.25000%\n"
     ]
    },
    {
     "name": "stdout",
     "output_type": "stream",
     "text": [
      "\n",
      "Emotion Validating Correct: 13/96 \n",
      "Emotion Validating Accuracy: 13.54167%\n",
      "Speaker Validating Correct: 2/96 \n",
      "Speaker Validating Accuracy: 2.08333%\n",
      "\n",
      "Current Fold: 2 | Epoch: 1\n"
     ]
    },
    {
     "name": "stdout",
     "output_type": "stream",
     "text": [
      "Emotion Training Correct: 76/320 \n",
      "Emotion Training Accuracy: 23.75000%\n",
      "Speaker Training Correct: 0/320 \n",
      "Speaker Training Accuracy: 0.00000%\n"
     ]
    },
    {
     "name": "stdout",
     "output_type": "stream",
     "text": [
      "\n",
      "Emotion Validating Correct: 24/96 \n",
      "Emotion Validating Accuracy: 25.00000%\n",
      "Speaker Validating Correct: 61/96 \n",
      "Speaker Validating Accuracy: 63.54167%\n",
      "Models' parameters and optimisers' parameters saved.\n",
      "\n",
      "Current Fold: 2 | Epoch: 2\n"
     ]
    },
    {
     "name": "stdout",
     "output_type": "stream",
     "text": [
      "Emotion Training Correct: 75/320 \n",
      "Emotion Training Accuracy: 23.43750%\n",
      "Speaker Training Correct: 0/320 \n",
      "Speaker Training Accuracy: 0.00000%\n"
     ]
    },
    {
     "name": "stdout",
     "output_type": "stream",
     "text": [
      "\n",
      "Emotion Validating Correct: 28/96 \n",
      "Emotion Validating Accuracy: 29.16667%\n",
      "Speaker Validating Correct: 51/96 \n",
      "Speaker Validating Accuracy: 53.12500%\n",
      "Models' parameters and optimisers' parameters saved.\n",
      "\n",
      "Current Fold: 2 | Epoch: 3\n"
     ]
    },
    {
     "name": "stdout",
     "output_type": "stream",
     "text": [
      "Emotion Training Correct: 79/320 \n",
      "Emotion Training Accuracy: 24.68750%\n",
      "Speaker Training Correct: 0/320 \n",
      "Speaker Training Accuracy: 0.00000%\n"
     ]
    },
    {
     "name": "stdout",
     "output_type": "stream",
     "text": [
      "\n",
      "Emotion Validating Correct: 23/96 \n",
      "Emotion Validating Accuracy: 23.95833%\n",
      "Speaker Validating Correct: 51/96 \n",
      "Speaker Validating Accuracy: 53.12500%\n",
      "\n",
      "Current Fold: 2 | Epoch: 4\n"
     ]
    },
    {
     "name": "stdout",
     "output_type": "stream",
     "text": [
      "Emotion Training Correct: 87/320 \n",
      "Emotion Training Accuracy: 27.18750%\n",
      "Speaker Training Correct: 0/320 \n",
      "Speaker Training Accuracy: 0.00000%\n"
     ]
    },
    {
     "name": "stdout",
     "output_type": "stream",
     "text": [
      "\n",
      "Emotion Validating Correct: 31/96 \n",
      "Emotion Validating Accuracy: 32.29167%\n",
      "Speaker Validating Correct: 33/96 \n",
      "Speaker Validating Accuracy: 34.37500%\n",
      "Models' parameters and optimisers' parameters saved.\n",
      "\n",
      "Current Fold: 2 | Epoch: 5\n"
     ]
    },
    {
     "name": "stdout",
     "output_type": "stream",
     "text": [
      "Emotion Training Correct: 103/320 \n",
      "Emotion Training Accuracy: 32.18750%\n",
      "Speaker Training Correct: 0/320 \n",
      "Speaker Training Accuracy: 0.00000%\n"
     ]
    },
    {
     "name": "stdout",
     "output_type": "stream",
     "text": [
      "\n",
      "Emotion Validating Correct: 36/96 \n",
      "Emotion Validating Accuracy: 37.50000%\n",
      "Speaker Validating Correct: 45/96 \n",
      "Speaker Validating Accuracy: 46.87500%\n",
      "Models' parameters and optimisers' parameters saved.\n",
      "\n",
      "Current Fold: 2 | Epoch: 6\n"
     ]
    },
    {
     "name": "stdout",
     "output_type": "stream",
     "text": [
      "Emotion Training Correct: 105/320 \n",
      "Emotion Training Accuracy: 32.81250%\n",
      "Speaker Training Correct: 0/320 \n",
      "Speaker Training Accuracy: 0.00000%\n"
     ]
    },
    {
     "name": "stdout",
     "output_type": "stream",
     "text": [
      "\n",
      "Emotion Validating Correct: 33/96 \n",
      "Emotion Validating Accuracy: 34.37500%\n",
      "Speaker Validating Correct: 36/96 \n",
      "Speaker Validating Accuracy: 37.50000%\n",
      "\n",
      "Current Fold: 2 | Epoch: 7\n"
     ]
    },
    {
     "name": "stdout",
     "output_type": "stream",
     "text": [
      "Emotion Training Correct: 104/320 \n",
      "Emotion Training Accuracy: 32.50000%\n",
      "Speaker Training Correct: 0/320 \n",
      "Speaker Training Accuracy: 0.00000%\n"
     ]
    },
    {
     "name": "stdout",
     "output_type": "stream",
     "text": [
      "\n",
      "Emotion Validating Correct: 30/96 \n",
      "Emotion Validating Accuracy: 31.25000%\n",
      "Speaker Validating Correct: 53/96 \n",
      "Speaker Validating Accuracy: 55.20833%\n",
      "\n",
      "Current Fold: 2 | Epoch: 8\n"
     ]
    },
    {
     "name": "stdout",
     "output_type": "stream",
     "text": [
      "Emotion Training Correct: 129/320 \n",
      "Emotion Training Accuracy: 40.31250%\n",
      "Speaker Training Correct: 0/320 \n",
      "Speaker Training Accuracy: 0.00000%\n"
     ]
    },
    {
     "name": "stdout",
     "output_type": "stream",
     "text": [
      "\n",
      "Emotion Validating Correct: 41/96 \n",
      "Emotion Validating Accuracy: 42.70833%\n",
      "Speaker Validating Correct: 45/96 \n",
      "Speaker Validating Accuracy: 46.87500%\n",
      "Models' parameters and optimisers' parameters saved.\n",
      "\n",
      "Current Fold: 2 | Epoch: 9\n"
     ]
    },
    {
     "name": "stdout",
     "output_type": "stream",
     "text": [
      "Emotion Training Correct: 135/320 \n",
      "Emotion Training Accuracy: 42.18750%\n",
      "Speaker Training Correct: 0/320 \n",
      "Speaker Training Accuracy: 0.00000%\n"
     ]
    },
    {
     "name": "stdout",
     "output_type": "stream",
     "text": [
      "\n",
      "Emotion Validating Correct: 41/96 \n",
      "Emotion Validating Accuracy: 42.70833%\n",
      "Speaker Validating Correct: 51/96 \n",
      "Speaker Validating Accuracy: 53.12500%\n",
      "Models' parameters and optimisers' parameters saved.\n",
      "\n",
      "Current Fold: 2 | Epoch: 10\n"
     ]
    },
    {
     "name": "stdout",
     "output_type": "stream",
     "text": [
      "Emotion Training Correct: 138/320 \n",
      "Emotion Training Accuracy: 43.12500%\n",
      "Speaker Training Correct: 0/320 \n",
      "Speaker Training Accuracy: 0.00000%\n"
     ]
    },
    {
     "name": "stdout",
     "output_type": "stream",
     "text": [
      "\n",
      "Emotion Validating Correct: 42/96 \n",
      "Emotion Validating Accuracy: 43.75000%\n",
      "Speaker Validating Correct: 36/96 \n",
      "Speaker Validating Accuracy: 37.50000%\n",
      "Models' parameters and optimisers' parameters saved.\n",
      "\n",
      "Current Fold: 2 | Epoch: 11\n"
     ]
    },
    {
     "name": "stdout",
     "output_type": "stream",
     "text": [
      "Emotion Training Correct: 130/320 \n",
      "Emotion Training Accuracy: 40.62500%\n",
      "Speaker Training Correct: 0/320 \n",
      "Speaker Training Accuracy: 0.00000%\n"
     ]
    },
    {
     "name": "stdout",
     "output_type": "stream",
     "text": [
      "\n",
      "Emotion Validating Correct: 40/96 \n",
      "Emotion Validating Accuracy: 41.66667%\n",
      "Speaker Validating Correct: 39/96 \n",
      "Speaker Validating Accuracy: 40.62500%\n",
      "\n",
      "Current Fold: 2 | Epoch: 12\n"
     ]
    },
    {
     "name": "stdout",
     "output_type": "stream",
     "text": [
      "Emotion Training Correct: 141/320 \n",
      "Emotion Training Accuracy: 44.06250%\n",
      "Speaker Training Correct: 0/320 \n",
      "Speaker Training Accuracy: 0.00000%\n"
     ]
    },
    {
     "name": "stdout",
     "output_type": "stream",
     "text": [
      "\n",
      "Emotion Validating Correct: 42/96 \n",
      "Emotion Validating Accuracy: 43.75000%\n",
      "Speaker Validating Correct: 43/96 \n",
      "Speaker Validating Accuracy: 44.79167%\n",
      "Models' parameters and optimisers' parameters saved.\n",
      "\n",
      "Current Fold: 2 | Epoch: 13\n"
     ]
    },
    {
     "name": "stdout",
     "output_type": "stream",
     "text": [
      "Emotion Training Correct: 143/320 \n",
      "Emotion Training Accuracy: 44.68750%\n",
      "Speaker Training Correct: 0/320 \n",
      "Speaker Training Accuracy: 0.00000%\n"
     ]
    },
    {
     "name": "stdout",
     "output_type": "stream",
     "text": [
      "\n",
      "Emotion Validating Correct: 41/96 \n",
      "Emotion Validating Accuracy: 42.70833%\n",
      "Speaker Validating Correct: 34/96 \n",
      "Speaker Validating Accuracy: 35.41667%\n",
      "\n",
      "Current Fold: 2 | Epoch: 14\n"
     ]
    },
    {
     "name": "stdout",
     "output_type": "stream",
     "text": [
      "Emotion Training Correct: 140/320 \n",
      "Emotion Training Accuracy: 43.75000%\n",
      "Speaker Training Correct: 0/320 \n",
      "Speaker Training Accuracy: 0.00000%\n"
     ]
    },
    {
     "name": "stdout",
     "output_type": "stream",
     "text": [
      "\n",
      "Emotion Validating Correct: 42/96 \n",
      "Emotion Validating Accuracy: 43.75000%\n",
      "Speaker Validating Correct: 44/96 \n",
      "Speaker Validating Accuracy: 45.83333%\n",
      "Models' parameters and optimisers' parameters saved.\n",
      "\n",
      "Current Fold: 2 | Epoch: 15\n"
     ]
    },
    {
     "name": "stdout",
     "output_type": "stream",
     "text": [
      "Emotion Training Correct: 140/320 \n",
      "Emotion Training Accuracy: 43.75000%\n",
      "Speaker Training Correct: 0/320 \n",
      "Speaker Training Accuracy: 0.00000%\n"
     ]
    },
    {
     "name": "stdout",
     "output_type": "stream",
     "text": [
      "\n",
      "Emotion Validating Correct: 37/96 \n",
      "Emotion Validating Accuracy: 38.54167%\n",
      "Speaker Validating Correct: 42/96 \n",
      "Speaker Validating Accuracy: 43.75000%\n",
      "\n",
      "Current Fold: 2 | Epoch: 16\n"
     ]
    },
    {
     "name": "stdout",
     "output_type": "stream",
     "text": [
      "Emotion Training Correct: 167/320 \n",
      "Emotion Training Accuracy: 52.18750%\n",
      "Speaker Training Correct: 0/320 \n",
      "Speaker Training Accuracy: 0.00000%\n"
     ]
    },
    {
     "name": "stdout",
     "output_type": "stream",
     "text": [
      "\n",
      "Emotion Validating Correct: 41/96 \n",
      "Emotion Validating Accuracy: 42.70833%\n",
      "Speaker Validating Correct: 36/96 \n",
      "Speaker Validating Accuracy: 37.50000%\n",
      "\n",
      "Current Fold: 2 | Epoch: 17\n"
     ]
    },
    {
     "name": "stdout",
     "output_type": "stream",
     "text": [
      "Emotion Training Correct: 155/320 \n",
      "Emotion Training Accuracy: 48.43750%\n",
      "Speaker Training Correct: 0/320 \n",
      "Speaker Training Accuracy: 0.00000%\n"
     ]
    },
    {
     "name": "stdout",
     "output_type": "stream",
     "text": [
      "\n",
      "Emotion Validating Correct: 43/96 \n",
      "Emotion Validating Accuracy: 44.79167%\n",
      "Speaker Validating Correct: 41/96 \n",
      "Speaker Validating Accuracy: 42.70833%\n",
      "Models' parameters and optimisers' parameters saved.\n",
      "\n",
      "Current Fold: 2 | Epoch: 18\n"
     ]
    },
    {
     "name": "stdout",
     "output_type": "stream",
     "text": [
      "Emotion Training Correct: 149/320 \n",
      "Emotion Training Accuracy: 46.56250%\n",
      "Speaker Training Correct: 0/320 \n",
      "Speaker Training Accuracy: 0.00000%\n"
     ]
    },
    {
     "name": "stdout",
     "output_type": "stream",
     "text": [
      "\n",
      "Emotion Validating Correct: 42/96 \n",
      "Emotion Validating Accuracy: 43.75000%\n",
      "Speaker Validating Correct: 40/96 \n",
      "Speaker Validating Accuracy: 41.66667%\n",
      "\n",
      "Current Fold: 2 | Epoch: 19\n"
     ]
    },
    {
     "name": "stdout",
     "output_type": "stream",
     "text": [
      "Emotion Training Correct: 172/320 \n",
      "Emotion Training Accuracy: 53.75000%\n",
      "Speaker Training Correct: 0/320 \n",
      "Speaker Training Accuracy: 0.00000%\n"
     ]
    },
    {
     "name": "stdout",
     "output_type": "stream",
     "text": [
      "\n",
      "Emotion Validating Correct: 47/96 \n",
      "Emotion Validating Accuracy: 48.95833%\n",
      "Speaker Validating Correct: 34/96 \n",
      "Speaker Validating Accuracy: 35.41667%\n",
      "Models' parameters and optimisers' parameters saved.\n",
      "\n",
      "Current Fold: 2 | Epoch: 20\n"
     ]
    },
    {
     "name": "stdout",
     "output_type": "stream",
     "text": [
      "Emotion Training Correct: 169/320 \n",
      "Emotion Training Accuracy: 52.81250%\n",
      "Speaker Training Correct: 0/320 \n",
      "Speaker Training Accuracy: 0.00000%\n"
     ]
    },
    {
     "name": "stdout",
     "output_type": "stream",
     "text": [
      "\n",
      "Emotion Validating Correct: 47/96 \n",
      "Emotion Validating Accuracy: 48.95833%\n",
      "Speaker Validating Correct: 33/96 \n",
      "Speaker Validating Accuracy: 34.37500%\n",
      "Models' parameters and optimisers' parameters saved.\n",
      "\n",
      "Current Fold: 2 | Epoch: 21\n"
     ]
    },
    {
     "name": "stdout",
     "output_type": "stream",
     "text": [
      "Emotion Training Correct: 171/320 \n",
      "Emotion Training Accuracy: 53.43750%\n",
      "Speaker Training Correct: 0/320 \n",
      "Speaker Training Accuracy: 0.00000%\n"
     ]
    },
    {
     "name": "stdout",
     "output_type": "stream",
     "text": [
      "\n",
      "Emotion Validating Correct: 48/96 \n",
      "Emotion Validating Accuracy: 50.00000%\n",
      "Speaker Validating Correct: 40/96 \n",
      "Speaker Validating Accuracy: 41.66667%\n",
      "Models' parameters and optimisers' parameters saved.\n",
      "\n",
      "Current Fold: 2 | Epoch: 22\n"
     ]
    },
    {
     "name": "stdout",
     "output_type": "stream",
     "text": [
      "Emotion Training Correct: 177/320 \n",
      "Emotion Training Accuracy: 55.31250%\n",
      "Speaker Training Correct: 0/320 \n",
      "Speaker Training Accuracy: 0.00000%\n"
     ]
    },
    {
     "name": "stdout",
     "output_type": "stream",
     "text": [
      "\n",
      "Emotion Validating Correct: 51/96 \n",
      "Emotion Validating Accuracy: 53.12500%\n",
      "Speaker Validating Correct: 42/96 \n",
      "Speaker Validating Accuracy: 43.75000%\n",
      "Models' parameters and optimisers' parameters saved.\n",
      "\n",
      "Current Fold: 2 | Epoch: 23\n"
     ]
    },
    {
     "name": "stdout",
     "output_type": "stream",
     "text": [
      "Emotion Training Correct: 182/320 \n",
      "Emotion Training Accuracy: 56.87500%\n",
      "Speaker Training Correct: 0/320 \n",
      "Speaker Training Accuracy: 0.00000%\n"
     ]
    },
    {
     "name": "stdout",
     "output_type": "stream",
     "text": [
      "\n",
      "Emotion Validating Correct: 53/96 \n",
      "Emotion Validating Accuracy: 55.20833%\n",
      "Speaker Validating Correct: 33/96 \n",
      "Speaker Validating Accuracy: 34.37500%\n",
      "Models' parameters and optimisers' parameters saved.\n",
      "\n",
      "Current Fold: 2 | Epoch: 24\n"
     ]
    },
    {
     "name": "stdout",
     "output_type": "stream",
     "text": [
      "Emotion Training Correct: 146/320 \n",
      "Emotion Training Accuracy: 45.62500%\n",
      "Speaker Training Correct: 0/320 \n",
      "Speaker Training Accuracy: 0.00000%\n"
     ]
    },
    {
     "name": "stdout",
     "output_type": "stream",
     "text": [
      "\n",
      "Emotion Validating Correct: 44/96 \n",
      "Emotion Validating Accuracy: 45.83333%\n",
      "Speaker Validating Correct: 12/96 \n",
      "Speaker Validating Accuracy: 12.50000%\n",
      "\n",
      "Current Fold: 2 | Epoch: 25\n"
     ]
    },
    {
     "name": "stdout",
     "output_type": "stream",
     "text": [
      "Emotion Training Correct: 174/320 \n",
      "Emotion Training Accuracy: 54.37500%\n",
      "Speaker Training Correct: 0/320 \n",
      "Speaker Training Accuracy: 0.00000%\n"
     ]
    },
    {
     "name": "stdout",
     "output_type": "stream",
     "text": [
      "\n",
      "Emotion Validating Correct: 45/96 \n",
      "Emotion Validating Accuracy: 46.87500%\n",
      "Speaker Validating Correct: 29/96 \n",
      "Speaker Validating Accuracy: 30.20833%\n",
      "\n",
      "Current Fold: 2 | Epoch: 26\n"
     ]
    },
    {
     "name": "stdout",
     "output_type": "stream",
     "text": [
      "Emotion Training Correct: 193/320 \n",
      "Emotion Training Accuracy: 60.31250%\n",
      "Speaker Training Correct: 0/320 \n",
      "Speaker Training Accuracy: 0.00000%\n"
     ]
    },
    {
     "name": "stdout",
     "output_type": "stream",
     "text": [
      "\n",
      "Emotion Validating Correct: 51/96 \n",
      "Emotion Validating Accuracy: 53.12500%\n",
      "Speaker Validating Correct: 32/96 \n",
      "Speaker Validating Accuracy: 33.33333%\n",
      "\n",
      "Current Fold: 2 | Epoch: 27\n"
     ]
    },
    {
     "name": "stdout",
     "output_type": "stream",
     "text": [
      "Emotion Training Correct: 180/320 \n",
      "Emotion Training Accuracy: 56.25000%\n",
      "Speaker Training Correct: 0/320 \n",
      "Speaker Training Accuracy: 0.00000%\n"
     ]
    },
    {
     "name": "stdout",
     "output_type": "stream",
     "text": [
      "\n",
      "Emotion Validating Correct: 48/96 \n",
      "Emotion Validating Accuracy: 50.00000%\n",
      "Speaker Validating Correct: 33/96 \n",
      "Speaker Validating Accuracy: 34.37500%\n",
      "\n",
      "Current Fold: 2 | Epoch: 28\n"
     ]
    },
    {
     "name": "stdout",
     "output_type": "stream",
     "text": [
      "Emotion Training Correct: 198/320 \n",
      "Emotion Training Accuracy: 61.87500%\n",
      "Speaker Training Correct: 0/320 \n",
      "Speaker Training Accuracy: 0.00000%\n"
     ]
    },
    {
     "name": "stdout",
     "output_type": "stream",
     "text": [
      "\n",
      "Emotion Validating Correct: 51/96 \n",
      "Emotion Validating Accuracy: 53.12500%\n",
      "Speaker Validating Correct: 30/96 \n",
      "Speaker Validating Accuracy: 31.25000%\n",
      "\n",
      "Current Fold: 2 | Epoch: 29\n"
     ]
    },
    {
     "name": "stdout",
     "output_type": "stream",
     "text": [
      "Emotion Training Correct: 196/320 \n",
      "Emotion Training Accuracy: 61.25000%\n",
      "Speaker Training Correct: 0/320 \n",
      "Speaker Training Accuracy: 0.00000%\n"
     ]
    },
    {
     "name": "stdout",
     "output_type": "stream",
     "text": [
      "\n",
      "Emotion Validating Correct: 52/96 \n",
      "Emotion Validating Accuracy: 54.16667%\n",
      "Speaker Validating Correct: 41/96 \n",
      "Speaker Validating Accuracy: 42.70833%\n",
      "\n",
      "Current Fold: 2 | Epoch: 30\n"
     ]
    },
    {
     "name": "stdout",
     "output_type": "stream",
     "text": [
      "Emotion Training Correct: 172/320 \n",
      "Emotion Training Accuracy: 53.75000%\n",
      "Speaker Training Correct: 0/320 \n",
      "Speaker Training Accuracy: 0.00000%\n"
     ]
    },
    {
     "name": "stdout",
     "output_type": "stream",
     "text": [
      "\n",
      "Emotion Validating Correct: 40/96 \n",
      "Emotion Validating Accuracy: 41.66667%\n",
      "Speaker Validating Correct: 32/96 \n",
      "Speaker Validating Accuracy: 33.33333%\n",
      "\n",
      "Current Fold: 2 | Epoch: 31\n"
     ]
    },
    {
     "name": "stdout",
     "output_type": "stream",
     "text": [
      "Emotion Training Correct: 200/320 \n",
      "Emotion Training Accuracy: 62.50000%\n",
      "Speaker Training Correct: 0/320 \n",
      "Speaker Training Accuracy: 0.00000%\n"
     ]
    },
    {
     "name": "stdout",
     "output_type": "stream",
     "text": [
      "\n",
      "Emotion Validating Correct: 55/96 \n",
      "Emotion Validating Accuracy: 57.29167%\n",
      "Speaker Validating Correct: 41/96 \n",
      "Speaker Validating Accuracy: 42.70833%\n",
      "Models' parameters and optimisers' parameters saved.\n",
      "\n",
      "Current Fold: 2 | Epoch: 32\n"
     ]
    },
    {
     "name": "stdout",
     "output_type": "stream",
     "text": [
      "Emotion Training Correct: 199/320 \n",
      "Emotion Training Accuracy: 62.18750%\n",
      "Speaker Training Correct: 0/320 \n",
      "Speaker Training Accuracy: 0.00000%\n"
     ]
    },
    {
     "name": "stdout",
     "output_type": "stream",
     "text": [
      "\n",
      "Emotion Validating Correct: 51/96 \n",
      "Emotion Validating Accuracy: 53.12500%\n",
      "Speaker Validating Correct: 28/96 \n",
      "Speaker Validating Accuracy: 29.16667%\n",
      "\n",
      "Current Fold: 2 | Epoch: 33\n"
     ]
    },
    {
     "name": "stdout",
     "output_type": "stream",
     "text": [
      "Emotion Training Correct: 207/320 \n",
      "Emotion Training Accuracy: 64.68750%\n",
      "Speaker Training Correct: 0/320 \n",
      "Speaker Training Accuracy: 0.00000%\n"
     ]
    },
    {
     "name": "stdout",
     "output_type": "stream",
     "text": [
      "\n",
      "Emotion Validating Correct: 52/96 \n",
      "Emotion Validating Accuracy: 54.16667%\n",
      "Speaker Validating Correct: 35/96 \n",
      "Speaker Validating Accuracy: 36.45833%\n",
      "\n",
      "Current Fold: 2 | Epoch: 34\n"
     ]
    },
    {
     "name": "stdout",
     "output_type": "stream",
     "text": [
      "Emotion Training Correct: 212/320 \n",
      "Emotion Training Accuracy: 66.25000%\n",
      "Speaker Training Correct: 0/320 \n",
      "Speaker Training Accuracy: 0.00000%\n"
     ]
    },
    {
     "name": "stdout",
     "output_type": "stream",
     "text": [
      "\n",
      "Emotion Validating Correct: 52/96 \n",
      "Emotion Validating Accuracy: 54.16667%\n",
      "Speaker Validating Correct: 44/96 \n",
      "Speaker Validating Accuracy: 45.83333%\n",
      "\n",
      "Current Fold: 2 | Epoch: 35\n"
     ]
    },
    {
     "name": "stdout",
     "output_type": "stream",
     "text": [
      "Emotion Training Correct: 169/320 \n",
      "Emotion Training Accuracy: 52.81250%\n",
      "Speaker Training Correct: 0/320 \n",
      "Speaker Training Accuracy: 0.00000%\n"
     ]
    },
    {
     "name": "stdout",
     "output_type": "stream",
     "text": [
      "\n",
      "Emotion Validating Correct: 48/96 \n",
      "Emotion Validating Accuracy: 50.00000%\n",
      "Speaker Validating Correct: 53/96 \n",
      "Speaker Validating Accuracy: 55.20833%\n",
      "\n",
      "Current Fold: 2 | Epoch: 36\n"
     ]
    },
    {
     "name": "stdout",
     "output_type": "stream",
     "text": [
      "Emotion Training Correct: 199/320 \n",
      "Emotion Training Accuracy: 62.18750%\n",
      "Speaker Training Correct: 0/320 \n",
      "Speaker Training Accuracy: 0.00000%\n"
     ]
    },
    {
     "name": "stdout",
     "output_type": "stream",
     "text": [
      "\n",
      "Emotion Validating Correct: 52/96 \n",
      "Emotion Validating Accuracy: 54.16667%\n",
      "Speaker Validating Correct: 39/96 \n",
      "Speaker Validating Accuracy: 40.62500%\n",
      "\n",
      "Current Fold: 2 | Epoch: 37\n"
     ]
    },
    {
     "name": "stdout",
     "output_type": "stream",
     "text": [
      "Emotion Training Correct: 198/320 \n",
      "Emotion Training Accuracy: 61.87500%\n",
      "Speaker Training Correct: 0/320 \n",
      "Speaker Training Accuracy: 0.00000%\n"
     ]
    },
    {
     "name": "stdout",
     "output_type": "stream",
     "text": [
      "\n",
      "Emotion Validating Correct: 48/96 \n",
      "Emotion Validating Accuracy: 50.00000%\n",
      "Speaker Validating Correct: 40/96 \n",
      "Speaker Validating Accuracy: 41.66667%\n",
      "\n",
      "Current Fold: 2 | Epoch: 38\n"
     ]
    },
    {
     "name": "stdout",
     "output_type": "stream",
     "text": [
      "Emotion Training Correct: 216/320 \n",
      "Emotion Training Accuracy: 67.50000%\n",
      "Speaker Training Correct: 0/320 \n",
      "Speaker Training Accuracy: 0.00000%\n"
     ]
    },
    {
     "name": "stdout",
     "output_type": "stream",
     "text": [
      "\n",
      "Emotion Validating Correct: 52/96 \n",
      "Emotion Validating Accuracy: 54.16667%\n",
      "Speaker Validating Correct: 37/96 \n",
      "Speaker Validating Accuracy: 38.54167%\n",
      "\n",
      "Current Fold: 2 | Epoch: 39\n"
     ]
    },
    {
     "name": "stdout",
     "output_type": "stream",
     "text": [
      "Emotion Training Correct: 223/320 \n",
      "Emotion Training Accuracy: 69.68750%\n",
      "Speaker Training Correct: 0/320 \n",
      "Speaker Training Accuracy: 0.00000%\n"
     ]
    },
    {
     "name": "stdout",
     "output_type": "stream",
     "text": [
      "\n",
      "Emotion Validating Correct: 51/96 \n",
      "Emotion Validating Accuracy: 53.12500%\n",
      "Speaker Validating Correct: 38/96 \n",
      "Speaker Validating Accuracy: 39.58333%\n",
      "\n",
      "Current Fold: 2 | Epoch: 40\n"
     ]
    },
    {
     "name": "stdout",
     "output_type": "stream",
     "text": [
      "Emotion Training Correct: 223/320 \n",
      "Emotion Training Accuracy: 69.68750%\n",
      "Speaker Training Correct: 0/320 \n",
      "Speaker Training Accuracy: 0.00000%\n"
     ]
    },
    {
     "name": "stdout",
     "output_type": "stream",
     "text": [
      "\n",
      "Emotion Validating Correct: 51/96 \n",
      "Emotion Validating Accuracy: 53.12500%\n",
      "Speaker Validating Correct: 26/96 \n",
      "Speaker Validating Accuracy: 27.08333%\n",
      "\n",
      "Current Fold: 2 | Epoch: 41\n"
     ]
    },
    {
     "name": "stdout",
     "output_type": "stream",
     "text": [
      "Emotion Training Correct: 227/320 \n",
      "Emotion Training Accuracy: 70.93750%\n",
      "Speaker Training Correct: 0/320 \n",
      "Speaker Training Accuracy: 0.00000%\n"
     ]
    },
    {
     "name": "stdout",
     "output_type": "stream",
     "text": [
      "\n",
      "Emotion Validating Correct: 51/96 \n",
      "Emotion Validating Accuracy: 53.12500%\n",
      "Speaker Validating Correct: 33/96 \n",
      "Speaker Validating Accuracy: 34.37500%\n",
      "\n",
      "Current Fold: 2 | Epoch: 42\n"
     ]
    },
    {
     "name": "stdout",
     "output_type": "stream",
     "text": [
      "Emotion Training Correct: 202/320 \n",
      "Emotion Training Accuracy: 63.12500%\n",
      "Speaker Training Correct: 0/320 \n",
      "Speaker Training Accuracy: 0.00000%\n"
     ]
    },
    {
     "name": "stdout",
     "output_type": "stream",
     "text": [
      "\n",
      "Emotion Validating Correct: 52/96 \n",
      "Emotion Validating Accuracy: 54.16667%\n",
      "Speaker Validating Correct: 52/96 \n",
      "Speaker Validating Accuracy: 54.16667%\n",
      "\n",
      "Current Fold: 2 | Epoch: 43\n"
     ]
    },
    {
     "name": "stdout",
     "output_type": "stream",
     "text": [
      "Emotion Training Correct: 209/320 \n",
      "Emotion Training Accuracy: 65.31250%\n",
      "Speaker Training Correct: 0/320 \n",
      "Speaker Training Accuracy: 0.00000%\n"
     ]
    },
    {
     "name": "stdout",
     "output_type": "stream",
     "text": [
      "\n",
      "Emotion Validating Correct: 54/96 \n",
      "Emotion Validating Accuracy: 56.25000%\n",
      "Speaker Validating Correct: 52/96 \n",
      "Speaker Validating Accuracy: 54.16667%\n",
      "\n",
      "Current Fold: 2 | Epoch: 44\n"
     ]
    },
    {
     "name": "stdout",
     "output_type": "stream",
     "text": [
      "Emotion Training Correct: 227/320 \n",
      "Emotion Training Accuracy: 70.93750%\n",
      "Speaker Training Correct: 0/320 \n",
      "Speaker Training Accuracy: 0.00000%\n"
     ]
    },
    {
     "name": "stdout",
     "output_type": "stream",
     "text": [
      "\n",
      "Emotion Validating Correct: 60/96 \n",
      "Emotion Validating Accuracy: 62.50000%\n",
      "Speaker Validating Correct: 40/96 \n",
      "Speaker Validating Accuracy: 41.66667%\n",
      "Models' parameters and optimisers' parameters saved.\n",
      "\n",
      "Current Fold: 2 | Epoch: 45\n"
     ]
    },
    {
     "name": "stdout",
     "output_type": "stream",
     "text": [
      "Emotion Training Correct: 190/320 \n",
      "Emotion Training Accuracy: 59.37500%\n",
      "Speaker Training Correct: 0/320 \n",
      "Speaker Training Accuracy: 0.00000%\n"
     ]
    },
    {
     "name": "stdout",
     "output_type": "stream",
     "text": [
      "\n",
      "Emotion Validating Correct: 50/96 \n",
      "Emotion Validating Accuracy: 52.08333%\n",
      "Speaker Validating Correct: 45/96 \n",
      "Speaker Validating Accuracy: 46.87500%\n",
      "\n",
      "Current Fold: 2 | Epoch: 46\n"
     ]
    },
    {
     "name": "stdout",
     "output_type": "stream",
     "text": [
      "Emotion Training Correct: 213/320 \n",
      "Emotion Training Accuracy: 66.56250%\n",
      "Speaker Training Correct: 0/320 \n",
      "Speaker Training Accuracy: 0.00000%\n"
     ]
    },
    {
     "name": "stdout",
     "output_type": "stream",
     "text": [
      "\n",
      "Emotion Validating Correct: 50/96 \n",
      "Emotion Validating Accuracy: 52.08333%\n",
      "Speaker Validating Correct: 40/96 \n",
      "Speaker Validating Accuracy: 41.66667%\n",
      "\n",
      "Current Fold: 2 | Epoch: 47\n"
     ]
    },
    {
     "name": "stdout",
     "output_type": "stream",
     "text": [
      "Emotion Training Correct: 211/320 \n",
      "Emotion Training Accuracy: 65.93750%\n",
      "Speaker Training Correct: 0/320 \n",
      "Speaker Training Accuracy: 0.00000%\n"
     ]
    },
    {
     "name": "stdout",
     "output_type": "stream",
     "text": [
      "\n",
      "Emotion Validating Correct: 53/96 \n",
      "Emotion Validating Accuracy: 55.20833%\n",
      "Speaker Validating Correct: 28/96 \n",
      "Speaker Validating Accuracy: 29.16667%\n",
      "\n",
      "Current Fold: 2 | Epoch: 48\n"
     ]
    },
    {
     "name": "stdout",
     "output_type": "stream",
     "text": [
      "Emotion Training Correct: 228/320 \n",
      "Emotion Training Accuracy: 71.25000%\n",
      "Speaker Training Correct: 0/320 \n",
      "Speaker Training Accuracy: 0.00000%\n"
     ]
    },
    {
     "name": "stdout",
     "output_type": "stream",
     "text": [
      "\n",
      "Emotion Validating Correct: 52/96 \n",
      "Emotion Validating Accuracy: 54.16667%\n",
      "Speaker Validating Correct: 57/96 \n",
      "Speaker Validating Accuracy: 59.37500%\n",
      "\n",
      "Current Fold: 2 | Epoch: 49\n"
     ]
    },
    {
     "name": "stdout",
     "output_type": "stream",
     "text": [
      "Emotion Training Correct: 225/320 \n",
      "Emotion Training Accuracy: 70.31250%\n",
      "Speaker Training Correct: 0/320 \n",
      "Speaker Training Accuracy: 0.00000%\n"
     ]
    },
    {
     "name": "stdout",
     "output_type": "stream",
     "text": [
      "\n",
      "Emotion Validating Correct: 55/96 \n",
      "Emotion Validating Accuracy: 57.29167%\n",
      "Speaker Validating Correct: 44/96 \n",
      "Speaker Validating Accuracy: 45.83333%\n",
      "\n",
      "Current Fold: 2 | Epoch: 50\n"
     ]
    },
    {
     "name": "stdout",
     "output_type": "stream",
     "text": [
      "Emotion Training Correct: 232/320 \n",
      "Emotion Training Accuracy: 72.50000%\n",
      "Speaker Training Correct: 0/320 \n",
      "Speaker Training Accuracy: 0.00000%\n"
     ]
    },
    {
     "name": "stdout",
     "output_type": "stream",
     "text": [
      "\n",
      "Emotion Validating Correct: 48/96 \n",
      "Emotion Validating Accuracy: 50.00000%\n",
      "Speaker Validating Correct: 51/96 \n",
      "Speaker Validating Accuracy: 53.12500%\n",
      "\n",
      "Current Fold: 2 | Epoch: 51\n"
     ]
    },
    {
     "name": "stdout",
     "output_type": "stream",
     "text": [
      "Emotion Training Correct: 208/320 \n",
      "Emotion Training Accuracy: 65.00000%\n",
      "Speaker Training Correct: 0/320 \n",
      "Speaker Training Accuracy: 0.00000%\n"
     ]
    },
    {
     "name": "stdout",
     "output_type": "stream",
     "text": [
      "\n",
      "Emotion Validating Correct: 41/96 \n",
      "Emotion Validating Accuracy: 42.70833%\n",
      "Speaker Validating Correct: 45/96 \n",
      "Speaker Validating Accuracy: 46.87500%\n",
      "\n",
      "Current Fold: 2 | Epoch: 52\n"
     ]
    },
    {
     "name": "stdout",
     "output_type": "stream",
     "text": [
      "Emotion Training Correct: 211/320 \n",
      "Emotion Training Accuracy: 65.93750%\n",
      "Speaker Training Correct: 0/320 \n",
      "Speaker Training Accuracy: 0.00000%\n"
     ]
    },
    {
     "name": "stdout",
     "output_type": "stream",
     "text": [
      "\n",
      "Emotion Validating Correct: 49/96 \n",
      "Emotion Validating Accuracy: 51.04167%\n",
      "Speaker Validating Correct: 51/96 \n",
      "Speaker Validating Accuracy: 53.12500%\n",
      "\n",
      "Current Fold: 2 | Epoch: 53\n"
     ]
    },
    {
     "name": "stdout",
     "output_type": "stream",
     "text": [
      "Emotion Training Correct: 236/320 \n",
      "Emotion Training Accuracy: 73.75000%\n",
      "Speaker Training Correct: 0/320 \n",
      "Speaker Training Accuracy: 0.00000%\n"
     ]
    },
    {
     "name": "stdout",
     "output_type": "stream",
     "text": [
      "\n",
      "Emotion Validating Correct: 54/96 \n",
      "Emotion Validating Accuracy: 56.25000%\n",
      "Speaker Validating Correct: 47/96 \n",
      "Speaker Validating Accuracy: 48.95833%\n",
      "\n",
      "Current Fold: 2 | Epoch: 54\n"
     ]
    },
    {
     "name": "stdout",
     "output_type": "stream",
     "text": [
      "Emotion Training Correct: 229/320 \n",
      "Emotion Training Accuracy: 71.56250%\n",
      "Speaker Training Correct: 0/320 \n",
      "Speaker Training Accuracy: 0.00000%\n"
     ]
    },
    {
     "name": "stdout",
     "output_type": "stream",
     "text": [
      "\n",
      "Emotion Validating Correct: 51/96 \n",
      "Emotion Validating Accuracy: 53.12500%\n",
      "Speaker Validating Correct: 47/96 \n",
      "Speaker Validating Accuracy: 48.95833%\n",
      "\n",
      "Current Fold: 2 | Epoch: 55\n"
     ]
    },
    {
     "name": "stdout",
     "output_type": "stream",
     "text": [
      "Emotion Training Correct: 195/320 \n",
      "Emotion Training Accuracy: 60.93750%\n",
      "Speaker Training Correct: 0/320 \n",
      "Speaker Training Accuracy: 0.00000%\n"
     ]
    },
    {
     "name": "stdout",
     "output_type": "stream",
     "text": [
      "\n",
      "Emotion Validating Correct: 50/96 \n",
      "Emotion Validating Accuracy: 52.08333%\n",
      "Speaker Validating Correct: 49/96 \n",
      "Speaker Validating Accuracy: 51.04167%\n",
      "\n",
      "Current Fold: 2 | Epoch: 56\n"
     ]
    },
    {
     "name": "stdout",
     "output_type": "stream",
     "text": [
      "Emotion Training Correct: 209/320 \n",
      "Emotion Training Accuracy: 65.31250%\n",
      "Speaker Training Correct: 0/320 \n",
      "Speaker Training Accuracy: 0.00000%\n"
     ]
    },
    {
     "name": "stdout",
     "output_type": "stream",
     "text": [
      "\n",
      "Emotion Validating Correct: 54/96 \n",
      "Emotion Validating Accuracy: 56.25000%\n",
      "Speaker Validating Correct: 41/96 \n",
      "Speaker Validating Accuracy: 42.70833%\n",
      "\n",
      "Current Fold: 2 | Epoch: 57\n"
     ]
    },
    {
     "name": "stdout",
     "output_type": "stream",
     "text": [
      "Emotion Training Correct: 201/320 \n",
      "Emotion Training Accuracy: 62.81250%\n",
      "Speaker Training Correct: 0/320 \n",
      "Speaker Training Accuracy: 0.00000%\n"
     ]
    },
    {
     "name": "stdout",
     "output_type": "stream",
     "text": [
      "\n",
      "Emotion Validating Correct: 46/96 \n",
      "Emotion Validating Accuracy: 47.91667%\n",
      "Speaker Validating Correct: 34/96 \n",
      "Speaker Validating Accuracy: 35.41667%\n",
      "\n",
      "Current Fold: 2 | Epoch: 58\n"
     ]
    },
    {
     "name": "stdout",
     "output_type": "stream",
     "text": [
      "Emotion Training Correct: 234/320 \n",
      "Emotion Training Accuracy: 73.12500%\n",
      "Speaker Training Correct: 0/320 \n",
      "Speaker Training Accuracy: 0.00000%\n"
     ]
    },
    {
     "name": "stdout",
     "output_type": "stream",
     "text": [
      "\n",
      "Emotion Validating Correct: 48/96 \n",
      "Emotion Validating Accuracy: 50.00000%\n",
      "Speaker Validating Correct: 46/96 \n",
      "Speaker Validating Accuracy: 47.91667%\n",
      "\n",
      "Current Fold: 2 | Epoch: 59\n"
     ]
    },
    {
     "name": "stdout",
     "output_type": "stream",
     "text": [
      "Emotion Training Correct: 237/320 \n",
      "Emotion Training Accuracy: 74.06250%\n",
      "Speaker Training Correct: 0/320 \n",
      "Speaker Training Accuracy: 0.00000%\n"
     ]
    },
    {
     "name": "stdout",
     "output_type": "stream",
     "text": [
      "\n",
      "Emotion Validating Correct: 55/96 \n",
      "Emotion Validating Accuracy: 57.29167%\n",
      "Speaker Validating Correct: 50/96 \n",
      "Speaker Validating Accuracy: 52.08333%\n",
      "\n",
      "Current Fold: 2 | Epoch: 60\n"
     ]
    },
    {
     "name": "stdout",
     "output_type": "stream",
     "text": [
      "Emotion Training Correct: 246/320 \n",
      "Emotion Training Accuracy: 76.87500%\n",
      "Speaker Training Correct: 0/320 \n",
      "Speaker Training Accuracy: 0.00000%\n"
     ]
    },
    {
     "name": "stdout",
     "output_type": "stream",
     "text": [
      "\n",
      "Emotion Validating Correct: 56/96 \n",
      "Emotion Validating Accuracy: 58.33333%\n",
      "Speaker Validating Correct: 42/96 \n",
      "Speaker Validating Accuracy: 43.75000%\n",
      "\n",
      "Current Fold: 2 | Epoch: 61\n"
     ]
    },
    {
     "name": "stdout",
     "output_type": "stream",
     "text": [
      "Emotion Training Correct: 221/320 \n",
      "Emotion Training Accuracy: 69.06250%\n",
      "Speaker Training Correct: 0/320 \n",
      "Speaker Training Accuracy: 0.00000%\n"
     ]
    },
    {
     "name": "stdout",
     "output_type": "stream",
     "text": [
      "\n",
      "Emotion Validating Correct: 55/96 \n",
      "Emotion Validating Accuracy: 57.29167%\n",
      "Speaker Validating Correct: 39/96 \n",
      "Speaker Validating Accuracy: 40.62500%\n",
      "\n",
      "Current Fold: 2 | Epoch: 62\n"
     ]
    },
    {
     "name": "stdout",
     "output_type": "stream",
     "text": [
      "Emotion Training Correct: 235/320 \n",
      "Emotion Training Accuracy: 73.43750%\n",
      "Speaker Training Correct: 0/320 \n",
      "Speaker Training Accuracy: 0.00000%\n"
     ]
    },
    {
     "name": "stdout",
     "output_type": "stream",
     "text": [
      "\n",
      "Emotion Validating Correct: 52/96 \n",
      "Emotion Validating Accuracy: 54.16667%\n",
      "Speaker Validating Correct: 39/96 \n",
      "Speaker Validating Accuracy: 40.62500%\n",
      "\n",
      "Current Fold: 2 | Epoch: 63\n"
     ]
    },
    {
     "name": "stdout",
     "output_type": "stream",
     "text": [
      "Emotion Training Correct: 192/320 \n",
      "Emotion Training Accuracy: 60.00000%\n",
      "Speaker Training Correct: 0/320 \n",
      "Speaker Training Accuracy: 0.00000%\n"
     ]
    },
    {
     "name": "stdout",
     "output_type": "stream",
     "text": [
      "\n",
      "Emotion Validating Correct: 43/96 \n",
      "Emotion Validating Accuracy: 44.79167%\n",
      "Speaker Validating Correct: 42/96 \n",
      "Speaker Validating Accuracy: 43.75000%\n",
      "\n",
      "Current Fold: 2 | Epoch: 64\n"
     ]
    },
    {
     "name": "stdout",
     "output_type": "stream",
     "text": [
      "Emotion Training Correct: 214/320 \n",
      "Emotion Training Accuracy: 66.87500%\n",
      "Speaker Training Correct: 0/320 \n",
      "Speaker Training Accuracy: 0.00000%\n"
     ]
    },
    {
     "name": "stdout",
     "output_type": "stream",
     "text": [
      "\n",
      "Emotion Validating Correct: 51/96 \n",
      "Emotion Validating Accuracy: 53.12500%\n",
      "Speaker Validating Correct: 34/96 \n",
      "Speaker Validating Accuracy: 35.41667%\n",
      "\n",
      "Current Fold: 2 | Epoch: 65\n"
     ]
    },
    {
     "name": "stdout",
     "output_type": "stream",
     "text": [
      "Emotion Training Correct: 244/320 \n",
      "Emotion Training Accuracy: 76.25000%\n",
      "Speaker Training Correct: 0/320 \n",
      "Speaker Training Accuracy: 0.00000%\n"
     ]
    },
    {
     "name": "stdout",
     "output_type": "stream",
     "text": [
      "\n",
      "Emotion Validating Correct: 51/96 \n",
      "Emotion Validating Accuracy: 53.12500%\n",
      "Speaker Validating Correct: 43/96 \n",
      "Speaker Validating Accuracy: 44.79167%\n",
      "\n",
      "Current Fold: 2 | Epoch: 66\n"
     ]
    },
    {
     "name": "stdout",
     "output_type": "stream",
     "text": [
      "Emotion Training Correct: 227/320 \n",
      "Emotion Training Accuracy: 70.93750%\n",
      "Speaker Training Correct: 0/320 \n",
      "Speaker Training Accuracy: 0.00000%\n"
     ]
    },
    {
     "name": "stdout",
     "output_type": "stream",
     "text": [
      "\n",
      "Emotion Validating Correct: 52/96 \n",
      "Emotion Validating Accuracy: 54.16667%\n",
      "Speaker Validating Correct: 47/96 \n",
      "Speaker Validating Accuracy: 48.95833%\n",
      "\n",
      "Current Fold: 2 | Epoch: 67\n"
     ]
    },
    {
     "name": "stdout",
     "output_type": "stream",
     "text": [
      "Emotion Training Correct: 219/320 \n",
      "Emotion Training Accuracy: 68.43750%\n",
      "Speaker Training Correct: 0/320 \n",
      "Speaker Training Accuracy: 0.00000%\n"
     ]
    },
    {
     "name": "stdout",
     "output_type": "stream",
     "text": [
      "\n",
      "Emotion Validating Correct: 45/96 \n",
      "Emotion Validating Accuracy: 46.87500%\n",
      "Speaker Validating Correct: 47/96 \n",
      "Speaker Validating Accuracy: 48.95833%\n",
      "\n",
      "Current Fold: 2 | Epoch: 68\n"
     ]
    },
    {
     "name": "stdout",
     "output_type": "stream",
     "text": [
      "Emotion Training Correct: 250/320 \n",
      "Emotion Training Accuracy: 78.12500%\n",
      "Speaker Training Correct: 0/320 \n",
      "Speaker Training Accuracy: 0.00000%\n"
     ]
    },
    {
     "name": "stdout",
     "output_type": "stream",
     "text": [
      "\n",
      "Emotion Validating Correct: 55/96 \n",
      "Emotion Validating Accuracy: 57.29167%\n",
      "Speaker Validating Correct: 47/96 \n",
      "Speaker Validating Accuracy: 48.95833%\n",
      "\n",
      "Current Fold: 2 | Epoch: 69\n"
     ]
    },
    {
     "name": "stdout",
     "output_type": "stream",
     "text": [
      "Emotion Training Correct: 240/320 \n",
      "Emotion Training Accuracy: 75.00000%\n",
      "Speaker Training Correct: 0/320 \n",
      "Speaker Training Accuracy: 0.00000%\n"
     ]
    },
    {
     "name": "stdout",
     "output_type": "stream",
     "text": [
      "\n",
      "Emotion Validating Correct: 54/96 \n",
      "Emotion Validating Accuracy: 56.25000%\n",
      "Speaker Validating Correct: 48/96 \n",
      "Speaker Validating Accuracy: 50.00000%\n",
      "\n",
      "Current Fold: 2 | Epoch: 70\n"
     ]
    },
    {
     "name": "stdout",
     "output_type": "stream",
     "text": [
      "Emotion Training Correct: 246/320 \n",
      "Emotion Training Accuracy: 76.87500%\n",
      "Speaker Training Correct: 0/320 \n",
      "Speaker Training Accuracy: 0.00000%\n"
     ]
    },
    {
     "name": "stdout",
     "output_type": "stream",
     "text": [
      "\n",
      "Emotion Validating Correct: 56/96 \n",
      "Emotion Validating Accuracy: 58.33333%\n",
      "Speaker Validating Correct: 52/96 \n",
      "Speaker Validating Accuracy: 54.16667%\n",
      "\n",
      "Current Fold: 2 | Epoch: 71\n"
     ]
    },
    {
     "name": "stdout",
     "output_type": "stream",
     "text": [
      "Emotion Training Correct: 245/320 \n",
      "Emotion Training Accuracy: 76.56250%\n",
      "Speaker Training Correct: 0/320 \n",
      "Speaker Training Accuracy: 0.00000%\n"
     ]
    },
    {
     "name": "stdout",
     "output_type": "stream",
     "text": [
      "\n",
      "Emotion Validating Correct: 49/96 \n",
      "Emotion Validating Accuracy: 51.04167%\n",
      "Speaker Validating Correct: 50/96 \n",
      "Speaker Validating Accuracy: 52.08333%\n",
      "\n",
      "Current Fold: 2 | Epoch: 72\n"
     ]
    },
    {
     "name": "stdout",
     "output_type": "stream",
     "text": [
      "Emotion Training Correct: 230/320 \n",
      "Emotion Training Accuracy: 71.87500%\n",
      "Speaker Training Correct: 0/320 \n",
      "Speaker Training Accuracy: 0.00000%\n"
     ]
    },
    {
     "name": "stdout",
     "output_type": "stream",
     "text": [
      "\n",
      "Emotion Validating Correct: 49/96 \n",
      "Emotion Validating Accuracy: 51.04167%\n",
      "Speaker Validating Correct: 54/96 \n",
      "Speaker Validating Accuracy: 56.25000%\n",
      "\n",
      "Current Fold: 2 | Epoch: 73\n"
     ]
    },
    {
     "name": "stdout",
     "output_type": "stream",
     "text": [
      "Emotion Training Correct: 251/320 \n",
      "Emotion Training Accuracy: 78.43750%\n",
      "Speaker Training Correct: 0/320 \n",
      "Speaker Training Accuracy: 0.00000%\n"
     ]
    },
    {
     "name": "stdout",
     "output_type": "stream",
     "text": [
      "\n",
      "Emotion Validating Correct: 52/96 \n",
      "Emotion Validating Accuracy: 54.16667%\n",
      "Speaker Validating Correct: 54/96 \n",
      "Speaker Validating Accuracy: 56.25000%\n",
      "\n",
      "Current Fold: 2 | Epoch: 74\n"
     ]
    },
    {
     "name": "stdout",
     "output_type": "stream",
     "text": [
      "Emotion Training Correct: 241/320 \n",
      "Emotion Training Accuracy: 75.31250%\n",
      "Speaker Training Correct: 0/320 \n",
      "Speaker Training Accuracy: 0.00000%\n"
     ]
    },
    {
     "name": "stdout",
     "output_type": "stream",
     "text": [
      "\n",
      "Emotion Validating Correct: 59/96 \n",
      "Emotion Validating Accuracy: 61.45833%\n",
      "Speaker Validating Correct: 54/96 \n",
      "Speaker Validating Accuracy: 56.25000%\n",
      "\n",
      "Current Fold: 2 | Epoch: 75\n"
     ]
    },
    {
     "name": "stdout",
     "output_type": "stream",
     "text": [
      "Emotion Training Correct: 257/320 \n",
      "Emotion Training Accuracy: 80.31250%\n",
      "Speaker Training Correct: 0/320 \n",
      "Speaker Training Accuracy: 0.00000%\n"
     ]
    },
    {
     "name": "stdout",
     "output_type": "stream",
     "text": [
      "\n",
      "Emotion Validating Correct: 58/96 \n",
      "Emotion Validating Accuracy: 60.41667%\n",
      "Speaker Validating Correct: 50/96 \n",
      "Speaker Validating Accuracy: 52.08333%\n",
      "\n",
      "Current Fold: 2 | Epoch: 76\n"
     ]
    },
    {
     "name": "stdout",
     "output_type": "stream",
     "text": [
      "Emotion Training Correct: 253/320 \n",
      "Emotion Training Accuracy: 79.06250%\n",
      "Speaker Training Correct: 0/320 \n",
      "Speaker Training Accuracy: 0.00000%\n"
     ]
    },
    {
     "name": "stdout",
     "output_type": "stream",
     "text": [
      "\n",
      "Emotion Validating Correct: 55/96 \n",
      "Emotion Validating Accuracy: 57.29167%\n",
      "Speaker Validating Correct: 48/96 \n",
      "Speaker Validating Accuracy: 50.00000%\n",
      "\n",
      "Current Fold: 2 | Epoch: 77\n"
     ]
    },
    {
     "name": "stdout",
     "output_type": "stream",
     "text": [
      "Emotion Training Correct: 252/320 \n",
      "Emotion Training Accuracy: 78.75000%\n",
      "Speaker Training Correct: 0/320 \n",
      "Speaker Training Accuracy: 0.00000%\n"
     ]
    },
    {
     "name": "stdout",
     "output_type": "stream",
     "text": [
      "\n",
      "Emotion Validating Correct: 54/96 \n",
      "Emotion Validating Accuracy: 56.25000%\n",
      "Speaker Validating Correct: 46/96 \n",
      "Speaker Validating Accuracy: 47.91667%\n",
      "\n",
      "Current Fold: 2 | Epoch: 78\n"
     ]
    },
    {
     "name": "stdout",
     "output_type": "stream",
     "text": [
      "Emotion Training Correct: 263/320 \n",
      "Emotion Training Accuracy: 82.18750%\n",
      "Speaker Training Correct: 0/320 \n",
      "Speaker Training Accuracy: 0.00000%\n"
     ]
    },
    {
     "name": "stdout",
     "output_type": "stream",
     "text": [
      "\n",
      "Emotion Validating Correct: 50/96 \n",
      "Emotion Validating Accuracy: 52.08333%\n",
      "Speaker Validating Correct: 45/96 \n",
      "Speaker Validating Accuracy: 46.87500%\n",
      "\n",
      "Current Fold: 2 | Epoch: 79\n"
     ]
    },
    {
     "name": "stdout",
     "output_type": "stream",
     "text": [
      "Emotion Training Correct: 264/320 \n",
      "Emotion Training Accuracy: 82.50000%\n",
      "Speaker Training Correct: 0/320 \n",
      "Speaker Training Accuracy: 0.00000%\n"
     ]
    },
    {
     "name": "stdout",
     "output_type": "stream",
     "text": [
      "\n",
      "Emotion Validating Correct: 51/96 \n",
      "Emotion Validating Accuracy: 53.12500%\n",
      "Speaker Validating Correct: 47/96 \n",
      "Speaker Validating Accuracy: 48.95833%\n",
      "\n",
      "Current Fold: 2 | Epoch: 80\n"
     ]
    },
    {
     "name": "stdout",
     "output_type": "stream",
     "text": [
      "Emotion Training Correct: 250/320 \n",
      "Emotion Training Accuracy: 78.12500%\n",
      "Speaker Training Correct: 0/320 \n",
      "Speaker Training Accuracy: 0.00000%\n"
     ]
    },
    {
     "name": "stdout",
     "output_type": "stream",
     "text": [
      "\n",
      "Emotion Validating Correct: 55/96 \n",
      "Emotion Validating Accuracy: 57.29167%\n",
      "Speaker Validating Correct: 51/96 \n",
      "Speaker Validating Accuracy: 53.12500%\n",
      "\n",
      "Current Fold: 2 | Epoch: 81\n"
     ]
    },
    {
     "name": "stdout",
     "output_type": "stream",
     "text": [
      "Emotion Training Correct: 264/320 \n",
      "Emotion Training Accuracy: 82.50000%\n",
      "Speaker Training Correct: 0/320 \n",
      "Speaker Training Accuracy: 0.00000%\n"
     ]
    },
    {
     "name": "stdout",
     "output_type": "stream",
     "text": [
      "\n",
      "Emotion Validating Correct: 50/96 \n",
      "Emotion Validating Accuracy: 52.08333%\n",
      "Speaker Validating Correct: 48/96 \n",
      "Speaker Validating Accuracy: 50.00000%\n",
      "\n",
      "Current Fold: 2 | Epoch: 82\n"
     ]
    },
    {
     "name": "stdout",
     "output_type": "stream",
     "text": [
      "Emotion Training Correct: 267/320 \n",
      "Emotion Training Accuracy: 83.43750%\n",
      "Speaker Training Correct: 0/320 \n",
      "Speaker Training Accuracy: 0.00000%\n"
     ]
    },
    {
     "name": "stdout",
     "output_type": "stream",
     "text": [
      "\n",
      "Emotion Validating Correct: 58/96 \n",
      "Emotion Validating Accuracy: 60.41667%\n",
      "Speaker Validating Correct: 43/96 \n",
      "Speaker Validating Accuracy: 44.79167%\n",
      "\n",
      "Current Fold: 2 | Epoch: 83\n"
     ]
    },
    {
     "name": "stdout",
     "output_type": "stream",
     "text": [
      "Emotion Training Correct: 248/320 \n",
      "Emotion Training Accuracy: 77.50000%\n",
      "Speaker Training Correct: 0/320 \n",
      "Speaker Training Accuracy: 0.00000%\n"
     ]
    },
    {
     "name": "stdout",
     "output_type": "stream",
     "text": [
      "\n",
      "Emotion Validating Correct: 51/96 \n",
      "Emotion Validating Accuracy: 53.12500%\n",
      "Speaker Validating Correct: 39/96 \n",
      "Speaker Validating Accuracy: 40.62500%\n",
      "\n",
      "Current Fold: 2 | Epoch: 84\n"
     ]
    },
    {
     "name": "stdout",
     "output_type": "stream",
     "text": [
      "Emotion Training Correct: 262/320 \n",
      "Emotion Training Accuracy: 81.87500%\n",
      "Speaker Training Correct: 0/320 \n",
      "Speaker Training Accuracy: 0.00000%\n"
     ]
    },
    {
     "name": "stdout",
     "output_type": "stream",
     "text": [
      "\n",
      "Emotion Validating Correct: 52/96 \n",
      "Emotion Validating Accuracy: 54.16667%\n",
      "Speaker Validating Correct: 51/96 \n",
      "Speaker Validating Accuracy: 53.12500%\n",
      "\n",
      "Current Fold: 2 | Epoch: 85\n"
     ]
    },
    {
     "name": "stdout",
     "output_type": "stream",
     "text": [
      "Emotion Training Correct: 251/320 \n",
      "Emotion Training Accuracy: 78.43750%\n",
      "Speaker Training Correct: 0/320 \n",
      "Speaker Training Accuracy: 0.00000%\n"
     ]
    },
    {
     "name": "stdout",
     "output_type": "stream",
     "text": [
      "\n",
      "Emotion Validating Correct: 48/96 \n",
      "Emotion Validating Accuracy: 50.00000%\n",
      "Speaker Validating Correct: 53/96 \n",
      "Speaker Validating Accuracy: 55.20833%\n",
      "\n",
      "Current Fold: 2 | Epoch: 86\n"
     ]
    },
    {
     "name": "stdout",
     "output_type": "stream",
     "text": [
      "Emotion Training Correct: 250/320 \n",
      "Emotion Training Accuracy: 78.12500%\n",
      "Speaker Training Correct: 0/320 \n",
      "Speaker Training Accuracy: 0.00000%\n"
     ]
    },
    {
     "name": "stdout",
     "output_type": "stream",
     "text": [
      "\n",
      "Emotion Validating Correct: 55/96 \n",
      "Emotion Validating Accuracy: 57.29167%\n",
      "Speaker Validating Correct: 47/96 \n",
      "Speaker Validating Accuracy: 48.95833%\n",
      "\n",
      "Current Fold: 2 | Epoch: 87\n"
     ]
    },
    {
     "name": "stdout",
     "output_type": "stream",
     "text": [
      "Emotion Training Correct: 257/320 \n",
      "Emotion Training Accuracy: 80.31250%\n",
      "Speaker Training Correct: 0/320 \n",
      "Speaker Training Accuracy: 0.00000%\n"
     ]
    },
    {
     "name": "stdout",
     "output_type": "stream",
     "text": [
      "\n",
      "Emotion Validating Correct: 56/96 \n",
      "Emotion Validating Accuracy: 58.33333%\n",
      "Speaker Validating Correct: 52/96 \n",
      "Speaker Validating Accuracy: 54.16667%\n",
      "\n",
      "Current Fold: 2 | Epoch: 88\n"
     ]
    },
    {
     "name": "stdout",
     "output_type": "stream",
     "text": [
      "Emotion Training Correct: 249/320 \n",
      "Emotion Training Accuracy: 77.81250%\n",
      "Speaker Training Correct: 0/320 \n",
      "Speaker Training Accuracy: 0.00000%\n"
     ]
    },
    {
     "name": "stdout",
     "output_type": "stream",
     "text": [
      "\n",
      "Emotion Validating Correct: 53/96 \n",
      "Emotion Validating Accuracy: 55.20833%\n",
      "Speaker Validating Correct: 47/96 \n",
      "Speaker Validating Accuracy: 48.95833%\n",
      "\n",
      "Current Fold: 2 | Epoch: 89\n"
     ]
    },
    {
     "name": "stdout",
     "output_type": "stream",
     "text": [
      "Emotion Training Correct: 268/320 \n",
      "Emotion Training Accuracy: 83.75000%\n",
      "Speaker Training Correct: 0/320 \n",
      "Speaker Training Accuracy: 0.00000%\n"
     ]
    },
    {
     "name": "stdout",
     "output_type": "stream",
     "text": [
      "\n",
      "Emotion Validating Correct: 61/96 \n",
      "Emotion Validating Accuracy: 63.54167%\n",
      "Speaker Validating Correct: 45/96 \n",
      "Speaker Validating Accuracy: 46.87500%\n",
      "Models' parameters and optimisers' parameters saved.\n",
      "\n",
      "Current Fold: 2 | Epoch: 90\n"
     ]
    },
    {
     "name": "stdout",
     "output_type": "stream",
     "text": [
      "Emotion Training Correct: 254/320 \n",
      "Emotion Training Accuracy: 79.37500%\n",
      "Speaker Training Correct: 0/320 \n",
      "Speaker Training Accuracy: 0.00000%\n"
     ]
    },
    {
     "name": "stdout",
     "output_type": "stream",
     "text": [
      "\n",
      "Emotion Validating Correct: 51/96 \n",
      "Emotion Validating Accuracy: 53.12500%\n",
      "Speaker Validating Correct: 49/96 \n",
      "Speaker Validating Accuracy: 51.04167%\n",
      "\n",
      "Current Fold: 2 | Epoch: 91\n"
     ]
    },
    {
     "name": "stdout",
     "output_type": "stream",
     "text": [
      "Emotion Training Correct: 252/320 \n",
      "Emotion Training Accuracy: 78.75000%\n",
      "Speaker Training Correct: 0/320 \n",
      "Speaker Training Accuracy: 0.00000%\n"
     ]
    },
    {
     "name": "stdout",
     "output_type": "stream",
     "text": [
      "\n",
      "Emotion Validating Correct: 51/96 \n",
      "Emotion Validating Accuracy: 53.12500%\n",
      "Speaker Validating Correct: 48/96 \n",
      "Speaker Validating Accuracy: 50.00000%\n",
      "\n",
      "Current Fold: 2 | Epoch: 92\n"
     ]
    },
    {
     "name": "stdout",
     "output_type": "stream",
     "text": [
      "Emotion Training Correct: 257/320 \n",
      "Emotion Training Accuracy: 80.31250%\n",
      "Speaker Training Correct: 0/320 \n",
      "Speaker Training Accuracy: 0.00000%\n"
     ]
    },
    {
     "name": "stdout",
     "output_type": "stream",
     "text": [
      "\n",
      "Emotion Validating Correct: 53/96 \n",
      "Emotion Validating Accuracy: 55.20833%\n",
      "Speaker Validating Correct: 51/96 \n",
      "Speaker Validating Accuracy: 53.12500%\n",
      "\n",
      "Current Fold: 2 | Epoch: 93\n"
     ]
    },
    {
     "name": "stdout",
     "output_type": "stream",
     "text": [
      "Emotion Training Correct: 263/320 \n",
      "Emotion Training Accuracy: 82.18750%\n",
      "Speaker Training Correct: 0/320 \n",
      "Speaker Training Accuracy: 0.00000%\n"
     ]
    },
    {
     "name": "stdout",
     "output_type": "stream",
     "text": [
      "\n",
      "Emotion Validating Correct: 51/96 \n",
      "Emotion Validating Accuracy: 53.12500%\n",
      "Speaker Validating Correct: 50/96 \n",
      "Speaker Validating Accuracy: 52.08333%\n",
      "\n",
      "Current Fold: 2 | Epoch: 94\n"
     ]
    },
    {
     "name": "stdout",
     "output_type": "stream",
     "text": [
      "Emotion Training Correct: 267/320 \n",
      "Emotion Training Accuracy: 83.43750%\n",
      "Speaker Training Correct: 0/320 \n",
      "Speaker Training Accuracy: 0.00000%\n"
     ]
    },
    {
     "name": "stdout",
     "output_type": "stream",
     "text": [
      "\n",
      "Emotion Validating Correct: 58/96 \n",
      "Emotion Validating Accuracy: 60.41667%\n",
      "Speaker Validating Correct: 47/96 \n",
      "Speaker Validating Accuracy: 48.95833%\n",
      "\n",
      "Current Fold: 2 | Epoch: 95\n"
     ]
    },
    {
     "name": "stdout",
     "output_type": "stream",
     "text": [
      "Emotion Training Correct: 267/320 \n",
      "Emotion Training Accuracy: 83.43750%\n",
      "Speaker Training Correct: 0/320 \n",
      "Speaker Training Accuracy: 0.00000%\n"
     ]
    },
    {
     "name": "stdout",
     "output_type": "stream",
     "text": [
      "\n",
      "Emotion Validating Correct: 50/96 \n",
      "Emotion Validating Accuracy: 52.08333%\n",
      "Speaker Validating Correct: 49/96 \n",
      "Speaker Validating Accuracy: 51.04167%\n",
      "\n",
      "Current Fold: 2 | Epoch: 96\n"
     ]
    },
    {
     "name": "stdout",
     "output_type": "stream",
     "text": [
      "Emotion Training Correct: 270/320 \n",
      "Emotion Training Accuracy: 84.37500%\n",
      "Speaker Training Correct: 0/320 \n",
      "Speaker Training Accuracy: 0.00000%\n"
     ]
    },
    {
     "name": "stdout",
     "output_type": "stream",
     "text": [
      "\n",
      "Emotion Validating Correct: 50/96 \n",
      "Emotion Validating Accuracy: 52.08333%\n",
      "Speaker Validating Correct: 51/96 \n",
      "Speaker Validating Accuracy: 53.12500%\n",
      "\n",
      "Current Fold: 2 | Epoch: 97\n"
     ]
    },
    {
     "name": "stdout",
     "output_type": "stream",
     "text": [
      "Emotion Training Correct: 270/320 \n",
      "Emotion Training Accuracy: 84.37500%\n",
      "Speaker Training Correct: 0/320 \n",
      "Speaker Training Accuracy: 0.00000%\n"
     ]
    },
    {
     "name": "stdout",
     "output_type": "stream",
     "text": [
      "\n",
      "Emotion Validating Correct: 53/96 \n",
      "Emotion Validating Accuracy: 55.20833%\n",
      "Speaker Validating Correct: 52/96 \n",
      "Speaker Validating Accuracy: 54.16667%\n",
      "\n",
      "Current Fold: 2 | Epoch: 98\n"
     ]
    },
    {
     "name": "stdout",
     "output_type": "stream",
     "text": [
      "Emotion Training Correct: 259/320 \n",
      "Emotion Training Accuracy: 80.93750%\n",
      "Speaker Training Correct: 0/320 \n",
      "Speaker Training Accuracy: 0.00000%\n"
     ]
    },
    {
     "name": "stdout",
     "output_type": "stream",
     "text": [
      "\n",
      "Emotion Validating Correct: 53/96 \n",
      "Emotion Validating Accuracy: 55.20833%\n",
      "Speaker Validating Correct: 52/96 \n",
      "Speaker Validating Accuracy: 54.16667%\n",
      "\n",
      "Current Fold: 2 | Epoch: 99\n"
     ]
    },
    {
     "name": "stdout",
     "output_type": "stream",
     "text": [
      "Emotion Training Correct: 272/320 \n",
      "Emotion Training Accuracy: 85.00000%\n",
      "Speaker Training Correct: 0/320 \n",
      "Speaker Training Accuracy: 0.00000%\n"
     ]
    },
    {
     "name": "stdout",
     "output_type": "stream",
     "text": [
      "\n",
      "Emotion Validating Correct: 59/96 \n",
      "Emotion Validating Accuracy: 61.45833%\n",
      "Speaker Validating Correct: 49/96 \n",
      "Speaker Validating Accuracy: 51.04167%\n"
     ]
    },
    {
     "name": "stdout",
     "output_type": "stream",
     "text": [
      "\n",
      "Current Fold: 3 | Epoch: 0\n"
     ]
    },
    {
     "name": "stdout",
     "output_type": "stream",
     "text": [
      "Emotion Training Correct: 50/320 \n",
      "Emotion Training Accuracy: 15.62500%\n",
      "Speaker Training Correct: 0/320 \n",
      "Speaker Training Accuracy: 0.00000%\n"
     ]
    },
    {
     "name": "stdout",
     "output_type": "stream",
     "text": [
      "\n",
      "Emotion Validating Correct: 19/107 \n",
      "Emotion Validating Accuracy: 17.75701%\n",
      "Speaker Validating Correct: 55/107 \n",
      "Speaker Validating Accuracy: 51.40187%\n",
      "\n",
      "Current Fold: 3 | Epoch: 1\n"
     ]
    },
    {
     "name": "stdout",
     "output_type": "stream",
     "text": [
      "Emotion Training Correct: 52/320 \n",
      "Emotion Training Accuracy: 16.25000%\n",
      "Speaker Training Correct: 0/320 \n",
      "Speaker Training Accuracy: 0.00000%\n"
     ]
    },
    {
     "name": "stdout",
     "output_type": "stream",
     "text": [
      "\n",
      "Emotion Validating Correct: 21/107 \n",
      "Emotion Validating Accuracy: 19.62617%\n",
      "Speaker Validating Correct: 39/107 \n",
      "Speaker Validating Accuracy: 36.44860%\n",
      "Models' parameters and optimisers' parameters saved.\n",
      "\n",
      "Current Fold: 3 | Epoch: 2\n"
     ]
    },
    {
     "name": "stdout",
     "output_type": "stream",
     "text": [
      "Emotion Training Correct: 99/320 \n",
      "Emotion Training Accuracy: 30.93750%\n",
      "Speaker Training Correct: 0/320 \n",
      "Speaker Training Accuracy: 0.00000%\n"
     ]
    },
    {
     "name": "stdout",
     "output_type": "stream",
     "text": [
      "\n",
      "Emotion Validating Correct: 28/107 \n",
      "Emotion Validating Accuracy: 26.16822%\n",
      "Speaker Validating Correct: 15/107 \n",
      "Speaker Validating Accuracy: 14.01869%\n",
      "Models' parameters and optimisers' parameters saved.\n",
      "\n",
      "Current Fold: 3 | Epoch: 3\n"
     ]
    },
    {
     "name": "stdout",
     "output_type": "stream",
     "text": [
      "Emotion Training Correct: 82/320 \n",
      "Emotion Training Accuracy: 25.62500%\n",
      "Speaker Training Correct: 0/320 \n",
      "Speaker Training Accuracy: 0.00000%\n"
     ]
    },
    {
     "name": "stdout",
     "output_type": "stream",
     "text": [
      "\n",
      "Emotion Validating Correct: 26/107 \n",
      "Emotion Validating Accuracy: 24.29907%\n",
      "Speaker Validating Correct: 26/107 \n",
      "Speaker Validating Accuracy: 24.29907%\n",
      "\n",
      "Current Fold: 3 | Epoch: 4\n"
     ]
    },
    {
     "name": "stdout",
     "output_type": "stream",
     "text": [
      "Emotion Training Correct: 83/320 \n",
      "Emotion Training Accuracy: 25.93750%\n",
      "Speaker Training Correct: 0/320 \n",
      "Speaker Training Accuracy: 0.00000%\n"
     ]
    },
    {
     "name": "stdout",
     "output_type": "stream",
     "text": [
      "\n",
      "Emotion Validating Correct: 28/107 \n",
      "Emotion Validating Accuracy: 26.16822%\n",
      "Speaker Validating Correct: 31/107 \n",
      "Speaker Validating Accuracy: 28.97196%\n",
      "Models' parameters and optimisers' parameters saved.\n",
      "\n",
      "Current Fold: 3 | Epoch: 5\n"
     ]
    },
    {
     "name": "stdout",
     "output_type": "stream",
     "text": [
      "Emotion Training Correct: 82/320 \n",
      "Emotion Training Accuracy: 25.62500%\n",
      "Speaker Training Correct: 0/320 \n",
      "Speaker Training Accuracy: 0.00000%\n"
     ]
    },
    {
     "name": "stdout",
     "output_type": "stream",
     "text": [
      "\n",
      "Emotion Validating Correct: 19/107 \n",
      "Emotion Validating Accuracy: 17.75701%\n",
      "Speaker Validating Correct: 39/107 \n",
      "Speaker Validating Accuracy: 36.44860%\n",
      "\n",
      "Current Fold: 3 | Epoch: 6\n"
     ]
    },
    {
     "name": "stdout",
     "output_type": "stream",
     "text": [
      "Emotion Training Correct: 89/320 \n",
      "Emotion Training Accuracy: 27.81250%\n",
      "Speaker Training Correct: 0/320 \n",
      "Speaker Training Accuracy: 0.00000%\n"
     ]
    },
    {
     "name": "stdout",
     "output_type": "stream",
     "text": [
      "\n",
      "Emotion Validating Correct: 32/107 \n",
      "Emotion Validating Accuracy: 29.90654%\n",
      "Speaker Validating Correct: 35/107 \n",
      "Speaker Validating Accuracy: 32.71028%\n",
      "Models' parameters and optimisers' parameters saved.\n",
      "\n",
      "Current Fold: 3 | Epoch: 7\n"
     ]
    },
    {
     "name": "stdout",
     "output_type": "stream",
     "text": [
      "Emotion Training Correct: 105/320 \n",
      "Emotion Training Accuracy: 32.81250%\n",
      "Speaker Training Correct: 0/320 \n",
      "Speaker Training Accuracy: 0.00000%\n"
     ]
    },
    {
     "name": "stdout",
     "output_type": "stream",
     "text": [
      "\n",
      "Emotion Validating Correct: 39/107 \n",
      "Emotion Validating Accuracy: 36.44860%\n",
      "Speaker Validating Correct: 29/107 \n",
      "Speaker Validating Accuracy: 27.10280%\n",
      "Models' parameters and optimisers' parameters saved.\n",
      "\n",
      "Current Fold: 3 | Epoch: 8\n"
     ]
    },
    {
     "name": "stdout",
     "output_type": "stream",
     "text": [
      "Emotion Training Correct: 94/320 \n",
      "Emotion Training Accuracy: 29.37500%\n",
      "Speaker Training Correct: 0/320 \n",
      "Speaker Training Accuracy: 0.00000%\n"
     ]
    },
    {
     "name": "stdout",
     "output_type": "stream",
     "text": [
      "\n",
      "Emotion Validating Correct: 38/107 \n",
      "Emotion Validating Accuracy: 35.51402%\n",
      "Speaker Validating Correct: 29/107 \n",
      "Speaker Validating Accuracy: 27.10280%\n",
      "\n",
      "Current Fold: 3 | Epoch: 9\n"
     ]
    },
    {
     "name": "stdout",
     "output_type": "stream",
     "text": [
      "Emotion Training Correct: 130/320 \n",
      "Emotion Training Accuracy: 40.62500%\n",
      "Speaker Training Correct: 0/320 \n",
      "Speaker Training Accuracy: 0.00000%\n"
     ]
    },
    {
     "name": "stdout",
     "output_type": "stream",
     "text": [
      "\n",
      "Emotion Validating Correct: 51/107 \n",
      "Emotion Validating Accuracy: 47.66355%\n",
      "Speaker Validating Correct: 31/107 \n",
      "Speaker Validating Accuracy: 28.97196%\n",
      "Models' parameters and optimisers' parameters saved.\n",
      "\n",
      "Current Fold: 3 | Epoch: 10\n"
     ]
    },
    {
     "name": "stdout",
     "output_type": "stream",
     "text": [
      "Emotion Training Correct: 137/320 \n",
      "Emotion Training Accuracy: 42.81250%\n",
      "Speaker Training Correct: 0/320 \n",
      "Speaker Training Accuracy: 0.00000%\n"
     ]
    },
    {
     "name": "stdout",
     "output_type": "stream",
     "text": [
      "\n",
      "Emotion Validating Correct: 51/107 \n",
      "Emotion Validating Accuracy: 47.66355%\n",
      "Speaker Validating Correct: 39/107 \n",
      "Speaker Validating Accuracy: 36.44860%\n",
      "Models' parameters and optimisers' parameters saved.\n",
      "\n",
      "Current Fold: 3 | Epoch: 11\n"
     ]
    },
    {
     "name": "stdout",
     "output_type": "stream",
     "text": [
      "Emotion Training Correct: 136/320 \n",
      "Emotion Training Accuracy: 42.50000%\n",
      "Speaker Training Correct: 0/320 \n",
      "Speaker Training Accuracy: 0.00000%\n"
     ]
    },
    {
     "name": "stdout",
     "output_type": "stream",
     "text": [
      "\n",
      "Emotion Validating Correct: 51/107 \n",
      "Emotion Validating Accuracy: 47.66355%\n",
      "Speaker Validating Correct: 36/107 \n",
      "Speaker Validating Accuracy: 33.64486%\n",
      "Models' parameters and optimisers' parameters saved.\n",
      "\n",
      "Current Fold: 3 | Epoch: 12\n"
     ]
    },
    {
     "name": "stdout",
     "output_type": "stream",
     "text": [
      "Emotion Training Correct: 128/320 \n",
      "Emotion Training Accuracy: 40.00000%\n",
      "Speaker Training Correct: 0/320 \n",
      "Speaker Training Accuracy: 0.00000%\n"
     ]
    },
    {
     "name": "stdout",
     "output_type": "stream",
     "text": [
      "\n",
      "Emotion Validating Correct: 55/107 \n",
      "Emotion Validating Accuracy: 51.40187%\n",
      "Speaker Validating Correct: 34/107 \n",
      "Speaker Validating Accuracy: 31.77570%\n",
      "Models' parameters and optimisers' parameters saved.\n",
      "\n",
      "Current Fold: 3 | Epoch: 13\n"
     ]
    },
    {
     "name": "stdout",
     "output_type": "stream",
     "text": [
      "Emotion Training Correct: 138/320 \n",
      "Emotion Training Accuracy: 43.12500%\n",
      "Speaker Training Correct: 0/320 \n",
      "Speaker Training Accuracy: 0.00000%\n"
     ]
    },
    {
     "name": "stdout",
     "output_type": "stream",
     "text": [
      "\n",
      "Emotion Validating Correct: 55/107 \n",
      "Emotion Validating Accuracy: 51.40187%\n",
      "Speaker Validating Correct: 35/107 \n",
      "Speaker Validating Accuracy: 32.71028%\n",
      "Models' parameters and optimisers' parameters saved.\n",
      "\n",
      "Current Fold: 3 | Epoch: 14\n"
     ]
    },
    {
     "name": "stdout",
     "output_type": "stream",
     "text": [
      "Emotion Training Correct: 142/320 \n",
      "Emotion Training Accuracy: 44.37500%\n",
      "Speaker Training Correct: 0/320 \n",
      "Speaker Training Accuracy: 0.00000%\n"
     ]
    },
    {
     "name": "stdout",
     "output_type": "stream",
     "text": [
      "\n",
      "Emotion Validating Correct: 59/107 \n",
      "Emotion Validating Accuracy: 55.14019%\n",
      "Speaker Validating Correct: 34/107 \n",
      "Speaker Validating Accuracy: 31.77570%\n",
      "Models' parameters and optimisers' parameters saved.\n",
      "\n",
      "Current Fold: 3 | Epoch: 15\n"
     ]
    },
    {
     "name": "stdout",
     "output_type": "stream",
     "text": [
      "Emotion Training Correct: 144/320 \n",
      "Emotion Training Accuracy: 45.00000%\n",
      "Speaker Training Correct: 0/320 \n",
      "Speaker Training Accuracy: 0.00000%\n"
     ]
    },
    {
     "name": "stdout",
     "output_type": "stream",
     "text": [
      "\n",
      "Emotion Validating Correct: 57/107 \n",
      "Emotion Validating Accuracy: 53.27103%\n",
      "Speaker Validating Correct: 38/107 \n",
      "Speaker Validating Accuracy: 35.51402%\n",
      "\n",
      "Current Fold: 3 | Epoch: 16\n"
     ]
    },
    {
     "name": "stdout",
     "output_type": "stream",
     "text": [
      "Emotion Training Correct: 147/320 \n",
      "Emotion Training Accuracy: 45.93750%\n",
      "Speaker Training Correct: 0/320 \n",
      "Speaker Training Accuracy: 0.00000%\n"
     ]
    },
    {
     "name": "stdout",
     "output_type": "stream",
     "text": [
      "\n",
      "Emotion Validating Correct: 61/107 \n",
      "Emotion Validating Accuracy: 57.00935%\n",
      "Speaker Validating Correct: 35/107 \n",
      "Speaker Validating Accuracy: 32.71028%\n",
      "Models' parameters and optimisers' parameters saved.\n",
      "\n",
      "Current Fold: 3 | Epoch: 17\n"
     ]
    },
    {
     "name": "stdout",
     "output_type": "stream",
     "text": [
      "Emotion Training Correct: 150/320 \n",
      "Emotion Training Accuracy: 46.87500%\n",
      "Speaker Training Correct: 0/320 \n",
      "Speaker Training Accuracy: 0.00000%\n"
     ]
    },
    {
     "name": "stdout",
     "output_type": "stream",
     "text": [
      "\n",
      "Emotion Validating Correct: 62/107 \n",
      "Emotion Validating Accuracy: 57.94393%\n",
      "Speaker Validating Correct: 33/107 \n",
      "Speaker Validating Accuracy: 30.84112%\n",
      "Models' parameters and optimisers' parameters saved.\n",
      "\n",
      "Current Fold: 3 | Epoch: 18\n"
     ]
    },
    {
     "name": "stdout",
     "output_type": "stream",
     "text": [
      "Emotion Training Correct: 159/320 \n",
      "Emotion Training Accuracy: 49.68750%\n",
      "Speaker Training Correct: 0/320 \n",
      "Speaker Training Accuracy: 0.00000%\n"
     ]
    },
    {
     "name": "stdout",
     "output_type": "stream",
     "text": [
      "\n",
      "Emotion Validating Correct: 57/107 \n",
      "Emotion Validating Accuracy: 53.27103%\n",
      "Speaker Validating Correct: 32/107 \n",
      "Speaker Validating Accuracy: 29.90654%\n",
      "\n",
      "Current Fold: 3 | Epoch: 19\n"
     ]
    },
    {
     "name": "stdout",
     "output_type": "stream",
     "text": [
      "Emotion Training Correct: 162/320 \n",
      "Emotion Training Accuracy: 50.62500%\n",
      "Speaker Training Correct: 0/320 \n",
      "Speaker Training Accuracy: 0.00000%\n"
     ]
    },
    {
     "name": "stdout",
     "output_type": "stream",
     "text": [
      "\n",
      "Emotion Validating Correct: 61/107 \n",
      "Emotion Validating Accuracy: 57.00935%\n",
      "Speaker Validating Correct: 30/107 \n",
      "Speaker Validating Accuracy: 28.03738%\n",
      "\n",
      "Current Fold: 3 | Epoch: 20\n"
     ]
    },
    {
     "name": "stdout",
     "output_type": "stream",
     "text": [
      "Emotion Training Correct: 167/320 \n",
      "Emotion Training Accuracy: 52.18750%\n",
      "Speaker Training Correct: 0/320 \n",
      "Speaker Training Accuracy: 0.00000%\n"
     ]
    },
    {
     "name": "stdout",
     "output_type": "stream",
     "text": [
      "\n",
      "Emotion Validating Correct: 58/107 \n",
      "Emotion Validating Accuracy: 54.20561%\n",
      "Speaker Validating Correct: 34/107 \n",
      "Speaker Validating Accuracy: 31.77570%\n",
      "\n",
      "Current Fold: 3 | Epoch: 21\n"
     ]
    },
    {
     "name": "stdout",
     "output_type": "stream",
     "text": [
      "Emotion Training Correct: 161/320 \n",
      "Emotion Training Accuracy: 50.31250%\n",
      "Speaker Training Correct: 0/320 \n",
      "Speaker Training Accuracy: 0.00000%\n"
     ]
    },
    {
     "name": "stdout",
     "output_type": "stream",
     "text": [
      "\n",
      "Emotion Validating Correct: 60/107 \n",
      "Emotion Validating Accuracy: 56.07477%\n",
      "Speaker Validating Correct: 31/107 \n",
      "Speaker Validating Accuracy: 28.97196%\n",
      "\n",
      "Current Fold: 3 | Epoch: 22\n"
     ]
    },
    {
     "name": "stdout",
     "output_type": "stream",
     "text": [
      "Emotion Training Correct: 151/320 \n",
      "Emotion Training Accuracy: 47.18750%\n",
      "Speaker Training Correct: 0/320 \n",
      "Speaker Training Accuracy: 0.00000%\n"
     ]
    },
    {
     "name": "stdout",
     "output_type": "stream",
     "text": [
      "\n",
      "Emotion Validating Correct: 56/107 \n",
      "Emotion Validating Accuracy: 52.33645%\n",
      "Speaker Validating Correct: 31/107 \n",
      "Speaker Validating Accuracy: 28.97196%\n",
      "\n",
      "Current Fold: 3 | Epoch: 23\n"
     ]
    },
    {
     "name": "stdout",
     "output_type": "stream",
     "text": [
      "Emotion Training Correct: 150/320 \n",
      "Emotion Training Accuracy: 46.87500%\n",
      "Speaker Training Correct: 0/320 \n",
      "Speaker Training Accuracy: 0.00000%\n"
     ]
    },
    {
     "name": "stdout",
     "output_type": "stream",
     "text": [
      "\n",
      "Emotion Validating Correct: 57/107 \n",
      "Emotion Validating Accuracy: 53.27103%\n",
      "Speaker Validating Correct: 25/107 \n",
      "Speaker Validating Accuracy: 23.36449%\n",
      "\n",
      "Current Fold: 3 | Epoch: 24\n"
     ]
    },
    {
     "name": "stdout",
     "output_type": "stream",
     "text": [
      "Emotion Training Correct: 152/320 \n",
      "Emotion Training Accuracy: 47.50000%\n",
      "Speaker Training Correct: 0/320 \n",
      "Speaker Training Accuracy: 0.00000%\n"
     ]
    },
    {
     "name": "stdout",
     "output_type": "stream",
     "text": [
      "\n",
      "Emotion Validating Correct: 60/107 \n",
      "Emotion Validating Accuracy: 56.07477%\n",
      "Speaker Validating Correct: 41/107 \n",
      "Speaker Validating Accuracy: 38.31776%\n",
      "\n",
      "Current Fold: 3 | Epoch: 25\n"
     ]
    },
    {
     "name": "stdout",
     "output_type": "stream",
     "text": [
      "Emotion Training Correct: 154/320 \n",
      "Emotion Training Accuracy: 48.12500%\n",
      "Speaker Training Correct: 0/320 \n",
      "Speaker Training Accuracy: 0.00000%\n"
     ]
    },
    {
     "name": "stdout",
     "output_type": "stream",
     "text": [
      "\n",
      "Emotion Validating Correct: 63/107 \n",
      "Emotion Validating Accuracy: 58.87850%\n",
      "Speaker Validating Correct: 30/107 \n",
      "Speaker Validating Accuracy: 28.03738%\n",
      "Models' parameters and optimisers' parameters saved.\n",
      "\n",
      "Current Fold: 3 | Epoch: 26\n"
     ]
    },
    {
     "name": "stdout",
     "output_type": "stream",
     "text": [
      "Emotion Training Correct: 161/320 \n",
      "Emotion Training Accuracy: 50.31250%\n",
      "Speaker Training Correct: 0/320 \n",
      "Speaker Training Accuracy: 0.00000%\n"
     ]
    },
    {
     "name": "stdout",
     "output_type": "stream",
     "text": [
      "\n",
      "Emotion Validating Correct: 63/107 \n",
      "Emotion Validating Accuracy: 58.87850%\n",
      "Speaker Validating Correct: 27/107 \n",
      "Speaker Validating Accuracy: 25.23364%\n",
      "Models' parameters and optimisers' parameters saved.\n",
      "\n",
      "Current Fold: 3 | Epoch: 27\n"
     ]
    },
    {
     "name": "stdout",
     "output_type": "stream",
     "text": [
      "Emotion Training Correct: 166/320 \n",
      "Emotion Training Accuracy: 51.87500%\n",
      "Speaker Training Correct: 0/320 \n",
      "Speaker Training Accuracy: 0.00000%\n"
     ]
    },
    {
     "name": "stdout",
     "output_type": "stream",
     "text": [
      "\n",
      "Emotion Validating Correct: 62/107 \n",
      "Emotion Validating Accuracy: 57.94393%\n",
      "Speaker Validating Correct: 30/107 \n",
      "Speaker Validating Accuracy: 28.03738%\n",
      "\n",
      "Current Fold: 3 | Epoch: 28\n"
     ]
    },
    {
     "name": "stdout",
     "output_type": "stream",
     "text": [
      "Emotion Training Correct: 167/320 \n",
      "Emotion Training Accuracy: 52.18750%\n",
      "Speaker Training Correct: 0/320 \n",
      "Speaker Training Accuracy: 0.00000%\n"
     ]
    },
    {
     "name": "stdout",
     "output_type": "stream",
     "text": [
      "\n",
      "Emotion Validating Correct: 63/107 \n",
      "Emotion Validating Accuracy: 58.87850%\n",
      "Speaker Validating Correct: 29/107 \n",
      "Speaker Validating Accuracy: 27.10280%\n",
      "Models' parameters and optimisers' parameters saved.\n",
      "\n",
      "Current Fold: 3 | Epoch: 29\n"
     ]
    },
    {
     "name": "stdout",
     "output_type": "stream",
     "text": [
      "Emotion Training Correct: 162/320 \n",
      "Emotion Training Accuracy: 50.62500%\n",
      "Speaker Training Correct: 0/320 \n",
      "Speaker Training Accuracy: 0.00000%\n"
     ]
    },
    {
     "name": "stdout",
     "output_type": "stream",
     "text": [
      "\n",
      "Emotion Validating Correct: 61/107 \n",
      "Emotion Validating Accuracy: 57.00935%\n",
      "Speaker Validating Correct: 26/107 \n",
      "Speaker Validating Accuracy: 24.29907%\n",
      "\n",
      "Current Fold: 3 | Epoch: 30\n"
     ]
    },
    {
     "name": "stdout",
     "output_type": "stream",
     "text": [
      "Emotion Training Correct: 157/320 \n",
      "Emotion Training Accuracy: 49.06250%\n",
      "Speaker Training Correct: 0/320 \n",
      "Speaker Training Accuracy: 0.00000%\n"
     ]
    },
    {
     "name": "stdout",
     "output_type": "stream",
     "text": [
      "\n",
      "Emotion Validating Correct: 52/107 \n",
      "Emotion Validating Accuracy: 48.59813%\n",
      "Speaker Validating Correct: 35/107 \n",
      "Speaker Validating Accuracy: 32.71028%\n",
      "\n",
      "Current Fold: 3 | Epoch: 31\n"
     ]
    },
    {
     "name": "stdout",
     "output_type": "stream",
     "text": [
      "Emotion Training Correct: 174/320 \n",
      "Emotion Training Accuracy: 54.37500%\n",
      "Speaker Training Correct: 0/320 \n",
      "Speaker Training Accuracy: 0.00000%\n"
     ]
    },
    {
     "name": "stdout",
     "output_type": "stream",
     "text": [
      "\n",
      "Emotion Validating Correct: 60/107 \n",
      "Emotion Validating Accuracy: 56.07477%\n",
      "Speaker Validating Correct: 33/107 \n",
      "Speaker Validating Accuracy: 30.84112%\n",
      "\n",
      "Current Fold: 3 | Epoch: 32\n"
     ]
    },
    {
     "name": "stdout",
     "output_type": "stream",
     "text": [
      "Emotion Training Correct: 172/320 \n",
      "Emotion Training Accuracy: 53.75000%\n",
      "Speaker Training Correct: 0/320 \n",
      "Speaker Training Accuracy: 0.00000%\n"
     ]
    },
    {
     "name": "stdout",
     "output_type": "stream",
     "text": [
      "\n",
      "Emotion Validating Correct: 61/107 \n",
      "Emotion Validating Accuracy: 57.00935%\n",
      "Speaker Validating Correct: 26/107 \n",
      "Speaker Validating Accuracy: 24.29907%\n",
      "\n",
      "Current Fold: 3 | Epoch: 33\n"
     ]
    },
    {
     "name": "stdout",
     "output_type": "stream",
     "text": [
      "Emotion Training Correct: 164/320 \n",
      "Emotion Training Accuracy: 51.25000%\n",
      "Speaker Training Correct: 0/320 \n",
      "Speaker Training Accuracy: 0.00000%\n"
     ]
    },
    {
     "name": "stdout",
     "output_type": "stream",
     "text": [
      "\n",
      "Emotion Validating Correct: 56/107 \n",
      "Emotion Validating Accuracy: 52.33645%\n",
      "Speaker Validating Correct: 35/107 \n",
      "Speaker Validating Accuracy: 32.71028%\n",
      "\n",
      "Current Fold: 3 | Epoch: 34\n"
     ]
    },
    {
     "name": "stdout",
     "output_type": "stream",
     "text": [
      "Emotion Training Correct: 169/320 \n",
      "Emotion Training Accuracy: 52.81250%\n",
      "Speaker Training Correct: 0/320 \n",
      "Speaker Training Accuracy: 0.00000%\n"
     ]
    },
    {
     "name": "stdout",
     "output_type": "stream",
     "text": [
      "\n",
      "Emotion Validating Correct: 62/107 \n",
      "Emotion Validating Accuracy: 57.94393%\n",
      "Speaker Validating Correct: 35/107 \n",
      "Speaker Validating Accuracy: 32.71028%\n",
      "\n",
      "Current Fold: 3 | Epoch: 35\n"
     ]
    },
    {
     "name": "stdout",
     "output_type": "stream",
     "text": [
      "Emotion Training Correct: 177/320 \n",
      "Emotion Training Accuracy: 55.31250%\n",
      "Speaker Training Correct: 0/320 \n",
      "Speaker Training Accuracy: 0.00000%\n"
     ]
    },
    {
     "name": "stdout",
     "output_type": "stream",
     "text": [
      "\n",
      "Emotion Validating Correct: 62/107 \n",
      "Emotion Validating Accuracy: 57.94393%\n",
      "Speaker Validating Correct: 34/107 \n",
      "Speaker Validating Accuracy: 31.77570%\n",
      "\n",
      "Current Fold: 3 | Epoch: 36\n"
     ]
    },
    {
     "name": "stdout",
     "output_type": "stream",
     "text": [
      "Emotion Training Correct: 173/320 \n",
      "Emotion Training Accuracy: 54.06250%\n",
      "Speaker Training Correct: 0/320 \n",
      "Speaker Training Accuracy: 0.00000%\n"
     ]
    },
    {
     "name": "stdout",
     "output_type": "stream",
     "text": [
      "\n",
      "Emotion Validating Correct: 59/107 \n",
      "Emotion Validating Accuracy: 55.14019%\n",
      "Speaker Validating Correct: 21/107 \n",
      "Speaker Validating Accuracy: 19.62617%\n",
      "\n",
      "Current Fold: 3 | Epoch: 37\n"
     ]
    },
    {
     "name": "stdout",
     "output_type": "stream",
     "text": [
      "Emotion Training Correct: 175/320 \n",
      "Emotion Training Accuracy: 54.68750%\n",
      "Speaker Training Correct: 0/320 \n",
      "Speaker Training Accuracy: 0.00000%\n"
     ]
    },
    {
     "name": "stdout",
     "output_type": "stream",
     "text": [
      "\n",
      "Emotion Validating Correct: 60/107 \n",
      "Emotion Validating Accuracy: 56.07477%\n",
      "Speaker Validating Correct: 20/107 \n",
      "Speaker Validating Accuracy: 18.69159%\n",
      "\n",
      "Current Fold: 3 | Epoch: 38\n"
     ]
    },
    {
     "name": "stdout",
     "output_type": "stream",
     "text": [
      "Emotion Training Correct: 163/320 \n",
      "Emotion Training Accuracy: 50.93750%\n",
      "Speaker Training Correct: 0/320 \n",
      "Speaker Training Accuracy: 0.00000%\n"
     ]
    },
    {
     "name": "stdout",
     "output_type": "stream",
     "text": [
      "\n",
      "Emotion Validating Correct: 56/107 \n",
      "Emotion Validating Accuracy: 52.33645%\n",
      "Speaker Validating Correct: 36/107 \n",
      "Speaker Validating Accuracy: 33.64486%\n",
      "\n",
      "Current Fold: 3 | Epoch: 39\n"
     ]
    },
    {
     "name": "stdout",
     "output_type": "stream",
     "text": [
      "Emotion Training Correct: 177/320 \n",
      "Emotion Training Accuracy: 55.31250%\n",
      "Speaker Training Correct: 0/320 \n",
      "Speaker Training Accuracy: 0.00000%\n"
     ]
    },
    {
     "name": "stdout",
     "output_type": "stream",
     "text": [
      "\n",
      "Emotion Validating Correct: 64/107 \n",
      "Emotion Validating Accuracy: 59.81308%\n",
      "Speaker Validating Correct: 32/107 \n",
      "Speaker Validating Accuracy: 29.90654%\n",
      "Models' parameters and optimisers' parameters saved.\n",
      "\n",
      "Current Fold: 3 | Epoch: 40\n"
     ]
    },
    {
     "name": "stdout",
     "output_type": "stream",
     "text": [
      "Emotion Training Correct: 185/320 \n",
      "Emotion Training Accuracy: 57.81250%\n",
      "Speaker Training Correct: 0/320 \n",
      "Speaker Training Accuracy: 0.00000%\n"
     ]
    },
    {
     "name": "stdout",
     "output_type": "stream",
     "text": [
      "\n",
      "Emotion Validating Correct: 65/107 \n",
      "Emotion Validating Accuracy: 60.74766%\n",
      "Speaker Validating Correct: 25/107 \n",
      "Speaker Validating Accuracy: 23.36449%\n",
      "Models' parameters and optimisers' parameters saved.\n",
      "\n",
      "Current Fold: 3 | Epoch: 41\n"
     ]
    },
    {
     "name": "stdout",
     "output_type": "stream",
     "text": [
      "Emotion Training Correct: 182/320 \n",
      "Emotion Training Accuracy: 56.87500%\n",
      "Speaker Training Correct: 0/320 \n",
      "Speaker Training Accuracy: 0.00000%\n"
     ]
    },
    {
     "name": "stdout",
     "output_type": "stream",
     "text": [
      "\n",
      "Emotion Validating Correct: 65/107 \n",
      "Emotion Validating Accuracy: 60.74766%\n",
      "Speaker Validating Correct: 27/107 \n",
      "Speaker Validating Accuracy: 25.23364%\n",
      "Models' parameters and optimisers' parameters saved.\n",
      "\n",
      "Current Fold: 3 | Epoch: 42\n"
     ]
    },
    {
     "name": "stdout",
     "output_type": "stream",
     "text": [
      "Emotion Training Correct: 191/320 \n",
      "Emotion Training Accuracy: 59.68750%\n",
      "Speaker Training Correct: 0/320 \n",
      "Speaker Training Accuracy: 0.00000%\n"
     ]
    },
    {
     "name": "stdout",
     "output_type": "stream",
     "text": [
      "\n",
      "Emotion Validating Correct: 64/107 \n",
      "Emotion Validating Accuracy: 59.81308%\n",
      "Speaker Validating Correct: 27/107 \n",
      "Speaker Validating Accuracy: 25.23364%\n",
      "\n",
      "Current Fold: 3 | Epoch: 43\n"
     ]
    },
    {
     "name": "stdout",
     "output_type": "stream",
     "text": [
      "Emotion Training Correct: 187/320 \n",
      "Emotion Training Accuracy: 58.43750%\n",
      "Speaker Training Correct: 0/320 \n",
      "Speaker Training Accuracy: 0.00000%\n"
     ]
    },
    {
     "name": "stdout",
     "output_type": "stream",
     "text": [
      "\n",
      "Emotion Validating Correct: 60/107 \n",
      "Emotion Validating Accuracy: 56.07477%\n",
      "Speaker Validating Correct: 25/107 \n",
      "Speaker Validating Accuracy: 23.36449%\n",
      "\n",
      "Current Fold: 3 | Epoch: 44\n"
     ]
    },
    {
     "name": "stdout",
     "output_type": "stream",
     "text": [
      "Emotion Training Correct: 174/320 \n",
      "Emotion Training Accuracy: 54.37500%\n",
      "Speaker Training Correct: 0/320 \n",
      "Speaker Training Accuracy: 0.00000%\n"
     ]
    },
    {
     "name": "stdout",
     "output_type": "stream",
     "text": [
      "\n",
      "Emotion Validating Correct: 52/107 \n",
      "Emotion Validating Accuracy: 48.59813%\n",
      "Speaker Validating Correct: 31/107 \n",
      "Speaker Validating Accuracy: 28.97196%\n",
      "\n",
      "Current Fold: 3 | Epoch: 45\n"
     ]
    },
    {
     "name": "stdout",
     "output_type": "stream",
     "text": [
      "Emotion Training Correct: 148/320 \n",
      "Emotion Training Accuracy: 46.25000%\n",
      "Speaker Training Correct: 0/320 \n",
      "Speaker Training Accuracy: 0.00000%\n"
     ]
    },
    {
     "name": "stdout",
     "output_type": "stream",
     "text": [
      "\n",
      "Emotion Validating Correct: 49/107 \n",
      "Emotion Validating Accuracy: 45.79439%\n",
      "Speaker Validating Correct: 29/107 \n",
      "Speaker Validating Accuracy: 27.10280%\n",
      "\n",
      "Current Fold: 3 | Epoch: 46\n"
     ]
    },
    {
     "name": "stdout",
     "output_type": "stream",
     "text": [
      "Emotion Training Correct: 182/320 \n",
      "Emotion Training Accuracy: 56.87500%\n",
      "Speaker Training Correct: 0/320 \n",
      "Speaker Training Accuracy: 0.00000%\n"
     ]
    },
    {
     "name": "stdout",
     "output_type": "stream",
     "text": [
      "\n",
      "Emotion Validating Correct: 61/107 \n",
      "Emotion Validating Accuracy: 57.00935%\n",
      "Speaker Validating Correct: 28/107 \n",
      "Speaker Validating Accuracy: 26.16822%\n",
      "\n",
      "Current Fold: 3 | Epoch: 47\n"
     ]
    },
    {
     "name": "stdout",
     "output_type": "stream",
     "text": [
      "Emotion Training Correct: 184/320 \n",
      "Emotion Training Accuracy: 57.50000%\n",
      "Speaker Training Correct: 0/320 \n",
      "Speaker Training Accuracy: 0.00000%\n"
     ]
    },
    {
     "name": "stdout",
     "output_type": "stream",
     "text": [
      "\n",
      "Emotion Validating Correct: 60/107 \n",
      "Emotion Validating Accuracy: 56.07477%\n",
      "Speaker Validating Correct: 21/107 \n",
      "Speaker Validating Accuracy: 19.62617%\n",
      "\n",
      "Current Fold: 3 | Epoch: 48\n"
     ]
    },
    {
     "name": "stdout",
     "output_type": "stream",
     "text": [
      "Emotion Training Correct: 194/320 \n",
      "Emotion Training Accuracy: 60.62500%\n",
      "Speaker Training Correct: 0/320 \n",
      "Speaker Training Accuracy: 0.00000%\n"
     ]
    },
    {
     "name": "stdout",
     "output_type": "stream",
     "text": [
      "\n",
      "Emotion Validating Correct: 61/107 \n",
      "Emotion Validating Accuracy: 57.00935%\n",
      "Speaker Validating Correct: 31/107 \n",
      "Speaker Validating Accuracy: 28.97196%\n",
      "\n",
      "Current Fold: 3 | Epoch: 49\n"
     ]
    },
    {
     "name": "stdout",
     "output_type": "stream",
     "text": [
      "Emotion Training Correct: 197/320 \n",
      "Emotion Training Accuracy: 61.56250%\n",
      "Speaker Training Correct: 0/320 \n",
      "Speaker Training Accuracy: 0.00000%\n"
     ]
    },
    {
     "name": "stdout",
     "output_type": "stream",
     "text": [
      "\n",
      "Emotion Validating Correct: 60/107 \n",
      "Emotion Validating Accuracy: 56.07477%\n",
      "Speaker Validating Correct: 25/107 \n",
      "Speaker Validating Accuracy: 23.36449%\n",
      "\n",
      "Current Fold: 3 | Epoch: 50\n"
     ]
    },
    {
     "name": "stdout",
     "output_type": "stream",
     "text": [
      "Emotion Training Correct: 194/320 \n",
      "Emotion Training Accuracy: 60.62500%\n",
      "Speaker Training Correct: 0/320 \n",
      "Speaker Training Accuracy: 0.00000%\n"
     ]
    },
    {
     "name": "stdout",
     "output_type": "stream",
     "text": [
      "\n",
      "Emotion Validating Correct: 63/107 \n",
      "Emotion Validating Accuracy: 58.87850%\n",
      "Speaker Validating Correct: 31/107 \n",
      "Speaker Validating Accuracy: 28.97196%\n",
      "\n",
      "Current Fold: 3 | Epoch: 51\n"
     ]
    },
    {
     "name": "stdout",
     "output_type": "stream",
     "text": [
      "Emotion Training Correct: 199/320 \n",
      "Emotion Training Accuracy: 62.18750%\n",
      "Speaker Training Correct: 0/320 \n",
      "Speaker Training Accuracy: 0.00000%\n"
     ]
    },
    {
     "name": "stdout",
     "output_type": "stream",
     "text": [
      "\n",
      "Emotion Validating Correct: 59/107 \n",
      "Emotion Validating Accuracy: 55.14019%\n",
      "Speaker Validating Correct: 25/107 \n",
      "Speaker Validating Accuracy: 23.36449%\n",
      "\n",
      "Current Fold: 3 | Epoch: 52\n"
     ]
    },
    {
     "name": "stdout",
     "output_type": "stream",
     "text": [
      "Emotion Training Correct: 170/320 \n",
      "Emotion Training Accuracy: 53.12500%\n",
      "Speaker Training Correct: 0/320 \n",
      "Speaker Training Accuracy: 0.00000%\n"
     ]
    },
    {
     "name": "stdout",
     "output_type": "stream",
     "text": [
      "\n",
      "Emotion Validating Correct: 46/107 \n",
      "Emotion Validating Accuracy: 42.99065%\n",
      "Speaker Validating Correct: 23/107 \n",
      "Speaker Validating Accuracy: 21.49533%\n",
      "\n",
      "Current Fold: 3 | Epoch: 53\n"
     ]
    },
    {
     "name": "stdout",
     "output_type": "stream",
     "text": [
      "Emotion Training Correct: 194/320 \n",
      "Emotion Training Accuracy: 60.62500%\n",
      "Speaker Training Correct: 0/320 \n",
      "Speaker Training Accuracy: 0.00000%\n"
     ]
    },
    {
     "name": "stdout",
     "output_type": "stream",
     "text": [
      "\n",
      "Emotion Validating Correct: 65/107 \n",
      "Emotion Validating Accuracy: 60.74766%\n",
      "Speaker Validating Correct: 29/107 \n",
      "Speaker Validating Accuracy: 27.10280%\n",
      "Models' parameters and optimisers' parameters saved.\n",
      "\n",
      "Current Fold: 3 | Epoch: 54\n"
     ]
    },
    {
     "name": "stdout",
     "output_type": "stream",
     "text": [
      "Emotion Training Correct: 195/320 \n",
      "Emotion Training Accuracy: 60.93750%\n",
      "Speaker Training Correct: 0/320 \n",
      "Speaker Training Accuracy: 0.00000%\n"
     ]
    },
    {
     "name": "stdout",
     "output_type": "stream",
     "text": [
      "\n",
      "Emotion Validating Correct: 57/107 \n",
      "Emotion Validating Accuracy: 53.27103%\n",
      "Speaker Validating Correct: 29/107 \n",
      "Speaker Validating Accuracy: 27.10280%\n",
      "\n",
      "Current Fold: 3 | Epoch: 55\n"
     ]
    },
    {
     "name": "stdout",
     "output_type": "stream",
     "text": [
      "Emotion Training Correct: 198/320 \n",
      "Emotion Training Accuracy: 61.87500%\n",
      "Speaker Training Correct: 0/320 \n",
      "Speaker Training Accuracy: 0.00000%\n"
     ]
    },
    {
     "name": "stdout",
     "output_type": "stream",
     "text": [
      "\n",
      "Emotion Validating Correct: 58/107 \n",
      "Emotion Validating Accuracy: 54.20561%\n",
      "Speaker Validating Correct: 28/107 \n",
      "Speaker Validating Accuracy: 26.16822%\n",
      "\n",
      "Current Fold: 3 | Epoch: 56\n"
     ]
    },
    {
     "name": "stdout",
     "output_type": "stream",
     "text": [
      "Emotion Training Correct: 203/320 \n",
      "Emotion Training Accuracy: 63.43750%\n",
      "Speaker Training Correct: 0/320 \n",
      "Speaker Training Accuracy: 0.00000%\n"
     ]
    },
    {
     "name": "stdout",
     "output_type": "stream",
     "text": [
      "\n",
      "Emotion Validating Correct: 55/107 \n",
      "Emotion Validating Accuracy: 51.40187%\n",
      "Speaker Validating Correct: 28/107 \n",
      "Speaker Validating Accuracy: 26.16822%\n",
      "\n",
      "Current Fold: 3 | Epoch: 57\n"
     ]
    },
    {
     "name": "stdout",
     "output_type": "stream",
     "text": [
      "Emotion Training Correct: 191/320 \n",
      "Emotion Training Accuracy: 59.68750%\n",
      "Speaker Training Correct: 0/320 \n",
      "Speaker Training Accuracy: 0.00000%\n"
     ]
    },
    {
     "name": "stdout",
     "output_type": "stream",
     "text": [
      "\n",
      "Emotion Validating Correct: 51/107 \n",
      "Emotion Validating Accuracy: 47.66355%\n",
      "Speaker Validating Correct: 23/107 \n",
      "Speaker Validating Accuracy: 21.49533%\n",
      "\n",
      "Current Fold: 3 | Epoch: 58\n"
     ]
    },
    {
     "name": "stdout",
     "output_type": "stream",
     "text": [
      "Emotion Training Correct: 188/320 \n",
      "Emotion Training Accuracy: 58.75000%\n",
      "Speaker Training Correct: 0/320 \n",
      "Speaker Training Accuracy: 0.00000%\n"
     ]
    },
    {
     "name": "stdout",
     "output_type": "stream",
     "text": [
      "\n",
      "Emotion Validating Correct: 57/107 \n",
      "Emotion Validating Accuracy: 53.27103%\n",
      "Speaker Validating Correct: 32/107 \n",
      "Speaker Validating Accuracy: 29.90654%\n",
      "\n",
      "Current Fold: 3 | Epoch: 59\n"
     ]
    },
    {
     "name": "stdout",
     "output_type": "stream",
     "text": [
      "Emotion Training Correct: 208/320 \n",
      "Emotion Training Accuracy: 65.00000%\n",
      "Speaker Training Correct: 0/320 \n",
      "Speaker Training Accuracy: 0.00000%\n"
     ]
    },
    {
     "name": "stdout",
     "output_type": "stream",
     "text": [
      "\n",
      "Emotion Validating Correct: 64/107 \n",
      "Emotion Validating Accuracy: 59.81308%\n",
      "Speaker Validating Correct: 28/107 \n",
      "Speaker Validating Accuracy: 26.16822%\n",
      "\n",
      "Current Fold: 3 | Epoch: 60\n"
     ]
    },
    {
     "name": "stdout",
     "output_type": "stream",
     "text": [
      "Emotion Training Correct: 225/320 \n",
      "Emotion Training Accuracy: 70.31250%\n",
      "Speaker Training Correct: 0/320 \n",
      "Speaker Training Accuracy: 0.00000%\n"
     ]
    },
    {
     "name": "stdout",
     "output_type": "stream",
     "text": [
      "\n",
      "Emotion Validating Correct: 67/107 \n",
      "Emotion Validating Accuracy: 62.61682%\n",
      "Speaker Validating Correct: 23/107 \n",
      "Speaker Validating Accuracy: 21.49533%\n",
      "Models' parameters and optimisers' parameters saved.\n",
      "\n",
      "Current Fold: 3 | Epoch: 61\n"
     ]
    },
    {
     "name": "stdout",
     "output_type": "stream",
     "text": [
      "Emotion Training Correct: 208/320 \n",
      "Emotion Training Accuracy: 65.00000%\n",
      "Speaker Training Correct: 0/320 \n",
      "Speaker Training Accuracy: 0.00000%\n"
     ]
    },
    {
     "name": "stdout",
     "output_type": "stream",
     "text": [
      "\n",
      "Emotion Validating Correct: 51/107 \n",
      "Emotion Validating Accuracy: 47.66355%\n",
      "Speaker Validating Correct: 23/107 \n",
      "Speaker Validating Accuracy: 21.49533%\n",
      "\n",
      "Current Fold: 3 | Epoch: 62\n"
     ]
    },
    {
     "name": "stdout",
     "output_type": "stream",
     "text": [
      "Emotion Training Correct: 213/320 \n",
      "Emotion Training Accuracy: 66.56250%\n",
      "Speaker Training Correct: 0/320 \n",
      "Speaker Training Accuracy: 0.00000%\n"
     ]
    },
    {
     "name": "stdout",
     "output_type": "stream",
     "text": [
      "\n",
      "Emotion Validating Correct: 62/107 \n",
      "Emotion Validating Accuracy: 57.94393%\n",
      "Speaker Validating Correct: 28/107 \n",
      "Speaker Validating Accuracy: 26.16822%\n",
      "\n",
      "Current Fold: 3 | Epoch: 63\n"
     ]
    },
    {
     "name": "stdout",
     "output_type": "stream",
     "text": [
      "Emotion Training Correct: 197/320 \n",
      "Emotion Training Accuracy: 61.56250%\n",
      "Speaker Training Correct: 0/320 \n",
      "Speaker Training Accuracy: 0.00000%\n"
     ]
    },
    {
     "name": "stdout",
     "output_type": "stream",
     "text": [
      "\n",
      "Emotion Validating Correct: 56/107 \n",
      "Emotion Validating Accuracy: 52.33645%\n",
      "Speaker Validating Correct: 27/107 \n",
      "Speaker Validating Accuracy: 25.23364%\n",
      "\n",
      "Current Fold: 3 | Epoch: 64\n"
     ]
    },
    {
     "name": "stdout",
     "output_type": "stream",
     "text": [
      "Emotion Training Correct: 203/320 \n",
      "Emotion Training Accuracy: 63.43750%\n",
      "Speaker Training Correct: 0/320 \n",
      "Speaker Training Accuracy: 0.00000%\n"
     ]
    },
    {
     "name": "stdout",
     "output_type": "stream",
     "text": [
      "\n",
      "Emotion Validating Correct: 58/107 \n",
      "Emotion Validating Accuracy: 54.20561%\n",
      "Speaker Validating Correct: 24/107 \n",
      "Speaker Validating Accuracy: 22.42991%\n",
      "\n",
      "Current Fold: 3 | Epoch: 65\n"
     ]
    },
    {
     "name": "stdout",
     "output_type": "stream",
     "text": [
      "Emotion Training Correct: 217/320 \n",
      "Emotion Training Accuracy: 67.81250%\n",
      "Speaker Training Correct: 0/320 \n",
      "Speaker Training Accuracy: 0.00000%\n"
     ]
    },
    {
     "name": "stdout",
     "output_type": "stream",
     "text": [
      "\n",
      "Emotion Validating Correct: 67/107 \n",
      "Emotion Validating Accuracy: 62.61682%\n",
      "Speaker Validating Correct: 26/107 \n",
      "Speaker Validating Accuracy: 24.29907%\n",
      "Models' parameters and optimisers' parameters saved.\n",
      "\n",
      "Current Fold: 3 | Epoch: 66\n"
     ]
    },
    {
     "name": "stdout",
     "output_type": "stream",
     "text": [
      "Emotion Training Correct: 220/320 \n",
      "Emotion Training Accuracy: 68.75000%\n",
      "Speaker Training Correct: 0/320 \n",
      "Speaker Training Accuracy: 0.00000%\n"
     ]
    },
    {
     "name": "stdout",
     "output_type": "stream",
     "text": [
      "\n",
      "Emotion Validating Correct: 65/107 \n",
      "Emotion Validating Accuracy: 60.74766%\n",
      "Speaker Validating Correct: 30/107 \n",
      "Speaker Validating Accuracy: 28.03738%\n",
      "\n",
      "Current Fold: 3 | Epoch: 67\n"
     ]
    },
    {
     "name": "stdout",
     "output_type": "stream",
     "text": [
      "Emotion Training Correct: 209/320 \n",
      "Emotion Training Accuracy: 65.31250%\n",
      "Speaker Training Correct: 0/320 \n",
      "Speaker Training Accuracy: 0.00000%\n"
     ]
    },
    {
     "name": "stdout",
     "output_type": "stream",
     "text": [
      "\n",
      "Emotion Validating Correct: 60/107 \n",
      "Emotion Validating Accuracy: 56.07477%\n",
      "Speaker Validating Correct: 27/107 \n",
      "Speaker Validating Accuracy: 25.23364%\n",
      "\n",
      "Current Fold: 3 | Epoch: 68\n"
     ]
    },
    {
     "name": "stdout",
     "output_type": "stream",
     "text": [
      "Emotion Training Correct: 197/320 \n",
      "Emotion Training Accuracy: 61.56250%\n",
      "Speaker Training Correct: 0/320 \n",
      "Speaker Training Accuracy: 0.00000%\n"
     ]
    },
    {
     "name": "stdout",
     "output_type": "stream",
     "text": [
      "\n",
      "Emotion Validating Correct: 63/107 \n",
      "Emotion Validating Accuracy: 58.87850%\n",
      "Speaker Validating Correct: 24/107 \n",
      "Speaker Validating Accuracy: 22.42991%\n",
      "\n",
      "Current Fold: 3 | Epoch: 69\n"
     ]
    },
    {
     "name": "stdout",
     "output_type": "stream",
     "text": [
      "Emotion Training Correct: 214/320 \n",
      "Emotion Training Accuracy: 66.87500%\n",
      "Speaker Training Correct: 0/320 \n",
      "Speaker Training Accuracy: 0.00000%\n"
     ]
    },
    {
     "name": "stdout",
     "output_type": "stream",
     "text": [
      "\n",
      "Emotion Validating Correct: 64/107 \n",
      "Emotion Validating Accuracy: 59.81308%\n",
      "Speaker Validating Correct: 23/107 \n",
      "Speaker Validating Accuracy: 21.49533%\n",
      "\n",
      "Current Fold: 3 | Epoch: 70\n"
     ]
    },
    {
     "name": "stdout",
     "output_type": "stream",
     "text": [
      "Emotion Training Correct: 221/320 \n",
      "Emotion Training Accuracy: 69.06250%\n",
      "Speaker Training Correct: 0/320 \n",
      "Speaker Training Accuracy: 0.00000%\n"
     ]
    },
    {
     "name": "stdout",
     "output_type": "stream",
     "text": [
      "\n",
      "Emotion Validating Correct: 61/107 \n",
      "Emotion Validating Accuracy: 57.00935%\n",
      "Speaker Validating Correct: 30/107 \n",
      "Speaker Validating Accuracy: 28.03738%\n",
      "\n",
      "Current Fold: 3 | Epoch: 71\n"
     ]
    },
    {
     "name": "stdout",
     "output_type": "stream",
     "text": [
      "Emotion Training Correct: 201/320 \n",
      "Emotion Training Accuracy: 62.81250%\n",
      "Speaker Training Correct: 0/320 \n",
      "Speaker Training Accuracy: 0.00000%\n"
     ]
    },
    {
     "name": "stdout",
     "output_type": "stream",
     "text": [
      "\n",
      "Emotion Validating Correct: 60/107 \n",
      "Emotion Validating Accuracy: 56.07477%\n",
      "Speaker Validating Correct: 29/107 \n",
      "Speaker Validating Accuracy: 27.10280%\n",
      "\n",
      "Current Fold: 3 | Epoch: 72\n"
     ]
    },
    {
     "name": "stdout",
     "output_type": "stream",
     "text": [
      "Emotion Training Correct: 215/320 \n",
      "Emotion Training Accuracy: 67.18750%\n",
      "Speaker Training Correct: 0/320 \n",
      "Speaker Training Accuracy: 0.00000%\n"
     ]
    },
    {
     "name": "stdout",
     "output_type": "stream",
     "text": [
      "\n",
      "Emotion Validating Correct: 62/107 \n",
      "Emotion Validating Accuracy: 57.94393%\n",
      "Speaker Validating Correct: 24/107 \n",
      "Speaker Validating Accuracy: 22.42991%\n",
      "\n",
      "Current Fold: 3 | Epoch: 73\n"
     ]
    },
    {
     "name": "stdout",
     "output_type": "stream",
     "text": [
      "Emotion Training Correct: 216/320 \n",
      "Emotion Training Accuracy: 67.50000%\n",
      "Speaker Training Correct: 0/320 \n",
      "Speaker Training Accuracy: 0.00000%\n"
     ]
    },
    {
     "name": "stdout",
     "output_type": "stream",
     "text": [
      "\n",
      "Emotion Validating Correct: 61/107 \n",
      "Emotion Validating Accuracy: 57.00935%\n",
      "Speaker Validating Correct: 20/107 \n",
      "Speaker Validating Accuracy: 18.69159%\n",
      "\n",
      "Current Fold: 3 | Epoch: 74\n"
     ]
    },
    {
     "name": "stdout",
     "output_type": "stream",
     "text": [
      "Emotion Training Correct: 200/320 \n",
      "Emotion Training Accuracy: 62.50000%\n",
      "Speaker Training Correct: 0/320 \n",
      "Speaker Training Accuracy: 0.00000%\n"
     ]
    },
    {
     "name": "stdout",
     "output_type": "stream",
     "text": [
      "\n",
      "Emotion Validating Correct: 64/107 \n",
      "Emotion Validating Accuracy: 59.81308%\n",
      "Speaker Validating Correct: 25/107 \n",
      "Speaker Validating Accuracy: 23.36449%\n",
      "\n",
      "Current Fold: 3 | Epoch: 75\n"
     ]
    },
    {
     "name": "stdout",
     "output_type": "stream",
     "text": [
      "Emotion Training Correct: 223/320 \n",
      "Emotion Training Accuracy: 69.68750%\n",
      "Speaker Training Correct: 0/320 \n",
      "Speaker Training Accuracy: 0.00000%\n"
     ]
    },
    {
     "name": "stdout",
     "output_type": "stream",
     "text": [
      "\n",
      "Emotion Validating Correct: 67/107 \n",
      "Emotion Validating Accuracy: 62.61682%\n",
      "Speaker Validating Correct: 28/107 \n",
      "Speaker Validating Accuracy: 26.16822%\n",
      "Models' parameters and optimisers' parameters saved.\n",
      "\n",
      "Current Fold: 3 | Epoch: 76\n"
     ]
    },
    {
     "name": "stdout",
     "output_type": "stream",
     "text": [
      "Emotion Training Correct: 212/320 \n",
      "Emotion Training Accuracy: 66.25000%\n",
      "Speaker Training Correct: 0/320 \n",
      "Speaker Training Accuracy: 0.00000%\n"
     ]
    },
    {
     "name": "stdout",
     "output_type": "stream",
     "text": [
      "\n",
      "Emotion Validating Correct: 45/107 \n",
      "Emotion Validating Accuracy: 42.05607%\n",
      "Speaker Validating Correct: 18/107 \n",
      "Speaker Validating Accuracy: 16.82243%\n",
      "\n",
      "Current Fold: 3 | Epoch: 77\n"
     ]
    },
    {
     "name": "stdout",
     "output_type": "stream",
     "text": [
      "Emotion Training Correct: 231/320 \n",
      "Emotion Training Accuracy: 72.18750%\n",
      "Speaker Training Correct: 0/320 \n",
      "Speaker Training Accuracy: 0.00000%\n"
     ]
    },
    {
     "name": "stdout",
     "output_type": "stream",
     "text": [
      "\n",
      "Emotion Validating Correct: 63/107 \n",
      "Emotion Validating Accuracy: 58.87850%\n",
      "Speaker Validating Correct: 26/107 \n",
      "Speaker Validating Accuracy: 24.29907%\n",
      "\n",
      "Current Fold: 3 | Epoch: 78\n"
     ]
    },
    {
     "name": "stdout",
     "output_type": "stream",
     "text": [
      "Emotion Training Correct: 217/320 \n",
      "Emotion Training Accuracy: 67.81250%\n",
      "Speaker Training Correct: 0/320 \n",
      "Speaker Training Accuracy: 0.00000%\n"
     ]
    },
    {
     "name": "stdout",
     "output_type": "stream",
     "text": [
      "\n",
      "Emotion Validating Correct: 61/107 \n",
      "Emotion Validating Accuracy: 57.00935%\n",
      "Speaker Validating Correct: 24/107 \n",
      "Speaker Validating Accuracy: 22.42991%\n",
      "\n",
      "Current Fold: 3 | Epoch: 79\n"
     ]
    },
    {
     "name": "stdout",
     "output_type": "stream",
     "text": [
      "Emotion Training Correct: 236/320 \n",
      "Emotion Training Accuracy: 73.75000%\n",
      "Speaker Training Correct: 0/320 \n",
      "Speaker Training Accuracy: 0.00000%\n"
     ]
    },
    {
     "name": "stdout",
     "output_type": "stream",
     "text": [
      "\n",
      "Emotion Validating Correct: 66/107 \n",
      "Emotion Validating Accuracy: 61.68224%\n",
      "Speaker Validating Correct: 31/107 \n",
      "Speaker Validating Accuracy: 28.97196%\n",
      "\n",
      "Current Fold: 3 | Epoch: 80\n"
     ]
    },
    {
     "name": "stdout",
     "output_type": "stream",
     "text": [
      "Emotion Training Correct: 233/320 \n",
      "Emotion Training Accuracy: 72.81250%\n",
      "Speaker Training Correct: 0/320 \n",
      "Speaker Training Accuracy: 0.00000%\n"
     ]
    },
    {
     "name": "stdout",
     "output_type": "stream",
     "text": [
      "\n",
      "Emotion Validating Correct: 66/107 \n",
      "Emotion Validating Accuracy: 61.68224%\n",
      "Speaker Validating Correct: 29/107 \n",
      "Speaker Validating Accuracy: 27.10280%\n",
      "\n",
      "Current Fold: 3 | Epoch: 81\n"
     ]
    },
    {
     "name": "stdout",
     "output_type": "stream",
     "text": [
      "Emotion Training Correct: 221/320 \n",
      "Emotion Training Accuracy: 69.06250%\n",
      "Speaker Training Correct: 0/320 \n",
      "Speaker Training Accuracy: 0.00000%\n"
     ]
    },
    {
     "name": "stdout",
     "output_type": "stream",
     "text": [
      "\n",
      "Emotion Validating Correct: 71/107 \n",
      "Emotion Validating Accuracy: 66.35514%\n",
      "Speaker Validating Correct: 35/107 \n",
      "Speaker Validating Accuracy: 32.71028%\n",
      "Models' parameters and optimisers' parameters saved.\n",
      "\n",
      "Current Fold: 3 | Epoch: 82\n"
     ]
    },
    {
     "name": "stdout",
     "output_type": "stream",
     "text": [
      "Emotion Training Correct: 199/320 \n",
      "Emotion Training Accuracy: 62.18750%\n",
      "Speaker Training Correct: 0/320 \n",
      "Speaker Training Accuracy: 0.00000%\n"
     ]
    },
    {
     "name": "stdout",
     "output_type": "stream",
     "text": [
      "\n",
      "Emotion Validating Correct: 60/107 \n",
      "Emotion Validating Accuracy: 56.07477%\n",
      "Speaker Validating Correct: 15/107 \n",
      "Speaker Validating Accuracy: 14.01869%\n",
      "\n",
      "Current Fold: 3 | Epoch: 83\n"
     ]
    },
    {
     "name": "stdout",
     "output_type": "stream",
     "text": [
      "Emotion Training Correct: 224/320 \n",
      "Emotion Training Accuracy: 70.00000%\n",
      "Speaker Training Correct: 0/320 \n",
      "Speaker Training Accuracy: 0.00000%\n"
     ]
    },
    {
     "name": "stdout",
     "output_type": "stream",
     "text": [
      "\n",
      "Emotion Validating Correct: 53/107 \n",
      "Emotion Validating Accuracy: 49.53271%\n",
      "Speaker Validating Correct: 20/107 \n",
      "Speaker Validating Accuracy: 18.69159%\n",
      "\n",
      "Current Fold: 3 | Epoch: 84\n"
     ]
    },
    {
     "name": "stdout",
     "output_type": "stream",
     "text": [
      "Emotion Training Correct: 221/320 \n",
      "Emotion Training Accuracy: 69.06250%\n",
      "Speaker Training Correct: 0/320 \n",
      "Speaker Training Accuracy: 0.00000%\n"
     ]
    },
    {
     "name": "stdout",
     "output_type": "stream",
     "text": [
      "\n",
      "Emotion Validating Correct: 56/107 \n",
      "Emotion Validating Accuracy: 52.33645%\n",
      "Speaker Validating Correct: 20/107 \n",
      "Speaker Validating Accuracy: 18.69159%\n",
      "\n",
      "Current Fold: 3 | Epoch: 85\n"
     ]
    },
    {
     "name": "stdout",
     "output_type": "stream",
     "text": [
      "Emotion Training Correct: 212/320 \n",
      "Emotion Training Accuracy: 66.25000%\n",
      "Speaker Training Correct: 0/320 \n",
      "Speaker Training Accuracy: 0.00000%\n"
     ]
    },
    {
     "name": "stdout",
     "output_type": "stream",
     "text": [
      "\n",
      "Emotion Validating Correct: 69/107 \n",
      "Emotion Validating Accuracy: 64.48598%\n",
      "Speaker Validating Correct: 20/107 \n",
      "Speaker Validating Accuracy: 18.69159%\n",
      "\n",
      "Current Fold: 3 | Epoch: 86\n"
     ]
    },
    {
     "name": "stdout",
     "output_type": "stream",
     "text": [
      "Emotion Training Correct: 205/320 \n",
      "Emotion Training Accuracy: 64.06250%\n",
      "Speaker Training Correct: 0/320 \n",
      "Speaker Training Accuracy: 0.00000%\n"
     ]
    },
    {
     "name": "stdout",
     "output_type": "stream",
     "text": [
      "\n",
      "Emotion Validating Correct: 47/107 \n",
      "Emotion Validating Accuracy: 43.92523%\n",
      "Speaker Validating Correct: 26/107 \n",
      "Speaker Validating Accuracy: 24.29907%\n",
      "\n",
      "Current Fold: 3 | Epoch: 87\n"
     ]
    },
    {
     "name": "stdout",
     "output_type": "stream",
     "text": [
      "Emotion Training Correct: 218/320 \n",
      "Emotion Training Accuracy: 68.12500%\n",
      "Speaker Training Correct: 0/320 \n",
      "Speaker Training Accuracy: 0.00000%\n"
     ]
    },
    {
     "name": "stdout",
     "output_type": "stream",
     "text": [
      "\n",
      "Emotion Validating Correct: 58/107 \n",
      "Emotion Validating Accuracy: 54.20561%\n",
      "Speaker Validating Correct: 23/107 \n",
      "Speaker Validating Accuracy: 21.49533%\n",
      "\n",
      "Current Fold: 3 | Epoch: 88\n"
     ]
    },
    {
     "name": "stdout",
     "output_type": "stream",
     "text": [
      "Emotion Training Correct: 223/320 \n",
      "Emotion Training Accuracy: 69.68750%\n",
      "Speaker Training Correct: 0/320 \n",
      "Speaker Training Accuracy: 0.00000%\n"
     ]
    },
    {
     "name": "stdout",
     "output_type": "stream",
     "text": [
      "\n",
      "Emotion Validating Correct: 60/107 \n",
      "Emotion Validating Accuracy: 56.07477%\n",
      "Speaker Validating Correct: 19/107 \n",
      "Speaker Validating Accuracy: 17.75701%\n",
      "\n",
      "Current Fold: 3 | Epoch: 89\n"
     ]
    },
    {
     "name": "stdout",
     "output_type": "stream",
     "text": [
      "Emotion Training Correct: 230/320 \n",
      "Emotion Training Accuracy: 71.87500%\n",
      "Speaker Training Correct: 0/320 \n",
      "Speaker Training Accuracy: 0.00000%\n"
     ]
    },
    {
     "name": "stdout",
     "output_type": "stream",
     "text": [
      "\n",
      "Emotion Validating Correct: 66/107 \n",
      "Emotion Validating Accuracy: 61.68224%\n",
      "Speaker Validating Correct: 19/107 \n",
      "Speaker Validating Accuracy: 17.75701%\n",
      "\n",
      "Current Fold: 3 | Epoch: 90\n"
     ]
    },
    {
     "name": "stdout",
     "output_type": "stream",
     "text": [
      "Emotion Training Correct: 238/320 \n",
      "Emotion Training Accuracy: 74.37500%\n",
      "Speaker Training Correct: 0/320 \n",
      "Speaker Training Accuracy: 0.00000%\n"
     ]
    },
    {
     "name": "stdout",
     "output_type": "stream",
     "text": [
      "\n",
      "Emotion Validating Correct: 57/107 \n",
      "Emotion Validating Accuracy: 53.27103%\n",
      "Speaker Validating Correct: 26/107 \n",
      "Speaker Validating Accuracy: 24.29907%\n",
      "\n",
      "Current Fold: 3 | Epoch: 91\n"
     ]
    },
    {
     "name": "stdout",
     "output_type": "stream",
     "text": [
      "Emotion Training Correct: 219/320 \n",
      "Emotion Training Accuracy: 68.43750%\n",
      "Speaker Training Correct: 0/320 \n",
      "Speaker Training Accuracy: 0.00000%\n"
     ]
    },
    {
     "name": "stdout",
     "output_type": "stream",
     "text": [
      "\n",
      "Emotion Validating Correct: 69/107 \n",
      "Emotion Validating Accuracy: 64.48598%\n",
      "Speaker Validating Correct: 13/107 \n",
      "Speaker Validating Accuracy: 12.14953%\n",
      "\n",
      "Current Fold: 3 | Epoch: 92\n"
     ]
    },
    {
     "name": "stdout",
     "output_type": "stream",
     "text": [
      "Emotion Training Correct: 233/320 \n",
      "Emotion Training Accuracy: 72.81250%\n",
      "Speaker Training Correct: 0/320 \n",
      "Speaker Training Accuracy: 0.00000%\n"
     ]
    },
    {
     "name": "stdout",
     "output_type": "stream",
     "text": [
      "\n",
      "Emotion Validating Correct: 63/107 \n",
      "Emotion Validating Accuracy: 58.87850%\n",
      "Speaker Validating Correct: 17/107 \n",
      "Speaker Validating Accuracy: 15.88785%\n",
      "\n",
      "Current Fold: 3 | Epoch: 93\n"
     ]
    },
    {
     "name": "stdout",
     "output_type": "stream",
     "text": [
      "Emotion Training Correct: 230/320 \n",
      "Emotion Training Accuracy: 71.87500%\n",
      "Speaker Training Correct: 0/320 \n",
      "Speaker Training Accuracy: 0.00000%\n"
     ]
    },
    {
     "name": "stdout",
     "output_type": "stream",
     "text": [
      "\n",
      "Emotion Validating Correct: 68/107 \n",
      "Emotion Validating Accuracy: 63.55140%\n",
      "Speaker Validating Correct: 30/107 \n",
      "Speaker Validating Accuracy: 28.03738%\n",
      "\n",
      "Current Fold: 3 | Epoch: 94\n"
     ]
    },
    {
     "name": "stdout",
     "output_type": "stream",
     "text": [
      "Emotion Training Correct: 242/320 \n",
      "Emotion Training Accuracy: 75.62500%\n",
      "Speaker Training Correct: 0/320 \n",
      "Speaker Training Accuracy: 0.00000%\n"
     ]
    },
    {
     "name": "stdout",
     "output_type": "stream",
     "text": [
      "\n",
      "Emotion Validating Correct: 69/107 \n",
      "Emotion Validating Accuracy: 64.48598%\n",
      "Speaker Validating Correct: 30/107 \n",
      "Speaker Validating Accuracy: 28.03738%\n",
      "\n",
      "Current Fold: 3 | Epoch: 95\n"
     ]
    },
    {
     "name": "stdout",
     "output_type": "stream",
     "text": [
      "Emotion Training Correct: 242/320 \n",
      "Emotion Training Accuracy: 75.62500%\n",
      "Speaker Training Correct: 0/320 \n",
      "Speaker Training Accuracy: 0.00000%\n"
     ]
    },
    {
     "name": "stdout",
     "output_type": "stream",
     "text": [
      "\n",
      "Emotion Validating Correct: 70/107 \n",
      "Emotion Validating Accuracy: 65.42056%\n",
      "Speaker Validating Correct: 20/107 \n",
      "Speaker Validating Accuracy: 18.69159%\n",
      "\n",
      "Current Fold: 3 | Epoch: 96\n"
     ]
    },
    {
     "name": "stdout",
     "output_type": "stream",
     "text": [
      "Emotion Training Correct: 238/320 \n",
      "Emotion Training Accuracy: 74.37500%\n",
      "Speaker Training Correct: 0/320 \n",
      "Speaker Training Accuracy: 0.00000%\n"
     ]
    },
    {
     "name": "stdout",
     "output_type": "stream",
     "text": [
      "\n",
      "Emotion Validating Correct: 59/107 \n",
      "Emotion Validating Accuracy: 55.14019%\n",
      "Speaker Validating Correct: 23/107 \n",
      "Speaker Validating Accuracy: 21.49533%\n",
      "\n",
      "Current Fold: 3 | Epoch: 97\n"
     ]
    },
    {
     "name": "stdout",
     "output_type": "stream",
     "text": [
      "Emotion Training Correct: 237/320 \n",
      "Emotion Training Accuracy: 74.06250%\n",
      "Speaker Training Correct: 0/320 \n",
      "Speaker Training Accuracy: 0.00000%\n"
     ]
    },
    {
     "name": "stdout",
     "output_type": "stream",
     "text": [
      "\n",
      "Emotion Validating Correct: 64/107 \n",
      "Emotion Validating Accuracy: 59.81308%\n",
      "Speaker Validating Correct: 22/107 \n",
      "Speaker Validating Accuracy: 20.56075%\n",
      "\n",
      "Current Fold: 3 | Epoch: 98\n"
     ]
    },
    {
     "name": "stdout",
     "output_type": "stream",
     "text": [
      "Emotion Training Correct: 211/320 \n",
      "Emotion Training Accuracy: 65.93750%\n",
      "Speaker Training Correct: 0/320 \n",
      "Speaker Training Accuracy: 0.00000%\n"
     ]
    },
    {
     "name": "stdout",
     "output_type": "stream",
     "text": [
      "\n",
      "Emotion Validating Correct: 63/107 \n",
      "Emotion Validating Accuracy: 58.87850%\n",
      "Speaker Validating Correct: 19/107 \n",
      "Speaker Validating Accuracy: 17.75701%\n",
      "\n",
      "Current Fold: 3 | Epoch: 99\n"
     ]
    },
    {
     "name": "stdout",
     "output_type": "stream",
     "text": [
      "Emotion Training Correct: 211/320 \n",
      "Emotion Training Accuracy: 65.93750%\n",
      "Speaker Training Correct: 0/320 \n",
      "Speaker Training Accuracy: 0.00000%\n"
     ]
    },
    {
     "name": "stdout",
     "output_type": "stream",
     "text": [
      "\n",
      "Emotion Validating Correct: 52/107 \n",
      "Emotion Validating Accuracy: 48.59813%\n",
      "Speaker Validating Correct: 36/107 \n",
      "Speaker Validating Accuracy: 33.64486%\n"
     ]
    },
    {
     "name": "stdout",
     "output_type": "stream",
     "text": [
      "\n",
      "Current Fold: 4 | Epoch: 0\n"
     ]
    },
    {
     "name": "stdout",
     "output_type": "stream",
     "text": [
      "Emotion Training Correct: 43/320 \n",
      "Emotion Training Accuracy: 13.43750%\n",
      "Speaker Training Correct: 39/320 \n",
      "Speaker Training Accuracy: 12.18750%\n"
     ]
    },
    {
     "name": "stdout",
     "output_type": "stream",
     "text": [
      "\n",
      "Emotion Validating Correct: 17/107 \n",
      "Emotion Validating Accuracy: 15.88785%\n",
      "Speaker Validating Correct: 15/107 \n",
      "Speaker Validating Accuracy: 14.01869%\n",
      "\n",
      "Current Fold: 4 | Epoch: 1\n"
     ]
    },
    {
     "name": "stdout",
     "output_type": "stream",
     "text": [
      "Emotion Training Correct: 53/320 \n",
      "Emotion Training Accuracy: 16.56250%\n",
      "Speaker Training Correct: 0/320 \n",
      "Speaker Training Accuracy: 0.00000%\n"
     ]
    },
    {
     "name": "stdout",
     "output_type": "stream",
     "text": [
      "\n",
      "Emotion Validating Correct: 16/107 \n",
      "Emotion Validating Accuracy: 14.95327%\n",
      "Speaker Validating Correct: 38/107 \n",
      "Speaker Validating Accuracy: 35.51402%\n",
      "\n",
      "Current Fold: 4 | Epoch: 2\n"
     ]
    },
    {
     "name": "stdout",
     "output_type": "stream",
     "text": [
      "Emotion Training Correct: 101/320 \n",
      "Emotion Training Accuracy: 31.56250%\n",
      "Speaker Training Correct: 0/320 \n",
      "Speaker Training Accuracy: 0.00000%\n"
     ]
    },
    {
     "name": "stdout",
     "output_type": "stream",
     "text": [
      "\n",
      "Emotion Validating Correct: 30/107 \n",
      "Emotion Validating Accuracy: 28.03738%\n",
      "Speaker Validating Correct: 49/107 \n",
      "Speaker Validating Accuracy: 45.79439%\n",
      "Models' parameters and optimisers' parameters saved.\n",
      "\n",
      "Current Fold: 4 | Epoch: 3\n"
     ]
    },
    {
     "name": "stdout",
     "output_type": "stream",
     "text": [
      "Emotion Training Correct: 107/320 \n",
      "Emotion Training Accuracy: 33.43750%\n",
      "Speaker Training Correct: 0/320 \n",
      "Speaker Training Accuracy: 0.00000%\n"
     ]
    },
    {
     "name": "stdout",
     "output_type": "stream",
     "text": [
      "\n",
      "Emotion Validating Correct: 35/107 \n",
      "Emotion Validating Accuracy: 32.71028%\n",
      "Speaker Validating Correct: 57/107 \n",
      "Speaker Validating Accuracy: 53.27103%\n",
      "Models' parameters and optimisers' parameters saved.\n",
      "\n",
      "Current Fold: 4 | Epoch: 4\n"
     ]
    },
    {
     "name": "stdout",
     "output_type": "stream",
     "text": [
      "Emotion Training Correct: 128/320 \n",
      "Emotion Training Accuracy: 40.00000%\n",
      "Speaker Training Correct: 0/320 \n",
      "Speaker Training Accuracy: 0.00000%\n"
     ]
    },
    {
     "name": "stdout",
     "output_type": "stream",
     "text": [
      "\n",
      "Emotion Validating Correct: 36/107 \n",
      "Emotion Validating Accuracy: 33.64486%\n",
      "Speaker Validating Correct: 46/107 \n",
      "Speaker Validating Accuracy: 42.99065%\n",
      "Models' parameters and optimisers' parameters saved.\n",
      "\n",
      "Current Fold: 4 | Epoch: 5\n"
     ]
    },
    {
     "name": "stdout",
     "output_type": "stream",
     "text": [
      "Emotion Training Correct: 118/320 \n",
      "Emotion Training Accuracy: 36.87500%\n",
      "Speaker Training Correct: 0/320 \n",
      "Speaker Training Accuracy: 0.00000%\n"
     ]
    },
    {
     "name": "stdout",
     "output_type": "stream",
     "text": [
      "\n",
      "Emotion Validating Correct: 34/107 \n",
      "Emotion Validating Accuracy: 31.77570%\n",
      "Speaker Validating Correct: 46/107 \n",
      "Speaker Validating Accuracy: 42.99065%\n",
      "\n",
      "Current Fold: 4 | Epoch: 6\n"
     ]
    },
    {
     "name": "stdout",
     "output_type": "stream",
     "text": [
      "Emotion Training Correct: 143/320 \n",
      "Emotion Training Accuracy: 44.68750%\n",
      "Speaker Training Correct: 0/320 \n",
      "Speaker Training Accuracy: 0.00000%\n"
     ]
    },
    {
     "name": "stdout",
     "output_type": "stream",
     "text": [
      "\n",
      "Emotion Validating Correct: 39/107 \n",
      "Emotion Validating Accuracy: 36.44860%\n",
      "Speaker Validating Correct: 56/107 \n",
      "Speaker Validating Accuracy: 52.33645%\n"
     ]
    },
    {
     "name": "stdout",
     "output_type": "stream",
     "text": [
      "Models' parameters and optimisers' parameters saved.\n",
      "\n",
      "Current Fold: 4 | Epoch: 7\n"
     ]
    },
    {
     "name": "stdout",
     "output_type": "stream",
     "text": [
      "Emotion Training Correct: 140/320 \n",
      "Emotion Training Accuracy: 43.75000%\n",
      "Speaker Training Correct: 0/320 \n",
      "Speaker Training Accuracy: 0.00000%\n"
     ]
    },
    {
     "name": "stdout",
     "output_type": "stream",
     "text": [
      "\n",
      "Emotion Validating Correct: 44/107 \n",
      "Emotion Validating Accuracy: 41.12150%\n",
      "Speaker Validating Correct: 58/107 \n",
      "Speaker Validating Accuracy: 54.20561%\n",
      "Models' parameters and optimisers' parameters saved.\n",
      "\n",
      "Current Fold: 4 | Epoch: 8\n"
     ]
    },
    {
     "name": "stdout",
     "output_type": "stream",
     "text": [
      "Emotion Training Correct: 139/320 \n",
      "Emotion Training Accuracy: 43.43750%\n",
      "Speaker Training Correct: 0/320 \n",
      "Speaker Training Accuracy: 0.00000%\n"
     ]
    },
    {
     "name": "stdout",
     "output_type": "stream",
     "text": [
      "\n",
      "Emotion Validating Correct: 43/107 \n",
      "Emotion Validating Accuracy: 40.18692%\n",
      "Speaker Validating Correct: 62/107 \n",
      "Speaker Validating Accuracy: 57.94393%\n",
      "\n",
      "Current Fold: 4 | Epoch: 9\n"
     ]
    },
    {
     "name": "stdout",
     "output_type": "stream",
     "text": [
      "Emotion Training Correct: 134/320 \n",
      "Emotion Training Accuracy: 41.87500%\n",
      "Speaker Training Correct: 0/320 \n",
      "Speaker Training Accuracy: 0.00000%\n"
     ]
    },
    {
     "name": "stdout",
     "output_type": "stream",
     "text": [
      "\n",
      "Emotion Validating Correct: 49/107 \n",
      "Emotion Validating Accuracy: 45.79439%\n",
      "Speaker Validating Correct: 59/107 \n",
      "Speaker Validating Accuracy: 55.14019%\n",
      "Models' parameters and optimisers' parameters saved.\n",
      "\n",
      "Current Fold: 4 | Epoch: 10\n"
     ]
    },
    {
     "name": "stdout",
     "output_type": "stream",
     "text": [
      "Emotion Training Correct: 148/320 \n",
      "Emotion Training Accuracy: 46.25000%\n",
      "Speaker Training Correct: 0/320 \n",
      "Speaker Training Accuracy: 0.00000%\n"
     ]
    },
    {
     "name": "stdout",
     "output_type": "stream",
     "text": [
      "\n",
      "Emotion Validating Correct: 50/107 \n",
      "Emotion Validating Accuracy: 46.72897%\n",
      "Speaker Validating Correct: 57/107 \n",
      "Speaker Validating Accuracy: 53.27103%\n",
      "Models' parameters and optimisers' parameters saved.\n",
      "\n",
      "Current Fold: 4 | Epoch: 11\n"
     ]
    },
    {
     "name": "stdout",
     "output_type": "stream",
     "text": [
      "Emotion Training Correct: 153/320 \n",
      "Emotion Training Accuracy: 47.81250%\n",
      "Speaker Training Correct: 0/320 \n",
      "Speaker Training Accuracy: 0.00000%\n"
     ]
    },
    {
     "name": "stdout",
     "output_type": "stream",
     "text": [
      "\n",
      "Emotion Validating Correct: 48/107 \n",
      "Emotion Validating Accuracy: 44.85981%\n",
      "Speaker Validating Correct: 54/107 \n",
      "Speaker Validating Accuracy: 50.46729%\n",
      "\n",
      "Current Fold: 4 | Epoch: 12\n"
     ]
    },
    {
     "name": "stdout",
     "output_type": "stream",
     "text": [
      "Emotion Training Correct: 155/320 \n",
      "Emotion Training Accuracy: 48.43750%\n",
      "Speaker Training Correct: 0/320 \n",
      "Speaker Training Accuracy: 0.00000%\n"
     ]
    },
    {
     "name": "stdout",
     "output_type": "stream",
     "text": [
      "\n",
      "Emotion Validating Correct: 50/107 \n",
      "Emotion Validating Accuracy: 46.72897%\n",
      "Speaker Validating Correct: 58/107 \n",
      "Speaker Validating Accuracy: 54.20561%\n",
      "Models' parameters and optimisers' parameters saved.\n",
      "\n",
      "Current Fold: 4 | Epoch: 13\n"
     ]
    },
    {
     "name": "stdout",
     "output_type": "stream",
     "text": [
      "Emotion Training Correct: 154/320 \n",
      "Emotion Training Accuracy: 48.12500%\n",
      "Speaker Training Correct: 0/320 \n",
      "Speaker Training Accuracy: 0.00000%\n"
     ]
    },
    {
     "name": "stdout",
     "output_type": "stream",
     "text": [
      "\n",
      "Emotion Validating Correct: 48/107 \n",
      "Emotion Validating Accuracy: 44.85981%\n",
      "Speaker Validating Correct: 62/107 \n",
      "Speaker Validating Accuracy: 57.94393%\n",
      "\n",
      "Current Fold: 4 | Epoch: 14\n"
     ]
    },
    {
     "name": "stdout",
     "output_type": "stream",
     "text": [
      "Emotion Training Correct: 161/320 \n",
      "Emotion Training Accuracy: 50.31250%\n",
      "Speaker Training Correct: 0/320 \n",
      "Speaker Training Accuracy: 0.00000%\n"
     ]
    },
    {
     "name": "stdout",
     "output_type": "stream",
     "text": [
      "\n",
      "Emotion Validating Correct: 52/107 \n",
      "Emotion Validating Accuracy: 48.59813%\n",
      "Speaker Validating Correct: 57/107 \n",
      "Speaker Validating Accuracy: 53.27103%\n",
      "Models' parameters and optimisers' parameters saved.\n",
      "\n",
      "Current Fold: 4 | Epoch: 15\n"
     ]
    },
    {
     "name": "stdout",
     "output_type": "stream",
     "text": [
      "Emotion Training Correct: 162/320 \n",
      "Emotion Training Accuracy: 50.62500%\n",
      "Speaker Training Correct: 0/320 \n",
      "Speaker Training Accuracy: 0.00000%\n"
     ]
    },
    {
     "name": "stdout",
     "output_type": "stream",
     "text": [
      "\n",
      "Emotion Validating Correct: 48/107 \n",
      "Emotion Validating Accuracy: 44.85981%\n",
      "Speaker Validating Correct: 61/107 \n",
      "Speaker Validating Accuracy: 57.00935%\n",
      "\n",
      "Current Fold: 4 | Epoch: 16\n"
     ]
    },
    {
     "name": "stdout",
     "output_type": "stream",
     "text": [
      "Emotion Training Correct: 154/320 \n",
      "Emotion Training Accuracy: 48.12500%\n",
      "Speaker Training Correct: 0/320 \n",
      "Speaker Training Accuracy: 0.00000%\n"
     ]
    },
    {
     "name": "stdout",
     "output_type": "stream",
     "text": [
      "\n",
      "Emotion Validating Correct: 45/107 \n",
      "Emotion Validating Accuracy: 42.05607%\n",
      "Speaker Validating Correct: 61/107 \n",
      "Speaker Validating Accuracy: 57.00935%\n",
      "\n",
      "Current Fold: 4 | Epoch: 17\n"
     ]
    },
    {
     "name": "stdout",
     "output_type": "stream",
     "text": [
      "Emotion Training Correct: 165/320 \n",
      "Emotion Training Accuracy: 51.56250%\n",
      "Speaker Training Correct: 0/320 \n",
      "Speaker Training Accuracy: 0.00000%\n"
     ]
    },
    {
     "name": "stdout",
     "output_type": "stream",
     "text": [
      "\n",
      "Emotion Validating Correct: 51/107 \n",
      "Emotion Validating Accuracy: 47.66355%\n",
      "Speaker Validating Correct: 57/107 \n",
      "Speaker Validating Accuracy: 53.27103%\n",
      "\n",
      "Current Fold: 4 | Epoch: 18\n"
     ]
    },
    {
     "name": "stdout",
     "output_type": "stream",
     "text": [
      "Emotion Training Correct: 165/320 \n",
      "Emotion Training Accuracy: 51.56250%\n",
      "Speaker Training Correct: 0/320 \n",
      "Speaker Training Accuracy: 0.00000%\n"
     ]
    },
    {
     "name": "stdout",
     "output_type": "stream",
     "text": [
      "\n",
      "Emotion Validating Correct: 46/107 \n",
      "Emotion Validating Accuracy: 42.99065%\n",
      "Speaker Validating Correct: 57/107 \n",
      "Speaker Validating Accuracy: 53.27103%\n",
      "\n",
      "Current Fold: 4 | Epoch: 19\n"
     ]
    },
    {
     "name": "stdout",
     "output_type": "stream",
     "text": [
      "Emotion Training Correct: 158/320 \n",
      "Emotion Training Accuracy: 49.37500%\n",
      "Speaker Training Correct: 0/320 \n",
      "Speaker Training Accuracy: 0.00000%\n"
     ]
    },
    {
     "name": "stdout",
     "output_type": "stream",
     "text": [
      "\n",
      "Emotion Validating Correct: 45/107 \n",
      "Emotion Validating Accuracy: 42.05607%\n",
      "Speaker Validating Correct: 57/107 \n",
      "Speaker Validating Accuracy: 53.27103%\n",
      "\n",
      "Current Fold: 4 | Epoch: 20\n"
     ]
    },
    {
     "name": "stdout",
     "output_type": "stream",
     "text": [
      "Emotion Training Correct: 157/320 \n",
      "Emotion Training Accuracy: 49.06250%\n",
      "Speaker Training Correct: 0/320 \n",
      "Speaker Training Accuracy: 0.00000%\n"
     ]
    },
    {
     "name": "stdout",
     "output_type": "stream",
     "text": [
      "\n",
      "Emotion Validating Correct: 47/107 \n",
      "Emotion Validating Accuracy: 43.92523%\n",
      "Speaker Validating Correct: 54/107 \n",
      "Speaker Validating Accuracy: 50.46729%\n",
      "\n",
      "Current Fold: 4 | Epoch: 21\n"
     ]
    },
    {
     "name": "stdout",
     "output_type": "stream",
     "text": [
      "Emotion Training Correct: 154/320 \n",
      "Emotion Training Accuracy: 48.12500%\n",
      "Speaker Training Correct: 0/320 \n",
      "Speaker Training Accuracy: 0.00000%\n"
     ]
    },
    {
     "name": "stdout",
     "output_type": "stream",
     "text": [
      "\n",
      "Emotion Validating Correct: 43/107 \n",
      "Emotion Validating Accuracy: 40.18692%\n",
      "Speaker Validating Correct: 51/107 \n",
      "Speaker Validating Accuracy: 47.66355%\n",
      "\n",
      "Current Fold: 4 | Epoch: 22\n"
     ]
    },
    {
     "name": "stdout",
     "output_type": "stream",
     "text": [
      "Emotion Training Correct: 162/320 \n",
      "Emotion Training Accuracy: 50.62500%\n",
      "Speaker Training Correct: 0/320 \n",
      "Speaker Training Accuracy: 0.00000%\n"
     ]
    },
    {
     "name": "stdout",
     "output_type": "stream",
     "text": [
      "\n",
      "Emotion Validating Correct: 48/107 \n",
      "Emotion Validating Accuracy: 44.85981%\n",
      "Speaker Validating Correct: 51/107 \n",
      "Speaker Validating Accuracy: 47.66355%\n",
      "\n",
      "Current Fold: 4 | Epoch: 23\n"
     ]
    },
    {
     "name": "stdout",
     "output_type": "stream",
     "text": [
      "Emotion Training Correct: 158/320 \n",
      "Emotion Training Accuracy: 49.37500%\n",
      "Speaker Training Correct: 0/320 \n",
      "Speaker Training Accuracy: 0.00000%\n"
     ]
    },
    {
     "name": "stdout",
     "output_type": "stream",
     "text": [
      "\n",
      "Emotion Validating Correct: 47/107 \n",
      "Emotion Validating Accuracy: 43.92523%\n",
      "Speaker Validating Correct: 50/107 \n",
      "Speaker Validating Accuracy: 46.72897%\n",
      "\n",
      "Current Fold: 4 | Epoch: 24\n"
     ]
    },
    {
     "name": "stdout",
     "output_type": "stream",
     "text": [
      "Emotion Training Correct: 156/320 \n",
      "Emotion Training Accuracy: 48.75000%\n",
      "Speaker Training Correct: 0/320 \n",
      "Speaker Training Accuracy: 0.00000%\n"
     ]
    },
    {
     "name": "stdout",
     "output_type": "stream",
     "text": [
      "\n",
      "Emotion Validating Correct: 40/107 \n",
      "Emotion Validating Accuracy: 37.38318%\n",
      "Speaker Validating Correct: 51/107 \n",
      "Speaker Validating Accuracy: 47.66355%\n",
      "\n",
      "Current Fold: 4 | Epoch: 25\n"
     ]
    },
    {
     "name": "stdout",
     "output_type": "stream",
     "text": [
      "Emotion Training Correct: 172/320 \n",
      "Emotion Training Accuracy: 53.75000%\n",
      "Speaker Training Correct: 0/320 \n",
      "Speaker Training Accuracy: 0.00000%\n"
     ]
    },
    {
     "name": "stdout",
     "output_type": "stream",
     "text": [
      "\n",
      "Emotion Validating Correct: 52/107 \n",
      "Emotion Validating Accuracy: 48.59813%\n",
      "Speaker Validating Correct: 55/107 \n",
      "Speaker Validating Accuracy: 51.40187%\n",
      "Models' parameters and optimisers' parameters saved.\n",
      "\n",
      "Current Fold: 4 | Epoch: 26\n"
     ]
    },
    {
     "name": "stdout",
     "output_type": "stream",
     "text": [
      "Emotion Training Correct: 172/320 \n",
      "Emotion Training Accuracy: 53.75000%\n",
      "Speaker Training Correct: 0/320 \n",
      "Speaker Training Accuracy: 0.00000%\n"
     ]
    },
    {
     "name": "stdout",
     "output_type": "stream",
     "text": [
      "\n",
      "Emotion Validating Correct: 49/107 \n",
      "Emotion Validating Accuracy: 45.79439%\n",
      "Speaker Validating Correct: 55/107 \n",
      "Speaker Validating Accuracy: 51.40187%\n",
      "\n",
      "Current Fold: 4 | Epoch: 27\n"
     ]
    },
    {
     "name": "stdout",
     "output_type": "stream",
     "text": [
      "Emotion Training Correct: 172/320 \n",
      "Emotion Training Accuracy: 53.75000%\n",
      "Speaker Training Correct: 0/320 \n",
      "Speaker Training Accuracy: 0.00000%\n"
     ]
    },
    {
     "name": "stdout",
     "output_type": "stream",
     "text": [
      "\n",
      "Emotion Validating Correct: 51/107 \n",
      "Emotion Validating Accuracy: 47.66355%\n",
      "Speaker Validating Correct: 56/107 \n",
      "Speaker Validating Accuracy: 52.33645%\n",
      "\n",
      "Current Fold: 4 | Epoch: 28\n"
     ]
    },
    {
     "name": "stdout",
     "output_type": "stream",
     "text": [
      "Emotion Training Correct: 174/320 \n",
      "Emotion Training Accuracy: 54.37500%\n",
      "Speaker Training Correct: 0/320 \n",
      "Speaker Training Accuracy: 0.00000%\n"
     ]
    },
    {
     "name": "stdout",
     "output_type": "stream",
     "text": [
      "\n",
      "Emotion Validating Correct: 50/107 \n",
      "Emotion Validating Accuracy: 46.72897%\n",
      "Speaker Validating Correct: 53/107 \n",
      "Speaker Validating Accuracy: 49.53271%\n",
      "\n",
      "Current Fold: 4 | Epoch: 29\n"
     ]
    },
    {
     "name": "stdout",
     "output_type": "stream",
     "text": [
      "Emotion Training Correct: 175/320 \n",
      "Emotion Training Accuracy: 54.68750%\n",
      "Speaker Training Correct: 0/320 \n",
      "Speaker Training Accuracy: 0.00000%\n"
     ]
    },
    {
     "name": "stdout",
     "output_type": "stream",
     "text": [
      "\n",
      "Emotion Validating Correct: 51/107 \n",
      "Emotion Validating Accuracy: 47.66355%\n",
      "Speaker Validating Correct: 54/107 \n",
      "Speaker Validating Accuracy: 50.46729%\n",
      "\n",
      "Current Fold: 4 | Epoch: 30\n"
     ]
    },
    {
     "name": "stdout",
     "output_type": "stream",
     "text": [
      "Emotion Training Correct: 170/320 \n",
      "Emotion Training Accuracy: 53.12500%\n",
      "Speaker Training Correct: 0/320 \n",
      "Speaker Training Accuracy: 0.00000%\n"
     ]
    },
    {
     "name": "stdout",
     "output_type": "stream",
     "text": [
      "\n",
      "Emotion Validating Correct: 48/107 \n",
      "Emotion Validating Accuracy: 44.85981%\n",
      "Speaker Validating Correct: 51/107 \n",
      "Speaker Validating Accuracy: 47.66355%\n",
      "\n",
      "Current Fold: 4 | Epoch: 31\n"
     ]
    },
    {
     "name": "stdout",
     "output_type": "stream",
     "text": [
      "Emotion Training Correct: 170/320 \n",
      "Emotion Training Accuracy: 53.12500%\n",
      "Speaker Training Correct: 0/320 \n",
      "Speaker Training Accuracy: 0.00000%\n"
     ]
    },
    {
     "name": "stdout",
     "output_type": "stream",
     "text": [
      "\n",
      "Emotion Validating Correct: 47/107 \n",
      "Emotion Validating Accuracy: 43.92523%\n",
      "Speaker Validating Correct: 53/107 \n",
      "Speaker Validating Accuracy: 49.53271%\n",
      "\n",
      "Current Fold: 4 | Epoch: 32\n"
     ]
    },
    {
     "name": "stdout",
     "output_type": "stream",
     "text": [
      "Emotion Training Correct: 180/320 \n",
      "Emotion Training Accuracy: 56.25000%\n",
      "Speaker Training Correct: 0/320 \n",
      "Speaker Training Accuracy: 0.00000%\n"
     ]
    },
    {
     "name": "stdout",
     "output_type": "stream",
     "text": [
      "\n",
      "Emotion Validating Correct: 51/107 \n",
      "Emotion Validating Accuracy: 47.66355%\n",
      "Speaker Validating Correct: 52/107 \n",
      "Speaker Validating Accuracy: 48.59813%\n",
      "\n",
      "Current Fold: 4 | Epoch: 33\n"
     ]
    },
    {
     "name": "stdout",
     "output_type": "stream",
     "text": [
      "Emotion Training Correct: 178/320 \n",
      "Emotion Training Accuracy: 55.62500%\n",
      "Speaker Training Correct: 0/320 \n",
      "Speaker Training Accuracy: 0.00000%\n"
     ]
    },
    {
     "name": "stdout",
     "output_type": "stream",
     "text": [
      "\n",
      "Emotion Validating Correct: 53/107 \n",
      "Emotion Validating Accuracy: 49.53271%\n",
      "Speaker Validating Correct: 52/107 \n",
      "Speaker Validating Accuracy: 48.59813%\n",
      "Models' parameters and optimisers' parameters saved.\n",
      "\n",
      "Current Fold: 4 | Epoch: 34\n"
     ]
    },
    {
     "name": "stdout",
     "output_type": "stream",
     "text": [
      "Emotion Training Correct: 181/320 \n",
      "Emotion Training Accuracy: 56.56250%\n",
      "Speaker Training Correct: 0/320 \n",
      "Speaker Training Accuracy: 0.00000%\n"
     ]
    },
    {
     "name": "stdout",
     "output_type": "stream",
     "text": [
      "\n",
      "Emotion Validating Correct: 48/107 \n",
      "Emotion Validating Accuracy: 44.85981%\n",
      "Speaker Validating Correct: 51/107 \n",
      "Speaker Validating Accuracy: 47.66355%\n",
      "\n",
      "Current Fold: 4 | Epoch: 35\n"
     ]
    },
    {
     "name": "stdout",
     "output_type": "stream",
     "text": [
      "Emotion Training Correct: 180/320 \n",
      "Emotion Training Accuracy: 56.25000%\n",
      "Speaker Training Correct: 0/320 \n",
      "Speaker Training Accuracy: 0.00000%\n"
     ]
    },
    {
     "name": "stdout",
     "output_type": "stream",
     "text": [
      "\n",
      "Emotion Validating Correct: 42/107 \n",
      "Emotion Validating Accuracy: 39.25234%\n",
      "Speaker Validating Correct: 51/107 \n",
      "Speaker Validating Accuracy: 47.66355%\n",
      "\n",
      "Current Fold: 4 | Epoch: 36\n"
     ]
    },
    {
     "name": "stdout",
     "output_type": "stream",
     "text": [
      "Emotion Training Correct: 180/320 \n",
      "Emotion Training Accuracy: 56.25000%\n",
      "Speaker Training Correct: 0/320 \n",
      "Speaker Training Accuracy: 0.00000%\n"
     ]
    },
    {
     "name": "stdout",
     "output_type": "stream",
     "text": [
      "\n",
      "Emotion Validating Correct: 49/107 \n",
      "Emotion Validating Accuracy: 45.79439%\n",
      "Speaker Validating Correct: 53/107 \n",
      "Speaker Validating Accuracy: 49.53271%\n",
      "\n",
      "Current Fold: 4 | Epoch: 37\n"
     ]
    },
    {
     "name": "stdout",
     "output_type": "stream",
     "text": [
      "Emotion Training Correct: 172/320 \n",
      "Emotion Training Accuracy: 53.75000%\n",
      "Speaker Training Correct: 0/320 \n",
      "Speaker Training Accuracy: 0.00000%\n"
     ]
    },
    {
     "name": "stdout",
     "output_type": "stream",
     "text": [
      "\n",
      "Emotion Validating Correct: 54/107 \n",
      "Emotion Validating Accuracy: 50.46729%\n",
      "Speaker Validating Correct: 55/107 \n",
      "Speaker Validating Accuracy: 51.40187%\n",
      "Models' parameters and optimisers' parameters saved.\n",
      "\n",
      "Current Fold: 4 | Epoch: 38\n"
     ]
    },
    {
     "name": "stdout",
     "output_type": "stream",
     "text": [
      "Emotion Training Correct: 151/320 \n",
      "Emotion Training Accuracy: 47.18750%\n",
      "Speaker Training Correct: 0/320 \n",
      "Speaker Training Accuracy: 0.00000%\n"
     ]
    },
    {
     "name": "stdout",
     "output_type": "stream",
     "text": [
      "\n",
      "Emotion Validating Correct: 50/107 \n",
      "Emotion Validating Accuracy: 46.72897%\n",
      "Speaker Validating Correct: 53/107 \n",
      "Speaker Validating Accuracy: 49.53271%\n",
      "\n",
      "Current Fold: 4 | Epoch: 39\n"
     ]
    },
    {
     "name": "stdout",
     "output_type": "stream",
     "text": [
      "Emotion Training Correct: 156/320 \n",
      "Emotion Training Accuracy: 48.75000%\n",
      "Speaker Training Correct: 0/320 \n",
      "Speaker Training Accuracy: 0.00000%\n"
     ]
    },
    {
     "name": "stdout",
     "output_type": "stream",
     "text": [
      "\n",
      "Emotion Validating Correct: 55/107 \n",
      "Emotion Validating Accuracy: 51.40187%\n",
      "Speaker Validating Correct: 52/107 \n",
      "Speaker Validating Accuracy: 48.59813%\n",
      "Models' parameters and optimisers' parameters saved.\n",
      "\n",
      "Current Fold: 4 | Epoch: 40\n"
     ]
    },
    {
     "name": "stdout",
     "output_type": "stream",
     "text": [
      "Emotion Training Correct: 168/320 \n",
      "Emotion Training Accuracy: 52.50000%\n",
      "Speaker Training Correct: 0/320 \n",
      "Speaker Training Accuracy: 0.00000%\n"
     ]
    },
    {
     "name": "stdout",
     "output_type": "stream",
     "text": [
      "\n",
      "Emotion Validating Correct: 46/107 \n",
      "Emotion Validating Accuracy: 42.99065%\n",
      "Speaker Validating Correct: 56/107 \n",
      "Speaker Validating Accuracy: 52.33645%\n",
      "\n",
      "Current Fold: 4 | Epoch: 41\n"
     ]
    },
    {
     "name": "stdout",
     "output_type": "stream",
     "text": [
      "Emotion Training Correct: 182/320 \n",
      "Emotion Training Accuracy: 56.87500%\n",
      "Speaker Training Correct: 0/320 \n",
      "Speaker Training Accuracy: 0.00000%\n"
     ]
    },
    {
     "name": "stdout",
     "output_type": "stream",
     "text": [
      "\n",
      "Emotion Validating Correct: 53/107 \n",
      "Emotion Validating Accuracy: 49.53271%\n",
      "Speaker Validating Correct: 51/107 \n",
      "Speaker Validating Accuracy: 47.66355%\n",
      "\n",
      "Current Fold: 4 | Epoch: 42\n"
     ]
    },
    {
     "name": "stdout",
     "output_type": "stream",
     "text": [
      "Emotion Training Correct: 178/320 \n",
      "Emotion Training Accuracy: 55.62500%\n",
      "Speaker Training Correct: 0/320 \n",
      "Speaker Training Accuracy: 0.00000%\n"
     ]
    },
    {
     "name": "stdout",
     "output_type": "stream",
     "text": [
      "\n",
      "Emotion Validating Correct: 57/107 \n",
      "Emotion Validating Accuracy: 53.27103%\n",
      "Speaker Validating Correct: 52/107 \n",
      "Speaker Validating Accuracy: 48.59813%\n",
      "Models' parameters and optimisers' parameters saved.\n",
      "\n",
      "Current Fold: 4 | Epoch: 43\n"
     ]
    },
    {
     "name": "stdout",
     "output_type": "stream",
     "text": [
      "Emotion Training Correct: 171/320 \n",
      "Emotion Training Accuracy: 53.43750%\n",
      "Speaker Training Correct: 0/320 \n",
      "Speaker Training Accuracy: 0.00000%\n"
     ]
    },
    {
     "name": "stdout",
     "output_type": "stream",
     "text": [
      "\n",
      "Emotion Validating Correct: 46/107 \n",
      "Emotion Validating Accuracy: 42.99065%\n",
      "Speaker Validating Correct: 50/107 \n",
      "Speaker Validating Accuracy: 46.72897%\n",
      "\n",
      "Current Fold: 4 | Epoch: 44\n"
     ]
    },
    {
     "name": "stdout",
     "output_type": "stream",
     "text": [
      "Emotion Training Correct: 178/320 \n",
      "Emotion Training Accuracy: 55.62500%\n",
      "Speaker Training Correct: 0/320 \n",
      "Speaker Training Accuracy: 0.00000%\n"
     ]
    },
    {
     "name": "stdout",
     "output_type": "stream",
     "text": [
      "\n",
      "Emotion Validating Correct: 50/107 \n",
      "Emotion Validating Accuracy: 46.72897%\n",
      "Speaker Validating Correct: 51/107 \n",
      "Speaker Validating Accuracy: 47.66355%\n",
      "\n",
      "Current Fold: 4 | Epoch: 45\n"
     ]
    },
    {
     "name": "stdout",
     "output_type": "stream",
     "text": [
      "Emotion Training Correct: 175/320 \n",
      "Emotion Training Accuracy: 54.68750%\n",
      "Speaker Training Correct: 0/320 \n",
      "Speaker Training Accuracy: 0.00000%\n"
     ]
    },
    {
     "name": "stdout",
     "output_type": "stream",
     "text": [
      "\n",
      "Emotion Validating Correct: 44/107 \n",
      "Emotion Validating Accuracy: 41.12150%\n",
      "Speaker Validating Correct: 49/107 \n",
      "Speaker Validating Accuracy: 45.79439%\n",
      "\n",
      "Current Fold: 4 | Epoch: 46\n"
     ]
    },
    {
     "name": "stdout",
     "output_type": "stream",
     "text": [
      "Emotion Training Correct: 189/320 \n",
      "Emotion Training Accuracy: 59.06250%\n",
      "Speaker Training Correct: 0/320 \n",
      "Speaker Training Accuracy: 0.00000%\n"
     ]
    },
    {
     "name": "stdout",
     "output_type": "stream",
     "text": [
      "\n",
      "Emotion Validating Correct: 50/107 \n",
      "Emotion Validating Accuracy: 46.72897%\n",
      "Speaker Validating Correct: 50/107 \n",
      "Speaker Validating Accuracy: 46.72897%\n",
      "\n",
      "Current Fold: 4 | Epoch: 47\n"
     ]
    },
    {
     "name": "stdout",
     "output_type": "stream",
     "text": [
      "Emotion Training Correct: 178/320 \n",
      "Emotion Training Accuracy: 55.62500%\n",
      "Speaker Training Correct: 0/320 \n",
      "Speaker Training Accuracy: 0.00000%\n"
     ]
    },
    {
     "name": "stdout",
     "output_type": "stream",
     "text": [
      "\n",
      "Emotion Validating Correct: 59/107 \n",
      "Emotion Validating Accuracy: 55.14019%\n",
      "Speaker Validating Correct: 50/107 \n",
      "Speaker Validating Accuracy: 46.72897%\n",
      "Models' parameters and optimisers' parameters saved.\n",
      "\n",
      "Current Fold: 4 | Epoch: 48\n"
     ]
    },
    {
     "name": "stdout",
     "output_type": "stream",
     "text": [
      "Emotion Training Correct: 182/320 \n",
      "Emotion Training Accuracy: 56.87500%\n",
      "Speaker Training Correct: 0/320 \n",
      "Speaker Training Accuracy: 0.00000%\n"
     ]
    },
    {
     "name": "stdout",
     "output_type": "stream",
     "text": [
      "\n",
      "Emotion Validating Correct: 49/107 \n",
      "Emotion Validating Accuracy: 45.79439%\n",
      "Speaker Validating Correct: 51/107 \n",
      "Speaker Validating Accuracy: 47.66355%\n",
      "\n",
      "Current Fold: 4 | Epoch: 49\n"
     ]
    },
    {
     "name": "stdout",
     "output_type": "stream",
     "text": [
      "Emotion Training Correct: 191/320 \n",
      "Emotion Training Accuracy: 59.68750%\n",
      "Speaker Training Correct: 0/320 \n",
      "Speaker Training Accuracy: 0.00000%\n"
     ]
    },
    {
     "name": "stdout",
     "output_type": "stream",
     "text": [
      "\n",
      "Emotion Validating Correct: 51/107 \n",
      "Emotion Validating Accuracy: 47.66355%\n",
      "Speaker Validating Correct: 50/107 \n",
      "Speaker Validating Accuracy: 46.72897%\n",
      "\n",
      "Current Fold: 4 | Epoch: 50\n"
     ]
    },
    {
     "name": "stdout",
     "output_type": "stream",
     "text": [
      "Emotion Training Correct: 185/320 \n",
      "Emotion Training Accuracy: 57.81250%\n",
      "Speaker Training Correct: 0/320 \n",
      "Speaker Training Accuracy: 0.00000%\n"
     ]
    },
    {
     "name": "stdout",
     "output_type": "stream",
     "text": [
      "\n",
      "Emotion Validating Correct: 52/107 \n",
      "Emotion Validating Accuracy: 48.59813%\n",
      "Speaker Validating Correct: 52/107 \n",
      "Speaker Validating Accuracy: 48.59813%\n",
      "\n",
      "Current Fold: 4 | Epoch: 51\n"
     ]
    },
    {
     "name": "stdout",
     "output_type": "stream",
     "text": [
      "Emotion Training Correct: 188/320 \n",
      "Emotion Training Accuracy: 58.75000%\n",
      "Speaker Training Correct: 0/320 \n",
      "Speaker Training Accuracy: 0.00000%\n"
     ]
    },
    {
     "name": "stdout",
     "output_type": "stream",
     "text": [
      "\n",
      "Emotion Validating Correct: 49/107 \n",
      "Emotion Validating Accuracy: 45.79439%\n",
      "Speaker Validating Correct: 52/107 \n",
      "Speaker Validating Accuracy: 48.59813%\n",
      "\n",
      "Current Fold: 4 | Epoch: 52\n"
     ]
    },
    {
     "name": "stdout",
     "output_type": "stream",
     "text": [
      "Emotion Training Correct: 174/320 \n",
      "Emotion Training Accuracy: 54.37500%\n",
      "Speaker Training Correct: 0/320 \n",
      "Speaker Training Accuracy: 0.00000%\n"
     ]
    },
    {
     "name": "stdout",
     "output_type": "stream",
     "text": [
      "\n",
      "Emotion Validating Correct: 47/107 \n",
      "Emotion Validating Accuracy: 43.92523%\n",
      "Speaker Validating Correct: 52/107 \n",
      "Speaker Validating Accuracy: 48.59813%\n",
      "\n",
      "Current Fold: 4 | Epoch: 53\n"
     ]
    },
    {
     "name": "stdout",
     "output_type": "stream",
     "text": [
      "Emotion Training Correct: 176/320 \n",
      "Emotion Training Accuracy: 55.00000%\n",
      "Speaker Training Correct: 0/320 \n",
      "Speaker Training Accuracy: 0.00000%\n"
     ]
    },
    {
     "name": "stdout",
     "output_type": "stream",
     "text": [
      "\n",
      "Emotion Validating Correct: 58/107 \n",
      "Emotion Validating Accuracy: 54.20561%\n",
      "Speaker Validating Correct: 53/107 \n",
      "Speaker Validating Accuracy: 49.53271%\n",
      "\n",
      "Current Fold: 4 | Epoch: 54\n"
     ]
    },
    {
     "name": "stdout",
     "output_type": "stream",
     "text": [
      "Emotion Training Correct: 203/320 \n",
      "Emotion Training Accuracy: 63.43750%\n",
      "Speaker Training Correct: 0/320 \n",
      "Speaker Training Accuracy: 0.00000%\n"
     ]
    },
    {
     "name": "stdout",
     "output_type": "stream",
     "text": [
      "\n",
      "Emotion Validating Correct: 52/107 \n",
      "Emotion Validating Accuracy: 48.59813%\n",
      "Speaker Validating Correct: 55/107 \n",
      "Speaker Validating Accuracy: 51.40187%\n",
      "\n",
      "Current Fold: 4 | Epoch: 55\n"
     ]
    },
    {
     "name": "stdout",
     "output_type": "stream",
     "text": [
      "Emotion Training Correct: 195/320 \n",
      "Emotion Training Accuracy: 60.93750%\n",
      "Speaker Training Correct: 0/320 \n",
      "Speaker Training Accuracy: 0.00000%\n"
     ]
    },
    {
     "name": "stdout",
     "output_type": "stream",
     "text": [
      "\n",
      "Emotion Validating Correct: 49/107 \n",
      "Emotion Validating Accuracy: 45.79439%\n",
      "Speaker Validating Correct: 53/107 \n",
      "Speaker Validating Accuracy: 49.53271%\n",
      "\n",
      "Current Fold: 4 | Epoch: 56\n"
     ]
    },
    {
     "name": "stdout",
     "output_type": "stream",
     "text": [
      "Emotion Training Correct: 201/320 \n",
      "Emotion Training Accuracy: 62.81250%\n",
      "Speaker Training Correct: 0/320 \n",
      "Speaker Training Accuracy: 0.00000%\n"
     ]
    },
    {
     "name": "stdout",
     "output_type": "stream",
     "text": [
      "\n",
      "Emotion Validating Correct: 50/107 \n",
      "Emotion Validating Accuracy: 46.72897%\n",
      "Speaker Validating Correct: 50/107 \n",
      "Speaker Validating Accuracy: 46.72897%\n",
      "\n",
      "Current Fold: 4 | Epoch: 57\n"
     ]
    },
    {
     "name": "stdout",
     "output_type": "stream",
     "text": [
      "Emotion Training Correct: 191/320 \n",
      "Emotion Training Accuracy: 59.68750%\n",
      "Speaker Training Correct: 0/320 \n",
      "Speaker Training Accuracy: 0.00000%\n"
     ]
    },
    {
     "name": "stdout",
     "output_type": "stream",
     "text": [
      "\n",
      "Emotion Validating Correct: 53/107 \n",
      "Emotion Validating Accuracy: 49.53271%\n",
      "Speaker Validating Correct: 51/107 \n",
      "Speaker Validating Accuracy: 47.66355%\n",
      "\n",
      "Current Fold: 4 | Epoch: 58\n"
     ]
    },
    {
     "name": "stdout",
     "output_type": "stream",
     "text": [
      "Emotion Training Correct: 197/320 \n",
      "Emotion Training Accuracy: 61.56250%\n",
      "Speaker Training Correct: 0/320 \n",
      "Speaker Training Accuracy: 0.00000%\n"
     ]
    },
    {
     "name": "stdout",
     "output_type": "stream",
     "text": [
      "\n",
      "Emotion Validating Correct: 48/107 \n",
      "Emotion Validating Accuracy: 44.85981%\n",
      "Speaker Validating Correct: 51/107 \n",
      "Speaker Validating Accuracy: 47.66355%\n",
      "\n",
      "Current Fold: 4 | Epoch: 59\n"
     ]
    },
    {
     "name": "stdout",
     "output_type": "stream",
     "text": [
      "Emotion Training Correct: 209/320 \n",
      "Emotion Training Accuracy: 65.31250%\n",
      "Speaker Training Correct: 0/320 \n",
      "Speaker Training Accuracy: 0.00000%\n"
     ]
    },
    {
     "name": "stdout",
     "output_type": "stream",
     "text": [
      "\n",
      "Emotion Validating Correct: 53/107 \n",
      "Emotion Validating Accuracy: 49.53271%\n",
      "Speaker Validating Correct: 53/107 \n",
      "Speaker Validating Accuracy: 49.53271%\n",
      "\n",
      "Current Fold: 4 | Epoch: 60\n"
     ]
    },
    {
     "name": "stdout",
     "output_type": "stream",
     "text": [
      "Emotion Training Correct: 209/320 \n",
      "Emotion Training Accuracy: 65.31250%\n",
      "Speaker Training Correct: 0/320 \n",
      "Speaker Training Accuracy: 0.00000%\n"
     ]
    },
    {
     "name": "stdout",
     "output_type": "stream",
     "text": [
      "\n",
      "Emotion Validating Correct: 51/107 \n",
      "Emotion Validating Accuracy: 47.66355%\n",
      "Speaker Validating Correct: 48/107 \n",
      "Speaker Validating Accuracy: 44.85981%\n",
      "\n",
      "Current Fold: 4 | Epoch: 61\n"
     ]
    },
    {
     "name": "stdout",
     "output_type": "stream",
     "text": [
      "Emotion Training Correct: 205/320 \n",
      "Emotion Training Accuracy: 64.06250%\n",
      "Speaker Training Correct: 0/320 \n",
      "Speaker Training Accuracy: 0.00000%\n"
     ]
    },
    {
     "name": "stdout",
     "output_type": "stream",
     "text": [
      "\n",
      "Emotion Validating Correct: 53/107 \n",
      "Emotion Validating Accuracy: 49.53271%\n",
      "Speaker Validating Correct: 51/107 \n",
      "Speaker Validating Accuracy: 47.66355%\n",
      "\n",
      "Current Fold: 4 | Epoch: 62\n"
     ]
    },
    {
     "name": "stdout",
     "output_type": "stream",
     "text": [
      "Emotion Training Correct: 210/320 \n",
      "Emotion Training Accuracy: 65.62500%\n",
      "Speaker Training Correct: 0/320 \n",
      "Speaker Training Accuracy: 0.00000%\n"
     ]
    },
    {
     "name": "stdout",
     "output_type": "stream",
     "text": [
      "\n",
      "Emotion Validating Correct: 52/107 \n",
      "Emotion Validating Accuracy: 48.59813%\n",
      "Speaker Validating Correct: 53/107 \n",
      "Speaker Validating Accuracy: 49.53271%\n",
      "\n",
      "Current Fold: 4 | Epoch: 63\n"
     ]
    },
    {
     "name": "stdout",
     "output_type": "stream",
     "text": [
      "Emotion Training Correct: 215/320 \n",
      "Emotion Training Accuracy: 67.18750%\n",
      "Speaker Training Correct: 0/320 \n",
      "Speaker Training Accuracy: 0.00000%\n"
     ]
    },
    {
     "name": "stdout",
     "output_type": "stream",
     "text": [
      "\n",
      "Emotion Validating Correct: 59/107 \n",
      "Emotion Validating Accuracy: 55.14019%\n",
      "Speaker Validating Correct: 50/107 \n",
      "Speaker Validating Accuracy: 46.72897%\n",
      "Models' parameters and optimisers' parameters saved.\n",
      "\n",
      "Current Fold: 4 | Epoch: 64\n"
     ]
    },
    {
     "name": "stdout",
     "output_type": "stream",
     "text": [
      "Emotion Training Correct: 218/320 \n",
      "Emotion Training Accuracy: 68.12500%\n",
      "Speaker Training Correct: 0/320 \n",
      "Speaker Training Accuracy: 0.00000%\n"
     ]
    },
    {
     "name": "stdout",
     "output_type": "stream",
     "text": [
      "\n",
      "Emotion Validating Correct: 52/107 \n",
      "Emotion Validating Accuracy: 48.59813%\n",
      "Speaker Validating Correct: 50/107 \n",
      "Speaker Validating Accuracy: 46.72897%\n",
      "\n",
      "Current Fold: 4 | Epoch: 65\n"
     ]
    },
    {
     "name": "stdout",
     "output_type": "stream",
     "text": [
      "Emotion Training Correct: 204/320 \n",
      "Emotion Training Accuracy: 63.75000%\n",
      "Speaker Training Correct: 0/320 \n",
      "Speaker Training Accuracy: 0.00000%\n"
     ]
    },
    {
     "name": "stdout",
     "output_type": "stream",
     "text": [
      "\n",
      "Emotion Validating Correct: 56/107 \n",
      "Emotion Validating Accuracy: 52.33645%\n",
      "Speaker Validating Correct: 51/107 \n",
      "Speaker Validating Accuracy: 47.66355%\n",
      "\n",
      "Current Fold: 4 | Epoch: 66\n"
     ]
    },
    {
     "name": "stdout",
     "output_type": "stream",
     "text": [
      "Emotion Training Correct: 204/320 \n",
      "Emotion Training Accuracy: 63.75000%\n",
      "Speaker Training Correct: 0/320 \n",
      "Speaker Training Accuracy: 0.00000%\n"
     ]
    },
    {
     "name": "stdout",
     "output_type": "stream",
     "text": [
      "\n",
      "Emotion Validating Correct: 54/107 \n",
      "Emotion Validating Accuracy: 50.46729%\n",
      "Speaker Validating Correct: 53/107 \n",
      "Speaker Validating Accuracy: 49.53271%\n",
      "\n",
      "Current Fold: 4 | Epoch: 67\n"
     ]
    },
    {
     "name": "stdout",
     "output_type": "stream",
     "text": [
      "Emotion Training Correct: 220/320 \n",
      "Emotion Training Accuracy: 68.75000%\n",
      "Speaker Training Correct: 0/320 \n",
      "Speaker Training Accuracy: 0.00000%\n"
     ]
    },
    {
     "name": "stdout",
     "output_type": "stream",
     "text": [
      "\n",
      "Emotion Validating Correct: 59/107 \n",
      "Emotion Validating Accuracy: 55.14019%\n",
      "Speaker Validating Correct: 55/107 \n",
      "Speaker Validating Accuracy: 51.40187%\n",
      "Models' parameters and optimisers' parameters saved.\n",
      "\n",
      "Current Fold: 4 | Epoch: 68\n"
     ]
    },
    {
     "name": "stdout",
     "output_type": "stream",
     "text": [
      "Emotion Training Correct: 207/320 \n",
      "Emotion Training Accuracy: 64.68750%\n",
      "Speaker Training Correct: 0/320 \n",
      "Speaker Training Accuracy: 0.00000%\n"
     ]
    },
    {
     "name": "stdout",
     "output_type": "stream",
     "text": [
      "\n",
      "Emotion Validating Correct: 64/107 \n",
      "Emotion Validating Accuracy: 59.81308%\n",
      "Speaker Validating Correct: 51/107 \n",
      "Speaker Validating Accuracy: 47.66355%\n",
      "Models' parameters and optimisers' parameters saved.\n",
      "\n",
      "Current Fold: 4 | Epoch: 69\n"
     ]
    },
    {
     "name": "stdout",
     "output_type": "stream",
     "text": [
      "Emotion Training Correct: 228/320 \n",
      "Emotion Training Accuracy: 71.25000%\n",
      "Speaker Training Correct: 0/320 \n",
      "Speaker Training Accuracy: 0.00000%\n"
     ]
    },
    {
     "name": "stdout",
     "output_type": "stream",
     "text": [
      "\n",
      "Emotion Validating Correct: 61/107 \n",
      "Emotion Validating Accuracy: 57.00935%\n",
      "Speaker Validating Correct: 53/107 \n",
      "Speaker Validating Accuracy: 49.53271%\n",
      "\n",
      "Current Fold: 4 | Epoch: 70\n"
     ]
    },
    {
     "name": "stdout",
     "output_type": "stream",
     "text": [
      "Emotion Training Correct: 209/320 \n",
      "Emotion Training Accuracy: 65.31250%\n",
      "Speaker Training Correct: 0/320 \n",
      "Speaker Training Accuracy: 0.00000%\n"
     ]
    },
    {
     "name": "stdout",
     "output_type": "stream",
     "text": [
      "\n",
      "Emotion Validating Correct: 55/107 \n",
      "Emotion Validating Accuracy: 51.40187%\n",
      "Speaker Validating Correct: 49/107 \n",
      "Speaker Validating Accuracy: 45.79439%\n",
      "\n",
      "Current Fold: 4 | Epoch: 71\n"
     ]
    },
    {
     "name": "stdout",
     "output_type": "stream",
     "text": [
      "Emotion Training Correct: 199/320 \n",
      "Emotion Training Accuracy: 62.18750%\n",
      "Speaker Training Correct: 0/320 \n",
      "Speaker Training Accuracy: 0.00000%\n"
     ]
    },
    {
     "name": "stdout",
     "output_type": "stream",
     "text": [
      "\n",
      "Emotion Validating Correct: 48/107 \n",
      "Emotion Validating Accuracy: 44.85981%\n",
      "Speaker Validating Correct: 48/107 \n",
      "Speaker Validating Accuracy: 44.85981%\n",
      "\n",
      "Current Fold: 4 | Epoch: 72\n"
     ]
    },
    {
     "name": "stdout",
     "output_type": "stream",
     "text": [
      "Emotion Training Correct: 187/320 \n",
      "Emotion Training Accuracy: 58.43750%\n",
      "Speaker Training Correct: 0/320 \n",
      "Speaker Training Accuracy: 0.00000%\n"
     ]
    },
    {
     "name": "stdout",
     "output_type": "stream",
     "text": [
      "\n",
      "Emotion Validating Correct: 57/107 \n",
      "Emotion Validating Accuracy: 53.27103%\n",
      "Speaker Validating Correct: 44/107 \n",
      "Speaker Validating Accuracy: 41.12150%\n",
      "\n",
      "Current Fold: 4 | Epoch: 73\n"
     ]
    },
    {
     "name": "stdout",
     "output_type": "stream",
     "text": [
      "Emotion Training Correct: 217/320 \n",
      "Emotion Training Accuracy: 67.81250%\n",
      "Speaker Training Correct: 0/320 \n",
      "Speaker Training Accuracy: 0.00000%\n"
     ]
    },
    {
     "name": "stdout",
     "output_type": "stream",
     "text": [
      "\n",
      "Emotion Validating Correct: 60/107 \n",
      "Emotion Validating Accuracy: 56.07477%\n",
      "Speaker Validating Correct: 51/107 \n",
      "Speaker Validating Accuracy: 47.66355%\n",
      "\n",
      "Current Fold: 4 | Epoch: 74\n"
     ]
    },
    {
     "name": "stdout",
     "output_type": "stream",
     "text": [
      "Emotion Training Correct: 201/320 \n",
      "Emotion Training Accuracy: 62.81250%\n",
      "Speaker Training Correct: 0/320 \n",
      "Speaker Training Accuracy: 0.00000%\n"
     ]
    },
    {
     "name": "stdout",
     "output_type": "stream",
     "text": [
      "\n",
      "Emotion Validating Correct: 59/107 \n",
      "Emotion Validating Accuracy: 55.14019%\n",
      "Speaker Validating Correct: 53/107 \n",
      "Speaker Validating Accuracy: 49.53271%\n",
      "\n",
      "Current Fold: 4 | Epoch: 75\n"
     ]
    },
    {
     "name": "stdout",
     "output_type": "stream",
     "text": [
      "Emotion Training Correct: 210/320 \n",
      "Emotion Training Accuracy: 65.62500%\n",
      "Speaker Training Correct: 0/320 \n",
      "Speaker Training Accuracy: 0.00000%\n"
     ]
    },
    {
     "name": "stdout",
     "output_type": "stream",
     "text": [
      "\n",
      "Emotion Validating Correct: 60/107 \n",
      "Emotion Validating Accuracy: 56.07477%\n",
      "Speaker Validating Correct: 58/107 \n",
      "Speaker Validating Accuracy: 54.20561%\n",
      "\n",
      "Current Fold: 4 | Epoch: 76\n"
     ]
    },
    {
     "name": "stdout",
     "output_type": "stream",
     "text": [
      "Emotion Training Correct: 201/320 \n",
      "Emotion Training Accuracy: 62.81250%\n",
      "Speaker Training Correct: 0/320 \n",
      "Speaker Training Accuracy: 0.00000%\n"
     ]
    },
    {
     "name": "stdout",
     "output_type": "stream",
     "text": [
      "\n",
      "Emotion Validating Correct: 55/107 \n",
      "Emotion Validating Accuracy: 51.40187%\n",
      "Speaker Validating Correct: 53/107 \n",
      "Speaker Validating Accuracy: 49.53271%\n",
      "\n",
      "Current Fold: 4 | Epoch: 77\n"
     ]
    },
    {
     "name": "stdout",
     "output_type": "stream",
     "text": [
      "Emotion Training Correct: 207/320 \n",
      "Emotion Training Accuracy: 64.68750%\n",
      "Speaker Training Correct: 0/320 \n",
      "Speaker Training Accuracy: 0.00000%\n"
     ]
    },
    {
     "name": "stdout",
     "output_type": "stream",
     "text": [
      "\n",
      "Emotion Validating Correct: 60/107 \n",
      "Emotion Validating Accuracy: 56.07477%\n",
      "Speaker Validating Correct: 51/107 \n",
      "Speaker Validating Accuracy: 47.66355%\n",
      "\n",
      "Current Fold: 4 | Epoch: 78\n"
     ]
    },
    {
     "name": "stdout",
     "output_type": "stream",
     "text": [
      "Emotion Training Correct: 215/320 \n",
      "Emotion Training Accuracy: 67.18750%\n",
      "Speaker Training Correct: 0/320 \n",
      "Speaker Training Accuracy: 0.00000%\n"
     ]
    },
    {
     "name": "stdout",
     "output_type": "stream",
     "text": [
      "\n",
      "Emotion Validating Correct: 60/107 \n",
      "Emotion Validating Accuracy: 56.07477%\n",
      "Speaker Validating Correct: 48/107 \n",
      "Speaker Validating Accuracy: 44.85981%\n",
      "\n",
      "Current Fold: 4 | Epoch: 79\n"
     ]
    },
    {
     "name": "stdout",
     "output_type": "stream",
     "text": [
      "Emotion Training Correct: 234/320 \n",
      "Emotion Training Accuracy: 73.12500%\n",
      "Speaker Training Correct: 0/320 \n",
      "Speaker Training Accuracy: 0.00000%\n"
     ]
    },
    {
     "name": "stdout",
     "output_type": "stream",
     "text": [
      "\n",
      "Emotion Validating Correct: 62/107 \n",
      "Emotion Validating Accuracy: 57.94393%\n",
      "Speaker Validating Correct: 54/107 \n",
      "Speaker Validating Accuracy: 50.46729%\n",
      "\n",
      "Current Fold: 4 | Epoch: 80\n"
     ]
    },
    {
     "name": "stdout",
     "output_type": "stream",
     "text": [
      "Emotion Training Correct: 224/320 \n",
      "Emotion Training Accuracy: 70.00000%\n",
      "Speaker Training Correct: 0/320 \n",
      "Speaker Training Accuracy: 0.00000%\n"
     ]
    },
    {
     "name": "stdout",
     "output_type": "stream",
     "text": [
      "\n",
      "Emotion Validating Correct: 58/107 \n",
      "Emotion Validating Accuracy: 54.20561%\n",
      "Speaker Validating Correct: 52/107 \n",
      "Speaker Validating Accuracy: 48.59813%\n",
      "\n",
      "Current Fold: 4 | Epoch: 81\n"
     ]
    },
    {
     "name": "stdout",
     "output_type": "stream",
     "text": [
      "Emotion Training Correct: 232/320 \n",
      "Emotion Training Accuracy: 72.50000%\n",
      "Speaker Training Correct: 0/320 \n",
      "Speaker Training Accuracy: 0.00000%\n"
     ]
    },
    {
     "name": "stdout",
     "output_type": "stream",
     "text": [
      "\n",
      "Emotion Validating Correct: 66/107 \n",
      "Emotion Validating Accuracy: 61.68224%\n",
      "Speaker Validating Correct: 53/107 \n",
      "Speaker Validating Accuracy: 49.53271%\n",
      "Models' parameters and optimisers' parameters saved.\n",
      "\n",
      "Current Fold: 4 | Epoch: 82\n"
     ]
    },
    {
     "name": "stdout",
     "output_type": "stream",
     "text": [
      "Emotion Training Correct: 219/320 \n",
      "Emotion Training Accuracy: 68.43750%\n",
      "Speaker Training Correct: 0/320 \n",
      "Speaker Training Accuracy: 0.00000%\n"
     ]
    },
    {
     "name": "stdout",
     "output_type": "stream",
     "text": [
      "\n",
      "Emotion Validating Correct: 61/107 \n",
      "Emotion Validating Accuracy: 57.00935%\n",
      "Speaker Validating Correct: 52/107 \n",
      "Speaker Validating Accuracy: 48.59813%\n",
      "\n",
      "Current Fold: 4 | Epoch: 83\n"
     ]
    },
    {
     "name": "stdout",
     "output_type": "stream",
     "text": [
      "Emotion Training Correct: 228/320 \n",
      "Emotion Training Accuracy: 71.25000%\n",
      "Speaker Training Correct: 0/320 \n",
      "Speaker Training Accuracy: 0.00000%\n"
     ]
    },
    {
     "name": "stdout",
     "output_type": "stream",
     "text": [
      "\n",
      "Emotion Validating Correct: 66/107 \n",
      "Emotion Validating Accuracy: 61.68224%\n",
      "Speaker Validating Correct: 49/107 \n",
      "Speaker Validating Accuracy: 45.79439%\n",
      "Models' parameters and optimisers' parameters saved.\n",
      "\n",
      "Current Fold: 4 | Epoch: 84\n"
     ]
    },
    {
     "name": "stdout",
     "output_type": "stream",
     "text": [
      "Emotion Training Correct: 239/320 \n",
      "Emotion Training Accuracy: 74.68750%\n",
      "Speaker Training Correct: 0/320 \n",
      "Speaker Training Accuracy: 0.00000%\n"
     ]
    },
    {
     "name": "stdout",
     "output_type": "stream",
     "text": [
      "\n",
      "Emotion Validating Correct: 59/107 \n",
      "Emotion Validating Accuracy: 55.14019%\n",
      "Speaker Validating Correct: 51/107 \n",
      "Speaker Validating Accuracy: 47.66355%\n",
      "\n",
      "Current Fold: 4 | Epoch: 85\n"
     ]
    },
    {
     "name": "stdout",
     "output_type": "stream",
     "text": [
      "Emotion Training Correct: 231/320 \n",
      "Emotion Training Accuracy: 72.18750%\n",
      "Speaker Training Correct: 0/320 \n",
      "Speaker Training Accuracy: 0.00000%\n"
     ]
    },
    {
     "name": "stdout",
     "output_type": "stream",
     "text": [
      "\n",
      "Emotion Validating Correct: 58/107 \n",
      "Emotion Validating Accuracy: 54.20561%\n",
      "Speaker Validating Correct: 51/107 \n",
      "Speaker Validating Accuracy: 47.66355%\n",
      "\n",
      "Current Fold: 4 | Epoch: 86\n"
     ]
    },
    {
     "name": "stdout",
     "output_type": "stream",
     "text": [
      "Emotion Training Correct: 236/320 \n",
      "Emotion Training Accuracy: 73.75000%\n",
      "Speaker Training Correct: 0/320 \n",
      "Speaker Training Accuracy: 0.00000%\n"
     ]
    },
    {
     "name": "stdout",
     "output_type": "stream",
     "text": [
      "\n",
      "Emotion Validating Correct: 56/107 \n",
      "Emotion Validating Accuracy: 52.33645%\n",
      "Speaker Validating Correct: 52/107 \n",
      "Speaker Validating Accuracy: 48.59813%\n",
      "\n",
      "Current Fold: 4 | Epoch: 87\n"
     ]
    },
    {
     "name": "stdout",
     "output_type": "stream",
     "text": [
      "Emotion Training Correct: 228/320 \n",
      "Emotion Training Accuracy: 71.25000%\n",
      "Speaker Training Correct: 0/320 \n",
      "Speaker Training Accuracy: 0.00000%\n"
     ]
    },
    {
     "name": "stdout",
     "output_type": "stream",
     "text": [
      "\n",
      "Emotion Validating Correct: 62/107 \n",
      "Emotion Validating Accuracy: 57.94393%\n",
      "Speaker Validating Correct: 53/107 \n",
      "Speaker Validating Accuracy: 49.53271%\n",
      "\n",
      "Current Fold: 4 | Epoch: 88\n"
     ]
    },
    {
     "name": "stdout",
     "output_type": "stream",
     "text": [
      "Emotion Training Correct: 218/320 \n",
      "Emotion Training Accuracy: 68.12500%\n",
      "Speaker Training Correct: 0/320 \n",
      "Speaker Training Accuracy: 0.00000%\n"
     ]
    },
    {
     "name": "stdout",
     "output_type": "stream",
     "text": [
      "\n",
      "Emotion Validating Correct: 58/107 \n",
      "Emotion Validating Accuracy: 54.20561%\n",
      "Speaker Validating Correct: 49/107 \n",
      "Speaker Validating Accuracy: 45.79439%\n",
      "\n",
      "Current Fold: 4 | Epoch: 89\n"
     ]
    },
    {
     "name": "stdout",
     "output_type": "stream",
     "text": [
      "Emotion Training Correct: 208/320 \n",
      "Emotion Training Accuracy: 65.00000%\n",
      "Speaker Training Correct: 0/320 \n",
      "Speaker Training Accuracy: 0.00000%\n"
     ]
    },
    {
     "name": "stdout",
     "output_type": "stream",
     "text": [
      "\n",
      "Emotion Validating Correct: 55/107 \n",
      "Emotion Validating Accuracy: 51.40187%\n",
      "Speaker Validating Correct: 50/107 \n",
      "Speaker Validating Accuracy: 46.72897%\n",
      "\n",
      "Current Fold: 4 | Epoch: 90\n"
     ]
    },
    {
     "name": "stdout",
     "output_type": "stream",
     "text": [
      "Emotion Training Correct: 234/320 \n",
      "Emotion Training Accuracy: 73.12500%\n",
      "Speaker Training Correct: 0/320 \n",
      "Speaker Training Accuracy: 0.00000%\n"
     ]
    },
    {
     "name": "stdout",
     "output_type": "stream",
     "text": [
      "\n",
      "Emotion Validating Correct: 53/107 \n",
      "Emotion Validating Accuracy: 49.53271%\n",
      "Speaker Validating Correct: 50/107 \n",
      "Speaker Validating Accuracy: 46.72897%\n",
      "\n",
      "Current Fold: 4 | Epoch: 91\n"
     ]
    },
    {
     "name": "stdout",
     "output_type": "stream",
     "text": [
      "Emotion Training Correct: 237/320 \n",
      "Emotion Training Accuracy: 74.06250%\n",
      "Speaker Training Correct: 0/320 \n",
      "Speaker Training Accuracy: 0.00000%\n"
     ]
    },
    {
     "name": "stdout",
     "output_type": "stream",
     "text": [
      "\n",
      "Emotion Validating Correct: 59/107 \n",
      "Emotion Validating Accuracy: 55.14019%\n",
      "Speaker Validating Correct: 50/107 \n",
      "Speaker Validating Accuracy: 46.72897%\n",
      "\n",
      "Current Fold: 4 | Epoch: 92\n"
     ]
    },
    {
     "name": "stdout",
     "output_type": "stream",
     "text": [
      "Emotion Training Correct: 225/320 \n",
      "Emotion Training Accuracy: 70.31250%\n",
      "Speaker Training Correct: 0/320 \n",
      "Speaker Training Accuracy: 0.00000%\n"
     ]
    },
    {
     "name": "stdout",
     "output_type": "stream",
     "text": [
      "\n",
      "Emotion Validating Correct: 59/107 \n",
      "Emotion Validating Accuracy: 55.14019%\n",
      "Speaker Validating Correct: 50/107 \n",
      "Speaker Validating Accuracy: 46.72897%\n",
      "\n",
      "Current Fold: 4 | Epoch: 93\n"
     ]
    },
    {
     "name": "stdout",
     "output_type": "stream",
     "text": [
      "Emotion Training Correct: 232/320 \n",
      "Emotion Training Accuracy: 72.50000%\n",
      "Speaker Training Correct: 0/320 \n",
      "Speaker Training Accuracy: 0.00000%\n"
     ]
    },
    {
     "name": "stdout",
     "output_type": "stream",
     "text": [
      "\n",
      "Emotion Validating Correct: 61/107 \n",
      "Emotion Validating Accuracy: 57.00935%\n",
      "Speaker Validating Correct: 52/107 \n",
      "Speaker Validating Accuracy: 48.59813%\n",
      "\n",
      "Current Fold: 4 | Epoch: 94\n"
     ]
    },
    {
     "name": "stdout",
     "output_type": "stream",
     "text": [
      "Emotion Training Correct: 217/320 \n",
      "Emotion Training Accuracy: 67.81250%\n",
      "Speaker Training Correct: 0/320 \n",
      "Speaker Training Accuracy: 0.00000%\n"
     ]
    },
    {
     "name": "stdout",
     "output_type": "stream",
     "text": [
      "\n",
      "Emotion Validating Correct: 55/107 \n",
      "Emotion Validating Accuracy: 51.40187%\n",
      "Speaker Validating Correct: 53/107 \n",
      "Speaker Validating Accuracy: 49.53271%\n",
      "\n",
      "Current Fold: 4 | Epoch: 95\n"
     ]
    },
    {
     "name": "stdout",
     "output_type": "stream",
     "text": [
      "Emotion Training Correct: 228/320 \n",
      "Emotion Training Accuracy: 71.25000%\n",
      "Speaker Training Correct: 0/320 \n",
      "Speaker Training Accuracy: 0.00000%\n"
     ]
    },
    {
     "name": "stdout",
     "output_type": "stream",
     "text": [
      "\n",
      "Emotion Validating Correct: 59/107 \n",
      "Emotion Validating Accuracy: 55.14019%\n",
      "Speaker Validating Correct: 50/107 \n",
      "Speaker Validating Accuracy: 46.72897%\n",
      "\n",
      "Current Fold: 4 | Epoch: 96\n"
     ]
    },
    {
     "name": "stdout",
     "output_type": "stream",
     "text": [
      "Emotion Training Correct: 236/320 \n",
      "Emotion Training Accuracy: 73.75000%\n",
      "Speaker Training Correct: 0/320 \n",
      "Speaker Training Accuracy: 0.00000%\n"
     ]
    },
    {
     "name": "stdout",
     "output_type": "stream",
     "text": [
      "\n",
      "Emotion Validating Correct: 63/107 \n",
      "Emotion Validating Accuracy: 58.87850%\n",
      "Speaker Validating Correct: 49/107 \n",
      "Speaker Validating Accuracy: 45.79439%\n",
      "\n",
      "Current Fold: 4 | Epoch: 97\n"
     ]
    },
    {
     "name": "stdout",
     "output_type": "stream",
     "text": [
      "Emotion Training Correct: 237/320 \n",
      "Emotion Training Accuracy: 74.06250%\n",
      "Speaker Training Correct: 0/320 \n",
      "Speaker Training Accuracy: 0.00000%\n"
     ]
    },
    {
     "name": "stdout",
     "output_type": "stream",
     "text": [
      "\n",
      "Emotion Validating Correct: 65/107 \n",
      "Emotion Validating Accuracy: 60.74766%\n",
      "Speaker Validating Correct: 56/107 \n",
      "Speaker Validating Accuracy: 52.33645%\n",
      "\n",
      "Current Fold: 4 | Epoch: 98\n"
     ]
    },
    {
     "name": "stdout",
     "output_type": "stream",
     "text": [
      "Emotion Training Correct: 234/320 \n",
      "Emotion Training Accuracy: 73.12500%\n",
      "Speaker Training Correct: 0/320 \n",
      "Speaker Training Accuracy: 0.00000%\n"
     ]
    },
    {
     "name": "stdout",
     "output_type": "stream",
     "text": [
      "\n",
      "Emotion Validating Correct: 59/107 \n",
      "Emotion Validating Accuracy: 55.14019%\n",
      "Speaker Validating Correct: 38/107 \n",
      "Speaker Validating Accuracy: 35.51402%\n",
      "\n",
      "Current Fold: 4 | Epoch: 99\n"
     ]
    },
    {
     "name": "stdout",
     "output_type": "stream",
     "text": [
      "Emotion Training Correct: 190/320 \n",
      "Emotion Training Accuracy: 59.37500%\n",
      "Speaker Training Correct: 0/320 \n",
      "Speaker Training Accuracy: 0.00000%\n"
     ]
    },
    {
     "name": "stdout",
     "output_type": "stream",
     "text": [
      "\n",
      "Emotion Validating Correct: 56/107 \n",
      "Emotion Validating Accuracy: 52.33645%\n",
      "Speaker Validating Correct: 34/107 \n",
      "Speaker Validating Accuracy: 31.77570%\n"
     ]
    }
   ],
   "source": [
    "import warnings\n",
    "warnings.filterwarnings('ignore')\n",
    "import torch.optim as optim\n",
    "import pylab as plt\n",
    "\n",
    "# Read this to understand how GRL works: \n",
    "# https://christineai.blog/category/domain-adaptation/\n",
    "\n",
    "FOLDS = 5\n",
    "EPOCHS = 100\n",
    "\n",
    "############### To comment this section out if disrupted #############\n",
    "fold_emotion_class_losses = np.zeros((FOLDS,EPOCHS))\n",
    "fold_emotion_training_accuracies = np.zeros((FOLDS,EPOCHS))\n",
    "fold_emotion_validating_accuracies = np.zeros((FOLDS,EPOCHS))\n",
    "fold_speaker_class_losses = np.zeros((FOLDS,EPOCHS))\n",
    "fold_speaker_training_accuracies = np.zeros((FOLDS,EPOCHS))\n",
    "fold_speaker_validating_accuracies = np.zeros((FOLDS,EPOCHS))\n",
    "\n",
    "\n",
    "######### To uncomment if trying to continue disrupted training ######\n",
    "# fold_emotion_class_losses, fold_emotion_training_accuracies, fold_emotion_validating_accuracies， fold_speaker_class_losses，fold_speaker_training_accuracies，fold_speaker_validating_accuracies= np.load(NPARR_PATH)\n",
    "\n",
    "###################################################################\n",
    "\n",
    "# 5-fold cross validation\n",
    "for fold in range(0,FOLDS):\n",
    "\n",
    "    # Selecting CPU or GPU\n",
    "    DEVICE = torch.device(\"cuda\" if torch.cuda.is_available() else \"cpu\")\n",
    "    # DEVICE = torch.device(\"cpu\")\n",
    "\n",
    "    # Selecting the type of encoder, label classifier\n",
    "    encoder = FeatureExtractor().to(DEVICE).train()\n",
    "    emotion_classifier = EmotionClassifier().to(DEVICE).train()\n",
    "    speaker_classifier = SpeakerClassifier().to(DEVICE).train()\n",
    "    \n",
    "#     encoder = nn.DataParallel(encoder)\n",
    "#     emotion_classifier = nn.DataParallel(emotion_classifier)\n",
    "#     speaker_classifier = nn.DataParallel(speaker_classifier)\n",
    "\n",
    "    # Optimizer \n",
    "    encoder_optimizer = torch.optim.Adam(encoder.parameters())\n",
    "    emotion_optimizer = torch.optim.Adam(emotion_classifier.parameters())\n",
    "    speaker_optimizer = torch.optim.Adam(speaker_classifier.parameters())\n",
    "\n",
    "    cross_entropy_loss = nn.CrossEntropyLoss().to(DEVICE)\n",
    "    \n",
    "    emodb_dataset_train = EmoDBDataset2(ROOT,cv_index = fold ,split= 'train')\n",
    "    emodb_dataset_test = EmoDBDataset2(ROOT,cv_index = fold, split= 'test')\n",
    "    emodb_dataset_validate = EmoDBDataset2(ROOT ,cv_index = fold, split= 'validate')\n",
    "    \n",
    "    # DANN should be trained on labelled data from the source domain and unlabelled data from the target domain\n",
    "    TRAIN_BATCH_SIZE = 32\n",
    "    emodb_train_loader = DataLoader(dataset=emodb_dataset_train, batch_size= TRAIN_BATCH_SIZE, shuffle=True, drop_last=True,worker_init_fn=np.random.seed(42),num_workers=4, pin_memory= True)\n",
    "    \n",
    "    # For evaluation purposes\n",
    "    VALIDATE_BATCH_SIZE = len(emodb_dataset_validate)\n",
    "    emodb_validate_loader = DataLoader(dataset=emodb_dataset_validate, batch_size= VALIDATE_BATCH_SIZE, shuffle=True, drop_last=False,worker_init_fn=np.random.seed(42),num_workers=4, pin_memory= True)\n",
    "    \n",
    "    epoch_emotion_class_losses = []\n",
    "    emotion_training_accuracies = []\n",
    "    emotion_validating_accuracies = []\n",
    "\n",
    "    epoch_speaker_class_losses = []\n",
    "    speaker_training_accuracies = []\n",
    "    speaker_validating_accuracies = []\n",
    "\n",
    "    STEP = 0\n",
    "    for epoch in range(EPOCHS):\n",
    "        print(\"\\nCurrent Fold: {} | Epoch: {}\".format(fold, epoch))\n",
    "\n",
    "        completed_start_steps = epoch * len(emodb_train_loader)\n",
    "        total_steps = EPOCHS * len(emodb_train_loader)\n",
    "\n",
    "        batch_emotion_class_losses = []\n",
    "        batch_speaker_class_losses = []\n",
    "\n",
    "\n",
    "        for batch_idx, (feature, emotion, speaker) in enumerate(emodb_train_loader):\n",
    "\n",
    "            # Assigned to DEVICE. \n",
    "            features, emotion, speaker = feature.to(DEVICE),emotion.to(DEVICE), speaker.to(DEVICE)\n",
    "            \n",
    "            # Computing the training progress\n",
    "            p = (batch_idx + completed_start_steps) / total_steps\n",
    "            lambda_p = domain_adaptation_parameter(p)\n",
    "\n",
    "            # Calculate speaker and emotion classification prediction \n",
    "            conv_features = encoder(features)\n",
    "            emotion_preds = emotion_classifier(conv_features)\n",
    "            emotion_class_loss = cross_entropy_loss(emotion_preds, emotion)\n",
    "            speaker_preds = speaker_classifier(conv_features)\n",
    "            speaker_class_loss = cross_entropy_loss(speaker_preds, speaker)\n",
    "\n",
    "            # Calculate total loss\n",
    "            total_loss = emotion_class_loss - lambda_p * speaker_class_loss \n",
    "\n",
    "            # Clear the gradient to prevent gradient accumulation\n",
    "            encoder.zero_grad(set_to_none= True)\n",
    "            emotion_classifier.zero_grad(set_to_none= True)\n",
    "            speaker_classifier.zero_grad(set_to_none= True)\n",
    "\n",
    "            # Computing the gradient\n",
    "            total_loss.backward()\n",
    "\n",
    "            # Update the weight\n",
    "            emotion_optimizer.step()\n",
    "            speaker_optimizer.step()\n",
    "            encoder_optimizer.step()\n",
    "\n",
    "            batch_emotion_class_losses.append(emotion_class_loss.detach())\n",
    "            batch_speaker_class_losses.append(speaker_class_loss.detach())\n",
    "\n",
    "\n",
    "        # Enter evaluation mode at the end of each epoch\n",
    "        encoder.eval()\n",
    "        emotion_classifier.eval()\n",
    "        speaker_classifier.eval()\n",
    "\n",
    "        emotion_training_correct, emotion_validating_correct, speaker_training_correct, speaker_validating_correct = 0 , 0 , 0 , 0\n",
    "\n",
    "        with torch.no_grad():\n",
    "\n",
    "        # 1. Training Classification\n",
    "          for index, (features, emotion, speaker) in enumerate(emodb_train_loader):\n",
    "            features, emotion, speaker = features.to(DEVICE),emotion.to(DEVICE), speaker.to(DEVICE) \n",
    "            conv_features = encoder(features)\n",
    "            emotion_output = emotion_classifier(conv_features)\n",
    "            speaker_output = speaker_classifier(conv_features)\n",
    "            _, emotion_preds = torch.max(emotion_output,1)\n",
    "            _, speaker_preds = torch.max(speaker_output,1)\n",
    "            emotion_training_correct += (emotion_preds == emotion).sum() \n",
    "            speaker_training_correct += (speaker_preds == speaker).sum() \n",
    "          #source_accuracy = torch.true_divide(source_correct, len(svhn_test_loader.dataset))\n",
    "          emotion_training_accuracy = emotion_training_correct.item()/(len(emodb_train_loader)*TRAIN_BATCH_SIZE)\n",
    "          emotion_training_accuracies.append(emotion_training_accuracy)\n",
    "          speaker_training_accuracy = speaker_training_correct.item()/(len(emodb_train_loader)*TRAIN_BATCH_SIZE)\n",
    "          speaker_training_accuracies.append(speaker_training_accuracy)\n",
    "          print(\"Emotion Training Correct: {}/{} \\nEmotion Training Accuracy: {:.5f}%\".format(emotion_training_correct,(len(emodb_train_loader)*TRAIN_BATCH_SIZE),emotion_training_accuracy*100))\n",
    "          print(\"Speaker Training Correct: {}/{} \\nSpeaker Training Accuracy: {:.5f}%\".format(speaker_training_correct,(len(emodb_train_loader)*TRAIN_BATCH_SIZE),speaker_training_accuracy*100))\n",
    "\n",
    "        # 2. Validating Classification\n",
    "          for index, (features, emotion, speaker) in enumerate(emodb_validate_loader):\n",
    "            features, emotion, speaker = features.to(DEVICE),emotion.to(DEVICE), speaker.to(DEVICE) \n",
    "            conv_features = encoder(features)\n",
    "            emotion_output = emotion_classifier(conv_features)\n",
    "            speaker_output = speaker_classifier(conv_features)\n",
    "            _, emotion_preds = torch.max(emotion_output,1)\n",
    "            _, speaker_preds = torch.max(speaker_output,1)\n",
    "            emotion_validating_correct += (emotion_preds == emotion).sum() \n",
    "            speaker_validating_correct += (speaker_preds == speaker).sum() \n",
    "          #source_accuracy = torch.true_divide(source_correct, len(svhn_test_loader.dataset))\n",
    "          emotion_validating_accuracy = emotion_validating_correct.item()/(len(emodb_validate_loader)*VALIDATE_BATCH_SIZE)\n",
    "          emotion_validating_accuracies.append(emotion_validating_accuracy)\n",
    "          speaker_validating_accuracy = speaker_validating_correct.item()/(len(emodb_validate_loader)*VALIDATE_BATCH_SIZE)\n",
    "          speaker_validating_accuracies.append(speaker_validating_accuracy)\n",
    "          print(\"\\nEmotion Validating Correct: {}/{} \\nEmotion Validating Accuracy: {:.5f}%\".format(emotion_validating_correct,(len(emodb_validate_loader)*VALIDATE_BATCH_SIZE),emotion_validating_accuracy*100))\n",
    "          print(\"Speaker Validating Correct: {}/{} \\nSpeaker Validating Accuracy: {:.5f}%\".format(speaker_validating_correct,(len(emodb_validate_loader)*VALIDATE_BATCH_SIZE),speaker_validating_accuracy*100))\n",
    "\n",
    "          if (len(emotion_validating_accuracies)> 1 and emotion_validating_accuracy >= max(emotion_validating_accuracies[:-1])):\n",
    "                save_parameters(MODEL_PATH + 'fold' + str(fold))\n",
    "\n",
    "\n",
    "        encoder.train()\n",
    "        emotion_classifier.train()\n",
    "        speaker_classifier.train()\n",
    "\n",
    "\n",
    "        epoch_emotion_class_loss = torch.mean(torch.stack(batch_emotion_class_losses), dim=0)\n",
    "        epoch_emotion_class_losses.append(epoch_emotion_class_loss)\n",
    "        epoch_speaker_class_loss = torch.mean(torch.stack(batch_speaker_class_losses), dim=0)\n",
    "        epoch_speaker_class_losses.append(epoch_speaker_class_loss)\n",
    "        \n",
    "    fold_emotion_class_losses[fold] = epoch_emotion_class_losses\n",
    "    fold_emotion_training_accuracies[fold] = emotion_training_accuracies\n",
    "    fold_emotion_validating_accuracies[fold] = emotion_validating_accuracies\n",
    "    fold_speaker_class_losses[fold] = epoch_speaker_class_losses\n",
    "    fold_speaker_training_accuracies[fold] = speaker_training_accuracies\n",
    "    fold_speaker_validating_accuracies[fold] = speaker_validating_accuracies\n",
    "    \n",
    "    save_accuracies_and_losses(NPARR_PATH)\n",
    "    \n",
    "    \n",
    "    \n"
   ]
  },
  {
   "cell_type": "code",
   "execution_count": 14,
   "id": "going-xerox",
   "metadata": {
    "execution": {
     "iopub.execute_input": "2021-03-12T15:15:02.408322Z",
     "iopub.status.busy": "2021-03-12T15:15:02.406102Z",
     "iopub.status.idle": "2021-03-12T15:15:02.683144Z",
     "shell.execute_reply": "2021-03-12T15:15:02.683497Z"
    },
    "papermill": {
     "duration": 0.549544,
     "end_time": "2021-03-12T15:15:02.683634",
     "exception": false,
     "start_time": "2021-03-12T15:15:02.134090",
     "status": "completed"
    },
    "tags": []
   },
   "outputs": [
    {
     "data": {
      "image/png": "[encoded data removed]",
      "text/plain": [
       "<Figure size 1440x360 with 1 Axes>"
      ]
     },
     "metadata": {
      "needs_background": "light"
     },
     "output_type": "display_data"
    }
   ],
   "source": [
    "plt.figure(figsize=(20,5))\n",
    "plt.title('Losses vs. epochs')\n",
    "plt.xlabel('epochs')\n",
    "plt.ylabel('Losses')\n",
    "\n",
    "for i in range(FOLDS):\n",
    "    plt.plot(range(EPOCHS), fold_emotion_class_losses[i],label='emotion classification loss fold {}'.format(i))\n",
    "    plt.plot(range(EPOCHS), fold_speaker_class_losses[i],label='speaker classification loss fold {}'.format(i))\n",
    "\n",
    "plt.legend(loc='best')\n",
    "plt.show() "
   ]
  },
  {
   "cell_type": "code",
   "execution_count": 15,
   "id": "backed-mission",
   "metadata": {
    "execution": {
     "iopub.execute_input": "2021-03-12T15:15:03.225782Z",
     "iopub.status.busy": "2021-03-12T15:15:03.224963Z",
     "iopub.status.idle": "2021-03-12T15:15:03.227515Z",
     "shell.execute_reply": "2021-03-12T15:15:03.228094Z"
    },
    "papermill": {
     "duration": 0.26287,
     "end_time": "2021-03-12T15:15:03.228294",
     "exception": false,
     "start_time": "2021-03-12T15:15:02.965424",
     "status": "completed"
    },
    "tags": []
   },
   "outputs": [],
   "source": [
    "def plot_accuracies_vs_epochs(fold):\n",
    "    plt.figure(figsize=(20,5))\n",
    "    plt.title('Accuracies vs. epochs')\n",
    "    plt.xlabel('epochs')\n",
    "    plt.ylabel('Losses')\n",
    "    plt.plot(range(EPOCHS), fold_emotion_training_accuracies[fold],label='emotion_training_accuracies fold {}'.format(fold))\n",
    "    plt.plot(range(EPOCHS), fold_emotion_validating_accuracies[fold],label='emotion_validating_accuracies fold {}'.format(fold))\n",
    "    plt.plot(range(EPOCHS), fold_speaker_training_accuracies[fold],label='speaker_training_accuracies fold {}'.format(fold))\n",
    "    plt.plot(range(EPOCHS), fold_speaker_validating_accuracies[fold],label='speaker_validating_accuracies fold {}'.format(fold))\n",
    "    plt.legend(loc='best')\n",
    "    plt.show() \n",
    "    print(\"Maximum emotion training accuracy:{:.2f}%\".format(max(fold_emotion_training_accuracies[fold])*100))\n",
    "    print(\"Maximum emotion validating accuracy:{:.2f}%\".format(max(fold_emotion_validating_accuracies[fold])*100))\n",
    "    print(\"Maximum speaker training accuracy:{:.2f}%\".format(max(fold_speaker_training_accuracies[fold])*100))\n",
    "    print(\"Maximum speaker validating accuracy:{:.2f}%\".format(max(fold_speaker_validating_accuracies[fold])*100))"
   ]
  },
  {
   "cell_type": "code",
   "execution_count": 16,
   "id": "alone-capacity",
   "metadata": {
    "execution": {
     "iopub.execute_input": "2021-03-12T15:15:03.752967Z",
     "iopub.status.busy": "2021-03-12T15:15:03.752297Z",
     "iopub.status.idle": "2021-03-12T15:15:04.805480Z",
     "shell.execute_reply": "2021-03-12T15:15:04.805830Z"
    },
    "papermill": {
     "duration": 1.289438,
     "end_time": "2021-03-12T15:15:04.805965",
     "exception": false,
     "start_time": "2021-03-12T15:15:03.516527",
     "status": "completed"
    },
    "tags": []
   },
   "outputs": [
    {
     "data": {
      "image/png": "[encoded data removed]",
      "text/plain": [
       "<Figure size 1440x360 with 1 Axes>"
      ]
     },
     "metadata": {
      "needs_background": "light"
     },
     "output_type": "display_data"
    },
    {
     "name": "stdout",
     "output_type": "stream",
     "text": [
      "Maximum emotion training accuracy:79.86%\n",
      "Maximum emotion validating accuracy:62.63%\n",
      "Maximum speaker training accuracy:0.00%\n",
      "Maximum speaker validating accuracy:49.49%\n"
     ]
    },
    {
     "data": {
      "image/png": "[encoded data removed]",
      "text/plain": [
       "<Figure size 1440x360 with 1 Axes>"
      ]
     },
     "metadata": {
      "needs_background": "light"
     },
     "output_type": "display_data"
    },
    {
     "name": "stdout",
     "output_type": "stream",
     "text": [
      "Maximum emotion training accuracy:81.25%\n",
      "Maximum emotion validating accuracy:44.44%\n",
      "Maximum speaker training accuracy:1.04%\n",
      "Maximum speaker validating accuracy:33.33%\n"
     ]
    },
    {
     "data": {
      "image/png": "[encoded data removed]",
      "text/plain": [
       "<Figure size 1440x360 with 1 Axes>"
      ]
     },
     "metadata": {
      "needs_background": "light"
     },
     "output_type": "display_data"
    },
    {
     "name": "stdout",
     "output_type": "stream",
     "text": [
      "Maximum emotion training accuracy:85.00%\n",
      "Maximum emotion validating accuracy:63.54%\n",
      "Maximum speaker training accuracy:16.25%\n",
      "Maximum speaker validating accuracy:63.54%\n"
     ]
    },
    {
     "data": {
      "image/png": "[encoded data removed]",
      "text/plain": [
       "<Figure size 1440x360 with 1 Axes>"
      ]
     },
     "metadata": {
      "needs_background": "light"
     },
     "output_type": "display_data"
    },
    {
     "name": "stdout",
     "output_type": "stream",
     "text": [
      "Maximum emotion training accuracy:75.62%\n",
      "Maximum emotion validating accuracy:66.36%\n",
      "Maximum speaker training accuracy:0.00%\n",
      "Maximum speaker validating accuracy:51.40%\n"
     ]
    },
    {
     "data": {
      "image/png": "[encoded data removed]",
      "text/plain": [
       "<Figure size 1440x360 with 1 Axes>"
      ]
     },
     "metadata": {
      "needs_background": "light"
     },
     "output_type": "display_data"
    },
    {
     "name": "stdout",
     "output_type": "stream",
     "text": [
      "Maximum emotion training accuracy:74.69%\n",
      "Maximum emotion validating accuracy:61.68%\n",
      "Maximum speaker training accuracy:12.19%\n",
      "Maximum speaker validating accuracy:57.94%\n"
     ]
    }
   ],
   "source": [
    "for i in range(FOLDS):\n",
    "    plot_accuracies_vs_epochs(i)"
   ]
  },
  {
   "cell_type": "markdown",
   "id": "miniature-exploration",
   "metadata": {
    "papermill": {
     "duration": 0.262441,
     "end_time": "2021-03-12T15:15:05.321439",
     "exception": false,
     "start_time": "2021-03-12T15:15:05.058998",
     "status": "completed"
    },
    "tags": []
   },
   "source": [
    "## 5. Loading and evaluating the model"
   ]
  },
  {
   "cell_type": "code",
   "execution_count": 17,
   "id": "level-involvement",
   "metadata": {
    "execution": {
     "iopub.execute_input": "2021-03-12T15:15:05.996973Z",
     "iopub.status.busy": "2021-03-12T15:15:05.995311Z",
     "iopub.status.idle": "2021-03-12T15:15:13.796824Z",
     "shell.execute_reply": "2021-03-12T15:15:13.797434Z"
    },
    "papermill": {
     "duration": 8.146257,
     "end_time": "2021-03-12T15:15:13.797635",
     "exception": false,
     "start_time": "2021-03-12T15:15:05.651378",
     "status": "completed"
    },
    "scrolled": false,
    "tags": []
   },
   "outputs": [
    {
     "name": "stdout",
     "output_type": "stream",
     "text": [
      "\n",
      "Evaluation for fold 0\n"
     ]
    },
    {
     "name": "stdout",
     "output_type": "stream",
     "text": [
      "\n",
      "Emotion Training Correct: 233/310 \n",
      "Emotion Training Accuracy: 75.16129%\n",
      "Speaker Training Correct: 0/310 \n",
      "Speaker Training Accuracy: 0.00000%\n"
     ]
    },
    {
     "name": "stdout",
     "output_type": "stream",
     "text": [
      "\n",
      "Emotion Validating Correct: 62/99 \n",
      "Emotion Validating Accuracy: 62.62626%\n",
      "Speaker Validating Correct: 42/99 \n",
      "Speaker Validating Accuracy: 42.42424%\n"
     ]
    },
    {
     "name": "stdout",
     "output_type": "stream",
     "text": [
      "\n",
      "Emotion Testing Correct: 55/126 \n",
      "Emotion Testing Accuracy: 43.65079%\n",
      "Speaker Testing Correct: 16/126 \n",
      "Speaker Testing Accuracy: 12.69841%\n",
      "\n",
      "Evaluation for fold 1\n"
     ]
    },
    {
     "name": "stdout",
     "output_type": "stream",
     "text": [
      "\n",
      "Emotion Training Correct: 250/313 \n",
      "Emotion Training Accuracy: 79.87220%\n",
      "Speaker Training Correct: 0/313 \n",
      "Speaker Training Accuracy: 0.00000%\n"
     ]
    },
    {
     "name": "stdout",
     "output_type": "stream",
     "text": [
      "\n",
      "Emotion Validating Correct: 56/126 \n",
      "Emotion Validating Accuracy: 44.44444%\n",
      "Speaker Validating Correct: 7/126 \n",
      "Speaker Validating Accuracy: 5.55556%\n"
     ]
    },
    {
     "name": "stdout",
     "output_type": "stream",
     "text": [
      "\n",
      "Emotion Testing Correct: 59/96 \n",
      "Emotion Testing Accuracy: 61.45833%\n",
      "Speaker Testing Correct: 19/96 \n",
      "Speaker Testing Accuracy: 19.79167%\n",
      "\n",
      "Evaluation for fold 2\n"
     ]
    },
    {
     "name": "stdout",
     "output_type": "stream",
     "text": [
      "\n",
      "Emotion Training Correct: 276/332 \n",
      "Emotion Training Accuracy: 83.13253%\n",
      "Speaker Training Correct: 0/332 \n",
      "Speaker Training Accuracy: 0.00000%\n"
     ]
    },
    {
     "name": "stdout",
     "output_type": "stream",
     "text": [
      "\n",
      "Emotion Validating Correct: 61/96 \n",
      "Emotion Validating Accuracy: 63.54167%\n",
      "Speaker Validating Correct: 44/96 \n",
      "Speaker Validating Accuracy: 45.83333%\n",
      "\n",
      "Emotion Testing Correct: 60/107 \n",
      "Emotion Testing Accuracy: 56.07477%\n",
      "Speaker Testing Correct: 13/107 \n",
      "Speaker Testing Accuracy: 12.14953%\n",
      "\n",
      "Evaluation for fold 3\n"
     ]
    },
    {
     "name": "stdout",
     "output_type": "stream",
     "text": [
      "\n",
      "Emotion Training Correct: 222/321 \n",
      "Emotion Training Accuracy: 69.15888%\n",
      "Speaker Training Correct: 0/321 \n",
      "Speaker Training Accuracy: 0.00000%\n"
     ]
    },
    {
     "name": "stdout",
     "output_type": "stream",
     "text": [
      "\n",
      "Emotion Validating Correct: 71/107 \n",
      "Emotion Validating Accuracy: 66.35514%\n",
      "Speaker Validating Correct: 28/107 \n",
      "Speaker Validating Accuracy: 26.16822%\n"
     ]
    },
    {
     "name": "stdout",
     "output_type": "stream",
     "text": [
      "\n",
      "Emotion Testing Correct: 71/107 \n",
      "Emotion Testing Accuracy: 66.35514%\n",
      "Speaker Testing Correct: 24/107 \n",
      "Speaker Testing Accuracy: 22.42991%\n",
      "\n",
      "Evaluation for fold 4\n"
     ]
    },
    {
     "name": "stdout",
     "output_type": "stream",
     "text": [
      "\n",
      "Emotion Training Correct: 235/329 \n",
      "Emotion Training Accuracy: 71.42857%\n",
      "Speaker Training Correct: 0/329 \n",
      "Speaker Training Accuracy: 0.00000%\n"
     ]
    },
    {
     "name": "stdout",
     "output_type": "stream",
     "text": [
      "\n",
      "Emotion Validating Correct: 66/107 \n",
      "Emotion Validating Accuracy: 61.68224%\n",
      "Speaker Validating Correct: 54/107 \n",
      "Speaker Validating Accuracy: 50.46729%\n"
     ]
    },
    {
     "name": "stdout",
     "output_type": "stream",
     "text": [
      "\n",
      "Emotion Testing Correct: 51/99 \n",
      "Emotion Testing Accuracy: 51.51515%\n",
      "Speaker Testing Correct: 0/99 \n",
      "Speaker Testing Accuracy: 0.00000%\n",
      "\n",
      "SUMMARY:\n",
      "\n",
      "CV Emotion Training accuracies \n",
      "Mean: 0.7575069496983007 \n",
      "S.D: 0.057870226548123946\n",
      "\n",
      "CV Emotion Validating accuracies \n",
      "Mean: 0.5972995138298877 \n",
      "S.D: 0.0872165528725865\n",
      "\n",
      "CV Emotion Testing accuracies \n",
      "Mean: 0.5581083700826691 \n",
      "S.D: 0.08795819621792476\n",
      "\n",
      "CV Speaker Training accuracies \n",
      "Mean: 0.0 \n",
      "S.D: 0.0\n",
      "\n",
      "CV Speaker Validating accuracies \n",
      "Mean: 0.34089729066364577 \n",
      "S.D: 0.1838851640811713\n",
      "\n",
      "CV Speaker Testing accuracies \n",
      "Mean: 0.13413903723483162 \n",
      "S.D: 0.08717906020840364\n"
     ]
    }
   ],
   "source": [
    "import warnings\n",
    "warnings.filterwarnings('ignore')\n",
    "from statistics import mean , stdev\n",
    "os.environ[\"CUDA_DEVICE_ORDER\"] = \"PCI_BUS_ID\"\n",
    "os.environ[\"CUDA_VISIBLE_DEVICES\"] = \"5\"\n",
    "\n",
    "lfold_emotion_training_accuracies, lfold_emotion_validating_accuracies, lfold_emotion_testing_accuracies = [] , [] , []\n",
    "lfold_speaker_training_accuracies, lfold_speaker_validating_accuracies, lfold_speaker_testing_accuracies = [] , [] , []\n",
    "\n",
    "for fold in range(5):\n",
    "    print(\"\\nEvaluation for fold {}\".format(fold))\n",
    "    checkpoint = torch.load(MODEL_PATH + 'fold' + str(fold))\n",
    "    \n",
    "    DEVICE = torch.device(\"cuda\" if torch.cuda.is_available() else \"cpu\")\n",
    "\n",
    "    encoder = FeatureExtractor().to(DEVICE).train()\n",
    "    emotion_classifier = EmotionClassifier().to(DEVICE).train()\n",
    "    speaker_classifier = SpeakerClassifier().to(DEVICE)\n",
    "\n",
    "    encoder_optimizer = torch.optim.Adam(encoder.parameters())\n",
    "    emotion_optimizer = torch.optim.Adam(emotion_classifier.parameters())\n",
    "    speaker_optimizer = torch.optim.Adam(speaker_classifier.parameters())\n",
    "    \n",
    "    encoder.load_state_dict(checkpoint['encoder_state_dict'])\n",
    "    emotion_classifier.load_state_dict(checkpoint['emotion_classifier_state_dict'])\n",
    "    speaker_classifier.load_state_dict(checkpoint['speaker_classifier_state_dict'])\n",
    "    \n",
    "    encoder_optimizer.load_state_dict(checkpoint['encoder_optimizer_state_dict'])\n",
    "    emotion_optimizer.load_state_dict(checkpoint['emotion_optimizer_state_dict'])\n",
    "    speaker_optimizer.load_state_dict(checkpoint['speaker_optimizer_state_dict'])\n",
    "    \n",
    "    emodb_dataset_train = EmoDBDataset2(ROOT,cv_index = fold ,split= 'train')\n",
    "    emodb_dataset_test = EmoDBDataset2(ROOT,cv_index = fold, split= 'test')\n",
    "    emodb_dataset_validate = EmoDBDataset2(ROOT,cv_index = fold, split= 'validate')\n",
    "    \n",
    "    TRAIN_BATCH_SIZE = len(emodb_dataset_train)\n",
    "    VALIDATE_BATCH_SIZE = len(emodb_dataset_validate)\n",
    "    TEST_BATCH_SIZE = len(emodb_dataset_test)\n",
    "    \n",
    "    emodb_train_loader = DataLoader(dataset=emodb_dataset_train, batch_size= TRAIN_BATCH_SIZE, shuffle=True, drop_last=False,worker_init_fn=np.random.seed(42),num_workers=0)\n",
    "    emodb_validate_loader = DataLoader(dataset=emodb_dataset_validate, batch_size= VALIDATE_BATCH_SIZE, shuffle=True, drop_last=False,worker_init_fn=np.random.seed(42),num_workers=0)\n",
    "    emodb_test_loader = DataLoader(dataset=emodb_dataset_test, batch_size= TEST_BATCH_SIZE, shuffle=True, drop_last=False,worker_init_fn=np.random.seed(42),num_workers=0)\n",
    "    \n",
    "    encoder.eval()\n",
    "    emotion_classifier.eval()\n",
    "\n",
    "    lemotion_training_correct, lemotion_validating_correct, lemotion_testing_correct = 0 , 0 , 0\n",
    "    lspeaker_training_correct, lspeaker_validating_correct, lspeaker_testing_correct = 0 , 0 , 0\n",
    "\n",
    "    with torch.no_grad():\n",
    "        \n",
    "\n",
    "        # 1. Training Classification\n",
    "        for index, (features, emotion, speaker) in enumerate(emodb_train_loader):\n",
    "            features, emotion, speaker = features.to(DEVICE),emotion.to(DEVICE), speaker.to(DEVICE) \n",
    "            conv_features = encoder(features)\n",
    "            emotion_output = emotion_classifier(conv_features)\n",
    "            speaker_output = speaker_classifier(conv_features)\n",
    "            _, emotion_preds = torch.max(emotion_output,1)\n",
    "            _, speaker_preds = torch.max(speaker_output,1)\n",
    "            lemotion_training_correct += (emotion_preds == emotion).sum() \n",
    "            lspeaker_training_correct += (speaker_preds == speaker).sum()\n",
    "        emotion_training_accuracy = lemotion_training_correct.item()/(len(emodb_train_loader)*TRAIN_BATCH_SIZE)\n",
    "        speaker_training_accuracy = lspeaker_training_correct.item()/(len(emodb_train_loader)*TRAIN_BATCH_SIZE)\n",
    "        print(\"\\nEmotion Training Correct: {}/{} \\nEmotion Training Accuracy: {:.5f}%\".format(lemotion_training_correct,(len(emodb_train_loader)*TRAIN_BATCH_SIZE),emotion_training_accuracy*100))\n",
    "        print(\"Speaker Training Correct: {}/{} \\nSpeaker Training Accuracy: {:.5f}%\".format(lspeaker_training_correct,(len(emodb_train_loader)*TRAIN_BATCH_SIZE),speaker_training_accuracy*100)) \n",
    "        \n",
    "        # 2. Validating Classification\n",
    "        for index, (features, emotion, speaker) in enumerate(emodb_validate_loader):\n",
    "            features, emotion, speaker = features.to(DEVICE),emotion.to(DEVICE), speaker.to(DEVICE) \n",
    "            conv_features = encoder(features)\n",
    "            emotion_output = emotion_classifier(conv_features)\n",
    "            speaker_output = speaker_classifier(conv_features)\n",
    "            _, emotion_preds = torch.max(emotion_output,1)\n",
    "            _, speaker_preds = torch.max(speaker_output,1)\n",
    "            lemotion_validating_correct += (emotion_preds == emotion).sum() \n",
    "            lspeaker_validating_correct += (speaker_preds == speaker).sum()\n",
    "        emotion_validating_accuracy = lemotion_validating_correct.item()/(len(emodb_validate_loader)*VALIDATE_BATCH_SIZE)\n",
    "        speaker_validating_accuracy = lspeaker_validating_correct.item()/(len(emodb_validate_loader)*VALIDATE_BATCH_SIZE)\n",
    "        print(\"\\nEmotion Validating Correct: {}/{} \\nEmotion Validating Accuracy: {:.5f}%\".format(lemotion_validating_correct,(len(emodb_validate_loader)*VALIDATE_BATCH_SIZE),emotion_validating_accuracy*100))\n",
    "        print(\"Speaker Validating Correct: {}/{} \\nSpeaker Validating Accuracy: {:.5f}%\".format(lspeaker_validating_correct,(len(emodb_validate_loader)*VALIDATE_BATCH_SIZE),speaker_validating_accuracy*100)) \n",
    "        \n",
    "\n",
    "        # 3. Testing Classification\n",
    "        for index, (features, emotion, speaker) in enumerate(emodb_test_loader):\n",
    "            features, emotion, speaker = features.to(DEVICE),emotion.to(DEVICE), speaker.to(DEVICE) \n",
    "            conv_features = encoder(features)\n",
    "            emotion_output = emotion_classifier(conv_features)\n",
    "            speaker_output = speaker_classifier(conv_features)\n",
    "            _, emotion_preds = torch.max(emotion_output,1)\n",
    "            _, speaker_preds = torch.max(speaker_output,1)\n",
    "            lemotion_testing_correct += (emotion_preds == emotion).sum() \n",
    "            lspeaker_testing_correct += (speaker_preds == speaker).sum()\n",
    "        emotion_testing_accuracy = lemotion_testing_correct.item()/(len(emodb_test_loader)*TEST_BATCH_SIZE)\n",
    "        speaker_testing_accuracy = lspeaker_testing_correct.item()/(len(emodb_test_loader)*TEST_BATCH_SIZE)\n",
    "        print(\"\\nEmotion Testing Correct: {}/{} \\nEmotion Testing Accuracy: {:.5f}%\".format(lemotion_testing_correct,(len(emodb_test_loader)*TEST_BATCH_SIZE),emotion_testing_accuracy*100))\n",
    "        print(\"Speaker Testing Correct: {}/{} \\nSpeaker Testing Accuracy: {:.5f}%\".format(lspeaker_testing_correct,(len(emodb_test_loader)*TEST_BATCH_SIZE),speaker_testing_accuracy*100)) \n",
    "\n",
    "        lfold_emotion_training_accuracies.append(emotion_training_accuracy)\n",
    "        lfold_emotion_validating_accuracies.append(emotion_validating_accuracy)\n",
    "        lfold_emotion_testing_accuracies.append(emotion_testing_accuracy)\n",
    "        lfold_speaker_training_accuracies.append(speaker_training_accuracy)\n",
    "        lfold_speaker_validating_accuracies.append(speaker_validating_accuracy)\n",
    "        lfold_speaker_testing_accuracies.append(speaker_testing_accuracy)\n",
    "\n",
    "print('\\nSUMMARY:')\n",
    "print('\\nCV Emotion Training accuracies \\nMean: {} \\nS.D: {}'.format(mean(lfold_emotion_training_accuracies), stdev(lfold_emotion_training_accuracies)))\n",
    "print('\\nCV Emotion Validating accuracies \\nMean: {} \\nS.D: {}'.format(mean(lfold_emotion_validating_accuracies), stdev(lfold_emotion_validating_accuracies)))\n",
    "print('\\nCV Emotion Testing accuracies \\nMean: {} \\nS.D: {}'.format(mean(lfold_emotion_testing_accuracies), stdev(lfold_emotion_testing_accuracies)))\n",
    "\n",
    "print('\\nCV Speaker Training accuracies \\nMean: {} \\nS.D: {}'.format(mean(lfold_speaker_training_accuracies), stdev(lfold_speaker_training_accuracies)))\n",
    "print('\\nCV Speaker Validating accuracies \\nMean: {} \\nS.D: {}'.format(mean(lfold_speaker_validating_accuracies), stdev(lfold_speaker_validating_accuracies)))\n",
    "print('\\nCV Speaker Testing accuracies \\nMean: {} \\nS.D: {}'.format(mean(lfold_speaker_testing_accuracies), stdev(lfold_speaker_testing_accuracies)))"
   ]
  }
 ],
 "metadata": {
  "kernelspec": {
   "display_name": "Python 3",
   "language": "python",
   "name": "python3"
  },
  "language_info": {
   "codemirror_mode": {
    "name": "ipython",
    "version": 3
   },
   "file_extension": ".py",
   "mimetype": "text/x-python",
   "name": "python",
   "nbconvert_exporter": "python",
   "pygments_lexer": "ipython3",
   "version": "3.7.9"
  },
  "papermill": {
   "default_parameters": {},
   "duration": 2434.948113,
   "end_time": "2021-03-12T15:15:16.013735",
   "environment_variables": {},
   "exception": null,
   "input_path": "[DANN] EmoDB_LMS_4L-CNN-GRU_DAP3.33.ipynb",
   "output_path": "[DANN] EmoDB_LMS_4L-CNN-GRU_DAP3.33.ipynb",
   "parameters": {},
   "start_time": "2021-03-12T14:34:41.065622",
   "version": "2.3.1"
  }
 },
 "nbformat": 4,
 "nbformat_minor": 5
}